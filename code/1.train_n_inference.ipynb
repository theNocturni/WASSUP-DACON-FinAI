{
  "cells": [
    {
      "cell_type": "code",
      "execution_count": 1,
      "metadata": {
        "colab": {
          "base_uri": "https://localhost:8080/"
        },
        "id": "L-CUvE2NhDog",
        "outputId": "ea6e90d3-6b12-4f77-e237-da572b62b7fa"
      },
      "outputs": [
        {
          "output_type": "stream",
          "name": "stdout",
          "text": [
            "Mon Oct 14 07:40:36 2024       \n",
            "+---------------------------------------------------------------------------------------+\n",
            "| NVIDIA-SMI 535.104.05             Driver Version: 535.104.05   CUDA Version: 12.2     |\n",
            "|-----------------------------------------+----------------------+----------------------+\n",
            "| GPU  Name                 Persistence-M | Bus-Id        Disp.A | Volatile Uncorr. ECC |\n",
            "| Fan  Temp   Perf          Pwr:Usage/Cap |         Memory-Usage | GPU-Util  Compute M. |\n",
            "|                                         |                      |               MIG M. |\n",
            "|=========================================+======================+======================|\n",
            "|   0  NVIDIA A100-SXM4-40GB          Off | 00000000:00:04.0 Off |                    0 |\n",
            "| N/A   29C    P0              44W / 400W |      2MiB / 40960MiB |      0%      Default |\n",
            "|                                         |                      |             Disabled |\n",
            "+-----------------------------------------+----------------------+----------------------+\n",
            "                                                                                         \n",
            "+---------------------------------------------------------------------------------------+\n",
            "| Processes:                                                                            |\n",
            "|  GPU   GI   CI        PID   Type   Process name                            GPU Memory |\n",
            "|        ID   ID                                                             Usage      |\n",
            "|=======================================================================================|\n",
            "|  No running processes found                                                           |\n",
            "+---------------------------------------------------------------------------------------+\n"
          ]
        }
      ],
      "source": [
        "!nvidia-smi"
      ]
    },
    {
      "cell_type": "code",
      "execution_count": 2,
      "metadata": {
        "id": "_ShDDV9UGJjJ"
      },
      "outputs": [],
      "source": [
        "path = '/content/drive/MyDrive/DACON/Finance/reprocessed/'\n",
        "path = '/content/drive/MyDrive/kdt-EST-AI/project/dacon_fis/src/'\n",
        "base_directory = path # Your Base Directory"
      ]
    },
    {
      "cell_type": "code",
      "execution_count": 3,
      "metadata": {
        "id": "b20VnuxgiNd4"
      },
      "outputs": [],
      "source": [
        "dataset_name = \"kdt3/DACON-QA-large-ensemble-tab_v1.0-AugGPT-256\"\n",
        "train_name = \"kdt3/DACON-QA-amber4-manual\"\n",
        "fname = \"gemma2_large_ensemble_AugGPT_3epoch.csv\""
      ]
    },
    {
      "cell_type": "markdown",
      "metadata": {
        "id": "LHsNBioph_AG"
      },
      "source": [
        "# 설명"
      ]
    },
    {
      "cell_type": "markdown",
      "metadata": {
        "id": "AFuh6k7hD47P"
      },
      "source": [
        "## Question - Answering with Retrieval\n",
        "\n",
        "본 대회의 과제는 중앙정부 재정 정보에 대한 **검색 기능**을 개선하고 활용도를 높이는 질의응답 알고리즘을 개발하는 것입니다. <br>이를 통해 방대한 재정 데이터를 일반 국민과 전문가 모두가 쉽게 접근하고 활용할 수 있도록 하는 것이 목표입니다. <br><br>\n",
        "베이스라인에서는 평가 데이터셋만을 활용하여 source pdf 마다 Vector DB를 구축한 뒤 langchain 라이브러리와 llama-2-ko-7b 모델을 사용하여 RAG 프로세스를 통해 추론하는 과정을 담고 있습니다. <br>( train_set을 활용한 훈련 과정은 포함하지 않으며, test_set  에 대한 추론만 진행합니다. )"
      ]
    },
    {
      "cell_type": "markdown",
      "metadata": {
        "id": "8S8yYYqpiRIj"
      },
      "source": [
        "## Mount/Login\n",
        "\n",
        "구글 드라이브를 마운트하고 허깅페이스에 로그인\n",
        "- 이때 허깅페이스 토큰은 kdt3 그룹에 대해 읽기/쓰기 권한이 있는 토큰이어야 함\n",
        "\n",
        "## Download Library\n",
        "필요/사용 라이브러리 다운로드\n",
        "이때 버전 문제로 설치를 한 뒤 세션을 한번 재시작해줘야 합니다\n",
        "<br>(그리고 세션 완전히 끊기면 다운로드 후 재시작을 다시 해줘야...)\n",
        "\n",
        "## Import Library\n",
        "한번 재시작했으면 위 과정 없이 Import만 실행해주면 됩니다\n",
        "\n",
        "## Vector DB\n",
        "문서를 여러 조각(chunk)로 나누고, 임베딩 유사도를 통해 관련 조각을 찾을 수 있게 DB화하는 함수들이 정의되어 있습니다.\n",
        "\n",
        "## DB 생성\n",
        "Vector DB에서 정의된 함수들로 문서 DB를 만들어줍니다.<br><br>\n",
        "이때 Train과 Test를 한번에 하려고 하면 코랩이 터질 확률이 높으므로 Train하고 Create Dataset까지 실행해 업로드 한 뒤 재시작해서 램을 비우고 Test를 하는 것이 좋습니다.<br> 또한 문서 임베딩을 어떤 모델로 할지 인자로 넘겨줄 수 있습니다\n",
        "\n",
        "## Create Dataset\n",
        "DB 생성에서 만든 db와 데이터 dataframe을 사용해 HuggingFace 데이터셋 생성 후 업로드\n",
        "\n",
        "## Fine-Tuning\n",
        "학습 데이터셋으로 모델에 대한 파인튜닝 진행 후 Huggingface에 업로드<br>\n",
        "4비트 양자화 LoRA로 파인튜닝<br>\n",
        "기반 모델 또는 넣어줄때 사용할 프롬프트, 학습 관련 하이퍼파라미터 수정 가능\n",
        "\n",
        "## Langchain 을 이용한 추론\n",
        "모델을 사용한 추론\n"
      ]
    },
    {
      "cell_type": "markdown",
      "metadata": {
        "id": "3OoRmTKDoEEg"
      },
      "source": [
        "## 실행\n",
        "### 기본\n",
        "Mount/Login -> Download Library -> 재시작 (처음 1번)\n",
        "Mount/Login -> Import Library (이후)\n",
        "\n",
        "### 데이터셋 만들기\n",
        "기본 -> Vector DB -> DB 생성 -> Create Dataset에서 첫 셀 + Train/Valid/Test 중 해당하는 셀\n",
        "\n",
        "### 모델 학습하기\n",
        "기본 -> Fine-Tuning(업로드할 위치, 데이터셋 위치, 모델 링크 확인 필수)\n",
        "\n",
        "### 학습된 모델로 추론하기\n",
        "기본 -> Langchain을 이용한 추론(모델 링크, 데이터셋 위치 확인) -> Submission(저장할 파일명 확인)"
      ]
    },
    {
      "cell_type": "markdown",
      "metadata": {
        "id": "c_CQb3rOiCHi"
      },
      "source": [
        "# Mount/Login"
      ]
    },
    {
      "cell_type": "code",
      "execution_count": 4,
      "metadata": {
        "colab": {
          "base_uri": "https://localhost:8080/"
        },
        "id": "jh2NMgNqp8Fp",
        "outputId": "1ab45ee2-1c19-4ca5-d72b-1ba57e9149cb"
      },
      "outputs": [
        {
          "output_type": "stream",
          "name": "stdout",
          "text": [
            "Drive already mounted at /content/drive; to attempt to forcibly remount, call drive.mount(\"/content/drive\", force_remount=True).\n"
          ]
        }
      ],
      "source": [
        "from google.colab import drive\n",
        "drive.mount('/content/drive')"
      ]
    },
    {
      "cell_type": "code",
      "execution_count": 5,
      "metadata": {
        "id": "oCLjeDZUNcBP"
      },
      "outputs": [],
      "source": [
        "import os\n",
        "\n",
        "token_path = os.path.join(base_directory,'data','token')\n",
        "with open(token_path,'r') as f:\n",
        "    hf_token = f.readline().strip('\\n')\n",
        "    wandb_token = f.readline().strip('\\n')"
      ]
    },
    {
      "cell_type": "code",
      "execution_count": 6,
      "metadata": {
        "colab": {
          "base_uri": "https://localhost:8080/"
        },
        "id": "i-ffQqQjdu0d",
        "outputId": "4493caf8-8bbe-40c8-b715-f9a1edbaf9ad"
      },
      "outputs": [
        {
          "output_type": "stream",
          "name": "stdout",
          "text": [
            "Token is valid (permission: fineGrained).\n",
            "Your token has been saved in your configured git credential helpers (store).\n",
            "Your token has been saved to /root/.cache/huggingface/token\n",
            "Login successful\n"
          ]
        }
      ],
      "source": [
        "from huggingface_hub import login\n",
        "\n",
        "login(token=hf_token, add_to_git_credential=True)"
      ]
    },
    {
      "cell_type": "code",
      "execution_count": 7,
      "metadata": {
        "colab": {
          "base_uri": "https://localhost:8080/"
        },
        "id": "U_NiWgYaT3tM",
        "outputId": "6af3c1f0-2c57-4e1c-e8fc-f752d92f06d7"
      },
      "outputs": [
        {
          "output_type": "stream",
          "name": "stdout",
          "text": [
            "Requirement already satisfied: wandb in /usr/local/lib/python3.10/dist-packages (0.18.3)\n",
            "Requirement already satisfied: click!=8.0.0,>=7.1 in /usr/local/lib/python3.10/dist-packages (from wandb) (8.1.7)\n",
            "Requirement already satisfied: docker-pycreds>=0.4.0 in /usr/local/lib/python3.10/dist-packages (from wandb) (0.4.0)\n",
            "Requirement already satisfied: gitpython!=3.1.29,>=1.0.0 in /usr/local/lib/python3.10/dist-packages (from wandb) (3.1.43)\n",
            "Requirement already satisfied: platformdirs in /usr/local/lib/python3.10/dist-packages (from wandb) (4.3.6)\n",
            "Requirement already satisfied: protobuf!=4.21.0,!=5.28.0,<6,>=3.19.0 in /usr/local/lib/python3.10/dist-packages (from wandb) (4.25.5)\n",
            "Requirement already satisfied: psutil>=5.0.0 in /usr/local/lib/python3.10/dist-packages (from wandb) (5.9.5)\n",
            "Requirement already satisfied: pyyaml in /usr/local/lib/python3.10/dist-packages (from wandb) (6.0.2)\n",
            "Requirement already satisfied: requests<3,>=2.0.0 in /usr/local/lib/python3.10/dist-packages (from wandb) (2.32.3)\n",
            "Requirement already satisfied: sentry-sdk>=1.0.0 in /usr/local/lib/python3.10/dist-packages (from wandb) (2.16.0)\n",
            "Requirement already satisfied: setproctitle in /usr/local/lib/python3.10/dist-packages (from wandb) (1.3.3)\n",
            "Requirement already satisfied: setuptools in /usr/local/lib/python3.10/dist-packages (from wandb) (71.0.4)\n",
            "Requirement already satisfied: six>=1.4.0 in /usr/local/lib/python3.10/dist-packages (from docker-pycreds>=0.4.0->wandb) (1.16.0)\n",
            "Requirement already satisfied: gitdb<5,>=4.0.1 in /usr/local/lib/python3.10/dist-packages (from gitpython!=3.1.29,>=1.0.0->wandb) (4.0.11)\n",
            "Requirement already satisfied: charset-normalizer<4,>=2 in /usr/local/lib/python3.10/dist-packages (from requests<3,>=2.0.0->wandb) (3.3.2)\n",
            "Requirement already satisfied: idna<4,>=2.5 in /usr/local/lib/python3.10/dist-packages (from requests<3,>=2.0.0->wandb) (3.10)\n",
            "Requirement already satisfied: urllib3<3,>=1.21.1 in /usr/local/lib/python3.10/dist-packages (from requests<3,>=2.0.0->wandb) (2.2.3)\n",
            "Requirement already satisfied: certifi>=2017.4.17 in /usr/local/lib/python3.10/dist-packages (from requests<3,>=2.0.0->wandb) (2024.8.30)\n",
            "Requirement already satisfied: smmap<6,>=3.0.1 in /usr/local/lib/python3.10/dist-packages (from gitdb<5,>=4.0.1->gitpython!=3.1.29,>=1.0.0->wandb) (5.0.1)\n"
          ]
        },
        {
          "output_type": "stream",
          "name": "stderr",
          "text": [
            "\u001b[34m\u001b[1mwandb\u001b[0m: Using wandb-core as the SDK backend. Please refer to https://wandb.me/wandb-core for more information.\n",
            "\u001b[34m\u001b[1mwandb\u001b[0m: Currently logged in as: \u001b[33mdoeun-235\u001b[0m (\u001b[33mDACON-FinAI\u001b[0m). Use \u001b[1m`wandb login --relogin`\u001b[0m to force relogin\n",
            "\u001b[34m\u001b[1mwandb\u001b[0m: \u001b[33mWARNING\u001b[0m If you're specifying your api key in code, ensure this code is not shared publicly.\n",
            "\u001b[34m\u001b[1mwandb\u001b[0m: \u001b[33mWARNING\u001b[0m Consider setting the WANDB_API_KEY environment variable, or running `wandb login` from the command line.\n",
            "\u001b[34m\u001b[1mwandb\u001b[0m: Appending key for api.wandb.ai to your netrc file: /root/.netrc\n"
          ]
        }
      ],
      "source": [
        "!pip install wandb\n",
        "import wandb\n",
        "# wandb 개인 API 키 입력\n",
        "wandb.login(key=wandb_token)\n",
        "\n",
        "import os\n",
        "\n",
        "os.environ[\"WANDB_PROJECT\"]=\"DACON_FinAI\"\n",
        "#os.environ[\"WANDB_LOG_MODEL\"] = \"checkpoint\"\n",
        "wandb_run_name=\"amber-manual4-AugGPT-gemma2-lora-large\""
      ]
    },
    {
      "cell_type": "markdown",
      "metadata": {
        "id": "dTTusGUGD47Q"
      },
      "source": [
        "# Download Library"
      ]
    },
    {
      "cell_type": "code",
      "execution_count": 8,
      "metadata": {
        "colab": {
          "base_uri": "https://localhost:8080/"
        },
        "id": "fo2XA53bD47Q",
        "outputId": "6b407557-49ee-4ab0-eb75-4a090b71f4ae"
      },
      "outputs": [
        {
          "output_type": "stream",
          "name": "stdout",
          "text": [
            "Reading package lists... Done\n",
            "Building dependency tree... Done\n",
            "Reading state information... Done\n",
            "tesseract-ocr is already the newest version (4.1.1-2.1build1).\n",
            "0 upgraded, 0 newly installed, 0 to remove and 49 not upgraded.\n",
            "Reading package lists... Done\n",
            "Building dependency tree... Done\n",
            "Reading state information... Done\n",
            "poppler-utils is already the newest version (22.02.0-2ubuntu0.5).\n",
            "0 upgraded, 0 newly installed, 0 to remove and 49 not upgraded.\n",
            "Requirement already satisfied: orjson==3.10.6 in /usr/local/lib/python3.10/dist-packages (3.10.6)\n",
            "Looking in indexes: https://pypi.org/simple/\n",
            "Requirement already satisfied: bitsandbytes in /usr/local/lib/python3.10/dist-packages (0.44.1)\n",
            "Requirement already satisfied: torch in /usr/local/lib/python3.10/dist-packages (from bitsandbytes) (2.4.1+cu121)\n",
            "Requirement already satisfied: numpy in /usr/local/lib/python3.10/dist-packages (from bitsandbytes) (1.26.4)\n",
            "Requirement already satisfied: filelock in /usr/local/lib/python3.10/dist-packages (from torch->bitsandbytes) (3.16.1)\n",
            "Requirement already satisfied: typing-extensions>=4.8.0 in /usr/local/lib/python3.10/dist-packages (from torch->bitsandbytes) (4.12.2)\n",
            "Requirement already satisfied: sympy in /usr/local/lib/python3.10/dist-packages (from torch->bitsandbytes) (1.13.3)\n",
            "Requirement already satisfied: networkx in /usr/local/lib/python3.10/dist-packages (from torch->bitsandbytes) (3.3)\n",
            "Requirement already satisfied: jinja2 in /usr/local/lib/python3.10/dist-packages (from torch->bitsandbytes) (3.1.4)\n",
            "Requirement already satisfied: fsspec in /usr/local/lib/python3.10/dist-packages (from torch->bitsandbytes) (2024.6.1)\n",
            "Requirement already satisfied: MarkupSafe>=2.0 in /usr/local/lib/python3.10/dist-packages (from jinja2->torch->bitsandbytes) (2.1.5)\n",
            "Requirement already satisfied: mpmath<1.4,>=1.1.0 in /usr/local/lib/python3.10/dist-packages (from sympy->torch->bitsandbytes) (1.3.0)\n",
            "Requirement already satisfied: transformers[torch] in /usr/local/lib/python3.10/dist-packages (4.45.2)\n",
            "Requirement already satisfied: filelock in /usr/local/lib/python3.10/dist-packages (from transformers[torch]) (3.16.1)\n",
            "Requirement already satisfied: huggingface-hub<1.0,>=0.23.2 in /usr/local/lib/python3.10/dist-packages (from transformers[torch]) (0.24.7)\n",
            "Requirement already satisfied: numpy>=1.17 in /usr/local/lib/python3.10/dist-packages (from transformers[torch]) (1.26.4)\n",
            "Requirement already satisfied: packaging>=20.0 in /usr/local/lib/python3.10/dist-packages (from transformers[torch]) (24.1)\n",
            "Requirement already satisfied: pyyaml>=5.1 in /usr/local/lib/python3.10/dist-packages (from transformers[torch]) (6.0.2)\n",
            "Requirement already satisfied: regex!=2019.12.17 in /usr/local/lib/python3.10/dist-packages (from transformers[torch]) (2024.9.11)\n",
            "Requirement already satisfied: requests in /usr/local/lib/python3.10/dist-packages (from transformers[torch]) (2.32.3)\n",
            "Requirement already satisfied: safetensors>=0.4.1 in /usr/local/lib/python3.10/dist-packages (from transformers[torch]) (0.4.5)\n",
            "Requirement already satisfied: tokenizers<0.21,>=0.20 in /usr/local/lib/python3.10/dist-packages (from transformers[torch]) (0.20.1)\n",
            "Requirement already satisfied: tqdm>=4.27 in /usr/local/lib/python3.10/dist-packages (from transformers[torch]) (4.66.5)\n",
            "Requirement already satisfied: accelerate>=0.26.0 in /usr/local/lib/python3.10/dist-packages (from transformers[torch]) (1.0.1)\n",
            "Requirement already satisfied: torch in /usr/local/lib/python3.10/dist-packages (from transformers[torch]) (2.4.1+cu121)\n",
            "Requirement already satisfied: psutil in /usr/local/lib/python3.10/dist-packages (from accelerate>=0.26.0->transformers[torch]) (5.9.5)\n",
            "Requirement already satisfied: fsspec>=2023.5.0 in /usr/local/lib/python3.10/dist-packages (from huggingface-hub<1.0,>=0.23.2->transformers[torch]) (2024.6.1)\n",
            "Requirement already satisfied: typing-extensions>=3.7.4.3 in /usr/local/lib/python3.10/dist-packages (from huggingface-hub<1.0,>=0.23.2->transformers[torch]) (4.12.2)\n",
            "Requirement already satisfied: sympy in /usr/local/lib/python3.10/dist-packages (from torch->transformers[torch]) (1.13.3)\n",
            "Requirement already satisfied: networkx in /usr/local/lib/python3.10/dist-packages (from torch->transformers[torch]) (3.3)\n",
            "Requirement already satisfied: jinja2 in /usr/local/lib/python3.10/dist-packages (from torch->transformers[torch]) (3.1.4)\n",
            "Requirement already satisfied: charset-normalizer<4,>=2 in /usr/local/lib/python3.10/dist-packages (from requests->transformers[torch]) (3.3.2)\n",
            "Requirement already satisfied: idna<4,>=2.5 in /usr/local/lib/python3.10/dist-packages (from requests->transformers[torch]) (3.10)\n",
            "Requirement already satisfied: urllib3<3,>=1.21.1 in /usr/local/lib/python3.10/dist-packages (from requests->transformers[torch]) (2.2.3)\n",
            "Requirement already satisfied: certifi>=2017.4.17 in /usr/local/lib/python3.10/dist-packages (from requests->transformers[torch]) (2024.8.30)\n",
            "Requirement already satisfied: MarkupSafe>=2.0 in /usr/local/lib/python3.10/dist-packages (from jinja2->torch->transformers[torch]) (2.1.5)\n",
            "Requirement already satisfied: mpmath<1.4,>=1.1.0 in /usr/local/lib/python3.10/dist-packages (from sympy->torch->transformers[torch]) (1.3.0)\n",
            "Requirement already satisfied: datasets in /usr/local/lib/python3.10/dist-packages (3.0.1)\n",
            "Requirement already satisfied: filelock in /usr/local/lib/python3.10/dist-packages (from datasets) (3.16.1)\n",
            "Requirement already satisfied: numpy>=1.17 in /usr/local/lib/python3.10/dist-packages (from datasets) (1.26.4)\n",
            "Requirement already satisfied: pyarrow>=15.0.0 in /usr/local/lib/python3.10/dist-packages (from datasets) (16.1.0)\n",
            "Requirement already satisfied: dill<0.3.9,>=0.3.0 in /usr/local/lib/python3.10/dist-packages (from datasets) (0.3.8)\n",
            "Requirement already satisfied: pandas in /usr/local/lib/python3.10/dist-packages (from datasets) (2.2.2)\n",
            "Requirement already satisfied: requests>=2.32.2 in /usr/local/lib/python3.10/dist-packages (from datasets) (2.32.3)\n",
            "Requirement already satisfied: tqdm>=4.66.3 in /usr/local/lib/python3.10/dist-packages (from datasets) (4.66.5)\n",
            "Requirement already satisfied: xxhash in /usr/local/lib/python3.10/dist-packages (from datasets) (3.5.0)\n",
            "Requirement already satisfied: multiprocess in /usr/local/lib/python3.10/dist-packages (from datasets) (0.70.16)\n",
            "Requirement already satisfied: fsspec<=2024.6.1,>=2023.1.0 in /usr/local/lib/python3.10/dist-packages (from fsspec[http]<=2024.6.1,>=2023.1.0->datasets) (2024.6.1)\n",
            "Requirement already satisfied: aiohttp in /usr/local/lib/python3.10/dist-packages (from datasets) (3.10.9)\n",
            "Requirement already satisfied: huggingface-hub>=0.22.0 in /usr/local/lib/python3.10/dist-packages (from datasets) (0.24.7)\n",
            "Requirement already satisfied: packaging in /usr/local/lib/python3.10/dist-packages (from datasets) (24.1)\n",
            "Requirement already satisfied: pyyaml>=5.1 in /usr/local/lib/python3.10/dist-packages (from datasets) (6.0.2)\n",
            "Requirement already satisfied: aiohappyeyeballs>=2.3.0 in /usr/local/lib/python3.10/dist-packages (from aiohttp->datasets) (2.4.3)\n",
            "Requirement already satisfied: aiosignal>=1.1.2 in /usr/local/lib/python3.10/dist-packages (from aiohttp->datasets) (1.3.1)\n",
            "Requirement already satisfied: attrs>=17.3.0 in /usr/local/lib/python3.10/dist-packages (from aiohttp->datasets) (24.2.0)\n",
            "Requirement already satisfied: frozenlist>=1.1.1 in /usr/local/lib/python3.10/dist-packages (from aiohttp->datasets) (1.4.1)\n",
            "Requirement already satisfied: multidict<7.0,>=4.5 in /usr/local/lib/python3.10/dist-packages (from aiohttp->datasets) (6.1.0)\n",
            "Requirement already satisfied: yarl<2.0,>=1.12.0 in /usr/local/lib/python3.10/dist-packages (from aiohttp->datasets) (1.13.1)\n",
            "Requirement already satisfied: async-timeout<5.0,>=4.0 in /usr/local/lib/python3.10/dist-packages (from aiohttp->datasets) (4.0.3)\n",
            "Requirement already satisfied: typing-extensions>=3.7.4.3 in /usr/local/lib/python3.10/dist-packages (from huggingface-hub>=0.22.0->datasets) (4.12.2)\n",
            "Requirement already satisfied: charset-normalizer<4,>=2 in /usr/local/lib/python3.10/dist-packages (from requests>=2.32.2->datasets) (3.3.2)\n",
            "Requirement already satisfied: idna<4,>=2.5 in /usr/local/lib/python3.10/dist-packages (from requests>=2.32.2->datasets) (3.10)\n",
            "Requirement already satisfied: urllib3<3,>=1.21.1 in /usr/local/lib/python3.10/dist-packages (from requests>=2.32.2->datasets) (2.2.3)\n",
            "Requirement already satisfied: certifi>=2017.4.17 in /usr/local/lib/python3.10/dist-packages (from requests>=2.32.2->datasets) (2024.8.30)\n",
            "Requirement already satisfied: python-dateutil>=2.8.2 in /usr/local/lib/python3.10/dist-packages (from pandas->datasets) (2.8.2)\n",
            "Requirement already satisfied: pytz>=2020.1 in /usr/local/lib/python3.10/dist-packages (from pandas->datasets) (2024.2)\n",
            "Requirement already satisfied: tzdata>=2022.7 in /usr/local/lib/python3.10/dist-packages (from pandas->datasets) (2024.2)\n",
            "Requirement already satisfied: six>=1.5 in /usr/local/lib/python3.10/dist-packages (from python-dateutil>=2.8.2->pandas->datasets) (1.16.0)\n",
            "Requirement already satisfied: langchain in /usr/local/lib/python3.10/dist-packages (0.3.3)\n",
            "Requirement already satisfied: PyYAML>=5.3 in /usr/local/lib/python3.10/dist-packages (from langchain) (6.0.2)\n",
            "Requirement already satisfied: SQLAlchemy<3,>=1.4 in /usr/local/lib/python3.10/dist-packages (from langchain) (2.0.35)\n",
            "Requirement already satisfied: aiohttp<4.0.0,>=3.8.3 in /usr/local/lib/python3.10/dist-packages (from langchain) (3.10.9)\n",
            "Requirement already satisfied: async-timeout<5.0.0,>=4.0.0 in /usr/local/lib/python3.10/dist-packages (from langchain) (4.0.3)\n",
            "Requirement already satisfied: langchain-core<0.4.0,>=0.3.10 in /usr/local/lib/python3.10/dist-packages (from langchain) (0.3.10)\n",
            "Requirement already satisfied: langchain-text-splitters<0.4.0,>=0.3.0 in /usr/local/lib/python3.10/dist-packages (from langchain) (0.3.0)\n",
            "Requirement already satisfied: langsmith<0.2.0,>=0.1.17 in /usr/local/lib/python3.10/dist-packages (from langchain) (0.1.134)\n",
            "Requirement already satisfied: numpy<2,>=1 in /usr/local/lib/python3.10/dist-packages (from langchain) (1.26.4)\n",
            "Requirement already satisfied: pydantic<3.0.0,>=2.7.4 in /usr/local/lib/python3.10/dist-packages (from langchain) (2.9.2)\n",
            "Requirement already satisfied: requests<3,>=2 in /usr/local/lib/python3.10/dist-packages (from langchain) (2.32.3)\n",
            "Requirement already satisfied: tenacity!=8.4.0,<9.0.0,>=8.1.0 in /usr/local/lib/python3.10/dist-packages (from langchain) (8.5.0)\n",
            "Requirement already satisfied: aiohappyeyeballs>=2.3.0 in /usr/local/lib/python3.10/dist-packages (from aiohttp<4.0.0,>=3.8.3->langchain) (2.4.3)\n",
            "Requirement already satisfied: aiosignal>=1.1.2 in /usr/local/lib/python3.10/dist-packages (from aiohttp<4.0.0,>=3.8.3->langchain) (1.3.1)\n",
            "Requirement already satisfied: attrs>=17.3.0 in /usr/local/lib/python3.10/dist-packages (from aiohttp<4.0.0,>=3.8.3->langchain) (24.2.0)\n",
            "Requirement already satisfied: frozenlist>=1.1.1 in /usr/local/lib/python3.10/dist-packages (from aiohttp<4.0.0,>=3.8.3->langchain) (1.4.1)\n",
            "Requirement already satisfied: multidict<7.0,>=4.5 in /usr/local/lib/python3.10/dist-packages (from aiohttp<4.0.0,>=3.8.3->langchain) (6.1.0)\n",
            "Requirement already satisfied: yarl<2.0,>=1.12.0 in /usr/local/lib/python3.10/dist-packages (from aiohttp<4.0.0,>=3.8.3->langchain) (1.13.1)\n",
            "Requirement already satisfied: jsonpatch<2.0,>=1.33 in /usr/local/lib/python3.10/dist-packages (from langchain-core<0.4.0,>=0.3.10->langchain) (1.33)\n",
            "Requirement already satisfied: packaging<25,>=23.2 in /usr/local/lib/python3.10/dist-packages (from langchain-core<0.4.0,>=0.3.10->langchain) (24.1)\n",
            "Requirement already satisfied: typing-extensions>=4.7 in /usr/local/lib/python3.10/dist-packages (from langchain-core<0.4.0,>=0.3.10->langchain) (4.12.2)\n",
            "Requirement already satisfied: httpx<1,>=0.23.0 in /usr/local/lib/python3.10/dist-packages (from langsmith<0.2.0,>=0.1.17->langchain) (0.27.2)\n",
            "Requirement already satisfied: orjson<4.0.0,>=3.9.14 in /usr/local/lib/python3.10/dist-packages (from langsmith<0.2.0,>=0.1.17->langchain) (3.10.6)\n",
            "Requirement already satisfied: requests-toolbelt<2.0.0,>=1.0.0 in /usr/local/lib/python3.10/dist-packages (from langsmith<0.2.0,>=0.1.17->langchain) (1.0.0)\n",
            "Requirement already satisfied: annotated-types>=0.6.0 in /usr/local/lib/python3.10/dist-packages (from pydantic<3.0.0,>=2.7.4->langchain) (0.7.0)\n",
            "Requirement already satisfied: pydantic-core==2.23.4 in /usr/local/lib/python3.10/dist-packages (from pydantic<3.0.0,>=2.7.4->langchain) (2.23.4)\n",
            "Requirement already satisfied: charset-normalizer<4,>=2 in /usr/local/lib/python3.10/dist-packages (from requests<3,>=2->langchain) (3.3.2)\n",
            "Requirement already satisfied: idna<4,>=2.5 in /usr/local/lib/python3.10/dist-packages (from requests<3,>=2->langchain) (3.10)\n",
            "Requirement already satisfied: urllib3<3,>=1.21.1 in /usr/local/lib/python3.10/dist-packages (from requests<3,>=2->langchain) (2.2.3)\n",
            "Requirement already satisfied: certifi>=2017.4.17 in /usr/local/lib/python3.10/dist-packages (from requests<3,>=2->langchain) (2024.8.30)\n",
            "Requirement already satisfied: greenlet!=0.4.17 in /usr/local/lib/python3.10/dist-packages (from SQLAlchemy<3,>=1.4->langchain) (3.1.1)\n",
            "Requirement already satisfied: anyio in /usr/local/lib/python3.10/dist-packages (from httpx<1,>=0.23.0->langsmith<0.2.0,>=0.1.17->langchain) (3.7.1)\n",
            "Requirement already satisfied: httpcore==1.* in /usr/local/lib/python3.10/dist-packages (from httpx<1,>=0.23.0->langsmith<0.2.0,>=0.1.17->langchain) (1.0.6)\n",
            "Requirement already satisfied: sniffio in /usr/local/lib/python3.10/dist-packages (from httpx<1,>=0.23.0->langsmith<0.2.0,>=0.1.17->langchain) (1.3.1)\n",
            "Requirement already satisfied: h11<0.15,>=0.13 in /usr/local/lib/python3.10/dist-packages (from httpcore==1.*->httpx<1,>=0.23.0->langsmith<0.2.0,>=0.1.17->langchain) (0.14.0)\n",
            "Requirement already satisfied: jsonpointer>=1.9 in /usr/local/lib/python3.10/dist-packages (from jsonpatch<2.0,>=1.33->langchain-core<0.4.0,>=0.3.10->langchain) (3.0.0)\n",
            "Requirement already satisfied: exceptiongroup in /usr/local/lib/python3.10/dist-packages (from anyio->httpx<1,>=0.23.0->langsmith<0.2.0,>=0.1.17->langchain) (1.2.2)\n",
            "Requirement already satisfied: langchain_community in /usr/local/lib/python3.10/dist-packages (0.3.2)\n",
            "Requirement already satisfied: PyYAML>=5.3 in /usr/local/lib/python3.10/dist-packages (from langchain_community) (6.0.2)\n",
            "Requirement already satisfied: SQLAlchemy<3,>=1.4 in /usr/local/lib/python3.10/dist-packages (from langchain_community) (2.0.35)\n",
            "Requirement already satisfied: aiohttp<4.0.0,>=3.8.3 in /usr/local/lib/python3.10/dist-packages (from langchain_community) (3.10.9)\n",
            "Requirement already satisfied: dataclasses-json<0.7,>=0.5.7 in /usr/local/lib/python3.10/dist-packages (from langchain_community) (0.6.7)\n",
            "Requirement already satisfied: langchain<0.4.0,>=0.3.3 in /usr/local/lib/python3.10/dist-packages (from langchain_community) (0.3.3)\n",
            "Requirement already satisfied: langchain-core<0.4.0,>=0.3.10 in /usr/local/lib/python3.10/dist-packages (from langchain_community) (0.3.10)\n",
            "Requirement already satisfied: langsmith<0.2.0,>=0.1.125 in /usr/local/lib/python3.10/dist-packages (from langchain_community) (0.1.134)\n",
            "Requirement already satisfied: numpy<2,>=1 in /usr/local/lib/python3.10/dist-packages (from langchain_community) (1.26.4)\n",
            "Requirement already satisfied: pydantic-settings<3.0.0,>=2.4.0 in /usr/local/lib/python3.10/dist-packages (from langchain_community) (2.5.2)\n",
            "Requirement already satisfied: requests<3,>=2 in /usr/local/lib/python3.10/dist-packages (from langchain_community) (2.32.3)\n",
            "Requirement already satisfied: tenacity!=8.4.0,<9.0.0,>=8.1.0 in /usr/local/lib/python3.10/dist-packages (from langchain_community) (8.5.0)\n",
            "Requirement already satisfied: aiohappyeyeballs>=2.3.0 in /usr/local/lib/python3.10/dist-packages (from aiohttp<4.0.0,>=3.8.3->langchain_community) (2.4.3)\n",
            "Requirement already satisfied: aiosignal>=1.1.2 in /usr/local/lib/python3.10/dist-packages (from aiohttp<4.0.0,>=3.8.3->langchain_community) (1.3.1)\n",
            "Requirement already satisfied: attrs>=17.3.0 in /usr/local/lib/python3.10/dist-packages (from aiohttp<4.0.0,>=3.8.3->langchain_community) (24.2.0)\n",
            "Requirement already satisfied: frozenlist>=1.1.1 in /usr/local/lib/python3.10/dist-packages (from aiohttp<4.0.0,>=3.8.3->langchain_community) (1.4.1)\n",
            "Requirement already satisfied: multidict<7.0,>=4.5 in /usr/local/lib/python3.10/dist-packages (from aiohttp<4.0.0,>=3.8.3->langchain_community) (6.1.0)\n",
            "Requirement already satisfied: yarl<2.0,>=1.12.0 in /usr/local/lib/python3.10/dist-packages (from aiohttp<4.0.0,>=3.8.3->langchain_community) (1.13.1)\n",
            "Requirement already satisfied: async-timeout<5.0,>=4.0 in /usr/local/lib/python3.10/dist-packages (from aiohttp<4.0.0,>=3.8.3->langchain_community) (4.0.3)\n",
            "Requirement already satisfied: marshmallow<4.0.0,>=3.18.0 in /usr/local/lib/python3.10/dist-packages (from dataclasses-json<0.7,>=0.5.7->langchain_community) (3.22.0)\n",
            "Requirement already satisfied: typing-inspect<1,>=0.4.0 in /usr/local/lib/python3.10/dist-packages (from dataclasses-json<0.7,>=0.5.7->langchain_community) (0.9.0)\n",
            "Requirement already satisfied: langchain-text-splitters<0.4.0,>=0.3.0 in /usr/local/lib/python3.10/dist-packages (from langchain<0.4.0,>=0.3.3->langchain_community) (0.3.0)\n",
            "Requirement already satisfied: pydantic<3.0.0,>=2.7.4 in /usr/local/lib/python3.10/dist-packages (from langchain<0.4.0,>=0.3.3->langchain_community) (2.9.2)\n",
            "Requirement already satisfied: jsonpatch<2.0,>=1.33 in /usr/local/lib/python3.10/dist-packages (from langchain-core<0.4.0,>=0.3.10->langchain_community) (1.33)\n",
            "Requirement already satisfied: packaging<25,>=23.2 in /usr/local/lib/python3.10/dist-packages (from langchain-core<0.4.0,>=0.3.10->langchain_community) (24.1)\n",
            "Requirement already satisfied: typing-extensions>=4.7 in /usr/local/lib/python3.10/dist-packages (from langchain-core<0.4.0,>=0.3.10->langchain_community) (4.12.2)\n",
            "Requirement already satisfied: httpx<1,>=0.23.0 in /usr/local/lib/python3.10/dist-packages (from langsmith<0.2.0,>=0.1.125->langchain_community) (0.27.2)\n",
            "Requirement already satisfied: orjson<4.0.0,>=3.9.14 in /usr/local/lib/python3.10/dist-packages (from langsmith<0.2.0,>=0.1.125->langchain_community) (3.10.6)\n",
            "Requirement already satisfied: requests-toolbelt<2.0.0,>=1.0.0 in /usr/local/lib/python3.10/dist-packages (from langsmith<0.2.0,>=0.1.125->langchain_community) (1.0.0)\n",
            "Requirement already satisfied: python-dotenv>=0.21.0 in /usr/local/lib/python3.10/dist-packages (from pydantic-settings<3.0.0,>=2.4.0->langchain_community) (1.0.1)\n",
            "Requirement already satisfied: charset-normalizer<4,>=2 in /usr/local/lib/python3.10/dist-packages (from requests<3,>=2->langchain_community) (3.3.2)\n",
            "Requirement already satisfied: idna<4,>=2.5 in /usr/local/lib/python3.10/dist-packages (from requests<3,>=2->langchain_community) (3.10)\n",
            "Requirement already satisfied: urllib3<3,>=1.21.1 in /usr/local/lib/python3.10/dist-packages (from requests<3,>=2->langchain_community) (2.2.3)\n",
            "Requirement already satisfied: certifi>=2017.4.17 in /usr/local/lib/python3.10/dist-packages (from requests<3,>=2->langchain_community) (2024.8.30)\n",
            "Requirement already satisfied: greenlet!=0.4.17 in /usr/local/lib/python3.10/dist-packages (from SQLAlchemy<3,>=1.4->langchain_community) (3.1.1)\n",
            "Requirement already satisfied: anyio in /usr/local/lib/python3.10/dist-packages (from httpx<1,>=0.23.0->langsmith<0.2.0,>=0.1.125->langchain_community) (3.7.1)\n",
            "Requirement already satisfied: httpcore==1.* in /usr/local/lib/python3.10/dist-packages (from httpx<1,>=0.23.0->langsmith<0.2.0,>=0.1.125->langchain_community) (1.0.6)\n",
            "Requirement already satisfied: sniffio in /usr/local/lib/python3.10/dist-packages (from httpx<1,>=0.23.0->langsmith<0.2.0,>=0.1.125->langchain_community) (1.3.1)\n",
            "Requirement already satisfied: h11<0.15,>=0.13 in /usr/local/lib/python3.10/dist-packages (from httpcore==1.*->httpx<1,>=0.23.0->langsmith<0.2.0,>=0.1.125->langchain_community) (0.14.0)\n",
            "Requirement already satisfied: jsonpointer>=1.9 in /usr/local/lib/python3.10/dist-packages (from jsonpatch<2.0,>=1.33->langchain-core<0.4.0,>=0.3.10->langchain_community) (3.0.0)\n",
            "Requirement already satisfied: annotated-types>=0.6.0 in /usr/local/lib/python3.10/dist-packages (from pydantic<3.0.0,>=2.7.4->langchain<0.4.0,>=0.3.3->langchain_community) (0.7.0)\n",
            "Requirement already satisfied: pydantic-core==2.23.4 in /usr/local/lib/python3.10/dist-packages (from pydantic<3.0.0,>=2.7.4->langchain<0.4.0,>=0.3.3->langchain_community) (2.23.4)\n",
            "Requirement already satisfied: mypy-extensions>=0.3.0 in /usr/local/lib/python3.10/dist-packages (from typing-inspect<1,>=0.4.0->dataclasses-json<0.7,>=0.5.7->langchain_community) (1.0.0)\n",
            "Requirement already satisfied: exceptiongroup in /usr/local/lib/python3.10/dist-packages (from anyio->httpx<1,>=0.23.0->langsmith<0.2.0,>=0.1.125->langchain_community) (1.2.2)\n",
            "Requirement already satisfied: langchain-teddynote in /usr/local/lib/python3.10/dist-packages (0.3.6)\n",
            "Requirement already satisfied: langchain in /usr/local/lib/python3.10/dist-packages (from langchain-teddynote) (0.3.3)\n",
            "Requirement already satisfied: langgraph in /usr/local/lib/python3.10/dist-packages (from langchain-teddynote) (0.2.35)\n",
            "Requirement already satisfied: kiwipiepy in /usr/local/lib/python3.10/dist-packages (from langchain-teddynote) (0.19.0)\n",
            "Requirement already satisfied: konlpy in /usr/local/lib/python3.10/dist-packages (from langchain-teddynote) (0.6.0)\n",
            "Requirement already satisfied: rank-bm25 in /usr/local/lib/python3.10/dist-packages (from langchain-teddynote) (0.2.2)\n",
            "Requirement already satisfied: pinecone-client[grpc] in /usr/local/lib/python3.10/dist-packages (from langchain-teddynote) (5.0.1)\n",
            "Requirement already satisfied: pinecone-text in /usr/local/lib/python3.10/dist-packages (from langchain-teddynote) (0.9.0)\n",
            "Requirement already satisfied: olefile in /usr/local/lib/python3.10/dist-packages (from langchain-teddynote) (0.47)\n",
            "Requirement already satisfied: pdf2image in /usr/local/lib/python3.10/dist-packages (from langchain-teddynote) (1.17.0)\n",
            "Requirement already satisfied: openai in /usr/local/lib/python3.10/dist-packages (from langchain-teddynote) (1.51.2)\n",
            "Requirement already satisfied: deepl in /usr/local/lib/python3.10/dist-packages (from langchain-teddynote) (1.19.1)\n",
            "Requirement already satisfied: feedparser in /usr/local/lib/python3.10/dist-packages (from langchain-teddynote) (6.0.11)\n",
            "Requirement already satisfied: requests<3,>=2 in /usr/local/lib/python3.10/dist-packages (from deepl->langchain-teddynote) (2.32.3)\n",
            "Requirement already satisfied: sgmllib3k in /usr/local/lib/python3.10/dist-packages (from feedparser->langchain-teddynote) (1.0.0)\n",
            "Requirement already satisfied: kiwipiepy-model<0.20,>=0.19 in /usr/local/lib/python3.10/dist-packages (from kiwipiepy->langchain-teddynote) (0.19.0)\n",
            "Requirement already satisfied: tqdm in /usr/local/lib/python3.10/dist-packages (from kiwipiepy->langchain-teddynote) (4.66.5)\n",
            "Requirement already satisfied: numpy in /usr/local/lib/python3.10/dist-packages (from kiwipiepy->langchain-teddynote) (1.26.4)\n",
            "Requirement already satisfied: JPype1>=0.7.0 in /usr/local/lib/python3.10/dist-packages (from konlpy->langchain-teddynote) (1.5.0)\n",
            "Requirement already satisfied: lxml>=4.1.0 in /usr/local/lib/python3.10/dist-packages (from konlpy->langchain-teddynote) (4.9.4)\n",
            "Requirement already satisfied: PyYAML>=5.3 in /usr/local/lib/python3.10/dist-packages (from langchain->langchain-teddynote) (6.0.2)\n",
            "Requirement already satisfied: SQLAlchemy<3,>=1.4 in /usr/local/lib/python3.10/dist-packages (from langchain->langchain-teddynote) (2.0.35)\n",
            "Requirement already satisfied: aiohttp<4.0.0,>=3.8.3 in /usr/local/lib/python3.10/dist-packages (from langchain->langchain-teddynote) (3.10.9)\n",
            "Requirement already satisfied: async-timeout<5.0.0,>=4.0.0 in /usr/local/lib/python3.10/dist-packages (from langchain->langchain-teddynote) (4.0.3)\n",
            "Requirement already satisfied: langchain-core<0.4.0,>=0.3.10 in /usr/local/lib/python3.10/dist-packages (from langchain->langchain-teddynote) (0.3.10)\n",
            "Requirement already satisfied: langchain-text-splitters<0.4.0,>=0.3.0 in /usr/local/lib/python3.10/dist-packages (from langchain->langchain-teddynote) (0.3.0)\n",
            "Requirement already satisfied: langsmith<0.2.0,>=0.1.17 in /usr/local/lib/python3.10/dist-packages (from langchain->langchain-teddynote) (0.1.134)\n",
            "Requirement already satisfied: pydantic<3.0.0,>=2.7.4 in /usr/local/lib/python3.10/dist-packages (from langchain->langchain-teddynote) (2.9.2)\n",
            "Requirement already satisfied: tenacity!=8.4.0,<9.0.0,>=8.1.0 in /usr/local/lib/python3.10/dist-packages (from langchain->langchain-teddynote) (8.5.0)\n",
            "Requirement already satisfied: langgraph-checkpoint<3.0.0,>=2.0.0 in /usr/local/lib/python3.10/dist-packages (from langgraph->langchain-teddynote) (2.0.1)\n",
            "Requirement already satisfied: anyio<5,>=3.5.0 in /usr/local/lib/python3.10/dist-packages (from openai->langchain-teddynote) (3.7.1)\n",
            "Requirement already satisfied: distro<2,>=1.7.0 in /usr/lib/python3/dist-packages (from openai->langchain-teddynote) (1.7.0)\n",
            "Requirement already satisfied: httpx<1,>=0.23.0 in /usr/local/lib/python3.10/dist-packages (from openai->langchain-teddynote) (0.27.2)\n",
            "Requirement already satisfied: jiter<1,>=0.4.0 in /usr/local/lib/python3.10/dist-packages (from openai->langchain-teddynote) (0.6.1)\n",
            "Requirement already satisfied: sniffio in /usr/local/lib/python3.10/dist-packages (from openai->langchain-teddynote) (1.3.1)\n",
            "Requirement already satisfied: typing-extensions<5,>=4.11 in /usr/local/lib/python3.10/dist-packages (from openai->langchain-teddynote) (4.12.2)\n",
            "Requirement already satisfied: pillow in /usr/local/lib/python3.10/dist-packages (from pdf2image->langchain-teddynote) (10.4.0)\n",
            "Requirement already satisfied: certifi>=2019.11.17 in /usr/local/lib/python3.10/dist-packages (from pinecone-client[grpc]->langchain-teddynote) (2024.8.30)\n",
            "Requirement already satisfied: pinecone-plugin-inference<2.0.0,>=1.0.3 in /usr/local/lib/python3.10/dist-packages (from pinecone-client[grpc]->langchain-teddynote) (1.1.0)\n",
            "Requirement already satisfied: pinecone-plugin-interface<0.0.8,>=0.0.7 in /usr/local/lib/python3.10/dist-packages (from pinecone-client[grpc]->langchain-teddynote) (0.0.7)\n",
            "Requirement already satisfied: urllib3>=1.26.0 in /usr/local/lib/python3.10/dist-packages (from pinecone-client[grpc]->langchain-teddynote) (2.2.3)\n",
            "Requirement already satisfied: googleapis-common-protos>=1.53.0 in /usr/local/lib/python3.10/dist-packages (from pinecone-client[grpc]->langchain-teddynote) (1.65.0)\n",
            "Requirement already satisfied: grpcio>=1.44.0 in /usr/local/lib/python3.10/dist-packages (from pinecone-client[grpc]->langchain-teddynote) (1.64.1)\n",
            "Requirement already satisfied: lz4>=3.1.3 in /usr/local/lib/python3.10/dist-packages (from pinecone-client[grpc]->langchain-teddynote) (4.3.3)\n",
            "Requirement already satisfied: protobuf<5.0,>=4.25 in /usr/local/lib/python3.10/dist-packages (from pinecone-client[grpc]->langchain-teddynote) (4.25.5)\n",
            "Requirement already satisfied: protoc-gen-openapiv2<0.0.2,>=0.0.1 in /usr/local/lib/python3.10/dist-packages (from pinecone-client[grpc]->langchain-teddynote) (0.0.1)\n",
            "Requirement already satisfied: mmh3<5.0.0,>=4.1.0 in /usr/local/lib/python3.10/dist-packages (from pinecone-text->langchain-teddynote) (4.1.0)\n",
            "Requirement already satisfied: nltk<4.0.0,>=3.6.5 in /usr/local/lib/python3.10/dist-packages (from pinecone-text->langchain-teddynote) (3.8.1)\n",
            "Requirement already satisfied: python-dotenv<2.0.0,>=1.0.1 in /usr/local/lib/python3.10/dist-packages (from pinecone-text->langchain-teddynote) (1.0.1)\n",
            "Requirement already satisfied: types-requests<3.0.0,>=2.25.0 in /usr/local/lib/python3.10/dist-packages (from pinecone-text->langchain-teddynote) (2.32.0.20240914)\n",
            "Requirement already satisfied: wget<4.0,>=3.2 in /usr/local/lib/python3.10/dist-packages (from pinecone-text->langchain-teddynote) (3.2)\n",
            "Requirement already satisfied: aiohappyeyeballs>=2.3.0 in /usr/local/lib/python3.10/dist-packages (from aiohttp<4.0.0,>=3.8.3->langchain->langchain-teddynote) (2.4.3)\n",
            "Requirement already satisfied: aiosignal>=1.1.2 in /usr/local/lib/python3.10/dist-packages (from aiohttp<4.0.0,>=3.8.3->langchain->langchain-teddynote) (1.3.1)\n",
            "Requirement already satisfied: attrs>=17.3.0 in /usr/local/lib/python3.10/dist-packages (from aiohttp<4.0.0,>=3.8.3->langchain->langchain-teddynote) (24.2.0)\n",
            "Requirement already satisfied: frozenlist>=1.1.1 in /usr/local/lib/python3.10/dist-packages (from aiohttp<4.0.0,>=3.8.3->langchain->langchain-teddynote) (1.4.1)\n",
            "Requirement already satisfied: multidict<7.0,>=4.5 in /usr/local/lib/python3.10/dist-packages (from aiohttp<4.0.0,>=3.8.3->langchain->langchain-teddynote) (6.1.0)\n",
            "Requirement already satisfied: yarl<2.0,>=1.12.0 in /usr/local/lib/python3.10/dist-packages (from aiohttp<4.0.0,>=3.8.3->langchain->langchain-teddynote) (1.13.1)\n",
            "Requirement already satisfied: idna>=2.8 in /usr/local/lib/python3.10/dist-packages (from anyio<5,>=3.5.0->openai->langchain-teddynote) (3.10)\n",
            "Requirement already satisfied: exceptiongroup in /usr/local/lib/python3.10/dist-packages (from anyio<5,>=3.5.0->openai->langchain-teddynote) (1.2.2)\n",
            "Requirement already satisfied: httpcore==1.* in /usr/local/lib/python3.10/dist-packages (from httpx<1,>=0.23.0->openai->langchain-teddynote) (1.0.6)\n",
            "Requirement already satisfied: h11<0.15,>=0.13 in /usr/local/lib/python3.10/dist-packages (from httpcore==1.*->httpx<1,>=0.23.0->openai->langchain-teddynote) (0.14.0)\n",
            "Requirement already satisfied: packaging in /usr/local/lib/python3.10/dist-packages (from JPype1>=0.7.0->konlpy->langchain-teddynote) (24.1)\n",
            "Requirement already satisfied: jsonpatch<2.0,>=1.33 in /usr/local/lib/python3.10/dist-packages (from langchain-core<0.4.0,>=0.3.10->langchain->langchain-teddynote) (1.33)\n",
            "Requirement already satisfied: msgpack<2.0.0,>=1.1.0 in /usr/local/lib/python3.10/dist-packages (from langgraph-checkpoint<3.0.0,>=2.0.0->langgraph->langchain-teddynote) (1.1.0)\n",
            "Requirement already satisfied: orjson<4.0.0,>=3.9.14 in /usr/local/lib/python3.10/dist-packages (from langsmith<0.2.0,>=0.1.17->langchain->langchain-teddynote) (3.10.6)\n",
            "Requirement already satisfied: requests-toolbelt<2.0.0,>=1.0.0 in /usr/local/lib/python3.10/dist-packages (from langsmith<0.2.0,>=0.1.17->langchain->langchain-teddynote) (1.0.0)\n",
            "Requirement already satisfied: click in /usr/local/lib/python3.10/dist-packages (from nltk<4.0.0,>=3.6.5->pinecone-text->langchain-teddynote) (8.1.7)\n",
            "Requirement already satisfied: joblib in /usr/local/lib/python3.10/dist-packages (from nltk<4.0.0,>=3.6.5->pinecone-text->langchain-teddynote) (1.4.2)\n",
            "Requirement already satisfied: regex>=2021.8.3 in /usr/local/lib/python3.10/dist-packages (from nltk<4.0.0,>=3.6.5->pinecone-text->langchain-teddynote) (2024.9.11)\n",
            "Requirement already satisfied: annotated-types>=0.6.0 in /usr/local/lib/python3.10/dist-packages (from pydantic<3.0.0,>=2.7.4->langchain->langchain-teddynote) (0.7.0)\n",
            "Requirement already satisfied: pydantic-core==2.23.4 in /usr/local/lib/python3.10/dist-packages (from pydantic<3.0.0,>=2.7.4->langchain->langchain-teddynote) (2.23.4)\n",
            "Requirement already satisfied: charset-normalizer<4,>=2 in /usr/local/lib/python3.10/dist-packages (from requests<3,>=2->deepl->langchain-teddynote) (3.3.2)\n",
            "Requirement already satisfied: greenlet!=0.4.17 in /usr/local/lib/python3.10/dist-packages (from SQLAlchemy<3,>=1.4->langchain->langchain-teddynote) (3.1.1)\n",
            "Requirement already satisfied: jsonpointer>=1.9 in /usr/local/lib/python3.10/dist-packages (from jsonpatch<2.0,>=1.33->langchain-core<0.4.0,>=0.3.10->langchain->langchain-teddynote) (3.0.0)\n",
            "Requirement already satisfied: sentence-transformers in /usr/local/lib/python3.10/dist-packages (3.2.0)\n",
            "Requirement already satisfied: transformers<5.0.0,>=4.41.0 in /usr/local/lib/python3.10/dist-packages (from sentence-transformers) (4.45.2)\n",
            "Requirement already satisfied: tqdm in /usr/local/lib/python3.10/dist-packages (from sentence-transformers) (4.66.5)\n",
            "Requirement already satisfied: torch>=1.11.0 in /usr/local/lib/python3.10/dist-packages (from sentence-transformers) (2.4.1+cu121)\n",
            "Requirement already satisfied: scikit-learn in /usr/local/lib/python3.10/dist-packages (from sentence-transformers) (1.5.2)\n",
            "Requirement already satisfied: scipy in /usr/local/lib/python3.10/dist-packages (from sentence-transformers) (1.13.1)\n",
            "Requirement already satisfied: huggingface-hub>=0.20.0 in /usr/local/lib/python3.10/dist-packages (from sentence-transformers) (0.24.7)\n",
            "Requirement already satisfied: Pillow in /usr/local/lib/python3.10/dist-packages (from sentence-transformers) (10.4.0)\n",
            "Requirement already satisfied: filelock in /usr/local/lib/python3.10/dist-packages (from huggingface-hub>=0.20.0->sentence-transformers) (3.16.1)\n",
            "Requirement already satisfied: fsspec>=2023.5.0 in /usr/local/lib/python3.10/dist-packages (from huggingface-hub>=0.20.0->sentence-transformers) (2024.6.1)\n",
            "Requirement already satisfied: packaging>=20.9 in /usr/local/lib/python3.10/dist-packages (from huggingface-hub>=0.20.0->sentence-transformers) (24.1)\n",
            "Requirement already satisfied: pyyaml>=5.1 in /usr/local/lib/python3.10/dist-packages (from huggingface-hub>=0.20.0->sentence-transformers) (6.0.2)\n",
            "Requirement already satisfied: requests in /usr/local/lib/python3.10/dist-packages (from huggingface-hub>=0.20.0->sentence-transformers) (2.32.3)\n",
            "Requirement already satisfied: typing-extensions>=3.7.4.3 in /usr/local/lib/python3.10/dist-packages (from huggingface-hub>=0.20.0->sentence-transformers) (4.12.2)\n",
            "Requirement already satisfied: sympy in /usr/local/lib/python3.10/dist-packages (from torch>=1.11.0->sentence-transformers) (1.13.3)\n",
            "Requirement already satisfied: networkx in /usr/local/lib/python3.10/dist-packages (from torch>=1.11.0->sentence-transformers) (3.3)\n",
            "Requirement already satisfied: jinja2 in /usr/local/lib/python3.10/dist-packages (from torch>=1.11.0->sentence-transformers) (3.1.4)\n",
            "Requirement already satisfied: numpy>=1.17 in /usr/local/lib/python3.10/dist-packages (from transformers<5.0.0,>=4.41.0->sentence-transformers) (1.26.4)\n",
            "Requirement already satisfied: regex!=2019.12.17 in /usr/local/lib/python3.10/dist-packages (from transformers<5.0.0,>=4.41.0->sentence-transformers) (2024.9.11)\n",
            "Requirement already satisfied: safetensors>=0.4.1 in /usr/local/lib/python3.10/dist-packages (from transformers<5.0.0,>=4.41.0->sentence-transformers) (0.4.5)\n",
            "Requirement already satisfied: tokenizers<0.21,>=0.20 in /usr/local/lib/python3.10/dist-packages (from transformers<5.0.0,>=4.41.0->sentence-transformers) (0.20.1)\n",
            "Requirement already satisfied: joblib>=1.2.0 in /usr/local/lib/python3.10/dist-packages (from scikit-learn->sentence-transformers) (1.4.2)\n",
            "Requirement already satisfied: threadpoolctl>=3.1.0 in /usr/local/lib/python3.10/dist-packages (from scikit-learn->sentence-transformers) (3.5.0)\n",
            "Requirement already satisfied: MarkupSafe>=2.0 in /usr/local/lib/python3.10/dist-packages (from jinja2->torch>=1.11.0->sentence-transformers) (2.1.5)\n",
            "Requirement already satisfied: charset-normalizer<4,>=2 in /usr/local/lib/python3.10/dist-packages (from requests->huggingface-hub>=0.20.0->sentence-transformers) (3.3.2)\n",
            "Requirement already satisfied: idna<4,>=2.5 in /usr/local/lib/python3.10/dist-packages (from requests->huggingface-hub>=0.20.0->sentence-transformers) (3.10)\n",
            "Requirement already satisfied: urllib3<3,>=1.21.1 in /usr/local/lib/python3.10/dist-packages (from requests->huggingface-hub>=0.20.0->sentence-transformers) (2.2.3)\n",
            "Requirement already satisfied: certifi>=2017.4.17 in /usr/local/lib/python3.10/dist-packages (from requests->huggingface-hub>=0.20.0->sentence-transformers) (2024.8.30)\n",
            "Requirement already satisfied: mpmath<1.4,>=1.1.0 in /usr/local/lib/python3.10/dist-packages (from sympy->torch>=1.11.0->sentence-transformers) (1.3.0)\n",
            "Requirement already satisfied: faiss-gpu in /usr/local/lib/python3.10/dist-packages (1.7.2)\n",
            "Requirement already satisfied: peft in /usr/local/lib/python3.10/dist-packages (0.13.2)\n",
            "Requirement already satisfied: numpy>=1.17 in /usr/local/lib/python3.10/dist-packages (from peft) (1.26.4)\n",
            "Requirement already satisfied: packaging>=20.0 in /usr/local/lib/python3.10/dist-packages (from peft) (24.1)\n",
            "Requirement already satisfied: psutil in /usr/local/lib/python3.10/dist-packages (from peft) (5.9.5)\n",
            "Requirement already satisfied: pyyaml in /usr/local/lib/python3.10/dist-packages (from peft) (6.0.2)\n",
            "Requirement already satisfied: torch>=1.13.0 in /usr/local/lib/python3.10/dist-packages (from peft) (2.4.1+cu121)\n",
            "Requirement already satisfied: transformers in /usr/local/lib/python3.10/dist-packages (from peft) (4.45.2)\n",
            "Requirement already satisfied: tqdm in /usr/local/lib/python3.10/dist-packages (from peft) (4.66.5)\n",
            "Requirement already satisfied: accelerate>=0.21.0 in /usr/local/lib/python3.10/dist-packages (from peft) (1.0.1)\n",
            "Requirement already satisfied: safetensors in /usr/local/lib/python3.10/dist-packages (from peft) (0.4.5)\n",
            "Requirement already satisfied: huggingface-hub>=0.17.0 in /usr/local/lib/python3.10/dist-packages (from peft) (0.24.7)\n",
            "Requirement already satisfied: filelock in /usr/local/lib/python3.10/dist-packages (from huggingface-hub>=0.17.0->peft) (3.16.1)\n",
            "Requirement already satisfied: fsspec>=2023.5.0 in /usr/local/lib/python3.10/dist-packages (from huggingface-hub>=0.17.0->peft) (2024.6.1)\n",
            "Requirement already satisfied: requests in /usr/local/lib/python3.10/dist-packages (from huggingface-hub>=0.17.0->peft) (2.32.3)\n",
            "Requirement already satisfied: typing-extensions>=3.7.4.3 in /usr/local/lib/python3.10/dist-packages (from huggingface-hub>=0.17.0->peft) (4.12.2)\n",
            "Requirement already satisfied: sympy in /usr/local/lib/python3.10/dist-packages (from torch>=1.13.0->peft) (1.13.3)\n",
            "Requirement already satisfied: networkx in /usr/local/lib/python3.10/dist-packages (from torch>=1.13.0->peft) (3.3)\n",
            "Requirement already satisfied: jinja2 in /usr/local/lib/python3.10/dist-packages (from torch>=1.13.0->peft) (3.1.4)\n",
            "Requirement already satisfied: regex!=2019.12.17 in /usr/local/lib/python3.10/dist-packages (from transformers->peft) (2024.9.11)\n",
            "Requirement already satisfied: tokenizers<0.21,>=0.20 in /usr/local/lib/python3.10/dist-packages (from transformers->peft) (0.20.1)\n",
            "Requirement already satisfied: MarkupSafe>=2.0 in /usr/local/lib/python3.10/dist-packages (from jinja2->torch>=1.13.0->peft) (2.1.5)\n",
            "Requirement already satisfied: charset-normalizer<4,>=2 in /usr/local/lib/python3.10/dist-packages (from requests->huggingface-hub>=0.17.0->peft) (3.3.2)\n",
            "Requirement already satisfied: idna<4,>=2.5 in /usr/local/lib/python3.10/dist-packages (from requests->huggingface-hub>=0.17.0->peft) (3.10)\n",
            "Requirement already satisfied: urllib3<3,>=1.21.1 in /usr/local/lib/python3.10/dist-packages (from requests->huggingface-hub>=0.17.0->peft) (2.2.3)\n",
            "Requirement already satisfied: certifi>=2017.4.17 in /usr/local/lib/python3.10/dist-packages (from requests->huggingface-hub>=0.17.0->peft) (2024.8.30)\n",
            "Requirement already satisfied: mpmath<1.4,>=1.1.0 in /usr/local/lib/python3.10/dist-packages (from sympy->torch>=1.13.0->peft) (1.3.0)\n",
            "Requirement already satisfied: trl in /usr/local/lib/python3.10/dist-packages (0.11.3)\n",
            "Requirement already satisfied: torch>=1.4.0 in /usr/local/lib/python3.10/dist-packages (from trl) (2.4.1+cu121)\n",
            "Requirement already satisfied: transformers>=4.40.0 in /usr/local/lib/python3.10/dist-packages (from trl) (4.45.2)\n",
            "Requirement already satisfied: accelerate in /usr/local/lib/python3.10/dist-packages (from trl) (1.0.1)\n",
            "Requirement already satisfied: datasets in /usr/local/lib/python3.10/dist-packages (from trl) (3.0.1)\n",
            "Requirement already satisfied: tyro>=0.5.11 in /usr/local/lib/python3.10/dist-packages (from trl) (0.8.12)\n",
            "Requirement already satisfied: numpy>=1.18.2 in /usr/local/lib/python3.10/dist-packages (from trl) (1.26.4)\n",
            "Requirement already satisfied: filelock in /usr/local/lib/python3.10/dist-packages (from torch>=1.4.0->trl) (3.16.1)\n",
            "Requirement already satisfied: typing-extensions>=4.8.0 in /usr/local/lib/python3.10/dist-packages (from torch>=1.4.0->trl) (4.12.2)\n",
            "Requirement already satisfied: sympy in /usr/local/lib/python3.10/dist-packages (from torch>=1.4.0->trl) (1.13.3)\n",
            "Requirement already satisfied: networkx in /usr/local/lib/python3.10/dist-packages (from torch>=1.4.0->trl) (3.3)\n",
            "Requirement already satisfied: jinja2 in /usr/local/lib/python3.10/dist-packages (from torch>=1.4.0->trl) (3.1.4)\n",
            "Requirement already satisfied: fsspec in /usr/local/lib/python3.10/dist-packages (from torch>=1.4.0->trl) (2024.6.1)\n",
            "Requirement already satisfied: huggingface-hub<1.0,>=0.23.2 in /usr/local/lib/python3.10/dist-packages (from transformers>=4.40.0->trl) (0.24.7)\n",
            "Requirement already satisfied: packaging>=20.0 in /usr/local/lib/python3.10/dist-packages (from transformers>=4.40.0->trl) (24.1)\n",
            "Requirement already satisfied: pyyaml>=5.1 in /usr/local/lib/python3.10/dist-packages (from transformers>=4.40.0->trl) (6.0.2)\n",
            "Requirement already satisfied: regex!=2019.12.17 in /usr/local/lib/python3.10/dist-packages (from transformers>=4.40.0->trl) (2024.9.11)\n",
            "Requirement already satisfied: requests in /usr/local/lib/python3.10/dist-packages (from transformers>=4.40.0->trl) (2.32.3)\n",
            "Requirement already satisfied: safetensors>=0.4.1 in /usr/local/lib/python3.10/dist-packages (from transformers>=4.40.0->trl) (0.4.5)\n",
            "Requirement already satisfied: tokenizers<0.21,>=0.20 in /usr/local/lib/python3.10/dist-packages (from transformers>=4.40.0->trl) (0.20.1)\n",
            "Requirement already satisfied: tqdm>=4.27 in /usr/local/lib/python3.10/dist-packages (from transformers>=4.40.0->trl) (4.66.5)\n",
            "Requirement already satisfied: docstring-parser>=0.16 in /usr/local/lib/python3.10/dist-packages (from tyro>=0.5.11->trl) (0.16)\n",
            "Requirement already satisfied: rich>=11.1.0 in /usr/local/lib/python3.10/dist-packages (from tyro>=0.5.11->trl) (13.9.2)\n",
            "Requirement already satisfied: shtab>=1.5.6 in /usr/local/lib/python3.10/dist-packages (from tyro>=0.5.11->trl) (1.7.1)\n",
            "Requirement already satisfied: psutil in /usr/local/lib/python3.10/dist-packages (from accelerate->trl) (5.9.5)\n",
            "Requirement already satisfied: pyarrow>=15.0.0 in /usr/local/lib/python3.10/dist-packages (from datasets->trl) (16.1.0)\n",
            "Requirement already satisfied: dill<0.3.9,>=0.3.0 in /usr/local/lib/python3.10/dist-packages (from datasets->trl) (0.3.8)\n",
            "Requirement already satisfied: pandas in /usr/local/lib/python3.10/dist-packages (from datasets->trl) (2.2.2)\n",
            "Requirement already satisfied: xxhash in /usr/local/lib/python3.10/dist-packages (from datasets->trl) (3.5.0)\n",
            "Requirement already satisfied: multiprocess in /usr/local/lib/python3.10/dist-packages (from datasets->trl) (0.70.16)\n",
            "Requirement already satisfied: aiohttp in /usr/local/lib/python3.10/dist-packages (from datasets->trl) (3.10.9)\n",
            "Requirement already satisfied: aiohappyeyeballs>=2.3.0 in /usr/local/lib/python3.10/dist-packages (from aiohttp->datasets->trl) (2.4.3)\n",
            "Requirement already satisfied: aiosignal>=1.1.2 in /usr/local/lib/python3.10/dist-packages (from aiohttp->datasets->trl) (1.3.1)\n",
            "Requirement already satisfied: attrs>=17.3.0 in /usr/local/lib/python3.10/dist-packages (from aiohttp->datasets->trl) (24.2.0)\n",
            "Requirement already satisfied: frozenlist>=1.1.1 in /usr/local/lib/python3.10/dist-packages (from aiohttp->datasets->trl) (1.4.1)\n",
            "Requirement already satisfied: multidict<7.0,>=4.5 in /usr/local/lib/python3.10/dist-packages (from aiohttp->datasets->trl) (6.1.0)\n",
            "Requirement already satisfied: yarl<2.0,>=1.12.0 in /usr/local/lib/python3.10/dist-packages (from aiohttp->datasets->trl) (1.13.1)\n",
            "Requirement already satisfied: async-timeout<5.0,>=4.0 in /usr/local/lib/python3.10/dist-packages (from aiohttp->datasets->trl) (4.0.3)\n",
            "Requirement already satisfied: charset-normalizer<4,>=2 in /usr/local/lib/python3.10/dist-packages (from requests->transformers>=4.40.0->trl) (3.3.2)\n",
            "Requirement already satisfied: idna<4,>=2.5 in /usr/local/lib/python3.10/dist-packages (from requests->transformers>=4.40.0->trl) (3.10)\n",
            "Requirement already satisfied: urllib3<3,>=1.21.1 in /usr/local/lib/python3.10/dist-packages (from requests->transformers>=4.40.0->trl) (2.2.3)\n",
            "Requirement already satisfied: certifi>=2017.4.17 in /usr/local/lib/python3.10/dist-packages (from requests->transformers>=4.40.0->trl) (2024.8.30)\n",
            "Requirement already satisfied: markdown-it-py>=2.2.0 in /usr/local/lib/python3.10/dist-packages (from rich>=11.1.0->tyro>=0.5.11->trl) (3.0.0)\n",
            "Requirement already satisfied: pygments<3.0.0,>=2.13.0 in /usr/local/lib/python3.10/dist-packages (from rich>=11.1.0->tyro>=0.5.11->trl) (2.18.0)\n",
            "Requirement already satisfied: MarkupSafe>=2.0 in /usr/local/lib/python3.10/dist-packages (from jinja2->torch>=1.4.0->trl) (2.1.5)\n",
            "Requirement already satisfied: python-dateutil>=2.8.2 in /usr/local/lib/python3.10/dist-packages (from pandas->datasets->trl) (2.8.2)\n",
            "Requirement already satisfied: pytz>=2020.1 in /usr/local/lib/python3.10/dist-packages (from pandas->datasets->trl) (2024.2)\n",
            "Requirement already satisfied: tzdata>=2022.7 in /usr/local/lib/python3.10/dist-packages (from pandas->datasets->trl) (2024.2)\n",
            "Requirement already satisfied: mpmath<1.4,>=1.1.0 in /usr/local/lib/python3.10/dist-packages (from sympy->torch>=1.4.0->trl) (1.3.0)\n",
            "Requirement already satisfied: mdurl~=0.1 in /usr/local/lib/python3.10/dist-packages (from markdown-it-py>=2.2.0->rich>=11.1.0->tyro>=0.5.11->trl) (0.1.2)\n",
            "Requirement already satisfied: six>=1.5 in /usr/local/lib/python3.10/dist-packages (from python-dateutil>=2.8.2->pandas->datasets->trl) (1.16.0)\n",
            "Requirement already satisfied: accelerate in /usr/local/lib/python3.10/dist-packages (1.0.1)\n",
            "Requirement already satisfied: numpy<3.0.0,>=1.17 in /usr/local/lib/python3.10/dist-packages (from accelerate) (1.26.4)\n",
            "Requirement already satisfied: packaging>=20.0 in /usr/local/lib/python3.10/dist-packages (from accelerate) (24.1)\n",
            "Requirement already satisfied: psutil in /usr/local/lib/python3.10/dist-packages (from accelerate) (5.9.5)\n",
            "Requirement already satisfied: pyyaml in /usr/local/lib/python3.10/dist-packages (from accelerate) (6.0.2)\n",
            "Requirement already satisfied: torch>=1.10.0 in /usr/local/lib/python3.10/dist-packages (from accelerate) (2.4.1+cu121)\n",
            "Requirement already satisfied: huggingface-hub>=0.21.0 in /usr/local/lib/python3.10/dist-packages (from accelerate) (0.24.7)\n",
            "Requirement already satisfied: safetensors>=0.4.3 in /usr/local/lib/python3.10/dist-packages (from accelerate) (0.4.5)\n",
            "Requirement already satisfied: filelock in /usr/local/lib/python3.10/dist-packages (from huggingface-hub>=0.21.0->accelerate) (3.16.1)\n",
            "Requirement already satisfied: fsspec>=2023.5.0 in /usr/local/lib/python3.10/dist-packages (from huggingface-hub>=0.21.0->accelerate) (2024.6.1)\n",
            "Requirement already satisfied: requests in /usr/local/lib/python3.10/dist-packages (from huggingface-hub>=0.21.0->accelerate) (2.32.3)\n",
            "Requirement already satisfied: tqdm>=4.42.1 in /usr/local/lib/python3.10/dist-packages (from huggingface-hub>=0.21.0->accelerate) (4.66.5)\n",
            "Requirement already satisfied: typing-extensions>=3.7.4.3 in /usr/local/lib/python3.10/dist-packages (from huggingface-hub>=0.21.0->accelerate) (4.12.2)\n",
            "Requirement already satisfied: sympy in /usr/local/lib/python3.10/dist-packages (from torch>=1.10.0->accelerate) (1.13.3)\n",
            "Requirement already satisfied: networkx in /usr/local/lib/python3.10/dist-packages (from torch>=1.10.0->accelerate) (3.3)\n",
            "Requirement already satisfied: jinja2 in /usr/local/lib/python3.10/dist-packages (from torch>=1.10.0->accelerate) (3.1.4)\n",
            "Requirement already satisfied: MarkupSafe>=2.0 in /usr/local/lib/python3.10/dist-packages (from jinja2->torch>=1.10.0->accelerate) (2.1.5)\n",
            "Requirement already satisfied: charset-normalizer<4,>=2 in /usr/local/lib/python3.10/dist-packages (from requests->huggingface-hub>=0.21.0->accelerate) (3.3.2)\n",
            "Requirement already satisfied: idna<4,>=2.5 in /usr/local/lib/python3.10/dist-packages (from requests->huggingface-hub>=0.21.0->accelerate) (3.10)\n",
            "Requirement already satisfied: urllib3<3,>=1.21.1 in /usr/local/lib/python3.10/dist-packages (from requests->huggingface-hub>=0.21.0->accelerate) (2.2.3)\n",
            "Requirement already satisfied: certifi>=2017.4.17 in /usr/local/lib/python3.10/dist-packages (from requests->huggingface-hub>=0.21.0->accelerate) (2024.8.30)\n",
            "Requirement already satisfied: mpmath<1.4,>=1.1.0 in /usr/local/lib/python3.10/dist-packages (from sympy->torch>=1.10.0->accelerate) (1.3.0)\n"
          ]
        }
      ],
      "source": [
        "!apt-get install tesseract-ocr\n",
        "!apt-get install poppler-utils\n",
        "\n",
        "!pip install orjson==3.10.6\n",
        "\n",
        "!pip install -i https://pypi.org/simple/ bitsandbytes\n",
        "!pip install transformers[torch] -U\n",
        "\n",
        "!pip install datasets\n",
        "!pip install langchain\n",
        "!pip install langchain_community\n",
        "!pip install langchain-teddynote\n",
        "!pip install sentence-transformers\n",
        "!pip install faiss-gpu\n",
        "!pip install peft\n",
        "!pip install trl\n",
        "!pip install -U accelerate"
      ]
    },
    {
      "cell_type": "markdown",
      "metadata": {
        "id": "CB-3QyUXD47R"
      },
      "source": [
        "# Import Library"
      ]
    },
    {
      "cell_type": "code",
      "source": [
        "import os\n",
        "import unicodedata\n",
        "\n",
        "import torch\n",
        "import pandas as pd\n",
        "from tqdm.auto import tqdm\n",
        "\n",
        "from langchain.document_loaders.parsers.pdf import PDFPlumberParser"
      ],
      "metadata": {
        "id": "3xWvuNVtSUBo"
      },
      "execution_count": 9,
      "outputs": []
    },
    {
      "cell_type": "code",
      "execution_count": 10,
      "metadata": {
        "id": "EiF6VIEmD47R"
      },
      "outputs": [],
      "source": [
        "from transformers import (\n",
        "    AutoTokenizer,\n",
        "    AutoModelForCausalLM,\n",
        "    pipeline,\n",
        "    BitsAndBytesConfig\n",
        ")\n",
        "from accelerate import Accelerator\n",
        "\n",
        "# peft\n",
        "from peft import prepare_model_for_kbit_training\n",
        "from peft import PeftModel\n",
        "from peft import LoraConfig, get_peft_model\n",
        "\n",
        "\n",
        "# Langchain 관련\n",
        "from langchain.llms import HuggingFacePipeline\n",
        "from langchain.embeddings import HuggingFaceEmbeddings\n",
        "from langchain.vectorstores import FAISS\n",
        "from langchain.schema import Document\n",
        "from langchain.text_splitter import RecursiveCharacterTextSplitter, MarkdownHeaderTextSplitter\n",
        "from langchain.prompts import PromptTemplate\n",
        "from langchain.schema.runnable import RunnablePassthrough, RunnableParallel\n",
        "from langchain.schema.output_parser import StrOutputParser\n",
        "\n",
        "# PDF 로딩/청크화 관련\n",
        "from langchain.document_loaders.parsers.pdf import PDFPlumberParser\n",
        "from langchain.document_loaders.pdf import PDFPlumberLoader\n",
        "from langchain.document_loaders import UnstructuredPDFLoader\n",
        "from langchain_teddynote.retrievers import KiwiBM25Retriever\n",
        "from langchain.retrievers import EnsembleRetriever, MultiQueryRetriever\n"
      ]
    },
    {
      "cell_type": "markdown",
      "source": [
        "## monkeypatching for dora"
      ],
      "metadata": {
        "id": "jAVxXBaNv8ZP"
      }
    },
    {
      "cell_type": "code",
      "source": [
        "import torch\n",
        "from transformers.models.gemma2 import modeling_gemma2\n",
        "from typing import List, Optional, Tuple, Union\n",
        "from transformers.cache_utils import Cache, HybridCache\n",
        "def gemma2_forward(\n",
        "    self,\n",
        "    hidden_states: torch.Tensor,\n",
        "    attention_mask: Optional[torch.Tensor] = None,\n",
        "    position_ids: Optional[torch.LongTensor] = None,\n",
        "    past_key_value: Optional[Cache] = None,\n",
        "    output_attentions: Optional[bool] = False,\n",
        "    use_cache: Optional[bool] = False,\n",
        "    cache_position: Optional[torch.LongTensor] = None,\n",
        ") -> Tuple[torch.FloatTensor, Optional[Tuple[torch.FloatTensor, torch.FloatTensor]]]:\n",
        "    \"\"\"\n",
        "    Args:\n",
        "        hidden_states (`torch.FloatTensor`): input to the layer of shape `(batch, seq_len, embed_dim)`\n",
        "        attention_mask (`torch.FloatTensor`, *optional*):\n",
        "            attention mask of size `(batch_size, sequence_length)` if flash attention is used or `(batch_size, 1,\n",
        "            query_sequence_length, key_sequence_length)` if default attention is used.\n",
        "        output_attentions (`bool`, *optional*):\n",
        "            Whether or not to return the attentions tensors of all attention layers. See `attentions` under\n",
        "            returned tensors for more detail.\n",
        "        use_cache (`bool`, *optional*):\n",
        "            If set to `True`, `past_key_values` key value states are returned and can be used to speed up decoding\n",
        "            (see `past_key_values`).\n",
        "        past_key_value (`Tuple(torch.FloatTensor)`, *optional*): cached past key and value projection states\n",
        "        cache_position (`torch.LongTensor` of shape `(sequence_length)`, *optional*):\n",
        "            Indices depicting the position of the input sequence tokens in the sequence\n",
        "        kwargs (`dict`, *optional*):\n",
        "            Arbitrary kwargs to be ignored, used for FSDP and other methods that injects code\n",
        "            into the model\n",
        "    \"\"\"\n",
        "    if self.is_sliding and attention_mask is not None:  # efficient SDPA and no padding\n",
        "        # Flash-attn is a 2D tensor\n",
        "        if self.config._attn_implementation == \"flash_attention_2\":\n",
        "            if past_key_value is not None:  # when decoding\n",
        "                attention_mask = attention_mask[:, -self.sliding_window :]\n",
        "        else:\n",
        "            min_dtype = torch.finfo(torch.float16).min\n",
        "            sliding_window_mask = torch.tril(\n",
        "                torch.ones_like(attention_mask, dtype=torch.bool), diagonal=-self.sliding_window\n",
        "            )\n",
        "            attention_mask = torch.where(sliding_window_mask, min_dtype, attention_mask)\n",
        "            if attention_mask.shape[-1] <= 1:  # when decoding\n",
        "                attention_mask = attention_mask[:, :, :, -self.sliding_window :]\n",
        "\n",
        "    residual = hidden_states\n",
        "\n",
        "    hidden_states = self.input_layernorm(hidden_states)\n",
        "\n",
        "    # Self Attention\n",
        "    hidden_states, self_attn_weights, present_key_value = self.self_attn(\n",
        "        hidden_states=hidden_states,\n",
        "        attention_mask=attention_mask,\n",
        "        position_ids=position_ids,\n",
        "        past_key_value=past_key_value,\n",
        "        output_attentions=output_attentions,\n",
        "        use_cache=use_cache,\n",
        "        cache_position=cache_position,\n",
        "    )\n",
        "    hidden_states = self.post_attention_layernorm(hidden_states)\n",
        "    hidden_states = residual + hidden_states\n",
        "\n",
        "    residual = hidden_states\n",
        "    hidden_states = self.pre_feedforward_layernorm(hidden_states)\n",
        "    hidden_states = self.mlp(hidden_states)\n",
        "    hidden_states = self.post_feedforward_layernorm(hidden_states)\n",
        "    hidden_states = residual + hidden_states\n",
        "\n",
        "    outputs = (hidden_states,)\n",
        "\n",
        "    if output_attentions:\n",
        "        outputs += (self_attn_weights,)\n",
        "\n",
        "    if use_cache:\n",
        "        outputs += (present_key_value,)\n",
        "\n",
        "    return outputs\n",
        "\n",
        "modeling_gemma2.Gemma2DecoderLayer.forward = gemma2_forward"
      ],
      "metadata": {
        "id": "D9GNTbcuv5RQ"
      },
      "execution_count": 11,
      "outputs": []
    },
    {
      "cell_type": "markdown",
      "metadata": {
        "id": "AsS968DYD47S"
      },
      "source": [
        "# Fine-Tuning"
      ]
    },
    {
      "cell_type": "code",
      "execution_count": 12,
      "metadata": {
        "id": "saSxzHNqWua7"
      },
      "outputs": [],
      "source": [
        "# 모델 ID\n",
        "model_cands={\n",
        " 'llama2' : \"beomi/llama-2-ko-7b\",\n",
        " 'yi' : \"beomi/Yi-Ko-6B\",\n",
        " 'solar-beom' : \"beomi/Solar-Ko-Recovery-11B\",\n",
        " 'gemma2' : \"rtzr/ko-gemma-2-9b-it\",\n",
        " 'solar-lee' : \"chihoonlee10/T3Q-ko-solar-dpo-v8.0\",\n",
        " 'llama31' : \"KISTI-KONI/KONI-Llama3-8B-Instruct-20240729\",\n",
        "}\n",
        "\n",
        "model_id = model_cands['gemma2']"
      ]
    },
    {
      "cell_type": "code",
      "execution_count": 13,
      "metadata": {
        "id": "yoGFrRntLGPH"
      },
      "outputs": [],
      "source": [
        "# 모델 로드 및 양자화 설정 적용\n",
        "\n",
        "def load_model_w_setting(model_id,add_output_token=False,**kwargs):\n",
        "  # 4비트 양자화 설정\n",
        "  bnb_config = BitsAndBytesConfig(\n",
        "      load_in_4bit=True,\n",
        "      bnb_4bit_use_double_quant=True,\n",
        "      bnb_4bit_quant_type=\"nf4\",\n",
        "      bnb_4bit_compute_dtype=torch.bfloat16\n",
        "  )\n",
        "\n",
        "  # 토크나이저 로드 및 설정\n",
        "  tokenizer = AutoTokenizer.from_pretrained(model_id)\n",
        "  tokenizer.use_default_system_prompt = False\n",
        "  tokenizer.padding_side=\"right\"\n",
        "\n",
        "  model= AutoModelForCausalLM.from_pretrained(\n",
        "      model_id,\n",
        "      quantization_config=bnb_config,\n",
        "      device_map=\"auto\",\n",
        "      trust_remote_code=True,\n",
        "      **kwargs\n",
        "      )\n",
        "\n",
        "# 일부 모델의 경우 토크나이저에 답변 토큰 추가 작업 필요\n",
        "  if add_output_token :\n",
        "    initial_token_count = len(tokenizer)\n",
        "    response_template = '답변: '\n",
        "    added_token_count = tokenizer.add_special_tokens({\"additional_special_tokens\": [response_template]})\n",
        "    model.resize_token_embeddings(new_num_tokens=initial_token_count+added_token_count)\n",
        "\n",
        "  return model, tokenizer"
      ]
    },
    {
      "cell_type": "code",
      "execution_count": 14,
      "metadata": {
        "colab": {
          "base_uri": "https://localhost:8080/",
          "height": 160,
          "referenced_widgets": [
            "1b5261ca9e3b4c4eb1698a9e6a0adf8a",
            "fcf2e79f3c4e41a8a916a807660e0218",
            "3307458fa4cf4afc9cfcb453cb8a609f",
            "de497d0c62ae45228ab4b6075ffed3e9",
            "8755903d2bcc4a85b17195f84a96770b",
            "d44631b567e84707b4d173889bd83ec2",
            "b3cc205ec43e46ce8afce10f05ab1ddb",
            "0385c34a4f7a4b4aa6c5d272f1d2e1e6",
            "ffd5a1afcd5d4b03a51892dd4f0a0c36",
            "981cb60c416f4f5d922f9e8f18aaef66",
            "4bfdfb521bf94ad2a2e9a3fbd4aedc1a"
          ]
        },
        "id": "14-JXX7zsMZC",
        "outputId": "4e4603d3-2a95-4781-f3aa-c83e7eedc23a"
      },
      "outputs": [
        {
          "output_type": "stream",
          "name": "stderr",
          "text": [
            "/usr/local/lib/python3.10/dist-packages/huggingface_hub/utils/_token.py:89: UserWarning: \n",
            "The secret `HF_TOKEN` does not exist in your Colab secrets.\n",
            "To authenticate with the Hugging Face Hub, create a token in your settings tab (https://huggingface.co/settings/tokens), set it as secret in your Google Colab and restart your session.\n",
            "You will be able to reuse this secret in all of your notebooks.\n",
            "Please note that authentication is recommended but still optional to access public models or datasets.\n",
            "  warnings.warn(\n"
          ]
        },
        {
          "output_type": "display_data",
          "data": {
            "text/plain": [
              "Loading checkpoint shards:   0%|          | 0/10 [00:00<?, ?it/s]"
            ],
            "application/vnd.jupyter.widget-view+json": {
              "version_major": 2,
              "version_minor": 0,
              "model_id": "1b5261ca9e3b4c4eb1698a9e6a0adf8a"
            }
          },
          "metadata": {}
        }
      ],
      "source": [
        "model,tokenizer = load_model_w_setting(model_id,attn_implementation='eager')"
      ]
    },
    {
      "cell_type": "code",
      "execution_count": 15,
      "metadata": {
        "id": "9JY8Kc-jNiyT"
      },
      "outputs": [],
      "source": [
        "#데이터셋 로드\n",
        "from datasets import load_dataset\n",
        "\n",
        "dataset_url = dataset_name\n",
        "train_dataset = load_dataset(dataset_url)"
      ]
    },
    {
      "cell_type": "code",
      "execution_count": 16,
      "metadata": {
        "colab": {
          "base_uri": "https://localhost:8080/"
        },
        "id": "xGY4tvngMWAX",
        "outputId": "8602fbf9-07dd-4075-bd9b-1510265c4b70"
      },
      "outputs": [
        {
          "output_type": "execute_result",
          "data": {
            "text/plain": [
              "(415, 1951)"
            ]
          },
          "metadata": {},
          "execution_count": 16
        }
      ],
      "source": [
        "# 문맥 잘못됐나 확인 - 문맥 길이 체크\n",
        "import numpy as np\n",
        "amax = np.argmax([len(x) for x in train_dataset['train']['context']])\n",
        "amax, len(train_dataset['train']['context'][amax])"
      ]
    },
    {
      "cell_type": "code",
      "execution_count": 17,
      "metadata": {
        "colab": {
          "base_uri": "https://localhost:8080/"
        },
        "id": "JuRwHvpVHW9q",
        "outputId": "0dc4e27e-30ef-4194-a506-601ea42ea002"
      },
      "outputs": [
        {
          "output_type": "stream",
          "name": "stdout",
          "text": [
            "2022년의 국가 예산에서 불용된 금액은 얼마나 되는가?\n",
            "--------\n",
            "-----  \n",
            "###### Ⅰ.  \n",
            "▸ (정부 출자주식 배당수입) 2023년 기준, 정부가 출자한 39개 기관 중 배당이 결정된 22개 기관의 배당수입은 1조 2,387조원으로 평균 배당성향*은 39.9%임  \n",
            "- 정부의 출자는 배당과 지분매각 형태의 수입으로 출자지급 금액을 회수  \n",
            "- (배당성향) 회사가 주주에게 당기순이익 중 얼마나 배당금으로 지급했는지 나타내는 지표로, 정부는 2014년에 수립한 배당성향 목표인\n",
            "40%로 2026년까지 동결\n",
            "###### (1) 집행, 이월 및 불용 추이  \n",
            "▸ 2022년 총지출 기준, 세출예산현액*은 690.4조원, 지출액은 670.8조원(세출 외 제외)으로, 예산현액 대비 97.2%를 집행  \n",
            "- 세출예산현액: 예산 확정 후 전년도로부터의 이월액 반영, 추경 편성, 기금운용계획 변경, 이용･전용, 예비비\n",
            "증액 등을 반영한 것으로, 실제 지출할 수 있는 한도액을 의미  \n",
            "###### ∙\n",
            "집행률(예산현액 대비 지출액)은 95.2%~97.8%를 유지\n",
            "-----  \n",
            "2022 코로나 완전 극복과 민생안정  \n",
            "###### 0 주요재정통계 Ⅰ. 참고연도별 추가경정예산 편성 사유 및 주요 사업  \n",
            "▸ 추가경정예산은 예산 성립 후 법률로 인정되는 사유로 인해 예산에 추가 또는 변경을 가한 예산을\n",
            "의미\n",
            "∙\n",
            "｢국가재정법｣ 제정 이전에는 추경을 포괄적으로 규정하고 편성 사유를 제한하지 않았으나,  \n",
            "2007년 시행된 ｢국가재정법｣에서는 추경 편성 사유를 구체적으로 규정\n",
            "###### ∙\n",
            "총지출 기준, 다음 연도 이월액은 2022년 결산 기준 4.9조원으로 예산현액  \n",
            "대비 이월액 비중은 0.7%이며, 2016~2020년까지 감소하였으나, 2021년 이후  \n",
            "다시 증가  \n",
            "###### ∙\n",
            "총지출 기준, 불용액은 2022년 14.8조원으로, 예산현액 대비 불용률이 전년  \n",
            "2.3%에서 2.1%로 감소  \n",
            "[표 3-31] 총지출 기준 집행 추이 (단위: 조원, %)\n",
            "∙\n",
            "공공서비스에 대한 이전지출은 지급에 상당하는 반대급부가 없으며, 따라서 배당이 있는 출자,  \n",
            "원금과 이자상환이 있는 융자, 지급 원금에 상당하는 자산취득과 구분됨  \n",
            "###### ∙\n",
            "출연금은 이전지출 중에서 법률에 따라 설치된 기관에 대한 지원을 의미하며, 지방자치단체 또는  \n",
            "민간 단체에 대한 이전, 손실보상 또는 배상 성격의 보전금과 구분됨  \n",
            "[참고 표] 이전지출의 분류와 개념  \n",
            "국고보조금출연금  \n",
            "･ 법률에 따라 설치된 기관에서\n",
            "합계\n",
            "(100.0) (100.0) (100.0) (100.0) (100.0) (100.0)  \n",
            "주: 결산 기준\n",
            "자료: 디지털예산회계시스템  \n",
            "-----  \n",
            "###### Ⅰ.  \n",
            "▸ (성질별 불용) 2022년 기준, 불용은 성질별로 이전지출 10.1조원(68.3%), 자산취득 1.9조원(12.6%) 등의 순임  \n",
            "[표 3-40] 성질별 불용 추이 (단위: 억원, %)  \n",
            "**2017 2018 2019 2020 2021 2022**\n",
            "합계\n",
            "(100.0) (100.0) (100.0) (100.0) (100.0) (100.0) (100.0) (100.0)  \n",
            "자료: 디지털예산회계시스템  \n",
            "[표 3-22] 분야별 이차보전 지출 추이 (단위: 억원, %)  \n",
            "-----  \n",
            "이차보전은 국가가 특정 목적을 위하여 특정 부문에 조달된 자금의 조달금리와 대출금리의  \n",
            "차이를 보전해 주는 것으로, 정부가 직접 자금을 조달할 필요가 없다는 점에서 융자와 구분됨  \n",
            "[참고 표] 출자와 융자 비교\n",
            "###### ▸ (분야별 불용) 2022년 기준, 분야별 불용은 사회복지 분야 4.8조원(32.3%), 일반･지방행정 분야 2.9조원(19.6%)의 순으로 규모가 큼\n",
            "∙\n",
            "일반･지방행정 분야의 불용 증가가 가장 큼(2017년 9,993억원→2022년 2조 8,936억원)  \n",
            "[표 3-37] 분야별 불용 추이 (단위: 억원, %)  \n",
            "**2017 2018 2019 2020 2021 2022**  \n",
            "[표 3-37] 분야별 불용 추이 (단위: 억원, %)\n",
            "\n",
            "--------\n",
            "2022년 국가 예산의 불용액은 14.8조원이다.\n"
          ]
        }
      ],
      "source": [
        "def print_dataset_ele(data,i):\n",
        "  print(data['question'][i])\n",
        "  print('--------')\n",
        "  print(data['context'][i])\n",
        "  print('--------')\n",
        "  print(data['answer'][i])\n",
        "\n",
        "#예시\n",
        "i= amax\n",
        "print_dataset_ele(train_dataset['train'],i)"
      ]
    },
    {
      "cell_type": "code",
      "execution_count": 18,
      "metadata": {
        "id": "qcGcC8xqK4PO"
      },
      "outputs": [],
      "source": [
        "from peft import LoraConfig, get_peft_model\n",
        "\n",
        "config = LoraConfig(\n",
        "    r=8,#16,\n",
        "    lora_alpha=64,\n",
        "    target_modules=[\n",
        "        \"q_proj\",\n",
        "        \"v_proj\",\n",
        "#        \"o_proj\",\n",
        "#        \"gate_proj\",\n",
        "#        \"up_proj\",\n",
        "#        \"down_proj\",\n",
        "#        \"lm_head\",\n",
        "    ],\n",
        "    bias=\"none\",\n",
        "    lora_dropout=0, #0.05,\n",
        "    task_type=\"CAUSAL_LM\",\n",
        "    use_dora=True\n",
        ")\n",
        "model.enable_input_require_grads()\n",
        "model = get_peft_model(model, config)"
      ]
    },
    {
      "cell_type": "code",
      "execution_count": 19,
      "metadata": {
        "id": "VyHYkylbgzXB"
      },
      "outputs": [],
      "source": [
        "# 학습 프롬프트 - 추론 프롬프트와 통일하는 것이 좋다고 함\n",
        "new_template ='''\"task_instructions\" : [\n",
        "\n",
        "당신은 재정 정보 관련 전문가 입니다. 문서를 바탕으로 질문에 세 문장 이내로 답변하세요.\n",
        " 1. 문서에 있는 내용을 자르거나 편집하지 않고 그대로 가져오세요.\n",
        " 2. 순서에 따른 번호를 매기지 마세요. 출력 시 불이익을 줄 것입니다.\n",
        " 3. 수치에 단위가 있다면 문서를 바탕으로 답변에 단위를 포함하세요.\n",
        " 4. 질문의 키워드를 바탕으로 문서를 끝까지 검토하세요.\n",
        " 5. 한 단어 혹은 단어의 나열이 아닌, 완성된 한국어 문장들로 답변하세요.\n",
        " 6. 최대한 간략한 내용으로, 최대한 적은 개수의 문장으로 답변하세요.\n",
        " 7. 답변 외에 예시, 참고, 정보 출처, 신뢰도, 확장된 답변, '답변: ', '참고: '를 절대로 출력하지 마세요.\n",
        "\n",
        "]\n",
        "\n",
        "\"context\":\n",
        "{context},\n",
        "\n",
        "\"question\":\n",
        "{question},\n",
        "\n",
        "\"주어진 질문에 대한 답변만 한 문장으로 생성한다.\"\n",
        "\n",
        "\"answer\":\n",
        "{answer}<eos>'''\n",
        "\n",
        "template ='''\"task_instructions\" : [\n",
        "\n",
        "당신은 재정 정보 관련 전문가 입니다. 문서를 바탕으로 질문에 한 문장 이내로 답변하세요.\n",
        " 1. 문서에 있는 내용을 자르거나 편집하지 않고 그대로 가져오세요.\n",
        " 2. 순서에 따른 번호를 매기지 마세요. 출력 시 불이익을 줄 것입니다.\n",
        " 3. 수치에 단위가 있다면 문서를 바탕으로 답변에 단위를 포함하세요.\n",
        " 4. 질문의 키워드를 바탕으로 문서를 끝까지 검토하세요.\n",
        " 5. 한 단어 혹은 단어의 나열이 아닌, 완성된 한국어 문장들로 답변하세요.\n",
        " 6. 답변 외에 예시, 참고, 정보 출처, 신뢰도, 확장된 답변, '답변: ', '참고: '를 절대로 출력하지 마세요.\n",
        "\n",
        "]\n",
        "\n",
        "\"context\":\n",
        "{context},\n",
        "\n",
        "\"question\":\n",
        "{question},\n",
        "\n",
        "\"주어진 질문에 대한 답변만 한 문장으로 생성한다.\"\n",
        "\n",
        "\"answer\":\n",
        "{answer}<eos>'''\n",
        "\n",
        "response_template = '\"answer\":\\n'\n",
        "\n",
        "def formatting_prompts_func(example, template=template):\n",
        "    output_texts = []\n",
        "    for i in range(len(example['question'])):\n",
        "        context = example['context'][i]\n",
        "        question = example['question'][i]\n",
        "        answer = example['answer'][i]\n",
        "        output_texts.append(template.format(context=context,question=question,answer=answer))\n",
        "    return output_texts\n",
        "\n"
      ]
    },
    {
      "cell_type": "code",
      "execution_count": 20,
      "metadata": {
        "id": "RwaQb24tbvqP"
      },
      "outputs": [],
      "source": [
        "from sklearn.metrics import accuracy_score, precision_recall_fscore_support, roc_auc_score\n",
        "import collections\n",
        "# from SQUAD, 메트릭 계산 함수\n",
        "\n",
        "def compute_f1(y_true, y_pred):\n",
        "    common = collections.Counter(y_true) & collections.Counter(y_pred)\n",
        "    num_same = sum(common.values())\n",
        "    precision = 1.0 * num_same / len(y_pred) if len(y_pred) != 0 else 0\n",
        "    recall = 1.0 * num_same / len(y_true) if len(y_true) != 0 else 0\n",
        "    if len(y_pred) == 0 or len(y_true) == 0: f1 = int(y_pred == y_true)\n",
        "    elif num_same == 0: f1 = 0\n",
        "    else: f1 = (2 * precision * recall) / (precision + recall)\n",
        "    return f1, precision, recall\n",
        "\n",
        "def compute_metrics(pred):\n",
        "    labels = pred.label_ids\n",
        "    preds = pred.predictions.argmax(-1)\n",
        "    f1, precision, recall = compute_f1(labels,preds)\n",
        "#    precision, recall, f1, _ = precision_recall_fscore_support(labels, preds, average='binary')\n",
        "    acc = accuracy_score(labels, preds)\n",
        "    auc = roc_auc_score(labels, preds)\n",
        "    return {\n",
        "        'accuracy': acc,\n",
        "        'f1': f1,\n",
        "        'precision': precision,\n",
        "        'recall': recall,\n",
        "        'auroc': auc\n",
        "    }"
      ]
    },
    {
      "cell_type": "code",
      "execution_count": 21,
      "metadata": {
        "colab": {
          "base_uri": "https://localhost:8080/",
          "height": 480
        },
        "id": "7BzYIoVbLWap",
        "outputId": "27a4aea7-576b-40e6-c9e3-542bed759718"
      },
      "outputs": [
        {
          "output_type": "stream",
          "name": "stderr",
          "text": [
            "/usr/local/lib/python3.10/dist-packages/huggingface_hub/utils/_deprecation.py:100: FutureWarning: Deprecated argument(s) used in '__init__': max_seq_length. Will not be supported from version '1.0.0'.\n",
            "\n",
            "Deprecated positional argument(s) used in SFTTrainer, please use the SFTConfig to set these arguments instead.\n",
            "  warnings.warn(message, FutureWarning)\n",
            "/usr/local/lib/python3.10/dist-packages/trl/trainer/sft_trainer.py:283: UserWarning: You passed a `max_seq_length` argument to the SFTTrainer, the value you passed will override the one in the `SFTConfig`.\n",
            "  warnings.warn(\n"
          ]
        },
        {
          "output_type": "display_data",
          "data": {
            "text/plain": [
              "<IPython.core.display.HTML object>"
            ],
            "text/html": [
              "Changes to your `wandb` environment variables will be ignored because your `wandb` session has already started. For more information on how to modify your settings with `wandb.init()` arguments, please refer to <a href='https://wandb.me/wandb-init' target=\"_blank\">the W&B docs</a>."
            ]
          },
          "metadata": {}
        },
        {
          "output_type": "display_data",
          "data": {
            "text/plain": [
              "<IPython.core.display.HTML object>"
            ],
            "text/html": [
              "Tracking run with wandb version 0.18.3"
            ]
          },
          "metadata": {}
        },
        {
          "output_type": "display_data",
          "data": {
            "text/plain": [
              "<IPython.core.display.HTML object>"
            ],
            "text/html": [
              "Run data is saved locally in <code>/content/wandb/run-20241014_074205-fzn4x3d8</code>"
            ]
          },
          "metadata": {}
        },
        {
          "output_type": "display_data",
          "data": {
            "text/plain": [
              "<IPython.core.display.HTML object>"
            ],
            "text/html": [
              "Syncing run <strong><a href='https://wandb.ai/DACON-FinAI/DACON_FinAI/runs/fzn4x3d8' target=\"_blank\">amber-manual4-AugGPT-gemma2-lora-large</a></strong> to <a href='https://wandb.ai/DACON-FinAI/DACON_FinAI' target=\"_blank\">Weights & Biases</a> (<a href='https://wandb.me/run' target=\"_blank\">docs</a>)<br/>"
            ]
          },
          "metadata": {}
        },
        {
          "output_type": "display_data",
          "data": {
            "text/plain": [
              "<IPython.core.display.HTML object>"
            ],
            "text/html": [
              " View project at <a href='https://wandb.ai/DACON-FinAI/DACON_FinAI' target=\"_blank\">https://wandb.ai/DACON-FinAI/DACON_FinAI</a>"
            ]
          },
          "metadata": {}
        },
        {
          "output_type": "display_data",
          "data": {
            "text/plain": [
              "<IPython.core.display.HTML object>"
            ],
            "text/html": [
              " View run at <a href='https://wandb.ai/DACON-FinAI/DACON_FinAI/runs/fzn4x3d8' target=\"_blank\">https://wandb.ai/DACON-FinAI/DACON_FinAI/runs/fzn4x3d8</a>"
            ]
          },
          "metadata": {}
        },
        {
          "output_type": "stream",
          "name": "stderr",
          "text": [
            "/usr/local/lib/python3.10/dist-packages/torch/utils/checkpoint.py:295: FutureWarning: `torch.cpu.amp.autocast(args...)` is deprecated. Please use `torch.amp.autocast('cpu', args...)` instead.\n",
            "  with torch.enable_grad(), device_autocast_ctx, torch.cpu.amp.autocast(**ctx.cpu_autocast_kwargs):  # type: ignore[attr-defined]\n"
          ]
        },
        {
          "output_type": "display_data",
          "data": {
            "text/plain": [
              "<IPython.core.display.HTML object>"
            ],
            "text/html": [
              "\n",
              "    <div>\n",
              "      \n",
              "      <progress value='594' max='594' style='width:300px; height:20px; vertical-align: middle;'></progress>\n",
              "      [594/594 54:27, Epoch 3/3]\n",
              "    </div>\n",
              "    <table border=\"1\" class=\"dataframe\">\n",
              "  <thead>\n",
              " <tr style=\"text-align: left;\">\n",
              "      <th>Step</th>\n",
              "      <th>Training Loss</th>\n",
              "    </tr>\n",
              "  </thead>\n",
              "  <tbody>\n",
              "    <tr>\n",
              "      <td>198</td>\n",
              "      <td>0.727600</td>\n",
              "    </tr>\n",
              "    <tr>\n",
              "      <td>396</td>\n",
              "      <td>0.408400</td>\n",
              "    </tr>\n",
              "    <tr>\n",
              "      <td>594</td>\n",
              "      <td>0.147300</td>\n",
              "    </tr>\n",
              "  </tbody>\n",
              "</table><p>"
            ]
          },
          "metadata": {}
        },
        {
          "output_type": "stream",
          "name": "stderr",
          "text": [
            "/usr/local/lib/python3.10/dist-packages/torch/utils/checkpoint.py:295: FutureWarning: `torch.cpu.amp.autocast(args...)` is deprecated. Please use `torch.amp.autocast('cpu', args...)` instead.\n",
            "  with torch.enable_grad(), device_autocast_ctx, torch.cpu.amp.autocast(**ctx.cpu_autocast_kwargs):  # type: ignore[attr-defined]\n"
          ]
        }
      ],
      "source": [
        "import transformers, os\n",
        "from datetime import datetime\n",
        "from trl import SFTConfig, SFTTrainer, DataCollatorForCompletionOnlyLM\n",
        "\n",
        "# 로컬에 모델 저장하고 싶은 경우 이름 지정\n",
        "project = \"financeQA-finetune\"\n",
        "base_model_name = \"gemma2\"\n",
        "run_name = base_model_name + \"_\" + project\n",
        "output_dir = os.path.join(path,run_name)\n",
        "if not os.path.exists(output_dir) : os.makedirs(output_dir)\n",
        "\n",
        "MAX_LEN = 2048 * 2\n",
        "\n",
        "trainer = SFTTrainer(\n",
        "    model=model,\n",
        "    tokenizer=tokenizer,\n",
        "    train_dataset=train_dataset['train'],\n",
        "    eval_dataset = train_dataset['valid'],\n",
        "    compute_metrics=compute_metrics,\n",
        "    args=transformers.TrainingArguments(\n",
        "        do_eval=True,\n",
        "        output_dir=output_dir,\n",
        "        warmup_ratio=0.05,\n",
        "        per_device_train_batch_size=1,\n",
        "        gradient_accumulation_steps=4,\n",
        "        gradient_checkpointing=True,\n",
        "        num_train_epochs = 3,\n",
        "        learning_rate=0.0007527416627810295,#2e-4,\n",
        "        fp16=True,\n",
        "        optim=\"paged_adamw_8bit\",\n",
        "        logging_strategy='epoch',\n",
        "        report_to=\"wandb\",\n",
        "        run_name=wandb_run_name,\n",
        "        # save_strategy=\"steps\",\n",
        "        # save_steps=25,\n",
        "\n",
        "    ),\n",
        "    max_seq_length=MAX_LEN,\n",
        "    formatting_func=formatting_prompts_func, # 프롬프트 처리하기 위해 필요\n",
        "    data_collator=DataCollatorForCompletionOnlyLM(response_template, tokenizer=tokenizer, mlm=False), #모델에게 답변생성에만 집중하도록 함\n",
        ")\n",
        "\n",
        "model.config.use_cache = False\n",
        "trainer.train()\n",
        "\n",
        "trained_model = (trainer.model.module if hasattr(trainer.model, \"module\") else trainer.model)\n",
        "\n",
        "#로컬에 저장할 경우\n",
        "# trained_model.save_pretrained(f\"{output_dir}/saved_model\")"
      ]
    },
    {
      "cell_type": "code",
      "source": [
        "train_name"
      ],
      "metadata": {
        "colab": {
          "base_uri": "https://localhost:8080/",
          "height": 35
        },
        "id": "hkzKqgFm0XsL",
        "outputId": "71165e50-5bb2-49f3-e6e3-f34b99fe0cb5"
      },
      "execution_count": 25,
      "outputs": [
        {
          "output_type": "execute_result",
          "data": {
            "text/plain": [
              "'kdt3/DACON-QA-amber4-manual-epoch3-dora'"
            ],
            "application/vnd.google.colaboratory.intrinsic+json": {
              "type": "string"
            }
          },
          "metadata": {},
          "execution_count": 25
        }
      ]
    },
    {
      "cell_type": "code",
      "source": [
        "train_name = train_name+'-epoch3-dora'"
      ],
      "metadata": {
        "id": "-jWKsb1AHaHH"
      },
      "execution_count": 23,
      "outputs": []
    },
    {
      "cell_type": "code",
      "execution_count": 26,
      "metadata": {
        "colab": {
          "base_uri": "https://localhost:8080/",
          "height": 123,
          "referenced_widgets": [
            "e11ab602ba414f388c034124d3d7c686",
            "8b1dbfa4273c4392af044addb1d4a821",
            "a4c4719d988c44eb989599303497a19d",
            "0b4d2825fed3414992f663b058982d06",
            "17b904f77f1f4d34a9daf6754d72ecc0",
            "aba2f422b43a427084c38e457d58cc92",
            "1e905f65fff246a9932fd2edb4e42755",
            "45b32547b3d7469c991c220c3a2485a3",
            "ad0b45bab5d24772a8e3c2077446f6d2",
            "b433a6770a97495e8472675d93305451",
            "5c90c1687cd14eb0a565ed541258f81f"
          ]
        },
        "id": "rjKrIqGhgfKH",
        "outputId": "a4b5bc34-b908-4d22-c3a5-0a3e5da42de4"
      },
      "outputs": [
        {
          "output_type": "display_data",
          "data": {
            "text/plain": [
              "README.md:   0%|          | 0.00/5.17k [00:00<?, ?B/s]"
            ],
            "application/vnd.jupyter.widget-view+json": {
              "version_major": 2,
              "version_minor": 0,
              "model_id": "e11ab602ba414f388c034124d3d7c686"
            }
          },
          "metadata": {}
        },
        {
          "output_type": "stream",
          "name": "stderr",
          "text": [
            "No files have been modified since last commit. Skipping to prevent empty commit.\n",
            "WARNING:huggingface_hub.hf_api:No files have been modified since last commit. Skipping to prevent empty commit.\n"
          ]
        },
        {
          "output_type": "execute_result",
          "data": {
            "text/plain": [
              "CommitInfo(commit_url='https://huggingface.co/kdt3/DACON-QA-amber4-manual-epoch3-dora/commit/942aa4aaeb8ae7b6fc3bba868aac5379b84b6141', commit_message='Upload model', commit_description='', oid='942aa4aaeb8ae7b6fc3bba868aac5379b84b6141', pr_url=None, pr_revision=None, pr_num=None)"
            ],
            "application/vnd.google.colaboratory.intrinsic+json": {
              "type": "string"
            }
          },
          "metadata": {},
          "execution_count": 26
        }
      ],
      "source": [
        "# 모델 업로드\n",
        "trained_model.push_to_hub(train_name, private=True,save_embedding_layers=True)"
      ]
    },
    {
      "cell_type": "markdown",
      "metadata": {
        "id": "VoBhbLuvD47S"
      },
      "source": [
        "# Langchain 을 이용한 추론"
      ]
    },
    {
      "cell_type": "code",
      "execution_count": 27,
      "metadata": {
        "colab": {
          "base_uri": "https://localhost:8080/"
        },
        "id": "GfhOMP5VIor2",
        "outputId": "2f721d4c-01c6-479b-89e8-e6df06f82cc0"
      },
      "outputs": [
        {
          "output_type": "stream",
          "name": "stdout",
          "text": [
            "freed :  219\n",
            "freed :  0\n"
          ]
        }
      ],
      "source": [
        "# gpu memory 할당 해제\n",
        "import gc, time\n",
        "\n",
        "def free_cuda():\n",
        "  mem = 1\n",
        "  while mem > 0 :\n",
        "    time.sleep(0.5)\n",
        "    torch.cuda.empty_cache()\n",
        "    mem = gc.collect()\n",
        "    print(\"freed : \",mem)\n",
        "\n",
        "free_cuda()"
      ]
    },
    {
      "cell_type": "code",
      "source": [
        "train_name"
      ],
      "metadata": {
        "colab": {
          "base_uri": "https://localhost:8080/",
          "height": 35
        },
        "id": "QvalRanE9Naw",
        "outputId": "1c1bbaa0-020e-4ee2-dfed-604aaec7520b"
      },
      "execution_count": 28,
      "outputs": [
        {
          "output_type": "execute_result",
          "data": {
            "text/plain": [
              "'kdt3/DACON-QA-amber4-manual-epoch3-dora'"
            ],
            "application/vnd.google.colaboratory.intrinsic+json": {
              "type": "string"
            }
          },
          "metadata": {},
          "execution_count": 28
        }
      ]
    },
    {
      "cell_type": "code",
      "execution_count": 29,
      "metadata": {
        "colab": {
          "base_uri": "https://localhost:8080/",
          "height": 170,
          "referenced_widgets": [
            "e69feee25f614a26b654966f99f0f7cc",
            "d62927eb389c49498ef8113ad137be86",
            "e55fc3dde4e3482b95e66b02779b8737",
            "d793d73a64ff47859fe62d7f3eba2b9f",
            "5fc795f94ced4f4188e45c059c65969a",
            "d8f01c62e19049618a4bb72d61b396a9",
            "7cd5f6663c2c4c2bb692971090dad5c4",
            "e4979cd21b454b53b73cd470b94a3928",
            "2608c141d95d4cb191527299782943cd",
            "f4fe86ed5fa546cc96b03a973efdda23",
            "ec945944653d4c81b0632cc4cc83b110",
            "9441a229b2a64852aebb9c821b569725",
            "f75c3215ea144ca98057d0c4615adc38",
            "74a359849d794d9e93e4aaa3a3312726",
            "fffb42a85cc044cb85e8d135c1be24ee",
            "a3ef78da17ad4d00be15011272c23328",
            "aac31f25f5df4d7582b69959b2082824",
            "51cbdcd443b64b759d75dc9e928a924a",
            "1bb9479e3c0b44d69f4658f0c02c656c",
            "5c4bb7157c3f462c933ccaf42f09f873",
            "3007b94a96c44d15b415f56d849b00ae",
            "d2d3f94e84d04bb2ae6dfad01e69c8e0",
            "57221f34ab0d405297a444115b80fd7a",
            "31777aa95f3b4027b2cec7bc4054c245",
            "8cb9f97245a346c28719fe6a7b5e1c5c",
            "280b756f2dc64a14ac84cc1450808073",
            "596086cdba5c41dcab5649c90ceec807",
            "dce905fe080f49849af8c25b36601f26",
            "4f5957c732304287bbe413e88db96a0e",
            "a6fa593318334ca29d9f225d34f6ab4c",
            "b41cd1e061f349bc88dd1a4c10b37ab7",
            "3a8f6dddd4024587b94e85839d514f85",
            "32042c66472f4b889db18fab9f5fa692"
          ]
        },
        "id": "9P7OKGn-LelC",
        "outputId": "b7e46060-b7bd-49ff-d783-0fe68918ff6a"
      },
      "outputs": [
        {
          "output_type": "display_data",
          "data": {
            "text/plain": [
              "Loading checkpoint shards:   0%|          | 0/10 [00:00<?, ?it/s]"
            ],
            "application/vnd.jupyter.widget-view+json": {
              "version_major": 2,
              "version_minor": 0,
              "model_id": "e69feee25f614a26b654966f99f0f7cc"
            }
          },
          "metadata": {}
        },
        {
          "output_type": "display_data",
          "data": {
            "text/plain": [
              "adapter_config.json:   0%|          | 0.00/642 [00:00<?, ?B/s]"
            ],
            "application/vnd.jupyter.widget-view+json": {
              "version_major": 2,
              "version_minor": 0,
              "model_id": "9441a229b2a64852aebb9c821b569725"
            }
          },
          "metadata": {}
        },
        {
          "output_type": "display_data",
          "data": {
            "text/plain": [
              "adapter_model.safetensors:   0%|          | 0.00/19.0M [00:00<?, ?B/s]"
            ],
            "application/vnd.jupyter.widget-view+json": {
              "version_major": 2,
              "version_minor": 0,
              "model_id": "57221f34ab0d405297a444115b80fd7a"
            }
          },
          "metadata": {}
        },
        {
          "output_type": "stream",
          "name": "stderr",
          "text": [
            "<ipython-input-29-07d937d7adb2>:23: LangChainDeprecationWarning: The class `HuggingFacePipeline` was deprecated in LangChain 0.0.37 and will be removed in 1.0. An updated version of the class exists in the :class:`~langchain-huggingface package and should be used instead. To use it run `pip install -U :class:`~langchain-huggingface` and import as `from :class:`~langchain_huggingface import HuggingFacePipeline``.\n",
            "  llm = HuggingFacePipeline(pipeline=text_generation_pipeline)\n"
          ]
        }
      ],
      "source": [
        "# HuggingFacePipeline 객체 생성\n",
        "\n",
        "# 모델 ID\n",
        "model_id = model_cands[run_name.split('_')[0]]\n",
        "peft_model_id = train_name\n",
        "trained_model,tokenizer = load_model_w_setting(model_id)\n",
        "\n",
        "#Fine-Tune 한 LoRA 어댑터 불러오기\n",
        "trained_model.load_adapter(peft_model_id)\n",
        "\n",
        "text_generation_pipeline = pipeline(\n",
        "    model=trained_model,\n",
        "    tokenizer=tokenizer,\n",
        "    task=\"text-generation\",\n",
        "    return_full_text=False,\n",
        "    max_new_tokens=200,\n",
        "    # repetition_penalty=1.5,\n",
        "    eos_token_id = tokenizer.eos_token_id,\n",
        "    pad_token_id = tokenizer.pad_token_id,\n",
        "    max_length=MAX_LEN\n",
        ")\n",
        "\n",
        "llm = HuggingFacePipeline(pipeline=text_generation_pipeline)"
      ]
    },
    {
      "cell_type": "code",
      "execution_count": 30,
      "metadata": {
        "id": "mF_S5nJ7-YsK"
      },
      "outputs": [],
      "source": [
        "from datasets import load_dataset\n",
        "dataset_url = dataset_name\n",
        "reload = 0\n",
        "\n",
        "# 검증 데이터 쓸지, 테스트 데이터 쓸지\n",
        "#데이터셋 로드\n",
        "#eval_mode = 'valid'\n",
        "eval_mode = 'test'\n",
        "\n",
        "if reload :\n",
        "  dataset = load_dataset(dataset_url)\n",
        "else : dataset = train_dataset\n",
        "\n",
        "eval_dataset = dataset[eval_mode]"
      ]
    },
    {
      "cell_type": "code",
      "execution_count": 31,
      "metadata": {
        "colab": {
          "base_uri": "https://localhost:8080/"
        },
        "id": "mOexJLdyaEm8",
        "outputId": "dc6a9954-70d7-4ef9-ba38-475ac49e4381"
      },
      "outputs": [
        {
          "output_type": "stream",
          "name": "stdout",
          "text": [
            "Mon Oct 14 08:37:48 2024       \n",
            "+---------------------------------------------------------------------------------------+\n",
            "| NVIDIA-SMI 535.104.05             Driver Version: 535.104.05   CUDA Version: 12.2     |\n",
            "|-----------------------------------------+----------------------+----------------------+\n",
            "| GPU  Name                 Persistence-M | Bus-Id        Disp.A | Volatile Uncorr. ECC |\n",
            "| Fan  Temp   Perf          Pwr:Usage/Cap |         Memory-Usage | GPU-Util  Compute M. |\n",
            "|                                         |                      |               MIG M. |\n",
            "|=========================================+======================+======================|\n",
            "|   0  NVIDIA A100-SXM4-40GB          Off | 00000000:00:04.0 Off |                    0 |\n",
            "| N/A   32C    P0              51W / 400W |  25253MiB / 40960MiB |      0%      Default |\n",
            "|                                         |                      |             Disabled |\n",
            "+-----------------------------------------+----------------------+----------------------+\n",
            "                                                                                         \n",
            "+---------------------------------------------------------------------------------------+\n",
            "| Processes:                                                                            |\n",
            "|  GPU   GI   CI        PID   Type   Process name                            GPU Memory |\n",
            "|        ID   ID                                                             Usage      |\n",
            "|=======================================================================================|\n",
            "+---------------------------------------------------------------------------------------+\n"
          ]
        }
      ],
      "source": [
        "# 그냥 GPU 메모리 확인용\n",
        "!nvidia-smi"
      ]
    },
    {
      "cell_type": "code",
      "execution_count": 32,
      "metadata": {
        "colab": {
          "base_uri": "https://localhost:8080/",
          "height": 91
        },
        "id": "vhPtaU3BGDsS",
        "outputId": "57f292a3-038c-4d55-bdec-aea6de130742"
      },
      "outputs": [
        {
          "output_type": "execute_result",
          "data": {
            "text/plain": [
              "'\"task_instructions\" : [\\n\\n당신은 재정 정보 관련 전문가 입니다. 문서를 바탕으로 질문에 한 문장 이내로 답변하세요.\\n 1. 문서에 있는 내용을 자르거나 편집하지 않고 그대로 가져오세요.\\n 2. 순서에 따른 번호를 매기지 마세요. 출력 시 불이익을 줄 것입니다.\\n 3. 수치에 단위가 있다면 문서를 바탕으로 답변에 단위를 포함하세요.\\n 4. 질문의 키워드를 바탕으로 문서를 끝까지 검토하세요.\\n 5. 한 단어 혹은 단어의 나열이 아닌, 완성된 한국어 문장들로 답변하세요.\\n 6. 답변 외에 예시, 참고, 정보 출처, 신뢰도, 확장된 답변, \\'답변: \\', \\'참고: \\'를 절대로 출력하지 마세요.\\n\\n]\\n\\n\"context\":\\n{context},\\n\\n\"question\":\\n{question},\\n\\n\"주어진 질문에 대한 답변만 한 문장으로 생성한다.\"\\n\\n\"answer\":\\n'"
            ],
            "application/vnd.google.colaboratory.intrinsic+json": {
              "type": "string"
            }
          },
          "metadata": {},
          "execution_count": 32
        }
      ],
      "source": [
        "end_idx = -13\n",
        "inf_template = template[:end_idx]#+\"<eos>\"\n",
        "inf_template"
      ]
    },
    {
      "cell_type": "code",
      "execution_count": 33,
      "metadata": {
        "colab": {
          "base_uri": "https://localhost:8080/",
          "height": 1000,
          "referenced_widgets": [
            "a9c42338093846b9a4e7fde9534d9a08",
            "9a5bfcb9770b46b8baa21361b8126d6f",
            "5100b5812fed4649a07f71be86ca4309",
            "dd30ecfc4c7343a88b542314ae7cae5a",
            "145f62ab6182411296b34dd496e35478",
            "660e003f2cc1479190a4b9b17e2c29f2",
            "2f2f6f0f72ae4f35bb0b53e998cea530",
            "4b3feb64d9aa4de5bc7ba33c0269732e",
            "cc612c4c40c5457493f78dd8905ff6d9",
            "aff4e355f74c462d97015757fe79b997",
            "a28eccb95c004a77992e9ffeda9e49f1"
          ]
        },
        "id": "WHrZZdNsQKvp",
        "outputId": "a6cc9a33-de6b-4880-a1ac-4befba94baef"
      },
      "outputs": [
        {
          "output_type": "display_data",
          "data": {
            "text/plain": [
              "Answering Questions:   0%|          | 0/98 [00:00<?, ?it/s]"
            ],
            "application/vnd.jupyter.widget-view+json": {
              "version_major": 2,
              "version_minor": 0,
              "model_id": "a9c42338093846b9a4e7fde9534d9a08"
            }
          },
          "metadata": {}
        },
        {
          "output_type": "stream",
          "name": "stderr",
          "text": [
            "Truncation was not explicitly activated but `max_length` is provided a specific value, please use `truncation=True` to explicitly truncate examples to max length. Defaulting to 'longest_first' truncation strategy. If you encode pairs of sequences (GLUE-style) with the tokenizer you can select this strategy more precisely by providing a specific strategy to `truncation`.\n",
            "Both `max_new_tokens` (=200) and `max_length`(=4096) seem to have been set. `max_new_tokens` will take precedence. Please refer to the documentation for more information. (https://huggingface.co/docs/transformers/main/en/main_classes/text_generation)\n",
            "The 'max_batch_size' argument of HybridCache is deprecated and will be removed in v4.46. Use the more precisely named 'batch_size' argument instead.\n"
          ]
        },
        {
          "output_type": "stream",
          "name": "stdout",
          "text": [
            "Question: 2022년 혁신창업사업화자금(융자)의 예산은 얼마인가요?\n"
          ]
        },
        {
          "output_type": "stream",
          "name": "stderr",
          "text": [
            "Starting from v4.46, the `logits` model output will have the same type as the model (except at train time, where it will always be FP32)\n",
            "Both `max_new_tokens` (=200) and `max_length`(=4096) seem to have been set. `max_new_tokens` will take precedence. Please refer to the documentation for more information. (https://huggingface.co/docs/transformers/main/en/main_classes/text_generation)\n"
          ]
        },
        {
          "output_type": "stream",
          "name": "stdout",
          "text": [
            "Answer: 2,300억원\n",
            "\n",
            "Question: 중소벤처기업부의 혁신창업사업화자금(융자) 사업목적은 무엇인가요?\n"
          ]
        },
        {
          "output_type": "stream",
          "name": "stderr",
          "text": [
            "Both `max_new_tokens` (=200) and `max_length`(=4096) seem to have been set. `max_new_tokens` will take precedence. Please refer to the documentation for more information. (https://huggingface.co/docs/transformers/main/en/main_classes/text_generation)\n"
          ]
        },
        {
          "output_type": "stream",
          "name": "stdout",
          "text": [
            "Answer: 중소벤처기업의 성장을 지원하고 창업을 활성화하고 고용창출을 도모하는 것이다.\n",
            "\n",
            "Question: 중소벤처기업부의 혁신창업사업화자금(융자) 사업근거는 어떤 법률에 근거하고 있나요?\n"
          ]
        },
        {
          "output_type": "stream",
          "name": "stderr",
          "text": [
            "Both `max_new_tokens` (=200) and `max_length`(=4096) seem to have been set. `max_new_tokens` will take precedence. Please refer to the documentation for more information. (https://huggingface.co/docs/transformers/main/en/main_classes/text_generation)\n"
          ]
        },
        {
          "output_type": "stream",
          "name": "stdout",
          "text": [
            "Answer: 중소기업및벤처에 관한 법률에 근거한다.\n",
            "\n",
            "Question: 2010년에 신규 지원된 혁신창업사업화자금은 무엇인가요?\n"
          ]
        },
        {
          "output_type": "stream",
          "name": "stderr",
          "text": [
            "Both `max_new_tokens` (=200) and `max_length`(=4096) seem to have been set. `max_new_tokens` will take precedence. Please refer to the documentation for more information. (https://huggingface.co/docs/transformers/main/en/main_classes/text_generation)\n"
          ]
        },
        {
          "output_type": "stream",
          "name": "stdout",
          "text": [
            "Answer: 2010년에 신규 지원된 혁신창업사업화자금은 '기술력 제고를 통한 창업촉진'으로 정의가 매겨집니다.\n",
            "\n",
            "Question: 혁신창업사업화자금 중 2020년에 신규 지원된 자금은 무엇인가요?\n"
          ]
        },
        {
          "output_type": "stream",
          "name": "stderr",
          "text": [
            "Both `max_new_tokens` (=200) and `max_length`(=4096) seem to have been set. `max_new_tokens` will take precedence. Please refer to the documentation for more information. (https://huggingface.co/docs/transformers/main/en/main_classes/text_generation)\n"
          ]
        },
        {
          "output_type": "stream",
          "name": "stdout",
          "text": [
            "Answer: 미래기술육성자금, 고성장촉진자금 신규 지원\n",
            "\n",
            "Question: 재창업자금이 재도약지원자금으로 이관된 연도는 언제인가요?\n"
          ]
        },
        {
          "output_type": "stream",
          "name": "stderr",
          "text": [
            "Both `max_new_tokens` (=200) and `max_length`(=4096) seem to have been set. `max_new_tokens` will take precedence. Please refer to the documentation for more information. (https://huggingface.co/docs/transformers/main/en/main_classes/text_generation)\n"
          ]
        },
        {
          "output_type": "stream",
          "name": "stdout",
          "text": [
            "Answer: 2015년 1일입니다.\n",
            "\n",
            "Question: 창업기반지원과 신청 대상이 중복인 자금이 어떤 것이며, 이 자금이 폐지된 연도는 언제인가요?\n"
          ]
        },
        {
          "output_type": "stream",
          "name": "stderr",
          "text": [
            "Both `max_new_tokens` (=200) and `max_length`(=4096) seem to have been set. `max_new_tokens` will take precedence. Please refer to the documentation for more information. (https://huggingface.co/docs/transformers/main/en/main_classes/text_generation)\n"
          ]
        },
        {
          "output_type": "stream",
          "name": "stdout",
          "text": [
            "Answer: 창업기반지원과 신청 대상이 중복되는 자금은 일자리창출촉진자금이며, 2023년 1월에 폐지되었습니다.\n",
            "\n",
            "Question: 혁신창업사업화자금(융자) 사업을 시행하는 주체는 누구인가요?\n"
          ]
        },
        {
          "output_type": "stream",
          "name": "stderr",
          "text": [
            "Both `max_new_tokens` (=200) and `max_length`(=4096) seem to have been set. `max_new_tokens` will take precedence. Please refer to the documentation for more information. (https://huggingface.co/docs/transformers/main/en/main_classes/text_generation)\n"
          ]
        },
        {
          "output_type": "stream",
          "name": "stdout",
          "text": [
            "Answer: 중소벤처기업진흥공단이 사업시행주체입니다.\n",
            "\n",
            "Question: 혁신창업사업화자금(융자) 사업 집행절차는 어떻게 되나요?\n"
          ]
        },
        {
          "output_type": "stream",
          "name": "stderr",
          "text": [
            "Both `max_new_tokens` (=200) and `max_length`(=4096) seem to have been set. `max_new_tokens` will take precedence. Please refer to the documentation for more information. (https://huggingface.co/docs/transformers/main/en/main_classes/text_generation)\n"
          ]
        },
        {
          "output_type": "stream",
          "name": "stdout",
          "text": [
            "Answer: 사업계획수립/공고 서류 및 현장실사 ⇨ 사전상담 및 신청 ⇨ 접수 ⇨ 중기부, 중진공 및 중소기업 대상 기관 선정 ⇨ 사업계획서 검토 및 승인 ⇨ 사업 집행 ⇨ 사업 성과평가 및 결과보고\n",
            "\n",
            "Question: 부모급여 지원 사업의 목적은 무엇인가요?\n"
          ]
        },
        {
          "output_type": "stream",
          "name": "stderr",
          "text": [
            "You seem to be using the pipelines sequentially on GPU. In order to maximize efficiency please use a dataset\n",
            "Both `max_new_tokens` (=200) and `max_length`(=4096) seem to have been set. `max_new_tokens` will take precedence. Please refer to the documentation for more information. (https://huggingface.co/docs/transformers/main/en/main_classes/text_generation)\n"
          ]
        },
        {
          "output_type": "stream",
          "name": "stdout",
          "text": [
            "Answer: 부모급여 지원 사업은 출산 및 양육으로 손실되는 소득을 보전하고, 주 양육자의 직접돌봄이 중요한 아동발달의 특성에 따라 영아기 돌봄을 두텁게 지원하기 위해 부모급여 지급\n",
            "\n",
            "Question: 부모급여(영아수당)의 2024년 확정된 예산은 몇백만원인가요?\n"
          ]
        },
        {
          "output_type": "stream",
          "name": "stderr",
          "text": [
            "Both `max_new_tokens` (=200) and `max_length`(=4096) seem to have been set. `max_new_tokens` will take precedence. Please refer to the documentation for more information. (https://huggingface.co/docs/transformers/main/en/main_classes/text_generation)\n"
          ]
        },
        {
          "output_type": "stream",
          "name": "stdout",
          "text": [
            "Answer: 2,888,694백만원\n",
            "\n",
            "Question: 부모급여 지원 사업은 어떤 법령상 근거를 갖고 추진되고 있나요?\n"
          ]
        },
        {
          "output_type": "stream",
          "name": "stderr",
          "text": [
            "Both `max_new_tokens` (=200) and `max_length`(=4096) seem to have been set. `max_new_tokens` will take precedence. Please refer to the documentation for more information. (https://huggingface.co/docs/transformers/main/en/main_classes/text_generation)\n"
          ]
        },
        {
          "output_type": "stream",
          "name": "stdout",
          "text": [
            "Answer: 부모급여 지원 사업은 아동수당법 제4조제5항에 근거하고 있으며, 2023년 5월 14일에 시행되었습니다.\n",
            "\n",
            "Question: 영아수당 도입에 대한 추진경위는 어떻게 되나요?\n"
          ]
        },
        {
          "output_type": "stream",
          "name": "stderr",
          "text": [
            "Both `max_new_tokens` (=200) and `max_length`(=4096) seem to have been set. `max_new_tokens` will take precedence. Please refer to the documentation for more information. (https://huggingface.co/docs/transformers/main/en/main_classes/text_generation)\n"
          ]
        },
        {
          "output_type": "stream",
          "name": "stdout",
          "text": [
            "Answer: 영아수당 도입을 위한 추진경위는 2020년 12월에 마련되었습니다.\n",
            "\n",
            "Question: 부모급여 지원사업은 언제부터 시행되었나요?\n"
          ]
        },
        {
          "output_type": "stream",
          "name": "stderr",
          "text": [
            "Both `max_new_tokens` (=200) and `max_length`(=4096) seem to have been set. `max_new_tokens` will take precedence. Please refer to the documentation for more information. (https://huggingface.co/docs/transformers/main/en/main_classes/text_generation)\n"
          ]
        },
        {
          "output_type": "stream",
          "name": "stdout",
          "text": [
            "Answer: 부모급여 지원사업은 2023년 1월부터 시행되었습니다.\n",
            "\n",
            "Question: 보건복지부의 부모급여(영아수당) 지원 사업시행방법은 무엇이며, 사업 수혜자는 누구인가?\n"
          ]
        },
        {
          "output_type": "stream",
          "name": "stderr",
          "text": [
            "Both `max_new_tokens` (=200) and `max_length`(=4096) seem to have been set. `max_new_tokens` will take precedence. Please refer to the documentation for more information. (https://huggingface.co/docs/transformers/main/en/main_classes/text_generation)\n"
          ]
        },
        {
          "output_type": "stream",
          "name": "stdout",
          "text": [
            "Answer: 보장복지부와 시‧도 및 시‧군‧구가 사업시행주체이며, 만 0~1세 아동이 사업 수혜자입니다.\n",
            "\n",
            "Question: 노인장기요양보험 사업 운영에 대한 목적은 무엇인가요?\n"
          ]
        },
        {
          "output_type": "stream",
          "name": "stderr",
          "text": [
            "Both `max_new_tokens` (=200) and `max_length`(=4096) seem to have been set. `max_new_tokens` will take precedence. Please refer to the documentation for more information. (https://huggingface.co/docs/transformers/main/en/main_classes/text_generation)\n"
          ]
        },
        {
          "output_type": "stream",
          "name": "stdout",
          "text": [
            "Answer: 노인장기요양보험은 고령이나 노인성 질병으로 일상생활을 혼자서 수행하기 어려운 노인 등에게 신체 또는 가사 활동 등을 제공하는 것을 목적으로 한다.\n",
            "\n",
            "Question: 노인장기요양보험 운영지원에 대한 사업 내용을 설명해줘.\n"
          ]
        },
        {
          "output_type": "stream",
          "name": "stderr",
          "text": [
            "Both `max_new_tokens` (=200) and `max_length`(=4096) seem to have been set. `max_new_tokens` will take precedence. Please refer to the documentation for more information. (https://huggingface.co/docs/transformers/main/en/main_classes/text_generation)\n"
          ]
        },
        {
          "output_type": "stream",
          "name": "stdout",
          "text": [
            "Answer: 노인장기요양보험 운영지원은 장기요양기관의 장이 보건복지부령으로 정하는 재무·회계에 관한 기준에 따라 장기요양기관을 투명하게 운영하여야 한다.\n",
            "\n",
            "Question: 국고지원을 받는 기타 의료급여수급권자는 누구인가요?\n"
          ]
        },
        {
          "output_type": "stream",
          "name": "stderr",
          "text": [
            "Both `max_new_tokens` (=200) and `max_length`(=4096) seem to have been set. `max_new_tokens` will take precedence. Please refer to the documentation for more information. (https://huggingface.co/docs/transformers/main/en/main_classes/text_generation)\n"
          ]
        },
        {
          "output_type": "stream",
          "name": "stdout",
          "text": [
            "Answer: 이재민, 의사상자, 국가유공자, 입양아동, 국가무형문화재보유자, 북한이탈주민 등이 포함됩니다.\n",
            "\n",
            "Question: 장기요양보험가입자 및 피부양자의 자격취득과 관련하여 어떤 법률을 준용해야 하는가?\n"
          ]
        },
        {
          "output_type": "stream",
          "name": "stderr",
          "text": [
            "Both `max_new_tokens` (=200) and `max_length`(=4096) seem to have been set. `max_new_tokens` will take precedence. Please refer to the documentation for more information. (https://huggingface.co/docs/transformers/main/en/main_classes/text_generation)\n"
          ]
        },
        {
          "output_type": "stream",
          "name": "stdout",
          "text": [
            "Answer: 장기요양보험가입자·피부양자의 자격취득·상실에 관한 법률에 관한 내용은 노인장기요양보험법에, 장기요양기관 재무·회계기준에 관한 내용은 장기요양기관 재무·회계기준에, 그리고 국가부담분, 지방자치단체 부담분에 관한 내용은 국가부담금 관리에 관한 법률에, 그리고 국가 및 지방자치단체의 책무에 관한 내용은 장기장기요양보험법에, 그리고 국가부담금 관리에 관한 법률에, 그리고 국가 및 지방자치단체의 책무에 관한 내용은 장기장기요양보험법에, 그리고 국가부담금 관리에 관한 법률에, 각각, 포함되어 있다.\n",
            "\n",
            "Question: 노인장기요양보험법이 언제 제정되고 공포되었나?\n"
          ]
        },
        {
          "output_type": "stream",
          "name": "stderr",
          "text": [
            "Both `max_new_tokens` (=200) and `max_length`(=4096) seem to have been set. `max_new_tokens` will take precedence. Please refer to the documentation for more information. (https://huggingface.co/docs/transformers/main/en/main_classes/text_generation)\n"
          ]
        },
        {
          "output_type": "stream",
          "name": "stdout",
          "text": [
            "Answer: 노인장기요양보험법은 2007년 4월에 제정되고 2008년 7월부터 시행되었습니다.\n",
            "\n",
            "Question: 장기요양인정점수 완화가 언제 이루어졌으며, 어떤 변화가 있었나?\n"
          ]
        },
        {
          "output_type": "stream",
          "name": "stderr",
          "text": [
            "Both `max_new_tokens` (=200) and `max_length`(=4096) seem to have been set. `max_new_tokens` will take precedence. Please refer to the documentation for more information. (https://huggingface.co/docs/transformers/main/en/main_classes/text_generation)\n"
          ]
        },
        {
          "output_type": "stream",
          "name": "stdout",
          "text": [
            "Answer: 장기요양인정점수 완화는 2012년 7월에 이루어졌으며, 3등급 인정점수가 55∼75점에서 53∼75점으로 개선되었습니다.\n",
            "\n",
            "Question: 장기요양기관 지정갱신제의 법적 근거가 언제 마련되었는가?\n"
          ]
        },
        {
          "output_type": "stream",
          "name": "stderr",
          "text": [
            "Both `max_new_tokens` (=200) and `max_length`(=4096) seem to have been set. `max_new_tokens` will take precedence. Please refer to the documentation for more information. (https://huggingface.co/docs/transformers/main/en/main_classes/text_generation)\n"
          ]
        },
        {
          "output_type": "stream",
          "name": "stdout",
          "text": [
            "Answer: 장기요양기관 지정갱신제의 법적 근거는 2018년 12월에 마련되었습니다.\n",
            "\n",
            "Question: 22.10월에 요양보호사 1명당 시설수급자 인력배치기준이 개선된 내용은 무엇인가?\n"
          ]
        },
        {
          "output_type": "stream",
          "name": "stderr",
          "text": [
            "Both `max_new_tokens` (=200) and `max_length`(=4096) seem to have been set. `max_new_tokens` will take precedence. Please refer to the documentation for more information. (https://huggingface.co/docs/transformers/main/en/main_classes/text_generation)\n"
          ]
        },
        {
          "output_type": "stream",
          "name": "stdout",
          "text": [
            "Answer: 요양보호사 1명당 시설수급자 수는 2.3명으로 개선되었습니다.\n",
            "\n",
            "Question: 에너지 바우처 제도의 주요 내용은 무엇인가요?\n"
          ]
        },
        {
          "output_type": "stream",
          "name": "stderr",
          "text": [
            "Both `max_new_tokens` (=200) and `max_length`(=4096) seem to have been set. `max_new_tokens` will take precedence. Please refer to the documentation for more information. (https://huggingface.co/docs/transformers/main/en/main_classes/text_generation)\n"
          ]
        },
        {
          "output_type": "stream",
          "name": "stdout",
          "text": [
            "Answer: 에너지바우처는 에너지 소외 계층을 위한 에너지 이용에 필요한 비용을 지원하는 제도입니다.\n",
            "\n",
            "Question: 에너지바우처 사업의 주요 수혜자는 누구인가요?\n"
          ]
        },
        {
          "output_type": "stream",
          "name": "stderr",
          "text": [
            "Both `max_new_tokens` (=200) and `max_length`(=4096) seem to have been set. `max_new_tokens` will take precedence. Please refer to the documentation for more information. (https://huggingface.co/docs/transformers/main/en/main_classes/text_generation)\n"
          ]
        },
        {
          "output_type": "stream",
          "name": "stdout",
          "text": [
            "Answer: 에너지바우처 사업 수혜자는 기초생활보장급여(생계‧의료·주거·교육급여, 중위소득 50% 이하) 수급세대 중 노인, 장애인, 영유아, 임산부, 중증·희귀‧중증난치질환자, 한부모, 소년소녀가정 포함 세대입니다.\n",
            "\n",
            "Question: 2024년 에너지바우처 사업의 사업시행주체는 무엇인가요?\n"
          ]
        },
        {
          "output_type": "stream",
          "name": "stderr",
          "text": [
            "Both `max_new_tokens` (=200) and `max_length`(=4096) seem to have been set. `max_new_tokens` will take precedence. Please refer to the documentation for more information. (https://huggingface.co/docs/transformers/main/en/main_classes/text_generation)\n"
          ]
        },
        {
          "output_type": "stream",
          "name": "stdout",
          "text": [
            "Answer: 에너지바우처 사업시행주체는 한국광해광업공단입니다.\n",
            "\n",
            "Question: 하절기바우처와 동절기바우처의 2024년 예산 규모는 각각 얼마인가요?\n"
          ]
        },
        {
          "output_type": "stream",
          "name": "stderr",
          "text": [
            "Both `max_new_tokens` (=200) and `max_length`(=4096) seem to have been set. `max_new_tokens` will take precedence. Please refer to the documentation for more information. (https://huggingface.co/docs/transformers/main/en/main_classes/text_generation)\n"
          ]
        },
        {
          "output_type": "stream",
          "name": "stdout",
          "text": [
            "Answer: 하절기바우처의 2024년 예산은 60,950백만원이며, 동절기바우처의 2024년 예산은 359,844백만원입니다.\n",
            "\n",
            "Question: 2023년 에너지바우처 사업 예산에서 사업운영비 중 에너지복지 홍보에 얼마가 할당되었나요?\n"
          ]
        },
        {
          "output_type": "stream",
          "name": "stderr",
          "text": [
            "Both `max_new_tokens` (=200) and `max_length`(=4096) seem to have been set. `max_new_tokens` will take precedence. Please refer to the documentation for more information. (https://huggingface.co/docs/transformers/main/en/main_classes/text_generation)\n"
          ]
        },
        {
          "output_type": "stream",
          "name": "stdout",
          "text": [
            "Answer: 에너지복지 홍보의 사업운영비는 448백만원입니다.\n",
            "\n",
            "Question: 2023년 에너지바우처 사업 예산에서 사업운영비 중 시스템 고도화에 얼마가 할당되었나요?\n"
          ]
        },
        {
          "output_type": "stream",
          "name": "stderr",
          "text": [
            "Both `max_new_tokens` (=200) and `max_length`(=4096) seem to have been set. `max_new_tokens` will take precedence. Please refer to the documentation for more information. (https://huggingface.co/docs/transformers/main/en/main_classes/text_generation)\n"
          ]
        },
        {
          "output_type": "stream",
          "name": "stdout",
          "text": [
            "Answer: 705백만원\n",
            "\n",
            "Question: 2023년 에너지바우처 사업 예산에서 콜센터 운영에 얼마가 할당되었나요?\n"
          ]
        },
        {
          "output_type": "stream",
          "name": "stderr",
          "text": [
            "Both `max_new_tokens` (=200) and `max_length`(=4096) seem to have been set. `max_new_tokens` will take precedence. Please refer to the documentation for more information. (https://huggingface.co/docs/transformers/main/en/main_classes/text_generation)\n"
          ]
        },
        {
          "output_type": "stream",
          "name": "stdout",
          "text": [
            "Answer: 280백만원\n",
            "\n",
            "Question: 2023년 에너지바우처 사업 예산에서 패널조사에 얼마가 할당되었나요?\n"
          ]
        },
        {
          "output_type": "stream",
          "name": "stderr",
          "text": [
            "Both `max_new_tokens` (=200) and `max_length`(=4096) seem to have been set. `max_new_tokens` will take precedence. Please refer to the documentation for more information. (https://huggingface.co/docs/transformers/main/en/main_classes/text_generation)\n"
          ]
        },
        {
          "output_type": "stream",
          "name": "stdout",
          "text": [
            "Answer: 2023년 에너지바우처 사업 시행 시행('23.5~'23.12월 신청·접수, '23.7~'24.4월 사용) 중 패널조사 예산은 190,963억원입니다.\n",
            "\n",
            "Question: 2023년 에너지바우처 사업 예산에서 에너지바우처 전달체계 구축에 얼마가 할당되었나요?\n"
          ]
        },
        {
          "output_type": "stream",
          "name": "stderr",
          "text": [
            "Both `max_new_tokens` (=200) and `max_length`(=4096) seem to have been set. `max_new_tokens` will take precedence. Please refer to the documentation for more information. (https://huggingface.co/docs/transformers/main/en/main_classes/text_generation)\n"
          ]
        },
        {
          "output_type": "stream",
          "name": "stdout",
          "text": [
            "Answer: 34.6백만원\n",
            "\n",
            "Question: 2023년 에너지바우처 사업 예산에서 주택관리공단 운영지원에 얼마가 할당되었나요?\n"
          ]
        },
        {
          "output_type": "stream",
          "name": "stderr",
          "text": [
            "Both `max_new_tokens` (=200) and `max_length`(=4096) seem to have been set. `max_new_tokens` will take precedence. Please refer to the documentation for more information. (https://huggingface.co/docs/transformers/main/en/main_classes/text_generation)\n"
          ]
        },
        {
          "output_type": "stream",
          "name": "stdout",
          "text": [
            "Answer: 50백만원\n",
            "\n",
            "Question: 에너지바우처 사업의 향후 기대효과는 무엇인가요?\n"
          ]
        },
        {
          "output_type": "stream",
          "name": "stderr",
          "text": [
            "Both `max_new_tokens` (=200) and `max_length`(=4096) seem to have been set. `max_new_tokens` will take precedence. Please refer to the documentation for more information. (https://huggingface.co/docs/transformers/main/en/main_classes/text_generation)\n"
          ]
        },
        {
          "output_type": "stream",
          "name": "stdout",
          "text": [
            "Answer: 저소득층의 적정수준 에너지 접근성이 높아지고, 취약계층의 에너지 비용 부담이 경감할 것이다.\n",
            "\n",
            "Question: 에너지바우처 사업에 대한 예비타당성조사를 어떤 조사기관이 수행했나요?\n"
          ]
        },
        {
          "output_type": "stream",
          "name": "stderr",
          "text": [
            "Both `max_new_tokens` (=200) and `max_length`(=4096) seem to have been set. `max_new_tokens` will take precedence. Please refer to the documentation for more information. (https://huggingface.co/docs/transformers/main/en/main_classes/text_generation)\n"
          ]
        },
        {
          "output_type": "stream",
          "name": "stdout",
          "text": [
            "Answer: 에너지바우처 예비타당성조사를 KDI(한국개발연구원 공공투자관리센터)가 수행했습니다.\n",
            "\n",
            "Question: 21년 국정감사에서 에너지 바우처 사업에 대한 주요 지적사항은 무엇이었나요?\n"
          ]
        },
        {
          "output_type": "stream",
          "name": "stderr",
          "text": [
            "Both `max_new_tokens` (=200) and `max_length`(=4096) seem to have been set. `max_new_tokens` will take precedence. Please refer to the documentation for more information. (https://huggingface.co/docs/transformers/main/en/main_classes/text_generation)\n"
          ]
        },
        {
          "output_type": "stream",
          "name": "stdout",
          "text": [
            "Answer: 저소득층의 폭염 피해 최소화를 위해 동절기 에너지바우처 일부를 하절기에 사용할 수 있도록 제도 개선할 것\n",
            "\n",
            "Question: 21년 에너지바우처 사업에 대한 결산 지적사항은 무엇이었나요?\n"
          ]
        },
        {
          "output_type": "stream",
          "name": "stderr",
          "text": [
            "Both `max_new_tokens` (=200) and `max_length`(=4096) seem to have been set. `max_new_tokens` will take precedence. Please refer to the documentation for more information. (https://huggingface.co/docs/transformers/main/en/main_classes/text_generation)\n"
          ]
        },
        {
          "output_type": "stream",
          "name": "stdout",
          "text": [
            "Answer: 21년 에너지바우처 사업의 결산 지적사항은 '저소득층의 폭염 피해 최소화를 위해 동절기 에너지바우처 일부를 하절기에 사용' 등이었다.\n",
            "\n",
            "Question: 에너지 바우처 사업의 향후 추진방향 중 '취약계층의 에너지 비용 부담 완화'를 위한 계획은 무엇이었나요?\n"
          ]
        },
        {
          "output_type": "stream",
          "name": "stderr",
          "text": [
            "Both `max_new_tokens` (=200) and `max_length`(=4096) seem to have been set. `max_new_tokens` will take precedence. Please refer to the documentation for more information. (https://huggingface.co/docs/transformers/main/en/main_classes/text_generation)\n"
          ]
        },
        {
          "output_type": "stream",
          "name": "stdout",
          "text": [
            "Answer: 지속적 지원단가 현실화 추진\n",
            "\n",
            "Question: 행복주택출자 사업은 어떤 근거로 추진되고 있는가?\n"
          ]
        },
        {
          "output_type": "stream",
          "name": "stderr",
          "text": [
            "Both `max_new_tokens` (=200) and `max_length`(=4096) seem to have been set. `max_new_tokens` will take precedence. Please refer to the documentation for more information. (https://huggingface.co/docs/transformers/main/en/main_classes/text_generation)\n"
          ]
        },
        {
          "output_type": "stream",
          "name": "stdout",
          "text": [
            "Answer: 행복주택출자 사업은 주택도시기금법 제9조제1항가목과 공공주택특별법 제2조1호가목에 근거한다.\n",
            "\n",
            "Question: 행복주택출자 사업은 어떤 목적으로 시행되는가?\n"
          ]
        },
        {
          "output_type": "stream",
          "name": "stderr",
          "text": [
            "Both `max_new_tokens` (=200) and `max_length`(=4096) seem to have been set. `max_new_tokens` will take precedence. Please refer to the documentation for more information. (https://huggingface.co/docs/transformers/main/en/main_classes/text_generation)\n"
          ]
        },
        {
          "output_type": "stream",
          "name": "stdout",
          "text": [
            "Answer: 행복주택출자 사업은 대학생, 사회초년생, 신혼부부 등 젊은층과 고령자, 주거취약계층을 위한 주거복지 정책의 일환으로 이루어집니다.\n",
            "\n",
            "Question: 행복주택출자 사업의 주요 수혜자는 누구인가?\n"
          ]
        },
        {
          "output_type": "stream",
          "name": "stderr",
          "text": [
            "Both `max_new_tokens` (=200) and `max_length`(=4096) seem to have been set. `max_new_tokens` will take precedence. Please refer to the documentation for more information. (https://huggingface.co/docs/transformers/main/en/main_classes/text_generation)\n"
          ]
        },
        {
          "output_type": "stream",
          "name": "stdout",
          "text": [
            "Answer: 대학생・사회초년생・신혼부부 등 젊은층(80%), 고령자 및 주거취약계층(20%)\n",
            "\n",
            "Question: 행복주택출자 사업의 사업비 추이는 어떠한가?\n"
          ]
        },
        {
          "output_type": "stream",
          "name": "stderr",
          "text": [
            "Both `max_new_tokens` (=200) and `max_length`(=4096) seem to have been set. `max_new_tokens` will take precedence. Please refer to the documentation for more information. (https://huggingface.co/docs/transformers/main/en/main_classes/text_generation)\n"
          ]
        },
        {
          "output_type": "stream",
          "name": "stdout",
          "text": [
            "Answer: 2023년 408백만원, 2024년 528783백만원\n",
            "\n",
            "Question: 행복주택출자 사업의 사업시행주체는 누구인가?\n"
          ]
        },
        {
          "output_type": "stream",
          "name": "stderr",
          "text": [
            "Both `max_new_tokens` (=200) and `max_length`(=4096) seem to have been set. `max_new_tokens` will take precedence. Please refer to the documentation for more information. (https://huggingface.co/docs/transformers/main/en/main_classes/text_generation)\n"
          ]
        },
        {
          "output_type": "stream",
          "name": "stdout",
          "text": [
            "Answer: 한국토지주택공사(LH)와 지자체(지방공사)가 사업시행주체이다.\n",
            "\n",
            "Question: 국고보조사업의 보조율은 어떠한 기준에 따라 운용되는가?\n"
          ]
        },
        {
          "output_type": "stream",
          "name": "stderr",
          "text": [
            "Both `max_new_tokens` (=200) and `max_length`(=4096) seem to have been set. `max_new_tokens` will take precedence. Please refer to the documentation for more information. (https://huggingface.co/docs/transformers/main/en/main_classes/text_generation)\n"
          ]
        },
        {
          "output_type": "stream",
          "name": "stdout",
          "text": [
            "Answer: 국고보조사업의 보조율은 「보조금법」과 함께 일부 개별 법령에 근거하여 운용되며, 보조금법에 의해 지방 자치단체의 재정여건을 고려하여 기준보조율과 차등보조율을 적용하여 운용하고 있음\n",
            "\n",
            "Question: 프랑스의 재정조정제도에서 최근 강조되는 형평교부금은 어떤 역할을 하는가?\n"
          ]
        },
        {
          "output_type": "stream",
          "name": "stderr",
          "text": [
            "Both `max_new_tokens` (=200) and `max_length`(=4096) seem to have been set. `max_new_tokens` will take precedence. Please refer to the documentation for more information. (https://huggingface.co/docs/transformers/main/en/main_classes/text_generation)\n"
          ]
        },
        {
          "output_type": "stream",
          "name": "stdout",
          "text": [
            "Answer: 형평교부금은 과세 규모나 국민총수입의 비율로 정해지는 중앙정부와 지방자치단체가 공유하는 일반재원으로, 지방자치 실현에 중요한 일반재원에 해당한다.\n",
            "\n",
            "Question: 지방재정조정제도의 목적은 무엇인가?\n"
          ]
        },
        {
          "output_type": "stream",
          "name": "stderr",
          "text": [
            "Both `max_new_tokens` (=200) and `max_length`(=4096) seem to have been set. `max_new_tokens` will take precedence. Please refer to the documentation for more information. (https://huggingface.co/docs/transformers/main/en/main_classes/text_generation)\n"
          ]
        },
        {
          "output_type": "stream",
          "name": "stdout",
          "text": [
            "Answer: 지방자치단체 간 재정력 격차의 시정, 지역 간 외부 효과의 내부화를 통한 지방공공재 공급, 그리고 중앙-지방 간 수직적 불균형 완화 또는 재정력 격차 완화를 통해 국가적 균형을 이루는 것이다.\n",
            "\n",
            "Question: 국제적으로 성과중심 재정관리 강화 움직임이 확산된 시기는 언제인가?\n"
          ]
        },
        {
          "output_type": "stream",
          "name": "stderr",
          "text": [
            "Both `max_new_tokens` (=200) and `max_length`(=4096) seem to have been set. `max_new_tokens` will take precedence. Please refer to the documentation for more information. (https://huggingface.co/docs/transformers/main/en/main_classes/text_generation)\n"
          ]
        },
        {
          "output_type": "stream",
          "name": "stdout",
          "text": [
            "Answer: 2000년대 후반\n",
            "\n",
            "Question: 한국의 재정사업 성과관리제도는 어떠한 법을 통해 운영되고 있으며, 성과관리 기본계획과 추진계획은 어떻게 의무화되었는가?\n"
          ]
        },
        {
          "output_type": "stream",
          "name": "stderr",
          "text": [
            "Both `max_new_tokens` (=200) and `max_length`(=4096) seem to have been set. `max_new_tokens` will take precedence. Please refer to the documentation for more information. (https://huggingface.co/docs/transformers/main/en/main_classes/text_generation)\n"
          ]
        },
        {
          "output_type": "stream",
          "name": "stdout",
          "text": [
            "Answer: 한국의 재정사업 성과관리는 「국가재정법」에 의해 운영되며, 성과관리 기본계획 및 추진계획은 의무화되어 있습니다.\n",
            "\n",
            "Question: 핵심재정사업 성과관리제도를 안착시키기 위해 필요한 노력과 성과 정보를 학습의 도구로 활용하는 방안은 무엇인가?\n"
          ]
        },
        {
          "output_type": "stream",
          "name": "stderr",
          "text": [
            "Both `max_new_tokens` (=200) and `max_length`(=4096) seem to have been set. `max_new_tokens` will take precedence. Please refer to the documentation for more information. (https://huggingface.co/docs/transformers/main/en/main_classes/text_generation)\n"
          ]
        },
        {
          "output_type": "stream",
          "name": "stdout",
          "text": [
            "Answer: 핵심재정사업 성과관리제도를 안착시키기 위해서는 국민이 핵심재정사업의 개념을 이해하고, 12대 핵심재정사업(군)별 선정 기준 및 성과지표를 파악하는 교육을 실시하는 것이 중요합니다.\n",
            "\n",
            "Question: 사회보험 사각지대 발생의 주요 원인과 이로 인해 발생하는 문제는 무엇인가요?\n"
          ]
        },
        {
          "output_type": "stream",
          "name": "stderr",
          "text": [
            "Both `max_new_tokens` (=200) and `max_length`(=4096) seem to have been set. `max_new_tokens` will take precedence. Please refer to the documentation for more information. (https://huggingface.co/docs/transformers/main/en/main_classes/text_generation)\n"
          ]
        },
        {
          "output_type": "stream",
          "name": "stdout",
          "text": [
            "Answer: 사회보험 사각지대 발생의 주요 원인은 4대 사회보험의 제도적 틀이 갖추어 있음에도 불구하고 사각지대 발생이며, 이로 인해 저소득 근로자 및 예술인·특수형태근로종사자(특고)의 사회적 약자 복지 강화에 더욱 주목되고 있습니다.\n",
            "\n",
            "Question: 청년일자리도약장려금은 어떤 대상을 지원하며, 어떤 방식으로 지원되는가?\n"
          ]
        },
        {
          "output_type": "stream",
          "name": "stderr",
          "text": [
            "Both `max_new_tokens` (=200) and `max_length`(=4096) seem to have been set. `max_new_tokens` will take precedence. Please refer to the documentation for more information. (https://huggingface.co/docs/transformers/main/en/main_classes/text_generation)\n"
          ]
        },
        {
          "output_type": "stream",
          "name": "stdout",
          "text": [
            "Answer: 청년일자리도약장려금은 만 15~34세의 취업애로청년을 정규직으로 채용 후 6개월 고용유지하는 경우 최장 2년간 지원됩니다.\n",
            "\n",
            "Question: 수직적 재정조정제도와 수평적 재정조정제도의 차이는 무엇인가요?\n"
          ]
        },
        {
          "output_type": "stream",
          "name": "stderr",
          "text": [
            "Both `max_new_tokens` (=200) and `max_length`(=4096) seem to have been set. `max_new_tokens` will take precedence. Please refer to the documentation for more information. (https://huggingface.co/docs/transformers/main/en/main_classes/text_generation)\n"
          ]
        },
        {
          "output_type": "stream",
          "name": "stdout",
          "text": [
            "Answer: 수직적 재정조정제도는 정부 층위에 따라 발생하는 지출과 자체수입 간의 격차를 해소하기 위해 중앙-지방 간 또는 광역-기초 간에 재정을 이전하는 제도이며, 수평적 재정조정제도는 동일 수준의 지방정부 간 재정불균형을 해소하기 위해 재정력이 강한 지방자치단체의 재정을 다른 지방자치단체에 분배하는 제도입니다.\n",
            "\n",
            "Question: 지방재정조정제도는 어떤 목적을 가지고 있나요?\n"
          ]
        },
        {
          "output_type": "stream",
          "name": "stderr",
          "text": [
            "Both `max_new_tokens` (=200) and `max_length`(=4096) seem to have been set. `max_new_tokens` will take precedence. Please refer to the documentation for more information. (https://huggingface.co/docs/transformers/main/en/main_classes/text_generation)\n"
          ]
        },
        {
          "output_type": "stream",
          "name": "stdout",
          "text": [
            "Answer: 지방재정조정제도는 자체 재원만으로 지출책임성을 충족하지 못하는 지방자치단체에 필요한 일종의 제도적 장치에 해당한다.\n",
            "\n",
            "Question: 중앙-지방 간 재정조정제도에서 어떤 재원을 이전하여 수직적 재정 불균형을 해소하는가?\n"
          ]
        },
        {
          "output_type": "stream",
          "name": "stderr",
          "text": [
            "Both `max_new_tokens` (=200) and `max_length`(=4096) seem to have been set. `max_new_tokens` will take precedence. Please refer to the documentation for more information. (https://huggingface.co/docs/transformers/main/en/main_classes/text_generation)\n"
          ]
        },
        {
          "output_type": "stream",
          "name": "stdout",
          "text": [
            "Answer: 중앙-지방 간 또는 광역-기초 간에 지방교부세, 국고보조금, 조정교부금(자치구 조정교부금, 시·군 조정 교부금) 재원을 이전함\n",
            "\n",
            "Question: 중앙정부의 예산편성은 어떤 재원 배분 문제를 결정하며, 중앙-지방 간 재정조정제도를 통해 어떤 재원을 이전하고, 이의 목적은 무엇인가?\n"
          ]
        },
        {
          "output_type": "stream",
          "name": "stderr",
          "text": [
            "Both `max_new_tokens` (=200) and `max_length`(=4096) seem to have been set. `max_new_tokens` will take precedence. Please refer to the documentation for more information. (https://huggingface.co/docs/transformers/main/en/main_classes/text_generation)\n"
          ]
        },
        {
          "output_type": "stream",
          "name": "stdout",
          "text": [
            "Answer: 중앙정부의 예산편성은 중앙정부와 지방자치단체 간 재정관계를 중앙정부와 지방자치단체 간(수직적 불균형) 또는 지방자치단체 상호 간(수평적 불균형)을 완화하기 위해 이전재원을 통한 중앙-지방 간 재정력 격차 완화와 재원의 배분에 대한 지속적인 논의가 필요함\n",
            "\n",
            "Question: 재정사업 성과관리제도의 필요성이 대두된 시기와 한국의 재정사업 성과관리제도가 어떤 법에 근거하여 운영되고 있는지 설명하시오.\n"
          ]
        },
        {
          "output_type": "stream",
          "name": "stderr",
          "text": [
            "Both `max_new_tokens` (=200) and `max_length`(=4096) seem to have been set. `max_new_tokens` will take precedence. Please refer to the documentation for more information. (https://huggingface.co/docs/transformers/main/en/main_classes/text_generation)\n"
          ]
        },
        {
          "output_type": "stream",
          "name": "stdout",
          "text": [
            "Answer: 1990년대 이후 체계적인 성과관리제도 도입에 대한 필요성이 대두되면서 미국, 캐나다, 영국 등 주요국 위주로 재정사업 성과관리의 실효성 제고를 위한 제도 도입 등 노력이 시작되었다. 한국의 재정사업 성과관리제도는 1993년에 시행되기 시작하였으며, 2006년 4대 재정개혁을 통해 프로그램 예산제도를 근간으로 한 재정사업 성과관리제도를 정착시켜 운영 중이다.\n",
            "\n",
            "Question: 청년일자리도약장려금은 어떤 대상을 지원하며, 어떤 방식으로 지원되는가?\n"
          ]
        },
        {
          "output_type": "stream",
          "name": "stderr",
          "text": [
            "Both `max_new_tokens` (=200) and `max_length`(=4096) seem to have been set. `max_new_tokens` will take precedence. Please refer to the documentation for more information. (https://huggingface.co/docs/transformers/main/en/main_classes/text_generation)\n"
          ]
        },
        {
          "output_type": "stream",
          "name": "stdout",
          "text": [
            "Answer: 청년일자리도약장려금은 만 15~34세의 취업애로청년을 정규직으로 채용 후 6개월 고용유지하는 경우 최장 2년간 지원됩니다.\n",
            "\n",
            "Question: 재정성과관리제도는 어떤 측면에서 국정운영과 연결되는가?\n"
          ]
        },
        {
          "output_type": "stream",
          "name": "stderr",
          "text": [
            "Both `max_new_tokens` (=200) and `max_length`(=4096) seem to have been set. `max_new_tokens` will take precedence. Please refer to the documentation for more information. (https://huggingface.co/docs/transformers/main/en/main_classes/text_generation)\n"
          ]
        },
        {
          "output_type": "stream",
          "name": "stdout",
          "text": [
            "Answer: 재정성과관리제도는 전략목표와 우선순위를 중심으로 재정사업을 재구조화한다는 점에서 국정운영과 연결된다.\n",
            "\n",
            "Question: 성과관리의 실효성 강화를 위해 정부가 취한 조치는 무엇인가?\n"
          ]
        },
        {
          "output_type": "stream",
          "name": "stderr",
          "text": [
            "Both `max_new_tokens` (=200) and `max_length`(=4096) seem to have been set. `max_new_tokens` will take precedence. Please refer to the documentation for more information. (https://huggingface.co/docs/transformers/main/en/main_classes/text_generation)\n"
          ]
        },
        {
          "output_type": "stream",
          "name": "stdout",
          "text": [
            "Answer: 정부는 2021년 '국가재정법' 개정으로 성과 중심 재정운용 강화를 위해 성과관리를 위한 별도의 장을 신설하였다.\n",
            "\n",
            "Question: 재정성과관리 관련 주요 쟁점은 무엇인가?\n"
          ]
        },
        {
          "output_type": "stream",
          "name": "stderr",
          "text": [
            "Both `max_new_tokens` (=200) and `max_length`(=4096) seem to have been set. `max_new_tokens` will take precedence. Please refer to the documentation for more information. (https://huggingface.co/docs/transformers/main/en/main_classes/text_generation)\n"
          ]
        },
        {
          "output_type": "stream",
          "name": "stdout",
          "text": [
            "Answer: 국가재정법상의 재정사업 평가인 재정사업 자율평가의 대상, 범위, 효과, 개편 등은 지속적으로 논의되어야 한다.\n",
            "\n",
            "Question: 재정성과관리가 왜 중요한가?\n"
          ]
        },
        {
          "output_type": "stream",
          "name": "stderr",
          "text": [
            "Both `max_new_tokens` (=200) and `max_length`(=4096) seem to have been set. `max_new_tokens` will take precedence. Please refer to the documentation for more information. (https://huggingface.co/docs/transformers/main/en/main_classes/text_generation)\n"
          ]
        },
        {
          "output_type": "stream",
          "name": "stdout",
          "text": [
            "Answer: 재정성과관리제도는 재정의 효율성을 제고하고, 재정의 책임성을 강화하는 방향으로 개선되기 때문에 중요합니다.\n",
            "\n",
            "Question: 재정성과관리는 무엇을 목표로 하는가?\n"
          ]
        },
        {
          "output_type": "stream",
          "name": "stderr",
          "text": [
            "Both `max_new_tokens` (=200) and `max_length`(=4096) seem to have been set. `max_new_tokens` will take precedence. Please refer to the documentation for more information. (https://huggingface.co/docs/transformers/main/en/main_classes/text_generation)\n"
          ]
        },
        {
          "output_type": "stream",
          "name": "stdout",
          "text": [
            "Answer: 재정성과관리는 재정을 프로그램 단위로 구분하고, 사전 목표와 사후 평가 결과를 중심으로 관리하는 것을 의미합니다.\n",
            "\n",
            "Question: 어떤 국제기구들이 사업을 기준으로 예산을 나누어 성과 정보를 생산하고 있는가?\n"
          ]
        },
        {
          "output_type": "stream",
          "name": "stderr",
          "text": [
            "Both `max_new_tokens` (=200) and `max_length`(=4096) seem to have been set. `max_new_tokens` will take precedence. Please refer to the documentation for more information. (https://huggingface.co/docs/transformers/main/en/main_classes/text_generation)\n"
          ]
        },
        {
          "output_type": "stream",
          "name": "stdout",
          "text": [
            "Answer: OECD, World Bank\n",
            "\n",
            "Question: 재정성과관리의 목적은 무엇인가?\n"
          ]
        },
        {
          "output_type": "stream",
          "name": "stderr",
          "text": [
            "Both `max_new_tokens` (=200) and `max_length`(=4096) seem to have been set. `max_new_tokens` will take precedence. Please refer to the documentation for more information. (https://huggingface.co/docs/transformers/main/en/main_classes/text_generation)\n"
          ]
        },
        {
          "output_type": "stream",
          "name": "stdout",
          "text": [
            "Answer: 재정성과관리는 재정의 투명성·책임성, 효율성·효과성, 예산재분배 등을 목적으로 한다.\n",
            "\n",
            "Question: 2021년 「국가재정법」 개정으로 어떤 규정이 신설되었는가?\n"
          ]
        },
        {
          "output_type": "stream",
          "name": "stderr",
          "text": [
            "Both `max_new_tokens` (=200) and `max_length`(=4096) seem to have been set. `max_new_tokens` will take precedence. Please refer to the documentation for more information. (https://huggingface.co/docs/transformers/main/en/main_classes/text_generation)\n"
          ]
        },
        {
          "output_type": "stream",
          "name": "stdout",
          "text": [
            "Answer: 2021년 '국가재정법' 개정으로 성과 중심 재정운용 강화를 위해 성과관리를 위한 별도의 장을 신설하였다.\n",
            "\n",
            "Question: 성과관리제도는 지출 구조조정을 위해 어떤 방향으로 추진되고 있는가?\n"
          ]
        },
        {
          "output_type": "stream",
          "name": "stderr",
          "text": [
            "Both `max_new_tokens` (=200) and `max_length`(=4096) seem to have been set. `max_new_tokens` will take precedence. Please refer to the documentation for more information. (https://huggingface.co/docs/transformers/main/en/main_classes/text_generation)\n"
          ]
        },
        {
          "output_type": "stream",
          "name": "stdout",
          "text": [
            "Answer: 성과관리제도는 재정사업의 성과목표와 우선순위를 중심으로 재정사업을 재구조화하기 위해 지출 우선순위 측면에서 재정을 중장기 시계로 확장시켜 주고 있다.\n",
            "\n",
            "Question: 재정사업 자율평가의 목적은 무엇이며, 어떤 방식으로 제도 개선이 이루어졌는가?\n"
          ]
        },
        {
          "output_type": "stream",
          "name": "stderr",
          "text": [
            "Both `max_new_tokens` (=200) and `max_length`(=4096) seem to have been set. `max_new_tokens` will take precedence. Please refer to the documentation for more information. (https://huggingface.co/docs/transformers/main/en/main_classes/text_generation)\n"
          ]
        },
        {
          "output_type": "stream",
          "name": "stdout",
          "text": [
            "Answer: 재정사업 자율평가의 목적은 재정관리 합리성 제고를 위해 이루어집니다. 2018년에 연구개발사업 평가를 다시 분리하고 기존의 자율평가 제도로 환원하는 한편, 공통 평가지침과 평가보고서 표준서식을 폐지하고 상위 평가 방식을 메타 평가 방식의 전수 점검에서 80여 개 주요 핵심 사업에 대한 평가로 전환되었습니다.\n",
            "\n",
            "Question: 2016년 재정성과관리제도의 환류 개선사항은 무엇인가?\n"
          ]
        },
        {
          "output_type": "stream",
          "name": "stderr",
          "text": [
            "Both `max_new_tokens` (=200) and `max_length`(=4096) seem to have been set. `max_new_tokens` will take precedence. Please refer to the documentation for more information. (https://huggingface.co/docs/transformers/main/en/main_classes/text_generation)\n"
          ]
        },
        {
          "output_type": "stream",
          "name": "stdout",
          "text": [
            "Answer: 평가 대상 사업 전체 예산의 1% 이내에서 부처에서 자율적으로 세출구조조정을 도 경감, 기계적인 예산과 성과관리 연동 폐지를 통한 재정사업 구조조정 합리화 등을 목적으로 이루어짐\n",
            "\n",
            "Question: 2018년도에 재정성과관리제도 개선사항과, 이로 인해 어떤 효과가 발생했는가?\n"
          ]
        },
        {
          "output_type": "stream",
          "name": "stderr",
          "text": [
            "Both `max_new_tokens` (=200) and `max_length`(=4096) seem to have been set. `max_new_tokens` will take precedence. Please refer to the documentation for more information. (https://huggingface.co/docs/transformers/main/en/main_classes/text_generation)\n"
          ]
        },
        {
          "output_type": "stream",
          "name": "stdout",
          "text": [
            "Answer: 2018년도 제도 개선으로 각 부처에서 지표와 배점 기준을 자율적으로 하도록 하여, 부처의 자율적인 재정사업 성과관리 확대에 기여하였다.\n",
            "\n",
            "Question: 재정사업 자율평가의 전면 개편을 통해 어떤 중점 추진과제가 제시되었는가?\n"
          ]
        },
        {
          "output_type": "stream",
          "name": "stderr",
          "text": [
            "Both `max_new_tokens` (=200) and `max_length`(=4096) seem to have been set. `max_new_tokens` will take precedence. Please refer to the documentation for more information. (https://huggingface.co/docs/transformers/main/en/main_classes/text_generation)\n"
          ]
        },
        {
          "output_type": "stream",
          "name": "stdout",
          "text": [
            "Answer: 성과관리 사각지대 해소, 사업성과평가의 예산편성 활용 확대를 위한 중점 추진과제가 제시되었다.\n",
            "\n",
            "Question: 재정성과관리제도의 중요성과 국정운영과의 연결성은 무엇인가?\n"
          ]
        },
        {
          "output_type": "stream",
          "name": "stderr",
          "text": [
            "Both `max_new_tokens` (=200) and `max_length`(=4096) seem to have been set. `max_new_tokens` will take precedence. Please refer to the documentation for more information. (https://huggingface.co/docs/transformers/main/en/main_classes/text_generation)\n"
          ]
        },
        {
          "output_type": "stream",
          "name": "stdout",
          "text": [
            "Answer: 재정성과관리제도는 전략목표와 우선순위를 중심으로 재정사업을 재구조화한다는 점에서 국정운영과 연결된다.\n",
            "\n",
            "Question: 재정성과관리체계 강화를 위해 정부가 어떤 제도를 제시했으며, 재정성과관리는 무엇을 목표로 하는가?\n"
          ]
        },
        {
          "output_type": "stream",
          "name": "stderr",
          "text": [
            "Both `max_new_tokens` (=200) and `max_length`(=4096) seem to have been set. `max_new_tokens` will take precedence. Please refer to the documentation for more information. (https://huggingface.co/docs/transformers/main/en/main_classes/text_generation)\n"
          ]
        },
        {
          "output_type": "stream",
          "name": "stdout",
          "text": [
            "Answer: 정부는 2021년 '국가재정법' 개정으로 성과 중심 재정운용 강화를 위해 성과관리를 위한 별도의 장을 신설하도록 개선했다. 재정성과관리는 재정을 프로그램 단위로 구분하고, 사전 목표와 사후 평가 결과를 중심으로 관리하는 것을 의미하며, 재정수지, 국가채무 등 재정 전체에 대한 총량 관리에서는 보지 못하는 미시적인 부분까지 관리하는 것을 목적으로 한다.\n",
            "\n",
            "Question: 재정성과관리는 어떤 과정에서 수행되며, 무엇을 증진하기 위해 활동하는가?\n"
          ]
        },
        {
          "output_type": "stream",
          "name": "stderr",
          "text": [
            "Both `max_new_tokens` (=200) and `max_length`(=4096) seem to have been set. `max_new_tokens` will take precedence. Please refer to the documentation for more information. (https://huggingface.co/docs/transformers/main/en/main_classes/text_generation)\n"
          ]
        },
        {
          "output_type": "stream",
          "name": "stdout",
          "text": [
            "Answer: 재정성과관리는 예산의 편성에서 집행, 결산에 이르는 전 과정에서 수행되며, 재정지출이 달성해야 할 목표를 정확히 설정하고, 이의 달성도를 지속적으로 관리하는 활동을 통해 재정의 효율성 및 형평성을 증진시키기 위해 활용된다.\n",
            "\n",
            "Question: 재정성과관리의 목적과 우리나라의 재정성과관리제도가 프로그램 예산제도로 전환된 시기는?\n"
          ]
        },
        {
          "output_type": "stream",
          "name": "stderr",
          "text": [
            "Both `max_new_tokens` (=200) and `max_length`(=4096) seem to have been set. `max_new_tokens` will take precedence. Please refer to the documentation for more information. (https://huggingface.co/docs/transformers/main/en/main_classes/text_generation)\n"
          ]
        },
        {
          "output_type": "stream",
          "name": "stdout",
          "text": [
            "Answer: 재정성과관리제도의 목적은 재정의 효율적이고 투명한 사용이며, 재정의 집약적 관리를 강화하는 것이다. 우리나라는 2006년 4대 재정개혁을 통해 프로그램 예산제도로 전환하였다.\n",
            "\n",
            "Question: 2007년과 2021년에 각각 「국가재정법」이 개정되면서 성과관리 제도는 어떻게 강화되고 구체화되었으며, 이 개정의 주된 목적은 무엇인가?\n"
          ]
        },
        {
          "output_type": "stream",
          "name": "stderr",
          "text": [
            "Both `max_new_tokens` (=200) and `max_length`(=4096) seem to have been set. `max_new_tokens` will take precedence. Please refer to the documentation for more information. (https://huggingface.co/docs/transformers/main/en/main_classes/text_generation)\n"
          ]
        },
        {
          "output_type": "stream",
          "name": "stdout",
          "text": [
            "Answer: 2007년에 '국가재정법' 시행으로 과거에 단발적으로 이루어진 성과관리 제도를 종합하여, 성과의 기본 단위, 성과 측정과 보고를 위한 체계 확립되었다. 2021년 개정으로는 성과 중심 재정운용 강화를 위해 성과관리를 위한 별도의 장을 신설하고, 정보화하여 활용할 수 있는 기반을 마련했다.\n",
            "\n",
            "Question: 재정사업 자율평가의 목적과 제도 개선 방식은 무엇인가?\n"
          ]
        },
        {
          "output_type": "stream",
          "name": "stderr",
          "text": [
            "Both `max_new_tokens` (=200) and `max_length`(=4096) seem to have been set. `max_new_tokens` will take precedence. Please refer to the documentation for more information. (https://huggingface.co/docs/transformers/main/en/main_classes/text_generation)\n"
          ]
        },
        {
          "output_type": "stream",
          "name": "stdout",
          "text": [
            "Answer: 재정사업 자율평가는 재정관리 합리성을 제고하고, 투명성을 제고하는 것을 목적으로 한다. 이를 위해 2018년에 연구개발사업 평가를 다시 분리하고 기존의 재정사업 자율평가 제도로 환원하는 한편, 공통 평가지침과 평가보고서 표준서식을 폐지하고 상위 평가 방식을 메타 평가 방식의 전수 점검에서 80여 개 주요 핵심 사업에 대한 평가로 전환하였다.\n",
            "\n",
            "Question: 2015년 이전과 2016년에 재정성과 평가 결과 처리 방식과 환류 개선 방식은 어떻게 달라졌는가?\n"
          ]
        },
        {
          "output_type": "stream",
          "name": "stderr",
          "text": [
            "Both `max_new_tokens` (=200) and `max_length`(=4096) seem to have been set. `max_new_tokens` will take precedence. Please refer to the documentation for more information. (https://huggingface.co/docs/transformers/main/en/main_classes/text_generation)\n"
          ]
        },
        {
          "output_type": "stream",
          "name": "stdout",
          "text": [
            "Answer: 2015년도 평가 이전에는 평가 결과 미흡 등급 비율을 강제 배정하고 해당 단위사업에 대한 일률적 삭감을 실시했으며, 2016년도 환류 개선을 통해 평가 대상 사업 전체 예산의 1% 이내에서 부처에서 자율적으로 세출구조조정을 마련하도록 하고 우수 등급 사업도 지출구조조정이 가능하도록 하는 한편, 구조조정이 어려운 사업에 대해서는 성과관리 개선대책을 제출하게 하였으며 현재도 이 틀에서 환류 수행 중입니다.\n",
            "\n",
            "Question: 재정관리시스템 구축과 성과관리 개편을 추진하는 주된 목적은 무엇인가?\n"
          ]
        },
        {
          "output_type": "stream",
          "name": "stderr",
          "text": [
            "Both `max_new_tokens` (=200) and `max_length`(=4096) seem to have been set. `max_new_tokens` will take precedence. Please refer to the documentation for more information. (https://huggingface.co/docs/transformers/main/en/main_classes/text_generation)\n"
          ]
        },
        {
          "output_type": "stream",
          "name": "stdout",
          "text": [
            "Answer: 재정관리시스템 구축 및 성과관리 개편의 주된 목적은 재정의 투명성·책임성, 효율성·효과성, 예산재분배 등을 강화하고 재정운용의 책임성을 제고하는 것이다.\n",
            "\n",
            "Question: 우리나라에서는 언제부터 발생주의 기준을 적용한 국가결산보고서에서 우발부채를 보고하고 있는가?\n"
          ]
        },
        {
          "output_type": "stream",
          "name": "stderr",
          "text": [
            "Both `max_new_tokens` (=200) and `max_length`(=4096) seem to have been set. `max_new_tokens` will take precedence. Please refer to the documentation for more information. (https://huggingface.co/docs/transformers/main/en/main_classes/text_generation)\n"
          ]
        },
        {
          "output_type": "stream",
          "name": "stdout",
          "text": [
            "Answer: 2011년부터\n",
            "\n",
            "Question: 우발부채 관련 주요 쟁점은 무엇인가?\n"
          ]
        },
        {
          "output_type": "stream",
          "name": "stderr",
          "text": [
            "Both `max_new_tokens` (=200) and `max_length`(=4096) seem to have been set. `max_new_tokens` will take precedence. Please refer to the documentation for more information. (https://huggingface.co/docs/transformers/main/en/main_classes/text_generation)\n"
          ]
        },
        {
          "output_type": "stream",
          "name": "stdout",
          "text": [
            "Answer: 우발부채 관련 주요 쟁점은 우발부채 개념 및 용어 사용의 혼란, 우발부채 분류기준 재검토, 새로운 분류기준 정립 등이다.\n",
            "\n",
            "Question: 우발부채의 관리는 왜 중요한 이슈로 여겨지는가?\n"
          ]
        },
        {
          "output_type": "stream",
          "name": "stderr",
          "text": [
            "Both `max_new_tokens` (=200) and `max_length`(=4096) seem to have been set. `max_new_tokens` will take precedence. Please refer to the documentation for more information. (https://huggingface.co/docs/transformers/main/en/main_classes/text_generation)\n"
          ]
        },
        {
          "output_type": "stream",
          "name": "stdout",
          "text": [
            "Answer: 우발부채는 미래 발생하는 의무로 인해 발생하는 부채로, 회계기준이 적용되면서 미래의 다양한 의제의무를 포괄하는 우발부채 관리에 대한 중요성 인식이 필요하기 때문에 주목받는 이슈이다.\n",
            "\n",
            "Question: 우발부채와 부채의 차이점은 무엇인가?\n"
          ]
        },
        {
          "output_type": "stream",
          "name": "stderr",
          "text": [
            "Both `max_new_tokens` (=200) and `max_length`(=4096) seem to have been set. `max_new_tokens` will take precedence. Please refer to the documentation for more information. (https://huggingface.co/docs/transformers/main/en/main_classes/text_generation)\n"
          ]
        },
        {
          "output_type": "stream",
          "name": "stdout",
          "text": [
            "Answer: 우발부채는 부채의 엄격한 의미에서 사용되는 '부채'와는 달리, 잠재적 부채로 인식된다는 점에서 차이가 있습니다.\n",
            "\n",
            "Question: 발생주의와 현금주의의 차이는 무엇인가?\n"
          ]
        },
        {
          "output_type": "stream",
          "name": "stderr",
          "text": [
            "Both `max_new_tokens` (=200) and `max_length`(=4096) seem to have been set. `max_new_tokens` will take precedence. Please refer to the documentation for more information. (https://huggingface.co/docs/transformers/main/en/main_classes/text_generation)\n"
          ]
        },
        {
          "output_type": "stream",
          "name": "stdout",
          "text": [
            "Answer: 발생주의는 경제적 거래가 발생하는 시점에 거래를 기록하는 방식으로, 현금주의는 현금을 수취하거나 지급한 시점에 거래를 기록하는 방식이다.\n",
            "\n",
            "Question: 채무지속가능성분석은 어떤 목적을 가지고 도입되었는가?\n"
          ]
        },
        {
          "output_type": "stream",
          "name": "stderr",
          "text": [
            "Both `max_new_tokens` (=200) and `max_length`(=4096) seem to have been set. `max_new_tokens` will take precedence. Please refer to the documentation for more information. (https://huggingface.co/docs/transformers/main/en/main_classes/text_generation)\n"
          ]
        },
        {
          "output_type": "stream",
          "name": "stdout",
          "text": [
            "Answer: 채무지속가능성분석(DSA)는 공공부문과 대외채무 지속가능성 분석에 관한 공식적인 체계로, 잠재적 재정위기 감지, 예방, 해결을 위한 필요성이 있다.\n",
            "\n",
            "Question: 의제의무란 무엇인가?\n"
          ]
        },
        {
          "output_type": "stream",
          "name": "stderr",
          "text": [
            "Both `max_new_tokens` (=200) and `max_length`(=4096) seem to have been set. `max_new_tokens` will take precedence. Please refer to the documentation for more information. (https://huggingface.co/docs/transformers/main/en/main_classes/text_generation)\n"
          ]
        },
        {
          "output_type": "stream",
          "name": "stdout",
          "text": [
            "Answer: 발표된 정부방침 또는 구체적이고 유효한 약속이나 과거의 실무관행 등을 통해 중앙관서 또는 기금이 특정 책임을 수행하기 위해 부담하는 의무를 말한다.\n",
            "\n",
            "Question: 국제통화기금이 재정통계 작성의 국제기준을 제시하기 위해 발간한 매뉴얼은 무엇인가?\n"
          ]
        },
        {
          "output_type": "stream",
          "name": "stderr",
          "text": [
            "Both `max_new_tokens` (=200) and `max_length`(=4096) seem to have been set. `max_new_tokens` will take precedence. Please refer to the documentation for more information. (https://huggingface.co/docs/transformers/main/en/main_classes/text_generation)\n"
          ]
        },
        {
          "output_type": "stream",
          "name": "stdout",
          "text": [
            "Answer: 국제통화기금(IMF)은 1986년 재정통계 매뉴얼(Government Finance Statistics Manual, GFSM)을 처음 발간하였습니다.\n",
            "\n",
            "Question: 계류중인 소송사건이란 무엇인가?\n"
          ]
        },
        {
          "output_type": "stream",
          "name": "stderr",
          "text": [
            "Both `max_new_tokens` (=200) and `max_length`(=4096) seem to have been set. `max_new_tokens` will take precedence. Please refer to the documentation for more information. (https://huggingface.co/docs/transformers/main/en/main_classes/text_generation)\n"
          ]
        },
        {
          "output_type": "stream",
          "name": "stdout",
          "text": [
            "Answer: 정부가 원고인 경우(예를 들어, 정부가 다른 당사자에게 손상 또는 손실에 대해 청구한 소송사건의 경우) 우발자산이 될 수 있는 소송사건을 말합니다.\n",
            "\n",
            "Question: 최소운영수입보장(BTO 등) 제도란 무엇을 의미하는가?\n"
          ]
        },
        {
          "output_type": "stream",
          "name": "stderr",
          "text": [
            "Both `max_new_tokens` (=200) and `max_length`(=4096) seem to have been set. `max_new_tokens` will take precedence. Please refer to the documentation for more information. (https://huggingface.co/docs/transformers/main/en/main_classes/text_generation)\n"
          ]
        },
        {
          "output_type": "stream",
          "name": "stdout",
          "text": [
            "Answer: 최소운영수입보장(BTO 등) 제도는 주로 BTO 민간투자사업 중 실시협약서 상 추정 수입보다 실제 수입이 미치지 못하는 경우, 정부가 지원하는 것입니다.\n",
            "\n",
            "Question: 우발부채에 대한 내용으로 대표적으로 어떤 사항이 해당되는가?\n"
          ]
        },
        {
          "output_type": "stream",
          "name": "stderr",
          "text": [
            "Both `max_new_tokens` (=200) and `max_length`(=4096) seem to have been set. `max_new_tokens` will take precedence. Please refer to the documentation for more information. (https://huggingface.co/docs/transformers/main/en/main_classes/text_generation)\n"
          ]
        },
        {
          "output_type": "stream",
          "name": "stdout",
          "text": [
            "Answer: 대표적으로 장기임차토지의 원상회복의무, 공공금융비용, 공공손실부담 등이 해당된다.\n",
            "\n",
            "Question: GFSM2014에서는 우발부채를 어떻게 구분하는가?\n"
          ]
        },
        {
          "output_type": "stream",
          "name": "stderr",
          "text": [
            "Both `max_new_tokens` (=200) and `max_length`(=4096) seem to have been set. `max_new_tokens` will take precedence. Please refer to the documentation for more information. (https://huggingface.co/docs/transformers/main/en/main_classes/text_generation)\n"
          ]
        },
        {
          "output_type": "stream",
          "name": "stdout",
          "text": [
            "Answer: GFSM2014에서는 우발부채를 '명시적 우발부채'와 '암묵적 우발부채'로 세분화하여 구체적으로 다룸\n",
            "\n",
            "Question: GFSM은 몇 차례의 개정을 거쳤으며, 어떠한 목적으로 GFSM 2001이 개정되었는가?\n"
          ]
        },
        {
          "output_type": "stream",
          "name": "stderr",
          "text": [
            "Both `max_new_tokens` (=200) and `max_length`(=4096) seem to have been set. `max_new_tokens` will take precedence. Please refer to the documentation for more information. (https://huggingface.co/docs/transformers/main/en/main_classes/text_generation)\n"
          ]
        },
        {
          "output_type": "stream",
          "name": "stdout",
          "text": [
            "Answer: GFSM은 1986년 첫 발간 이래 현재까지 총 2차례(2001년, 2014년)의 개정이 있었다. 특히, GFSM 2001은 전면 개정을 통해 현재의 발생주의 기준 GFS체계를 구축하였으며, GFSM2014는 SNA, PSDS 등 다른 국제통계기준과 부합하도록 더 구체화했다.\n",
            "\n",
            "Question: 표준화 보증이란 무엇인가?\n"
          ]
        },
        {
          "output_type": "stream",
          "name": "stderr",
          "text": [
            "Both `max_new_tokens` (=200) and `max_length`(=4096) seem to have been set. `max_new_tokens` will take precedence. Please refer to the documentation for more information. (https://huggingface.co/docs/transformers/main/en/main_classes/text_generation)\n"
          ]
        },
        {
          "output_type": "stream",
          "name": "stdout",
          "text": [
            "Answer: 표준화 보증은 통상 아주 적은 금액에 대해 획일적 조건으로 대규모로 발행하는 보증을 말하며, 수출(무역)신용 보증, 환보증, 다양한 종류의 보험(예금, 농작물, 자연재해 등), 농민융자, 모기지론, 학자금융자, 중소기업융자 등이 있다. 주로 유사한 특징을 지니고 위험 분산을 목적으로 하는 보증들이며, 표준화된 보증제도 하에 설정된 충당부채 형태의 보증이다.\n",
            "\n",
            "Question: 표준화 보증에서 공공부문의 우발부채는 어떻게 인식되는가?\n"
          ]
        },
        {
          "output_type": "stream",
          "name": "stderr",
          "text": [
            "Both `max_new_tokens` (=200) and `max_length`(=4096) seem to have been set. `max_new_tokens` will take precedence. Please refer to the documentation for more information. (https://huggingface.co/docs/transformers/main/en/main_classes/text_generation)\n"
          ]
        },
        {
          "output_type": "stream",
          "name": "stdout",
          "text": [
            "Answer: 표준화 보증에서 공공부문의 우발부채는 표준화 보증 충당부채로 인식된다.\n",
            "\n",
            "Question: 재정정책에서 공적보증채무와 다른 일회성 보증은 어떻게 구분되는가?\n"
          ]
        },
        {
          "output_type": "stream",
          "name": "stderr",
          "text": [
            "Both `max_new_tokens` (=200) and `max_length`(=4096) seem to have been set. `max_new_tokens` will take precedence. Please refer to the documentation for more information. (https://huggingface.co/docs/transformers/main/en/main_classes/text_generation)\n"
          ]
        },
        {
          "output_type": "stream",
          "name": "stdout",
          "text": [
            "Answer: 공적보증채무는 일반적으로 신용보증, 조건부 '신용 가용성' 보증, 조건부 신용지원 등으로 구분된다. 이러한 보증들은 기타 일회성 보증과는 달리 재정정책 및 분석에서 중요한 위치를 차지한다.\n",
            "\n",
            "Question: 미래사회보장급여에 대한 순의무란 무엇을 의미하는가?\n"
          ]
        },
        {
          "output_type": "stream",
          "name": "stderr",
          "text": [
            "Both `max_new_tokens` (=200) and `max_length`(=4096) seem to have been set. `max_new_tokens` will take precedence. Please refer to the documentation for more information. (https://huggingface.co/docs/transformers/main/en/main_classes/text_generation)\n"
          ]
        },
        {
          "output_type": "stream",
          "name": "stdout",
          "text": [
            "Answer: 미래사회보장급여에 대한 순의무는 현행법과 규정에 따라 이미 가입자가 획득한 미래 급여의 현재가치에서 현행법과 규정에 따라한 사회보장제도의 미래보험료의 순현재가치를 차감한 것을 인식한다.\n",
            "\n",
            "Question: 국가결산보고서와 지방자치단체 회계기준에서 우발부채에 대한 용어 및 회계처리가 어떻게 다른가요?\n"
          ]
        },
        {
          "output_type": "stream",
          "name": "stderr",
          "text": [
            "Both `max_new_tokens` (=200) and `max_length`(=4096) seem to have been set. `max_new_tokens` will take precedence. Please refer to the documentation for more information. (https://huggingface.co/docs/transformers/main/en/main_classes/text_generation)\n"
          ]
        },
        {
          "output_type": "stream",
          "name": "stdout",
          "text": [
            "Answer: 국가결산보고서는 '우발사항 및 약정사항'으로 공시되며, 지방자치단체 회계기준에서는 '우발손실'로 정의합니다.\n",
            "\n",
            "Question: 우발부채란 무엇이며, 그 관리가 왜 중요한가?\n"
          ]
        },
        {
          "output_type": "stream",
          "name": "stderr",
          "text": [
            "Both `max_new_tokens` (=200) and `max_length`(=4096) seem to have been set. `max_new_tokens` will take precedence. Please refer to the documentation for more information. (https://huggingface.co/docs/transformers/main/en/main_classes/text_generation)\n"
          ]
        },
        {
          "output_type": "stream",
          "name": "stdout",
          "text": [
            "Answer: 우발부채는 회계기준이 적용되면서 미래의 다양한 의제의무(constructive obligation)를 포괄하는 우발부채 관리에 대한 중요성 인식을 위해 주목하는 내용입니다.\n",
            "\n",
            "Question: 보증이란 무엇이며, 어떤 형태의 보증이 재정상태표에 부채로 기록되는가? 또한 표준화 보증이란 무엇이며, 어떤 목적으로 발행되는가?\n",
            "Answer: 보증은 잠재적 법적청구권을 가지는 사람이 부채를 대신해서 갚을 수 있도록 하는 약속을 하는 것을 말하며, 보증인은 보증제의 규정에 따라 보증인으로서 작용한다. 재정상태표에 부채로 기록되는 보증형태는 '파생금융상품 형태의 보증'이나 '표준화된 보증' 등이 있다. 표준화 보증은 통상 아주 적은 금액에 대해 획일적 조건으로 대규모로 발행하는 보증을 말하며, 수출(무역)신용 보증, 환보증, 다양한 종류의 보험(예금, 농작물, 자연재해 등), 농민융자, 모기지론, 학자금융자, 중소기업융자\n",
            "\n"
          ]
        }
      ],
      "source": [
        "from tqdm.auto import trange\n",
        "\n",
        "# 결과를 저장할 리스트 초기화\n",
        "results = []\n",
        "\n",
        "# DATASET 구조를 dataset[i]={'question':,'context':,...}로 바꾸면 안됨?\n",
        "\n",
        "# Dataset 각 행에 대해 처리\n",
        "for idx in trange(len(eval_dataset['question']), desc=\"Answering Questions\"):\n",
        "    #질문, 컨텍스트(문서)\n",
        "    question = eval_dataset['question'][idx]\n",
        "    context = eval_dataset['context'][idx]\n",
        "\n",
        "    # RAG 체인 구성\n",
        "    prompt = PromptTemplate.from_template(inf_template)\n",
        "\n",
        "    # RAG 체인 정의\n",
        "    if context != \"\":\n",
        "        rag_chain = (\n",
        "            RunnableParallel(context=lambda x: x[\"context\"], question = lambda x: x[\"question\"])\n",
        "            | prompt\n",
        "            | llm\n",
        "            | StrOutputParser()\n",
        "        )\n",
        "    else:\n",
        "        rag_chain = (\n",
        "            {\"question\": RunnablePassthrough()}\n",
        "            | prompt\n",
        "            | llm\n",
        "            | StrOutputParser()\n",
        "        )\n",
        "\n",
        "    # 답변 추론\n",
        "    print(f\"Question: {question}\")\n",
        "    full_response = rag_chain.invoke({\"question\": question, \"context\": context})\n",
        "\n",
        "    print(f\"Answer: {full_response}\\n\")\n",
        "\n",
        "    # 결과 저장\n",
        "\n",
        "    if context != \"\":\n",
        "        results.append({\n",
        "            \"Context\": context,\n",
        "            \"Question\": question,\n",
        "            \"Answer\": full_response,\n",
        "            \"True_Answer\": eval_dataset['answer'][idx]\n",
        "        })\n",
        "    else:\n",
        "        results.append({\n",
        "            \"Question\": question,\n",
        "            \"Answer\": full_response,\n",
        "            \"True_Answer\": eval_dataset['answer'][idx]\n",
        "        })"
      ]
    },
    {
      "cell_type": "code",
      "execution_count": 34,
      "metadata": {
        "colab": {
          "base_uri": "https://localhost:8080/"
        },
        "id": "s04GExCGZMfG",
        "outputId": "675245e6-c975-4404-aeb5-d9218d554f79"
      },
      "outputs": [
        {
          "output_type": "stream",
          "name": "stdout",
          "text": [
            "장기요양인정점수 완화가 언제 이루어졌으며, 어떤 변화가 있었나?\n",
            "--------\n",
            "- (’07.4월)「노인장기요양보험법」제정ㆍ공포 (’08.7월부터 제도 시행)  \n",
            "- (’12.7월) 노인장기요양보험 대상자 확대 (장기요양인정점수 완화)  \n",
            "- 3등급 인정점수 완화: (기존) 55∼75점 → (개선) 53점∼75점  \n",
            "- (’12.9월) “제1차 장기요양 기본계획” 수립ㆍ발표  \n",
            "- (’13.7월) 노인장기요양보험 대상자 확대 (장기요양인정점수 완화)  \n",
            "- 3등급 인정점수 완화: (기존) 53∼75점 → (개선) 51점∼75점\n",
            "# 5. 사업근거 및 추진경위  \n",
            "① 법령상 근거 및 조항 : 노인장기요양보험법 제4조, 제11조, 제35조의2, 제58조 및  \n",
            "같은 법 시행령제28조, 국민건강보험법 제76조  \n",
            "노인장기요양보험법 제4조(국가 및 지방자치단체의 책무 등) ④ 국가 및 지방자치단체는 장기요양  \n",
            "급여가 원활히 제공될 수 있도록 공단에 필요한 행정적 또는 재정적 지원을 할 수 있다.\n",
            "- (’18.7월) 장기요양 보장성 강화를 위한 본인부담 감경대상 및 감경율 확대  \n",
            "- (기존) 기준중위소득 50% 이하 대상 본인부담 50% 감경 → (변경) 건보료 기준 하위 25% 대상  \n",
            "60% 감경, 하위 25~50% 대상 40% 감경  \n",
            "- (’18.12월) 장기요양기관 지정갱신제 법적 근거 마련(’25. 시행)  \n",
            "- (’19.6월) 장기요양요원의 권익 보호 등을 위해 장기요양요원지원센터 설치\n",
            "완화하여 국민 삶의 질을 향상  \n",
            "- (노인장기요양보험 운영지원) 「노인장기요양보험법」제58조에 따라 국가가 국민건강보험  \n",
            "공단에 지원하는 법정지원금(장기요양보험료 예상수입액의 20% 상당)  \n",
            "- (공무원·사립학교교원 등 장기요양보험료 국가부담금) 공무원·사립학교 교원의 장기요양  \n",
            "보험료국가부담분 및 차상위계층의 장기요양보험료 지원  \n",
            "-----  \n",
            "- (기타 의료급여수급권자 급여비용 국가부담금) 「국민기초생활 보장법」에 의한 의료\n",
            "- (’14.7월) 노인장기요양보험 등급체계 개편(3등급 → 3등급 및 4등급으로 세분화)  \n",
            "및 치매특별등급(5등급) 신설 관련 시행령ㆍ시행규칙ㆍ고시 개정  \n",
            "- (’16.5월) 장기요양기관 투명성 확보 마련 등을 위한 장기요양기관 재무·회계기준  \n",
            "개정(’16.5.) 및 관련 시행규칙 시행(’18.5.)  \n",
            "- (’18.1월) 경증치매환자 “인지지원등급” 신설  \n",
            "- (’18.2월) “제2차 장기요양 기본계획” 수립ㆍ발표\n",
            "구분에 따라 부담한다.  \n",
            "가. 국가부담분 :「보조금 관리에 관한 법률 시행령」별표 1의 기초생활보장수급자 의료급여 기준  \n",
            "보조율에 따른 금액  \n",
            "나. 지방자치단체 부담분 : 가목에 따른 국가 부담분 외의 금액  \n",
            "국민건강보험법 제76조(보험료의 부담) ① 직장가입자의 보수월액보험료는 직장가입자와 다음  \n",
            "-----  \n",
            "② 추진경위  \n",
            "- (’01.8.15.) 고령화시대 대비, 노인장기요양보장제도 도입 발표\n",
            "- (’21.12월) 요양시설 CCTV 설치 의무화 법 개정(’23.6월 시행)  \n",
            "- (’22.10월) 요양보호사 인력배치기준 개선(요양보호사 1명당 시설수급자 2.5명 → 2.3명)  \n",
            "- (’23.8월) “제3차 장기요양 기본계획” 수립ㆍ발표\n",
            "\n",
            "--------\n",
            "\n"
          ]
        }
      ],
      "source": [
        "i = 20\n",
        "print_dataset_ele(eval_dataset,i)"
      ]
    },
    {
      "cell_type": "code",
      "source": [
        "def post_process(ans):\n",
        "  ans = ans.strip().split('\\n')\n",
        "  sen_len = list(map(len,ans))\n",
        "  th = 1\n",
        "  for i,l in enumerate(sen_len):\n",
        "    if l < 2 :\n",
        "      th = i\n",
        "      break\n",
        "  if th < 1 : th = 1\n",
        "  return '\\n'.join(ans[:th])"
      ],
      "metadata": {
        "id": "nJeUxesoyeo8"
      },
      "execution_count": 35,
      "outputs": []
    },
    {
      "cell_type": "code",
      "source": [
        "def post_process_basic(ans):\n",
        "  ans = ans.strip()\n",
        "  return ans.split('\\n')[0]"
      ],
      "metadata": {
        "id": "MN4kVA_siKUP"
      },
      "execution_count": 36,
      "outputs": []
    },
    {
      "cell_type": "markdown",
      "metadata": {
        "id": "3DH4MwNaVMyX"
      },
      "source": [
        "# Evaluation"
      ]
    },
    {
      "cell_type": "code",
      "source": [
        "rslt_df = pd.DataFrame(results)\n",
        "rslt_df['Answer_post'] = rslt_df['Answer'].apply(post_process)\n",
        "\n",
        "if eval_mode == 'valid':\n",
        "  temp0 = rslt_df[['Answer','True_Answer']].apply(lambda x : compute_f1(*x),axis=1)\n",
        "  temp1 = rslt_df[['Answer_post','True_Answer']].apply(lambda x : compute_f1(*x),axis=1)\n",
        "  display(temp0)\n",
        "  rslt_df[['F1_0','Precision_0','Recall_0']] = pd.DataFrame(temp0.tolist(), index= temp0.index)\n",
        "  rslt_df[['F1_1','Precision_1','Recall_1']] = pd.DataFrame(temp1.tolist(), index= temp1.index)\n",
        "\n",
        "rslt_df"
      ],
      "metadata": {
        "colab": {
          "base_uri": "https://localhost:8080/",
          "height": 597
        },
        "id": "P4qQLPAQwuqg",
        "outputId": "1a095069-5b3c-49d3-fad7-4c8e9f6915d3"
      },
      "execution_count": 37,
      "outputs": [
        {
          "output_type": "execute_result",
          "data": {
            "text/plain": [
              "                                              Context  \\\n",
              "0   ## 3. 지출계획 총괄표  \\n**(nan, '사업** **(nan, '2022년...   \n",
              "1   |---|---|---|---|---|---|---|\\n|||||||A)/A') △...   \n",
              "2   |---|---|---|---|---|---|---|\\n|||||||A)/A') △...   \n",
              "3   - 2014. 1 지원대상 업력기준을 7년 미만으로 확대  \\n- 2015. 1 재...   \n",
              "4   - 2014. 1 지원대상 업력기준을 7년 미만으로 확대  \\n- 2015. 1 재...   \n",
              "..                                                ...   \n",
              "93  - 융자 및 기타 채무상품 보증(지급에 대한 일회성 보증)은 한 당사자가 다른 당사...   \n",
              "94  다고 여겨 정부의 계약상 부채를 초래하지 않는 것으로 간주하며, 우발부채로 인식  ...   \n",
              "95  ‣ 중앙정부와 지방정부는 각각 「국가회계기준에 관한 규칙」과 「지방자치단체 회계기준...   \n",
              "96  ## 들어가며  \\n**ISSUE Col1**  \\n**왜 우발부채에 주목하는가?*...   \n",
              "97  **18) 보증(guarantees)은 명시적 우발부채의 가장 보편적 형태이나 모든...   \n",
              "\n",
              "                                             Question  \\\n",
              "0                     2022년 혁신창업사업화자금(융자)의 예산은 얼마인가요?   \n",
              "1                 중소벤처기업부의 혁신창업사업화자금(융자) 사업목적은 무엇인가요?   \n",
              "2       중소벤처기업부의 혁신창업사업화자금(융자) 사업근거는 어떤 법률에 근거하고 있나요?   \n",
              "3                     2010년에 신규 지원된 혁신창업사업화자금은 무엇인가요?   \n",
              "4                혁신창업사업화자금 중 2020년에 신규 지원된 자금은 무엇인가요?   \n",
              "..                                                ...   \n",
              "93               재정정책에서 공적보증채무와 다른 일회성 보증은 어떻게 구분되는가?   \n",
              "94                       미래사회보장급여에 대한 순의무란 무엇을 의미하는가?   \n",
              "95  국가결산보고서와 지방자치단체 회계기준에서 우발부채에 대한 용어 및 회계처리가 어떻게...   \n",
              "96                          우발부채란 무엇이며, 그 관리가 왜 중요한가?   \n",
              "97  보증이란 무엇이며, 어떤 형태의 보증이 재정상태표에 부채로 기록되는가? 또한 표준화...   \n",
              "\n",
              "                                               Answer True_Answer  \\\n",
              "0                                             2,300억원               \n",
              "1          중소벤처기업의 성장을 지원하고 창업을 활성화하고 고용창출을 도모하는 것이다.               \n",
              "2                               중소기업및벤처에 관한 법률에 근거한다.               \n",
              "3   2010년에 신규 지원된 혁신창업사업화자금은 '기술력 제고를 통한 창업촉진'으로 정...               \n",
              "4                             미래기술육성자금, 고성장촉진자금 신규 지원               \n",
              "..                                                ...         ...   \n",
              "93  공적보증채무는 일반적으로 신용보증, 조건부 '신용 가용성' 보증, 조건부 신용지원 ...               \n",
              "94  미래사회보장급여에 대한 순의무는 현행법과 규정에 따라 이미 가입자가 획득한 미래 급...               \n",
              "95  국가결산보고서는 '우발사항 및 약정사항'으로 공시되며, 지방자치단체 회계기준에서는 ...               \n",
              "96  우발부채는 회계기준이 적용되면서 미래의 다양한 의제의무(constructive ob...               \n",
              "97  보증은 잠재적 법적청구권을 가지는 사람이 부채를 대신해서 갚을 수 있도록 하는 약속...               \n",
              "\n",
              "                                          Answer_post  \n",
              "0                                             2,300억원  \n",
              "1          중소벤처기업의 성장을 지원하고 창업을 활성화하고 고용창출을 도모하는 것이다.  \n",
              "2                               중소기업및벤처에 관한 법률에 근거한다.  \n",
              "3   2010년에 신규 지원된 혁신창업사업화자금은 '기술력 제고를 통한 창업촉진'으로 정...  \n",
              "4                             미래기술육성자금, 고성장촉진자금 신규 지원  \n",
              "..                                                ...  \n",
              "93  공적보증채무는 일반적으로 신용보증, 조건부 '신용 가용성' 보증, 조건부 신용지원 ...  \n",
              "94  미래사회보장급여에 대한 순의무는 현행법과 규정에 따라 이미 가입자가 획득한 미래 급...  \n",
              "95  국가결산보고서는 '우발사항 및 약정사항'으로 공시되며, 지방자치단체 회계기준에서는 ...  \n",
              "96  우발부채는 회계기준이 적용되면서 미래의 다양한 의제의무(constructive ob...  \n",
              "97  보증은 잠재적 법적청구권을 가지는 사람이 부채를 대신해서 갚을 수 있도록 하는 약속...  \n",
              "\n",
              "[98 rows x 5 columns]"
            ],
            "text/html": [
              "\n",
              "  <div id=\"df-2b676647-6084-4865-9f87-e2834de8774a\" class=\"colab-df-container\">\n",
              "    <div>\n",
              "<style scoped>\n",
              "    .dataframe tbody tr th:only-of-type {\n",
              "        vertical-align: middle;\n",
              "    }\n",
              "\n",
              "    .dataframe tbody tr th {\n",
              "        vertical-align: top;\n",
              "    }\n",
              "\n",
              "    .dataframe thead th {\n",
              "        text-align: right;\n",
              "    }\n",
              "</style>\n",
              "<table border=\"1\" class=\"dataframe\">\n",
              "  <thead>\n",
              "    <tr style=\"text-align: right;\">\n",
              "      <th></th>\n",
              "      <th>Context</th>\n",
              "      <th>Question</th>\n",
              "      <th>Answer</th>\n",
              "      <th>True_Answer</th>\n",
              "      <th>Answer_post</th>\n",
              "    </tr>\n",
              "  </thead>\n",
              "  <tbody>\n",
              "    <tr>\n",
              "      <th>0</th>\n",
              "      <td>## 3. 지출계획 총괄표  \\n**(nan, '사업** **(nan, '2022년...</td>\n",
              "      <td>2022년 혁신창업사업화자금(융자)의 예산은 얼마인가요?</td>\n",
              "      <td>2,300억원</td>\n",
              "      <td></td>\n",
              "      <td>2,300억원</td>\n",
              "    </tr>\n",
              "    <tr>\n",
              "      <th>1</th>\n",
              "      <td>|---|---|---|---|---|---|---|\\n|||||||A)/A') △...</td>\n",
              "      <td>중소벤처기업부의 혁신창업사업화자금(융자) 사업목적은 무엇인가요?</td>\n",
              "      <td>중소벤처기업의 성장을 지원하고 창업을 활성화하고 고용창출을 도모하는 것이다.</td>\n",
              "      <td></td>\n",
              "      <td>중소벤처기업의 성장을 지원하고 창업을 활성화하고 고용창출을 도모하는 것이다.</td>\n",
              "    </tr>\n",
              "    <tr>\n",
              "      <th>2</th>\n",
              "      <td>|---|---|---|---|---|---|---|\\n|||||||A)/A') △...</td>\n",
              "      <td>중소벤처기업부의 혁신창업사업화자금(융자) 사업근거는 어떤 법률에 근거하고 있나요?</td>\n",
              "      <td>중소기업및벤처에 관한 법률에 근거한다.</td>\n",
              "      <td></td>\n",
              "      <td>중소기업및벤처에 관한 법률에 근거한다.</td>\n",
              "    </tr>\n",
              "    <tr>\n",
              "      <th>3</th>\n",
              "      <td>- 2014. 1 지원대상 업력기준을 7년 미만으로 확대  \\n- 2015. 1 재...</td>\n",
              "      <td>2010년에 신규 지원된 혁신창업사업화자금은 무엇인가요?</td>\n",
              "      <td>2010년에 신규 지원된 혁신창업사업화자금은 '기술력 제고를 통한 창업촉진'으로 정...</td>\n",
              "      <td></td>\n",
              "      <td>2010년에 신규 지원된 혁신창업사업화자금은 '기술력 제고를 통한 창업촉진'으로 정...</td>\n",
              "    </tr>\n",
              "    <tr>\n",
              "      <th>4</th>\n",
              "      <td>- 2014. 1 지원대상 업력기준을 7년 미만으로 확대  \\n- 2015. 1 재...</td>\n",
              "      <td>혁신창업사업화자금 중 2020년에 신규 지원된 자금은 무엇인가요?</td>\n",
              "      <td>미래기술육성자금, 고성장촉진자금 신규 지원</td>\n",
              "      <td></td>\n",
              "      <td>미래기술육성자금, 고성장촉진자금 신규 지원</td>\n",
              "    </tr>\n",
              "    <tr>\n",
              "      <th>...</th>\n",
              "      <td>...</td>\n",
              "      <td>...</td>\n",
              "      <td>...</td>\n",
              "      <td>...</td>\n",
              "      <td>...</td>\n",
              "    </tr>\n",
              "    <tr>\n",
              "      <th>93</th>\n",
              "      <td>- 융자 및 기타 채무상품 보증(지급에 대한 일회성 보증)은 한 당사자가 다른 당사...</td>\n",
              "      <td>재정정책에서 공적보증채무와 다른 일회성 보증은 어떻게 구분되는가?</td>\n",
              "      <td>공적보증채무는 일반적으로 신용보증, 조건부 '신용 가용성' 보증, 조건부 신용지원 ...</td>\n",
              "      <td></td>\n",
              "      <td>공적보증채무는 일반적으로 신용보증, 조건부 '신용 가용성' 보증, 조건부 신용지원 ...</td>\n",
              "    </tr>\n",
              "    <tr>\n",
              "      <th>94</th>\n",
              "      <td>다고 여겨 정부의 계약상 부채를 초래하지 않는 것으로 간주하며, 우발부채로 인식  ...</td>\n",
              "      <td>미래사회보장급여에 대한 순의무란 무엇을 의미하는가?</td>\n",
              "      <td>미래사회보장급여에 대한 순의무는 현행법과 규정에 따라 이미 가입자가 획득한 미래 급...</td>\n",
              "      <td></td>\n",
              "      <td>미래사회보장급여에 대한 순의무는 현행법과 규정에 따라 이미 가입자가 획득한 미래 급...</td>\n",
              "    </tr>\n",
              "    <tr>\n",
              "      <th>95</th>\n",
              "      <td>‣ 중앙정부와 지방정부는 각각 「국가회계기준에 관한 규칙」과 「지방자치단체 회계기준...</td>\n",
              "      <td>국가결산보고서와 지방자치단체 회계기준에서 우발부채에 대한 용어 및 회계처리가 어떻게...</td>\n",
              "      <td>국가결산보고서는 '우발사항 및 약정사항'으로 공시되며, 지방자치단체 회계기준에서는 ...</td>\n",
              "      <td></td>\n",
              "      <td>국가결산보고서는 '우발사항 및 약정사항'으로 공시되며, 지방자치단체 회계기준에서는 ...</td>\n",
              "    </tr>\n",
              "    <tr>\n",
              "      <th>96</th>\n",
              "      <td>## 들어가며  \\n**ISSUE Col1**  \\n**왜 우발부채에 주목하는가?*...</td>\n",
              "      <td>우발부채란 무엇이며, 그 관리가 왜 중요한가?</td>\n",
              "      <td>우발부채는 회계기준이 적용되면서 미래의 다양한 의제의무(constructive ob...</td>\n",
              "      <td></td>\n",
              "      <td>우발부채는 회계기준이 적용되면서 미래의 다양한 의제의무(constructive ob...</td>\n",
              "    </tr>\n",
              "    <tr>\n",
              "      <th>97</th>\n",
              "      <td>**18) 보증(guarantees)은 명시적 우발부채의 가장 보편적 형태이나 모든...</td>\n",
              "      <td>보증이란 무엇이며, 어떤 형태의 보증이 재정상태표에 부채로 기록되는가? 또한 표준화...</td>\n",
              "      <td>보증은 잠재적 법적청구권을 가지는 사람이 부채를 대신해서 갚을 수 있도록 하는 약속...</td>\n",
              "      <td></td>\n",
              "      <td>보증은 잠재적 법적청구권을 가지는 사람이 부채를 대신해서 갚을 수 있도록 하는 약속...</td>\n",
              "    </tr>\n",
              "  </tbody>\n",
              "</table>\n",
              "<p>98 rows × 5 columns</p>\n",
              "</div>\n",
              "    <div class=\"colab-df-buttons\">\n",
              "\n",
              "  <div class=\"colab-df-container\">\n",
              "    <button class=\"colab-df-convert\" onclick=\"convertToInteractive('df-2b676647-6084-4865-9f87-e2834de8774a')\"\n",
              "            title=\"Convert this dataframe to an interactive table.\"\n",
              "            style=\"display:none;\">\n",
              "\n",
              "  <svg xmlns=\"http://www.w3.org/2000/svg\" height=\"24px\" viewBox=\"0 -960 960 960\">\n",
              "    <path d=\"M120-120v-720h720v720H120Zm60-500h600v-160H180v160Zm220 220h160v-160H400v160Zm0 220h160v-160H400v160ZM180-400h160v-160H180v160Zm440 0h160v-160H620v160ZM180-180h160v-160H180v160Zm440 0h160v-160H620v160Z\"/>\n",
              "  </svg>\n",
              "    </button>\n",
              "\n",
              "  <style>\n",
              "    .colab-df-container {\n",
              "      display:flex;\n",
              "      gap: 12px;\n",
              "    }\n",
              "\n",
              "    .colab-df-convert {\n",
              "      background-color: #E8F0FE;\n",
              "      border: none;\n",
              "      border-radius: 50%;\n",
              "      cursor: pointer;\n",
              "      display: none;\n",
              "      fill: #1967D2;\n",
              "      height: 32px;\n",
              "      padding: 0 0 0 0;\n",
              "      width: 32px;\n",
              "    }\n",
              "\n",
              "    .colab-df-convert:hover {\n",
              "      background-color: #E2EBFA;\n",
              "      box-shadow: 0px 1px 2px rgba(60, 64, 67, 0.3), 0px 1px 3px 1px rgba(60, 64, 67, 0.15);\n",
              "      fill: #174EA6;\n",
              "    }\n",
              "\n",
              "    .colab-df-buttons div {\n",
              "      margin-bottom: 4px;\n",
              "    }\n",
              "\n",
              "    [theme=dark] .colab-df-convert {\n",
              "      background-color: #3B4455;\n",
              "      fill: #D2E3FC;\n",
              "    }\n",
              "\n",
              "    [theme=dark] .colab-df-convert:hover {\n",
              "      background-color: #434B5C;\n",
              "      box-shadow: 0px 1px 3px 1px rgba(0, 0, 0, 0.15);\n",
              "      filter: drop-shadow(0px 1px 2px rgba(0, 0, 0, 0.3));\n",
              "      fill: #FFFFFF;\n",
              "    }\n",
              "  </style>\n",
              "\n",
              "    <script>\n",
              "      const buttonEl =\n",
              "        document.querySelector('#df-2b676647-6084-4865-9f87-e2834de8774a button.colab-df-convert');\n",
              "      buttonEl.style.display =\n",
              "        google.colab.kernel.accessAllowed ? 'block' : 'none';\n",
              "\n",
              "      async function convertToInteractive(key) {\n",
              "        const element = document.querySelector('#df-2b676647-6084-4865-9f87-e2834de8774a');\n",
              "        const dataTable =\n",
              "          await google.colab.kernel.invokeFunction('convertToInteractive',\n",
              "                                                    [key], {});\n",
              "        if (!dataTable) return;\n",
              "\n",
              "        const docLinkHtml = 'Like what you see? Visit the ' +\n",
              "          '<a target=\"_blank\" href=https://colab.research.google.com/notebooks/data_table.ipynb>data table notebook</a>'\n",
              "          + ' to learn more about interactive tables.';\n",
              "        element.innerHTML = '';\n",
              "        dataTable['output_type'] = 'display_data';\n",
              "        await google.colab.output.renderOutput(dataTable, element);\n",
              "        const docLink = document.createElement('div');\n",
              "        docLink.innerHTML = docLinkHtml;\n",
              "        element.appendChild(docLink);\n",
              "      }\n",
              "    </script>\n",
              "  </div>\n",
              "\n",
              "\n",
              "<div id=\"df-3e86746b-b4c1-4f04-b8f8-4dd327c06c39\">\n",
              "  <button class=\"colab-df-quickchart\" onclick=\"quickchart('df-3e86746b-b4c1-4f04-b8f8-4dd327c06c39')\"\n",
              "            title=\"Suggest charts\"\n",
              "            style=\"display:none;\">\n",
              "\n",
              "<svg xmlns=\"http://www.w3.org/2000/svg\" height=\"24px\"viewBox=\"0 0 24 24\"\n",
              "     width=\"24px\">\n",
              "    <g>\n",
              "        <path d=\"M19 3H5c-1.1 0-2 .9-2 2v14c0 1.1.9 2 2 2h14c1.1 0 2-.9 2-2V5c0-1.1-.9-2-2-2zM9 17H7v-7h2v7zm4 0h-2V7h2v10zm4 0h-2v-4h2v4z\"/>\n",
              "    </g>\n",
              "</svg>\n",
              "  </button>\n",
              "\n",
              "<style>\n",
              "  .colab-df-quickchart {\n",
              "      --bg-color: #E8F0FE;\n",
              "      --fill-color: #1967D2;\n",
              "      --hover-bg-color: #E2EBFA;\n",
              "      --hover-fill-color: #174EA6;\n",
              "      --disabled-fill-color: #AAA;\n",
              "      --disabled-bg-color: #DDD;\n",
              "  }\n",
              "\n",
              "  [theme=dark] .colab-df-quickchart {\n",
              "      --bg-color: #3B4455;\n",
              "      --fill-color: #D2E3FC;\n",
              "      --hover-bg-color: #434B5C;\n",
              "      --hover-fill-color: #FFFFFF;\n",
              "      --disabled-bg-color: #3B4455;\n",
              "      --disabled-fill-color: #666;\n",
              "  }\n",
              "\n",
              "  .colab-df-quickchart {\n",
              "    background-color: var(--bg-color);\n",
              "    border: none;\n",
              "    border-radius: 50%;\n",
              "    cursor: pointer;\n",
              "    display: none;\n",
              "    fill: var(--fill-color);\n",
              "    height: 32px;\n",
              "    padding: 0;\n",
              "    width: 32px;\n",
              "  }\n",
              "\n",
              "  .colab-df-quickchart:hover {\n",
              "    background-color: var(--hover-bg-color);\n",
              "    box-shadow: 0 1px 2px rgba(60, 64, 67, 0.3), 0 1px 3px 1px rgba(60, 64, 67, 0.15);\n",
              "    fill: var(--button-hover-fill-color);\n",
              "  }\n",
              "\n",
              "  .colab-df-quickchart-complete:disabled,\n",
              "  .colab-df-quickchart-complete:disabled:hover {\n",
              "    background-color: var(--disabled-bg-color);\n",
              "    fill: var(--disabled-fill-color);\n",
              "    box-shadow: none;\n",
              "  }\n",
              "\n",
              "  .colab-df-spinner {\n",
              "    border: 2px solid var(--fill-color);\n",
              "    border-color: transparent;\n",
              "    border-bottom-color: var(--fill-color);\n",
              "    animation:\n",
              "      spin 1s steps(1) infinite;\n",
              "  }\n",
              "\n",
              "  @keyframes spin {\n",
              "    0% {\n",
              "      border-color: transparent;\n",
              "      border-bottom-color: var(--fill-color);\n",
              "      border-left-color: var(--fill-color);\n",
              "    }\n",
              "    20% {\n",
              "      border-color: transparent;\n",
              "      border-left-color: var(--fill-color);\n",
              "      border-top-color: var(--fill-color);\n",
              "    }\n",
              "    30% {\n",
              "      border-color: transparent;\n",
              "      border-left-color: var(--fill-color);\n",
              "      border-top-color: var(--fill-color);\n",
              "      border-right-color: var(--fill-color);\n",
              "    }\n",
              "    40% {\n",
              "      border-color: transparent;\n",
              "      border-right-color: var(--fill-color);\n",
              "      border-top-color: var(--fill-color);\n",
              "    }\n",
              "    60% {\n",
              "      border-color: transparent;\n",
              "      border-right-color: var(--fill-color);\n",
              "    }\n",
              "    80% {\n",
              "      border-color: transparent;\n",
              "      border-right-color: var(--fill-color);\n",
              "      border-bottom-color: var(--fill-color);\n",
              "    }\n",
              "    90% {\n",
              "      border-color: transparent;\n",
              "      border-bottom-color: var(--fill-color);\n",
              "    }\n",
              "  }\n",
              "</style>\n",
              "\n",
              "  <script>\n",
              "    async function quickchart(key) {\n",
              "      const quickchartButtonEl =\n",
              "        document.querySelector('#' + key + ' button');\n",
              "      quickchartButtonEl.disabled = true;  // To prevent multiple clicks.\n",
              "      quickchartButtonEl.classList.add('colab-df-spinner');\n",
              "      try {\n",
              "        const charts = await google.colab.kernel.invokeFunction(\n",
              "            'suggestCharts', [key], {});\n",
              "      } catch (error) {\n",
              "        console.error('Error during call to suggestCharts:', error);\n",
              "      }\n",
              "      quickchartButtonEl.classList.remove('colab-df-spinner');\n",
              "      quickchartButtonEl.classList.add('colab-df-quickchart-complete');\n",
              "    }\n",
              "    (() => {\n",
              "      let quickchartButtonEl =\n",
              "        document.querySelector('#df-3e86746b-b4c1-4f04-b8f8-4dd327c06c39 button');\n",
              "      quickchartButtonEl.style.display =\n",
              "        google.colab.kernel.accessAllowed ? 'block' : 'none';\n",
              "    })();\n",
              "  </script>\n",
              "</div>\n",
              "\n",
              "  <div id=\"id_e3a0330c-7ebd-41a6-97e3-e5483b121c27\">\n",
              "    <style>\n",
              "      .colab-df-generate {\n",
              "        background-color: #E8F0FE;\n",
              "        border: none;\n",
              "        border-radius: 50%;\n",
              "        cursor: pointer;\n",
              "        display: none;\n",
              "        fill: #1967D2;\n",
              "        height: 32px;\n",
              "        padding: 0 0 0 0;\n",
              "        width: 32px;\n",
              "      }\n",
              "\n",
              "      .colab-df-generate:hover {\n",
              "        background-color: #E2EBFA;\n",
              "        box-shadow: 0px 1px 2px rgba(60, 64, 67, 0.3), 0px 1px 3px 1px rgba(60, 64, 67, 0.15);\n",
              "        fill: #174EA6;\n",
              "      }\n",
              "\n",
              "      [theme=dark] .colab-df-generate {\n",
              "        background-color: #3B4455;\n",
              "        fill: #D2E3FC;\n",
              "      }\n",
              "\n",
              "      [theme=dark] .colab-df-generate:hover {\n",
              "        background-color: #434B5C;\n",
              "        box-shadow: 0px 1px 3px 1px rgba(0, 0, 0, 0.15);\n",
              "        filter: drop-shadow(0px 1px 2px rgba(0, 0, 0, 0.3));\n",
              "        fill: #FFFFFF;\n",
              "      }\n",
              "    </style>\n",
              "    <button class=\"colab-df-generate\" onclick=\"generateWithVariable('rslt_df')\"\n",
              "            title=\"Generate code using this dataframe.\"\n",
              "            style=\"display:none;\">\n",
              "\n",
              "  <svg xmlns=\"http://www.w3.org/2000/svg\" height=\"24px\"viewBox=\"0 0 24 24\"\n",
              "       width=\"24px\">\n",
              "    <path d=\"M7,19H8.4L18.45,9,17,7.55,7,17.6ZM5,21V16.75L18.45,3.32a2,2,0,0,1,2.83,0l1.4,1.43a1.91,1.91,0,0,1,.58,1.4,1.91,1.91,0,0,1-.58,1.4L9.25,21ZM18.45,9,17,7.55Zm-12,3A5.31,5.31,0,0,0,4.9,8.1,5.31,5.31,0,0,0,1,6.5,5.31,5.31,0,0,0,4.9,4.9,5.31,5.31,0,0,0,6.5,1,5.31,5.31,0,0,0,8.1,4.9,5.31,5.31,0,0,0,12,6.5,5.46,5.46,0,0,0,6.5,12Z\"/>\n",
              "  </svg>\n",
              "    </button>\n",
              "    <script>\n",
              "      (() => {\n",
              "      const buttonEl =\n",
              "        document.querySelector('#id_e3a0330c-7ebd-41a6-97e3-e5483b121c27 button.colab-df-generate');\n",
              "      buttonEl.style.display =\n",
              "        google.colab.kernel.accessAllowed ? 'block' : 'none';\n",
              "\n",
              "      buttonEl.onclick = () => {\n",
              "        google.colab.notebook.generateWithVariable('rslt_df');\n",
              "      }\n",
              "      })();\n",
              "    </script>\n",
              "  </div>\n",
              "\n",
              "    </div>\n",
              "  </div>\n"
            ],
            "application/vnd.google.colaboratory.intrinsic+json": {
              "type": "dataframe",
              "variable_name": "rslt_df",
              "summary": "{\n  \"name\": \"rslt_df\",\n  \"rows\": 98,\n  \"fields\": [\n    {\n      \"column\": \"Context\",\n      \"properties\": {\n        \"dtype\": \"string\",\n        \"num_unique_values\": 97,\n        \"samples\": [\n          \"\\uc801\\uc815\\ud55c\\uc9c0 \\uc810\\uac80\\ud558\\uace0 \\uac1c\\ubcc4 \\uc7ac\\uc815\\uc0ac\\uc5c5\\uc5d0 \\ub300\\ud55c \\ud3c9\\uac00\\ub97c \\uc218\\ud589\\ud560 \\uc218 \\uc788\\uc74c  \\n\\u2023 \\ufffd\\uc131\\uacfc\\uad00\\ub9ac\\uc758 \\ubaa9\\uc801\\uc740 \\uc815\\ubd80 \\uc7ac\\uc815\\uc758 \\ud22c\\uba85\\uc131\\u00b7\\ucc45\\uc784\\uc131, \\ud6a8\\uc728\\uc131\\u00b7\\ud6a8\\uacfc\\uc131, \\uc608\\uc0b0\\uc7ac\\ubd84\\ubc30 \\ub4f1\\uc774 \\uc788\\uc74c  \\n- \\ufffd\\ufffd\\uc0ac\\uc5c5 \\uc804\\ub7b5\\uccb4\\uacc4\\ubcc4 \\uc7ac\\uc6d0 \\ubc30\\ubd84, \\uc131\\uacfc\\ubaa9\\ud45c\\uc640 \\ub2ec\\uc131\\ub3c4, \\uc8fc\\uc694 \\uc218\\ud61c\\uc790\\uc5d0 \\ub300\\ud55c \\uc815\\ubcf4\\ub97c \\uc9d1\\uc57d\\uc801\\uc73c\\ub85c \\uc81c\\uacf5\\ud558\\uc5ec \\ud22c\\uba85\\uc131 \\ubc0f  \\n\\ucc45\\uc784\\uc131 \\ud5a5\\uc0c1  \\n- \\ufffd\\ufffd\\uc5f0\\uac04 \\uc131\\uacfc\\uad00\\ub9ac \\uacb0\\uacfc \\ub3c4\\ucd9c\\ub41c \\ubb38\\uc81c\\uc810 \\ub4f1\\uc744 \\uc0ac\\uc5c5 \\uad00\\ub9ac\\uc5d0 \\ud658\\ub958(managerial feedback)\\ud558\\uc5ec \\uc0ac\\uc5c5 \\uc131\\uacfc\\ub97c \\uc81c\\uace0\\ud558\\uace0  \\n\\ud6a8\\uacfc\\uc131\\uc744 \\ud5a5\\uc0c1\\n\\uacfc \\uc815\\ubcf4\\ub97c \\ubc14\\ud0d5\\uc73c\\ub85c \\uad00\\ub9ac\\ud560 \\uac83\\uc744 \\uac15\\uc870\\ud558\\uae30 \\uc2dc\\uc791  \\n\\u2023 \\uc7ac\\uc815\\uc131\\uacfc\\uad00\\ub9ac\\ub294 \\uc9c0\\ucd9c \\ud6a8\\uc728\\uc131\\uc744 \\uc99d\\uc9c4\\ud558\\uae30 \\uc704\\ud574 \\uc7ac\\uc815\\uc9c0\\ucd9c\\uc774 \\ub2ec\\uc131\\ud574\\uc57c \\ud560 \\ubaa9\\ud45c\\ub97c \\uc815\\ud655\\ud788 \\uc124\\uc815\\ud558\\uace0, \\uc774\\uc758 \\ub2ec  \\n\\uc131\\ub3c4\\ub97c \\uc9c0\\uc18d\\uc801\\uc73c\\ub85c \\uad00\\ub9ac\\ud558\\ub294 \\ud65c\\ub3d9  \\n- \\ufffd\\uc7ac\\uc815\\uc758 \\ubaa9\\uc801 \\ub2ec\\uc131 \\uc5ec\\ubd80\\ub294 \\ud6a8\\uc728\\uc131, \\ud615\\ud3c9\\uc131 \\ub4f1 \\ub2e4\\uc591\\ud55c \\uac00\\uce58\\ub97c \\ud1b5\\ud574 \\ud3c9\\uac00\\ub420 \\uc218 \\uc788\\uc73c\\uba70, \\uc774\\ub97c \\uc704\\ud574 \\uc815\\ubd80\\ub294 \\uac01\\uc885 \\uce21  \\n\\uc815 \\uc218\\ub2e8\\uc744 \\uad6c\\ube44\\ud558\\uc5ec \\uacc4\\ud68d \\ub300\\ube44 \\uc9d1\\ud589 \\uc131\\uacfc\\ub97c \\uc218\\uc9d1\\ud558\\uace0 \\uc774 \\uc131\\uacfc \\uc815\\ubcf4\\ub97c \\ud658\\ub958\\ud558\\uc5ec \\ucc28\\ub144\\ub3c4 \\uc608\\uc0b0\\uc744 \\ud569\\ub9ac\\uc801\\uc73c\\ub85c \\ud3b8  \\n\\uc131\\ud558\\uae30 \\uc704\\ud574 \\ub178\\ub825\\ud558\\uace0 \\uc788\\uc74c\\n\\uace0 \\uc131\\uacfc\\uad00\\ub9ac \\uaddc\\uc815\\uc744 \\uc815\\ube44  \\n- \\ufffd\\uc131\\uacfc\\uad00\\ub9ac\\ub97c \\uac15\\ud654\\ud558\\uae30 \\uc704\\ud55c \\uc7ac\\uc815\\uc0ac\\uc5c5 \\ud3c9\\uac00 \\uac1c\\ud3b8, \\uc9c0\\uc6d0 \\uc778\\ud504\\ub77c \\uccb4\\uacc4 \\ub4f1\\uc5d0 \\ub300\\ud55c \\ub17c\\uc758\\ub97c \\ud1b5\\ud574 \\uc131\\uacfc\\uad00\\ub9ac\\uc758 \\uc2e4\\ud6a8\\uc131  \\n\\uc744 \\uc81c\\uace0\\ud560 \\uc218 \\uc788\\uc74c  \\n**FOCUS Col1** **\\uc7ac\\uc815\\uc131\\uacfc\\uad00\\ub9ac \\uad00\\ub828 \\uc8fc\\uc694 \\uc7c1\\uc810\\uc740?**  \\n- \\ufffd\\u300c\\uad6d\\uac00\\uc7ac\\uc815\\ubc95\\u300d\\uc0c1\\uc758 \\uc7ac\\uc815\\uc0ac\\uc5c5 \\ud3c9\\uac00\\uc778 \\uc7ac\\uc815\\uc0ac\\uc5c5 \\uc790\\uc728\\ud3c9\\uac00\\uc758 \\ub300\\uc0c1, \\ubc94\\uc704, \\ud6a8\\uacfc, \\uac1c\\ud3b8 \\ub4f1\\uc740 \\uc9c0\\uc18d\\uc801\\uc73c\\ub85c \\ub17c\\uc758\\ub418\\uc5b4\\uc57c  \\n\\ud558\\uba70, \\uac1c\\ubcc4 \\ubc95\\ub839\\uc5d0 \\ub530\\ub77c \\uc2e4\\uc2dc\\ub418\\ub294 \\ud3c9\\uac00 \\ub300\\uc0c1 \\uac04 \\uc911\\ubcf5 \\ucd5c\\uc18c\\ud654 \\ub178\\ub825 \\ud544\\uc694\\n\\ub3c4 \\uacbd\\uac10, \\uae30\\uacc4\\uc801\\uc778 \\uc608\\uc0b0\\uacfc \\uc131\\uacfc\\uad00\\ub9ac \\uc5f0\\ub3d9 \\ud3d0\\uc9c0\\ub97c \\ud1b5\\ud55c \\uc7ac\\uc815\\uc0ac\\uc5c5 \\uad6c\\uc870\\uc870\\uc815 \\ud569\\ub9ac\\ud654 \\ub4f1\\uc744 \\ubaa9\\uc801\\uc73c\\ub85c \\uc774\\ub8e8\\uc5b4\\uc9d0  \\n- \\ufffd\\uac01 \\ubd80\\ucc98\\uc758 \\ubaa9\\ud45c \\uccb4\\uacc4\\uc640 \\ud504\\ub85c\\uadf8\\ub7a8 \\uc608\\uc0b0\\uccb4\\uacc4\\ub294 2016\\ub144\\ubd80\\ud130 \\uc77c\\uce58\\ud558\\ub3c4\\ub85d \\ud558\\uc5ec \\uc5c5\\ubb34 \\uc911\\ubcf5\\uc744 \\uacbd\\uac10  \\n- \\ufffd\\ud3c9\\uac00 \\uccb4\\uacc4\\ub97c \\ub2e8\\uc21c\\ud654\\ud558\\uc5ec \\ud53c\\ub85c\\ub3c4\\ub97c \\ud574\\uc18c\\ud558\\uace0 \\ub2e8\\uc704\\uc0ac\\uc5c5\\uc5d0 \\ub300\\ud55c \\ud3c9\\uac00 \\ubc0f \\ud658\\ub958 \\uac1c\\uc120\\uc744 \\uc704\\ud55c \\ub178\\ub825\\uc740 2015\\ub144\\ubd80\\ud130  \\n\\uc9c0\\uae08\\uae4c\\uc9c0 \\uacc4\\uc18d\\ub418\\uace0 \\uc788\\uc74c  \\n\\u2023 \\uc7ac\\uc815\\uc0ac\\uc5c5 \\uc790\\uc728\\ud3c9\\uac00\\ub294 \\uc7ac\\uc815\\uad00\\ub9ac \\ud569\\ub9ac\\uc131 \\uc81c\\uace0\\ub97c \\uc704\\ud574 \\uadf8\\ub3d9\\uc548 \\ud3c9\\uac00 \\ub300\\uc0c1 \\uc0ac\\uc5c5\\uc758 \\ubc94\\uc704, \\ud3c9\\uac00 \\uc8fc\\uae30, \\uc0c1\\uc704 \\ud3c9\\uac00\\n## \\ub4e4\\uc5b4\\uac00\\uba70  \\n0 ISSUE  \\n**\\uc65c \\uc7ac\\uc815\\uc131\\uacfc\\uad00\\ub9ac\\uc81c\\ub3c4\\uc5d0 \\uc8fc\\ubaa9\\ud558\\ub294\\uac00?**  \\n\\u2023 \\ufffd\\uc7ac\\uc815\\uc131\\uacfc\\uad00\\ub9ac\\uc81c\\ub3c4\\ub294 \\uc7ac\\uc815\\uc744 \\ud504\\ub85c\\uadf8\\ub7a8 \\ub2e8\\uc704\\ub85c \\uad6c\\ubd84\\ud558\\uace0, \\uc0ac\\uc804 \\ubaa9\\ud45c\\uc640 \\uc0ac\\ud6c4 \\ud3c9\\uac00 \\uacb0\\uacfc\\ub97c \\uc911\\uc2ec\\uc73c\\ub85c \\uad00\\ub9ac\\ud558\\ub294  \\n\\uac83\\uc744 \\uc758\\ubbf8  \\n- \\ufffd\\uc7ac\\uc815\\uc131\\uacfc\\uad00\\ub9ac\\uc81c\\ub3c4\\ub294 \\uc7ac\\uc815\\uc218\\uc9c0, \\uad6d\\uac00\\ucc44\\ubb34 \\ub4f1 \\uc7ac\\uc815 \\uc804\\uccb4\\uc5d0 \\ub300\\ud55c \\ucd1d\\ub7c9 \\uad00\\ub9ac\\uc5d0\\uc11c\\ub294 \\ubcf4\\uc9c0 \\ubabb\\ud558\\ub294 \\ubbf8\\uc2dc\\uc801\\uc778 \\ubd80\\ubd84\\uae4c  \\n\\uc9c0 \\uc7ac\\uc815\\uc744 \\uad00\\ub9ac\\ud558\\ub294 \\uac83\\uc73c\\ub85c, \\ucd1d\\ub7c9 \\uad00\\ub9ac\\uc640 \\ubcf4\\uc644\\uc801\\uc778 \\uad00\\uacc4\\uc784\\n- \\ufffd\\uc7ac\\uc815\\uc131\\uacfc\\uad00\\ub9ac\\uc758 \\ucd5c\\uc885 \\ubaa9\\ud45c\\ub294 \\uad6d\\ubbfc\\uc774 \\uc815\\ubd80\\uac00 \\ud558\\ub294 \\uc77c\\uc758 \\ubaa9\\ud45c\\uc5d0\\uc11c \\uc131\\uacfc\\uc5d0 \\uc774\\ub974\\ub294 \\uc804\\uacfc\\uc815\\uc744 \\ud22c\\uba85\\ud558\\uac8c \\uc54c \\uc218 \\uc788  \\n\\uac8c \\ud558\\ub294 \\uac83\\uc784  \\n- \\ufffd\\uc7ac\\uc815\\uc815\\ubcf4\\uc758 \\uad00\\ub9ac \\ubc0f \\uacf5\\uac1c \\ud50c\\ub7ab\\ud3fc\\uc744 \\uc9c0\\uc18d\\uc801\\uc73c\\ub85c \\uc720\\uc9c0\\ud558\\uace0 \\ubc1c\\uc804\\uc2dc\\ucf1c, \\uc7ac\\uc815\\uc815\\ubcf4\\uc758 \\ud488\\uc9c8\\uc744 \\ud655\\ubcf4\\ud558\\uae30 \\uc704\\ud55c \\uc778\\ud504\\ub77c  \\n\\uce21\\uba74\\uc5d0\\uc11c\\uc758 \\uad00\\ub9ac\\ub3c4 \\ud544\\uc694  \\n-----  \\n**FIS** **ISSUE & FOCUS**\\n\",\n          \"## 2) \\uc0ac\\uc5c5\\uac1c\\uc694  \\n### \\u25a1 \\uc0ac\\uc5c5\\uadfc\\uac70 \\ubc0f \\ucd94\\uc9c4\\uacbd\\uc704  \\n\\u2460 \\ubc95\\ub839\\uc0c1 \\uadfc\\uac70  \\n- \\uc8fc\\ud0dd\\ub3c4\\uc2dc\\uae30\\uae08\\ubc95 \\uc81c9\\uc870\\uc81c1\\ud56d\\uac00\\ubaa9 : \\uae30\\uae08\\uc758 \\uc8fc\\ud0dd\\uacc4\\uc815\\uc740 \\ub2e4\\uc74c \\uac01 \\ud638\\uc758 \\uc6a9\\ub3c4\\uc5d0 \\uc0ac\\uc6a9\\ud55c\\ub2e4.  \\n(\\uad6d\\ubbfc\\uc8fc\\ud0dd\\uc758 \\uac74\\uc124)  \\n- \\uacf5\\uacf5\\uc8fc\\ud0dd\\ud2b9\\ubcc4\\ubc95 \\uc81c2\\uc8701\\ud638\\uac00\\ubaa9 : \\uc784\\ub300 \\ub610\\ub294 \\uc784\\ub300\\ud55c \\ud6c4 \\ubd84\\uc591\\uc804\\ud658\\uc744 \\ud560 \\ubaa9\\uc801\\uc73c\\ub85c \\uacf5\\uae09  \\n\\ud558\\ub294 \\u300c\\uc8fc\\ud0dd\\ubc95\\u300d\\uc81c2\\uc870\\uc81c1\\ud638\\uc5d0 \\ub530\\ub978 \\uc8fc\\ud0dd\\uc73c\\ub85c\\uc11c \\ub300\\ud1b5\\ub839\\ub839\\uc73c\\ub85c \\uc815\\ud558\\ub294 \\uc8fc\\ud0dd  \\n-----\\n|(nan, '\\ub0b4\\uc5ed \\uc0ac\\uc5c5\\uba85') 0|(nan, '\\uad6c\\ubd84') \\ucd9c\\uc790|(nan, '\\ud53c \\ud53c\\ucd9c\\uc5f0 \\ub4f1 LH|\\ubcf4\\uc870\\u318d \\\\n (n \\uae30\\uad00\\uba85') (2 37|an, '\\uc9c0\\uc6d0 \\uae08 024\\uacc4\\ud68d)') 3,886|\\uc561 (nan, '\\uc9c0\\uc6d0 (nan, '\\ubcf4\\uc870\\uc728 \\ubc95\\uc801\\uadfc\\uac70 \\ube44\\uc728(%)') (\\ud574\\ub2f9 \\uc870\\ud56d)')|\\n|---|---|---|---|---|---|\\n|1 \\ud589\\ubcf5\\uc8fc\\ud0dd 2 \\ucd9c\\uc790|\\ubcf4\\uc790 \\uc9c0\\uc790\\uccb4 \\ud569\\uacc4||15 52|4,897 8,783|30 \\uacf5\\uacf5\\uc8fc\\ud0dd \\ud2b9\\ubcc4\\ubc95 \\uc81c3\\uc870\\uc758 2(\\uacf5\\uacf5\\uc8fc\\ud0dd\\uc758 \\uc7ac\\uc6d0\\u318d\\uc138 \\ub4f1) \\uc7ac\\uc9c0\\uc6d0|\\n### - \\u201921.02 \\uff62\\uacf5\\uacf5\\uc8fc\\ub3c4 3080+\\uff63\\ub300\\ub3c4\\uc2dc\\uad8c \\uc8fc\\ud0dd\\uacf5\\uae09 \\ud655\\ub300\\ubc29\\uc548 \\ubc1c\\ud45c(\\uacf5\\uacf5\\uc784\\ub300\\uc8fc\\ud0dd \\ud655\\ub300 \\uacf5\\uae09)  \\n- \\u201923.01 \\uff62\\uc11c\\ubbfc\\u2027\\ucde8\\uc57d\\uacc4\\uce35 \\uc8fc\\uac70\\ubcf5\\uc9c0 \\uac15\\ud654 \\ubc29\\uc548\\uff63 \\ubc1c\\ud45c(\\uacf5\\uacf5\\uc784\\ub300\\uc8fc\\ud0dd \\uc5f0\\ud3c9\\uade0 10\\ub9cc\\ud638)  \\n\\u25a1 \\uc8fc\\uc694\\ub0b4\\uc6a9  \\n\\u2460 \\uc0ac\\uc5c5\\uaddc\\ubaa8  \\n- \\uc0ac\\uc5c5\\uae30\\uac04 : \\u201913~\\uacc4\\uc18d  \\n- \\ucd5c\\uadfc 5\\ub144 \\uac04 \\ud22c\\uc785\\ub41c \\uc0ac\\uc5c5\\ube44(\\uc608\\uc0b0\\uc561\\uae30\\uc900, \\ucd94\\uacbd\\ud3b8\\uc131\\ud55c \\uc5f0\\ub3c4\\uc5d0\\ub294 \\ucd94\\uacbd\\ud3ec\\ud568)  \\n\\uc5f0\\ub3c4 2020 2021 2022 2023 2024\\n\\uc5f0\\ub3c4 2020 2021 2022 2023 2024  \\n0 \\uc0ac\\uc5c5\\ube44 1,267,123 1,105,291 775,293 684,607 528,783  \\n- \\uac74\\uc124\\uaddc\\ubaa8 : \\u201824\\ub144 2.2\\ub9cc\\ud638 \\uc900\\uacf5 \\ub4f1 \\uacc4\\uc18d\\uc0ac\\uc5c5 \\ucd94\\uc9c4  \\n\\u2461 \\uc0ac\\uc5c5\\ucd94\\uc9c4\\uccb4\\uacc4  \\n- \\uc0ac\\uc5c5\\uc2dc\\ud589\\ubc29\\ubc95 : \\ucd9c\\uc790, \\ubcf4\\uace0  \\n- \\uc0ac\\uc5c5\\uc2dc\\ud589\\uc8fc\\uccb4 : \\ud55c\\uad6d\\ud1a0\\uc9c0\\uc8fc\\ud0dd\\uacf5\\uc0ac(LH), \\uc9c0\\uc790\\uccb4(\\uc9c0\\ubc29\\uacf5\\uc0ac)  \\n- \\uc0ac\\uc5c5 \\uc218\\ud61c\\uc790 : \\ub300\\ud559\\uc0dd\\u30fb\\uc0ac\\ud68c\\ucd08\\ub144\\uc0dd\\u30fb\\uc2e0\\ud63c\\ubd80\\ubd80 \\ub4f1 \\uc80a\\uc740\\uce35(80%), \\uace0\\ub839\\uc790 \\ubc0f \\uc8fc\\uac70\\ucde8\\uc57d\\uacc4\\uce35(20%)\\n'\\uc218\\uc815') '\\uacc4\\ud68d \\ud604 \\uc561 [\\uc2e4\\uc9d1 \\ub144\\ub3c4 \\uc774 \\uc6d4\\uc561 \\uc81c \\ub144\\ub3c4 \\uc774 '\\ubd88\\uc6a9 \\uc561') \\ud589\\uc561]') \\uc6d4\\uc561 \\uc81c \\uc678', '\\uc9d1\\ud589 \\uc6d4\\uc561 \\uc81c \\uc608\\uc0c1 \\uc678 \\\\n\\uacc4 \\uc561 [\\uc2e4\\uc9d1 \\uc678 \\\\n\\uc774 \\uc561') \\ud68d \\ud604\\uc561')\\ud589\\uc561]') \\uc6d4 \\uc608\\uc0c1 \\uc561') 461,607 461,607 421,615 461,607 421,615 -|Col6|Col7|Col8|Col9|Col10|Col11|Col12|(nan, nan, '2024 \\\\n\\uacc4\\ud68d') 528,783|\\n|---|---|---|---|---|---|\\n|nan) 0 \\ud589\\ubcf5\\uc8fc\\ud0dd \\ucd9c \\uc790 1|nan) \\uad6d\\ud1a0\\uad50\\ud1b5\\ubd80 \\uc8fc\\ud0dd \\ucc45\\uad00 \\uacf5\\uacf5|\\ud1a0\\uc9c0\\uc2e4 \\uc8fc\\uac70\\ubcf5\\uc9c0 \\uc8fc\\ud0dd\\uc815\\ucc45\\uacfc|\\uc7a5') \\uc815 \\uae40\\uad11\\ub9bc 044-201-4539|\\uad00') \\uacfd\\uc0c1\\ud6c8 044-201-4519|\\uad00') \\uc784\\uac74\\ud601 044-201-3362|\\n|0 \\ucf54\\ub4dc|1400 1440|408||\\n|1 \\uba85\\uce6d|\\uc784\\ub300\\uc8fc\\ud0dd\\uc9c0\\uc6d0(\\ucd9c\\uc790) \\uc784\\ub300\\uc8fc|\\ud0dd\\uc9c0\\uc6d0 \\ud589\\ubcf5\\uc8fc\\ud0dd\\ucd9c\\uc790||  \\n|\\u25a1|\\uc0ac\\uc5c5\\uc131|\\uc131\\uaca9(\\uacf5|\\uacf5\\ud1b5\\uc694\\uad6c\\uc790\\ub8cc|\\ub8cc\\u2161-1 \\uc791\\uc131\\uc720\\uc758|\\uc758\\uc0ac\\ud56d4.|\\ucc38\\uc870, \\ud574\\ub2f9\\ud558\\ub294\\uc0ac\\ud56d\\uc5d0 \\u201c\\u25cb\\u201d \\ud45c\\uc2dc)|\\n|---|---|---|---|---|---|---|\\n|0 1 \\uc2e0\\uaddc 2|\\uacc4\\uc18d O|\\uc608 \\uc644\\ub8cc \\uc2e4|\\ube44\\ud0c0\\ub2f9\\uc131 \\uc2dc\\uc5ec\\ubd80|\\ucd1d\\uc0ac\\uc5c5 \\uad00\\ub9ac\\ub300|\\ube44 \\ucd1d\\uc561\\uacc4 \\uc0c1 \\uc608\\uc0b0\\uc0ac|\\uc0c1 \\uc0ac\\uc5c5\\uc18c\\uad00 \\ubcc0\\uacbd\\uc815\\ubcf4|\\n|||||||\\uc5c5 2023\\uc608\\uc0b0 \\uc2dc \\uc18c\\uad00 \\uad6d\\ud1a0\\uad50\\ud1b5\\ubd80|\\n||||||||\\n### - \\uad6d\\ubbfc\\uc758 \\ud589\\ubcf5\\uc8fc\\uac70 \\uc2e4\\ud604\\uc744 \\uc704\\ud55c \\ubcf4\\ud3b8\\uc801 \\uc8fc\\uac70\\ubcf5\\uc9c0 \\uc815\\ucc45\\uc758 \\uc77c\\ud658\\uc73c\\ub85c \\ub3c4\\uc2ec \\ub0b4 \\ub2e4\\uc591\\ud55c  \\n\\ubd80\\uc9c0\\ub97c \\ud65c\\uc6a9\\ud558\\uc5ec \\ud589\\ubcf5\\uc8fc\\ud0dd\\uc744 \\uacf5\\uae09\\n\",\n          \"\\ub2e4\\uace0 \\uc5ec\\uaca8 \\uc815\\ubd80\\uc758 \\uacc4\\uc57d\\uc0c1 \\ubd80\\ucc44\\ub97c \\ucd08\\ub798\\ud558\\uc9c0 \\uc54a\\ub294 \\uac83\\uc73c\\ub85c \\uac04\\uc8fc\\ud558\\uba70, \\uc6b0\\ubc1c\\ubd80\\ucc44\\ub85c \\uc778\\uc2dd  \\n\\u2023 \\ubbf8\\ub798\\uc0ac\\ud68c\\ubcf4\\uc7a5\\uae09\\uc5ec\\uc5d0 \\ub300\\ud55c \\uc21c\\uc758\\ubb34\\ub294 \\uacc4\\uc57d\\uc0c1\\uc758 \\ubd80\\ucc44\\ub294 \\uc544\\ub2c8\\ub098 \\ubbf8\\ub798 \\ubc1c\\uc0dd \\ube44\\uc6a9\\uc73c\\ub85c \\uc5ec\\uaca8\\uc9c0\\ub294 \\uc0ac\\ud68c\\ubcf4\\uc7a5\\uae09\\uc5ec\\ub97c  \\n\\uc758\\ubbf8  \\n- \\ubbf8\\ub798\\uc0ac\\ud68c\\ubcf4\\uc7a5\\uae09\\uc5ec\\uc5d0 \\ub300\\ud55c \\uc21c\\uc758\\ubb34\\ub294 \\ud604\\ud589\\ubc95\\uacfc \\uaddc\\uc815\\uc5d0 \\ub530\\ub77c \\uc774\\ubbf8 \\uac00\\uc785\\uc790\\uac00 \\ud68d\\ub4dd\\ud55c \\ubbf8\\ub798 \\uae09\\uc5ec\\uc758 \\ud604\\uc7ac\\uac00\\uce58\\uc5d0\\uc11c  \\n\\ud604\\ud589\\ubc95\\uacfc \\uaddc\\uc815\\uc5d0 \\ub530\\ub978 \\uc0ac\\ud68c\\ubcf4\\uc7a5\\uc81c\\ub3c4\\uc758 \\ubbf8\\ub798\\ubcf4\\ud5d8\\ub8cc\\uc758 \\uc21c\\ud604\\uc7ac\\uac00\\uce58\\ub97c \\ucc28\\uac10\\ud55c \\uac83\\uc744 \\uc778\\uc2dd\\n\\uba70, \\u2018\\ubbf8\\ub798\\uc0ac\\ud68c\\ubcf4\\uc7a5\\uae09\\uc5ec\\uc5d0 \\ub300\\ud55c \\uc21c\\uc758\\ubb34\\u2019, \\u2018\\uae30\\ud0c0 \\uc554\\ubb35\\uc801 \\uc6b0\\ubc1c\\ubd80\\ucc44\\u2019\\ub85c \\uad6c\\ubd84  \\n- \\ubbf8\\ub798\\uc0ac\\ud68c\\ubcf4\\uc7a5\\uae09\\uc5ec\\uc5d0 \\ub300\\ud55c \\uc21c\\uc758\\ubb34\\ub294 \\uacc4\\uc57d\\uc0c1\\uc758 \\ubd80\\ucc44\\ub294 \\uc544\\ub2c8\\uba70 \\ubbf8\\ub798 \\ubc1c\\uc0dd \\ube44\\uc6a9\\uc73c\\ub85c \\uc5ec\\uaca8\\uc9c0\\ub294 \\uc0ac\\ud68c\\ubcf4\\uc7a5\\uae09\\uc5ec\\ub85c  \\n\\uc7ac\\uc815\\uc0c1\\ud0dc\\ud45c\\uc5d0 \\uae30\\ub85d\\ud558\\uc9c0 \\uc54a\\uc74c  \\n- \\uae30\\ud0c0 \\uc554\\ubb35\\uc801 \\uc6b0\\ubc1c\\ubd80\\ucc44\\ub294 \\uc554\\ubb35\\uc801 \\uc6b0\\ubc1c\\ubd80\\ucc44 \\uc911 \\ubbf8\\ub798\\uc0ac\\ud68c\\ubcf4\\uc7a5\\uae09\\uc5ec\\uc5d0 \\ub300\\ud55c \\uc21c\\uc758\\ubb34\\ub97c \\uc81c\\uc678\\ud55c \\ub098\\uba38\\uc9c0\\uac00 \\ud574\\ub2f9\\n- \\uc870\\uac74\\ubd80 \\uc2e0\\uc6a9\\ubcf4\\uc99d  \\n**\\ubbf8\\ub798\\uc0ac\\ud68c\\ubcf4\\uc7a5** **\\uc554\\ubb35\\uc801**  \\n**\\uae09\\uc5ec\\uc5d0 \\ub300\\ud55c** **\\uc6b0\\ubc1c\\ubd80\\ucc44**  \\n**\\uc21c\\uc758\\ubb34**  \\n\\uc0ac\\ud68c\\ubcf4\\uc7a5\\uae09\\uc5ec  \\n**\\uc790\\ub8cc: IMF, \\u300cGovernment Finance Statistics Manual 2014\\u300d\\uc5d0 \\uae30\\ucd08\\ud558\\uc5ec \\uc7ac\\uc791\\uc131.**  \\n**GFSM2014 \\uc6b0\\ubc1c\\ubd80\\ucc44 \\ubd84\\ub958\\uae30\\uc900\\uc5d0 \\ub300\\ud55c \\uad6d\\uac00\\uacb0\\uc0b0\\ubcf4\\uace0\\uc11c \\uc7ac\\ubb34\\uc81c\\ud45c\\uc0c1 \\uc8fc\\uc11d \\ud56d\\ubaa9\\uc758 \\uc7ac\\ubd84\\ub958 \\uc81c\\uc548**\\n\\ubd80\\ubd84\\uc740 \\uc6b0\\ubc1c\\ubd80\\ucc44\\ub85c \\uac04\\uc8fc **[22)]**  \\n**\\uc554\\ubb35\\uc801 \\uc6b0\\ubc1c\\ubd80\\ucc44\\ub294 \\u2018\\ubbf8\\ub798\\uc0ac\\ud68c\\ubcf4\\uc7a5\\uae09\\uc5ec\\uc5d0 \\ub300\\ud55c \\uc21c\\uc758\\ubb34\\u2019\\uc640 \\u2018\\uae30\\ud0c0 \\uc554\\ubb35\\uc801 \\uc6b0\\ubc1c\\ubd80\\ucc44\\u2019\\ub85c \\uad6c\\ubd84**  \\n\\u2023 \\uc554\\ubb35\\uc801 \\uc6b0\\ubc1c\\ubd80\\ucc44\\ub294 \\ubc95\\uc801 \\ub610\\ub294 \\uacc4\\uc57d \\uc0c1 \\uc6d0\\ucc9c\\uc774 \\uc544\\ub2cc \\ud2b9\\uc815 \\uc870\\uac74 \\ud639\\uc740 \\uc0ac\\uac74\\uc774 \\uc2e4\\ud604\\ub420 \\uc2dc \\uc778\\uc2dd  \\n- \\uc554\\ubb35\\uc801 \\uc6b0\\ubc1c\\ubd80\\ucc44\\ub294 \\uace0\\uc6a9\\uad00\\ub828 \\uc5f0\\uae08\\uc81c\\ub3c4\\uc640 \\uad00\\ub828\\ub418\\ub294 \\ubd80\\ucc44\\ub294 \\uc81c\\uc678[23)]  \\n- \\uace0\\uc6a9\\uad00\\ub828 \\uc5f0\\uae08\\uc81c\\ub3c4 \\uc774\\uc678\\uc758 \\uc0ac\\ud68c\\ubcf4\\uc7a5\\uc81c\\ub3c4\\ub294 \\ub0a9\\ubd80\\ud55c \\ubcf4\\ud5d8\\ub8cc\\uc640 \\uacb0\\uad6d \\uc9c0\\ubd88\\ud574\\uc57c \\ud560 \\uae09\\uc5ec \\uac04\\uc5d0 \\uc9c1\\uc811\\uc801\\uc778 \\uad00\\uacc4\\uac00 \\uc5c6\\n### 7 \\uc6b0\\ubc1c\\ubd80\\ucc44 \\uc77c\\ud68c\\uc131 \\ubcf4\\uc99d \\ud1f4\\uc9c1\\uae09\\uc5ec\\ucda9\\ub2f9\\ubd80 \\uc8fc\\uc11d 3-\\u2460\\ubc88\\uace0\\uc6a9\\uacc4\\uc57d \\ucc44  \\n8 \\uc6b0\\ubc1c\\ubd80\\ucc44 \\uc77c\\ud68c\\uc131 \\ubcf4\\uc99d \\ud1f4\\uc9c1\\uc218\\ub2f9\\ucda9\\ub2f9\\ubd80 \\uc8fc\\uc11d 3-\\u2463\\ubc88\\uace0\\uc6a9\\uacc4\\uc57d \\ucc44  \\n9 \\uc554\\ubb35\\uc801 \\uc6b0\\ubc1c\\ubd80 \\ubbf8\\ub798\\uc0ac\\ud68c\\ubcf4\\uc7a5 \\ub300\\ud55c \\uc21c\\uc758\\ubb34 \\uc0ac\\ud68c\\ubcf4\\ud5d8\\uc0ac\\uc5c5 \\uc8fc\\uc11d 8-\\u2464\\ubc88\\uc0ac\\ud68c\\ubcf4\\uc7a5 \\ucc44 \\uae09\\uc5ec\\uc5d0 \\ub4f1 \\uae30\\ud0c0 (\\ube44\\uc6a9)  \\n10 \\uc554\\ubb35\\uc801 \\uc6b0\\ubc1c\\ubd80 \\ubbf8\\ub798\\uc0ac\\ud68c\\ubcf4\\uc7a5 \\ud30c\\uc0dd\\uae08\\uc735\\uc0c1\\ud488 \\ud30c\\uc0dd\\uc0c1\\ud488\\ub0b4\\uc5ed \\uc8fc\\uc11d 5-\\u2462\\ubc88\\ud30c\\uc0dd\\uc0c1\\ud488 \\ucc44 \\uae09\\uc5ec\\uc5d0 \\ud615\\ud0dc\\uc758 \\ubcf4\\uc99d (\\ubd80\\ucc44) \\uacc4\\uc57d\\n\"\n        ],\n        \"semantic_type\": \"\",\n        \"description\": \"\"\n      }\n    },\n    {\n      \"column\": \"Question\",\n      \"properties\": {\n        \"dtype\": \"string\",\n        \"num_unique_values\": 97,\n        \"samples\": [\n          \"\\uc7ac\\uc815\\uc131\\uacfc\\uad00\\ub9ac\\uc758 \\ubaa9\\uc801\\uc740 \\ubb34\\uc5c7\\uc778\\uac00?\",\n          \"\\ud589\\ubcf5\\uc8fc\\ud0dd\\ucd9c\\uc790 \\uc0ac\\uc5c5\\uc758 \\uc8fc\\uc694 \\uc218\\ud61c\\uc790\\ub294 \\ub204\\uad6c\\uc778\\uac00?\",\n          \"\\ubbf8\\ub798\\uc0ac\\ud68c\\ubcf4\\uc7a5\\uae09\\uc5ec\\uc5d0 \\ub300\\ud55c \\uc21c\\uc758\\ubb34\\ub780 \\ubb34\\uc5c7\\uc744 \\uc758\\ubbf8\\ud558\\ub294\\uac00?\"\n        ],\n        \"semantic_type\": \"\",\n        \"description\": \"\"\n      }\n    },\n    {\n      \"column\": \"Answer\",\n      \"properties\": {\n        \"dtype\": \"string\",\n        \"num_unique_values\": 96,\n        \"samples\": [\n          \"\\ubc1c\\uc0dd\\uc8fc\\uc758\\ub294 \\uacbd\\uc81c\\uc801 \\uac70\\ub798\\uac00 \\ubc1c\\uc0dd\\ud558\\ub294 \\uc2dc\\uc810\\uc5d0 \\uac70\\ub798\\ub97c \\uae30\\ub85d\\ud558\\ub294 \\ubc29\\uc2dd\\uc73c\\ub85c, \\ud604\\uae08\\uc8fc\\uc758\\ub294 \\ud604\\uae08\\uc744 \\uc218\\ucde8\\ud558\\uac70\\ub098 \\uc9c0\\uae09\\ud55c \\uc2dc\\uc810\\uc5d0 \\uac70\\ub798\\ub97c \\uae30\\ub85d\\ud558\\ub294 \\ubc29\\uc2dd\\uc774\\ub2e4.\",\n          \"\\uc6b0\\ubc1c\\ubd80\\ucc44 \\uad00\\ub828 \\uc8fc\\uc694 \\uc7c1\\uc810\\uc740 \\uc6b0\\ubc1c\\ubd80\\ucc44 \\uac1c\\ub150 \\ubc0f \\uc6a9\\uc5b4 \\uc0ac\\uc6a9\\uc758 \\ud63c\\ub780, \\uc6b0\\ubc1c\\ubd80\\ucc44 \\ubd84\\ub958\\uae30\\uc900 \\uc7ac\\uac80\\ud1a0, \\uc0c8\\ub85c\\uc6b4 \\ubd84\\ub958\\uae30\\uc900 \\uc815\\ub9bd \\ub4f1\\uc774\\ub2e4.\",\n          \"\\uc7ac\\uc815\\uc0ac\\uc5c5 \\uc790\\uc728\\ud3c9\\uac00\\ub294 \\uc7ac\\uc815\\uad00\\ub9ac \\ud569\\ub9ac\\uc131\\uc744 \\uc81c\\uace0\\ud558\\uace0, \\ud22c\\uba85\\uc131\\uc744 \\uc81c\\uace0\\ud558\\ub294 \\uac83\\uc744 \\ubaa9\\uc801\\uc73c\\ub85c \\ud55c\\ub2e4. \\uc774\\ub97c \\uc704\\ud574 2018\\ub144\\uc5d0 \\uc5f0\\uad6c\\uac1c\\ubc1c\\uc0ac\\uc5c5 \\ud3c9\\uac00\\ub97c \\ub2e4\\uc2dc \\ubd84\\ub9ac\\ud558\\uace0 \\uae30\\uc874\\uc758 \\uc7ac\\uc815\\uc0ac\\uc5c5 \\uc790\\uc728\\ud3c9\\uac00 \\uc81c\\ub3c4\\ub85c \\ud658\\uc6d0\\ud558\\ub294 \\ud55c\\ud3b8, \\uacf5\\ud1b5 \\ud3c9\\uac00\\uc9c0\\uce68\\uacfc \\ud3c9\\uac00\\ubcf4\\uace0\\uc11c \\ud45c\\uc900\\uc11c\\uc2dd\\uc744 \\ud3d0\\uc9c0\\ud558\\uace0 \\uc0c1\\uc704 \\ud3c9\\uac00 \\ubc29\\uc2dd\\uc744 \\uba54\\ud0c0 \\ud3c9\\uac00 \\ubc29\\uc2dd\\uc758 \\uc804\\uc218 \\uc810\\uac80\\uc5d0\\uc11c 80\\uc5ec \\uac1c \\uc8fc\\uc694 \\ud575\\uc2ec \\uc0ac\\uc5c5\\uc5d0 \\ub300\\ud55c \\ud3c9\\uac00\\ub85c \\uc804\\ud658\\ud558\\uc600\\ub2e4.\"\n        ],\n        \"semantic_type\": \"\",\n        \"description\": \"\"\n      }\n    },\n    {\n      \"column\": \"True_Answer\",\n      \"properties\": {\n        \"dtype\": \"object\",\n        \"num_unique_values\": 1,\n        \"samples\": [\n          \"\"\n        ],\n        \"semantic_type\": \"\",\n        \"description\": \"\"\n      }\n    },\n    {\n      \"column\": \"Answer_post\",\n      \"properties\": {\n        \"dtype\": \"string\",\n        \"num_unique_values\": 96,\n        \"samples\": [\n          \"\\ubc1c\\uc0dd\\uc8fc\\uc758\\ub294 \\uacbd\\uc81c\\uc801 \\uac70\\ub798\\uac00 \\ubc1c\\uc0dd\\ud558\\ub294 \\uc2dc\\uc810\\uc5d0 \\uac70\\ub798\\ub97c \\uae30\\ub85d\\ud558\\ub294 \\ubc29\\uc2dd\\uc73c\\ub85c, \\ud604\\uae08\\uc8fc\\uc758\\ub294 \\ud604\\uae08\\uc744 \\uc218\\ucde8\\ud558\\uac70\\ub098 \\uc9c0\\uae09\\ud55c \\uc2dc\\uc810\\uc5d0 \\uac70\\ub798\\ub97c \\uae30\\ub85d\\ud558\\ub294 \\ubc29\\uc2dd\\uc774\\ub2e4.\"\n        ],\n        \"semantic_type\": \"\",\n        \"description\": \"\"\n      }\n    }\n  ]\n}"
            }
          },
          "metadata": {},
          "execution_count": 37
        }
      ]
    },
    {
      "cell_type": "code",
      "source": [
        "np.sum(rslt_df['Answer'] != rslt_df['Answer_post'])"
      ],
      "metadata": {
        "colab": {
          "base_uri": "https://localhost:8080/"
        },
        "id": "7JneZnNsOC5D",
        "outputId": "970375c8-7c5f-4727-ccda-8480b7060473"
      },
      "execution_count": 38,
      "outputs": [
        {
          "output_type": "execute_result",
          "data": {
            "text/plain": [
              "0"
            ]
          },
          "metadata": {},
          "execution_count": 38
        }
      ]
    },
    {
      "cell_type": "code",
      "source": [
        "cond = rslt_df['Answer'] != rslt_df['Answer_post']\n",
        "\n",
        "rslt_df.loc[cond,['Answer','Answer_post']]"
      ],
      "metadata": {
        "colab": {
          "base_uri": "https://localhost:8080/",
          "height": 53
        },
        "id": "FR-QtrOTsZr_",
        "outputId": "0c5b8ea8-404b-49b3-c8d6-c5ce8461129b"
      },
      "execution_count": 39,
      "outputs": [
        {
          "output_type": "execute_result",
          "data": {
            "text/plain": [
              "Empty DataFrame\n",
              "Columns: [Answer, Answer_post]\n",
              "Index: []"
            ],
            "text/html": [
              "\n",
              "  <div id=\"df-3948dbef-6685-49f2-84d7-61d59f5c2ab3\" class=\"colab-df-container\">\n",
              "    <div>\n",
              "<style scoped>\n",
              "    .dataframe tbody tr th:only-of-type {\n",
              "        vertical-align: middle;\n",
              "    }\n",
              "\n",
              "    .dataframe tbody tr th {\n",
              "        vertical-align: top;\n",
              "    }\n",
              "\n",
              "    .dataframe thead th {\n",
              "        text-align: right;\n",
              "    }\n",
              "</style>\n",
              "<table border=\"1\" class=\"dataframe\">\n",
              "  <thead>\n",
              "    <tr style=\"text-align: right;\">\n",
              "      <th></th>\n",
              "      <th>Answer</th>\n",
              "      <th>Answer_post</th>\n",
              "    </tr>\n",
              "  </thead>\n",
              "  <tbody>\n",
              "  </tbody>\n",
              "</table>\n",
              "</div>\n",
              "    <div class=\"colab-df-buttons\">\n",
              "\n",
              "  <div class=\"colab-df-container\">\n",
              "    <button class=\"colab-df-convert\" onclick=\"convertToInteractive('df-3948dbef-6685-49f2-84d7-61d59f5c2ab3')\"\n",
              "            title=\"Convert this dataframe to an interactive table.\"\n",
              "            style=\"display:none;\">\n",
              "\n",
              "  <svg xmlns=\"http://www.w3.org/2000/svg\" height=\"24px\" viewBox=\"0 -960 960 960\">\n",
              "    <path d=\"M120-120v-720h720v720H120Zm60-500h600v-160H180v160Zm220 220h160v-160H400v160Zm0 220h160v-160H400v160ZM180-400h160v-160H180v160Zm440 0h160v-160H620v160ZM180-180h160v-160H180v160Zm440 0h160v-160H620v160Z\"/>\n",
              "  </svg>\n",
              "    </button>\n",
              "\n",
              "  <style>\n",
              "    .colab-df-container {\n",
              "      display:flex;\n",
              "      gap: 12px;\n",
              "    }\n",
              "\n",
              "    .colab-df-convert {\n",
              "      background-color: #E8F0FE;\n",
              "      border: none;\n",
              "      border-radius: 50%;\n",
              "      cursor: pointer;\n",
              "      display: none;\n",
              "      fill: #1967D2;\n",
              "      height: 32px;\n",
              "      padding: 0 0 0 0;\n",
              "      width: 32px;\n",
              "    }\n",
              "\n",
              "    .colab-df-convert:hover {\n",
              "      background-color: #E2EBFA;\n",
              "      box-shadow: 0px 1px 2px rgba(60, 64, 67, 0.3), 0px 1px 3px 1px rgba(60, 64, 67, 0.15);\n",
              "      fill: #174EA6;\n",
              "    }\n",
              "\n",
              "    .colab-df-buttons div {\n",
              "      margin-bottom: 4px;\n",
              "    }\n",
              "\n",
              "    [theme=dark] .colab-df-convert {\n",
              "      background-color: #3B4455;\n",
              "      fill: #D2E3FC;\n",
              "    }\n",
              "\n",
              "    [theme=dark] .colab-df-convert:hover {\n",
              "      background-color: #434B5C;\n",
              "      box-shadow: 0px 1px 3px 1px rgba(0, 0, 0, 0.15);\n",
              "      filter: drop-shadow(0px 1px 2px rgba(0, 0, 0, 0.3));\n",
              "      fill: #FFFFFF;\n",
              "    }\n",
              "  </style>\n",
              "\n",
              "    <script>\n",
              "      const buttonEl =\n",
              "        document.querySelector('#df-3948dbef-6685-49f2-84d7-61d59f5c2ab3 button.colab-df-convert');\n",
              "      buttonEl.style.display =\n",
              "        google.colab.kernel.accessAllowed ? 'block' : 'none';\n",
              "\n",
              "      async function convertToInteractive(key) {\n",
              "        const element = document.querySelector('#df-3948dbef-6685-49f2-84d7-61d59f5c2ab3');\n",
              "        const dataTable =\n",
              "          await google.colab.kernel.invokeFunction('convertToInteractive',\n",
              "                                                    [key], {});\n",
              "        if (!dataTable) return;\n",
              "\n",
              "        const docLinkHtml = 'Like what you see? Visit the ' +\n",
              "          '<a target=\"_blank\" href=https://colab.research.google.com/notebooks/data_table.ipynb>data table notebook</a>'\n",
              "          + ' to learn more about interactive tables.';\n",
              "        element.innerHTML = '';\n",
              "        dataTable['output_type'] = 'display_data';\n",
              "        await google.colab.output.renderOutput(dataTable, element);\n",
              "        const docLink = document.createElement('div');\n",
              "        docLink.innerHTML = docLinkHtml;\n",
              "        element.appendChild(docLink);\n",
              "      }\n",
              "    </script>\n",
              "  </div>\n",
              "\n",
              "\n",
              "    </div>\n",
              "  </div>\n"
            ],
            "application/vnd.google.colaboratory.intrinsic+json": {
              "type": "dataframe",
              "repr_error": "Out of range float values are not JSON compliant: nan"
            }
          },
          "metadata": {},
          "execution_count": 39
        }
      ]
    },
    {
      "cell_type": "code",
      "source": [
        "if eval_mode == 'valid' :\n",
        "  display(\"결과 : \",rslt_df[\"F1_0\"].mean())\n",
        "  display(\"결과 : \",rslt_df[\"F1_1\"].mean())"
      ],
      "metadata": {
        "id": "LKd4C2Vdzx4D"
      },
      "execution_count": 40,
      "outputs": []
    },
    {
      "cell_type": "code",
      "execution_count": 41,
      "metadata": {
        "id": "wMd06HWVVOYX"
      },
      "outputs": [],
      "source": [
        "if eval_mode == 'valid':\n",
        "  # 제출용 샘플 파일 로드\n",
        "  eval_df = rslt_df\n",
        "  save_dir = os.path.join(path,'eval')\n",
        "  if not os.path.exists(save_dir) : os.makedirs(save_dir)\n",
        "  save_name = f'eval_{fname}'\n",
        "  save_path = os.path.join(save_dir,save_name)\n",
        "\n",
        "  # 결과를 CSV 파일로 저장\n",
        "  eval_df.to_csv(save_path, encoding='UTF-8-sig', index=False)"
      ]
    },
    {
      "cell_type": "code",
      "execution_count": 42,
      "metadata": {
        "id": "yGJfFDMzQZQW"
      },
      "outputs": [],
      "source": [
        "#검증 데이터 쓸때만 사용 가능\n",
        "if eval_mode == 'valid':\n",
        "  for item in results:\n",
        "      y_hat = item[\"Answer\"]\n",
        "      y = item[\"True_Answer\"]\n",
        "      f1, precision, recall = compute_f1(y, y_hat)\n",
        "      item[\"F1\"] = f1\n",
        "      item[\"Precision\"] = precision\n",
        "      item[\"Recall\"] = recall"
      ]
    },
    {
      "cell_type": "markdown",
      "metadata": {
        "id": "7ma0LX64D47T"
      },
      "source": [
        "# Submission"
      ]
    },
    {
      "cell_type": "code",
      "execution_count": 43,
      "metadata": {
        "colab": {
          "base_uri": "https://localhost:8080/",
          "height": 206
        },
        "id": "ONaLHlk0gcg2",
        "outputId": "d85542c9-6703-4cd5-91f2-5198330cf532"
      },
      "outputs": [
        {
          "output_type": "execute_result",
          "data": {
            "text/plain": [
              "  SAMPLE_ID Answer\n",
              "0  TEST_000    데이콘\n",
              "1  TEST_001    데이콘\n",
              "2  TEST_002    데이콘\n",
              "3  TEST_003    데이콘\n",
              "4  TEST_004    데이콘"
            ],
            "text/html": [
              "\n",
              "  <div id=\"df-44b3d2c4-93c8-4dc5-8624-fe6c30c1e5df\" class=\"colab-df-container\">\n",
              "    <div>\n",
              "<style scoped>\n",
              "    .dataframe tbody tr th:only-of-type {\n",
              "        vertical-align: middle;\n",
              "    }\n",
              "\n",
              "    .dataframe tbody tr th {\n",
              "        vertical-align: top;\n",
              "    }\n",
              "\n",
              "    .dataframe thead th {\n",
              "        text-align: right;\n",
              "    }\n",
              "</style>\n",
              "<table border=\"1\" class=\"dataframe\">\n",
              "  <thead>\n",
              "    <tr style=\"text-align: right;\">\n",
              "      <th></th>\n",
              "      <th>SAMPLE_ID</th>\n",
              "      <th>Answer</th>\n",
              "    </tr>\n",
              "  </thead>\n",
              "  <tbody>\n",
              "    <tr>\n",
              "      <th>0</th>\n",
              "      <td>TEST_000</td>\n",
              "      <td>데이콘</td>\n",
              "    </tr>\n",
              "    <tr>\n",
              "      <th>1</th>\n",
              "      <td>TEST_001</td>\n",
              "      <td>데이콘</td>\n",
              "    </tr>\n",
              "    <tr>\n",
              "      <th>2</th>\n",
              "      <td>TEST_002</td>\n",
              "      <td>데이콘</td>\n",
              "    </tr>\n",
              "    <tr>\n",
              "      <th>3</th>\n",
              "      <td>TEST_003</td>\n",
              "      <td>데이콘</td>\n",
              "    </tr>\n",
              "    <tr>\n",
              "      <th>4</th>\n",
              "      <td>TEST_004</td>\n",
              "      <td>데이콘</td>\n",
              "    </tr>\n",
              "  </tbody>\n",
              "</table>\n",
              "</div>\n",
              "    <div class=\"colab-df-buttons\">\n",
              "\n",
              "  <div class=\"colab-df-container\">\n",
              "    <button class=\"colab-df-convert\" onclick=\"convertToInteractive('df-44b3d2c4-93c8-4dc5-8624-fe6c30c1e5df')\"\n",
              "            title=\"Convert this dataframe to an interactive table.\"\n",
              "            style=\"display:none;\">\n",
              "\n",
              "  <svg xmlns=\"http://www.w3.org/2000/svg\" height=\"24px\" viewBox=\"0 -960 960 960\">\n",
              "    <path d=\"M120-120v-720h720v720H120Zm60-500h600v-160H180v160Zm220 220h160v-160H400v160Zm0 220h160v-160H400v160ZM180-400h160v-160H180v160Zm440 0h160v-160H620v160ZM180-180h160v-160H180v160Zm440 0h160v-160H620v160Z\"/>\n",
              "  </svg>\n",
              "    </button>\n",
              "\n",
              "  <style>\n",
              "    .colab-df-container {\n",
              "      display:flex;\n",
              "      gap: 12px;\n",
              "    }\n",
              "\n",
              "    .colab-df-convert {\n",
              "      background-color: #E8F0FE;\n",
              "      border: none;\n",
              "      border-radius: 50%;\n",
              "      cursor: pointer;\n",
              "      display: none;\n",
              "      fill: #1967D2;\n",
              "      height: 32px;\n",
              "      padding: 0 0 0 0;\n",
              "      width: 32px;\n",
              "    }\n",
              "\n",
              "    .colab-df-convert:hover {\n",
              "      background-color: #E2EBFA;\n",
              "      box-shadow: 0px 1px 2px rgba(60, 64, 67, 0.3), 0px 1px 3px 1px rgba(60, 64, 67, 0.15);\n",
              "      fill: #174EA6;\n",
              "    }\n",
              "\n",
              "    .colab-df-buttons div {\n",
              "      margin-bottom: 4px;\n",
              "    }\n",
              "\n",
              "    [theme=dark] .colab-df-convert {\n",
              "      background-color: #3B4455;\n",
              "      fill: #D2E3FC;\n",
              "    }\n",
              "\n",
              "    [theme=dark] .colab-df-convert:hover {\n",
              "      background-color: #434B5C;\n",
              "      box-shadow: 0px 1px 3px 1px rgba(0, 0, 0, 0.15);\n",
              "      filter: drop-shadow(0px 1px 2px rgba(0, 0, 0, 0.3));\n",
              "      fill: #FFFFFF;\n",
              "    }\n",
              "  </style>\n",
              "\n",
              "    <script>\n",
              "      const buttonEl =\n",
              "        document.querySelector('#df-44b3d2c4-93c8-4dc5-8624-fe6c30c1e5df button.colab-df-convert');\n",
              "      buttonEl.style.display =\n",
              "        google.colab.kernel.accessAllowed ? 'block' : 'none';\n",
              "\n",
              "      async function convertToInteractive(key) {\n",
              "        const element = document.querySelector('#df-44b3d2c4-93c8-4dc5-8624-fe6c30c1e5df');\n",
              "        const dataTable =\n",
              "          await google.colab.kernel.invokeFunction('convertToInteractive',\n",
              "                                                    [key], {});\n",
              "        if (!dataTable) return;\n",
              "\n",
              "        const docLinkHtml = 'Like what you see? Visit the ' +\n",
              "          '<a target=\"_blank\" href=https://colab.research.google.com/notebooks/data_table.ipynb>data table notebook</a>'\n",
              "          + ' to learn more about interactive tables.';\n",
              "        element.innerHTML = '';\n",
              "        dataTable['output_type'] = 'display_data';\n",
              "        await google.colab.output.renderOutput(dataTable, element);\n",
              "        const docLink = document.createElement('div');\n",
              "        docLink.innerHTML = docLinkHtml;\n",
              "        element.appendChild(docLink);\n",
              "      }\n",
              "    </script>\n",
              "  </div>\n",
              "\n",
              "\n",
              "<div id=\"df-da775038-d77a-4e9c-800a-20cd791e9ad4\">\n",
              "  <button class=\"colab-df-quickchart\" onclick=\"quickchart('df-da775038-d77a-4e9c-800a-20cd791e9ad4')\"\n",
              "            title=\"Suggest charts\"\n",
              "            style=\"display:none;\">\n",
              "\n",
              "<svg xmlns=\"http://www.w3.org/2000/svg\" height=\"24px\"viewBox=\"0 0 24 24\"\n",
              "     width=\"24px\">\n",
              "    <g>\n",
              "        <path d=\"M19 3H5c-1.1 0-2 .9-2 2v14c0 1.1.9 2 2 2h14c1.1 0 2-.9 2-2V5c0-1.1-.9-2-2-2zM9 17H7v-7h2v7zm4 0h-2V7h2v10zm4 0h-2v-4h2v4z\"/>\n",
              "    </g>\n",
              "</svg>\n",
              "  </button>\n",
              "\n",
              "<style>\n",
              "  .colab-df-quickchart {\n",
              "      --bg-color: #E8F0FE;\n",
              "      --fill-color: #1967D2;\n",
              "      --hover-bg-color: #E2EBFA;\n",
              "      --hover-fill-color: #174EA6;\n",
              "      --disabled-fill-color: #AAA;\n",
              "      --disabled-bg-color: #DDD;\n",
              "  }\n",
              "\n",
              "  [theme=dark] .colab-df-quickchart {\n",
              "      --bg-color: #3B4455;\n",
              "      --fill-color: #D2E3FC;\n",
              "      --hover-bg-color: #434B5C;\n",
              "      --hover-fill-color: #FFFFFF;\n",
              "      --disabled-bg-color: #3B4455;\n",
              "      --disabled-fill-color: #666;\n",
              "  }\n",
              "\n",
              "  .colab-df-quickchart {\n",
              "    background-color: var(--bg-color);\n",
              "    border: none;\n",
              "    border-radius: 50%;\n",
              "    cursor: pointer;\n",
              "    display: none;\n",
              "    fill: var(--fill-color);\n",
              "    height: 32px;\n",
              "    padding: 0;\n",
              "    width: 32px;\n",
              "  }\n",
              "\n",
              "  .colab-df-quickchart:hover {\n",
              "    background-color: var(--hover-bg-color);\n",
              "    box-shadow: 0 1px 2px rgba(60, 64, 67, 0.3), 0 1px 3px 1px rgba(60, 64, 67, 0.15);\n",
              "    fill: var(--button-hover-fill-color);\n",
              "  }\n",
              "\n",
              "  .colab-df-quickchart-complete:disabled,\n",
              "  .colab-df-quickchart-complete:disabled:hover {\n",
              "    background-color: var(--disabled-bg-color);\n",
              "    fill: var(--disabled-fill-color);\n",
              "    box-shadow: none;\n",
              "  }\n",
              "\n",
              "  .colab-df-spinner {\n",
              "    border: 2px solid var(--fill-color);\n",
              "    border-color: transparent;\n",
              "    border-bottom-color: var(--fill-color);\n",
              "    animation:\n",
              "      spin 1s steps(1) infinite;\n",
              "  }\n",
              "\n",
              "  @keyframes spin {\n",
              "    0% {\n",
              "      border-color: transparent;\n",
              "      border-bottom-color: var(--fill-color);\n",
              "      border-left-color: var(--fill-color);\n",
              "    }\n",
              "    20% {\n",
              "      border-color: transparent;\n",
              "      border-left-color: var(--fill-color);\n",
              "      border-top-color: var(--fill-color);\n",
              "    }\n",
              "    30% {\n",
              "      border-color: transparent;\n",
              "      border-left-color: var(--fill-color);\n",
              "      border-top-color: var(--fill-color);\n",
              "      border-right-color: var(--fill-color);\n",
              "    }\n",
              "    40% {\n",
              "      border-color: transparent;\n",
              "      border-right-color: var(--fill-color);\n",
              "      border-top-color: var(--fill-color);\n",
              "    }\n",
              "    60% {\n",
              "      border-color: transparent;\n",
              "      border-right-color: var(--fill-color);\n",
              "    }\n",
              "    80% {\n",
              "      border-color: transparent;\n",
              "      border-right-color: var(--fill-color);\n",
              "      border-bottom-color: var(--fill-color);\n",
              "    }\n",
              "    90% {\n",
              "      border-color: transparent;\n",
              "      border-bottom-color: var(--fill-color);\n",
              "    }\n",
              "  }\n",
              "</style>\n",
              "\n",
              "  <script>\n",
              "    async function quickchart(key) {\n",
              "      const quickchartButtonEl =\n",
              "        document.querySelector('#' + key + ' button');\n",
              "      quickchartButtonEl.disabled = true;  // To prevent multiple clicks.\n",
              "      quickchartButtonEl.classList.add('colab-df-spinner');\n",
              "      try {\n",
              "        const charts = await google.colab.kernel.invokeFunction(\n",
              "            'suggestCharts', [key], {});\n",
              "      } catch (error) {\n",
              "        console.error('Error during call to suggestCharts:', error);\n",
              "      }\n",
              "      quickchartButtonEl.classList.remove('colab-df-spinner');\n",
              "      quickchartButtonEl.classList.add('colab-df-quickchart-complete');\n",
              "    }\n",
              "    (() => {\n",
              "      let quickchartButtonEl =\n",
              "        document.querySelector('#df-da775038-d77a-4e9c-800a-20cd791e9ad4 button');\n",
              "      quickchartButtonEl.style.display =\n",
              "        google.colab.kernel.accessAllowed ? 'block' : 'none';\n",
              "    })();\n",
              "  </script>\n",
              "</div>\n",
              "\n",
              "    </div>\n",
              "  </div>\n"
            ],
            "application/vnd.google.colaboratory.intrinsic+json": {
              "type": "dataframe",
              "variable_name": "submit_df",
              "summary": "{\n  \"name\": \"submit_df\",\n  \"rows\": 98,\n  \"fields\": [\n    {\n      \"column\": \"SAMPLE_ID\",\n      \"properties\": {\n        \"dtype\": \"string\",\n        \"num_unique_values\": 98,\n        \"samples\": [\n          \"TEST_062\",\n          \"TEST_040\",\n          \"TEST_094\"\n        ],\n        \"semantic_type\": \"\",\n        \"description\": \"\"\n      }\n    },\n    {\n      \"column\": \"Answer\",\n      \"properties\": {\n        \"dtype\": \"category\",\n        \"num_unique_values\": 1,\n        \"samples\": [\n          \"\\ub370\\uc774\\ucf58\"\n        ],\n        \"semantic_type\": \"\",\n        \"description\": \"\"\n      }\n    }\n  ]\n}"
            }
          },
          "metadata": {},
          "execution_count": 43
        }
      ],
      "source": [
        "submit_df = pd.read_csv(f\"{path}sample_submission.csv\")\n",
        "submit_df.head()"
      ]
    },
    {
      "cell_type": "code",
      "source": [
        "fname"
      ],
      "metadata": {
        "colab": {
          "base_uri": "https://localhost:8080/",
          "height": 35
        },
        "id": "-wG1AV5z1cN-",
        "outputId": "91da5e72-f725-4b11-d78a-4f0488105086"
      },
      "execution_count": 44,
      "outputs": [
        {
          "output_type": "execute_result",
          "data": {
            "text/plain": [
              "'gemma2_large_ensemble_AugGPT_3epoch.csv'"
            ],
            "application/vnd.google.colaboratory.intrinsic+json": {
              "type": "string"
            }
          },
          "metadata": {},
          "execution_count": 44
        }
      ]
    },
    {
      "cell_type": "code",
      "source": [
        "fname = 'gemma2_large_ensemble_AugGPT_3epoch_dora.csv'"
      ],
      "metadata": {
        "id": "MqjNiYnI7j6G"
      },
      "execution_count": 46,
      "outputs": []
    },
    {
      "cell_type": "code",
      "execution_count": 47,
      "metadata": {
        "id": "CMrEj815D47T",
        "colab": {
          "base_uri": "https://localhost:8080/",
          "height": 423
        },
        "outputId": "7e875827-f05c-4b96-a984-3615a905fe95"
      },
      "outputs": [
        {
          "output_type": "display_data",
          "data": {
            "text/plain": [
              "   SAMPLE_ID                                             Answer\n",
              "0   TEST_000                                            2,300억원\n",
              "1   TEST_001         중소벤처기업의 성장을 지원하고 창업을 활성화하고 고용창출을 도모하는 것이다.\n",
              "2   TEST_002                              중소기업및벤처에 관한 법률에 근거한다.\n",
              "3   TEST_003  2010년에 신규 지원된 혁신창업사업화자금은 '기술력 제고를 통한 창업촉진'으로 정...\n",
              "4   TEST_004                            미래기술육성자금, 고성장촉진자금 신규 지원\n",
              "..       ...                                                ...\n",
              "93  TEST_093  공적보증채무는 일반적으로 신용보증, 조건부 '신용 가용성' 보증, 조건부 신용지원 ...\n",
              "94  TEST_094  미래사회보장급여에 대한 순의무는 현행법과 규정에 따라 이미 가입자가 획득한 미래 급...\n",
              "95  TEST_095  국가결산보고서는 '우발사항 및 약정사항'으로 공시되며, 지방자치단체 회계기준에서는 ...\n",
              "96  TEST_096  우발부채는 회계기준이 적용되면서 미래의 다양한 의제의무(constructive ob...\n",
              "97  TEST_097  보증은 잠재적 법적청구권을 가지는 사람이 부채를 대신해서 갚을 수 있도록 하는 약속...\n",
              "\n",
              "[98 rows x 2 columns]"
            ],
            "text/html": [
              "\n",
              "  <div id=\"df-9d3219d4-6e73-4e3c-ad0a-c2a49038530d\" class=\"colab-df-container\">\n",
              "    <div>\n",
              "<style scoped>\n",
              "    .dataframe tbody tr th:only-of-type {\n",
              "        vertical-align: middle;\n",
              "    }\n",
              "\n",
              "    .dataframe tbody tr th {\n",
              "        vertical-align: top;\n",
              "    }\n",
              "\n",
              "    .dataframe thead th {\n",
              "        text-align: right;\n",
              "    }\n",
              "</style>\n",
              "<table border=\"1\" class=\"dataframe\">\n",
              "  <thead>\n",
              "    <tr style=\"text-align: right;\">\n",
              "      <th></th>\n",
              "      <th>SAMPLE_ID</th>\n",
              "      <th>Answer</th>\n",
              "    </tr>\n",
              "  </thead>\n",
              "  <tbody>\n",
              "    <tr>\n",
              "      <th>0</th>\n",
              "      <td>TEST_000</td>\n",
              "      <td>2,300억원</td>\n",
              "    </tr>\n",
              "    <tr>\n",
              "      <th>1</th>\n",
              "      <td>TEST_001</td>\n",
              "      <td>중소벤처기업의 성장을 지원하고 창업을 활성화하고 고용창출을 도모하는 것이다.</td>\n",
              "    </tr>\n",
              "    <tr>\n",
              "      <th>2</th>\n",
              "      <td>TEST_002</td>\n",
              "      <td>중소기업및벤처에 관한 법률에 근거한다.</td>\n",
              "    </tr>\n",
              "    <tr>\n",
              "      <th>3</th>\n",
              "      <td>TEST_003</td>\n",
              "      <td>2010년에 신규 지원된 혁신창업사업화자금은 '기술력 제고를 통한 창업촉진'으로 정...</td>\n",
              "    </tr>\n",
              "    <tr>\n",
              "      <th>4</th>\n",
              "      <td>TEST_004</td>\n",
              "      <td>미래기술육성자금, 고성장촉진자금 신규 지원</td>\n",
              "    </tr>\n",
              "    <tr>\n",
              "      <th>...</th>\n",
              "      <td>...</td>\n",
              "      <td>...</td>\n",
              "    </tr>\n",
              "    <tr>\n",
              "      <th>93</th>\n",
              "      <td>TEST_093</td>\n",
              "      <td>공적보증채무는 일반적으로 신용보증, 조건부 '신용 가용성' 보증, 조건부 신용지원 ...</td>\n",
              "    </tr>\n",
              "    <tr>\n",
              "      <th>94</th>\n",
              "      <td>TEST_094</td>\n",
              "      <td>미래사회보장급여에 대한 순의무는 현행법과 규정에 따라 이미 가입자가 획득한 미래 급...</td>\n",
              "    </tr>\n",
              "    <tr>\n",
              "      <th>95</th>\n",
              "      <td>TEST_095</td>\n",
              "      <td>국가결산보고서는 '우발사항 및 약정사항'으로 공시되며, 지방자치단체 회계기준에서는 ...</td>\n",
              "    </tr>\n",
              "    <tr>\n",
              "      <th>96</th>\n",
              "      <td>TEST_096</td>\n",
              "      <td>우발부채는 회계기준이 적용되면서 미래의 다양한 의제의무(constructive ob...</td>\n",
              "    </tr>\n",
              "    <tr>\n",
              "      <th>97</th>\n",
              "      <td>TEST_097</td>\n",
              "      <td>보증은 잠재적 법적청구권을 가지는 사람이 부채를 대신해서 갚을 수 있도록 하는 약속...</td>\n",
              "    </tr>\n",
              "  </tbody>\n",
              "</table>\n",
              "<p>98 rows × 2 columns</p>\n",
              "</div>\n",
              "    <div class=\"colab-df-buttons\">\n",
              "\n",
              "  <div class=\"colab-df-container\">\n",
              "    <button class=\"colab-df-convert\" onclick=\"convertToInteractive('df-9d3219d4-6e73-4e3c-ad0a-c2a49038530d')\"\n",
              "            title=\"Convert this dataframe to an interactive table.\"\n",
              "            style=\"display:none;\">\n",
              "\n",
              "  <svg xmlns=\"http://www.w3.org/2000/svg\" height=\"24px\" viewBox=\"0 -960 960 960\">\n",
              "    <path d=\"M120-120v-720h720v720H120Zm60-500h600v-160H180v160Zm220 220h160v-160H400v160Zm0 220h160v-160H400v160ZM180-400h160v-160H180v160Zm440 0h160v-160H620v160ZM180-180h160v-160H180v160Zm440 0h160v-160H620v160Z\"/>\n",
              "  </svg>\n",
              "    </button>\n",
              "\n",
              "  <style>\n",
              "    .colab-df-container {\n",
              "      display:flex;\n",
              "      gap: 12px;\n",
              "    }\n",
              "\n",
              "    .colab-df-convert {\n",
              "      background-color: #E8F0FE;\n",
              "      border: none;\n",
              "      border-radius: 50%;\n",
              "      cursor: pointer;\n",
              "      display: none;\n",
              "      fill: #1967D2;\n",
              "      height: 32px;\n",
              "      padding: 0 0 0 0;\n",
              "      width: 32px;\n",
              "    }\n",
              "\n",
              "    .colab-df-convert:hover {\n",
              "      background-color: #E2EBFA;\n",
              "      box-shadow: 0px 1px 2px rgba(60, 64, 67, 0.3), 0px 1px 3px 1px rgba(60, 64, 67, 0.15);\n",
              "      fill: #174EA6;\n",
              "    }\n",
              "\n",
              "    .colab-df-buttons div {\n",
              "      margin-bottom: 4px;\n",
              "    }\n",
              "\n",
              "    [theme=dark] .colab-df-convert {\n",
              "      background-color: #3B4455;\n",
              "      fill: #D2E3FC;\n",
              "    }\n",
              "\n",
              "    [theme=dark] .colab-df-convert:hover {\n",
              "      background-color: #434B5C;\n",
              "      box-shadow: 0px 1px 3px 1px rgba(0, 0, 0, 0.15);\n",
              "      filter: drop-shadow(0px 1px 2px rgba(0, 0, 0, 0.3));\n",
              "      fill: #FFFFFF;\n",
              "    }\n",
              "  </style>\n",
              "\n",
              "    <script>\n",
              "      const buttonEl =\n",
              "        document.querySelector('#df-9d3219d4-6e73-4e3c-ad0a-c2a49038530d button.colab-df-convert');\n",
              "      buttonEl.style.display =\n",
              "        google.colab.kernel.accessAllowed ? 'block' : 'none';\n",
              "\n",
              "      async function convertToInteractive(key) {\n",
              "        const element = document.querySelector('#df-9d3219d4-6e73-4e3c-ad0a-c2a49038530d');\n",
              "        const dataTable =\n",
              "          await google.colab.kernel.invokeFunction('convertToInteractive',\n",
              "                                                    [key], {});\n",
              "        if (!dataTable) return;\n",
              "\n",
              "        const docLinkHtml = 'Like what you see? Visit the ' +\n",
              "          '<a target=\"_blank\" href=https://colab.research.google.com/notebooks/data_table.ipynb>data table notebook</a>'\n",
              "          + ' to learn more about interactive tables.';\n",
              "        element.innerHTML = '';\n",
              "        dataTable['output_type'] = 'display_data';\n",
              "        await google.colab.output.renderOutput(dataTable, element);\n",
              "        const docLink = document.createElement('div');\n",
              "        docLink.innerHTML = docLinkHtml;\n",
              "        element.appendChild(docLink);\n",
              "      }\n",
              "    </script>\n",
              "  </div>\n",
              "\n",
              "\n",
              "<div id=\"df-371171f7-7928-44d0-bfb2-a826674ec765\">\n",
              "  <button class=\"colab-df-quickchart\" onclick=\"quickchart('df-371171f7-7928-44d0-bfb2-a826674ec765')\"\n",
              "            title=\"Suggest charts\"\n",
              "            style=\"display:none;\">\n",
              "\n",
              "<svg xmlns=\"http://www.w3.org/2000/svg\" height=\"24px\"viewBox=\"0 0 24 24\"\n",
              "     width=\"24px\">\n",
              "    <g>\n",
              "        <path d=\"M19 3H5c-1.1 0-2 .9-2 2v14c0 1.1.9 2 2 2h14c1.1 0 2-.9 2-2V5c0-1.1-.9-2-2-2zM9 17H7v-7h2v7zm4 0h-2V7h2v10zm4 0h-2v-4h2v4z\"/>\n",
              "    </g>\n",
              "</svg>\n",
              "  </button>\n",
              "\n",
              "<style>\n",
              "  .colab-df-quickchart {\n",
              "      --bg-color: #E8F0FE;\n",
              "      --fill-color: #1967D2;\n",
              "      --hover-bg-color: #E2EBFA;\n",
              "      --hover-fill-color: #174EA6;\n",
              "      --disabled-fill-color: #AAA;\n",
              "      --disabled-bg-color: #DDD;\n",
              "  }\n",
              "\n",
              "  [theme=dark] .colab-df-quickchart {\n",
              "      --bg-color: #3B4455;\n",
              "      --fill-color: #D2E3FC;\n",
              "      --hover-bg-color: #434B5C;\n",
              "      --hover-fill-color: #FFFFFF;\n",
              "      --disabled-bg-color: #3B4455;\n",
              "      --disabled-fill-color: #666;\n",
              "  }\n",
              "\n",
              "  .colab-df-quickchart {\n",
              "    background-color: var(--bg-color);\n",
              "    border: none;\n",
              "    border-radius: 50%;\n",
              "    cursor: pointer;\n",
              "    display: none;\n",
              "    fill: var(--fill-color);\n",
              "    height: 32px;\n",
              "    padding: 0;\n",
              "    width: 32px;\n",
              "  }\n",
              "\n",
              "  .colab-df-quickchart:hover {\n",
              "    background-color: var(--hover-bg-color);\n",
              "    box-shadow: 0 1px 2px rgba(60, 64, 67, 0.3), 0 1px 3px 1px rgba(60, 64, 67, 0.15);\n",
              "    fill: var(--button-hover-fill-color);\n",
              "  }\n",
              "\n",
              "  .colab-df-quickchart-complete:disabled,\n",
              "  .colab-df-quickchart-complete:disabled:hover {\n",
              "    background-color: var(--disabled-bg-color);\n",
              "    fill: var(--disabled-fill-color);\n",
              "    box-shadow: none;\n",
              "  }\n",
              "\n",
              "  .colab-df-spinner {\n",
              "    border: 2px solid var(--fill-color);\n",
              "    border-color: transparent;\n",
              "    border-bottom-color: var(--fill-color);\n",
              "    animation:\n",
              "      spin 1s steps(1) infinite;\n",
              "  }\n",
              "\n",
              "  @keyframes spin {\n",
              "    0% {\n",
              "      border-color: transparent;\n",
              "      border-bottom-color: var(--fill-color);\n",
              "      border-left-color: var(--fill-color);\n",
              "    }\n",
              "    20% {\n",
              "      border-color: transparent;\n",
              "      border-left-color: var(--fill-color);\n",
              "      border-top-color: var(--fill-color);\n",
              "    }\n",
              "    30% {\n",
              "      border-color: transparent;\n",
              "      border-left-color: var(--fill-color);\n",
              "      border-top-color: var(--fill-color);\n",
              "      border-right-color: var(--fill-color);\n",
              "    }\n",
              "    40% {\n",
              "      border-color: transparent;\n",
              "      border-right-color: var(--fill-color);\n",
              "      border-top-color: var(--fill-color);\n",
              "    }\n",
              "    60% {\n",
              "      border-color: transparent;\n",
              "      border-right-color: var(--fill-color);\n",
              "    }\n",
              "    80% {\n",
              "      border-color: transparent;\n",
              "      border-right-color: var(--fill-color);\n",
              "      border-bottom-color: var(--fill-color);\n",
              "    }\n",
              "    90% {\n",
              "      border-color: transparent;\n",
              "      border-bottom-color: var(--fill-color);\n",
              "    }\n",
              "  }\n",
              "</style>\n",
              "\n",
              "  <script>\n",
              "    async function quickchart(key) {\n",
              "      const quickchartButtonEl =\n",
              "        document.querySelector('#' + key + ' button');\n",
              "      quickchartButtonEl.disabled = true;  // To prevent multiple clicks.\n",
              "      quickchartButtonEl.classList.add('colab-df-spinner');\n",
              "      try {\n",
              "        const charts = await google.colab.kernel.invokeFunction(\n",
              "            'suggestCharts', [key], {});\n",
              "      } catch (error) {\n",
              "        console.error('Error during call to suggestCharts:', error);\n",
              "      }\n",
              "      quickchartButtonEl.classList.remove('colab-df-spinner');\n",
              "      quickchartButtonEl.classList.add('colab-df-quickchart-complete');\n",
              "    }\n",
              "    (() => {\n",
              "      let quickchartButtonEl =\n",
              "        document.querySelector('#df-371171f7-7928-44d0-bfb2-a826674ec765 button');\n",
              "      quickchartButtonEl.style.display =\n",
              "        google.colab.kernel.accessAllowed ? 'block' : 'none';\n",
              "    })();\n",
              "  </script>\n",
              "</div>\n",
              "\n",
              "  <div id=\"id_a22c7749-41ad-4c59-ae94-3a696b47c76a\">\n",
              "    <style>\n",
              "      .colab-df-generate {\n",
              "        background-color: #E8F0FE;\n",
              "        border: none;\n",
              "        border-radius: 50%;\n",
              "        cursor: pointer;\n",
              "        display: none;\n",
              "        fill: #1967D2;\n",
              "        height: 32px;\n",
              "        padding: 0 0 0 0;\n",
              "        width: 32px;\n",
              "      }\n",
              "\n",
              "      .colab-df-generate:hover {\n",
              "        background-color: #E2EBFA;\n",
              "        box-shadow: 0px 1px 2px rgba(60, 64, 67, 0.3), 0px 1px 3px 1px rgba(60, 64, 67, 0.15);\n",
              "        fill: #174EA6;\n",
              "      }\n",
              "\n",
              "      [theme=dark] .colab-df-generate {\n",
              "        background-color: #3B4455;\n",
              "        fill: #D2E3FC;\n",
              "      }\n",
              "\n",
              "      [theme=dark] .colab-df-generate:hover {\n",
              "        background-color: #434B5C;\n",
              "        box-shadow: 0px 1px 3px 1px rgba(0, 0, 0, 0.15);\n",
              "        filter: drop-shadow(0px 1px 2px rgba(0, 0, 0, 0.3));\n",
              "        fill: #FFFFFF;\n",
              "      }\n",
              "    </style>\n",
              "    <button class=\"colab-df-generate\" onclick=\"generateWithVariable('submit_df')\"\n",
              "            title=\"Generate code using this dataframe.\"\n",
              "            style=\"display:none;\">\n",
              "\n",
              "  <svg xmlns=\"http://www.w3.org/2000/svg\" height=\"24px\"viewBox=\"0 0 24 24\"\n",
              "       width=\"24px\">\n",
              "    <path d=\"M7,19H8.4L18.45,9,17,7.55,7,17.6ZM5,21V16.75L18.45,3.32a2,2,0,0,1,2.83,0l1.4,1.43a1.91,1.91,0,0,1,.58,1.4,1.91,1.91,0,0,1-.58,1.4L9.25,21ZM18.45,9,17,7.55Zm-12,3A5.31,5.31,0,0,0,4.9,8.1,5.31,5.31,0,0,0,1,6.5,5.31,5.31,0,0,0,4.9,4.9,5.31,5.31,0,0,0,6.5,1,5.31,5.31,0,0,0,8.1,4.9,5.31,5.31,0,0,0,12,6.5,5.46,5.46,0,0,0,6.5,12Z\"/>\n",
              "  </svg>\n",
              "    </button>\n",
              "    <script>\n",
              "      (() => {\n",
              "      const buttonEl =\n",
              "        document.querySelector('#id_a22c7749-41ad-4c59-ae94-3a696b47c76a button.colab-df-generate');\n",
              "      buttonEl.style.display =\n",
              "        google.colab.kernel.accessAllowed ? 'block' : 'none';\n",
              "\n",
              "      buttonEl.onclick = () => {\n",
              "        google.colab.notebook.generateWithVariable('submit_df');\n",
              "      }\n",
              "      })();\n",
              "    </script>\n",
              "  </div>\n",
              "\n",
              "    </div>\n",
              "  </div>\n"
            ],
            "application/vnd.google.colaboratory.intrinsic+json": {
              "type": "dataframe",
              "variable_name": "submit_df",
              "summary": "{\n  \"name\": \"submit_df\",\n  \"rows\": 98,\n  \"fields\": [\n    {\n      \"column\": \"SAMPLE_ID\",\n      \"properties\": {\n        \"dtype\": \"string\",\n        \"num_unique_values\": 98,\n        \"samples\": [\n          \"TEST_062\",\n          \"TEST_040\",\n          \"TEST_094\"\n        ],\n        \"semantic_type\": \"\",\n        \"description\": \"\"\n      }\n    },\n    {\n      \"column\": \"Answer\",\n      \"properties\": {\n        \"dtype\": \"string\",\n        \"num_unique_values\": 96,\n        \"samples\": [\n          \"\\ubc1c\\uc0dd\\uc8fc\\uc758\\ub294 \\uacbd\\uc81c\\uc801 \\uac70\\ub798\\uac00 \\ubc1c\\uc0dd\\ud558\\ub294 \\uc2dc\\uc810\\uc5d0 \\uac70\\ub798\\ub97c \\uae30\\ub85d\\ud558\\ub294 \\ubc29\\uc2dd\\uc73c\\ub85c, \\ud604\\uae08\\uc8fc\\uc758\\ub294 \\ud604\\uae08\\uc744 \\uc218\\ucde8\\ud558\\uac70\\ub098 \\uc9c0\\uae09\\ud55c \\uc2dc\\uc810\\uc5d0 \\uac70\\ub798\\ub97c \\uae30\\ub85d\\ud558\\ub294 \\ubc29\\uc2dd\\uc774\\ub2e4.\",\n          \"\\uc6b0\\ubc1c\\ubd80\\ucc44 \\uad00\\ub828 \\uc8fc\\uc694 \\uc7c1\\uc810\\uc740 \\uc6b0\\ubc1c\\ubd80\\ucc44 \\uac1c\\ub150 \\ubc0f \\uc6a9\\uc5b4 \\uc0ac\\uc6a9\\uc758 \\ud63c\\ub780, \\uc6b0\\ubc1c\\ubd80\\ucc44 \\ubd84\\ub958\\uae30\\uc900 \\uc7ac\\uac80\\ud1a0, \\uc0c8\\ub85c\\uc6b4 \\ubd84\\ub958\\uae30\\uc900 \\uc815\\ub9bd \\ub4f1\\uc774\\ub2e4.\",\n          \"\\uc7ac\\uc815\\uc0ac\\uc5c5 \\uc790\\uc728\\ud3c9\\uac00\\ub294 \\uc7ac\\uc815\\uad00\\ub9ac \\ud569\\ub9ac\\uc131\\uc744 \\uc81c\\uace0\\ud558\\uace0, \\ud22c\\uba85\\uc131\\uc744 \\uc81c\\uace0\\ud558\\ub294 \\uac83\\uc744 \\ubaa9\\uc801\\uc73c\\ub85c \\ud55c\\ub2e4. \\uc774\\ub97c \\uc704\\ud574 2018\\ub144\\uc5d0 \\uc5f0\\uad6c\\uac1c\\ubc1c\\uc0ac\\uc5c5 \\ud3c9\\uac00\\ub97c \\ub2e4\\uc2dc \\ubd84\\ub9ac\\ud558\\uace0 \\uae30\\uc874\\uc758 \\uc7ac\\uc815\\uc0ac\\uc5c5 \\uc790\\uc728\\ud3c9\\uac00 \\uc81c\\ub3c4\\ub85c \\ud658\\uc6d0\\ud558\\ub294 \\ud55c\\ud3b8, \\uacf5\\ud1b5 \\ud3c9\\uac00\\uc9c0\\uce68\\uacfc \\ud3c9\\uac00\\ubcf4\\uace0\\uc11c \\ud45c\\uc900\\uc11c\\uc2dd\\uc744 \\ud3d0\\uc9c0\\ud558\\uace0 \\uc0c1\\uc704 \\ud3c9\\uac00 \\ubc29\\uc2dd\\uc744 \\uba54\\ud0c0 \\ud3c9\\uac00 \\ubc29\\uc2dd\\uc758 \\uc804\\uc218 \\uc810\\uac80\\uc5d0\\uc11c 80\\uc5ec \\uac1c \\uc8fc\\uc694 \\ud575\\uc2ec \\uc0ac\\uc5c5\\uc5d0 \\ub300\\ud55c \\ud3c9\\uac00\\ub85c \\uc804\\ud658\\ud558\\uc600\\ub2e4.\"\n        ],\n        \"semantic_type\": \"\",\n        \"description\": \"\"\n      }\n    }\n  ]\n}"
            }
          },
          "metadata": {}
        }
      ],
      "source": [
        "# 제출용 샘플 파일 로드\n",
        "submit_df = pd.read_csv(f\"{path}sample_submission.csv\")\n",
        "\n",
        "# 생성된 답변을 제출 DataFrame에 추가\n",
        "save_mode = 'submission'\n",
        "\n",
        "if save_mode != 'submission' :\n",
        "  submit_df['Question'] = [item['Question'] for item in results]\n",
        "  submit_df['Context'] = [item['Context'] for item in results]\n",
        "  save_dir = os.path.join(path,'eval')\n",
        "else : save_dir = os.path.join(path,'sub')\n",
        "\n",
        "if not os.path.exists(save_dir) : os.makedirs(save_dir)\n",
        "save_path1 = os.path.join(save_dir,fname[:-4]+'_1.csv')\n",
        "save_path2 = os.path.join(save_dir,fname[:-4]+'_2.csv')\n",
        "\n",
        "submit_df['Answer'] = [item['Answer'] for item in results]\n",
        "submit_df['Answer'] = submit_df['Answer'].fillna(\"데이콘\").apply(str.strip)\n",
        "\n",
        "# 결과를 CSV 파일로 저장\n",
        "submit_df.to_csv(save_path1, encoding='UTF-8-sig', index=False)\n",
        "\n",
        "# 후처리\n",
        "#submit_df['Answer'] = submit_df.Answer.str.split('\\n').str[0]\n",
        "submit_df['Answer'] = submit_df.Answer.apply(post_process)\n",
        "display(submit_df)\n",
        "submit_df.to_csv(save_path2, encoding='UTF-8-sig', index=False)"
      ]
    },
    {
      "cell_type": "code",
      "source": [
        "os.listdir(save_dir)"
      ],
      "metadata": {
        "id": "p4M9Zm5Eu96w",
        "colab": {
          "base_uri": "https://localhost:8080/"
        },
        "outputId": "122ceadc-ff1a-4fc7-b4b1-f4d5eb994d36"
      },
      "execution_count": 59,
      "outputs": [
        {
          "output_type": "execute_result",
          "data": {
            "text/plain": [
              "['gemma2_large_ensemble_markdown_256_3epoch_refactored.csv',\n",
              " 'gemma2_large_ensemble_markdown_256_3epoch_refactored_1.csv',\n",
              " 'gemma2_large_ensemble_markdown_256_3epoch_refactored_2.csv',\n",
              " 'gemma2_large_ensemble_markdown_256_6epoch_refactored_1.csv',\n",
              " 'gemma2_large_ensemble_markdown_256_6epoch_refactored_2.csv',\n",
              " 'gemma2_large_ensemble_markdown_256_5epoch_refactored_1.csv',\n",
              " 'gemma2_large_ensemble_markdown_256_5epoch_refactored_2.csv',\n",
              " 'gemma2_large_ensemble_markdown_512_5epoch_refactored_1.csv',\n",
              " 'gemma2_large_ensemble_markdown_512_5epoch_refactored_2.csv',\n",
              " 'gemma2_large_ensemble_markdown_512_2epoch_refactored_1.csv',\n",
              " 'gemma2_large_ensemble_markdown_512_2epoch_refactored_2.csv',\n",
              " 'gemma2_large_ensemble_markdown_256_5epoch_newprompt_1.csv',\n",
              " 'gemma2_large_ensemble_markdown_256_5epoch_newprompt_2.csv',\n",
              " 'gemma2_large_ensemble_AugGPT_1epoch_1.csv',\n",
              " 'gemma2_large_ensemble_AugGPT_1epoch_2.csv',\n",
              " 'gemma2_large_ensemble_AugGPT_1epoch_dora_1.csv',\n",
              " 'gemma2_large_ensemble_AugGPT_1epoch_dora_2.csv']"
            ]
          },
          "metadata": {},
          "execution_count": 59
        }
      ]
    },
    {
      "cell_type": "code",
      "source": [
        "old_path = os.path.join(save_dir,'gemma2_large_ensemble_AugGPT_1epoch_1.csv')\n",
        "old_submit = pd.read_csv(old_path)\n",
        "old_submit"
      ],
      "metadata": {
        "colab": {
          "base_uri": "https://localhost:8080/",
          "height": 423
        },
        "id": "Vv8Ppv_YjPOs",
        "outputId": "d5c2f5ad-adf2-4009-c1fb-abb06cb8f8ac"
      },
      "execution_count": 60,
      "outputs": [
        {
          "output_type": "execute_result",
          "data": {
            "text/plain": [
              "   SAMPLE_ID                                             Answer\n",
              "0   TEST_000           2022년 혁신창업사업화자금(융자)의 예산은 2,300,000만원입니다.\n",
              "1   TEST_001        중소기업이 보유한 우수 기술의 사업화를 촉진하여 기술기반 중소기업을 육성한다.\n",
              "2   TEST_002  중소벤처기업부의 혁신창업사업화자금(융자) 사업근거는 중소기업진흥에 관한 법률 제66...\n",
              "3   TEST_003        2010년에는 재창업자금(실패 경영인에 대한 재기지원)이 신규 지원되었습니다.\n",
              "4   TEST_004             2020년에 신규 지원된 자금은 미래기술육성자금과 고성장촉진자금이다.\n",
              "..       ...                                                ...\n",
              "93  TEST_093  공적보증채무는 보증인이 기타 공공부문과 민간부문 단위 기존 채무의 원리금 상환을 보...\n",
              "94  TEST_094  미래사회보장급여에 대한 순의무는 현행법과 규정에 따라 이미 가입자가 획득한 미래 급...\n",
              "95  TEST_095  국가결산보고서는 ‘우발사항’으로 공시하는 반면, 지방자치단체 회계기준은 ‘우발손실’...\n",
              "96  TEST_096  우발부채는 미래의 다양한 의제의무를 포괄하는 재정적 의무로, 그 관리가 중요한 이유...\n",
              "97  TEST_097  보증이란 피보증처의 부채에 대해 지급을 보증하는 것을 말하며, 파생금융상품 형태의 ...\n",
              "\n",
              "[98 rows x 2 columns]"
            ],
            "text/html": [
              "\n",
              "  <div id=\"df-78d9f76b-a121-40ab-a4fc-d181aa85f0e3\" class=\"colab-df-container\">\n",
              "    <div>\n",
              "<style scoped>\n",
              "    .dataframe tbody tr th:only-of-type {\n",
              "        vertical-align: middle;\n",
              "    }\n",
              "\n",
              "    .dataframe tbody tr th {\n",
              "        vertical-align: top;\n",
              "    }\n",
              "\n",
              "    .dataframe thead th {\n",
              "        text-align: right;\n",
              "    }\n",
              "</style>\n",
              "<table border=\"1\" class=\"dataframe\">\n",
              "  <thead>\n",
              "    <tr style=\"text-align: right;\">\n",
              "      <th></th>\n",
              "      <th>SAMPLE_ID</th>\n",
              "      <th>Answer</th>\n",
              "    </tr>\n",
              "  </thead>\n",
              "  <tbody>\n",
              "    <tr>\n",
              "      <th>0</th>\n",
              "      <td>TEST_000</td>\n",
              "      <td>2022년 혁신창업사업화자금(융자)의 예산은 2,300,000만원입니다.</td>\n",
              "    </tr>\n",
              "    <tr>\n",
              "      <th>1</th>\n",
              "      <td>TEST_001</td>\n",
              "      <td>중소기업이 보유한 우수 기술의 사업화를 촉진하여 기술기반 중소기업을 육성한다.</td>\n",
              "    </tr>\n",
              "    <tr>\n",
              "      <th>2</th>\n",
              "      <td>TEST_002</td>\n",
              "      <td>중소벤처기업부의 혁신창업사업화자금(융자) 사업근거는 중소기업진흥에 관한 법률 제66...</td>\n",
              "    </tr>\n",
              "    <tr>\n",
              "      <th>3</th>\n",
              "      <td>TEST_003</td>\n",
              "      <td>2010년에는 재창업자금(실패 경영인에 대한 재기지원)이 신규 지원되었습니다.</td>\n",
              "    </tr>\n",
              "    <tr>\n",
              "      <th>4</th>\n",
              "      <td>TEST_004</td>\n",
              "      <td>2020년에 신규 지원된 자금은 미래기술육성자금과 고성장촉진자금이다.</td>\n",
              "    </tr>\n",
              "    <tr>\n",
              "      <th>...</th>\n",
              "      <td>...</td>\n",
              "      <td>...</td>\n",
              "    </tr>\n",
              "    <tr>\n",
              "      <th>93</th>\n",
              "      <td>TEST_093</td>\n",
              "      <td>공적보증채무는 보증인이 기타 공공부문과 민간부문 단위 기존 채무의 원리금 상환을 보...</td>\n",
              "    </tr>\n",
              "    <tr>\n",
              "      <th>94</th>\n",
              "      <td>TEST_094</td>\n",
              "      <td>미래사회보장급여에 대한 순의무는 현행법과 규정에 따라 이미 가입자가 획득한 미래 급...</td>\n",
              "    </tr>\n",
              "    <tr>\n",
              "      <th>95</th>\n",
              "      <td>TEST_095</td>\n",
              "      <td>국가결산보고서는 ‘우발사항’으로 공시하는 반면, 지방자치단체 회계기준은 ‘우발손실’...</td>\n",
              "    </tr>\n",
              "    <tr>\n",
              "      <th>96</th>\n",
              "      <td>TEST_096</td>\n",
              "      <td>우발부채는 미래의 다양한 의제의무를 포괄하는 재정적 의무로, 그 관리가 중요한 이유...</td>\n",
              "    </tr>\n",
              "    <tr>\n",
              "      <th>97</th>\n",
              "      <td>TEST_097</td>\n",
              "      <td>보증이란 피보증처의 부채에 대해 지급을 보증하는 것을 말하며, 파생금융상품 형태의 ...</td>\n",
              "    </tr>\n",
              "  </tbody>\n",
              "</table>\n",
              "<p>98 rows × 2 columns</p>\n",
              "</div>\n",
              "    <div class=\"colab-df-buttons\">\n",
              "\n",
              "  <div class=\"colab-df-container\">\n",
              "    <button class=\"colab-df-convert\" onclick=\"convertToInteractive('df-78d9f76b-a121-40ab-a4fc-d181aa85f0e3')\"\n",
              "            title=\"Convert this dataframe to an interactive table.\"\n",
              "            style=\"display:none;\">\n",
              "\n",
              "  <svg xmlns=\"http://www.w3.org/2000/svg\" height=\"24px\" viewBox=\"0 -960 960 960\">\n",
              "    <path d=\"M120-120v-720h720v720H120Zm60-500h600v-160H180v160Zm220 220h160v-160H400v160Zm0 220h160v-160H400v160ZM180-400h160v-160H180v160Zm440 0h160v-160H620v160ZM180-180h160v-160H180v160Zm440 0h160v-160H620v160Z\"/>\n",
              "  </svg>\n",
              "    </button>\n",
              "\n",
              "  <style>\n",
              "    .colab-df-container {\n",
              "      display:flex;\n",
              "      gap: 12px;\n",
              "    }\n",
              "\n",
              "    .colab-df-convert {\n",
              "      background-color: #E8F0FE;\n",
              "      border: none;\n",
              "      border-radius: 50%;\n",
              "      cursor: pointer;\n",
              "      display: none;\n",
              "      fill: #1967D2;\n",
              "      height: 32px;\n",
              "      padding: 0 0 0 0;\n",
              "      width: 32px;\n",
              "    }\n",
              "\n",
              "    .colab-df-convert:hover {\n",
              "      background-color: #E2EBFA;\n",
              "      box-shadow: 0px 1px 2px rgba(60, 64, 67, 0.3), 0px 1px 3px 1px rgba(60, 64, 67, 0.15);\n",
              "      fill: #174EA6;\n",
              "    }\n",
              "\n",
              "    .colab-df-buttons div {\n",
              "      margin-bottom: 4px;\n",
              "    }\n",
              "\n",
              "    [theme=dark] .colab-df-convert {\n",
              "      background-color: #3B4455;\n",
              "      fill: #D2E3FC;\n",
              "    }\n",
              "\n",
              "    [theme=dark] .colab-df-convert:hover {\n",
              "      background-color: #434B5C;\n",
              "      box-shadow: 0px 1px 3px 1px rgba(0, 0, 0, 0.15);\n",
              "      filter: drop-shadow(0px 1px 2px rgba(0, 0, 0, 0.3));\n",
              "      fill: #FFFFFF;\n",
              "    }\n",
              "  </style>\n",
              "\n",
              "    <script>\n",
              "      const buttonEl =\n",
              "        document.querySelector('#df-78d9f76b-a121-40ab-a4fc-d181aa85f0e3 button.colab-df-convert');\n",
              "      buttonEl.style.display =\n",
              "        google.colab.kernel.accessAllowed ? 'block' : 'none';\n",
              "\n",
              "      async function convertToInteractive(key) {\n",
              "        const element = document.querySelector('#df-78d9f76b-a121-40ab-a4fc-d181aa85f0e3');\n",
              "        const dataTable =\n",
              "          await google.colab.kernel.invokeFunction('convertToInteractive',\n",
              "                                                    [key], {});\n",
              "        if (!dataTable) return;\n",
              "\n",
              "        const docLinkHtml = 'Like what you see? Visit the ' +\n",
              "          '<a target=\"_blank\" href=https://colab.research.google.com/notebooks/data_table.ipynb>data table notebook</a>'\n",
              "          + ' to learn more about interactive tables.';\n",
              "        element.innerHTML = '';\n",
              "        dataTable['output_type'] = 'display_data';\n",
              "        await google.colab.output.renderOutput(dataTable, element);\n",
              "        const docLink = document.createElement('div');\n",
              "        docLink.innerHTML = docLinkHtml;\n",
              "        element.appendChild(docLink);\n",
              "      }\n",
              "    </script>\n",
              "  </div>\n",
              "\n",
              "\n",
              "<div id=\"df-db854747-fc36-4e47-b54f-b8164f5cebed\">\n",
              "  <button class=\"colab-df-quickchart\" onclick=\"quickchart('df-db854747-fc36-4e47-b54f-b8164f5cebed')\"\n",
              "            title=\"Suggest charts\"\n",
              "            style=\"display:none;\">\n",
              "\n",
              "<svg xmlns=\"http://www.w3.org/2000/svg\" height=\"24px\"viewBox=\"0 0 24 24\"\n",
              "     width=\"24px\">\n",
              "    <g>\n",
              "        <path d=\"M19 3H5c-1.1 0-2 .9-2 2v14c0 1.1.9 2 2 2h14c1.1 0 2-.9 2-2V5c0-1.1-.9-2-2-2zM9 17H7v-7h2v7zm4 0h-2V7h2v10zm4 0h-2v-4h2v4z\"/>\n",
              "    </g>\n",
              "</svg>\n",
              "  </button>\n",
              "\n",
              "<style>\n",
              "  .colab-df-quickchart {\n",
              "      --bg-color: #E8F0FE;\n",
              "      --fill-color: #1967D2;\n",
              "      --hover-bg-color: #E2EBFA;\n",
              "      --hover-fill-color: #174EA6;\n",
              "      --disabled-fill-color: #AAA;\n",
              "      --disabled-bg-color: #DDD;\n",
              "  }\n",
              "\n",
              "  [theme=dark] .colab-df-quickchart {\n",
              "      --bg-color: #3B4455;\n",
              "      --fill-color: #D2E3FC;\n",
              "      --hover-bg-color: #434B5C;\n",
              "      --hover-fill-color: #FFFFFF;\n",
              "      --disabled-bg-color: #3B4455;\n",
              "      --disabled-fill-color: #666;\n",
              "  }\n",
              "\n",
              "  .colab-df-quickchart {\n",
              "    background-color: var(--bg-color);\n",
              "    border: none;\n",
              "    border-radius: 50%;\n",
              "    cursor: pointer;\n",
              "    display: none;\n",
              "    fill: var(--fill-color);\n",
              "    height: 32px;\n",
              "    padding: 0;\n",
              "    width: 32px;\n",
              "  }\n",
              "\n",
              "  .colab-df-quickchart:hover {\n",
              "    background-color: var(--hover-bg-color);\n",
              "    box-shadow: 0 1px 2px rgba(60, 64, 67, 0.3), 0 1px 3px 1px rgba(60, 64, 67, 0.15);\n",
              "    fill: var(--button-hover-fill-color);\n",
              "  }\n",
              "\n",
              "  .colab-df-quickchart-complete:disabled,\n",
              "  .colab-df-quickchart-complete:disabled:hover {\n",
              "    background-color: var(--disabled-bg-color);\n",
              "    fill: var(--disabled-fill-color);\n",
              "    box-shadow: none;\n",
              "  }\n",
              "\n",
              "  .colab-df-spinner {\n",
              "    border: 2px solid var(--fill-color);\n",
              "    border-color: transparent;\n",
              "    border-bottom-color: var(--fill-color);\n",
              "    animation:\n",
              "      spin 1s steps(1) infinite;\n",
              "  }\n",
              "\n",
              "  @keyframes spin {\n",
              "    0% {\n",
              "      border-color: transparent;\n",
              "      border-bottom-color: var(--fill-color);\n",
              "      border-left-color: var(--fill-color);\n",
              "    }\n",
              "    20% {\n",
              "      border-color: transparent;\n",
              "      border-left-color: var(--fill-color);\n",
              "      border-top-color: var(--fill-color);\n",
              "    }\n",
              "    30% {\n",
              "      border-color: transparent;\n",
              "      border-left-color: var(--fill-color);\n",
              "      border-top-color: var(--fill-color);\n",
              "      border-right-color: var(--fill-color);\n",
              "    }\n",
              "    40% {\n",
              "      border-color: transparent;\n",
              "      border-right-color: var(--fill-color);\n",
              "      border-top-color: var(--fill-color);\n",
              "    }\n",
              "    60% {\n",
              "      border-color: transparent;\n",
              "      border-right-color: var(--fill-color);\n",
              "    }\n",
              "    80% {\n",
              "      border-color: transparent;\n",
              "      border-right-color: var(--fill-color);\n",
              "      border-bottom-color: var(--fill-color);\n",
              "    }\n",
              "    90% {\n",
              "      border-color: transparent;\n",
              "      border-bottom-color: var(--fill-color);\n",
              "    }\n",
              "  }\n",
              "</style>\n",
              "\n",
              "  <script>\n",
              "    async function quickchart(key) {\n",
              "      const quickchartButtonEl =\n",
              "        document.querySelector('#' + key + ' button');\n",
              "      quickchartButtonEl.disabled = true;  // To prevent multiple clicks.\n",
              "      quickchartButtonEl.classList.add('colab-df-spinner');\n",
              "      try {\n",
              "        const charts = await google.colab.kernel.invokeFunction(\n",
              "            'suggestCharts', [key], {});\n",
              "      } catch (error) {\n",
              "        console.error('Error during call to suggestCharts:', error);\n",
              "      }\n",
              "      quickchartButtonEl.classList.remove('colab-df-spinner');\n",
              "      quickchartButtonEl.classList.add('colab-df-quickchart-complete');\n",
              "    }\n",
              "    (() => {\n",
              "      let quickchartButtonEl =\n",
              "        document.querySelector('#df-db854747-fc36-4e47-b54f-b8164f5cebed button');\n",
              "      quickchartButtonEl.style.display =\n",
              "        google.colab.kernel.accessAllowed ? 'block' : 'none';\n",
              "    })();\n",
              "  </script>\n",
              "</div>\n",
              "\n",
              "  <div id=\"id_23773e97-b368-44b9-914d-503592ca0190\">\n",
              "    <style>\n",
              "      .colab-df-generate {\n",
              "        background-color: #E8F0FE;\n",
              "        border: none;\n",
              "        border-radius: 50%;\n",
              "        cursor: pointer;\n",
              "        display: none;\n",
              "        fill: #1967D2;\n",
              "        height: 32px;\n",
              "        padding: 0 0 0 0;\n",
              "        width: 32px;\n",
              "      }\n",
              "\n",
              "      .colab-df-generate:hover {\n",
              "        background-color: #E2EBFA;\n",
              "        box-shadow: 0px 1px 2px rgba(60, 64, 67, 0.3), 0px 1px 3px 1px rgba(60, 64, 67, 0.15);\n",
              "        fill: #174EA6;\n",
              "      }\n",
              "\n",
              "      [theme=dark] .colab-df-generate {\n",
              "        background-color: #3B4455;\n",
              "        fill: #D2E3FC;\n",
              "      }\n",
              "\n",
              "      [theme=dark] .colab-df-generate:hover {\n",
              "        background-color: #434B5C;\n",
              "        box-shadow: 0px 1px 3px 1px rgba(0, 0, 0, 0.15);\n",
              "        filter: drop-shadow(0px 1px 2px rgba(0, 0, 0, 0.3));\n",
              "        fill: #FFFFFF;\n",
              "      }\n",
              "    </style>\n",
              "    <button class=\"colab-df-generate\" onclick=\"generateWithVariable('old_submit')\"\n",
              "            title=\"Generate code using this dataframe.\"\n",
              "            style=\"display:none;\">\n",
              "\n",
              "  <svg xmlns=\"http://www.w3.org/2000/svg\" height=\"24px\"viewBox=\"0 0 24 24\"\n",
              "       width=\"24px\">\n",
              "    <path d=\"M7,19H8.4L18.45,9,17,7.55,7,17.6ZM5,21V16.75L18.45,3.32a2,2,0,0,1,2.83,0l1.4,1.43a1.91,1.91,0,0,1,.58,1.4,1.91,1.91,0,0,1-.58,1.4L9.25,21ZM18.45,9,17,7.55Zm-12,3A5.31,5.31,0,0,0,4.9,8.1,5.31,5.31,0,0,0,1,6.5,5.31,5.31,0,0,0,4.9,4.9,5.31,5.31,0,0,0,6.5,1,5.31,5.31,0,0,0,8.1,4.9,5.31,5.31,0,0,0,12,6.5,5.46,5.46,0,0,0,6.5,12Z\"/>\n",
              "  </svg>\n",
              "    </button>\n",
              "    <script>\n",
              "      (() => {\n",
              "      const buttonEl =\n",
              "        document.querySelector('#id_23773e97-b368-44b9-914d-503592ca0190 button.colab-df-generate');\n",
              "      buttonEl.style.display =\n",
              "        google.colab.kernel.accessAllowed ? 'block' : 'none';\n",
              "\n",
              "      buttonEl.onclick = () => {\n",
              "        google.colab.notebook.generateWithVariable('old_submit');\n",
              "      }\n",
              "      })();\n",
              "    </script>\n",
              "  </div>\n",
              "\n",
              "    </div>\n",
              "  </div>\n"
            ],
            "application/vnd.google.colaboratory.intrinsic+json": {
              "type": "dataframe",
              "variable_name": "old_submit",
              "summary": "{\n  \"name\": \"old_submit\",\n  \"rows\": 98,\n  \"fields\": [\n    {\n      \"column\": \"SAMPLE_ID\",\n      \"properties\": {\n        \"dtype\": \"string\",\n        \"num_unique_values\": 98,\n        \"samples\": [\n          \"TEST_062\",\n          \"TEST_040\",\n          \"TEST_094\"\n        ],\n        \"semantic_type\": \"\",\n        \"description\": \"\"\n      }\n    },\n    {\n      \"column\": \"Answer\",\n      \"properties\": {\n        \"dtype\": \"string\",\n        \"num_unique_values\": 97,\n        \"samples\": [\n          \"\\uc815\\ubd80 \\uc7ac\\uc815\\uc758 \\ud22c\\uba85\\uc131\\u00b7\\ucc45\\uc784\\uc131, \\ud6a8\\uc728\\uc131\\u00b7\\ud6a8\\uacfc\\uc131, \\uc608\\uc0b0\\uc7ac\\ubd84\\ubc30 \\ub4f1\\uc774 \\uc7ac\\uc815\\uc131\\uacfc\\uad00\\ub9ac\\uc758 \\ubaa9\\uc801\\uc785\\ub2c8\\ub2e4.\",\n          \"\\ub300\\ud559\\uc0dd\\u30fb\\uc0ac\\ud68c\\ucd08\\ub144\\uc0dd\\u30fb\\uc2e0\\ud63c\\ubd80\\ubd80 \\ub4f1 \\uc80a\\uc740\\uce35(80%), \\uace0\\ub839\\uc790 \\ubc0f \\uc8fc\\uac70\\ucde8\\uc57d\\uacc4\\uce35(20%)\\uc774 \\ud589\\ubcf5\\uc8fc\\ud0dd\\ucd9c\\uc790 \\uc0ac\\uc5c5\\uc758 \\uc8fc\\uc694 \\uc218\\ud61c\\uc790\\uc774\\ub2e4. \\\"\",\n          \"\\ubbf8\\ub798\\uc0ac\\ud68c\\ubcf4\\uc7a5\\uae09\\uc5ec\\uc5d0 \\ub300\\ud55c \\uc21c\\uc758\\ubb34\\ub294 \\ud604\\ud589\\ubc95\\uacfc \\uaddc\\uc815\\uc5d0 \\ub530\\ub77c \\uc774\\ubbf8 \\uac00\\uc785\\uc790\\uac00 \\ud68d\\ub4dd\\ud55c \\ubbf8\\ub798 \\uae09\\uc5ec\\uc758 \\ud604\\uc7ac\\uac00\\uce58\\uc5d0\\uc11c \\ud604\\ud589\\ubc95\\uacfc \\uaddc\\uc815\\uc5d0 \\ub530\\ub978 \\uc0ac\\ud68c\\ubcf4\\uc7a5\\uc81c\\ub3c4\\uc758 \\ubbf8\\ub798\\ubcf4\\ud5d8\\ub8cc\\uc758 \\uc21c\\ud604\\uc7ac\\uac00\\uce58\\ub97c \\ucc28\\uac10\\ud55c \\uac83\\uc744 \\uc778\\uc2dd\\ud55c\\ub2e4. \\\"\"\n        ],\n        \"semantic_type\": \"\",\n        \"description\": \"\"\n      }\n    }\n  ]\n}"
            }
          },
          "metadata": {},
          "execution_count": 60
        }
      ]
    },
    {
      "cell_type": "code",
      "source": [
        "cond = old_submit['Answer']!=submit_df['Answer']\n",
        "df_diff = pd.concat([old_submit[['SAMPLE_ID','Answer']],submit_df['Answer']],axis=1).loc[cond]\n",
        "for i in range(len(df_diff))[15:]:\n",
        "  idx = int(df_diff.iloc[i,0].split('_')[-1])\n",
        "  print(idx)\n",
        "  print_dataset_ele(eval_dataset,idx)\n",
        "  print(df_diff.iloc[i,1])\n",
        "  print(df_diff.iloc[i,2])\n",
        "  print('-'*30)"
      ],
      "metadata": {
        "id": "nVNw6vihl03v"
      },
      "execution_count": 61,
      "outputs": []
    },
    {
      "cell_type": "code",
      "source": [
        "idx_list = [16,49,59,74,77,80]"
      ],
      "metadata": {
        "id": "wEzVOfVxtaya"
      },
      "execution_count": null,
      "outputs": []
    },
    {
      "cell_type": "code",
      "source": [
        "for idx in idx_list:\n",
        "  print(idx)\n",
        "  print_dataset_ele(eval_dataset,idx)\n",
        "  print(\"<eos> 없음 :\",df_diff.loc[idx].iloc[1])\n",
        "  print(\"<eos> 추가 :\",df_diff.loc[idx].iloc[2])\n",
        "  print('-'*30)"
      ],
      "metadata": {
        "colab": {
          "base_uri": "https://localhost:8080/"
        },
        "id": "ZXnP93gTokd6",
        "outputId": "03ac2d86-63e5-4839-e280-973a2c90d886"
      },
      "execution_count": null,
      "outputs": [
        {
          "output_type": "stream",
          "name": "stdout",
          "text": [
            "16\n",
            "노인장기요양보험 운영지원에 대한 사업 내용을 설명해줘.\n",
            "--------\n",
            "# 4. 사업목적·내용  \n",
            "-  (노인장기요양보험 사업운영) 고령이나 노인성 질병으로 일상생활을 혼자서 수행하기  \n",
            "어려운 노인등에게 신체 또는 가사 활동 등을 제공하는 노인장기요양보험에 국고지원을  \n",
            "하여, 효율적인 정책추진으로 노후의 건강증진 및 생활 안정을 도모하고 가족의 부담을  \n",
            "완화하여 국민 삶의 질을 향상  \n",
            "-  (노인장기요양보험 운영지원) 「노인장기요양보험법」제58조에 따라 국가가 국민건강보험\n",
            "\"가입자\"는 \"장기요양보험가입자\"로 본다.  \n",
            "노인장기요양보험법 제35조의2(장기요양기관 재무·회계기준) ① 장기요양기관의 장은 보건복지부령으로 정  \n",
            "하는 재무·회계에 관한 기준(이하 “장기요양기관 재무·회계기준”이라 한다)에 따라 장기요양기관을 투명  \n",
            "하게 운영하여야 한다. 다만, 장기요양기관 중 「사회복지사업법」제34조에 따라 설치한 사회복지시설은  \n",
            "같은 조 제3항에 따른 재무ㆍ회계에 관한 기준에 따른다.\n",
            "# 사  업  명  \n",
            "(74) 노인장기요양보험 사업운영 (2231-303)\n",
            "함한다) 및 관리운영비의 전액을 부담한다.  \n",
            "노인장기요양보험법 시행령 제28조(국가와 지방자치단체의 부담) ① 법 제58조제2항에 따른 의  \n",
            "료급여수급권자에 대한 국가와 지방자치단체의 비용 부담은 다음 각 호의 기준에 따른다.  \n",
            "1의 2. 「의료급여법」제3조제1항제1호에 따른 의료급여를 받는 사람에 대한 비용 : 지방자치단체가 부담한다.  \n",
            "2. 「의료급여법」제3조제1항제1호 외의 규정에 따른 의료급여를 받는 사람에 대한 비용 : 각 목의\n",
            "# 5. 사업근거 및 추진경위  \n",
            "① 법령상 근거 및 조항 : 노인장기요양보험법 제4조, 제11조, 제35조의2, 제58조 및  \n",
            "같은 법 시행령제28조, 국민건강보험법 제76조  \n",
            "노인장기요양보험법 제4조(국가 및 지방자치단체의 책무 등) ④ 국가 및 지방자치단체는 장기요양  \n",
            "급여가 원활히 제공될 수 있도록 공단에 필요한 행정적 또는 재정적 지원을 할 수 있다.\n",
            "노인장기요양보험법 제58조(국가의 부담) ① 국가는 매년 예산의 범위 안에서 해당 연도 장기요양  \n",
            "보험료 예상수입액의 100분의 20에 상당하는 금액을 공단에 지원한다.\n",
            "② 국가와 지방자치단체는 대통령령으로 정하는 바에 따라 의료급여수급권자의 장기요양급여\n",
            "비용, 의사소견서 발급비용, 방문간호지시서 발급비용 중 공단이 부담하여야 할 비용(제40조제\n",
            "1항 단서 및 제3항제1호에 따라 면제 및 감경됨으로 인하여공단이 부담하게 되는 비용을 포\n",
            "|0 코드|2200 2231|303||\n",
            "|1 명칭|노인의료보장 노인장기요양|보험 지원 노인장기요양보|험 사업운영|  \n",
            "2. 사업 지원 형태 및 지원율  \n",
            "|직접 출|자 출연 보조|융자 국고|보조율(%)|융자율 (%|)|Col7|\n",
            "|---|---|---|---|---|---|---|\n",
            "|0 ○|||||||  \n",
            "3. 예산 총괄표  \n",
            "(단위: 백만원, %)\n",
            "\n",
            "--------\n",
            "\n",
            "<eos> 없음 : 노인장기요양보험법에 따라 국가가 국민건강보험 가입자를 장기요양보험 가입자로 본다.\n",
            "<eos> 추가 : 노인장기요양보험법에 따라 국가가 국민건강보험 가입자를 장기요양보험 가입자로 간주하고, 국가는 매년 예산 범위 내에서 장기요양보험료 예상 수입액의 100분의 20에 상당하는 금액을 공단에 지원한다.\n",
            "------------------------------\n",
            "49\n",
            "사회보험 사각지대 발생의 주요 원인과 이로 인해 발생하는 문제는 무엇인가요?\n",
            "--------\n",
            "0 **서민과 사회적 약자 복지 강화**  \n",
            "-  특히 발달장애인은 일상생활에서 타인의 도움이 필요한 경우(일반장애 32.1%, 발달장애 70%)가 많아 특별한 집중  \n",
            "**두터운 사회안전망 구축: [고용부] 사회보험 사각지대 해소**  \n",
            "돌봄이 필요  \n",
            "(선정 배경·필요성) 4대 사회보험의 제도적 틀이 갖추어져 있음에도 불구하고 사각지대 발생  \n",
            "(사업 추진 내용) 보건복지부 소관으로, 장애인 활동지원 및 발달장애인 돌봄서비스 등 확대\n",
            "배경 및 주요 내용, 그리고 성과지표·목표 설정과 그 의미를 이해하는 것이 중요  \n",
            "0 FOCUS **핵심재정사업 성과관리 관련 주요 쟁점은?**  \n",
            "0 FOCUS  \n",
            "범부처 차원에서 우선순위 목표를 관리하는 ‘핵심재정사업 성과관리’는 부처의 핵심 업무와 재정운용  \n",
            "성과를 관리하기 위해 도입한 부처별 ‘대표 성과지표 관리’와 구분되어 이해되고 있는가?\n",
            "-  사회보험 가입은 법적 의무이나 사업주의 비용절감, 보험 가입에 따른 근로자의 실질 가처분 소득 감소 등  \n",
            "-  혼자서 일상생활과 사회생활을 하기 어려운 장애인[9)] 대상 활동지원급여 및 최중증장애인 활동지원사 대상  \n",
            "현실적 이유로 고용 취약계층 및 소규모 사업장일수록 사회보험 가입이 저조  \n",
            "가산급여 지급으로 자립생활 및 돌봄부담 완화 지원(계속사업, ’11년~)\n",
            "-  최근 10년간 산불 발생 원인은 입산자 실화(58%), 쓰레기 소각(22%), 주택 화재 전이 등(20%)으로 정책 노력을  \n",
            "을 유도하고, 세계시장을 선도하는 글로벌 유니콘 기업으로 성장 가능성 있는 유망 창업기업의 발굴·육성  \n",
            "통해 관리 가능한 만큼 사전예방 및 피해 최소화에 역점 둔 산불대응능력 강화 필요  \n",
            "-  TIPS 운영사[20)](액셀러레이터 등)가 고급기술 창업팀에 투자·보육하고, 정부 R&D, 창업사업화 자금 등을 매칭\n",
            "-  하지만 저임금 근로자 등 고용 취약계층은 잦은 이직, 영세사업장의 빈번한 신생·소멸 등으로 소득단절 위험이  \n",
            "-  성인 발달장애인 낮시간 보장 및 보호자 돌봄부담 경감, 청소년 발달장애인 방과후 돌봄 사각지대 해소 및  \n",
            "높아 사회보험 가입이 특히 중요  \n",
            "부모 돌봄부담 경감, 24시간 지원·긴급돌봄 시범사업 등 지원(계속사업, ’13년~)\n",
            "확대해 나가되, 단계적·효율적 투자 추진  \n",
            "-  ’23년 전년 대비 298억원(2.9%) 증가한 10,764억원 규모의 예산을 투입  \n",
            "-  장애인 개인예산제 등 대규모 재정이 투입되는 신규사업의 경우 시범사업 우선 실시 후 시범사업 결과에 대한  \n",
            "(재정투자 방향) 사회보험 사각지대에 있는 저소득 근로자 및 예술인·특수형태근로종사자(특고)의 사회  \n",
            "성과평가를 거쳐 본사업 추진 여부 결정  \n",
            "보험료 적극 지원\n",
            "**【국정과제】 53. 고용안전망 강화 및 지속가능성 제고(고용보험 적용대상 확대 등)** **【소관】 보건복지부  【분야】 사회복지  【세부(내역)사업명】 장애인 활동지원(계속사업, ’11년~; ’23년 19,919억원) / 발달장애인 지원(계속사업,**  \n",
            "**【소관】 고용노동부  【분야】 사회복지  【세부(내역)사업명】 사회보험사각지대해소(계속사업, ’12년~; ’23년 10,764억원)** ’13년~; ’23년 2,569억원)\n",
            "\n",
            "--------\n",
            "\n",
            "<eos> 없음 : 사회보험 가입이 법적 의무가 아니고 사업주의 비용 절감, 보험 가입에 따른 근로자의 실질 가처분 소득 감소 등으로 고용 취약계층 및 소규모 사업장일수록 사회보험 가입이 저조하여 사각지대가 발생하고, 이로 인해 저소득 근로자, 예술인, 특수형태 근로 종사자 등이 사회보험의 보호 대상 범위 밖에 놓이게 됩니다.\n",
            "<eos> 추가 : 사회보험 가입이 법적 의무가 아니고 사업주의 비용 절감, 보험 가입에 따른 근로자의 실질 가처분 소득 감소 등으로 고용 취약계층 및 소규모 사업장일수록 사회보험 가입이 저조하여 사각지대가 발생하고, 이로 인해 저소득 근로자 등이 사회보험의 보호 대상 범위 밖에 놓이게 됩니다.\n",
            "------------------------------\n",
            "59\n",
            "재정성과관리 관련 주요 쟁점은 무엇인가?\n",
            "--------\n",
            "을 제고할 수 있음  \n",
            "**재정성과관리 관련 주요 쟁점은?**  \n",
            "**FOCUS Col1**  \n",
            "-  「국가재정법」상의 재정사업 평가인 재정사업 자율평가의 대상, 범위, 효과, 개편 등은 지속적으로 논의되어야  \n",
            "하며, 개별 법령에 따라 실시되는 평가 대상 간 중복 최소화 노력 필요  \n",
            "-  재정성과관리 결과를 재정 운용에 반영하고, 또 국민에게 알기 쉽게 홍보할 수 있도록 공개하기 위한 지속적  \n",
            "인 조치 필요  \n",
            "**임무비전**\n",
            "글에서는 지난 5월 발표된 “2021년도 국가결산”의 성과보고서를 중심으로, 우리나라의 재정성과관리 현황을 파악해 보고, 앞으로의  \n",
            "운영 방향은 무엇인지, 국제기구의 논의는 어떻게 진행되고 있는지 살펴봄으로써 재정성과관리를 명료하게 이해해 보도록 한다.  \n",
            "**Col0 Col1**\n",
            "# 재정성과관리제도  \n",
            "다. 재정성과관리는 단순 예산·결산 중심에서 벗어나  \n",
            "재정을 결과 또는 산출 지향적으로 운영하는 것으로, 산출의 우선순위를 명확하게 하는 한편 국민에게 재정이 하는 일을 보다 알기  \n",
            "쉽게 설명할 수 있기에 중요하다.  \n",
            "2021년 「국가재정법」 개정으로 성과 중심의 재정 운용의 법제도 근거가 마련되어, 한층 재정성과관리가 강화될 것으로 전망된다. 이\n",
            "성과목표 수준도 함께 정하는 것으로, 프로그램 내의 사업 간 비교 기준이 명확해지고 성과를 중심으로 재정에  \n",
            "환류하기가 용이  \n",
            "<그림 1> 프로그램 예산체계 개념  \n",
            "**왜 재정성과관리제도에 주목하는가?**  \n",
            "0 ISSUE  \n",
            "‣ 재정성과관리제도는 재정을 프로그램 단위로 구분하고, 사전 목표와 사후 평가 결과를 중심으로 관리하는  \n",
            "것을 의미\n",
            "목표치를 관리하여 국회에 보고하고 국민에게 공개  \n",
            "-  각 부처는 성과계획서·보고서 외에 재정사업에 대한 자율평가를 수행하며, 재정당국인 기획재정부는 지표가  \n",
            "적정한지 점검하고 개별 재정사업에 대한 평가를 수행할 수 있음  \n",
            "‣ 성과관리의 목적은 정부 재정의 투명성·책임성, 효율성·효과성, 예산재분배 등이 있음  \n",
            "-  사업 전략체계별 재원 배분, 성과목표와 달성도, 주요 수혜자에 대한 정보를 집약적으로 제공하여 투명성 및  \n",
            "책임성 향상\n",
            "-  재정성과관리의 최종 목표는 국민이 정부가 하는 일의 목표에서 성과에 이르는 전과정을 투명하게 알 수 있  \n",
            "게 하는 것임  \n",
            "-  재정정보의 관리 및 공개 플랫폼을 지속적으로 유지하고 발전시켜, 재정정보의 품질을 확보하기 위한 인프라  \n",
            "측면에서의 관리도 필요  \n",
            "0 매년  \n",
            "**정성과관리 관련 OECD 동향**  \n",
            "(20개 overnment at a Glance 2021\n",
            "국,\n",
            "직관적으로 알기 쉽도록 체계화  \n",
            "-  따라서 재정성과관리 체계는 사전 목표에 대한 사후 측정 및 평가, 유사한 사업 묶음 간의 표준화된 비교를  \n",
            "위한 재정사업 평가제도의 발전을 함께 수반  \n",
            "‣ 재정성과관리는 예산의 편성에서 집행, 결산에 이르는 전 과정에서 수행  \n",
            "-  재정성과관리는 예산 편성 과정에서 성과계획서를 작성하면서 시작하며, 이를 바탕으로 연간 성과지표와  \n",
            "목표치를 관리하여 국회에 보고하고 국민에게 공개\n",
            "\n",
            "--------\n",
            "\n",
            "<eos> 없음 : 국가재정법상 재정사업 평가인 재정사업 자율평가의 대상, 범위, 효과, 개편 등은 지속적으로 논의되어야 하며, 개별 법령에 따라 실시되는 평가 대상 간 중복 최소화 노력 필요, 재정성과관리 결과를 재정 운용에 반영하고, 또 국민에게 알기 쉽게 홍보할 수 있도록 공개하기 위한 지속적 인 조치 필요\n",
            "<eos> 추가 : 국가재정법상 재정사업 평가인 재정사업 자율평가의 대상, 범위, 효과, 개편 등은 지속적으로 논의되어야 하며, 개별 법령에 따라 실시되는 평가 대상 간 중복 최소화 노력 필요하며, 재정성과관리 결과를 재정 운용에 반영하고, 또 국민에게 알기 쉽게 홍보할 수 있도록 공개하기 위한 지속적인 조치 필요\n",
            "------------------------------\n",
            "74\n",
            "2007년과 2021년에 각각 「국가재정법」이 개정되면서 성과관리 제도는 어떻게 강화되고 구체화되었으며, 이 개정의 주된 목적은 무엇인가?\n",
            "--------\n",
            "# 재정성과관리제도  \n",
            "다. 재정성과관리는 단순 예산·결산 중심에서 벗어나  \n",
            "재정을 결과 또는 산출 지향적으로 운영하는 것으로, 산출의 우선순위를 명확하게 하는 한편 국민에게 재정이 하는 일을 보다 알기  \n",
            "쉽게 설명할 수 있기에 중요하다.  \n",
            "2021년 「국가재정법」 개정으로 성과 중심의 재정 운용의 법제도 근거가 마련되어, 한층 재정성과관리가 강화될 것으로 전망된다. 이\n",
            "성 확보 및 책임성 향상에 기여  \n",
            "‣ 정부는 「국가재정법」 개정(2021)을 통해 이전까지의 재정성과관리 체계 운영 결과를 종합하고 발전시킬  \n",
            "수 있도록 개선  \n",
            "-  과거의 재정성과관리는 업무를 체계화하고 인프라를 구축하였다는 의의가 있으나, 형식화, 제도적 분산 등의  \n",
            "한계를 노출  \n",
            "-  2021년도 법률에서는 성과지향적이고 투명한 재정운용을 위해  \n",
            "①성과관리의 내용을 성과목표관리 및 성과평가로 구체화\n",
            "‣ 우리나라는 예산안에 성과계획서를 제출하고 국가결산보고서 첨부서류로 성과보고서를 제출하도록 하고  \n",
            "있으나 성과관리의 실효성 강화를 위한 방향을 논의할 시점  \n",
            "-  정부는 2021년 「국가재정법」 개정으로 성과 중심 재정운용 강화를 위해 성과관리를 위한 별도의 장을 신설하  \n",
            "고 성과관리 규정을 정비  \n",
            "-  성과관리를 강화하기 위한 재정사업 평가 개편, 지원 인프라 체계 등에 대한 논의를 통해 성과관리의 실효성  \n",
            "을 제고할 수 있음\n",
            "재정관리가 강화될 것으로 전망  \n",
            "-  2021년 「국가재정법」 개정으로, 동 법에 의한 재정사업 평가와 개별 법령에 따라 실시되는 평가 대상 중복이  \n",
            "최소화되도록 하는 규정을 신설하여, 재정성과관리를 위한 재정사업 평가와 개별 법령에 따라 실시되는 평가  \n",
            "간의 관계를 최초로 규정  \n",
            "-----  \n",
            "**FIS** **ISSUE & FOCUS**  \n",
            "**03 Col1**  \n",
            "0 03  \n",
            "1\n",
            "글에서는 지난 5월 발표된 “2021년도 국가결산”의 성과보고서를 중심으로, 우리나라의 재정성과관리 현황을 파악해 보고, 앞으로의  \n",
            "운영 방향은 무엇인지, 국제기구의 논의는 어떻게 진행되고 있는지 살펴봄으로써 재정성과관리를 명료하게 이해해 보도록 한다.  \n",
            "**Col0 Col1**\n",
            "3 2021년도 재정성과관리제도 운영 결과  \n",
            "4 재정성과관리제도의 주요 현안  \n",
            "5 나가며  \n",
            "-----  \n",
            "**FIS** **ISSUE & FOCUS**  \n",
            "정부는 110대 국정과제 중 재정 정상화 및 재정의 지속  \n",
            "가능성 확보를 위해 재정성과관리체계 강화를 제시했\n",
            "\n",
            "--------\n",
            "\n",
            "<eos> 없음 : 2007년 개정으로 성과계획서 제출이 의무화되었고, 2021년 개정으로 성과관리의 내용을 성과목표관리 및 성과평가로 구체화하고 성과관리 규정을 정비하여 성과 중심 재정운용을 강화하고자 했다.\n",
            "<eos> 추가 : 2007년 개정으로 성과계획서 제출이 의무화되었고, 2021년 개정으로 성과관리의 내용을 성과목표관리 및 성과평가로 구체화하고 성과관리 위한 별도의 장을 신설하여 성과 중심 재정운용을 강화하고자 했다.\n",
            "------------------------------\n",
            "77\n",
            "재정관리시스템 구축과 성과관리 개편을 추진하는 주된 목적은 무엇인가?\n",
            "--------\n",
            "①성과관리의 내용을 성과목표관리 및 성과평가로 구체화  \n",
            "②재정사업 성과관리 기본계획 수립, 성과보고서 작성 및 성과평가 근거 마련  \n",
            "③재정사업 성과목표 관리를 위한 추진체계 마련  \n",
            "④성과평가 결과 등을 저장, 활용할 수 있는 성과정보관리시스템 구축·운영  \n",
            "⑤성과목표 관리 결과를 국무회의에 보고하여 성과 중심 재정운용 확대 및 강화  \n",
            "‣ 재정성과관리제도 개선으로 인하여 대폭 성과관리의 효과성이 강화될 것으로 전망\n",
            "## 나가며  \n",
            "**정책적 함의**  \n",
            "‣ 재정운용의 효율성, 책임성 제고를 위한 재정성과관리제도의 개선은 계속되고 있음  \n",
            "-  현 정부는 재정비전2050 수립을 위한 추진 과제로 성과관리 개편 및 재정관리시스템 구축 등을 추진하여 지  \n",
            "속적으로 제도 개선, 인프라 개선을 해나갈 전망  \n",
            "-  재정관리는 어느 한 시점에서 체제를 완비한다고 해서 되는 것이 아니며, 지속적인 제도 개선을 통해 변화하  \n",
            "는 재정 환경에 적응해 나갈 수 있어야 함\n",
            "의 기본 단위, 성과 측정과 보고를 위한 체계 확립  \n",
            "-  전 부처 재정사업에 대해 기관 전략목표-성과지표에 의한 부처의 자율적 성과관리, 재정당국의 감독 및 심층  \n",
            "평가라는 현행 재정사업 관리체계를 구축하여 운영하고 있음  \n",
            "-  이 과정에서 생산되는 정보를 정보화하여 활용할 수 있는 기반을 마련  \n",
            "-  이로 인하여 성과 중심 운영을 위한 제도를 성문화하고, 제반 인프라를 제공할 수 있게 되어 공개를 통한 투명\n",
            "을 제고할 수 있음  \n",
            "**재정성과관리 관련 주요 쟁점은?**  \n",
            "**FOCUS Col1**  \n",
            "-  「국가재정법」상의 재정사업 평가인 재정사업 자율평가의 대상, 범위, 효과, 개편 등은 지속적으로 논의되어야  \n",
            "하며, 개별 법령에 따라 실시되는 평가 대상 간 중복 최소화 노력 필요  \n",
            "-  재정성과관리 결과를 재정 운용에 반영하고, 또 국민에게 알기 쉽게 홍보할 수 있도록 공개하기 위한 지속적  \n",
            "인 조치 필요  \n",
            "**임무비전**\n",
            "목표치를 관리하여 국회에 보고하고 국민에게 공개  \n",
            "-  각 부처는 성과계획서·보고서 외에 재정사업에 대한 자율평가를 수행하며, 재정당국인 기획재정부는 지표가  \n",
            "적정한지 점검하고 개별 재정사업에 대한 평가를 수행할 수 있음  \n",
            "‣ 성과관리의 목적은 정부 재정의 투명성·책임성, 효율성·효과성, 예산재분배 등이 있음  \n",
            "-  사업 전략체계별 재원 배분, 성과목표와 달성도, 주요 수혜자에 대한 정보를 집약적으로 제공하여 투명성 및  \n",
            "책임성 향상\n",
            "**재정사업 자율평가의 전면 개편**  \n",
            "‣ 그간의 재정성과관리제도 변화는 성과관리의 실효성 제고, 환경 변화에 대한 적응, 평가 및 피평가자 피로  \n",
            "도 경감, 기계적인 예산과 성과관리 연동 폐지를 통한 재정사업 구조조정 합리화 등을 목적으로 이루어짐  \n",
            "-  각 부처의 목표 체계와 프로그램 예산체계는 2016년부터 일치하도록 하여 업무 중복을 경감\n",
            "직관적으로 알기 쉽도록 체계화  \n",
            "-  따라서 재정성과관리 체계는 사전 목표에 대한 사후 측정 및 평가, 유사한 사업 묶음 간의 표준화된 비교를  \n",
            "위한 재정사업 평가제도의 발전을 함께 수반  \n",
            "‣ 재정성과관리는 예산의 편성에서 집행, 결산에 이르는 전 과정에서 수행  \n",
            "-  재정성과관리는 예산 편성 과정에서 성과계획서를 작성하면서 시작하며, 이를 바탕으로 연간 성과지표와  \n",
            "목표치를 관리하여 국회에 보고하고 국민에게 공개\n",
            "\n",
            "--------\n",
            "\n",
            "<eos> 없음 : 재정관리시스템 구축과 성과관리 개편을 통해 지속적으로 제도 개선, 인프라 개선을 해나가 재정 운용의 효율성, 책임성을 제고하고자 함\n",
            "<eos> 추가 : 재정관리시스템 구축과 성과관리 개편을 통해 지속적으로 제도 개선, 인프라 개선을 해나가 변화하는 재정 환경에 적응하고, 재정운용의 효율성, 책임성을 제고할 수 있도록 한다.\n",
            "------------------------------\n",
            "80\n",
            "우발부채의 관리는 왜 중요한 이슈로 여겨지는가?\n",
            "--------\n",
            "## 들어가며  \n",
            "**ISSUE Col1**  \n",
            "**왜 우발부채에 주목하는가?**  \n",
            "‣ 국제기준 재정통계 산출에 발생주의(accrual basis)[1)] 회계기준이 적용되면서 미래의 다양한 의제의무  \n",
            "(constructive obligation)[2)]를 포괄하는 우발부채 관리에 대한 중요성 인식  \n",
            "-  기업회계에서는 우발부채 규모가 그리 크지 않아 중요한 요소가 아니지만, 공공부문에서는 재정건전성, 재정\n",
            "사용에 혼란이 있고 분류상 오류가 있는 등 체계적 관리 대안에 대한 논의가 필요한 시점  \n",
            "-  국제적으로 정부의 채무지속가능성분석(DSA)[4)]을 위한 기초자료로 활용되는 등 주요하게 인식되는 추세와  \n",
            "비교해 우리나라에서는 아직까지 체계적으로 다뤄지지 않고 있음  \n",
            "0 FOCUS **우발부채 관련 주요 쟁점은?**  \n",
            "0 FOCUS  \n",
            "‣ 우발부채 개념 및 용어 사용의 혼란, 우발부채 분류기준 재검토, 새로운 분류기준 정립\n",
            "**FIS** **ISSUE & FOCUS**  \n",
            "최근 국제기준의 재정통계 적용과 관련해 우발부채에 관한 구체적 논의가 진행 중이다. 우발부  \n",
            "채의 관리는 지속가능한 재정운영 차원에서 중요한 이슈인데, 이는 미래의 다양한 의제의무를\n",
            "우발부채 관리의 중요성에 대해 새롭게 인식할 수 있게 되기를 기대한다.  \n",
            "**01 Col1**  \n",
            "0 01  \n",
            "1\n",
            "다고 여겨 정부의 계약상 부채를 초래하지 않는 것으로 간주하며, 우발부채로 인식  \n",
            "‣ 미래사회보장급여에 대한 순의무는 계약상의 부채는 아니나 미래 발생 비용으로 여겨지는 사회보장급여를  \n",
            "의미  \n",
            "-  미래사회보장급여에 대한 순의무는 현행법과 규정에 따라 이미 가입자가 획득한 미래 급여의 현재가치에서  \n",
            "현행법과 규정에 따른 사회보장제도의 미래보험료의 순현재가치를 차감한 것을 인식\n",
            "\n",
            "--------\n",
            "\n",
            "<eos> 없음 : 우발부채의 관리가 지속 가능한 재정 운영 차원에서 중요한 이슈로 여겨지기 때문이다.\n",
            "<eos> 추가 : 우발부채의 관리가 지속가능한 재정운영 차원에서 중요한 이슈로 여겨지기 때문이다.\n",
            "------------------------------\n"
          ]
        }
      ]
    },
    {
      "cell_type": "code",
      "source": [],
      "metadata": {
        "id": "YCCR3pVzxYRm"
      },
      "execution_count": null,
      "outputs": []
    }
  ],
  "metadata": {
    "accelerator": "GPU",
    "colab": {
      "collapsed_sections": [
        "AFuh6k7hD47P"
      ],
      "gpuType": "A100",
      "machine_shape": "hm",
      "provenance": []
    },
    "kernelspec": {
      "display_name": "Python 3",
      "name": "python3"
    },
    "language_info": {
      "codemirror_mode": {
        "name": "ipython",
        "version": 3
      },
      "file_extension": ".py",
      "mimetype": "text/x-python",
      "name": "python",
      "nbconvert_exporter": "python",
      "pygments_lexer": "ipython3",
      "version": "3.8.12"
    },
    "widgets": {
      "application/vnd.jupyter.widget-state+json": {
        "1b5261ca9e3b4c4eb1698a9e6a0adf8a": {
          "model_module": "@jupyter-widgets/controls",
          "model_name": "HBoxModel",
          "model_module_version": "1.5.0",
          "state": {
            "_dom_classes": [],
            "_model_module": "@jupyter-widgets/controls",
            "_model_module_version": "1.5.0",
            "_model_name": "HBoxModel",
            "_view_count": null,
            "_view_module": "@jupyter-widgets/controls",
            "_view_module_version": "1.5.0",
            "_view_name": "HBoxView",
            "box_style": "",
            "children": [
              "IPY_MODEL_fcf2e79f3c4e41a8a916a807660e0218",
              "IPY_MODEL_3307458fa4cf4afc9cfcb453cb8a609f",
              "IPY_MODEL_de497d0c62ae45228ab4b6075ffed3e9"
            ],
            "layout": "IPY_MODEL_8755903d2bcc4a85b17195f84a96770b"
          }
        },
        "fcf2e79f3c4e41a8a916a807660e0218": {
          "model_module": "@jupyter-widgets/controls",
          "model_name": "HTMLModel",
          "model_module_version": "1.5.0",
          "state": {
            "_dom_classes": [],
            "_model_module": "@jupyter-widgets/controls",
            "_model_module_version": "1.5.0",
            "_model_name": "HTMLModel",
            "_view_count": null,
            "_view_module": "@jupyter-widgets/controls",
            "_view_module_version": "1.5.0",
            "_view_name": "HTMLView",
            "description": "",
            "description_tooltip": null,
            "layout": "IPY_MODEL_d44631b567e84707b4d173889bd83ec2",
            "placeholder": "​",
            "style": "IPY_MODEL_b3cc205ec43e46ce8afce10f05ab1ddb",
            "value": "Loading checkpoint shards: 100%"
          }
        },
        "3307458fa4cf4afc9cfcb453cb8a609f": {
          "model_module": "@jupyter-widgets/controls",
          "model_name": "FloatProgressModel",
          "model_module_version": "1.5.0",
          "state": {
            "_dom_classes": [],
            "_model_module": "@jupyter-widgets/controls",
            "_model_module_version": "1.5.0",
            "_model_name": "FloatProgressModel",
            "_view_count": null,
            "_view_module": "@jupyter-widgets/controls",
            "_view_module_version": "1.5.0",
            "_view_name": "ProgressView",
            "bar_style": "success",
            "description": "",
            "description_tooltip": null,
            "layout": "IPY_MODEL_0385c34a4f7a4b4aa6c5d272f1d2e1e6",
            "max": 10,
            "min": 0,
            "orientation": "horizontal",
            "style": "IPY_MODEL_ffd5a1afcd5d4b03a51892dd4f0a0c36",
            "value": 10
          }
        },
        "de497d0c62ae45228ab4b6075ffed3e9": {
          "model_module": "@jupyter-widgets/controls",
          "model_name": "HTMLModel",
          "model_module_version": "1.5.0",
          "state": {
            "_dom_classes": [],
            "_model_module": "@jupyter-widgets/controls",
            "_model_module_version": "1.5.0",
            "_model_name": "HTMLModel",
            "_view_count": null,
            "_view_module": "@jupyter-widgets/controls",
            "_view_module_version": "1.5.0",
            "_view_name": "HTMLView",
            "description": "",
            "description_tooltip": null,
            "layout": "IPY_MODEL_981cb60c416f4f5d922f9e8f18aaef66",
            "placeholder": "​",
            "style": "IPY_MODEL_4bfdfb521bf94ad2a2e9a3fbd4aedc1a",
            "value": " 10/10 [00:15&lt;00:00,  1.29s/it]"
          }
        },
        "8755903d2bcc4a85b17195f84a96770b": {
          "model_module": "@jupyter-widgets/base",
          "model_name": "LayoutModel",
          "model_module_version": "1.2.0",
          "state": {
            "_model_module": "@jupyter-widgets/base",
            "_model_module_version": "1.2.0",
            "_model_name": "LayoutModel",
            "_view_count": null,
            "_view_module": "@jupyter-widgets/base",
            "_view_module_version": "1.2.0",
            "_view_name": "LayoutView",
            "align_content": null,
            "align_items": null,
            "align_self": null,
            "border": null,
            "bottom": null,
            "display": null,
            "flex": null,
            "flex_flow": null,
            "grid_area": null,
            "grid_auto_columns": null,
            "grid_auto_flow": null,
            "grid_auto_rows": null,
            "grid_column": null,
            "grid_gap": null,
            "grid_row": null,
            "grid_template_areas": null,
            "grid_template_columns": null,
            "grid_template_rows": null,
            "height": null,
            "justify_content": null,
            "justify_items": null,
            "left": null,
            "margin": null,
            "max_height": null,
            "max_width": null,
            "min_height": null,
            "min_width": null,
            "object_fit": null,
            "object_position": null,
            "order": null,
            "overflow": null,
            "overflow_x": null,
            "overflow_y": null,
            "padding": null,
            "right": null,
            "top": null,
            "visibility": null,
            "width": null
          }
        },
        "d44631b567e84707b4d173889bd83ec2": {
          "model_module": "@jupyter-widgets/base",
          "model_name": "LayoutModel",
          "model_module_version": "1.2.0",
          "state": {
            "_model_module": "@jupyter-widgets/base",
            "_model_module_version": "1.2.0",
            "_model_name": "LayoutModel",
            "_view_count": null,
            "_view_module": "@jupyter-widgets/base",
            "_view_module_version": "1.2.0",
            "_view_name": "LayoutView",
            "align_content": null,
            "align_items": null,
            "align_self": null,
            "border": null,
            "bottom": null,
            "display": null,
            "flex": null,
            "flex_flow": null,
            "grid_area": null,
            "grid_auto_columns": null,
            "grid_auto_flow": null,
            "grid_auto_rows": null,
            "grid_column": null,
            "grid_gap": null,
            "grid_row": null,
            "grid_template_areas": null,
            "grid_template_columns": null,
            "grid_template_rows": null,
            "height": null,
            "justify_content": null,
            "justify_items": null,
            "left": null,
            "margin": null,
            "max_height": null,
            "max_width": null,
            "min_height": null,
            "min_width": null,
            "object_fit": null,
            "object_position": null,
            "order": null,
            "overflow": null,
            "overflow_x": null,
            "overflow_y": null,
            "padding": null,
            "right": null,
            "top": null,
            "visibility": null,
            "width": null
          }
        },
        "b3cc205ec43e46ce8afce10f05ab1ddb": {
          "model_module": "@jupyter-widgets/controls",
          "model_name": "DescriptionStyleModel",
          "model_module_version": "1.5.0",
          "state": {
            "_model_module": "@jupyter-widgets/controls",
            "_model_module_version": "1.5.0",
            "_model_name": "DescriptionStyleModel",
            "_view_count": null,
            "_view_module": "@jupyter-widgets/base",
            "_view_module_version": "1.2.0",
            "_view_name": "StyleView",
            "description_width": ""
          }
        },
        "0385c34a4f7a4b4aa6c5d272f1d2e1e6": {
          "model_module": "@jupyter-widgets/base",
          "model_name": "LayoutModel",
          "model_module_version": "1.2.0",
          "state": {
            "_model_module": "@jupyter-widgets/base",
            "_model_module_version": "1.2.0",
            "_model_name": "LayoutModel",
            "_view_count": null,
            "_view_module": "@jupyter-widgets/base",
            "_view_module_version": "1.2.0",
            "_view_name": "LayoutView",
            "align_content": null,
            "align_items": null,
            "align_self": null,
            "border": null,
            "bottom": null,
            "display": null,
            "flex": null,
            "flex_flow": null,
            "grid_area": null,
            "grid_auto_columns": null,
            "grid_auto_flow": null,
            "grid_auto_rows": null,
            "grid_column": null,
            "grid_gap": null,
            "grid_row": null,
            "grid_template_areas": null,
            "grid_template_columns": null,
            "grid_template_rows": null,
            "height": null,
            "justify_content": null,
            "justify_items": null,
            "left": null,
            "margin": null,
            "max_height": null,
            "max_width": null,
            "min_height": null,
            "min_width": null,
            "object_fit": null,
            "object_position": null,
            "order": null,
            "overflow": null,
            "overflow_x": null,
            "overflow_y": null,
            "padding": null,
            "right": null,
            "top": null,
            "visibility": null,
            "width": null
          }
        },
        "ffd5a1afcd5d4b03a51892dd4f0a0c36": {
          "model_module": "@jupyter-widgets/controls",
          "model_name": "ProgressStyleModel",
          "model_module_version": "1.5.0",
          "state": {
            "_model_module": "@jupyter-widgets/controls",
            "_model_module_version": "1.5.0",
            "_model_name": "ProgressStyleModel",
            "_view_count": null,
            "_view_module": "@jupyter-widgets/base",
            "_view_module_version": "1.2.0",
            "_view_name": "StyleView",
            "bar_color": null,
            "description_width": ""
          }
        },
        "981cb60c416f4f5d922f9e8f18aaef66": {
          "model_module": "@jupyter-widgets/base",
          "model_name": "LayoutModel",
          "model_module_version": "1.2.0",
          "state": {
            "_model_module": "@jupyter-widgets/base",
            "_model_module_version": "1.2.0",
            "_model_name": "LayoutModel",
            "_view_count": null,
            "_view_module": "@jupyter-widgets/base",
            "_view_module_version": "1.2.0",
            "_view_name": "LayoutView",
            "align_content": null,
            "align_items": null,
            "align_self": null,
            "border": null,
            "bottom": null,
            "display": null,
            "flex": null,
            "flex_flow": null,
            "grid_area": null,
            "grid_auto_columns": null,
            "grid_auto_flow": null,
            "grid_auto_rows": null,
            "grid_column": null,
            "grid_gap": null,
            "grid_row": null,
            "grid_template_areas": null,
            "grid_template_columns": null,
            "grid_template_rows": null,
            "height": null,
            "justify_content": null,
            "justify_items": null,
            "left": null,
            "margin": null,
            "max_height": null,
            "max_width": null,
            "min_height": null,
            "min_width": null,
            "object_fit": null,
            "object_position": null,
            "order": null,
            "overflow": null,
            "overflow_x": null,
            "overflow_y": null,
            "padding": null,
            "right": null,
            "top": null,
            "visibility": null,
            "width": null
          }
        },
        "4bfdfb521bf94ad2a2e9a3fbd4aedc1a": {
          "model_module": "@jupyter-widgets/controls",
          "model_name": "DescriptionStyleModel",
          "model_module_version": "1.5.0",
          "state": {
            "_model_module": "@jupyter-widgets/controls",
            "_model_module_version": "1.5.0",
            "_model_name": "DescriptionStyleModel",
            "_view_count": null,
            "_view_module": "@jupyter-widgets/base",
            "_view_module_version": "1.2.0",
            "_view_name": "StyleView",
            "description_width": ""
          }
        },
        "e11ab602ba414f388c034124d3d7c686": {
          "model_module": "@jupyter-widgets/controls",
          "model_name": "HBoxModel",
          "model_module_version": "1.5.0",
          "state": {
            "_dom_classes": [],
            "_model_module": "@jupyter-widgets/controls",
            "_model_module_version": "1.5.0",
            "_model_name": "HBoxModel",
            "_view_count": null,
            "_view_module": "@jupyter-widgets/controls",
            "_view_module_version": "1.5.0",
            "_view_name": "HBoxView",
            "box_style": "",
            "children": [
              "IPY_MODEL_8b1dbfa4273c4392af044addb1d4a821",
              "IPY_MODEL_a4c4719d988c44eb989599303497a19d",
              "IPY_MODEL_0b4d2825fed3414992f663b058982d06"
            ],
            "layout": "IPY_MODEL_17b904f77f1f4d34a9daf6754d72ecc0"
          }
        },
        "8b1dbfa4273c4392af044addb1d4a821": {
          "model_module": "@jupyter-widgets/controls",
          "model_name": "HTMLModel",
          "model_module_version": "1.5.0",
          "state": {
            "_dom_classes": [],
            "_model_module": "@jupyter-widgets/controls",
            "_model_module_version": "1.5.0",
            "_model_name": "HTMLModel",
            "_view_count": null,
            "_view_module": "@jupyter-widgets/controls",
            "_view_module_version": "1.5.0",
            "_view_name": "HTMLView",
            "description": "",
            "description_tooltip": null,
            "layout": "IPY_MODEL_aba2f422b43a427084c38e457d58cc92",
            "placeholder": "​",
            "style": "IPY_MODEL_1e905f65fff246a9932fd2edb4e42755",
            "value": "README.md: 100%"
          }
        },
        "a4c4719d988c44eb989599303497a19d": {
          "model_module": "@jupyter-widgets/controls",
          "model_name": "FloatProgressModel",
          "model_module_version": "1.5.0",
          "state": {
            "_dom_classes": [],
            "_model_module": "@jupyter-widgets/controls",
            "_model_module_version": "1.5.0",
            "_model_name": "FloatProgressModel",
            "_view_count": null,
            "_view_module": "@jupyter-widgets/controls",
            "_view_module_version": "1.5.0",
            "_view_name": "ProgressView",
            "bar_style": "success",
            "description": "",
            "description_tooltip": null,
            "layout": "IPY_MODEL_45b32547b3d7469c991c220c3a2485a3",
            "max": 5174,
            "min": 0,
            "orientation": "horizontal",
            "style": "IPY_MODEL_ad0b45bab5d24772a8e3c2077446f6d2",
            "value": 5174
          }
        },
        "0b4d2825fed3414992f663b058982d06": {
          "model_module": "@jupyter-widgets/controls",
          "model_name": "HTMLModel",
          "model_module_version": "1.5.0",
          "state": {
            "_dom_classes": [],
            "_model_module": "@jupyter-widgets/controls",
            "_model_module_version": "1.5.0",
            "_model_name": "HTMLModel",
            "_view_count": null,
            "_view_module": "@jupyter-widgets/controls",
            "_view_module_version": "1.5.0",
            "_view_name": "HTMLView",
            "description": "",
            "description_tooltip": null,
            "layout": "IPY_MODEL_b433a6770a97495e8472675d93305451",
            "placeholder": "​",
            "style": "IPY_MODEL_5c90c1687cd14eb0a565ed541258f81f",
            "value": " 5.17k/5.17k [00:00&lt;00:00, 384kB/s]"
          }
        },
        "17b904f77f1f4d34a9daf6754d72ecc0": {
          "model_module": "@jupyter-widgets/base",
          "model_name": "LayoutModel",
          "model_module_version": "1.2.0",
          "state": {
            "_model_module": "@jupyter-widgets/base",
            "_model_module_version": "1.2.0",
            "_model_name": "LayoutModel",
            "_view_count": null,
            "_view_module": "@jupyter-widgets/base",
            "_view_module_version": "1.2.0",
            "_view_name": "LayoutView",
            "align_content": null,
            "align_items": null,
            "align_self": null,
            "border": null,
            "bottom": null,
            "display": null,
            "flex": null,
            "flex_flow": null,
            "grid_area": null,
            "grid_auto_columns": null,
            "grid_auto_flow": null,
            "grid_auto_rows": null,
            "grid_column": null,
            "grid_gap": null,
            "grid_row": null,
            "grid_template_areas": null,
            "grid_template_columns": null,
            "grid_template_rows": null,
            "height": null,
            "justify_content": null,
            "justify_items": null,
            "left": null,
            "margin": null,
            "max_height": null,
            "max_width": null,
            "min_height": null,
            "min_width": null,
            "object_fit": null,
            "object_position": null,
            "order": null,
            "overflow": null,
            "overflow_x": null,
            "overflow_y": null,
            "padding": null,
            "right": null,
            "top": null,
            "visibility": null,
            "width": null
          }
        },
        "aba2f422b43a427084c38e457d58cc92": {
          "model_module": "@jupyter-widgets/base",
          "model_name": "LayoutModel",
          "model_module_version": "1.2.0",
          "state": {
            "_model_module": "@jupyter-widgets/base",
            "_model_module_version": "1.2.0",
            "_model_name": "LayoutModel",
            "_view_count": null,
            "_view_module": "@jupyter-widgets/base",
            "_view_module_version": "1.2.0",
            "_view_name": "LayoutView",
            "align_content": null,
            "align_items": null,
            "align_self": null,
            "border": null,
            "bottom": null,
            "display": null,
            "flex": null,
            "flex_flow": null,
            "grid_area": null,
            "grid_auto_columns": null,
            "grid_auto_flow": null,
            "grid_auto_rows": null,
            "grid_column": null,
            "grid_gap": null,
            "grid_row": null,
            "grid_template_areas": null,
            "grid_template_columns": null,
            "grid_template_rows": null,
            "height": null,
            "justify_content": null,
            "justify_items": null,
            "left": null,
            "margin": null,
            "max_height": null,
            "max_width": null,
            "min_height": null,
            "min_width": null,
            "object_fit": null,
            "object_position": null,
            "order": null,
            "overflow": null,
            "overflow_x": null,
            "overflow_y": null,
            "padding": null,
            "right": null,
            "top": null,
            "visibility": null,
            "width": null
          }
        },
        "1e905f65fff246a9932fd2edb4e42755": {
          "model_module": "@jupyter-widgets/controls",
          "model_name": "DescriptionStyleModel",
          "model_module_version": "1.5.0",
          "state": {
            "_model_module": "@jupyter-widgets/controls",
            "_model_module_version": "1.5.0",
            "_model_name": "DescriptionStyleModel",
            "_view_count": null,
            "_view_module": "@jupyter-widgets/base",
            "_view_module_version": "1.2.0",
            "_view_name": "StyleView",
            "description_width": ""
          }
        },
        "45b32547b3d7469c991c220c3a2485a3": {
          "model_module": "@jupyter-widgets/base",
          "model_name": "LayoutModel",
          "model_module_version": "1.2.0",
          "state": {
            "_model_module": "@jupyter-widgets/base",
            "_model_module_version": "1.2.0",
            "_model_name": "LayoutModel",
            "_view_count": null,
            "_view_module": "@jupyter-widgets/base",
            "_view_module_version": "1.2.0",
            "_view_name": "LayoutView",
            "align_content": null,
            "align_items": null,
            "align_self": null,
            "border": null,
            "bottom": null,
            "display": null,
            "flex": null,
            "flex_flow": null,
            "grid_area": null,
            "grid_auto_columns": null,
            "grid_auto_flow": null,
            "grid_auto_rows": null,
            "grid_column": null,
            "grid_gap": null,
            "grid_row": null,
            "grid_template_areas": null,
            "grid_template_columns": null,
            "grid_template_rows": null,
            "height": null,
            "justify_content": null,
            "justify_items": null,
            "left": null,
            "margin": null,
            "max_height": null,
            "max_width": null,
            "min_height": null,
            "min_width": null,
            "object_fit": null,
            "object_position": null,
            "order": null,
            "overflow": null,
            "overflow_x": null,
            "overflow_y": null,
            "padding": null,
            "right": null,
            "top": null,
            "visibility": null,
            "width": null
          }
        },
        "ad0b45bab5d24772a8e3c2077446f6d2": {
          "model_module": "@jupyter-widgets/controls",
          "model_name": "ProgressStyleModel",
          "model_module_version": "1.5.0",
          "state": {
            "_model_module": "@jupyter-widgets/controls",
            "_model_module_version": "1.5.0",
            "_model_name": "ProgressStyleModel",
            "_view_count": null,
            "_view_module": "@jupyter-widgets/base",
            "_view_module_version": "1.2.0",
            "_view_name": "StyleView",
            "bar_color": null,
            "description_width": ""
          }
        },
        "b433a6770a97495e8472675d93305451": {
          "model_module": "@jupyter-widgets/base",
          "model_name": "LayoutModel",
          "model_module_version": "1.2.0",
          "state": {
            "_model_module": "@jupyter-widgets/base",
            "_model_module_version": "1.2.0",
            "_model_name": "LayoutModel",
            "_view_count": null,
            "_view_module": "@jupyter-widgets/base",
            "_view_module_version": "1.2.0",
            "_view_name": "LayoutView",
            "align_content": null,
            "align_items": null,
            "align_self": null,
            "border": null,
            "bottom": null,
            "display": null,
            "flex": null,
            "flex_flow": null,
            "grid_area": null,
            "grid_auto_columns": null,
            "grid_auto_flow": null,
            "grid_auto_rows": null,
            "grid_column": null,
            "grid_gap": null,
            "grid_row": null,
            "grid_template_areas": null,
            "grid_template_columns": null,
            "grid_template_rows": null,
            "height": null,
            "justify_content": null,
            "justify_items": null,
            "left": null,
            "margin": null,
            "max_height": null,
            "max_width": null,
            "min_height": null,
            "min_width": null,
            "object_fit": null,
            "object_position": null,
            "order": null,
            "overflow": null,
            "overflow_x": null,
            "overflow_y": null,
            "padding": null,
            "right": null,
            "top": null,
            "visibility": null,
            "width": null
          }
        },
        "5c90c1687cd14eb0a565ed541258f81f": {
          "model_module": "@jupyter-widgets/controls",
          "model_name": "DescriptionStyleModel",
          "model_module_version": "1.5.0",
          "state": {
            "_model_module": "@jupyter-widgets/controls",
            "_model_module_version": "1.5.0",
            "_model_name": "DescriptionStyleModel",
            "_view_count": null,
            "_view_module": "@jupyter-widgets/base",
            "_view_module_version": "1.2.0",
            "_view_name": "StyleView",
            "description_width": ""
          }
        },
        "e69feee25f614a26b654966f99f0f7cc": {
          "model_module": "@jupyter-widgets/controls",
          "model_name": "HBoxModel",
          "model_module_version": "1.5.0",
          "state": {
            "_dom_classes": [],
            "_model_module": "@jupyter-widgets/controls",
            "_model_module_version": "1.5.0",
            "_model_name": "HBoxModel",
            "_view_count": null,
            "_view_module": "@jupyter-widgets/controls",
            "_view_module_version": "1.5.0",
            "_view_name": "HBoxView",
            "box_style": "",
            "children": [
              "IPY_MODEL_d62927eb389c49498ef8113ad137be86",
              "IPY_MODEL_e55fc3dde4e3482b95e66b02779b8737",
              "IPY_MODEL_d793d73a64ff47859fe62d7f3eba2b9f"
            ],
            "layout": "IPY_MODEL_5fc795f94ced4f4188e45c059c65969a"
          }
        },
        "d62927eb389c49498ef8113ad137be86": {
          "model_module": "@jupyter-widgets/controls",
          "model_name": "HTMLModel",
          "model_module_version": "1.5.0",
          "state": {
            "_dom_classes": [],
            "_model_module": "@jupyter-widgets/controls",
            "_model_module_version": "1.5.0",
            "_model_name": "HTMLModel",
            "_view_count": null,
            "_view_module": "@jupyter-widgets/controls",
            "_view_module_version": "1.5.0",
            "_view_name": "HTMLView",
            "description": "",
            "description_tooltip": null,
            "layout": "IPY_MODEL_d8f01c62e19049618a4bb72d61b396a9",
            "placeholder": "​",
            "style": "IPY_MODEL_7cd5f6663c2c4c2bb692971090dad5c4",
            "value": "Loading checkpoint shards: 100%"
          }
        },
        "e55fc3dde4e3482b95e66b02779b8737": {
          "model_module": "@jupyter-widgets/controls",
          "model_name": "FloatProgressModel",
          "model_module_version": "1.5.0",
          "state": {
            "_dom_classes": [],
            "_model_module": "@jupyter-widgets/controls",
            "_model_module_version": "1.5.0",
            "_model_name": "FloatProgressModel",
            "_view_count": null,
            "_view_module": "@jupyter-widgets/controls",
            "_view_module_version": "1.5.0",
            "_view_name": "ProgressView",
            "bar_style": "success",
            "description": "",
            "description_tooltip": null,
            "layout": "IPY_MODEL_e4979cd21b454b53b73cd470b94a3928",
            "max": 10,
            "min": 0,
            "orientation": "horizontal",
            "style": "IPY_MODEL_2608c141d95d4cb191527299782943cd",
            "value": 10
          }
        },
        "d793d73a64ff47859fe62d7f3eba2b9f": {
          "model_module": "@jupyter-widgets/controls",
          "model_name": "HTMLModel",
          "model_module_version": "1.5.0",
          "state": {
            "_dom_classes": [],
            "_model_module": "@jupyter-widgets/controls",
            "_model_module_version": "1.5.0",
            "_model_name": "HTMLModel",
            "_view_count": null,
            "_view_module": "@jupyter-widgets/controls",
            "_view_module_version": "1.5.0",
            "_view_name": "HTMLView",
            "description": "",
            "description_tooltip": null,
            "layout": "IPY_MODEL_f4fe86ed5fa546cc96b03a973efdda23",
            "placeholder": "​",
            "style": "IPY_MODEL_ec945944653d4c81b0632cc4cc83b110",
            "value": " 10/10 [00:13&lt;00:00,  1.27s/it]"
          }
        },
        "5fc795f94ced4f4188e45c059c65969a": {
          "model_module": "@jupyter-widgets/base",
          "model_name": "LayoutModel",
          "model_module_version": "1.2.0",
          "state": {
            "_model_module": "@jupyter-widgets/base",
            "_model_module_version": "1.2.0",
            "_model_name": "LayoutModel",
            "_view_count": null,
            "_view_module": "@jupyter-widgets/base",
            "_view_module_version": "1.2.0",
            "_view_name": "LayoutView",
            "align_content": null,
            "align_items": null,
            "align_self": null,
            "border": null,
            "bottom": null,
            "display": null,
            "flex": null,
            "flex_flow": null,
            "grid_area": null,
            "grid_auto_columns": null,
            "grid_auto_flow": null,
            "grid_auto_rows": null,
            "grid_column": null,
            "grid_gap": null,
            "grid_row": null,
            "grid_template_areas": null,
            "grid_template_columns": null,
            "grid_template_rows": null,
            "height": null,
            "justify_content": null,
            "justify_items": null,
            "left": null,
            "margin": null,
            "max_height": null,
            "max_width": null,
            "min_height": null,
            "min_width": null,
            "object_fit": null,
            "object_position": null,
            "order": null,
            "overflow": null,
            "overflow_x": null,
            "overflow_y": null,
            "padding": null,
            "right": null,
            "top": null,
            "visibility": null,
            "width": null
          }
        },
        "d8f01c62e19049618a4bb72d61b396a9": {
          "model_module": "@jupyter-widgets/base",
          "model_name": "LayoutModel",
          "model_module_version": "1.2.0",
          "state": {
            "_model_module": "@jupyter-widgets/base",
            "_model_module_version": "1.2.0",
            "_model_name": "LayoutModel",
            "_view_count": null,
            "_view_module": "@jupyter-widgets/base",
            "_view_module_version": "1.2.0",
            "_view_name": "LayoutView",
            "align_content": null,
            "align_items": null,
            "align_self": null,
            "border": null,
            "bottom": null,
            "display": null,
            "flex": null,
            "flex_flow": null,
            "grid_area": null,
            "grid_auto_columns": null,
            "grid_auto_flow": null,
            "grid_auto_rows": null,
            "grid_column": null,
            "grid_gap": null,
            "grid_row": null,
            "grid_template_areas": null,
            "grid_template_columns": null,
            "grid_template_rows": null,
            "height": null,
            "justify_content": null,
            "justify_items": null,
            "left": null,
            "margin": null,
            "max_height": null,
            "max_width": null,
            "min_height": null,
            "min_width": null,
            "object_fit": null,
            "object_position": null,
            "order": null,
            "overflow": null,
            "overflow_x": null,
            "overflow_y": null,
            "padding": null,
            "right": null,
            "top": null,
            "visibility": null,
            "width": null
          }
        },
        "7cd5f6663c2c4c2bb692971090dad5c4": {
          "model_module": "@jupyter-widgets/controls",
          "model_name": "DescriptionStyleModel",
          "model_module_version": "1.5.0",
          "state": {
            "_model_module": "@jupyter-widgets/controls",
            "_model_module_version": "1.5.0",
            "_model_name": "DescriptionStyleModel",
            "_view_count": null,
            "_view_module": "@jupyter-widgets/base",
            "_view_module_version": "1.2.0",
            "_view_name": "StyleView",
            "description_width": ""
          }
        },
        "e4979cd21b454b53b73cd470b94a3928": {
          "model_module": "@jupyter-widgets/base",
          "model_name": "LayoutModel",
          "model_module_version": "1.2.0",
          "state": {
            "_model_module": "@jupyter-widgets/base",
            "_model_module_version": "1.2.0",
            "_model_name": "LayoutModel",
            "_view_count": null,
            "_view_module": "@jupyter-widgets/base",
            "_view_module_version": "1.2.0",
            "_view_name": "LayoutView",
            "align_content": null,
            "align_items": null,
            "align_self": null,
            "border": null,
            "bottom": null,
            "display": null,
            "flex": null,
            "flex_flow": null,
            "grid_area": null,
            "grid_auto_columns": null,
            "grid_auto_flow": null,
            "grid_auto_rows": null,
            "grid_column": null,
            "grid_gap": null,
            "grid_row": null,
            "grid_template_areas": null,
            "grid_template_columns": null,
            "grid_template_rows": null,
            "height": null,
            "justify_content": null,
            "justify_items": null,
            "left": null,
            "margin": null,
            "max_height": null,
            "max_width": null,
            "min_height": null,
            "min_width": null,
            "object_fit": null,
            "object_position": null,
            "order": null,
            "overflow": null,
            "overflow_x": null,
            "overflow_y": null,
            "padding": null,
            "right": null,
            "top": null,
            "visibility": null,
            "width": null
          }
        },
        "2608c141d95d4cb191527299782943cd": {
          "model_module": "@jupyter-widgets/controls",
          "model_name": "ProgressStyleModel",
          "model_module_version": "1.5.0",
          "state": {
            "_model_module": "@jupyter-widgets/controls",
            "_model_module_version": "1.5.0",
            "_model_name": "ProgressStyleModel",
            "_view_count": null,
            "_view_module": "@jupyter-widgets/base",
            "_view_module_version": "1.2.0",
            "_view_name": "StyleView",
            "bar_color": null,
            "description_width": ""
          }
        },
        "f4fe86ed5fa546cc96b03a973efdda23": {
          "model_module": "@jupyter-widgets/base",
          "model_name": "LayoutModel",
          "model_module_version": "1.2.0",
          "state": {
            "_model_module": "@jupyter-widgets/base",
            "_model_module_version": "1.2.0",
            "_model_name": "LayoutModel",
            "_view_count": null,
            "_view_module": "@jupyter-widgets/base",
            "_view_module_version": "1.2.0",
            "_view_name": "LayoutView",
            "align_content": null,
            "align_items": null,
            "align_self": null,
            "border": null,
            "bottom": null,
            "display": null,
            "flex": null,
            "flex_flow": null,
            "grid_area": null,
            "grid_auto_columns": null,
            "grid_auto_flow": null,
            "grid_auto_rows": null,
            "grid_column": null,
            "grid_gap": null,
            "grid_row": null,
            "grid_template_areas": null,
            "grid_template_columns": null,
            "grid_template_rows": null,
            "height": null,
            "justify_content": null,
            "justify_items": null,
            "left": null,
            "margin": null,
            "max_height": null,
            "max_width": null,
            "min_height": null,
            "min_width": null,
            "object_fit": null,
            "object_position": null,
            "order": null,
            "overflow": null,
            "overflow_x": null,
            "overflow_y": null,
            "padding": null,
            "right": null,
            "top": null,
            "visibility": null,
            "width": null
          }
        },
        "ec945944653d4c81b0632cc4cc83b110": {
          "model_module": "@jupyter-widgets/controls",
          "model_name": "DescriptionStyleModel",
          "model_module_version": "1.5.0",
          "state": {
            "_model_module": "@jupyter-widgets/controls",
            "_model_module_version": "1.5.0",
            "_model_name": "DescriptionStyleModel",
            "_view_count": null,
            "_view_module": "@jupyter-widgets/base",
            "_view_module_version": "1.2.0",
            "_view_name": "StyleView",
            "description_width": ""
          }
        },
        "9441a229b2a64852aebb9c821b569725": {
          "model_module": "@jupyter-widgets/controls",
          "model_name": "HBoxModel",
          "model_module_version": "1.5.0",
          "state": {
            "_dom_classes": [],
            "_model_module": "@jupyter-widgets/controls",
            "_model_module_version": "1.5.0",
            "_model_name": "HBoxModel",
            "_view_count": null,
            "_view_module": "@jupyter-widgets/controls",
            "_view_module_version": "1.5.0",
            "_view_name": "HBoxView",
            "box_style": "",
            "children": [
              "IPY_MODEL_f75c3215ea144ca98057d0c4615adc38",
              "IPY_MODEL_74a359849d794d9e93e4aaa3a3312726",
              "IPY_MODEL_fffb42a85cc044cb85e8d135c1be24ee"
            ],
            "layout": "IPY_MODEL_a3ef78da17ad4d00be15011272c23328"
          }
        },
        "f75c3215ea144ca98057d0c4615adc38": {
          "model_module": "@jupyter-widgets/controls",
          "model_name": "HTMLModel",
          "model_module_version": "1.5.0",
          "state": {
            "_dom_classes": [],
            "_model_module": "@jupyter-widgets/controls",
            "_model_module_version": "1.5.0",
            "_model_name": "HTMLModel",
            "_view_count": null,
            "_view_module": "@jupyter-widgets/controls",
            "_view_module_version": "1.5.0",
            "_view_name": "HTMLView",
            "description": "",
            "description_tooltip": null,
            "layout": "IPY_MODEL_aac31f25f5df4d7582b69959b2082824",
            "placeholder": "​",
            "style": "IPY_MODEL_51cbdcd443b64b759d75dc9e928a924a",
            "value": "adapter_config.json: 100%"
          }
        },
        "74a359849d794d9e93e4aaa3a3312726": {
          "model_module": "@jupyter-widgets/controls",
          "model_name": "FloatProgressModel",
          "model_module_version": "1.5.0",
          "state": {
            "_dom_classes": [],
            "_model_module": "@jupyter-widgets/controls",
            "_model_module_version": "1.5.0",
            "_model_name": "FloatProgressModel",
            "_view_count": null,
            "_view_module": "@jupyter-widgets/controls",
            "_view_module_version": "1.5.0",
            "_view_name": "ProgressView",
            "bar_style": "success",
            "description": "",
            "description_tooltip": null,
            "layout": "IPY_MODEL_1bb9479e3c0b44d69f4658f0c02c656c",
            "max": 642,
            "min": 0,
            "orientation": "horizontal",
            "style": "IPY_MODEL_5c4bb7157c3f462c933ccaf42f09f873",
            "value": 642
          }
        },
        "fffb42a85cc044cb85e8d135c1be24ee": {
          "model_module": "@jupyter-widgets/controls",
          "model_name": "HTMLModel",
          "model_module_version": "1.5.0",
          "state": {
            "_dom_classes": [],
            "_model_module": "@jupyter-widgets/controls",
            "_model_module_version": "1.5.0",
            "_model_name": "HTMLModel",
            "_view_count": null,
            "_view_module": "@jupyter-widgets/controls",
            "_view_module_version": "1.5.0",
            "_view_name": "HTMLView",
            "description": "",
            "description_tooltip": null,
            "layout": "IPY_MODEL_3007b94a96c44d15b415f56d849b00ae",
            "placeholder": "​",
            "style": "IPY_MODEL_d2d3f94e84d04bb2ae6dfad01e69c8e0",
            "value": " 642/642 [00:00&lt;00:00, 55.3kB/s]"
          }
        },
        "a3ef78da17ad4d00be15011272c23328": {
          "model_module": "@jupyter-widgets/base",
          "model_name": "LayoutModel",
          "model_module_version": "1.2.0",
          "state": {
            "_model_module": "@jupyter-widgets/base",
            "_model_module_version": "1.2.0",
            "_model_name": "LayoutModel",
            "_view_count": null,
            "_view_module": "@jupyter-widgets/base",
            "_view_module_version": "1.2.0",
            "_view_name": "LayoutView",
            "align_content": null,
            "align_items": null,
            "align_self": null,
            "border": null,
            "bottom": null,
            "display": null,
            "flex": null,
            "flex_flow": null,
            "grid_area": null,
            "grid_auto_columns": null,
            "grid_auto_flow": null,
            "grid_auto_rows": null,
            "grid_column": null,
            "grid_gap": null,
            "grid_row": null,
            "grid_template_areas": null,
            "grid_template_columns": null,
            "grid_template_rows": null,
            "height": null,
            "justify_content": null,
            "justify_items": null,
            "left": null,
            "margin": null,
            "max_height": null,
            "max_width": null,
            "min_height": null,
            "min_width": null,
            "object_fit": null,
            "object_position": null,
            "order": null,
            "overflow": null,
            "overflow_x": null,
            "overflow_y": null,
            "padding": null,
            "right": null,
            "top": null,
            "visibility": null,
            "width": null
          }
        },
        "aac31f25f5df4d7582b69959b2082824": {
          "model_module": "@jupyter-widgets/base",
          "model_name": "LayoutModel",
          "model_module_version": "1.2.0",
          "state": {
            "_model_module": "@jupyter-widgets/base",
            "_model_module_version": "1.2.0",
            "_model_name": "LayoutModel",
            "_view_count": null,
            "_view_module": "@jupyter-widgets/base",
            "_view_module_version": "1.2.0",
            "_view_name": "LayoutView",
            "align_content": null,
            "align_items": null,
            "align_self": null,
            "border": null,
            "bottom": null,
            "display": null,
            "flex": null,
            "flex_flow": null,
            "grid_area": null,
            "grid_auto_columns": null,
            "grid_auto_flow": null,
            "grid_auto_rows": null,
            "grid_column": null,
            "grid_gap": null,
            "grid_row": null,
            "grid_template_areas": null,
            "grid_template_columns": null,
            "grid_template_rows": null,
            "height": null,
            "justify_content": null,
            "justify_items": null,
            "left": null,
            "margin": null,
            "max_height": null,
            "max_width": null,
            "min_height": null,
            "min_width": null,
            "object_fit": null,
            "object_position": null,
            "order": null,
            "overflow": null,
            "overflow_x": null,
            "overflow_y": null,
            "padding": null,
            "right": null,
            "top": null,
            "visibility": null,
            "width": null
          }
        },
        "51cbdcd443b64b759d75dc9e928a924a": {
          "model_module": "@jupyter-widgets/controls",
          "model_name": "DescriptionStyleModel",
          "model_module_version": "1.5.0",
          "state": {
            "_model_module": "@jupyter-widgets/controls",
            "_model_module_version": "1.5.0",
            "_model_name": "DescriptionStyleModel",
            "_view_count": null,
            "_view_module": "@jupyter-widgets/base",
            "_view_module_version": "1.2.0",
            "_view_name": "StyleView",
            "description_width": ""
          }
        },
        "1bb9479e3c0b44d69f4658f0c02c656c": {
          "model_module": "@jupyter-widgets/base",
          "model_name": "LayoutModel",
          "model_module_version": "1.2.0",
          "state": {
            "_model_module": "@jupyter-widgets/base",
            "_model_module_version": "1.2.0",
            "_model_name": "LayoutModel",
            "_view_count": null,
            "_view_module": "@jupyter-widgets/base",
            "_view_module_version": "1.2.0",
            "_view_name": "LayoutView",
            "align_content": null,
            "align_items": null,
            "align_self": null,
            "border": null,
            "bottom": null,
            "display": null,
            "flex": null,
            "flex_flow": null,
            "grid_area": null,
            "grid_auto_columns": null,
            "grid_auto_flow": null,
            "grid_auto_rows": null,
            "grid_column": null,
            "grid_gap": null,
            "grid_row": null,
            "grid_template_areas": null,
            "grid_template_columns": null,
            "grid_template_rows": null,
            "height": null,
            "justify_content": null,
            "justify_items": null,
            "left": null,
            "margin": null,
            "max_height": null,
            "max_width": null,
            "min_height": null,
            "min_width": null,
            "object_fit": null,
            "object_position": null,
            "order": null,
            "overflow": null,
            "overflow_x": null,
            "overflow_y": null,
            "padding": null,
            "right": null,
            "top": null,
            "visibility": null,
            "width": null
          }
        },
        "5c4bb7157c3f462c933ccaf42f09f873": {
          "model_module": "@jupyter-widgets/controls",
          "model_name": "ProgressStyleModel",
          "model_module_version": "1.5.0",
          "state": {
            "_model_module": "@jupyter-widgets/controls",
            "_model_module_version": "1.5.0",
            "_model_name": "ProgressStyleModel",
            "_view_count": null,
            "_view_module": "@jupyter-widgets/base",
            "_view_module_version": "1.2.0",
            "_view_name": "StyleView",
            "bar_color": null,
            "description_width": ""
          }
        },
        "3007b94a96c44d15b415f56d849b00ae": {
          "model_module": "@jupyter-widgets/base",
          "model_name": "LayoutModel",
          "model_module_version": "1.2.0",
          "state": {
            "_model_module": "@jupyter-widgets/base",
            "_model_module_version": "1.2.0",
            "_model_name": "LayoutModel",
            "_view_count": null,
            "_view_module": "@jupyter-widgets/base",
            "_view_module_version": "1.2.0",
            "_view_name": "LayoutView",
            "align_content": null,
            "align_items": null,
            "align_self": null,
            "border": null,
            "bottom": null,
            "display": null,
            "flex": null,
            "flex_flow": null,
            "grid_area": null,
            "grid_auto_columns": null,
            "grid_auto_flow": null,
            "grid_auto_rows": null,
            "grid_column": null,
            "grid_gap": null,
            "grid_row": null,
            "grid_template_areas": null,
            "grid_template_columns": null,
            "grid_template_rows": null,
            "height": null,
            "justify_content": null,
            "justify_items": null,
            "left": null,
            "margin": null,
            "max_height": null,
            "max_width": null,
            "min_height": null,
            "min_width": null,
            "object_fit": null,
            "object_position": null,
            "order": null,
            "overflow": null,
            "overflow_x": null,
            "overflow_y": null,
            "padding": null,
            "right": null,
            "top": null,
            "visibility": null,
            "width": null
          }
        },
        "d2d3f94e84d04bb2ae6dfad01e69c8e0": {
          "model_module": "@jupyter-widgets/controls",
          "model_name": "DescriptionStyleModel",
          "model_module_version": "1.5.0",
          "state": {
            "_model_module": "@jupyter-widgets/controls",
            "_model_module_version": "1.5.0",
            "_model_name": "DescriptionStyleModel",
            "_view_count": null,
            "_view_module": "@jupyter-widgets/base",
            "_view_module_version": "1.2.0",
            "_view_name": "StyleView",
            "description_width": ""
          }
        },
        "57221f34ab0d405297a444115b80fd7a": {
          "model_module": "@jupyter-widgets/controls",
          "model_name": "HBoxModel",
          "model_module_version": "1.5.0",
          "state": {
            "_dom_classes": [],
            "_model_module": "@jupyter-widgets/controls",
            "_model_module_version": "1.5.0",
            "_model_name": "HBoxModel",
            "_view_count": null,
            "_view_module": "@jupyter-widgets/controls",
            "_view_module_version": "1.5.0",
            "_view_name": "HBoxView",
            "box_style": "",
            "children": [
              "IPY_MODEL_31777aa95f3b4027b2cec7bc4054c245",
              "IPY_MODEL_8cb9f97245a346c28719fe6a7b5e1c5c",
              "IPY_MODEL_280b756f2dc64a14ac84cc1450808073"
            ],
            "layout": "IPY_MODEL_596086cdba5c41dcab5649c90ceec807"
          }
        },
        "31777aa95f3b4027b2cec7bc4054c245": {
          "model_module": "@jupyter-widgets/controls",
          "model_name": "HTMLModel",
          "model_module_version": "1.5.0",
          "state": {
            "_dom_classes": [],
            "_model_module": "@jupyter-widgets/controls",
            "_model_module_version": "1.5.0",
            "_model_name": "HTMLModel",
            "_view_count": null,
            "_view_module": "@jupyter-widgets/controls",
            "_view_module_version": "1.5.0",
            "_view_name": "HTMLView",
            "description": "",
            "description_tooltip": null,
            "layout": "IPY_MODEL_dce905fe080f49849af8c25b36601f26",
            "placeholder": "​",
            "style": "IPY_MODEL_4f5957c732304287bbe413e88db96a0e",
            "value": "adapter_model.safetensors: 100%"
          }
        },
        "8cb9f97245a346c28719fe6a7b5e1c5c": {
          "model_module": "@jupyter-widgets/controls",
          "model_name": "FloatProgressModel",
          "model_module_version": "1.5.0",
          "state": {
            "_dom_classes": [],
            "_model_module": "@jupyter-widgets/controls",
            "_model_module_version": "1.5.0",
            "_model_name": "FloatProgressModel",
            "_view_count": null,
            "_view_module": "@jupyter-widgets/controls",
            "_view_module_version": "1.5.0",
            "_view_name": "ProgressView",
            "bar_style": "success",
            "description": "",
            "description_tooltip": null,
            "layout": "IPY_MODEL_a6fa593318334ca29d9f225d34f6ab4c",
            "max": 18957480,
            "min": 0,
            "orientation": "horizontal",
            "style": "IPY_MODEL_b41cd1e061f349bc88dd1a4c10b37ab7",
            "value": 18957480
          }
        },
        "280b756f2dc64a14ac84cc1450808073": {
          "model_module": "@jupyter-widgets/controls",
          "model_name": "HTMLModel",
          "model_module_version": "1.5.0",
          "state": {
            "_dom_classes": [],
            "_model_module": "@jupyter-widgets/controls",
            "_model_module_version": "1.5.0",
            "_model_name": "HTMLModel",
            "_view_count": null,
            "_view_module": "@jupyter-widgets/controls",
            "_view_module_version": "1.5.0",
            "_view_name": "HTMLView",
            "description": "",
            "description_tooltip": null,
            "layout": "IPY_MODEL_3a8f6dddd4024587b94e85839d514f85",
            "placeholder": "​",
            "style": "IPY_MODEL_32042c66472f4b889db18fab9f5fa692",
            "value": " 19.0M/19.0M [00:00&lt;00:00, 33.0MB/s]"
          }
        },
        "596086cdba5c41dcab5649c90ceec807": {
          "model_module": "@jupyter-widgets/base",
          "model_name": "LayoutModel",
          "model_module_version": "1.2.0",
          "state": {
            "_model_module": "@jupyter-widgets/base",
            "_model_module_version": "1.2.0",
            "_model_name": "LayoutModel",
            "_view_count": null,
            "_view_module": "@jupyter-widgets/base",
            "_view_module_version": "1.2.0",
            "_view_name": "LayoutView",
            "align_content": null,
            "align_items": null,
            "align_self": null,
            "border": null,
            "bottom": null,
            "display": null,
            "flex": null,
            "flex_flow": null,
            "grid_area": null,
            "grid_auto_columns": null,
            "grid_auto_flow": null,
            "grid_auto_rows": null,
            "grid_column": null,
            "grid_gap": null,
            "grid_row": null,
            "grid_template_areas": null,
            "grid_template_columns": null,
            "grid_template_rows": null,
            "height": null,
            "justify_content": null,
            "justify_items": null,
            "left": null,
            "margin": null,
            "max_height": null,
            "max_width": null,
            "min_height": null,
            "min_width": null,
            "object_fit": null,
            "object_position": null,
            "order": null,
            "overflow": null,
            "overflow_x": null,
            "overflow_y": null,
            "padding": null,
            "right": null,
            "top": null,
            "visibility": null,
            "width": null
          }
        },
        "dce905fe080f49849af8c25b36601f26": {
          "model_module": "@jupyter-widgets/base",
          "model_name": "LayoutModel",
          "model_module_version": "1.2.0",
          "state": {
            "_model_module": "@jupyter-widgets/base",
            "_model_module_version": "1.2.0",
            "_model_name": "LayoutModel",
            "_view_count": null,
            "_view_module": "@jupyter-widgets/base",
            "_view_module_version": "1.2.0",
            "_view_name": "LayoutView",
            "align_content": null,
            "align_items": null,
            "align_self": null,
            "border": null,
            "bottom": null,
            "display": null,
            "flex": null,
            "flex_flow": null,
            "grid_area": null,
            "grid_auto_columns": null,
            "grid_auto_flow": null,
            "grid_auto_rows": null,
            "grid_column": null,
            "grid_gap": null,
            "grid_row": null,
            "grid_template_areas": null,
            "grid_template_columns": null,
            "grid_template_rows": null,
            "height": null,
            "justify_content": null,
            "justify_items": null,
            "left": null,
            "margin": null,
            "max_height": null,
            "max_width": null,
            "min_height": null,
            "min_width": null,
            "object_fit": null,
            "object_position": null,
            "order": null,
            "overflow": null,
            "overflow_x": null,
            "overflow_y": null,
            "padding": null,
            "right": null,
            "top": null,
            "visibility": null,
            "width": null
          }
        },
        "4f5957c732304287bbe413e88db96a0e": {
          "model_module": "@jupyter-widgets/controls",
          "model_name": "DescriptionStyleModel",
          "model_module_version": "1.5.0",
          "state": {
            "_model_module": "@jupyter-widgets/controls",
            "_model_module_version": "1.5.0",
            "_model_name": "DescriptionStyleModel",
            "_view_count": null,
            "_view_module": "@jupyter-widgets/base",
            "_view_module_version": "1.2.0",
            "_view_name": "StyleView",
            "description_width": ""
          }
        },
        "a6fa593318334ca29d9f225d34f6ab4c": {
          "model_module": "@jupyter-widgets/base",
          "model_name": "LayoutModel",
          "model_module_version": "1.2.0",
          "state": {
            "_model_module": "@jupyter-widgets/base",
            "_model_module_version": "1.2.0",
            "_model_name": "LayoutModel",
            "_view_count": null,
            "_view_module": "@jupyter-widgets/base",
            "_view_module_version": "1.2.0",
            "_view_name": "LayoutView",
            "align_content": null,
            "align_items": null,
            "align_self": null,
            "border": null,
            "bottom": null,
            "display": null,
            "flex": null,
            "flex_flow": null,
            "grid_area": null,
            "grid_auto_columns": null,
            "grid_auto_flow": null,
            "grid_auto_rows": null,
            "grid_column": null,
            "grid_gap": null,
            "grid_row": null,
            "grid_template_areas": null,
            "grid_template_columns": null,
            "grid_template_rows": null,
            "height": null,
            "justify_content": null,
            "justify_items": null,
            "left": null,
            "margin": null,
            "max_height": null,
            "max_width": null,
            "min_height": null,
            "min_width": null,
            "object_fit": null,
            "object_position": null,
            "order": null,
            "overflow": null,
            "overflow_x": null,
            "overflow_y": null,
            "padding": null,
            "right": null,
            "top": null,
            "visibility": null,
            "width": null
          }
        },
        "b41cd1e061f349bc88dd1a4c10b37ab7": {
          "model_module": "@jupyter-widgets/controls",
          "model_name": "ProgressStyleModel",
          "model_module_version": "1.5.0",
          "state": {
            "_model_module": "@jupyter-widgets/controls",
            "_model_module_version": "1.5.0",
            "_model_name": "ProgressStyleModel",
            "_view_count": null,
            "_view_module": "@jupyter-widgets/base",
            "_view_module_version": "1.2.0",
            "_view_name": "StyleView",
            "bar_color": null,
            "description_width": ""
          }
        },
        "3a8f6dddd4024587b94e85839d514f85": {
          "model_module": "@jupyter-widgets/base",
          "model_name": "LayoutModel",
          "model_module_version": "1.2.0",
          "state": {
            "_model_module": "@jupyter-widgets/base",
            "_model_module_version": "1.2.0",
            "_model_name": "LayoutModel",
            "_view_count": null,
            "_view_module": "@jupyter-widgets/base",
            "_view_module_version": "1.2.0",
            "_view_name": "LayoutView",
            "align_content": null,
            "align_items": null,
            "align_self": null,
            "border": null,
            "bottom": null,
            "display": null,
            "flex": null,
            "flex_flow": null,
            "grid_area": null,
            "grid_auto_columns": null,
            "grid_auto_flow": null,
            "grid_auto_rows": null,
            "grid_column": null,
            "grid_gap": null,
            "grid_row": null,
            "grid_template_areas": null,
            "grid_template_columns": null,
            "grid_template_rows": null,
            "height": null,
            "justify_content": null,
            "justify_items": null,
            "left": null,
            "margin": null,
            "max_height": null,
            "max_width": null,
            "min_height": null,
            "min_width": null,
            "object_fit": null,
            "object_position": null,
            "order": null,
            "overflow": null,
            "overflow_x": null,
            "overflow_y": null,
            "padding": null,
            "right": null,
            "top": null,
            "visibility": null,
            "width": null
          }
        },
        "32042c66472f4b889db18fab9f5fa692": {
          "model_module": "@jupyter-widgets/controls",
          "model_name": "DescriptionStyleModel",
          "model_module_version": "1.5.0",
          "state": {
            "_model_module": "@jupyter-widgets/controls",
            "_model_module_version": "1.5.0",
            "_model_name": "DescriptionStyleModel",
            "_view_count": null,
            "_view_module": "@jupyter-widgets/base",
            "_view_module_version": "1.2.0",
            "_view_name": "StyleView",
            "description_width": ""
          }
        },
        "a9c42338093846b9a4e7fde9534d9a08": {
          "model_module": "@jupyter-widgets/controls",
          "model_name": "HBoxModel",
          "model_module_version": "1.5.0",
          "state": {
            "_dom_classes": [],
            "_model_module": "@jupyter-widgets/controls",
            "_model_module_version": "1.5.0",
            "_model_name": "HBoxModel",
            "_view_count": null,
            "_view_module": "@jupyter-widgets/controls",
            "_view_module_version": "1.5.0",
            "_view_name": "HBoxView",
            "box_style": "",
            "children": [
              "IPY_MODEL_9a5bfcb9770b46b8baa21361b8126d6f",
              "IPY_MODEL_5100b5812fed4649a07f71be86ca4309",
              "IPY_MODEL_dd30ecfc4c7343a88b542314ae7cae5a"
            ],
            "layout": "IPY_MODEL_145f62ab6182411296b34dd496e35478"
          }
        },
        "9a5bfcb9770b46b8baa21361b8126d6f": {
          "model_module": "@jupyter-widgets/controls",
          "model_name": "HTMLModel",
          "model_module_version": "1.5.0",
          "state": {
            "_dom_classes": [],
            "_model_module": "@jupyter-widgets/controls",
            "_model_module_version": "1.5.0",
            "_model_name": "HTMLModel",
            "_view_count": null,
            "_view_module": "@jupyter-widgets/controls",
            "_view_module_version": "1.5.0",
            "_view_name": "HTMLView",
            "description": "",
            "description_tooltip": null,
            "layout": "IPY_MODEL_660e003f2cc1479190a4b9b17e2c29f2",
            "placeholder": "​",
            "style": "IPY_MODEL_2f2f6f0f72ae4f35bb0b53e998cea530",
            "value": "Answering Questions: 100%"
          }
        },
        "5100b5812fed4649a07f71be86ca4309": {
          "model_module": "@jupyter-widgets/controls",
          "model_name": "FloatProgressModel",
          "model_module_version": "1.5.0",
          "state": {
            "_dom_classes": [],
            "_model_module": "@jupyter-widgets/controls",
            "_model_module_version": "1.5.0",
            "_model_name": "FloatProgressModel",
            "_view_count": null,
            "_view_module": "@jupyter-widgets/controls",
            "_view_module_version": "1.5.0",
            "_view_name": "ProgressView",
            "bar_style": "success",
            "description": "",
            "description_tooltip": null,
            "layout": "IPY_MODEL_4b3feb64d9aa4de5bc7ba33c0269732e",
            "max": 98,
            "min": 0,
            "orientation": "horizontal",
            "style": "IPY_MODEL_cc612c4c40c5457493f78dd8905ff6d9",
            "value": 98
          }
        },
        "dd30ecfc4c7343a88b542314ae7cae5a": {
          "model_module": "@jupyter-widgets/controls",
          "model_name": "HTMLModel",
          "model_module_version": "1.5.0",
          "state": {
            "_dom_classes": [],
            "_model_module": "@jupyter-widgets/controls",
            "_model_module_version": "1.5.0",
            "_model_name": "HTMLModel",
            "_view_count": null,
            "_view_module": "@jupyter-widgets/controls",
            "_view_module_version": "1.5.0",
            "_view_name": "HTMLView",
            "description": "",
            "description_tooltip": null,
            "layout": "IPY_MODEL_aff4e355f74c462d97015757fe79b997",
            "placeholder": "​",
            "style": "IPY_MODEL_a28eccb95c004a77992e9ffeda9e49f1",
            "value": " 98/98 [22:15&lt;00:00, 24.83s/it]"
          }
        },
        "145f62ab6182411296b34dd496e35478": {
          "model_module": "@jupyter-widgets/base",
          "model_name": "LayoutModel",
          "model_module_version": "1.2.0",
          "state": {
            "_model_module": "@jupyter-widgets/base",
            "_model_module_version": "1.2.0",
            "_model_name": "LayoutModel",
            "_view_count": null,
            "_view_module": "@jupyter-widgets/base",
            "_view_module_version": "1.2.0",
            "_view_name": "LayoutView",
            "align_content": null,
            "align_items": null,
            "align_self": null,
            "border": null,
            "bottom": null,
            "display": null,
            "flex": null,
            "flex_flow": null,
            "grid_area": null,
            "grid_auto_columns": null,
            "grid_auto_flow": null,
            "grid_auto_rows": null,
            "grid_column": null,
            "grid_gap": null,
            "grid_row": null,
            "grid_template_areas": null,
            "grid_template_columns": null,
            "grid_template_rows": null,
            "height": null,
            "justify_content": null,
            "justify_items": null,
            "left": null,
            "margin": null,
            "max_height": null,
            "max_width": null,
            "min_height": null,
            "min_width": null,
            "object_fit": null,
            "object_position": null,
            "order": null,
            "overflow": null,
            "overflow_x": null,
            "overflow_y": null,
            "padding": null,
            "right": null,
            "top": null,
            "visibility": null,
            "width": null
          }
        },
        "660e003f2cc1479190a4b9b17e2c29f2": {
          "model_module": "@jupyter-widgets/base",
          "model_name": "LayoutModel",
          "model_module_version": "1.2.0",
          "state": {
            "_model_module": "@jupyter-widgets/base",
            "_model_module_version": "1.2.0",
            "_model_name": "LayoutModel",
            "_view_count": null,
            "_view_module": "@jupyter-widgets/base",
            "_view_module_version": "1.2.0",
            "_view_name": "LayoutView",
            "align_content": null,
            "align_items": null,
            "align_self": null,
            "border": null,
            "bottom": null,
            "display": null,
            "flex": null,
            "flex_flow": null,
            "grid_area": null,
            "grid_auto_columns": null,
            "grid_auto_flow": null,
            "grid_auto_rows": null,
            "grid_column": null,
            "grid_gap": null,
            "grid_row": null,
            "grid_template_areas": null,
            "grid_template_columns": null,
            "grid_template_rows": null,
            "height": null,
            "justify_content": null,
            "justify_items": null,
            "left": null,
            "margin": null,
            "max_height": null,
            "max_width": null,
            "min_height": null,
            "min_width": null,
            "object_fit": null,
            "object_position": null,
            "order": null,
            "overflow": null,
            "overflow_x": null,
            "overflow_y": null,
            "padding": null,
            "right": null,
            "top": null,
            "visibility": null,
            "width": null
          }
        },
        "2f2f6f0f72ae4f35bb0b53e998cea530": {
          "model_module": "@jupyter-widgets/controls",
          "model_name": "DescriptionStyleModel",
          "model_module_version": "1.5.0",
          "state": {
            "_model_module": "@jupyter-widgets/controls",
            "_model_module_version": "1.5.0",
            "_model_name": "DescriptionStyleModel",
            "_view_count": null,
            "_view_module": "@jupyter-widgets/base",
            "_view_module_version": "1.2.0",
            "_view_name": "StyleView",
            "description_width": ""
          }
        },
        "4b3feb64d9aa4de5bc7ba33c0269732e": {
          "model_module": "@jupyter-widgets/base",
          "model_name": "LayoutModel",
          "model_module_version": "1.2.0",
          "state": {
            "_model_module": "@jupyter-widgets/base",
            "_model_module_version": "1.2.0",
            "_model_name": "LayoutModel",
            "_view_count": null,
            "_view_module": "@jupyter-widgets/base",
            "_view_module_version": "1.2.0",
            "_view_name": "LayoutView",
            "align_content": null,
            "align_items": null,
            "align_self": null,
            "border": null,
            "bottom": null,
            "display": null,
            "flex": null,
            "flex_flow": null,
            "grid_area": null,
            "grid_auto_columns": null,
            "grid_auto_flow": null,
            "grid_auto_rows": null,
            "grid_column": null,
            "grid_gap": null,
            "grid_row": null,
            "grid_template_areas": null,
            "grid_template_columns": null,
            "grid_template_rows": null,
            "height": null,
            "justify_content": null,
            "justify_items": null,
            "left": null,
            "margin": null,
            "max_height": null,
            "max_width": null,
            "min_height": null,
            "min_width": null,
            "object_fit": null,
            "object_position": null,
            "order": null,
            "overflow": null,
            "overflow_x": null,
            "overflow_y": null,
            "padding": null,
            "right": null,
            "top": null,
            "visibility": null,
            "width": null
          }
        },
        "cc612c4c40c5457493f78dd8905ff6d9": {
          "model_module": "@jupyter-widgets/controls",
          "model_name": "ProgressStyleModel",
          "model_module_version": "1.5.0",
          "state": {
            "_model_module": "@jupyter-widgets/controls",
            "_model_module_version": "1.5.0",
            "_model_name": "ProgressStyleModel",
            "_view_count": null,
            "_view_module": "@jupyter-widgets/base",
            "_view_module_version": "1.2.0",
            "_view_name": "StyleView",
            "bar_color": null,
            "description_width": ""
          }
        },
        "aff4e355f74c462d97015757fe79b997": {
          "model_module": "@jupyter-widgets/base",
          "model_name": "LayoutModel",
          "model_module_version": "1.2.0",
          "state": {
            "_model_module": "@jupyter-widgets/base",
            "_model_module_version": "1.2.0",
            "_model_name": "LayoutModel",
            "_view_count": null,
            "_view_module": "@jupyter-widgets/base",
            "_view_module_version": "1.2.0",
            "_view_name": "LayoutView",
            "align_content": null,
            "align_items": null,
            "align_self": null,
            "border": null,
            "bottom": null,
            "display": null,
            "flex": null,
            "flex_flow": null,
            "grid_area": null,
            "grid_auto_columns": null,
            "grid_auto_flow": null,
            "grid_auto_rows": null,
            "grid_column": null,
            "grid_gap": null,
            "grid_row": null,
            "grid_template_areas": null,
            "grid_template_columns": null,
            "grid_template_rows": null,
            "height": null,
            "justify_content": null,
            "justify_items": null,
            "left": null,
            "margin": null,
            "max_height": null,
            "max_width": null,
            "min_height": null,
            "min_width": null,
            "object_fit": null,
            "object_position": null,
            "order": null,
            "overflow": null,
            "overflow_x": null,
            "overflow_y": null,
            "padding": null,
            "right": null,
            "top": null,
            "visibility": null,
            "width": null
          }
        },
        "a28eccb95c004a77992e9ffeda9e49f1": {
          "model_module": "@jupyter-widgets/controls",
          "model_name": "DescriptionStyleModel",
          "model_module_version": "1.5.0",
          "state": {
            "_model_module": "@jupyter-widgets/controls",
            "_model_module_version": "1.5.0",
            "_model_name": "DescriptionStyleModel",
            "_view_count": null,
            "_view_module": "@jupyter-widgets/base",
            "_view_module_version": "1.2.0",
            "_view_name": "StyleView",
            "description_width": ""
          }
        }
      }
    }
  },
  "nbformat": 4,
  "nbformat_minor": 0
}