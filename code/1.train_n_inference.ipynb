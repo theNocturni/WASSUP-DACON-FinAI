{
  "cells": [
    {
      "cell_type": "code",
      "execution_count": 1,
      "metadata": {
        "colab": {
          "base_uri": "https://localhost:8080/"
        },
        "id": "L-CUvE2NhDog",
        "outputId": "fb37ba10-3019-4f78-8725-06e0269e8811"
      },
      "outputs": [
        {
          "output_type": "stream",
          "name": "stdout",
          "text": [
            "Mon Oct  7 09:32:36 2024       \n",
            "+---------------------------------------------------------------------------------------+\n",
            "| NVIDIA-SMI 535.104.05             Driver Version: 535.104.05   CUDA Version: 12.2     |\n",
            "|-----------------------------------------+----------------------+----------------------+\n",
            "| GPU  Name                 Persistence-M | Bus-Id        Disp.A | Volatile Uncorr. ECC |\n",
            "| Fan  Temp   Perf          Pwr:Usage/Cap |         Memory-Usage | GPU-Util  Compute M. |\n",
            "|                                         |                      |               MIG M. |\n",
            "|=========================================+======================+======================|\n",
            "|   0  NVIDIA A100-SXM4-40GB          Off | 00000000:00:04.0 Off |                    0 |\n",
            "| N/A   33C    P0              45W / 400W |      2MiB / 40960MiB |      0%      Default |\n",
            "|                                         |                      |             Disabled |\n",
            "+-----------------------------------------+----------------------+----------------------+\n",
            "                                                                                         \n",
            "+---------------------------------------------------------------------------------------+\n",
            "| Processes:                                                                            |\n",
            "|  GPU   GI   CI        PID   Type   Process name                            GPU Memory |\n",
            "|        ID   ID                                                             Usage      |\n",
            "|=======================================================================================|\n",
            "|  No running processes found                                                           |\n",
            "+---------------------------------------------------------------------------------------+\n"
          ]
        }
      ],
      "source": [
        "!nvidia-smi"
      ]
    },
    {
      "cell_type": "code",
      "execution_count": 2,
      "metadata": {
        "id": "_ShDDV9UGJjJ"
      },
      "outputs": [],
      "source": [
        "path = '/content/drive/MyDrive/DACON/Finance/reprocessed/'\n",
        "path = '/content/drive/MyDrive/kdt-EST-AI/project/dacon_fis/src/'\n",
        "base_directory = path # Your Base Directory"
      ]
    },
    {
      "cell_type": "code",
      "execution_count": 3,
      "metadata": {
        "id": "b20VnuxgiNd4"
      },
      "outputs": [],
      "source": [
        "dataset_name = \"kdt3/DACON-QA-large-ensemble-markdown-reprocessed-512\"\n",
        "train_name = \"kdt3/DACON-QA-large-ensemble-markdown-newprompt-512\"\n",
        "fname = \"gemma2_large_ensemble_markdown_512_3epoch_refactored.csv\""
      ]
    },
    {
      "cell_type": "markdown",
      "metadata": {
        "id": "LHsNBioph_AG"
      },
      "source": [
        "# 설명"
      ]
    },
    {
      "cell_type": "markdown",
      "metadata": {
        "id": "AFuh6k7hD47P"
      },
      "source": [
        "## Question - Answering with Retrieval\n",
        "\n",
        "본 대회의 과제는 중앙정부 재정 정보에 대한 **검색 기능**을 개선하고 활용도를 높이는 질의응답 알고리즘을 개발하는 것입니다. <br>이를 통해 방대한 재정 데이터를 일반 국민과 전문가 모두가 쉽게 접근하고 활용할 수 있도록 하는 것이 목표입니다. <br><br>\n",
        "베이스라인에서는 평가 데이터셋만을 활용하여 source pdf 마다 Vector DB를 구축한 뒤 langchain 라이브러리와 llama-2-ko-7b 모델을 사용하여 RAG 프로세스를 통해 추론하는 과정을 담고 있습니다. <br>( train_set을 활용한 훈련 과정은 포함하지 않으며, test_set  에 대한 추론만 진행합니다. )"
      ]
    },
    {
      "cell_type": "markdown",
      "metadata": {
        "id": "8S8yYYqpiRIj"
      },
      "source": [
        "## Mount/Login\n",
        "\n",
        "구글 드라이브를 마운트하고 허깅페이스에 로그인\n",
        "- 이때 허깅페이스 토큰은 kdt3 그룹에 대해 읽기/쓰기 권한이 있는 토큰이어야 함\n",
        "\n",
        "## Download Library\n",
        "필요/사용 라이브러리 다운로드\n",
        "이때 버전 문제로 설치를 한 뒤 세션을 한번 재시작해줘야 합니다\n",
        "<br>(그리고 세션 완전히 끊기면 다운로드 후 재시작을 다시 해줘야...)\n",
        "\n",
        "## Import Library\n",
        "한번 재시작했으면 위 과정 없이 Import만 실행해주면 됩니다\n",
        "\n",
        "## Vector DB\n",
        "문서를 여러 조각(chunk)로 나누고, 임베딩 유사도를 통해 관련 조각을 찾을 수 있게 DB화하는 함수들이 정의되어 있습니다.\n",
        "\n",
        "## DB 생성\n",
        "Vector DB에서 정의된 함수들로 문서 DB를 만들어줍니다.<br><br>\n",
        "이때 Train과 Test를 한번에 하려고 하면 코랩이 터질 확률이 높으므로 Train하고 Create Dataset까지 실행해 업로드 한 뒤 재시작해서 램을 비우고 Test를 하는 것이 좋습니다.<br> 또한 문서 임베딩을 어떤 모델로 할지 인자로 넘겨줄 수 있습니다\n",
        "\n",
        "## Create Dataset\n",
        "DB 생성에서 만든 db와 데이터 dataframe을 사용해 HuggingFace 데이터셋 생성 후 업로드\n",
        "\n",
        "## Fine-Tuning\n",
        "학습 데이터셋으로 모델에 대한 파인튜닝 진행 후 Huggingface에 업로드<br>\n",
        "4비트 양자화 LoRA로 파인튜닝<br>\n",
        "기반 모델 또는 넣어줄때 사용할 프롬프트, 학습 관련 하이퍼파라미터 수정 가능\n",
        "\n",
        "## Langchain 을 이용한 추론\n",
        "모델을 사용한 추론\n"
      ]
    },
    {
      "cell_type": "markdown",
      "metadata": {
        "id": "3OoRmTKDoEEg"
      },
      "source": [
        "## 실행\n",
        "### 기본\n",
        "Mount/Login -> Download Library -> 재시작 (처음 1번)\n",
        "Mount/Login -> Import Library (이후)\n",
        "\n",
        "### 데이터셋 만들기\n",
        "기본 -> Vector DB -> DB 생성 -> Create Dataset에서 첫 셀 + Train/Valid/Test 중 해당하는 셀\n",
        "\n",
        "### 모델 학습하기\n",
        "기본 -> Fine-Tuning(업로드할 위치, 데이터셋 위치, 모델 링크 확인 필수)\n",
        "\n",
        "### 학습된 모델로 추론하기\n",
        "기본 -> Langchain을 이용한 추론(모델 링크, 데이터셋 위치 확인) -> Submission(저장할 파일명 확인)"
      ]
    },
    {
      "cell_type": "markdown",
      "metadata": {
        "id": "c_CQb3rOiCHi"
      },
      "source": [
        "# Mount/Login"
      ]
    },
    {
      "cell_type": "code",
      "execution_count": 4,
      "metadata": {
        "colab": {
          "base_uri": "https://localhost:8080/"
        },
        "id": "jh2NMgNqp8Fp",
        "outputId": "6b93c1df-1764-4e4d-90d6-f86d72b83085"
      },
      "outputs": [
        {
          "output_type": "stream",
          "name": "stdout",
          "text": [
            "Drive already mounted at /content/drive; to attempt to forcibly remount, call drive.mount(\"/content/drive\", force_remount=True).\n"
          ]
        }
      ],
      "source": [
        "from google.colab import drive\n",
        "drive.mount('/content/drive')"
      ]
    },
    {
      "cell_type": "code",
      "execution_count": 5,
      "metadata": {
        "id": "oCLjeDZUNcBP"
      },
      "outputs": [],
      "source": [
        "import os\n",
        "\n",
        "token_path = os.path.join(base_directory,'data','token')\n",
        "with open(token_path,'r') as f:\n",
        "    hf_token = f.readline().strip('\\n')\n",
        "    wandb_token = f.readline().strip('\\n')"
      ]
    },
    {
      "cell_type": "code",
      "execution_count": 6,
      "metadata": {
        "colab": {
          "base_uri": "https://localhost:8080/"
        },
        "id": "i-ffQqQjdu0d",
        "outputId": "b38a7d7d-ed5c-4ab1-993d-db650e0eb29f"
      },
      "outputs": [
        {
          "output_type": "stream",
          "name": "stdout",
          "text": [
            "Token is valid (permission: fineGrained).\n",
            "Your token has been saved in your configured git credential helpers (store).\n",
            "Your token has been saved to /root/.cache/huggingface/token\n",
            "Login successful\n"
          ]
        }
      ],
      "source": [
        "from huggingface_hub import login\n",
        "\n",
        "login(token=hf_token, add_to_git_credential=True)"
      ]
    },
    {
      "cell_type": "code",
      "execution_count": 7,
      "metadata": {
        "colab": {
          "base_uri": "https://localhost:8080/"
        },
        "id": "U_NiWgYaT3tM",
        "outputId": "46b37eb6-4e94-464e-a76c-e1127971afc2"
      },
      "outputs": [
        {
          "output_type": "stream",
          "name": "stdout",
          "text": [
            "Requirement already satisfied: wandb in /usr/local/lib/python3.10/dist-packages (0.18.3)\n",
            "Requirement already satisfied: click!=8.0.0,>=7.1 in /usr/local/lib/python3.10/dist-packages (from wandb) (8.1.7)\n",
            "Requirement already satisfied: docker-pycreds>=0.4.0 in /usr/local/lib/python3.10/dist-packages (from wandb) (0.4.0)\n",
            "Requirement already satisfied: gitpython!=3.1.29,>=1.0.0 in /usr/local/lib/python3.10/dist-packages (from wandb) (3.1.43)\n",
            "Requirement already satisfied: platformdirs in /usr/local/lib/python3.10/dist-packages (from wandb) (4.3.6)\n",
            "Requirement already satisfied: protobuf!=4.21.0,!=5.28.0,<6,>=3.19.0 in /usr/local/lib/python3.10/dist-packages (from wandb) (4.25.5)\n",
            "Requirement already satisfied: psutil>=5.0.0 in /usr/local/lib/python3.10/dist-packages (from wandb) (5.9.5)\n",
            "Requirement already satisfied: pyyaml in /usr/local/lib/python3.10/dist-packages (from wandb) (6.0.2)\n",
            "Requirement already satisfied: requests<3,>=2.0.0 in /usr/local/lib/python3.10/dist-packages (from wandb) (2.32.3)\n",
            "Requirement already satisfied: sentry-sdk>=1.0.0 in /usr/local/lib/python3.10/dist-packages (from wandb) (2.15.0)\n",
            "Requirement already satisfied: setproctitle in /usr/local/lib/python3.10/dist-packages (from wandb) (1.3.3)\n",
            "Requirement already satisfied: setuptools in /usr/local/lib/python3.10/dist-packages (from wandb) (71.0.4)\n",
            "Requirement already satisfied: six>=1.4.0 in /usr/local/lib/python3.10/dist-packages (from docker-pycreds>=0.4.0->wandb) (1.16.0)\n",
            "Requirement already satisfied: gitdb<5,>=4.0.1 in /usr/local/lib/python3.10/dist-packages (from gitpython!=3.1.29,>=1.0.0->wandb) (4.0.11)\n",
            "Requirement already satisfied: charset-normalizer<4,>=2 in /usr/local/lib/python3.10/dist-packages (from requests<3,>=2.0.0->wandb) (3.3.2)\n",
            "Requirement already satisfied: idna<4,>=2.5 in /usr/local/lib/python3.10/dist-packages (from requests<3,>=2.0.0->wandb) (3.10)\n",
            "Requirement already satisfied: urllib3<3,>=1.21.1 in /usr/local/lib/python3.10/dist-packages (from requests<3,>=2.0.0->wandb) (2.2.3)\n",
            "Requirement already satisfied: certifi>=2017.4.17 in /usr/local/lib/python3.10/dist-packages (from requests<3,>=2.0.0->wandb) (2024.8.30)\n",
            "Requirement already satisfied: smmap<6,>=3.0.1 in /usr/local/lib/python3.10/dist-packages (from gitdb<5,>=4.0.1->gitpython!=3.1.29,>=1.0.0->wandb) (5.0.1)\n"
          ]
        },
        {
          "output_type": "stream",
          "name": "stderr",
          "text": [
            "\u001b[34m\u001b[1mwandb\u001b[0m: Using wandb-core as the SDK backend. Please refer to https://wandb.me/wandb-core for more information.\n",
            "\u001b[34m\u001b[1mwandb\u001b[0m: Currently logged in as: \u001b[33mdoeun-235\u001b[0m (\u001b[33mDACON-FinAI\u001b[0m). Use \u001b[1m`wandb login --relogin`\u001b[0m to force relogin\n",
            "\u001b[34m\u001b[1mwandb\u001b[0m: \u001b[33mWARNING\u001b[0m If you're specifying your api key in code, ensure this code is not shared publicly.\n",
            "\u001b[34m\u001b[1mwandb\u001b[0m: \u001b[33mWARNING\u001b[0m Consider setting the WANDB_API_KEY environment variable, or running `wandb login` from the command line.\n",
            "\u001b[34m\u001b[1mwandb\u001b[0m: Appending key for api.wandb.ai to your netrc file: /root/.netrc\n"
          ]
        }
      ],
      "source": [
        "!pip install wandb\n",
        "import wandb\n",
        "# wandb 개인 API 키 입력\n",
        "wandb.login(key=wandb_token)\n",
        "\n",
        "import os\n",
        "\n",
        "os.environ[\"WANDB_PROJECT\"]=\"DACON_FinAI\"\n",
        "#os.environ[\"WANDB_LOG_MODEL\"] = \"checkpoint\"\n",
        "wandb_run_name=\"noaug-gemma2-lora-large\""
      ]
    },
    {
      "cell_type": "markdown",
      "metadata": {
        "id": "dTTusGUGD47Q"
      },
      "source": [
        "# Download Library"
      ]
    },
    {
      "cell_type": "code",
      "execution_count": 8,
      "metadata": {
        "colab": {
          "base_uri": "https://localhost:8080/"
        },
        "id": "fo2XA53bD47Q",
        "outputId": "68d35b60-42e0-46ad-9298-2713887597fa"
      },
      "outputs": [
        {
          "output_type": "stream",
          "name": "stdout",
          "text": [
            "Reading package lists... Done\n",
            "Building dependency tree... Done\n",
            "Reading state information... Done\n",
            "tesseract-ocr is already the newest version (4.1.1-2.1build1).\n",
            "0 upgraded, 0 newly installed, 0 to remove and 49 not upgraded.\n",
            "Reading package lists... Done\n",
            "Building dependency tree... Done\n",
            "Reading state information... Done\n",
            "poppler-utils is already the newest version (22.02.0-2ubuntu0.5).\n",
            "0 upgraded, 0 newly installed, 0 to remove and 49 not upgraded.\n",
            "Requirement already satisfied: orjson==3.10.6 in /usr/local/lib/python3.10/dist-packages (3.10.6)\n",
            "Looking in indexes: https://pypi.org/simple/\n",
            "Requirement already satisfied: bitsandbytes in /usr/local/lib/python3.10/dist-packages (0.44.1)\n",
            "Requirement already satisfied: torch in /usr/local/lib/python3.10/dist-packages (from bitsandbytes) (2.4.1+cu121)\n",
            "Requirement already satisfied: numpy in /usr/local/lib/python3.10/dist-packages (from bitsandbytes) (1.26.4)\n",
            "Requirement already satisfied: filelock in /usr/local/lib/python3.10/dist-packages (from torch->bitsandbytes) (3.16.1)\n",
            "Requirement already satisfied: typing-extensions>=4.8.0 in /usr/local/lib/python3.10/dist-packages (from torch->bitsandbytes) (4.12.2)\n",
            "Requirement already satisfied: sympy in /usr/local/lib/python3.10/dist-packages (from torch->bitsandbytes) (1.13.3)\n",
            "Requirement already satisfied: networkx in /usr/local/lib/python3.10/dist-packages (from torch->bitsandbytes) (3.3)\n",
            "Requirement already satisfied: jinja2 in /usr/local/lib/python3.10/dist-packages (from torch->bitsandbytes) (3.1.4)\n",
            "Requirement already satisfied: fsspec in /usr/local/lib/python3.10/dist-packages (from torch->bitsandbytes) (2024.6.1)\n",
            "Requirement already satisfied: MarkupSafe>=2.0 in /usr/local/lib/python3.10/dist-packages (from jinja2->torch->bitsandbytes) (2.1.5)\n",
            "Requirement already satisfied: mpmath<1.4,>=1.1.0 in /usr/local/lib/python3.10/dist-packages (from sympy->torch->bitsandbytes) (1.3.0)\n",
            "Requirement already satisfied: transformers[torch] in /usr/local/lib/python3.10/dist-packages (4.45.1)\n",
            "Requirement already satisfied: filelock in /usr/local/lib/python3.10/dist-packages (from transformers[torch]) (3.16.1)\n",
            "Requirement already satisfied: huggingface-hub<1.0,>=0.23.2 in /usr/local/lib/python3.10/dist-packages (from transformers[torch]) (0.24.7)\n",
            "Requirement already satisfied: numpy>=1.17 in /usr/local/lib/python3.10/dist-packages (from transformers[torch]) (1.26.4)\n",
            "Requirement already satisfied: packaging>=20.0 in /usr/local/lib/python3.10/dist-packages (from transformers[torch]) (24.1)\n",
            "Requirement already satisfied: pyyaml>=5.1 in /usr/local/lib/python3.10/dist-packages (from transformers[torch]) (6.0.2)\n",
            "Requirement already satisfied: regex!=2019.12.17 in /usr/local/lib/python3.10/dist-packages (from transformers[torch]) (2024.9.11)\n",
            "Requirement already satisfied: requests in /usr/local/lib/python3.10/dist-packages (from transformers[torch]) (2.32.3)\n",
            "Requirement already satisfied: safetensors>=0.4.1 in /usr/local/lib/python3.10/dist-packages (from transformers[torch]) (0.4.5)\n",
            "Requirement already satisfied: tokenizers<0.21,>=0.20 in /usr/local/lib/python3.10/dist-packages (from transformers[torch]) (0.20.0)\n",
            "Requirement already satisfied: tqdm>=4.27 in /usr/local/lib/python3.10/dist-packages (from transformers[torch]) (4.66.5)\n",
            "Requirement already satisfied: accelerate>=0.26.0 in /usr/local/lib/python3.10/dist-packages (from transformers[torch]) (0.34.2)\n",
            "Requirement already satisfied: torch in /usr/local/lib/python3.10/dist-packages (from transformers[torch]) (2.4.1+cu121)\n",
            "Requirement already satisfied: psutil in /usr/local/lib/python3.10/dist-packages (from accelerate>=0.26.0->transformers[torch]) (5.9.5)\n",
            "Requirement already satisfied: fsspec>=2023.5.0 in /usr/local/lib/python3.10/dist-packages (from huggingface-hub<1.0,>=0.23.2->transformers[torch]) (2024.6.1)\n",
            "Requirement already satisfied: typing-extensions>=3.7.4.3 in /usr/local/lib/python3.10/dist-packages (from huggingface-hub<1.0,>=0.23.2->transformers[torch]) (4.12.2)\n",
            "Requirement already satisfied: sympy in /usr/local/lib/python3.10/dist-packages (from torch->transformers[torch]) (1.13.3)\n",
            "Requirement already satisfied: networkx in /usr/local/lib/python3.10/dist-packages (from torch->transformers[torch]) (3.3)\n",
            "Requirement already satisfied: jinja2 in /usr/local/lib/python3.10/dist-packages (from torch->transformers[torch]) (3.1.4)\n",
            "Requirement already satisfied: charset-normalizer<4,>=2 in /usr/local/lib/python3.10/dist-packages (from requests->transformers[torch]) (3.3.2)\n",
            "Requirement already satisfied: idna<4,>=2.5 in /usr/local/lib/python3.10/dist-packages (from requests->transformers[torch]) (3.10)\n",
            "Requirement already satisfied: urllib3<3,>=1.21.1 in /usr/local/lib/python3.10/dist-packages (from requests->transformers[torch]) (2.2.3)\n",
            "Requirement already satisfied: certifi>=2017.4.17 in /usr/local/lib/python3.10/dist-packages (from requests->transformers[torch]) (2024.8.30)\n",
            "Requirement already satisfied: MarkupSafe>=2.0 in /usr/local/lib/python3.10/dist-packages (from jinja2->torch->transformers[torch]) (2.1.5)\n",
            "Requirement already satisfied: mpmath<1.4,>=1.1.0 in /usr/local/lib/python3.10/dist-packages (from sympy->torch->transformers[torch]) (1.3.0)\n",
            "Requirement already satisfied: datasets in /usr/local/lib/python3.10/dist-packages (3.0.1)\n",
            "Requirement already satisfied: filelock in /usr/local/lib/python3.10/dist-packages (from datasets) (3.16.1)\n",
            "Requirement already satisfied: numpy>=1.17 in /usr/local/lib/python3.10/dist-packages (from datasets) (1.26.4)\n",
            "Requirement already satisfied: pyarrow>=15.0.0 in /usr/local/lib/python3.10/dist-packages (from datasets) (16.1.0)\n",
            "Requirement already satisfied: dill<0.3.9,>=0.3.0 in /usr/local/lib/python3.10/dist-packages (from datasets) (0.3.8)\n",
            "Requirement already satisfied: pandas in /usr/local/lib/python3.10/dist-packages (from datasets) (2.2.2)\n",
            "Requirement already satisfied: requests>=2.32.2 in /usr/local/lib/python3.10/dist-packages (from datasets) (2.32.3)\n",
            "Requirement already satisfied: tqdm>=4.66.3 in /usr/local/lib/python3.10/dist-packages (from datasets) (4.66.5)\n",
            "Requirement already satisfied: xxhash in /usr/local/lib/python3.10/dist-packages (from datasets) (3.5.0)\n",
            "Requirement already satisfied: multiprocess in /usr/local/lib/python3.10/dist-packages (from datasets) (0.70.16)\n",
            "Requirement already satisfied: fsspec<=2024.6.1,>=2023.1.0 in /usr/local/lib/python3.10/dist-packages (from fsspec[http]<=2024.6.1,>=2023.1.0->datasets) (2024.6.1)\n",
            "Requirement already satisfied: aiohttp in /usr/local/lib/python3.10/dist-packages (from datasets) (3.10.8)\n",
            "Requirement already satisfied: huggingface-hub>=0.22.0 in /usr/local/lib/python3.10/dist-packages (from datasets) (0.24.7)\n",
            "Requirement already satisfied: packaging in /usr/local/lib/python3.10/dist-packages (from datasets) (24.1)\n",
            "Requirement already satisfied: pyyaml>=5.1 in /usr/local/lib/python3.10/dist-packages (from datasets) (6.0.2)\n",
            "Requirement already satisfied: aiohappyeyeballs>=2.3.0 in /usr/local/lib/python3.10/dist-packages (from aiohttp->datasets) (2.4.3)\n",
            "Requirement already satisfied: aiosignal>=1.1.2 in /usr/local/lib/python3.10/dist-packages (from aiohttp->datasets) (1.3.1)\n",
            "Requirement already satisfied: attrs>=17.3.0 in /usr/local/lib/python3.10/dist-packages (from aiohttp->datasets) (24.2.0)\n",
            "Requirement already satisfied: frozenlist>=1.1.1 in /usr/local/lib/python3.10/dist-packages (from aiohttp->datasets) (1.4.1)\n",
            "Requirement already satisfied: multidict<7.0,>=4.5 in /usr/local/lib/python3.10/dist-packages (from aiohttp->datasets) (6.1.0)\n",
            "Requirement already satisfied: yarl<2.0,>=1.12.0 in /usr/local/lib/python3.10/dist-packages (from aiohttp->datasets) (1.13.1)\n",
            "Requirement already satisfied: async-timeout<5.0,>=4.0 in /usr/local/lib/python3.10/dist-packages (from aiohttp->datasets) (4.0.3)\n",
            "Requirement already satisfied: typing-extensions>=3.7.4.3 in /usr/local/lib/python3.10/dist-packages (from huggingface-hub>=0.22.0->datasets) (4.12.2)\n",
            "Requirement already satisfied: charset-normalizer<4,>=2 in /usr/local/lib/python3.10/dist-packages (from requests>=2.32.2->datasets) (3.3.2)\n",
            "Requirement already satisfied: idna<4,>=2.5 in /usr/local/lib/python3.10/dist-packages (from requests>=2.32.2->datasets) (3.10)\n",
            "Requirement already satisfied: urllib3<3,>=1.21.1 in /usr/local/lib/python3.10/dist-packages (from requests>=2.32.2->datasets) (2.2.3)\n",
            "Requirement already satisfied: certifi>=2017.4.17 in /usr/local/lib/python3.10/dist-packages (from requests>=2.32.2->datasets) (2024.8.30)\n",
            "Requirement already satisfied: python-dateutil>=2.8.2 in /usr/local/lib/python3.10/dist-packages (from pandas->datasets) (2.8.2)\n",
            "Requirement already satisfied: pytz>=2020.1 in /usr/local/lib/python3.10/dist-packages (from pandas->datasets) (2024.2)\n",
            "Requirement already satisfied: tzdata>=2022.7 in /usr/local/lib/python3.10/dist-packages (from pandas->datasets) (2024.2)\n",
            "Requirement already satisfied: six>=1.5 in /usr/local/lib/python3.10/dist-packages (from python-dateutil>=2.8.2->pandas->datasets) (1.16.0)\n",
            "Requirement already satisfied: langchain in /usr/local/lib/python3.10/dist-packages (0.3.2)\n",
            "Requirement already satisfied: PyYAML>=5.3 in /usr/local/lib/python3.10/dist-packages (from langchain) (6.0.2)\n",
            "Requirement already satisfied: SQLAlchemy<3,>=1.4 in /usr/local/lib/python3.10/dist-packages (from langchain) (2.0.35)\n",
            "Requirement already satisfied: aiohttp<4.0.0,>=3.8.3 in /usr/local/lib/python3.10/dist-packages (from langchain) (3.10.8)\n",
            "Requirement already satisfied: async-timeout<5.0.0,>=4.0.0 in /usr/local/lib/python3.10/dist-packages (from langchain) (4.0.3)\n",
            "Requirement already satisfied: langchain-core<0.4.0,>=0.3.8 in /usr/local/lib/python3.10/dist-packages (from langchain) (0.3.9)\n",
            "Requirement already satisfied: langchain-text-splitters<0.4.0,>=0.3.0 in /usr/local/lib/python3.10/dist-packages (from langchain) (0.3.0)\n",
            "Requirement already satisfied: langsmith<0.2.0,>=0.1.17 in /usr/local/lib/python3.10/dist-packages (from langchain) (0.1.131)\n",
            "Requirement already satisfied: numpy<2,>=1 in /usr/local/lib/python3.10/dist-packages (from langchain) (1.26.4)\n",
            "Requirement already satisfied: pydantic<3.0.0,>=2.7.4 in /usr/local/lib/python3.10/dist-packages (from langchain) (2.9.2)\n",
            "Requirement already satisfied: requests<3,>=2 in /usr/local/lib/python3.10/dist-packages (from langchain) (2.32.3)\n",
            "Requirement already satisfied: tenacity!=8.4.0,<9.0.0,>=8.1.0 in /usr/local/lib/python3.10/dist-packages (from langchain) (8.5.0)\n",
            "Requirement already satisfied: aiohappyeyeballs>=2.3.0 in /usr/local/lib/python3.10/dist-packages (from aiohttp<4.0.0,>=3.8.3->langchain) (2.4.3)\n",
            "Requirement already satisfied: aiosignal>=1.1.2 in /usr/local/lib/python3.10/dist-packages (from aiohttp<4.0.0,>=3.8.3->langchain) (1.3.1)\n",
            "Requirement already satisfied: attrs>=17.3.0 in /usr/local/lib/python3.10/dist-packages (from aiohttp<4.0.0,>=3.8.3->langchain) (24.2.0)\n",
            "Requirement already satisfied: frozenlist>=1.1.1 in /usr/local/lib/python3.10/dist-packages (from aiohttp<4.0.0,>=3.8.3->langchain) (1.4.1)\n",
            "Requirement already satisfied: multidict<7.0,>=4.5 in /usr/local/lib/python3.10/dist-packages (from aiohttp<4.0.0,>=3.8.3->langchain) (6.1.0)\n",
            "Requirement already satisfied: yarl<2.0,>=1.12.0 in /usr/local/lib/python3.10/dist-packages (from aiohttp<4.0.0,>=3.8.3->langchain) (1.13.1)\n",
            "Requirement already satisfied: jsonpatch<2.0,>=1.33 in /usr/local/lib/python3.10/dist-packages (from langchain-core<0.4.0,>=0.3.8->langchain) (1.33)\n",
            "Requirement already satisfied: packaging<25,>=23.2 in /usr/local/lib/python3.10/dist-packages (from langchain-core<0.4.0,>=0.3.8->langchain) (24.1)\n",
            "Requirement already satisfied: typing-extensions>=4.7 in /usr/local/lib/python3.10/dist-packages (from langchain-core<0.4.0,>=0.3.8->langchain) (4.12.2)\n",
            "Requirement already satisfied: httpx<1,>=0.23.0 in /usr/local/lib/python3.10/dist-packages (from langsmith<0.2.0,>=0.1.17->langchain) (0.27.2)\n",
            "Requirement already satisfied: orjson<4.0.0,>=3.9.14 in /usr/local/lib/python3.10/dist-packages (from langsmith<0.2.0,>=0.1.17->langchain) (3.10.6)\n",
            "Requirement already satisfied: requests-toolbelt<2.0.0,>=1.0.0 in /usr/local/lib/python3.10/dist-packages (from langsmith<0.2.0,>=0.1.17->langchain) (1.0.0)\n",
            "Requirement already satisfied: annotated-types>=0.6.0 in /usr/local/lib/python3.10/dist-packages (from pydantic<3.0.0,>=2.7.4->langchain) (0.7.0)\n",
            "Requirement already satisfied: pydantic-core==2.23.4 in /usr/local/lib/python3.10/dist-packages (from pydantic<3.0.0,>=2.7.4->langchain) (2.23.4)\n",
            "Requirement already satisfied: charset-normalizer<4,>=2 in /usr/local/lib/python3.10/dist-packages (from requests<3,>=2->langchain) (3.3.2)\n",
            "Requirement already satisfied: idna<4,>=2.5 in /usr/local/lib/python3.10/dist-packages (from requests<3,>=2->langchain) (3.10)\n",
            "Requirement already satisfied: urllib3<3,>=1.21.1 in /usr/local/lib/python3.10/dist-packages (from requests<3,>=2->langchain) (2.2.3)\n",
            "Requirement already satisfied: certifi>=2017.4.17 in /usr/local/lib/python3.10/dist-packages (from requests<3,>=2->langchain) (2024.8.30)\n",
            "Requirement already satisfied: greenlet!=0.4.17 in /usr/local/lib/python3.10/dist-packages (from SQLAlchemy<3,>=1.4->langchain) (3.1.1)\n",
            "Requirement already satisfied: anyio in /usr/local/lib/python3.10/dist-packages (from httpx<1,>=0.23.0->langsmith<0.2.0,>=0.1.17->langchain) (3.7.1)\n",
            "Requirement already satisfied: httpcore==1.* in /usr/local/lib/python3.10/dist-packages (from httpx<1,>=0.23.0->langsmith<0.2.0,>=0.1.17->langchain) (1.0.6)\n",
            "Requirement already satisfied: sniffio in /usr/local/lib/python3.10/dist-packages (from httpx<1,>=0.23.0->langsmith<0.2.0,>=0.1.17->langchain) (1.3.1)\n",
            "Requirement already satisfied: h11<0.15,>=0.13 in /usr/local/lib/python3.10/dist-packages (from httpcore==1.*->httpx<1,>=0.23.0->langsmith<0.2.0,>=0.1.17->langchain) (0.14.0)\n",
            "Requirement already satisfied: jsonpointer>=1.9 in /usr/local/lib/python3.10/dist-packages (from jsonpatch<2.0,>=1.33->langchain-core<0.4.0,>=0.3.8->langchain) (3.0.0)\n",
            "Requirement already satisfied: exceptiongroup in /usr/local/lib/python3.10/dist-packages (from anyio->httpx<1,>=0.23.0->langsmith<0.2.0,>=0.1.17->langchain) (1.2.2)\n",
            "Requirement already satisfied: langchain_community in /usr/local/lib/python3.10/dist-packages (0.3.1)\n",
            "Requirement already satisfied: PyYAML>=5.3 in /usr/local/lib/python3.10/dist-packages (from langchain_community) (6.0.2)\n",
            "Requirement already satisfied: SQLAlchemy<3,>=1.4 in /usr/local/lib/python3.10/dist-packages (from langchain_community) (2.0.35)\n",
            "Requirement already satisfied: aiohttp<4.0.0,>=3.8.3 in /usr/local/lib/python3.10/dist-packages (from langchain_community) (3.10.8)\n",
            "Requirement already satisfied: dataclasses-json<0.7,>=0.5.7 in /usr/local/lib/python3.10/dist-packages (from langchain_community) (0.6.7)\n",
            "Requirement already satisfied: langchain<0.4.0,>=0.3.1 in /usr/local/lib/python3.10/dist-packages (from langchain_community) (0.3.2)\n",
            "Requirement already satisfied: langchain-core<0.4.0,>=0.3.6 in /usr/local/lib/python3.10/dist-packages (from langchain_community) (0.3.9)\n",
            "Requirement already satisfied: langsmith<0.2.0,>=0.1.125 in /usr/local/lib/python3.10/dist-packages (from langchain_community) (0.1.131)\n",
            "Requirement already satisfied: numpy<2,>=1 in /usr/local/lib/python3.10/dist-packages (from langchain_community) (1.26.4)\n",
            "Requirement already satisfied: pydantic-settings<3.0.0,>=2.4.0 in /usr/local/lib/python3.10/dist-packages (from langchain_community) (2.5.2)\n",
            "Requirement already satisfied: requests<3,>=2 in /usr/local/lib/python3.10/dist-packages (from langchain_community) (2.32.3)\n",
            "Requirement already satisfied: tenacity!=8.4.0,<9.0.0,>=8.1.0 in /usr/local/lib/python3.10/dist-packages (from langchain_community) (8.5.0)\n",
            "Requirement already satisfied: aiohappyeyeballs>=2.3.0 in /usr/local/lib/python3.10/dist-packages (from aiohttp<4.0.0,>=3.8.3->langchain_community) (2.4.3)\n",
            "Requirement already satisfied: aiosignal>=1.1.2 in /usr/local/lib/python3.10/dist-packages (from aiohttp<4.0.0,>=3.8.3->langchain_community) (1.3.1)\n",
            "Requirement already satisfied: attrs>=17.3.0 in /usr/local/lib/python3.10/dist-packages (from aiohttp<4.0.0,>=3.8.3->langchain_community) (24.2.0)\n",
            "Requirement already satisfied: frozenlist>=1.1.1 in /usr/local/lib/python3.10/dist-packages (from aiohttp<4.0.0,>=3.8.3->langchain_community) (1.4.1)\n",
            "Requirement already satisfied: multidict<7.0,>=4.5 in /usr/local/lib/python3.10/dist-packages (from aiohttp<4.0.0,>=3.8.3->langchain_community) (6.1.0)\n",
            "Requirement already satisfied: yarl<2.0,>=1.12.0 in /usr/local/lib/python3.10/dist-packages (from aiohttp<4.0.0,>=3.8.3->langchain_community) (1.13.1)\n",
            "Requirement already satisfied: async-timeout<5.0,>=4.0 in /usr/local/lib/python3.10/dist-packages (from aiohttp<4.0.0,>=3.8.3->langchain_community) (4.0.3)\n",
            "Requirement already satisfied: marshmallow<4.0.0,>=3.18.0 in /usr/local/lib/python3.10/dist-packages (from dataclasses-json<0.7,>=0.5.7->langchain_community) (3.22.0)\n",
            "Requirement already satisfied: typing-inspect<1,>=0.4.0 in /usr/local/lib/python3.10/dist-packages (from dataclasses-json<0.7,>=0.5.7->langchain_community) (0.9.0)\n",
            "Requirement already satisfied: langchain-text-splitters<0.4.0,>=0.3.0 in /usr/local/lib/python3.10/dist-packages (from langchain<0.4.0,>=0.3.1->langchain_community) (0.3.0)\n",
            "Requirement already satisfied: pydantic<3.0.0,>=2.7.4 in /usr/local/lib/python3.10/dist-packages (from langchain<0.4.0,>=0.3.1->langchain_community) (2.9.2)\n",
            "Requirement already satisfied: jsonpatch<2.0,>=1.33 in /usr/local/lib/python3.10/dist-packages (from langchain-core<0.4.0,>=0.3.6->langchain_community) (1.33)\n",
            "Requirement already satisfied: packaging<25,>=23.2 in /usr/local/lib/python3.10/dist-packages (from langchain-core<0.4.0,>=0.3.6->langchain_community) (24.1)\n",
            "Requirement already satisfied: typing-extensions>=4.7 in /usr/local/lib/python3.10/dist-packages (from langchain-core<0.4.0,>=0.3.6->langchain_community) (4.12.2)\n",
            "Requirement already satisfied: httpx<1,>=0.23.0 in /usr/local/lib/python3.10/dist-packages (from langsmith<0.2.0,>=0.1.125->langchain_community) (0.27.2)\n",
            "Requirement already satisfied: orjson<4.0.0,>=3.9.14 in /usr/local/lib/python3.10/dist-packages (from langsmith<0.2.0,>=0.1.125->langchain_community) (3.10.6)\n",
            "Requirement already satisfied: requests-toolbelt<2.0.0,>=1.0.0 in /usr/local/lib/python3.10/dist-packages (from langsmith<0.2.0,>=0.1.125->langchain_community) (1.0.0)\n",
            "Requirement already satisfied: python-dotenv>=0.21.0 in /usr/local/lib/python3.10/dist-packages (from pydantic-settings<3.0.0,>=2.4.0->langchain_community) (1.0.1)\n",
            "Requirement already satisfied: charset-normalizer<4,>=2 in /usr/local/lib/python3.10/dist-packages (from requests<3,>=2->langchain_community) (3.3.2)\n",
            "Requirement already satisfied: idna<4,>=2.5 in /usr/local/lib/python3.10/dist-packages (from requests<3,>=2->langchain_community) (3.10)\n",
            "Requirement already satisfied: urllib3<3,>=1.21.1 in /usr/local/lib/python3.10/dist-packages (from requests<3,>=2->langchain_community) (2.2.3)\n",
            "Requirement already satisfied: certifi>=2017.4.17 in /usr/local/lib/python3.10/dist-packages (from requests<3,>=2->langchain_community) (2024.8.30)\n",
            "Requirement already satisfied: greenlet!=0.4.17 in /usr/local/lib/python3.10/dist-packages (from SQLAlchemy<3,>=1.4->langchain_community) (3.1.1)\n",
            "Requirement already satisfied: anyio in /usr/local/lib/python3.10/dist-packages (from httpx<1,>=0.23.0->langsmith<0.2.0,>=0.1.125->langchain_community) (3.7.1)\n",
            "Requirement already satisfied: httpcore==1.* in /usr/local/lib/python3.10/dist-packages (from httpx<1,>=0.23.0->langsmith<0.2.0,>=0.1.125->langchain_community) (1.0.6)\n",
            "Requirement already satisfied: sniffio in /usr/local/lib/python3.10/dist-packages (from httpx<1,>=0.23.0->langsmith<0.2.0,>=0.1.125->langchain_community) (1.3.1)\n",
            "Requirement already satisfied: h11<0.15,>=0.13 in /usr/local/lib/python3.10/dist-packages (from httpcore==1.*->httpx<1,>=0.23.0->langsmith<0.2.0,>=0.1.125->langchain_community) (0.14.0)\n",
            "Requirement already satisfied: jsonpointer>=1.9 in /usr/local/lib/python3.10/dist-packages (from jsonpatch<2.0,>=1.33->langchain-core<0.4.0,>=0.3.6->langchain_community) (3.0.0)\n",
            "Requirement already satisfied: annotated-types>=0.6.0 in /usr/local/lib/python3.10/dist-packages (from pydantic<3.0.0,>=2.7.4->langchain<0.4.0,>=0.3.1->langchain_community) (0.7.0)\n",
            "Requirement already satisfied: pydantic-core==2.23.4 in /usr/local/lib/python3.10/dist-packages (from pydantic<3.0.0,>=2.7.4->langchain<0.4.0,>=0.3.1->langchain_community) (2.23.4)\n",
            "Requirement already satisfied: mypy-extensions>=0.3.0 in /usr/local/lib/python3.10/dist-packages (from typing-inspect<1,>=0.4.0->dataclasses-json<0.7,>=0.5.7->langchain_community) (1.0.0)\n",
            "Requirement already satisfied: exceptiongroup in /usr/local/lib/python3.10/dist-packages (from anyio->httpx<1,>=0.23.0->langsmith<0.2.0,>=0.1.125->langchain_community) (1.2.2)\n",
            "Requirement already satisfied: langchain-teddynote in /usr/local/lib/python3.10/dist-packages (0.0.37)\n",
            "Requirement already satisfied: langchain in /usr/local/lib/python3.10/dist-packages (from langchain-teddynote) (0.3.2)\n",
            "Requirement already satisfied: kiwipiepy in /usr/local/lib/python3.10/dist-packages (from langchain-teddynote) (0.19.0)\n",
            "Requirement already satisfied: konlpy in /usr/local/lib/python3.10/dist-packages (from langchain-teddynote) (0.6.0)\n",
            "Requirement already satisfied: rank-bm25 in /usr/local/lib/python3.10/dist-packages (from langchain-teddynote) (0.2.2)\n",
            "Requirement already satisfied: pinecone-client[grpc] in /usr/local/lib/python3.10/dist-packages (from langchain-teddynote) (5.0.1)\n",
            "Requirement already satisfied: pinecone-text in /usr/local/lib/python3.10/dist-packages (from langchain-teddynote) (0.9.0)\n",
            "Requirement already satisfied: olefile in /usr/local/lib/python3.10/dist-packages (from langchain-teddynote) (0.47)\n",
            "Requirement already satisfied: pdf2image in /usr/local/lib/python3.10/dist-packages (from langchain-teddynote) (1.17.0)\n",
            "Requirement already satisfied: openai in /usr/local/lib/python3.10/dist-packages (from langchain-teddynote) (1.51.0)\n",
            "Requirement already satisfied: deepl in /usr/local/lib/python3.10/dist-packages (from langchain-teddynote) (1.19.1)\n",
            "Requirement already satisfied: feedparser in /usr/local/lib/python3.10/dist-packages (from langchain-teddynote) (6.0.11)\n",
            "Requirement already satisfied: requests<3,>=2 in /usr/local/lib/python3.10/dist-packages (from deepl->langchain-teddynote) (2.32.3)\n",
            "Requirement already satisfied: sgmllib3k in /usr/local/lib/python3.10/dist-packages (from feedparser->langchain-teddynote) (1.0.0)\n",
            "Requirement already satisfied: kiwipiepy-model<0.20,>=0.19 in /usr/local/lib/python3.10/dist-packages (from kiwipiepy->langchain-teddynote) (0.19.0)\n",
            "Requirement already satisfied: tqdm in /usr/local/lib/python3.10/dist-packages (from kiwipiepy->langchain-teddynote) (4.66.5)\n",
            "Requirement already satisfied: numpy in /usr/local/lib/python3.10/dist-packages (from kiwipiepy->langchain-teddynote) (1.26.4)\n",
            "Requirement already satisfied: JPype1>=0.7.0 in /usr/local/lib/python3.10/dist-packages (from konlpy->langchain-teddynote) (1.5.0)\n",
            "Requirement already satisfied: lxml>=4.1.0 in /usr/local/lib/python3.10/dist-packages (from konlpy->langchain-teddynote) (4.9.4)\n",
            "Requirement already satisfied: PyYAML>=5.3 in /usr/local/lib/python3.10/dist-packages (from langchain->langchain-teddynote) (6.0.2)\n",
            "Requirement already satisfied: SQLAlchemy<3,>=1.4 in /usr/local/lib/python3.10/dist-packages (from langchain->langchain-teddynote) (2.0.35)\n",
            "Requirement already satisfied: aiohttp<4.0.0,>=3.8.3 in /usr/local/lib/python3.10/dist-packages (from langchain->langchain-teddynote) (3.10.8)\n",
            "Requirement already satisfied: async-timeout<5.0.0,>=4.0.0 in /usr/local/lib/python3.10/dist-packages (from langchain->langchain-teddynote) (4.0.3)\n",
            "Requirement already satisfied: langchain-core<0.4.0,>=0.3.8 in /usr/local/lib/python3.10/dist-packages (from langchain->langchain-teddynote) (0.3.9)\n",
            "Requirement already satisfied: langchain-text-splitters<0.4.0,>=0.3.0 in /usr/local/lib/python3.10/dist-packages (from langchain->langchain-teddynote) (0.3.0)\n",
            "Requirement already satisfied: langsmith<0.2.0,>=0.1.17 in /usr/local/lib/python3.10/dist-packages (from langchain->langchain-teddynote) (0.1.131)\n",
            "Requirement already satisfied: pydantic<3.0.0,>=2.7.4 in /usr/local/lib/python3.10/dist-packages (from langchain->langchain-teddynote) (2.9.2)\n",
            "Requirement already satisfied: tenacity!=8.4.0,<9.0.0,>=8.1.0 in /usr/local/lib/python3.10/dist-packages (from langchain->langchain-teddynote) (8.5.0)\n",
            "Requirement already satisfied: anyio<5,>=3.5.0 in /usr/local/lib/python3.10/dist-packages (from openai->langchain-teddynote) (3.7.1)\n",
            "Requirement already satisfied: distro<2,>=1.7.0 in /usr/lib/python3/dist-packages (from openai->langchain-teddynote) (1.7.0)\n",
            "Requirement already satisfied: httpx<1,>=0.23.0 in /usr/local/lib/python3.10/dist-packages (from openai->langchain-teddynote) (0.27.2)\n",
            "Requirement already satisfied: jiter<1,>=0.4.0 in /usr/local/lib/python3.10/dist-packages (from openai->langchain-teddynote) (0.5.0)\n",
            "Requirement already satisfied: sniffio in /usr/local/lib/python3.10/dist-packages (from openai->langchain-teddynote) (1.3.1)\n",
            "Requirement already satisfied: typing-extensions<5,>=4.11 in /usr/local/lib/python3.10/dist-packages (from openai->langchain-teddynote) (4.12.2)\n",
            "Requirement already satisfied: pillow in /usr/local/lib/python3.10/dist-packages (from pdf2image->langchain-teddynote) (10.4.0)\n",
            "Requirement already satisfied: certifi>=2019.11.17 in /usr/local/lib/python3.10/dist-packages (from pinecone-client[grpc]->langchain-teddynote) (2024.8.30)\n",
            "Requirement already satisfied: pinecone-plugin-inference<2.0.0,>=1.0.3 in /usr/local/lib/python3.10/dist-packages (from pinecone-client[grpc]->langchain-teddynote) (1.1.0)\n",
            "Requirement already satisfied: pinecone-plugin-interface<0.0.8,>=0.0.7 in /usr/local/lib/python3.10/dist-packages (from pinecone-client[grpc]->langchain-teddynote) (0.0.7)\n",
            "Requirement already satisfied: urllib3>=1.26.0 in /usr/local/lib/python3.10/dist-packages (from pinecone-client[grpc]->langchain-teddynote) (2.2.3)\n",
            "Requirement already satisfied: googleapis-common-protos>=1.53.0 in /usr/local/lib/python3.10/dist-packages (from pinecone-client[grpc]->langchain-teddynote) (1.65.0)\n",
            "Requirement already satisfied: grpcio>=1.44.0 in /usr/local/lib/python3.10/dist-packages (from pinecone-client[grpc]->langchain-teddynote) (1.64.1)\n",
            "Requirement already satisfied: lz4>=3.1.3 in /usr/local/lib/python3.10/dist-packages (from pinecone-client[grpc]->langchain-teddynote) (4.3.3)\n",
            "Requirement already satisfied: protobuf<5.0,>=4.25 in /usr/local/lib/python3.10/dist-packages (from pinecone-client[grpc]->langchain-teddynote) (4.25.5)\n",
            "Requirement already satisfied: protoc-gen-openapiv2<0.0.2,>=0.0.1 in /usr/local/lib/python3.10/dist-packages (from pinecone-client[grpc]->langchain-teddynote) (0.0.1)\n",
            "Requirement already satisfied: mmh3<5.0.0,>=4.1.0 in /usr/local/lib/python3.10/dist-packages (from pinecone-text->langchain-teddynote) (4.1.0)\n",
            "Requirement already satisfied: nltk<4.0.0,>=3.6.5 in /usr/local/lib/python3.10/dist-packages (from pinecone-text->langchain-teddynote) (3.8.1)\n",
            "Requirement already satisfied: python-dotenv<2.0.0,>=1.0.1 in /usr/local/lib/python3.10/dist-packages (from pinecone-text->langchain-teddynote) (1.0.1)\n",
            "Requirement already satisfied: types-requests<3.0.0,>=2.25.0 in /usr/local/lib/python3.10/dist-packages (from pinecone-text->langchain-teddynote) (2.32.0.20240914)\n",
            "Requirement already satisfied: wget<4.0,>=3.2 in /usr/local/lib/python3.10/dist-packages (from pinecone-text->langchain-teddynote) (3.2)\n",
            "Requirement already satisfied: aiohappyeyeballs>=2.3.0 in /usr/local/lib/python3.10/dist-packages (from aiohttp<4.0.0,>=3.8.3->langchain->langchain-teddynote) (2.4.3)\n",
            "Requirement already satisfied: aiosignal>=1.1.2 in /usr/local/lib/python3.10/dist-packages (from aiohttp<4.0.0,>=3.8.3->langchain->langchain-teddynote) (1.3.1)\n",
            "Requirement already satisfied: attrs>=17.3.0 in /usr/local/lib/python3.10/dist-packages (from aiohttp<4.0.0,>=3.8.3->langchain->langchain-teddynote) (24.2.0)\n",
            "Requirement already satisfied: frozenlist>=1.1.1 in /usr/local/lib/python3.10/dist-packages (from aiohttp<4.0.0,>=3.8.3->langchain->langchain-teddynote) (1.4.1)\n",
            "Requirement already satisfied: multidict<7.0,>=4.5 in /usr/local/lib/python3.10/dist-packages (from aiohttp<4.0.0,>=3.8.3->langchain->langchain-teddynote) (6.1.0)\n",
            "Requirement already satisfied: yarl<2.0,>=1.12.0 in /usr/local/lib/python3.10/dist-packages (from aiohttp<4.0.0,>=3.8.3->langchain->langchain-teddynote) (1.13.1)\n",
            "Requirement already satisfied: idna>=2.8 in /usr/local/lib/python3.10/dist-packages (from anyio<5,>=3.5.0->openai->langchain-teddynote) (3.10)\n",
            "Requirement already satisfied: exceptiongroup in /usr/local/lib/python3.10/dist-packages (from anyio<5,>=3.5.0->openai->langchain-teddynote) (1.2.2)\n",
            "Requirement already satisfied: httpcore==1.* in /usr/local/lib/python3.10/dist-packages (from httpx<1,>=0.23.0->openai->langchain-teddynote) (1.0.6)\n",
            "Requirement already satisfied: h11<0.15,>=0.13 in /usr/local/lib/python3.10/dist-packages (from httpcore==1.*->httpx<1,>=0.23.0->openai->langchain-teddynote) (0.14.0)\n",
            "Requirement already satisfied: packaging in /usr/local/lib/python3.10/dist-packages (from JPype1>=0.7.0->konlpy->langchain-teddynote) (24.1)\n",
            "Requirement already satisfied: jsonpatch<2.0,>=1.33 in /usr/local/lib/python3.10/dist-packages (from langchain-core<0.4.0,>=0.3.8->langchain->langchain-teddynote) (1.33)\n",
            "Requirement already satisfied: orjson<4.0.0,>=3.9.14 in /usr/local/lib/python3.10/dist-packages (from langsmith<0.2.0,>=0.1.17->langchain->langchain-teddynote) (3.10.6)\n",
            "Requirement already satisfied: requests-toolbelt<2.0.0,>=1.0.0 in /usr/local/lib/python3.10/dist-packages (from langsmith<0.2.0,>=0.1.17->langchain->langchain-teddynote) (1.0.0)\n",
            "Requirement already satisfied: click in /usr/local/lib/python3.10/dist-packages (from nltk<4.0.0,>=3.6.5->pinecone-text->langchain-teddynote) (8.1.7)\n",
            "Requirement already satisfied: joblib in /usr/local/lib/python3.10/dist-packages (from nltk<4.0.0,>=3.6.5->pinecone-text->langchain-teddynote) (1.4.2)\n",
            "Requirement already satisfied: regex>=2021.8.3 in /usr/local/lib/python3.10/dist-packages (from nltk<4.0.0,>=3.6.5->pinecone-text->langchain-teddynote) (2024.9.11)\n",
            "Requirement already satisfied: annotated-types>=0.6.0 in /usr/local/lib/python3.10/dist-packages (from pydantic<3.0.0,>=2.7.4->langchain->langchain-teddynote) (0.7.0)\n",
            "Requirement already satisfied: pydantic-core==2.23.4 in /usr/local/lib/python3.10/dist-packages (from pydantic<3.0.0,>=2.7.4->langchain->langchain-teddynote) (2.23.4)\n",
            "Requirement already satisfied: charset-normalizer<4,>=2 in /usr/local/lib/python3.10/dist-packages (from requests<3,>=2->deepl->langchain-teddynote) (3.3.2)\n",
            "Requirement already satisfied: greenlet!=0.4.17 in /usr/local/lib/python3.10/dist-packages (from SQLAlchemy<3,>=1.4->langchain->langchain-teddynote) (3.1.1)\n",
            "Requirement already satisfied: jsonpointer>=1.9 in /usr/local/lib/python3.10/dist-packages (from jsonpatch<2.0,>=1.33->langchain-core<0.4.0,>=0.3.8->langchain->langchain-teddynote) (3.0.0)\n",
            "Requirement already satisfied: sentence-transformers in /usr/local/lib/python3.10/dist-packages (3.1.1)\n",
            "Requirement already satisfied: transformers<5.0.0,>=4.38.0 in /usr/local/lib/python3.10/dist-packages (from sentence-transformers) (4.45.1)\n",
            "Requirement already satisfied: tqdm in /usr/local/lib/python3.10/dist-packages (from sentence-transformers) (4.66.5)\n",
            "Requirement already satisfied: torch>=1.11.0 in /usr/local/lib/python3.10/dist-packages (from sentence-transformers) (2.4.1+cu121)\n",
            "Requirement already satisfied: scikit-learn in /usr/local/lib/python3.10/dist-packages (from sentence-transformers) (1.5.2)\n",
            "Requirement already satisfied: scipy in /usr/local/lib/python3.10/dist-packages (from sentence-transformers) (1.13.1)\n",
            "Requirement already satisfied: huggingface-hub>=0.19.3 in /usr/local/lib/python3.10/dist-packages (from sentence-transformers) (0.24.7)\n",
            "Requirement already satisfied: Pillow in /usr/local/lib/python3.10/dist-packages (from sentence-transformers) (10.4.0)\n",
            "Requirement already satisfied: filelock in /usr/local/lib/python3.10/dist-packages (from huggingface-hub>=0.19.3->sentence-transformers) (3.16.1)\n",
            "Requirement already satisfied: fsspec>=2023.5.0 in /usr/local/lib/python3.10/dist-packages (from huggingface-hub>=0.19.3->sentence-transformers) (2024.6.1)\n",
            "Requirement already satisfied: packaging>=20.9 in /usr/local/lib/python3.10/dist-packages (from huggingface-hub>=0.19.3->sentence-transformers) (24.1)\n",
            "Requirement already satisfied: pyyaml>=5.1 in /usr/local/lib/python3.10/dist-packages (from huggingface-hub>=0.19.3->sentence-transformers) (6.0.2)\n",
            "Requirement already satisfied: requests in /usr/local/lib/python3.10/dist-packages (from huggingface-hub>=0.19.3->sentence-transformers) (2.32.3)\n",
            "Requirement already satisfied: typing-extensions>=3.7.4.3 in /usr/local/lib/python3.10/dist-packages (from huggingface-hub>=0.19.3->sentence-transformers) (4.12.2)\n",
            "Requirement already satisfied: sympy in /usr/local/lib/python3.10/dist-packages (from torch>=1.11.0->sentence-transformers) (1.13.3)\n",
            "Requirement already satisfied: networkx in /usr/local/lib/python3.10/dist-packages (from torch>=1.11.0->sentence-transformers) (3.3)\n",
            "Requirement already satisfied: jinja2 in /usr/local/lib/python3.10/dist-packages (from torch>=1.11.0->sentence-transformers) (3.1.4)\n",
            "Requirement already satisfied: numpy>=1.17 in /usr/local/lib/python3.10/dist-packages (from transformers<5.0.0,>=4.38.0->sentence-transformers) (1.26.4)\n",
            "Requirement already satisfied: regex!=2019.12.17 in /usr/local/lib/python3.10/dist-packages (from transformers<5.0.0,>=4.38.0->sentence-transformers) (2024.9.11)\n",
            "Requirement already satisfied: safetensors>=0.4.1 in /usr/local/lib/python3.10/dist-packages (from transformers<5.0.0,>=4.38.0->sentence-transformers) (0.4.5)\n",
            "Requirement already satisfied: tokenizers<0.21,>=0.20 in /usr/local/lib/python3.10/dist-packages (from transformers<5.0.0,>=4.38.0->sentence-transformers) (0.20.0)\n",
            "Requirement already satisfied: joblib>=1.2.0 in /usr/local/lib/python3.10/dist-packages (from scikit-learn->sentence-transformers) (1.4.2)\n",
            "Requirement already satisfied: threadpoolctl>=3.1.0 in /usr/local/lib/python3.10/dist-packages (from scikit-learn->sentence-transformers) (3.5.0)\n",
            "Requirement already satisfied: MarkupSafe>=2.0 in /usr/local/lib/python3.10/dist-packages (from jinja2->torch>=1.11.0->sentence-transformers) (2.1.5)\n",
            "Requirement already satisfied: charset-normalizer<4,>=2 in /usr/local/lib/python3.10/dist-packages (from requests->huggingface-hub>=0.19.3->sentence-transformers) (3.3.2)\n",
            "Requirement already satisfied: idna<4,>=2.5 in /usr/local/lib/python3.10/dist-packages (from requests->huggingface-hub>=0.19.3->sentence-transformers) (3.10)\n",
            "Requirement already satisfied: urllib3<3,>=1.21.1 in /usr/local/lib/python3.10/dist-packages (from requests->huggingface-hub>=0.19.3->sentence-transformers) (2.2.3)\n",
            "Requirement already satisfied: certifi>=2017.4.17 in /usr/local/lib/python3.10/dist-packages (from requests->huggingface-hub>=0.19.3->sentence-transformers) (2024.8.30)\n",
            "Requirement already satisfied: mpmath<1.4,>=1.1.0 in /usr/local/lib/python3.10/dist-packages (from sympy->torch>=1.11.0->sentence-transformers) (1.3.0)\n",
            "Requirement already satisfied: faiss-gpu in /usr/local/lib/python3.10/dist-packages (1.7.2)\n",
            "Requirement already satisfied: peft in /usr/local/lib/python3.10/dist-packages (0.13.0)\n",
            "Requirement already satisfied: numpy>=1.17 in /usr/local/lib/python3.10/dist-packages (from peft) (1.26.4)\n",
            "Requirement already satisfied: packaging>=20.0 in /usr/local/lib/python3.10/dist-packages (from peft) (24.1)\n",
            "Requirement already satisfied: psutil in /usr/local/lib/python3.10/dist-packages (from peft) (5.9.5)\n",
            "Requirement already satisfied: pyyaml in /usr/local/lib/python3.10/dist-packages (from peft) (6.0.2)\n",
            "Requirement already satisfied: torch>=1.13.0 in /usr/local/lib/python3.10/dist-packages (from peft) (2.4.1+cu121)\n",
            "Requirement already satisfied: transformers in /usr/local/lib/python3.10/dist-packages (from peft) (4.45.1)\n",
            "Requirement already satisfied: tqdm in /usr/local/lib/python3.10/dist-packages (from peft) (4.66.5)\n",
            "Requirement already satisfied: accelerate>=0.21.0 in /usr/local/lib/python3.10/dist-packages (from peft) (0.34.2)\n",
            "Requirement already satisfied: safetensors in /usr/local/lib/python3.10/dist-packages (from peft) (0.4.5)\n",
            "Requirement already satisfied: huggingface-hub>=0.17.0 in /usr/local/lib/python3.10/dist-packages (from peft) (0.24.7)\n",
            "Requirement already satisfied: filelock in /usr/local/lib/python3.10/dist-packages (from huggingface-hub>=0.17.0->peft) (3.16.1)\n",
            "Requirement already satisfied: fsspec>=2023.5.0 in /usr/local/lib/python3.10/dist-packages (from huggingface-hub>=0.17.0->peft) (2024.6.1)\n",
            "Requirement already satisfied: requests in /usr/local/lib/python3.10/dist-packages (from huggingface-hub>=0.17.0->peft) (2.32.3)\n",
            "Requirement already satisfied: typing-extensions>=3.7.4.3 in /usr/local/lib/python3.10/dist-packages (from huggingface-hub>=0.17.0->peft) (4.12.2)\n",
            "Requirement already satisfied: sympy in /usr/local/lib/python3.10/dist-packages (from torch>=1.13.0->peft) (1.13.3)\n",
            "Requirement already satisfied: networkx in /usr/local/lib/python3.10/dist-packages (from torch>=1.13.0->peft) (3.3)\n",
            "Requirement already satisfied: jinja2 in /usr/local/lib/python3.10/dist-packages (from torch>=1.13.0->peft) (3.1.4)\n",
            "Requirement already satisfied: regex!=2019.12.17 in /usr/local/lib/python3.10/dist-packages (from transformers->peft) (2024.9.11)\n",
            "Requirement already satisfied: tokenizers<0.21,>=0.20 in /usr/local/lib/python3.10/dist-packages (from transformers->peft) (0.20.0)\n",
            "Requirement already satisfied: MarkupSafe>=2.0 in /usr/local/lib/python3.10/dist-packages (from jinja2->torch>=1.13.0->peft) (2.1.5)\n",
            "Requirement already satisfied: charset-normalizer<4,>=2 in /usr/local/lib/python3.10/dist-packages (from requests->huggingface-hub>=0.17.0->peft) (3.3.2)\n",
            "Requirement already satisfied: idna<4,>=2.5 in /usr/local/lib/python3.10/dist-packages (from requests->huggingface-hub>=0.17.0->peft) (3.10)\n",
            "Requirement already satisfied: urllib3<3,>=1.21.1 in /usr/local/lib/python3.10/dist-packages (from requests->huggingface-hub>=0.17.0->peft) (2.2.3)\n",
            "Requirement already satisfied: certifi>=2017.4.17 in /usr/local/lib/python3.10/dist-packages (from requests->huggingface-hub>=0.17.0->peft) (2024.8.30)\n",
            "Requirement already satisfied: mpmath<1.4,>=1.1.0 in /usr/local/lib/python3.10/dist-packages (from sympy->torch>=1.13.0->peft) (1.3.0)\n",
            "Requirement already satisfied: trl in /usr/local/lib/python3.10/dist-packages (0.11.1)\n",
            "Requirement already satisfied: torch>=1.4.0 in /usr/local/lib/python3.10/dist-packages (from trl) (2.4.1+cu121)\n",
            "Requirement already satisfied: transformers>=4.40.0 in /usr/local/lib/python3.10/dist-packages (from trl) (4.45.1)\n",
            "Requirement already satisfied: accelerate in /usr/local/lib/python3.10/dist-packages (from trl) (0.34.2)\n",
            "Requirement already satisfied: datasets in /usr/local/lib/python3.10/dist-packages (from trl) (3.0.1)\n",
            "Requirement already satisfied: tyro>=0.5.11 in /usr/local/lib/python3.10/dist-packages (from trl) (0.8.11)\n",
            "Requirement already satisfied: numpy>=1.18.2 in /usr/local/lib/python3.10/dist-packages (from trl) (1.26.4)\n",
            "Requirement already satisfied: filelock in /usr/local/lib/python3.10/dist-packages (from torch>=1.4.0->trl) (3.16.1)\n",
            "Requirement already satisfied: typing-extensions>=4.8.0 in /usr/local/lib/python3.10/dist-packages (from torch>=1.4.0->trl) (4.12.2)\n",
            "Requirement already satisfied: sympy in /usr/local/lib/python3.10/dist-packages (from torch>=1.4.0->trl) (1.13.3)\n",
            "Requirement already satisfied: networkx in /usr/local/lib/python3.10/dist-packages (from torch>=1.4.0->trl) (3.3)\n",
            "Requirement already satisfied: jinja2 in /usr/local/lib/python3.10/dist-packages (from torch>=1.4.0->trl) (3.1.4)\n",
            "Requirement already satisfied: fsspec in /usr/local/lib/python3.10/dist-packages (from torch>=1.4.0->trl) (2024.6.1)\n",
            "Requirement already satisfied: huggingface-hub<1.0,>=0.23.2 in /usr/local/lib/python3.10/dist-packages (from transformers>=4.40.0->trl) (0.24.7)\n",
            "Requirement already satisfied: packaging>=20.0 in /usr/local/lib/python3.10/dist-packages (from transformers>=4.40.0->trl) (24.1)\n",
            "Requirement already satisfied: pyyaml>=5.1 in /usr/local/lib/python3.10/dist-packages (from transformers>=4.40.0->trl) (6.0.2)\n",
            "Requirement already satisfied: regex!=2019.12.17 in /usr/local/lib/python3.10/dist-packages (from transformers>=4.40.0->trl) (2024.9.11)\n",
            "Requirement already satisfied: requests in /usr/local/lib/python3.10/dist-packages (from transformers>=4.40.0->trl) (2.32.3)\n",
            "Requirement already satisfied: safetensors>=0.4.1 in /usr/local/lib/python3.10/dist-packages (from transformers>=4.40.0->trl) (0.4.5)\n",
            "Requirement already satisfied: tokenizers<0.21,>=0.20 in /usr/local/lib/python3.10/dist-packages (from transformers>=4.40.0->trl) (0.20.0)\n",
            "Requirement already satisfied: tqdm>=4.27 in /usr/local/lib/python3.10/dist-packages (from transformers>=4.40.0->trl) (4.66.5)\n",
            "Requirement already satisfied: docstring-parser>=0.16 in /usr/local/lib/python3.10/dist-packages (from tyro>=0.5.11->trl) (0.16)\n",
            "Requirement already satisfied: rich>=11.1.0 in /usr/local/lib/python3.10/dist-packages (from tyro>=0.5.11->trl) (13.8.1)\n",
            "Requirement already satisfied: shtab>=1.5.6 in /usr/local/lib/python3.10/dist-packages (from tyro>=0.5.11->trl) (1.7.1)\n",
            "Requirement already satisfied: psutil in /usr/local/lib/python3.10/dist-packages (from accelerate->trl) (5.9.5)\n",
            "Requirement already satisfied: pyarrow>=15.0.0 in /usr/local/lib/python3.10/dist-packages (from datasets->trl) (16.1.0)\n",
            "Requirement already satisfied: dill<0.3.9,>=0.3.0 in /usr/local/lib/python3.10/dist-packages (from datasets->trl) (0.3.8)\n",
            "Requirement already satisfied: pandas in /usr/local/lib/python3.10/dist-packages (from datasets->trl) (2.2.2)\n",
            "Requirement already satisfied: xxhash in /usr/local/lib/python3.10/dist-packages (from datasets->trl) (3.5.0)\n",
            "Requirement already satisfied: multiprocess in /usr/local/lib/python3.10/dist-packages (from datasets->trl) (0.70.16)\n",
            "Requirement already satisfied: aiohttp in /usr/local/lib/python3.10/dist-packages (from datasets->trl) (3.10.8)\n",
            "Requirement already satisfied: aiohappyeyeballs>=2.3.0 in /usr/local/lib/python3.10/dist-packages (from aiohttp->datasets->trl) (2.4.3)\n",
            "Requirement already satisfied: aiosignal>=1.1.2 in /usr/local/lib/python3.10/dist-packages (from aiohttp->datasets->trl) (1.3.1)\n",
            "Requirement already satisfied: attrs>=17.3.0 in /usr/local/lib/python3.10/dist-packages (from aiohttp->datasets->trl) (24.2.0)\n",
            "Requirement already satisfied: frozenlist>=1.1.1 in /usr/local/lib/python3.10/dist-packages (from aiohttp->datasets->trl) (1.4.1)\n",
            "Requirement already satisfied: multidict<7.0,>=4.5 in /usr/local/lib/python3.10/dist-packages (from aiohttp->datasets->trl) (6.1.0)\n",
            "Requirement already satisfied: yarl<2.0,>=1.12.0 in /usr/local/lib/python3.10/dist-packages (from aiohttp->datasets->trl) (1.13.1)\n",
            "Requirement already satisfied: async-timeout<5.0,>=4.0 in /usr/local/lib/python3.10/dist-packages (from aiohttp->datasets->trl) (4.0.3)\n",
            "Requirement already satisfied: charset-normalizer<4,>=2 in /usr/local/lib/python3.10/dist-packages (from requests->transformers>=4.40.0->trl) (3.3.2)\n",
            "Requirement already satisfied: idna<4,>=2.5 in /usr/local/lib/python3.10/dist-packages (from requests->transformers>=4.40.0->trl) (3.10)\n",
            "Requirement already satisfied: urllib3<3,>=1.21.1 in /usr/local/lib/python3.10/dist-packages (from requests->transformers>=4.40.0->trl) (2.2.3)\n",
            "Requirement already satisfied: certifi>=2017.4.17 in /usr/local/lib/python3.10/dist-packages (from requests->transformers>=4.40.0->trl) (2024.8.30)\n",
            "Requirement already satisfied: markdown-it-py>=2.2.0 in /usr/local/lib/python3.10/dist-packages (from rich>=11.1.0->tyro>=0.5.11->trl) (3.0.0)\n",
            "Requirement already satisfied: pygments<3.0.0,>=2.13.0 in /usr/local/lib/python3.10/dist-packages (from rich>=11.1.0->tyro>=0.5.11->trl) (2.18.0)\n",
            "Requirement already satisfied: MarkupSafe>=2.0 in /usr/local/lib/python3.10/dist-packages (from jinja2->torch>=1.4.0->trl) (2.1.5)\n",
            "Requirement already satisfied: python-dateutil>=2.8.2 in /usr/local/lib/python3.10/dist-packages (from pandas->datasets->trl) (2.8.2)\n",
            "Requirement already satisfied: pytz>=2020.1 in /usr/local/lib/python3.10/dist-packages (from pandas->datasets->trl) (2024.2)\n",
            "Requirement already satisfied: tzdata>=2022.7 in /usr/local/lib/python3.10/dist-packages (from pandas->datasets->trl) (2024.2)\n",
            "Requirement already satisfied: mpmath<1.4,>=1.1.0 in /usr/local/lib/python3.10/dist-packages (from sympy->torch>=1.4.0->trl) (1.3.0)\n",
            "Requirement already satisfied: mdurl~=0.1 in /usr/local/lib/python3.10/dist-packages (from markdown-it-py>=2.2.0->rich>=11.1.0->tyro>=0.5.11->trl) (0.1.2)\n",
            "Requirement already satisfied: six>=1.5 in /usr/local/lib/python3.10/dist-packages (from python-dateutil>=2.8.2->pandas->datasets->trl) (1.16.0)\n",
            "Requirement already satisfied: accelerate in /usr/local/lib/python3.10/dist-packages (0.34.2)\n",
            "Requirement already satisfied: numpy<3.0.0,>=1.17 in /usr/local/lib/python3.10/dist-packages (from accelerate) (1.26.4)\n",
            "Requirement already satisfied: packaging>=20.0 in /usr/local/lib/python3.10/dist-packages (from accelerate) (24.1)\n",
            "Requirement already satisfied: psutil in /usr/local/lib/python3.10/dist-packages (from accelerate) (5.9.5)\n",
            "Requirement already satisfied: pyyaml in /usr/local/lib/python3.10/dist-packages (from accelerate) (6.0.2)\n",
            "Requirement already satisfied: torch>=1.10.0 in /usr/local/lib/python3.10/dist-packages (from accelerate) (2.4.1+cu121)\n",
            "Requirement already satisfied: huggingface-hub>=0.21.0 in /usr/local/lib/python3.10/dist-packages (from accelerate) (0.24.7)\n",
            "Requirement already satisfied: safetensors>=0.4.3 in /usr/local/lib/python3.10/dist-packages (from accelerate) (0.4.5)\n",
            "Requirement already satisfied: filelock in /usr/local/lib/python3.10/dist-packages (from huggingface-hub>=0.21.0->accelerate) (3.16.1)\n",
            "Requirement already satisfied: fsspec>=2023.5.0 in /usr/local/lib/python3.10/dist-packages (from huggingface-hub>=0.21.0->accelerate) (2024.6.1)\n",
            "Requirement already satisfied: requests in /usr/local/lib/python3.10/dist-packages (from huggingface-hub>=0.21.0->accelerate) (2.32.3)\n",
            "Requirement already satisfied: tqdm>=4.42.1 in /usr/local/lib/python3.10/dist-packages (from huggingface-hub>=0.21.0->accelerate) (4.66.5)\n",
            "Requirement already satisfied: typing-extensions>=3.7.4.3 in /usr/local/lib/python3.10/dist-packages (from huggingface-hub>=0.21.0->accelerate) (4.12.2)\n",
            "Requirement already satisfied: sympy in /usr/local/lib/python3.10/dist-packages (from torch>=1.10.0->accelerate) (1.13.3)\n",
            "Requirement already satisfied: networkx in /usr/local/lib/python3.10/dist-packages (from torch>=1.10.0->accelerate) (3.3)\n",
            "Requirement already satisfied: jinja2 in /usr/local/lib/python3.10/dist-packages (from torch>=1.10.0->accelerate) (3.1.4)\n",
            "Requirement already satisfied: MarkupSafe>=2.0 in /usr/local/lib/python3.10/dist-packages (from jinja2->torch>=1.10.0->accelerate) (2.1.5)\n",
            "Requirement already satisfied: charset-normalizer<4,>=2 in /usr/local/lib/python3.10/dist-packages (from requests->huggingface-hub>=0.21.0->accelerate) (3.3.2)\n",
            "Requirement already satisfied: idna<4,>=2.5 in /usr/local/lib/python3.10/dist-packages (from requests->huggingface-hub>=0.21.0->accelerate) (3.10)\n",
            "Requirement already satisfied: urllib3<3,>=1.21.1 in /usr/local/lib/python3.10/dist-packages (from requests->huggingface-hub>=0.21.0->accelerate) (2.2.3)\n",
            "Requirement already satisfied: certifi>=2017.4.17 in /usr/local/lib/python3.10/dist-packages (from requests->huggingface-hub>=0.21.0->accelerate) (2024.8.30)\n",
            "Requirement already satisfied: mpmath<1.4,>=1.1.0 in /usr/local/lib/python3.10/dist-packages (from sympy->torch>=1.10.0->accelerate) (1.3.0)\n"
          ]
        }
      ],
      "source": [
        "!apt-get install tesseract-ocr\n",
        "!apt-get install poppler-utils\n",
        "\n",
        "!pip install orjson==3.10.6\n",
        "\n",
        "!pip install -i https://pypi.org/simple/ bitsandbytes\n",
        "!pip install transformers[torch] -U\n",
        "\n",
        "!pip install datasets\n",
        "!pip install langchain\n",
        "!pip install langchain_community\n",
        "!pip install langchain-teddynote\n",
        "!pip install sentence-transformers\n",
        "!pip install faiss-gpu\n",
        "!pip install peft\n",
        "!pip install trl\n",
        "!pip install -U accelerate"
      ]
    },
    {
      "cell_type": "markdown",
      "metadata": {
        "id": "CB-3QyUXD47R"
      },
      "source": [
        "# Import Library"
      ]
    },
    {
      "cell_type": "code",
      "source": [
        "import os\n",
        "import unicodedata\n",
        "\n",
        "import torch\n",
        "import pandas as pd\n",
        "from tqdm.auto import tqdm\n",
        "\n",
        "from langchain.document_loaders.parsers.pdf import PDFPlumberParser"
      ],
      "metadata": {
        "id": "3xWvuNVtSUBo"
      },
      "execution_count": 9,
      "outputs": []
    },
    {
      "cell_type": "code",
      "execution_count": 10,
      "metadata": {
        "colab": {
          "base_uri": "https://localhost:8080/"
        },
        "id": "EiF6VIEmD47R",
        "outputId": "1986d699-b01f-4590-9369-0d74dbe4ce6f"
      },
      "outputs": [
        {
          "output_type": "stream",
          "name": "stderr",
          "text": [
            "/usr/local/lib/python3.10/dist-packages/langchain_teddynote/retrievers/__init__.py:14: LangChainDeprecationWarning: As of langchain-core 0.3.0, LangChain uses pydantic v2 internally. The langchain_core.pydantic_v1 module was a compatibility shim for pydantic v1, and should no longer be used. Please update the code to import from Pydantic directly.\n",
            "\n",
            "For example, replace imports like: `from langchain_core.pydantic_v1 import BaseModel`\n",
            "with: `from pydantic import BaseModel`\n",
            "or the v1 compatibility namespace if you are working in a code base that has not been fully upgraded to pydantic 2 yet. \tfrom pydantic.v1 import BaseModel\n",
            "\n",
            "  from .kiwi_bm25 import KiwiBM25Retriever\n"
          ]
        }
      ],
      "source": [
        "from transformers import (\n",
        "    AutoTokenizer,\n",
        "    AutoModelForCausalLM,\n",
        "    pipeline,\n",
        "    BitsAndBytesConfig\n",
        ")\n",
        "from accelerate import Accelerator\n",
        "\n",
        "# peft\n",
        "from peft import prepare_model_for_kbit_training\n",
        "from peft import PeftModel\n",
        "from peft import LoraConfig, get_peft_model\n",
        "\n",
        "\n",
        "# Langchain 관련\n",
        "from langchain.llms import HuggingFacePipeline\n",
        "from langchain.embeddings import HuggingFaceEmbeddings\n",
        "from langchain.vectorstores import FAISS\n",
        "from langchain.schema import Document\n",
        "from langchain.text_splitter import RecursiveCharacterTextSplitter, MarkdownHeaderTextSplitter\n",
        "from langchain.prompts import PromptTemplate\n",
        "from langchain.schema.runnable import RunnablePassthrough, RunnableParallel\n",
        "from langchain.schema.output_parser import StrOutputParser\n",
        "\n",
        "# PDF 로딩/청크화 관련\n",
        "from langchain.document_loaders.parsers.pdf import PDFPlumberParser\n",
        "from langchain.document_loaders.pdf import PDFPlumberLoader\n",
        "from langchain.document_loaders import UnstructuredPDFLoader\n",
        "from langchain_teddynote.retrievers import KiwiBM25Retriever\n",
        "from langchain.retrievers import EnsembleRetriever, MultiQueryRetriever\n"
      ]
    },
    {
      "cell_type": "markdown",
      "metadata": {
        "id": "AsS968DYD47S"
      },
      "source": [
        "# Fine-Tuning"
      ]
    },
    {
      "cell_type": "code",
      "execution_count": 11,
      "metadata": {
        "id": "saSxzHNqWua7"
      },
      "outputs": [],
      "source": [
        "# 모델 ID\n",
        "model_cands={\n",
        " 'llama2' : \"beomi/llama-2-ko-7b\",\n",
        " 'yi' : \"beomi/Yi-Ko-6B\",\n",
        " 'solar-beom' : \"beomi/Solar-Ko-Recovery-11B\",\n",
        " 'gemma2' : \"rtzr/ko-gemma-2-9b-it\",\n",
        " 'solar-lee' : \"chihoonlee10/T3Q-ko-solar-dpo-v8.0\",\n",
        " 'llama31' : \"KISTI-KONI/KONI-Llama3-8B-Instruct-20240729\",\n",
        "}\n",
        "\n",
        "model_id = model_cands['gemma2']"
      ]
    },
    {
      "cell_type": "code",
      "execution_count": 12,
      "metadata": {
        "id": "yoGFrRntLGPH"
      },
      "outputs": [],
      "source": [
        "# 모델 로드 및 양자화 설정 적용\n",
        "\n",
        "def load_model_w_setting(model_id,add_output_token=False,**kwargs):\n",
        "  # 4비트 양자화 설정\n",
        "  bnb_config = BitsAndBytesConfig(\n",
        "      load_in_4bit=True,\n",
        "      bnb_4bit_use_double_quant=True,\n",
        "      bnb_4bit_quant_type=\"nf4\",\n",
        "      bnb_4bit_compute_dtype=torch.bfloat16\n",
        "  )\n",
        "\n",
        "  # 토크나이저 로드 및 설정\n",
        "  tokenizer = AutoTokenizer.from_pretrained(model_id)\n",
        "  tokenizer.use_default_system_prompt = False\n",
        "  tokenizer.padding_side=\"right\"\n",
        "\n",
        "  model= AutoModelForCausalLM.from_pretrained(\n",
        "      model_id,\n",
        "      quantization_config=bnb_config,\n",
        "      device_map=\"auto\",\n",
        "      trust_remote_code=True,\n",
        "      **kwargs\n",
        "      )\n",
        "\n",
        "# 일부 모델의 경우 토크나이저에 답변 토큰 추가 작업 필요\n",
        "  if add_output_token :\n",
        "    initial_token_count = len(tokenizer)\n",
        "    response_template = '답변: '\n",
        "    added_token_count = tokenizer.add_special_tokens({\"additional_special_tokens\": [response_template]})\n",
        "    model.resize_token_embeddings(new_num_tokens=initial_token_count+added_token_count)\n",
        "\n",
        "  return model, tokenizer"
      ]
    },
    {
      "cell_type": "code",
      "execution_count": 13,
      "metadata": {
        "colab": {
          "base_uri": "https://localhost:8080/",
          "height": 160,
          "referenced_widgets": [
            "96f98a829a664612ba1ca9e3125aac71",
            "c71b4631879a4a6b85c53086ee2f1b54",
            "5952c439c93044a0833c61f52bd3c2be",
            "e5fd15482d144c8ea3f50641bb1dcce3",
            "dd8d1c79ded647f3a7c4368ffaa3a087",
            "ba66e91cf758409c92e9c3af4d1715e6",
            "f5576153815a4252899774bcc57189e8",
            "ba98ee6e671e4580a625085eee0d46ef",
            "d62cddf0772c4adc9ecac92cf2574bb5",
            "151a124fbfa8449aba164554530b7d53",
            "e09965f4c4fb461b90c1bb781c7d1ce1"
          ]
        },
        "id": "14-JXX7zsMZC",
        "outputId": "03d2913d-a716-4fd6-8d2c-0a45c63d411c"
      },
      "outputs": [
        {
          "output_type": "stream",
          "name": "stderr",
          "text": [
            "/usr/local/lib/python3.10/dist-packages/huggingface_hub/utils/_token.py:89: UserWarning: \n",
            "The secret `HF_TOKEN` does not exist in your Colab secrets.\n",
            "To authenticate with the Hugging Face Hub, create a token in your settings tab (https://huggingface.co/settings/tokens), set it as secret in your Google Colab and restart your session.\n",
            "You will be able to reuse this secret in all of your notebooks.\n",
            "Please note that authentication is recommended but still optional to access public models or datasets.\n",
            "  warnings.warn(\n"
          ]
        },
        {
          "output_type": "display_data",
          "data": {
            "text/plain": [
              "Loading checkpoint shards:   0%|          | 0/10 [00:00<?, ?it/s]"
            ],
            "application/vnd.jupyter.widget-view+json": {
              "version_major": 2,
              "version_minor": 0,
              "model_id": "96f98a829a664612ba1ca9e3125aac71"
            }
          },
          "metadata": {}
        }
      ],
      "source": [
        "model,tokenizer = load_model_w_setting(model_id,attn_implementation='eager')"
      ]
    },
    {
      "cell_type": "code",
      "execution_count": 14,
      "metadata": {
        "id": "9JY8Kc-jNiyT",
        "colab": {
          "base_uri": "https://localhost:8080/",
          "height": 241,
          "referenced_widgets": [
            "7b044cc8bc364ff2b32e08586bbe4c38",
            "bc7a570fc4724a1599ef4154cf710b2c",
            "536dc6f801c944558b604f4f79a66887",
            "5a1d35a3b66a4359858fce79341f23d8",
            "8d085c36cc10492982a3efcdd15934fe",
            "1fd5e086962e40db8017efadd7233ba5",
            "9fb3e3265e554947b9d5eb9e80ad3238",
            "9fbda4c700544eb4ad0a40a4a84e8202",
            "339cc73737c1420db8344fd56cb7bdbc",
            "ee7de3f423d14fd3bce2afa396411d15",
            "293228d9077348a9b5309dd3da915432",
            "c93d4a3201994a7ca8ae4d99fbb5fa39",
            "a51f6abb797f448eb6a687fbde98afec",
            "db361fd04ee947e5a90f315d4e419881",
            "368957c96e6f495fbea6f11dbac616ef",
            "db6239d8cc2043c39b318c06a496d4a8",
            "bedd5d9c2c704df4adfe6a4c383b6919",
            "32244210c5a54e4b836026877e3b7c44",
            "c3adac1d6cc444639db83e6c749fcb6f",
            "9682e0dbd97d42098623ce6c0844f977",
            "ee77588302684a80b8db206f16b6eded",
            "cbc528346e94441aa5d5b404bc35041e",
            "b0ae677b730d448bb998e0ec9b68000c",
            "e75d538db314483b8838a3af3166892a",
            "7355e2e77deb475baf950b53b3f8c938",
            "827f1b33691f465bae451937f38e3123",
            "a78f7078f0704454afed2456d66f01fa",
            "10ae94246458486bb154722712bd04c1",
            "d9f6d700933841478134653089051394",
            "9276b6b000244f858b1795e8ffb64d98",
            "998e6bda0f134fbb8f292443c58a3a9b",
            "c9822620734f4b6392e78ae664d66473",
            "4407e91b6e5d48bcb93915343c3c62e3",
            "c57b0a9967464fd19ae894c77459f0ab",
            "da940bd65f11453895a6fe20d724f589",
            "7c067af94fce437aacf280d5875a43f7",
            "29a06e5675064a5c9e1ca2172d9d97ff",
            "47b5a8aa50be4e0db8aa696c75a7bbcb",
            "b8e494a7c29f47baa0a35225ff4fb09a",
            "2940548f298d4c29b3dcde497d5205c7",
            "7eab9c3feb1a4275aeba8e81ae82129d",
            "d78da033723547c3beca6f6d16e87772",
            "8da4d5454e0e4d1f9f9c6b2570009359",
            "59ddba39285f482995a5331e9736850a",
            "60b6724bfa874804990cb8056a29db30",
            "c2d666a3b11b4e99a3e0059c6dd2874f",
            "b47a83bd6cda4d8cbedc7e8d46621e63",
            "82c0b4da3ed14197810f948f778bf8a6",
            "ecc414e1a80b47e79ccf9d43a62371dc",
            "edeef758737d40f8bdaea76da0cd564e",
            "52d42020931b4afc9bbb49b31b3e2994",
            "fe3dfb522e5d458abab932a114439b19",
            "2dae4f18dc2843e9942d5e3a3f9b3ea2",
            "fb70a21211fc4f908bb8b3846fe467a9",
            "25473be5b13e4b01851f91258e98080e",
            "f8a78dfc2af6402997d4fa7cc9d06a3d",
            "b671da8cf1bf4dbea2cd1c27f62e811c",
            "f0de6c398b0547d39245787bb5e94a76",
            "6d1e023d03b847069aa8c9d37b0340db",
            "16aabae5bd16493eb011c83021bcc4a7",
            "36457768de91460a82b3f8eb9f37c67a",
            "848aa43804dc44c29e79d9770b63b822",
            "5197354a4f854183bc68cb654c885ff6",
            "852476fd79db462a843e8baff19dfbfb",
            "7bca9f65ffe14872813d7c0c3c203bb1",
            "417a7193bf0e41afbbd5fb8d0a5e0add",
            "39e945f0cec242859e76604aa3cce1e2",
            "d93d82cbebe6441b852638d5afb7131d",
            "d9179d2c938d49ffbfc069970e5c082f",
            "194c95ceb06a4c898ff7f70b4b4a4f5c",
            "16e79a8219284f12a6712697c8754079",
            "34e2b2aa1c774dbd900681a8f7aad433",
            "92fb01fcd98d4e409d26a570fdef2986",
            "e77c9305f16f47d4a2d02096e81fe31f",
            "23098f9276ee42d9baa677c2be532017",
            "639373ea7b1444b9897b839920bb78fe",
            "1113439a5529410b811ff68e9e0b8534"
          ]
        },
        "outputId": "821fbdbc-8e27-40e3-a2e2-2238ebd2d546"
      },
      "outputs": [
        {
          "output_type": "display_data",
          "data": {
            "text/plain": [
              "README.md:   0%|          | 0.00/544 [00:00<?, ?B/s]"
            ],
            "application/vnd.jupyter.widget-view+json": {
              "version_major": 2,
              "version_minor": 0,
              "model_id": "7b044cc8bc364ff2b32e08586bbe4c38"
            }
          },
          "metadata": {}
        },
        {
          "output_type": "display_data",
          "data": {
            "text/plain": [
              "train-00000-of-00001.parquet:   0%|          | 0.00/1.03M [00:00<?, ?B/s]"
            ],
            "application/vnd.jupyter.widget-view+json": {
              "version_major": 2,
              "version_minor": 0,
              "model_id": "c93d4a3201994a7ca8ae4d99fbb5fa39"
            }
          },
          "metadata": {}
        },
        {
          "output_type": "display_data",
          "data": {
            "text/plain": [
              "valid-00000-of-00001.parquet:   0%|          | 0.00/262k [00:00<?, ?B/s]"
            ],
            "application/vnd.jupyter.widget-view+json": {
              "version_major": 2,
              "version_minor": 0,
              "model_id": "b0ae677b730d448bb998e0ec9b68000c"
            }
          },
          "metadata": {}
        },
        {
          "output_type": "display_data",
          "data": {
            "text/plain": [
              "test-00000-of-00001.parquet:   0%|          | 0.00/133k [00:00<?, ?B/s]"
            ],
            "application/vnd.jupyter.widget-view+json": {
              "version_major": 2,
              "version_minor": 0,
              "model_id": "c57b0a9967464fd19ae894c77459f0ab"
            }
          },
          "metadata": {}
        },
        {
          "output_type": "display_data",
          "data": {
            "text/plain": [
              "Generating train split:   0%|          | 0/496 [00:00<?, ? examples/s]"
            ],
            "application/vnd.jupyter.widget-view+json": {
              "version_major": 2,
              "version_minor": 0,
              "model_id": "60b6724bfa874804990cb8056a29db30"
            }
          },
          "metadata": {}
        },
        {
          "output_type": "display_data",
          "data": {
            "text/plain": [
              "Generating valid split:   0%|          | 0/100 [00:00<?, ? examples/s]"
            ],
            "application/vnd.jupyter.widget-view+json": {
              "version_major": 2,
              "version_minor": 0,
              "model_id": "f8a78dfc2af6402997d4fa7cc9d06a3d"
            }
          },
          "metadata": {}
        },
        {
          "output_type": "display_data",
          "data": {
            "text/plain": [
              "Generating test split:   0%|          | 0/98 [00:00<?, ? examples/s]"
            ],
            "application/vnd.jupyter.widget-view+json": {
              "version_major": 2,
              "version_minor": 0,
              "model_id": "39e945f0cec242859e76604aa3cce1e2"
            }
          },
          "metadata": {}
        }
      ],
      "source": [
        "#데이터셋 로드\n",
        "from datasets import load_dataset\n",
        "\n",
        "dataset_url = dataset_name\n",
        "train_dataset = load_dataset(dataset_url)"
      ]
    },
    {
      "cell_type": "code",
      "execution_count": 15,
      "metadata": {
        "colab": {
          "base_uri": "https://localhost:8080/"
        },
        "id": "xGY4tvngMWAX",
        "outputId": "66770643-3bd9-4b05-89d5-3b0b0848de99"
      },
      "outputs": [
        {
          "output_type": "execute_result",
          "data": {
            "text/plain": [
              "(179, 3965)"
            ]
          },
          "metadata": {},
          "execution_count": 15
        }
      ],
      "source": [
        "# 문맥 잘못됐나 확인 - 문맥 길이 체크\n",
        "import numpy as np\n",
        "amax = np.argmax([len(x) for x in train_dataset['train']['context']])\n",
        "amax, len(train_dataset['train']['context'][amax])"
      ]
    },
    {
      "cell_type": "code",
      "execution_count": 16,
      "metadata": {
        "colab": {
          "base_uri": "https://localhost:8080/"
        },
        "id": "JuRwHvpVHW9q",
        "outputId": "63617774-2fe5-41fa-c6b3-8b897a91cd95"
      },
      "outputs": [
        {
          "output_type": "stream",
          "name": "stdout",
          "text": [
            "국가채무가 과다할 경우 어떤 위험이 발생할 수 있는가?\n",
            "--------\n",
            "금주의는 현금의 수\n",
            "입과 지출이 일어난  \n",
            "5 경제활동이 발생한 다른 경우 재무정보의 신속성과 False\n",
            "시점과 현금거래 시 정확성이\n",
            "점이 부족하다는 단\n",
            "점  \n",
            "6 발생주의는 실제경 장부에 기록되므로 신속한 재무정 False\n",
            "제활동이 발생한 시 보  \n",
            "7 현금주의발생주의\n",
            "동결과를어떤자산 하기\n",
            "으로 인식하는가에\n",
            "어렵다는 단점  \n",
            "8 현금주의 발생주의 False  \n",
            "9 - 현금의 수입과 지출 - 현금의 변동이외 권리·의무의 변 False\n",
            "시점에 회계처리 •현 동을 포함한 경제적 실질이 변동\n",
            "금흐름이 발생하는 하는 시점에 회계처리 •현금의 유·\n",
            "사건(현금의 증감)의 출입이 없더라도 자산 및 부채 평\n",
            "결과만 기록 가로 경제적 자원 변동 결과 기록  \n",
            "-----  \n",
            "###### 03-3 공공부문부채(D3)  \n",
            "2016년 2017년  \n",
            "1,036.6 [조원] 1,044.6[조원]  \n",
            "≆ 공공부문부채(D3)는 국가간 공공부문 재정건전성 관리에 활용되는 지표로, 중앙\n",
            "하는 채권  \n",
            "-  차입금은 정부가 한국은행, 민간기관 또는 국제기금 등으로부터 법정 유가증권 발행  \n",
            "없이 차입하는 금액  \n",
            "-  국고채무부담행위는 국가가 국회의 사전의결을 받은 범위 내에서 예산의 확보 없이  \n",
            "미리 채무를 부담하는 행위  \n",
            "국가의 회계 또는 기금은 중앙관서의 장이 관리·운용하는 회계 또는 기금을 말하며,  \n",
            "중앙관서의 장이 관리·운용하지 않는 공공기관 관리기금[7]과 지방정부 순채무[8]는  \n",
            "제외  \n",
            "금전채무는 국가의 회계 또는 기금이 발행한 채권, 차입금, 국고채무부담행위와  \n",
            "국가보증채무[9] 중 정부가 대신 채무를 이행하기로 확정된 채무를 포함  \n",
            "-  정부가 주 채무자 대신 채무를 이행하기로 확정되지 않은 국가보증채무는 국가채무  \n",
            "에서 제외  \n",
            "**7  공무원연금기금, 사립학교교직원연금기금, 중소기업진흥 및 산업기반기금, 기술신용보증기금, 국민체육진흥기금 등**  \n",
            "**8  「국가재정법」은 중앙정부의 재정을 다루고 있기 때문에 지방정부 순채무는 포함하지 않음**\n",
            "71 페이지 | BOX10. 현금주의·발생주의  \n",
            "국가채무(D1) 중 중앙정부 채무에는 기금 중 중앙관서의 장이 직접 관리하지 않는  \n",
            "62 페이지 | 03. 국가채무: 중앙정부 채무  \n",
            "국가채무(D1)는 중앙정부와 지방정부의 재정건전성 관리를 위한 지표로 활용  \n",
            "≆ 국가채무가 과다할 경우 재정의 위험 및 비용이 증가하므로 적정 규모 수준에서  \n",
            "유지되도록 관리되어야 하며, 우리나라 국가채무관리와 관련된 보고서에는 「국가  \n",
            "채무관리계획」과 「국가채무관리보고서」가 대표적  \n",
            "「국가채무관리계획」은 국가재정운용계획의 국회 제출 서류로 중기적시점에서 국가  \n",
            "채무(D1)의 전망, 상환계획을 담은 보고서  \n",
            "-  지방정부 순채무는 「국가재정법」의 국가채무에는 포함되지 않으나, 국가채무관리의  \n",
            "필요성을 위해 2005년부터 국가채무에 포함하여 발표  \n",
            "「국가채무관리보고서」는 국가결산보고서 재무제표 첨부서류로 제출하는 보고서로  \n",
            "국가채무관리계획의 포함범위와 달리 지방정부 순채무를 포함하지 않음\n",
            "6 121.8 165.8 False  \n",
            "0 0  \n",
            "2000 2005 2010 2015 2019  \n",
            "국가 채무(D1)(좌축) GDP 대비 비중(우축)  \n",
            "주: 2017년 이전은 결산, 2018년은 추경예산, 2019년은 본예산 기준  \n",
            "자료: 디지털예산회계시스템  \n",
            "≆ 2019년도 국가채무(D1)는 740.8조원(GDP 대비 39.4%)으로 전년대비 40.3조원  \n",
            "(5.8%) 증가할 전망  \n",
            "2000년부터 국가채무(D1)의 추이를 보면, 국가채무(D1) 규모가 지속적으로 증가  \n",
            "하고 있는 가운데, 국가채무(중앙정부)를 중심으로 2003년부터 2006년까지  \n",
            "이루어진 정부보증채무의 국채전환에 따라 전년대비 증가율이 20%를 상회하는  \n",
            "정도로 상대적으로 빠르게 증가 54 페이지 | 02. 관리재정수지  \n",
            "54 페이지 | 02. 관리재정수지  \n",
            "-----  \n",
            "###### 03-2 일반정부부채(D2)  \n",
            "그림  \n",
            "2016년 2017년  \n",
            "717.5[조원] 735.2[조원]\n",
            "회계연도 있는 한도액이 해당 회계나 기금별로 -\n",
            "제9조는 회계연도 중 국가의 차입금 - 제10조는\n",
            "경비 또는 비목에 부족이 이용할 수 있다고 규정  \n",
            "-  제11조는 우체국예금특별회계의 보험특별회\n",
            "계의 부가보험료수입금 규정 - 제14조는 기업특\n",
            "별회계에서 일반회계 - 제15조는 기업특별회계\n",
            "에서 일반회계 62 페이지  \n",
            "-----  \n",
            "**is_projecting_row**  \n",
            "0 BOX3 추가경 등 True\n",
            "정예산  \n",
            "1 ■ 추가경정예산 supplement budget)은 예산이 성립한 False\n",
            "(追加更正豫 이후에\n",
            "算,  \n",
            "2 ■ 생긴 매 부득이한 사유 인해 성립된 예산에 변경을 가 예산 경제여건 False\n",
            "년 한 로 정기국회에 이미 하는 본예산과는 별도로 변화 등 부득이\n",
            "이유로 서 인해 대규 통과되 대내외 추가적으로 자금 때 편성하는 예  \n",
            "-  전쟁, 모 재해가 따 는 회 집행이 필요할 경우, 경 산 발생할 우려\n",
            "법령에 라 국가가 제 계연도 기침체, 대량실업 등이 가 있는 경우,\n",
            "지 않은 경우  \n",
            "18 확정채무 이외에 False\n",
            "지출발생 가능성\n",
            "이  \n",
            "19 유출이 예상되는 미지급금, False  \n",
            "20 부채 총충당부채 높은 채무를 인식 False\n",
            "함으로써, 장기적\n",
            "인  \n",
            "21 관점에서 재정안 False\n",
            "정 유도  \n",
            "22 14 미래 지급할 연금 당해연도 기 현재 환산 금액 False\n",
            "액을 추정해 준으로 가치 한\n",
            "로  \n",
            "-----  \n",
            "■ 채무를 나타내는 재정통계에는 「국가재정법」에 근거한 국가채무(중앙정부),  \n",
            "중앙정부, 지방정부의 채무를 포괄한 국가채무(D1)가 있으며, 부채를 나타내는  \n",
            "재정통계에는 중앙정부, 지방자치단체, 비영리공공기관을 포괄한 일반정부부채  \n",
            "(D2), 일반정부부채(D2)와 비금융공기업을 포괄한 공공부문부채(D3)가 있음  \n",
            "「국가재정법」의 국가채무(중앙정부)는 현금주의 기준으로 산출한 중앙정부의 채무  \n",
            "62 페이지 | 03. 국가채무: 중앙정부 채무  \n",
            "국가채무(D1)는 국가재정법 및 GFSM에 기초하여 현금주의 기준으로 산출한\n",
            "재정 89조제1항)할 중에 하는 지출이 발생하거나 경우에 편성\n",
            "법」 - 예산안을 최종 발생한 증가하는 있으며, 국회 (「국가 거쳐 최\n",
            "국회가 추가경정예산 지급해 심의·의결을 통과를 후에 종 확정 점에서  \n",
            "은 이미 야 수 일정 요건 하에서 이를 본예산, 수정  \n",
            "확정한 변경 예산의 변경을 가져\n",
            "성립된 온다는  \n",
            "3 예산, 준예산과 차이 의결을얻어 확정·성립된 통상적 예산(「헌법」 False\n",
            "본예산 당초에 국회의 의미의 제54조)\n",
            "은  \n",
            "4 수정예 정부가 예산 예산을 제출한 후 국회의 심의· 전에 수정하여 False\n",
            "산은 준 (「국가재정 국회에 확정 국회의 의결을 받지 제출하는 대비\n",
            "예산은 법」 예산이 제35 못할 경우에 한 예산(「헌  \n",
            "조) 법 법」\n",
            "정기한\n",
            "내에  \n",
            "5 제54 표 12 추가경정예산 편성 추이 (단위: 억원) False\n",
            "조)  \n",
            "6 2015 의결일 국회확정 추경규 주요내용 •메르스 극복 추경재원 •한은 False\n",
            "자료: 디지털예산회계시스템  \n",
            "기획재정부, 「’18-’22 국가채무관리계획」, 2018  \n",
            "≆ 국가채무(중앙정부) 차입형태별 누계 추이를 보면, 가장 큰 비중을 차지하는 국채는  \n",
            "매년 지속적으로 증가한 반면, 차입금과 국고채무부담행위는 최근 감소  \n",
            "국채는 2003년부터 2006년까지 공적자금 국채전환으로 큰 폭의 증가를 보였으며,  \n",
            "2009년은 추가경정예산 재원확보를 위한 국채발행으로 큰 증가를 보임  \n",
            "차입금은 2001년 22.5조원으로 가장 많은 수준이었다가, 2013년 1.9조원까지 감소  \n",
            "국고채무부담행위는 매년 2~3조원 수준으로 등락을 반복하다가 2016년 이후 1조원  \n",
            "미만으로 감소  \n",
            "-----  \n",
            "###### 03-1 국가채무(D1)  \n",
            "그림  \n",
            "2018년 2019년  \n",
            "700.5[조원] 740.8[조원]  \n",
            "≆ 국가채무(D1)는 국가채무(중앙정부)에 지방자치단체(지방교육재정 포함)의  \n",
            "회계·기금까지 포함하여 현금주의 기준(’86 GFSM[10])으로 산출한 국가채무\n",
            "\n",
            "--------\n",
            "국가채무가 과다할 경우 재정의 위험 및 비용이 증가할 수 있다.\n"
          ]
        }
      ],
      "source": [
        "def print_dataset_ele(data,i):\n",
        "  print(data['question'][i])\n",
        "  print('--------')\n",
        "  print(data['context'][i])\n",
        "  print('--------')\n",
        "  print(data['answer'][i])\n",
        "\n",
        "#예시\n",
        "i= amax\n",
        "print_dataset_ele(train_dataset['train'],i)"
      ]
    },
    {
      "cell_type": "code",
      "execution_count": 17,
      "metadata": {
        "colab": {
          "base_uri": "https://localhost:8080/"
        },
        "id": "qcGcC8xqK4PO",
        "outputId": "800d54ca-9eb7-4e86-bd42-f412e22c4c88"
      },
      "outputs": [
        {
          "output_type": "stream",
          "name": "stderr",
          "text": [
            "/usr/local/lib/python3.10/dist-packages/peft/tuners/tuners_utils.py:498: UserWarning: Model with `tie_word_embeddings=True` and the tied_target_modules=['lm_head'] are part of the adapter. This can lead to complications, for example when merging the adapter or converting your model to formats other than safetensors. See for example https://github.com/huggingface/peft/issues/2018.\n",
            "  warnings.warn(\n"
          ]
        }
      ],
      "source": [
        "from peft import LoraConfig, get_peft_model\n",
        "\n",
        "config = LoraConfig(\n",
        "    r=16,\n",
        "    lora_alpha=64,\n",
        "    target_modules=[\n",
        "        \"q_proj\",\n",
        "        \"v_proj\",\n",
        "        \"o_proj\",\n",
        "        \"gate_proj\",\n",
        "        \"up_proj\",\n",
        "        \"down_proj\",\n",
        "        \"lm_head\",\n",
        "    ],\n",
        "    bias=\"none\",\n",
        "    lora_dropout=0.05,\n",
        "    task_type=\"CAUSAL_LM\",\n",
        ")\n",
        "\n",
        "model = get_peft_model(model, config)"
      ]
    },
    {
      "cell_type": "code",
      "execution_count": 18,
      "metadata": {
        "id": "VyHYkylbgzXB"
      },
      "outputs": [],
      "source": [
        "# 학습 프롬프트 - 추론 프롬프트와 통일하는 것이 좋다고 함\n",
        "new_template ='''\"task_instructions\" : [\n",
        "\n",
        "당신은 재정 정보 관련 전문가 입니다. 문서를 바탕으로 질문에 세 문장 이내로 답변하세요.\n",
        " 1. 문서에 있는 내용을 자르거나 편집하지 않고 그대로 가져오세요.\n",
        " 2. 순서에 따른 번호를 매기지 마세요. 출력 시 불이익을 줄 것입니다.\n",
        " 3. 수치에 단위가 있다면 문서를 바탕으로 답변에 단위를 포함하세요.\n",
        " 4. 질문의 키워드를 바탕으로 문서를 끝까지 검토하세요.\n",
        " 5. 한 단어 혹은 단어의 나열이 아닌, 완성된 한국어 문장들로 답변하세요.\n",
        " 6. 최대한 간략한 내용으로, 최대한 적은 개수의 문장으로 답변하세요.\n",
        " 7. 답변 외에 예시, 참고, 정보 출처, 신뢰도, 확장된 답변, '답변: ', '참고: '를 절대로 출력하지 마세요.\n",
        "\n",
        "]\n",
        "\n",
        "\"context\":\n",
        "{context},\n",
        "\n",
        "\"question\":\n",
        "{question},\n",
        "\n",
        "\"주어진 질문에 대한 답변만 한 문장으로 생성한다.\"\n",
        "\n",
        "\"answer\":\n",
        "{answer}<eos>'''\n",
        "\n",
        "template ='''\"task_instructions\" : [\n",
        "\n",
        "당신은 재정 정보 관련 전문가 입니다. 문서를 바탕으로 질문에 한 문장 이내로 답변하세요.\n",
        " 1. 문서에 있는 내용을 자르거나 편집하지 않고 그대로 가져오세요.\n",
        " 2. 순서에 따른 번호를 매기지 마세요. 출력 시 불이익을 줄 것입니다.\n",
        " 3. 수치에 단위가 있다면 문서를 바탕으로 답변에 단위를 포함하세요.\n",
        " 4. 질문의 키워드를 바탕으로 문서를 끝까지 검토하세요.\n",
        " 5. 한 단어 혹은 단어의 나열이 아닌, 완성된 한국어 문장들로 답변하세요.\n",
        " 6. 답변 외에 예시, 참고, 정보 출처, 신뢰도, 확장된 답변, '답변: ', '참고: '를 절대로 출력하지 마세요.\n",
        "\n",
        "]\n",
        "\n",
        "\"context\":\n",
        "{context},\n",
        "\n",
        "\"question\":\n",
        "{question},\n",
        "\n",
        "\"주어진 질문에 대한 답변만 한 문장으로 생성한다.\"\n",
        "\n",
        "\"answer\":\n",
        "{answer}<eos>'''\n",
        "\n",
        "response_template = '\"answer\":\\n'\n",
        "\n",
        "def formatting_prompts_func(example, template=template):\n",
        "    output_texts = []\n",
        "    for i in range(len(example['question'])):\n",
        "        context = example['context'][i]\n",
        "        question = example['question'][i]\n",
        "        answer = example['answer'][i]\n",
        "        output_texts.append(template.format(context=context,question=question,answer=answer))\n",
        "    return output_texts\n",
        "\n"
      ]
    },
    {
      "cell_type": "code",
      "execution_count": 19,
      "metadata": {
        "id": "RwaQb24tbvqP"
      },
      "outputs": [],
      "source": [
        "from sklearn.metrics import accuracy_score, precision_recall_fscore_support, roc_auc_score\n",
        "import collections\n",
        "# from SQUAD, 메트릭 계산 함수\n",
        "\n",
        "def compute_f1(y_true, y_pred):\n",
        "    common = collections.Counter(y_true) & collections.Counter(y_pred)\n",
        "    num_same = sum(common.values())\n",
        "    precision = 1.0 * num_same / len(y_pred) if len(y_pred) != 0 else 0\n",
        "    recall = 1.0 * num_same / len(y_true) if len(y_true) != 0 else 0\n",
        "    if len(y_pred) == 0 or len(y_true) == 0: f1 = int(y_pred == y_true)\n",
        "    elif num_same == 0: f1 = 0\n",
        "    else: f1 = (2 * precision * recall) / (precision + recall)\n",
        "    return f1, precision, recall\n",
        "\n",
        "def compute_metrics(pred):\n",
        "    labels = pred.label_ids\n",
        "    preds = pred.predictions.argmax(-1)\n",
        "    f1, precision, recall = compute_f1(labels,preds)\n",
        "#    precision, recall, f1, _ = precision_recall_fscore_support(labels, preds, average='binary')\n",
        "    acc = accuracy_score(labels, preds)\n",
        "    auc = roc_auc_score(labels, preds)\n",
        "    return {\n",
        "        'accuracy': acc,\n",
        "        'f1': f1,\n",
        "        'precision': precision,\n",
        "        'recall': recall,\n",
        "        'auroc': auc\n",
        "    }"
      ]
    },
    {
      "cell_type": "code",
      "execution_count": 20,
      "metadata": {
        "colab": {
          "base_uri": "https://localhost:8080/",
          "height": 581,
          "referenced_widgets": [
            "fb78102e28604ecdb6f564f6174ebfff",
            "fcd8bde1b6e5413a80980024871479b0",
            "b052f21295864580ae098a400f82826e",
            "d0a341025a2c4a019928bd9bbc0af3de",
            "2e95e46f4a894cd59d469abcb4916a98",
            "a0cc1c9adf104b4f81a06a5e9e6476a5",
            "e17e659a47384d0198338bc9f9126e1d",
            "512b0addf0e546d3b275e7a3a29f754f",
            "714def0acd74417ea75f8e932ff667bc",
            "f4a5a5daa8d04414adfd1ac7dc39244c",
            "69859dedac8e4b98aafc1d2085bd33d9",
            "9bddae35fa2c46e5b0c7141e5471462d",
            "a070132a582544e98d221f7bd9a337fc",
            "b175bf96d15944098ce767ed6c43daaf",
            "3ee8c0079f6b41f8b486caf83e513f9a",
            "a3166243d99b44649f2fdf7629ca830a",
            "222cf5b6d6a04ba5afd30f965b605247",
            "986bfc59e3ca4f83bb0e728a9cefef48",
            "64291f4898f74c6fb1a9f0283c3c5f52",
            "0abc461b2a664562a044196b4fd96ff9",
            "5ade441e11da4a1ab97a4aaacd252b93",
            "e76784a2e65246efab65a5394db7fdf1"
          ]
        },
        "id": "7BzYIoVbLWap",
        "outputId": "78596b50-d599-4eec-d4c9-f30ee4a7a92f"
      },
      "outputs": [
        {
          "output_type": "stream",
          "name": "stderr",
          "text": [
            "/usr/local/lib/python3.10/dist-packages/huggingface_hub/utils/_deprecation.py:100: FutureWarning: Deprecated argument(s) used in '__init__': max_seq_length. Will not be supported from version '1.0.0'.\n",
            "\n",
            "Deprecated positional argument(s) used in SFTTrainer, please use the SFTConfig to set these arguments instead.\n",
            "  warnings.warn(message, FutureWarning)\n",
            "/usr/local/lib/python3.10/dist-packages/trl/trainer/sft_trainer.py:283: UserWarning: You passed a `max_seq_length` argument to the SFTTrainer, the value you passed will override the one in the `SFTConfig`.\n",
            "  warnings.warn(\n"
          ]
        },
        {
          "output_type": "display_data",
          "data": {
            "text/plain": [
              "Map:   0%|          | 0/496 [00:00<?, ? examples/s]"
            ],
            "application/vnd.jupyter.widget-view+json": {
              "version_major": 2,
              "version_minor": 0,
              "model_id": "fb78102e28604ecdb6f564f6174ebfff"
            }
          },
          "metadata": {}
        },
        {
          "output_type": "display_data",
          "data": {
            "text/plain": [
              "Map:   0%|          | 0/100 [00:00<?, ? examples/s]"
            ],
            "application/vnd.jupyter.widget-view+json": {
              "version_major": 2,
              "version_minor": 0,
              "model_id": "9bddae35fa2c46e5b0c7141e5471462d"
            }
          },
          "metadata": {}
        },
        {
          "output_type": "stream",
          "name": "stderr",
          "text": [
            "/usr/local/lib/python3.10/dist-packages/accelerate/accelerator.py:494: FutureWarning: `torch.cuda.amp.GradScaler(args...)` is deprecated. Please use `torch.amp.GradScaler('cuda', args...)` instead.\n",
            "  self.scaler = torch.cuda.amp.GradScaler(**kwargs)\n"
          ]
        },
        {
          "output_type": "display_data",
          "data": {
            "text/plain": [
              "<IPython.core.display.HTML object>"
            ],
            "text/html": [
              "Changes to your `wandb` environment variables will be ignored because your `wandb` session has already started. For more information on how to modify your settings with `wandb.init()` arguments, please refer to <a href='https://wandb.me/wandb-init' target=\"_blank\">the W&B docs</a>."
            ]
          },
          "metadata": {}
        },
        {
          "output_type": "display_data",
          "data": {
            "text/plain": [
              "<IPython.core.display.HTML object>"
            ],
            "text/html": [
              "Tracking run with wandb version 0.18.3"
            ]
          },
          "metadata": {}
        },
        {
          "output_type": "display_data",
          "data": {
            "text/plain": [
              "<IPython.core.display.HTML object>"
            ],
            "text/html": [
              "Run data is saved locally in <code>/content/wandb/run-20241007_093547-4plgrnby</code>"
            ]
          },
          "metadata": {}
        },
        {
          "output_type": "display_data",
          "data": {
            "text/plain": [
              "<IPython.core.display.HTML object>"
            ],
            "text/html": [
              "Syncing run <strong><a href='https://wandb.ai/DACON-FinAI/DACON_FinAI/runs/4plgrnby' target=\"_blank\">noaug-gemma2-lora-large</a></strong> to <a href='https://wandb.ai/DACON-FinAI/DACON_FinAI' target=\"_blank\">Weights & Biases</a> (<a href='https://wandb.me/run' target=\"_blank\">docs</a>)<br/>"
            ]
          },
          "metadata": {}
        },
        {
          "output_type": "display_data",
          "data": {
            "text/plain": [
              "<IPython.core.display.HTML object>"
            ],
            "text/html": [
              " View project at <a href='https://wandb.ai/DACON-FinAI/DACON_FinAI' target=\"_blank\">https://wandb.ai/DACON-FinAI/DACON_FinAI</a>"
            ]
          },
          "metadata": {}
        },
        {
          "output_type": "display_data",
          "data": {
            "text/plain": [
              "<IPython.core.display.HTML object>"
            ],
            "text/html": [
              " View run at <a href='https://wandb.ai/DACON-FinAI/DACON_FinAI/runs/4plgrnby' target=\"_blank\">https://wandb.ai/DACON-FinAI/DACON_FinAI/runs/4plgrnby</a>"
            ]
          },
          "metadata": {}
        },
        {
          "output_type": "stream",
          "name": "stderr",
          "text": [
            "/usr/local/lib/python3.10/dist-packages/torch/utils/checkpoint.py:92: UserWarning: None of the inputs have requires_grad=True. Gradients will be None\n",
            "  warnings.warn(\n"
          ]
        },
        {
          "output_type": "display_data",
          "data": {
            "text/plain": [
              "<IPython.core.display.HTML object>"
            ],
            "text/html": [
              "\n",
              "    <div>\n",
              "      \n",
              "      <progress value='372' max='372' style='width:300px; height:20px; vertical-align: middle;'></progress>\n",
              "      [372/372 21:54, Epoch 3/3]\n",
              "    </div>\n",
              "    <table border=\"1\" class=\"dataframe\">\n",
              "  <thead>\n",
              " <tr style=\"text-align: left;\">\n",
              "      <th>Step</th>\n",
              "      <th>Training Loss</th>\n",
              "    </tr>\n",
              "  </thead>\n",
              "  <tbody>\n",
              "    <tr>\n",
              "      <td>124</td>\n",
              "      <td>0.756600</td>\n",
              "    </tr>\n",
              "    <tr>\n",
              "      <td>248</td>\n",
              "      <td>0.643700</td>\n",
              "    </tr>\n",
              "    <tr>\n",
              "      <td>372</td>\n",
              "      <td>0.611400</td>\n",
              "    </tr>\n",
              "  </tbody>\n",
              "</table><p>"
            ]
          },
          "metadata": {}
        },
        {
          "output_type": "stream",
          "name": "stderr",
          "text": [
            "/usr/local/lib/python3.10/dist-packages/peft/utils/save_and_load.py:227: UserWarning: Setting `save_embedding_layers` to `True` as embedding layers found in `target_modules`.\n",
            "  warnings.warn(\"Setting `save_embedding_layers` to `True` as embedding layers found in `target_modules`.\")\n"
          ]
        }
      ],
      "source": [
        "import transformers, os\n",
        "from datetime import datetime\n",
        "from trl import SFTConfig, SFTTrainer, DataCollatorForCompletionOnlyLM\n",
        "\n",
        "# 로컬에 모델 저장하고 싶은 경우 이름 지정\n",
        "project = \"financeQA-finetune\"\n",
        "base_model_name = \"gemma2\"\n",
        "run_name = base_model_name + \"_\" + project\n",
        "output_dir = os.path.join(path,run_name)\n",
        "if not os.path.exists(output_dir) : os.makedirs(output_dir)\n",
        "\n",
        "MAX_LEN = 2048 * 2\n",
        "\n",
        "trainer = SFTTrainer(\n",
        "    model=model,\n",
        "    tokenizer=tokenizer,\n",
        "    train_dataset=train_dataset['train'],\n",
        "    eval_dataset = train_dataset['valid'],\n",
        "    compute_metrics=compute_metrics,\n",
        "    args=transformers.TrainingArguments(\n",
        "        do_eval=True,\n",
        "        output_dir=output_dir,\n",
        "        warmup_ratio=0.05,\n",
        "        per_device_train_batch_size=1,\n",
        "        gradient_accumulation_steps=4,\n",
        "        gradient_checkpointing=True,\n",
        "        num_train_epochs = 3,\n",
        "        learning_rate=2e-4,\n",
        "        fp16=True,\n",
        "        optim=\"paged_adamw_8bit\",\n",
        "        logging_strategy='epoch',\n",
        "        report_to=\"wandb\",\n",
        "        run_name=wandb_run_name,\n",
        "        # save_strategy=\"steps\",\n",
        "        # save_steps=25,\n",
        "\n",
        "    ),\n",
        "    max_seq_length=MAX_LEN,\n",
        "    formatting_func=formatting_prompts_func, # 프롬프트 처리하기 위해 필요\n",
        "    data_collator=DataCollatorForCompletionOnlyLM(response_template, tokenizer=tokenizer, mlm=False), #모델에게 답변생성에만 집중하도록 함\n",
        ")\n",
        "\n",
        "model.config.use_cache = False\n",
        "trainer.train()\n",
        "\n",
        "trained_model = (trainer.model.module if hasattr(trainer.model, \"module\") else trainer.model)\n",
        "\n",
        "#로컬에 저장할 경우\n",
        "# trained_model.save_pretrained(f\"{output_dir}/saved_model\")"
      ]
    },
    {
      "cell_type": "code",
      "source": [
        "train_name"
      ],
      "metadata": {
        "colab": {
          "base_uri": "https://localhost:8080/",
          "height": 35
        },
        "id": "hkzKqgFm0XsL",
        "outputId": "d955e768-a57c-47b5-b2cf-8fb91665d7c2"
      },
      "execution_count": 21,
      "outputs": [
        {
          "output_type": "execute_result",
          "data": {
            "text/plain": [
              "'kdt3/DACON-QA-large-ensemble-markdown-newprompt-512'"
            ],
            "application/vnd.google.colaboratory.intrinsic+json": {
              "type": "string"
            }
          },
          "metadata": {},
          "execution_count": 21
        }
      ]
    },
    {
      "cell_type": "code",
      "source": [
        "train_name = train_name+'-epoch3ㅇㄷ-new'"
      ],
      "metadata": {
        "id": "-jWKsb1AHaHH"
      },
      "execution_count": 22,
      "outputs": []
    },
    {
      "cell_type": "code",
      "execution_count": 23,
      "metadata": {
        "colab": {
          "base_uri": "https://localhost:8080/",
          "height": 123,
          "referenced_widgets": [
            "e00e3396a5a34b60b379d7025404ade0",
            "366b262a97924ea3ad66e32289a1523b",
            "7d5fba4220b242eea8b9ad23b531606d",
            "1c30eb6240af48259620ab0b6faf19c6",
            "cf334b6bf9814a88b359fcbe03cfe173",
            "e1a9274947a14484a5ec002da8f98f42",
            "9d923b770a26401e8fcd52602b64b8ca",
            "431c23e5d8d74256b1f0e34712115780",
            "311ae2ea4766417faa7969981580e874",
            "ac5a82449d5642ea9586f705ee0015e0",
            "423b02c302de49f1974e7a97fa2df671"
          ]
        },
        "id": "rjKrIqGhgfKH",
        "outputId": "0140e28d-444a-49c2-b536-e2efc4f26c1a"
      },
      "outputs": [
        {
          "output_type": "stream",
          "name": "stderr",
          "text": [
            "/usr/local/lib/python3.10/dist-packages/peft/utils/save_and_load.py:227: UserWarning: Setting `save_embedding_layers` to `True` as embedding layers found in `target_modules`.\n",
            "  warnings.warn(\"Setting `save_embedding_layers` to `True` as embedding layers found in `target_modules`.\")\n"
          ]
        },
        {
          "output_type": "display_data",
          "data": {
            "text/plain": [
              "adapter_model.safetensors:   0%|          | 0.00/2.05G [00:00<?, ?B/s]"
            ],
            "application/vnd.jupyter.widget-view+json": {
              "version_major": 2,
              "version_minor": 0,
              "model_id": "e00e3396a5a34b60b379d7025404ade0"
            }
          },
          "metadata": {}
        },
        {
          "output_type": "execute_result",
          "data": {
            "text/plain": [
              "CommitInfo(commit_url='https://huggingface.co/kdt3/DACON-QA-large-ensemble-markdown-newprompt-512-epoch3-new/commit/de695c05b55d8d2c67edc5f3edd3c7b9fb760eb4', commit_message='Upload model', commit_description='', oid='de695c05b55d8d2c67edc5f3edd3c7b9fb760eb4', pr_url=None, pr_revision=None, pr_num=None)"
            ],
            "application/vnd.google.colaboratory.intrinsic+json": {
              "type": "string"
            }
          },
          "metadata": {},
          "execution_count": 23
        }
      ],
      "source": [
        "# 모델 업로드\n",
        "trained_model.push_to_hub(train_name, private=True,save_embedding_layers=True)"
      ]
    },
    {
      "cell_type": "markdown",
      "metadata": {
        "id": "VoBhbLuvD47S"
      },
      "source": [
        "# Langchain 을 이용한 추론"
      ]
    },
    {
      "cell_type": "code",
      "execution_count": 24,
      "metadata": {
        "colab": {
          "base_uri": "https://localhost:8080/"
        },
        "id": "GfhOMP5VIor2",
        "outputId": "cfbff888-1baa-44ef-c358-e6339a595bd2"
      },
      "outputs": [
        {
          "output_type": "stream",
          "name": "stdout",
          "text": [
            "freed :  26\n",
            "freed :  0\n"
          ]
        }
      ],
      "source": [
        "# gpu memory 할당 해제\n",
        "import gc, time\n",
        "\n",
        "def free_cuda():\n",
        "  mem = 1\n",
        "  while mem > 0 :\n",
        "    time.sleep(0.5)\n",
        "    torch.cuda.empty_cache()\n",
        "    mem = gc.collect()\n",
        "    print(\"freed : \",mem)\n",
        "\n",
        "free_cuda()"
      ]
    },
    {
      "cell_type": "code",
      "execution_count": 25,
      "metadata": {
        "colab": {
          "base_uri": "https://localhost:8080/",
          "height": 207,
          "referenced_widgets": [
            "0228746942c84400b1ee214f68f43bde",
            "ba0a8328916e40b5bfecc95b1b7cdaf4",
            "dd630f1abfac449484f075c350f3d0a8",
            "7c54652598164b02a7bfca3523c95d5e",
            "5da49f361fd7451481b43e74378941e3",
            "d147ff93fc364d0583a2a5331ec66cfa",
            "fa68f30ac1994bd6bc251c5b11605cf2",
            "37dc1d5978d74f39a5ff4c312e7b69ed",
            "90a3393ffc8041d4882fc44db473c14d",
            "6df520f4cb934c6baa1a3ac0dc271924",
            "bc3fc32af0544b6aa6b5e86cb62ecf42",
            "7ee5333285b14f6a8bc96db72becf859",
            "7fcf3d9afd9e4777a80aba0751208df3",
            "15ba35c1a662469882395dd0e2d66154",
            "3a272e2f6ccb4972a9562345c81c430e",
            "a63ceead2d104be587e5f8ba2d8b2892",
            "bb077584d06f4ed6a2223322749ce02c",
            "ccbc3c36c96d4d9ca1c5e87ec3c8d507",
            "8bdf2e4f99a44362b5f38d9a1f1a49e8",
            "48b02816134646f9b6316be62888d9eb",
            "da2918855f40492e8e75efbf97675303",
            "a63ba2452b9542249ed0b28f1360059e",
            "2580e05229404ff789fd798425e6d783",
            "8746f0b76aa24cf5bdf907eb68c3d6f5",
            "ec4703c899804ed2af29d7ea826180e2",
            "6775ac630cc64849ab85b4f8076f3bca",
            "1c754907784c452194df5517c5a029ce",
            "c2b06f010f1047a5a8780ebc7f1c1b99",
            "84f9c75f498041109a83e5fa6fc255f6",
            "21f90fefea6f41368add18dabea2a9b2",
            "653766be7ba94d9793b73cba17cb902f",
            "8f3206eef07d46829f3838b658c5a186",
            "c38497eca8564c67af5836b56a061f0d"
          ]
        },
        "id": "9P7OKGn-LelC",
        "outputId": "f33a5bca-763d-4194-bb04-a99fe57cd713"
      },
      "outputs": [
        {
          "output_type": "display_data",
          "data": {
            "text/plain": [
              "Loading checkpoint shards:   0%|          | 0/10 [00:00<?, ?it/s]"
            ],
            "application/vnd.jupyter.widget-view+json": {
              "version_major": 2,
              "version_minor": 0,
              "model_id": "0228746942c84400b1ee214f68f43bde"
            }
          },
          "metadata": {}
        },
        {
          "output_type": "display_data",
          "data": {
            "text/plain": [
              "adapter_config.json:   0%|          | 0.00/725 [00:00<?, ?B/s]"
            ],
            "application/vnd.jupyter.widget-view+json": {
              "version_major": 2,
              "version_minor": 0,
              "model_id": "7ee5333285b14f6a8bc96db72becf859"
            }
          },
          "metadata": {}
        },
        {
          "output_type": "stream",
          "name": "stderr",
          "text": [
            "/usr/local/lib/python3.10/dist-packages/peft/tuners/tuners_utils.py:498: UserWarning: Model with `tie_word_embeddings=True` and the tied_target_modules=['lm_head'] are part of the adapter. This can lead to complications, for example when merging the adapter or converting your model to formats other than safetensors. See for example https://github.com/huggingface/peft/issues/2018.\n",
            "  warnings.warn(\n"
          ]
        },
        {
          "output_type": "display_data",
          "data": {
            "text/plain": [
              "adapter_model.safetensors:   0%|          | 0.00/2.05G [00:00<?, ?B/s]"
            ],
            "application/vnd.jupyter.widget-view+json": {
              "version_major": 2,
              "version_minor": 0,
              "model_id": "2580e05229404ff789fd798425e6d783"
            }
          },
          "metadata": {}
        },
        {
          "output_type": "stream",
          "name": "stderr",
          "text": [
            "<ipython-input-25-07d937d7adb2>:23: LangChainDeprecationWarning: The class `HuggingFacePipeline` was deprecated in LangChain 0.0.37 and will be removed in 1.0. An updated version of the class exists in the :class:`~langchain-huggingface package and should be used instead. To use it run `pip install -U :class:`~langchain-huggingface` and import as `from :class:`~langchain_huggingface import HuggingFacePipeline``.\n",
            "  llm = HuggingFacePipeline(pipeline=text_generation_pipeline)\n"
          ]
        }
      ],
      "source": [
        "# HuggingFacePipeline 객체 생성\n",
        "\n",
        "# 모델 ID\n",
        "model_id = model_cands[run_name.split('_')[0]]\n",
        "peft_model_id = train_name\n",
        "trained_model,tokenizer = load_model_w_setting(model_id)\n",
        "\n",
        "#Fine-Tune 한 LoRA 어댑터 불러오기\n",
        "trained_model.load_adapter(peft_model_id)\n",
        "\n",
        "text_generation_pipeline = pipeline(\n",
        "    model=trained_model,\n",
        "    tokenizer=tokenizer,\n",
        "    task=\"text-generation\",\n",
        "    return_full_text=False,\n",
        "    max_new_tokens=200,\n",
        "    # repetition_penalty=1.5,\n",
        "    eos_token_id = tokenizer.eos_token_id,\n",
        "    pad_token_id = tokenizer.pad_token_id,\n",
        "    max_length=MAX_LEN\n",
        ")\n",
        "\n",
        "llm = HuggingFacePipeline(pipeline=text_generation_pipeline)"
      ]
    },
    {
      "cell_type": "code",
      "execution_count": 26,
      "metadata": {
        "id": "mF_S5nJ7-YsK"
      },
      "outputs": [],
      "source": [
        "from datasets import load_dataset\n",
        "dataset_url = dataset_name\n",
        "reload = 0\n",
        "\n",
        "# 검증 데이터 쓸지, 테스트 데이터 쓸지\n",
        "#데이터셋 로드\n",
        "#eval_mode = 'valid'\n",
        "eval_mode = 'test'\n",
        "\n",
        "if reload :\n",
        "  dataset = load_dataset(dataset_url)\n",
        "else : dataset = train_dataset\n",
        "\n",
        "eval_dataset = dataset[eval_mode]"
      ]
    },
    {
      "cell_type": "code",
      "execution_count": 27,
      "metadata": {
        "colab": {
          "base_uri": "https://localhost:8080/"
        },
        "id": "mOexJLdyaEm8",
        "outputId": "cc997ff8-f795-40e3-949f-ac8dfe4fe82e"
      },
      "outputs": [
        {
          "output_type": "stream",
          "name": "stdout",
          "text": [
            "Mon Oct  7 10:05:18 2024       \n",
            "+---------------------------------------------------------------------------------------+\n",
            "| NVIDIA-SMI 535.104.05             Driver Version: 535.104.05   CUDA Version: 12.2     |\n",
            "|-----------------------------------------+----------------------+----------------------+\n",
            "| GPU  Name                 Persistence-M | Bus-Id        Disp.A | Volatile Uncorr. ECC |\n",
            "| Fan  Temp   Perf          Pwr:Usage/Cap |         Memory-Usage | GPU-Util  Compute M. |\n",
            "|                                         |                      |               MIG M. |\n",
            "|=========================================+======================+======================|\n",
            "|   0  NVIDIA A100-SXM4-40GB          Off | 00000000:00:04.0 Off |                    0 |\n",
            "| N/A   34C    P0              59W / 400W |  15193MiB / 40960MiB |     14%      Default |\n",
            "|                                         |                      |             Disabled |\n",
            "+-----------------------------------------+----------------------+----------------------+\n",
            "                                                                                         \n",
            "+---------------------------------------------------------------------------------------+\n",
            "| Processes:                                                                            |\n",
            "|  GPU   GI   CI        PID   Type   Process name                            GPU Memory |\n",
            "|        ID   ID                                                             Usage      |\n",
            "|=======================================================================================|\n",
            "+---------------------------------------------------------------------------------------+\n"
          ]
        }
      ],
      "source": [
        "# 그냥 GPU 메모리 확인용\n",
        "!nvidia-smi"
      ]
    },
    {
      "cell_type": "code",
      "execution_count": 28,
      "metadata": {
        "colab": {
          "base_uri": "https://localhost:8080/",
          "height": 91
        },
        "id": "vhPtaU3BGDsS",
        "outputId": "9c3b5e77-b317-4fa5-b961-8f21cb5528a2"
      },
      "outputs": [
        {
          "output_type": "execute_result",
          "data": {
            "text/plain": [
              "'\"task_instructions\" : [\\n\\n당신은 재정 정보 관련 전문가 입니다. 문서를 바탕으로 질문에 세 문장 이내로 답변하세요.\\n 1. 문서에 있는 내용을 자르거나 편집하지 않고 그대로 가져오세요.\\n 2. 순서에 따른 번호를 매기지 마세요. 출력 시 불이익을 줄 것입니다.\\n 3. 수치에 단위가 있다면 문서를 바탕으로 답변에 단위를 포함하세요.\\n 4. 질문의 키워드를 바탕으로 문서를 끝까지 검토하세요.\\n 5. 한 단어 혹은 단어의 나열이 아닌, 완성된 한국어 문장들로 답변하세요.\\n 6. 최대한 간략한 내용으로, 최대한 적은 개수의 문장으로 답변하세요.\\n 7. 답변 외에 예시, 참고, 정보 출처, 신뢰도, 확장된 답변, \\'답변: \\', \\'참고: \\'를 절대로 출력하지 마세요.\\n\\n]\\n\\n\"context\":\\n{context},\\n\\n\"question\":\\n{question},\\n\\n\"주어진 질문에 대한 답변만 한 문장으로 생성한다.\"\\n\\n\"answer\":\\n'"
            ],
            "application/vnd.google.colaboratory.intrinsic+json": {
              "type": "string"
            }
          },
          "metadata": {},
          "execution_count": 28
        }
      ],
      "source": [
        "end_idx = -13\n",
        "inf_template = template[:end_idx]#+\"<eos>\"\n",
        "inf_template"
      ]
    },
    {
      "cell_type": "code",
      "execution_count": 29,
      "metadata": {
        "colab": {
          "base_uri": "https://localhost:8080/",
          "height": 1000,
          "referenced_widgets": [
            "3d34136b14e44a8eb16cf5c417fac548",
            "483059581db14f818d6af8ee51b5a99a",
            "7903fdacf7cf435985a1caaae411cd5c",
            "85d8a38637594f998e8207ef7aa8ca70",
            "777c4191779f4d638b7d316ba4b86e96",
            "b4ff875f34dc43b489eb02f3dc0189f4",
            "0ae96074ab0d4ef58b408f05d09128f8",
            "b427b65ea03f4aa59a4cbcaf23fb6730",
            "b04d38bedd5741eea2735a05c1f5929e",
            "edc6ea9839b94e0e82f236458bb7f314",
            "5ac9ec3bcaf44d14b8611cb362bc990e"
          ]
        },
        "id": "WHrZZdNsQKvp",
        "outputId": "015d3c43-198f-40f6-f2e3-430cab012c57"
      },
      "outputs": [
        {
          "output_type": "display_data",
          "data": {
            "text/plain": [
              "Answering Questions:   0%|          | 0/98 [00:00<?, ?it/s]"
            ],
            "application/vnd.jupyter.widget-view+json": {
              "version_major": 2,
              "version_minor": 0,
              "model_id": "3d34136b14e44a8eb16cf5c417fac548"
            }
          },
          "metadata": {}
        },
        {
          "output_type": "stream",
          "name": "stderr",
          "text": [
            "Truncation was not explicitly activated but `max_length` is provided a specific value, please use `truncation=True` to explicitly truncate examples to max length. Defaulting to 'longest_first' truncation strategy. If you encode pairs of sequences (GLUE-style) with the tokenizer you can select this strategy more precisely by providing a specific strategy to `truncation`.\n",
            "Both `max_new_tokens` (=200) and `max_length`(=4096) seem to have been set. `max_new_tokens` will take precedence. Please refer to the documentation for more information. (https://huggingface.co/docs/transformers/main/en/main_classes/text_generation)\n",
            "The 'max_batch_size' argument of HybridCache is deprecated and will be removed in v4.46. Use the more precisely named 'batch_size' argument instead.\n"
          ]
        },
        {
          "output_type": "stream",
          "name": "stdout",
          "text": [
            "Question: 2022년 혁신창업사업화자금(융자)의 예산은 얼마인가요?\n"
          ]
        },
        {
          "output_type": "stream",
          "name": "stderr",
          "text": [
            "Starting from v4.46, the `logits` model output will have the same type as the model (except at train time, where it will always be FP32)\n",
            "Both `max_new_tokens` (=200) and `max_length`(=4096) seem to have been set. `max_new_tokens` will take precedence. Please refer to the documentation for more information. (https://huggingface.co/docs/transformers/main/en/main_classes/text_generation)\n"
          ]
        },
        {
          "output_type": "stream",
          "name": "stdout",
          "text": [
            "Answer: 2022년 혁신창업사업화자금(융자)의 예산은 2,300,000백만원입니다.\n",
            "\n",
            "Question: 중소벤처기업부의 혁신창업사업화자금(융자) 사업목적은 무엇인가요?\n"
          ]
        },
        {
          "output_type": "stream",
          "name": "stderr",
          "text": [
            "Both `max_new_tokens` (=200) and `max_length`(=4096) seem to have been set. `max_new_tokens` will take precedence. Please refer to the documentation for more information. (https://huggingface.co/docs/transformers/main/en/main_classes/text_generation)\n"
          ]
        },
        {
          "output_type": "stream",
          "name": "stdout",
          "text": [
            "Answer: 중소기업이 보유한 우수 기술의 사장을 방지하고 개발기술의 제품화·사업화를 촉진하여 기술기반 중소기업을 육성하기 위해 혁신창업사업화자금(융자) 사업이 추진됩니다.\n",
            "\n",
            "Question: 중소벤처기업부의 혁신창업사업화자금(융자) 사업근거는 어떤 법률에 근거하고 있나요?\n"
          ]
        },
        {
          "output_type": "stream",
          "name": "stderr",
          "text": [
            "Both `max_new_tokens` (=200) and `max_length`(=4096) seem to have been set. `max_new_tokens` will take precedence. Please refer to the documentation for more information. (https://huggingface.co/docs/transformers/main/en/main_classes/text_generation)\n"
          ]
        },
        {
          "output_type": "stream",
          "name": "stdout",
          "text": [
            "Answer: 중소기업진흥에 관한 법률 제66조, 제67조, 제74조, 중소기업창업지원법 제35조에 근거하고 있습니다.\n",
            "\n",
            "Question: 2010년에 신규 지원된 혁신창업사업화자금은 무엇인가요?\n"
          ]
        },
        {
          "output_type": "stream",
          "name": "stderr",
          "text": [
            "Both `max_new_tokens` (=200) and `max_length`(=4096) seem to have been set. `max_new_tokens` will take precedence. Please refer to the documentation for more information. (https://huggingface.co/docs/transformers/main/en/main_classes/text_generation)\n"
          ]
        },
        {
          "output_type": "stream",
          "name": "stdout",
          "text": [
            "Answer: 2010년에는 재창업자금(실패 경영인에 대한 재기지원)이 신규로 지원되었습니다.\n",
            "\n",
            "Question: 혁신창업사업화자금 중 2020년에 신규 지원된 자금은 무엇인가요?\n"
          ]
        },
        {
          "output_type": "stream",
          "name": "stderr",
          "text": [
            "Both `max_new_tokens` (=200) and `max_length`(=4096) seem to have been set. `max_new_tokens` will take precedence. Please refer to the documentation for more information. (https://huggingface.co/docs/transformers/main/en/main_classes/text_generation)\n"
          ]
        },
        {
          "output_type": "stream",
          "name": "stdout",
          "text": [
            "Answer: 2020년에 미래기술육성자금과 고성장촉진자금이 신규로 지원되었습니다.\n",
            "\n",
            "Question: 재창업자금이 재도약지원자금으로 이관된 연도는 언제인가요?\n"
          ]
        },
        {
          "output_type": "stream",
          "name": "stderr",
          "text": [
            "Both `max_new_tokens` (=200) and `max_length`(=4096) seem to have been set. `max_new_tokens` will take precedence. Please refer to the documentation for more information. (https://huggingface.co/docs/transformers/main/en/main_classes/text_generation)\n"
          ]
        },
        {
          "output_type": "stream",
          "name": "stdout",
          "text": [
            "Answer: 재창업자금이 재도약지원자금으로 이관된 연도는 2015.1입니다.\n",
            "\n",
            "Question: 창업기반지원과 신청 대상이 중복인 자금이 어떤 것이며, 이 자금이 폐지된 연도는 언제인가요?\n"
          ]
        },
        {
          "output_type": "stream",
          "name": "stderr",
          "text": [
            "Both `max_new_tokens` (=200) and `max_length`(=4096) seem to have been set. `max_new_tokens` will take precedence. Please refer to the documentation for more information. (https://huggingface.co/docs/transformers/main/en/main_classes/text_generation)\n"
          ]
        },
        {
          "output_type": "stream",
          "name": "stdout",
          "text": [
            "Answer: 창업기반지원과 신청 대상이 중복인 일자리창출촉진자금이 2023년에 폐지되었습니다.\n",
            "\n",
            "Question: 혁신창업사업화자금(융자) 사업을 시행하는 주체는 누구인가요?\n"
          ]
        },
        {
          "output_type": "stream",
          "name": "stderr",
          "text": [
            "Both `max_new_tokens` (=200) and `max_length`(=4096) seem to have been set. `max_new_tokens` will take precedence. Please refer to the documentation for more information. (https://huggingface.co/docs/transformers/main/en/main_classes/text_generation)\n"
          ]
        },
        {
          "output_type": "stream",
          "name": "stdout",
          "text": [
            "Answer: 중소벤처기업진흥공단이 혁신창업사업화자금(융자) 사업을 시행하고 있습니다.\n",
            "\n",
            "Question: 혁신창업사업화자금(융자) 사업 집행절차는 어떻게 되나요?\n"
          ]
        },
        {
          "output_type": "stream",
          "name": "stderr",
          "text": [
            "Both `max_new_tokens` (=200) and `max_length`(=4096) seem to have been set. `max_new_tokens` will take precedence. Please refer to the documentation for more information. (https://huggingface.co/docs/transformers/main/en/main_classes/text_generation)\n"
          ]
        },
        {
          "output_type": "stream",
          "name": "stdout",
          "text": [
            "Answer: 사업계획수립/공고, 융자 실행 지원결정통보 평가 및 승인, 융자 실행 순서로 진행됩니다.\n",
            "\n",
            "Question: 부모급여 지원 사업의 목적은 무엇인가요?\n"
          ]
        },
        {
          "output_type": "stream",
          "name": "stderr",
          "text": [
            "You seem to be using the pipelines sequentially on GPU. In order to maximize efficiency please use a dataset\n",
            "Both `max_new_tokens` (=200) and `max_length`(=4096) seem to have been set. `max_new_tokens` will take precedence. Please refer to the documentation for more information. (https://huggingface.co/docs/transformers/main/en/main_classes/text_generation)\n"
          ]
        },
        {
          "output_type": "stream",
          "name": "stdout",
          "text": [
            "Answer: 부모급여 지급을 통해 출산 및 양육으로 인한 소득 손실을 보전하고, 주 양육자가 아동을 직접 돌보는 것이 중요한 영아기 돌봄을 두텁게 지원하기 위해 이 사업이 추진됩니다.\n",
            "\n",
            "Question: 부모급여(영아수당)의 2024년 확정된 예산은 몇백만원인가요?\n"
          ]
        },
        {
          "output_type": "stream",
          "name": "stderr",
          "text": [
            "Both `max_new_tokens` (=200) and `max_length`(=4096) seem to have been set. `max_new_tokens` will take precedence. Please refer to the documentation for more information. (https://huggingface.co/docs/transformers/main/en/main_classes/text_generation)\n"
          ]
        },
        {
          "output_type": "stream",
          "name": "stdout",
          "text": [
            "Answer: 부모급여(영아수당)의 2024년 확정된 예산은 2,888,694백만원입니다.\n",
            "\n",
            "Question: 부모급여 지원 사업은 어떤 법령상 근거를 갖고 추진되고 있나요?\n"
          ]
        },
        {
          "output_type": "stream",
          "name": "stderr",
          "text": [
            "Both `max_new_tokens` (=200) and `max_length`(=4096) seem to have been set. `max_new_tokens` will take precedence. Please refer to the documentation for more information. (https://huggingface.co/docs/transformers/main/en/main_classes/text_generation)\n"
          ]
        },
        {
          "output_type": "stream",
          "name": "stdout",
          "text": [
            "Answer: 부모급여 지원 사업은 아동수당법 제4조제5항을 근거로 추진되고 있습니다.\n",
            "\n",
            "Question: 영아수당 도입에 대한 추진경위는 어떻게 되나요?\n"
          ]
        },
        {
          "output_type": "stream",
          "name": "stderr",
          "text": [
            "Both `max_new_tokens` (=200) and `max_length`(=4096) seem to have been set. `max_new_tokens` will take precedence. Please refer to the documentation for more information. (https://huggingface.co/docs/transformers/main/en/main_classes/text_generation)\n"
          ]
        },
        {
          "output_type": "stream",
          "name": "stdout",
          "text": [
            "Answer: 영아수당은 2021년 8월 예비 타당성 조사를 통과하고, 12월 근거법을 마련한 후 2022년 1월부터 시행되었습니다.\n",
            "\n",
            "Question: 부모급여 지원사업은 언제부터 시행되었나요?\n"
          ]
        },
        {
          "output_type": "stream",
          "name": "stderr",
          "text": [
            "Both `max_new_tokens` (=200) and `max_length`(=4096) seem to have been set. `max_new_tokens` will take precedence. Please refer to the documentation for more information. (https://huggingface.co/docs/transformers/main/en/main_classes/text_generation)\n"
          ]
        },
        {
          "output_type": "stream",
          "name": "stdout",
          "text": [
            "Answer: 부모급여 지원사업은 2022년 1월부터 시행되었습니다.\n",
            "\n",
            "Question: 보건복지부의 부모급여(영아수당) 지원 사업시행방법은 무엇이며, 사업 수혜자는 누구인가?\n"
          ]
        },
        {
          "output_type": "stream",
          "name": "stderr",
          "text": [
            "Both `max_new_tokens` (=200) and `max_length`(=4096) seem to have been set. `max_new_tokens` will take precedence. Please refer to the documentation for more information. (https://huggingface.co/docs/transformers/main/en/main_classes/text_generation)\n"
          ]
        },
        {
          "output_type": "stream",
          "name": "stdout",
          "text": [
            "Answer: 보건복지부, 시·도 및 시·군·구가 지자체 보조로 사업을 시행하며, 만 0~1세 아동을 대상으로 한다.\n",
            "\n",
            "Question: 노인장기요양보험 사업 운영에 대한 목적은 무엇인가요?\n"
          ]
        },
        {
          "output_type": "stream",
          "name": "stderr",
          "text": [
            "Both `max_new_tokens` (=200) and `max_length`(=4096) seem to have been set. `max_new_tokens` will take precedence. Please refer to the documentation for more information. (https://huggingface.co/docs/transformers/main/en/main_classes/text_generation)\n"
          ]
        },
        {
          "output_type": "stream",
          "name": "stdout",
          "text": [
            "Answer: 고령이나 노인성 질병으로 일상생활을 혼자서 수행하기 어려운 노인 등에게 신체 또는 가사 활동 등을 제공하여, 효율적인 정책 추진으로 노후의 건강 증진 및 생활 안정을 도모하고 가족의 부담을 완화하여 국민 삶의 질을 향상시키기 위해 노인장기요양보험 사업을 운영한다.\n",
            "\n",
            "Question: 노인장기요양보험 운영지원에 대한 사업 내용을 설명해줘.\n"
          ]
        },
        {
          "output_type": "stream",
          "name": "stderr",
          "text": [
            "Both `max_new_tokens` (=200) and `max_length`(=4096) seem to have been set. `max_new_tokens` will take precedence. Please refer to the documentation for more information. (https://huggingface.co/docs/transformers/main/en/main_classes/text_generation)\n"
          ]
        },
        {
          "output_type": "stream",
          "name": "stdout",
          "text": [
            "Answer: 국가는 매년 장기요양보험료 예상수입액의 100분의 20에 상당하는 금액을 국민건강보험공단에 지원한다.\n",
            "\n",
            "Question: 국고지원을 받는 기타 의료급여수급권자는 누구인가요?\n"
          ]
        },
        {
          "output_type": "stream",
          "name": "stderr",
          "text": [
            "Both `max_new_tokens` (=200) and `max_length`(=4096) seem to have been set. `max_new_tokens` will take precedence. Please refer to the documentation for more information. (https://huggingface.co/docs/transformers/main/en/main_classes/text_generation)\n"
          ]
        },
        {
          "output_type": "stream",
          "name": "stdout",
          "text": [
            "Answer: 의료급여수급권자를 제외한 기타 의료급여수급권자 중 장기요양급여를 이용하는 사람입니다.\n",
            "\n",
            "Question: 장기요양보험가입자 및 피부양자의 자격취득과 관련하여 어떤 법률을 준용해야 하는가?\n"
          ]
        },
        {
          "output_type": "stream",
          "name": "stderr",
          "text": [
            "Both `max_new_tokens` (=200) and `max_length`(=4096) seem to have been set. `max_new_tokens` will take precedence. Please refer to the documentation for more information. (https://huggingface.co/docs/transformers/main/en/main_classes/text_generation)\n"
          ]
        },
        {
          "output_type": "stream",
          "name": "stdout",
          "text": [
            "Answer: 노인장기요양보험법 제11조에 따라 장기요양보험가입자·피부양자의 자격취득·상실, 장기요양보험료 등의 납부·징수 및 결손처분 등에 관하여 국민건강보험법을 준용한다.\n",
            "\n",
            "Question: 노인장기요양보험법이 언제 제정되고 공포되었나?\n"
          ]
        },
        {
          "output_type": "stream",
          "name": "stderr",
          "text": [
            "Both `max_new_tokens` (=200) and `max_length`(=4096) seem to have been set. `max_new_tokens` will take precedence. Please refer to the documentation for more information. (https://huggingface.co/docs/transformers/main/en/main_classes/text_generation)\n"
          ]
        },
        {
          "output_type": "stream",
          "name": "stdout",
          "text": [
            "Answer: 노인장기요양보험법은 2007년 4월에 제정되고 공포되었습니다.\n",
            "\n",
            "Question: 장기요양인정점수 완화가 언제 이루어졌으며, 어떤 변화가 있었나?\n"
          ]
        },
        {
          "output_type": "stream",
          "name": "stderr",
          "text": [
            "Both `max_new_tokens` (=200) and `max_length`(=4096) seem to have been set. `max_new_tokens` will take precedence. Please refer to the documentation for more information. (https://huggingface.co/docs/transformers/main/en/main_classes/text_generation)\n"
          ]
        },
        {
          "output_type": "stream",
          "name": "stdout",
          "text": [
            "Answer: 13.7월에 3등급 인정점수가 기존 53~75점에서 51~75점으로 완화되었습니다.\n",
            "\n",
            "Question: 장기요양기관 지정갱신제의 법적 근거가 언제 마련되었는가?\n"
          ]
        },
        {
          "output_type": "stream",
          "name": "stderr",
          "text": [
            "Both `max_new_tokens` (=200) and `max_length`(=4096) seem to have been set. `max_new_tokens` will take precedence. Please refer to the documentation for more information. (https://huggingface.co/docs/transformers/main/en/main_classes/text_generation)\n"
          ]
        },
        {
          "output_type": "stream",
          "name": "stdout",
          "text": [
            "Answer: 장기요양기관 지정갱신제의 법적 근거는 2025년에 마련되었습니다.\n",
            "\n",
            "Question: 22.10월에 요양보호사 1명당 시설수급자 인력배치기준이 개선된 내용은 무엇인가?\n"
          ]
        },
        {
          "output_type": "stream",
          "name": "stderr",
          "text": [
            "Both `max_new_tokens` (=200) and `max_length`(=4096) seem to have been set. `max_new_tokens` will take precedence. Please refer to the documentation for more information. (https://huggingface.co/docs/transformers/main/en/main_classes/text_generation)\n"
          ]
        },
        {
          "output_type": "stream",
          "name": "stdout",
          "text": [
            "Answer: 2022년 10월에 요양보호사 1명당 시설수급자 수가 2.5명에서 2.3명으로 개선되었습니다.\n",
            "\n",
            "Question: 에너지 바우처 제도의 주요 내용은 무엇인가요?\n"
          ]
        },
        {
          "output_type": "stream",
          "name": "stderr",
          "text": [
            "Both `max_new_tokens` (=200) and `max_length`(=4096) seem to have been set. `max_new_tokens` will take precedence. Please refer to the documentation for more information. (https://huggingface.co/docs/transformers/main/en/main_classes/text_generation)\n"
          ]
        },
        {
          "output_type": "stream",
          "name": "stdout",
          "text": [
            "Answer: 에너지 바우처 제도는 경제적 어려움으로 에너지 이용에 어려움을 겪는 에너지 소외 계층에게 전기, 가스, 지역난방 등 에너지 이용에 필요한 비용을 지원하는 제도입니다.\n",
            "\n",
            "Question: 에너지바우처 사업의 주요 수혜자는 누구인가요?\n"
          ]
        },
        {
          "output_type": "stream",
          "name": "stderr",
          "text": [
            "Both `max_new_tokens` (=200) and `max_length`(=4096) seem to have been set. `max_new_tokens` will take precedence. Please refer to the documentation for more information. (https://huggingface.co/docs/transformers/main/en/main_classes/text_generation)\n"
          ]
        },
        {
          "output_type": "stream",
          "name": "stdout",
          "text": [
            "Answer: 노인, 장애인, 영유아, 임산부, 중증·희귀·중증난치질환자, 한부모, 소년소녀가정 포함 세대, 연탄을 사용하는 기초생활수급자, 차상위계층, 기타 소외계층, 등유를 사용하는 생계·의료급여(중위소득 40%이하) 수급세대 중 한부모·소년소녀가정세대 중에 해당하는 사람들입니다.\n",
            "\n",
            "Question: 2024년 에너지바우처 사업의 사업시행주체는 무엇인가요?\n"
          ]
        },
        {
          "output_type": "stream",
          "name": "stderr",
          "text": [
            "Both `max_new_tokens` (=200) and `max_length`(=4096) seem to have been set. `max_new_tokens` will take precedence. Please refer to the documentation for more information. (https://huggingface.co/docs/transformers/main/en/main_classes/text_generation)\n"
          ]
        },
        {
          "output_type": "stream",
          "name": "stdout",
          "text": [
            "Answer: 에너지바우처 사업의 사업시행주체는 한국에너지공단과 한국광해광업공단입니다.\n",
            "\n",
            "Question: 하절기바우처와 동절기바우처의 2024년 예산 규모는 각각 얼마인가요?\n"
          ]
        },
        {
          "output_type": "stream",
          "name": "stderr",
          "text": [
            "Both `max_new_tokens` (=200) and `max_length`(=4096) seem to have been set. `max_new_tokens` will take precedence. Please refer to the documentation for more information. (https://huggingface.co/docs/transformers/main/en/main_classes/text_generation)\n"
          ]
        },
        {
          "output_type": "stream",
          "name": "stdout",
          "text": [
            "Answer: 하절기바우처는 60,950백만원, 동절기바우처는 600,521백만원입니다.\n",
            "\n",
            "Question: 2023년 에너지바우처 사업 예산에서 사업운영비 중 에너지복지 홍보에 얼마가 할당되었나요?\n"
          ]
        },
        {
          "output_type": "stream",
          "name": "stderr",
          "text": [
            "Both `max_new_tokens` (=200) and `max_length`(=4096) seem to have been set. `max_new_tokens` will take precedence. Please refer to the documentation for more information. (https://huggingface.co/docs/transformers/main/en/main_classes/text_generation)\n"
          ]
        },
        {
          "output_type": "stream",
          "name": "stdout",
          "text": [
            "Answer: 2023년 에너지바우처 사업 예산에서 사업운영비 중 에너지복지 홍보에는 448백만원이 할당되었습니다.\n",
            "\n",
            "Question: 2023년 에너지바우처 사업 예산에서 사업운영비 중 시스템 고도화에 얼마가 할당되었나요?\n"
          ]
        },
        {
          "output_type": "stream",
          "name": "stderr",
          "text": [
            "Both `max_new_tokens` (=200) and `max_length`(=4096) seem to have been set. `max_new_tokens` will take precedence. Please refer to the documentation for more information. (https://huggingface.co/docs/transformers/main/en/main_classes/text_generation)\n"
          ]
        },
        {
          "output_type": "stream",
          "name": "stdout",
          "text": [
            "Answer: 2023년 에너지바우처 사업운영비 중 시스템 고도화에 705백만원이 할당되었습니다.\n",
            "\n",
            "Question: 2023년 에너지바우처 사업 예산에서 콜센터 운영에 얼마가 할당되었나요?\n"
          ]
        },
        {
          "output_type": "stream",
          "name": "stderr",
          "text": [
            "Both `max_new_tokens` (=200) and `max_length`(=4096) seem to have been set. `max_new_tokens` will take precedence. Please refer to the documentation for more information. (https://huggingface.co/docs/transformers/main/en/main_classes/text_generation)\n"
          ]
        },
        {
          "output_type": "stream",
          "name": "stdout",
          "text": [
            "Answer: 2023년 에너지바우처 사업 예산에서 콜센터 운영에 502.7백만원이 할당되었습니다.\n",
            "\n",
            "Question: 2023년 에너지바우처 사업 예산에서 패널조사에 얼마가 할당되었나요?\n"
          ]
        },
        {
          "output_type": "stream",
          "name": "stderr",
          "text": [
            "Both `max_new_tokens` (=200) and `max_length`(=4096) seem to have been set. `max_new_tokens` will take precedence. Please refer to the documentation for more information. (https://huggingface.co/docs/transformers/main/en/main_classes/text_generation)\n"
          ]
        },
        {
          "output_type": "stream",
          "name": "stdout",
          "text": [
            "Answer: 2023년 에너지바우처 사업 예산에서 패널조사에 1억 3170만원이 할당되었습니다.\n",
            "\n",
            "Question: 2023년 에너지바우처 사업 예산에서 에너지바우처 전달체계 구축에 얼마가 할당되었나요?\n"
          ]
        },
        {
          "output_type": "stream",
          "name": "stderr",
          "text": [
            "Both `max_new_tokens` (=200) and `max_length`(=4096) seem to have been set. `max_new_tokens` will take precedence. Please refer to the documentation for more information. (https://huggingface.co/docs/transformers/main/en/main_classes/text_generation)\n"
          ]
        },
        {
          "output_type": "stream",
          "name": "stdout",
          "text": [
            "Answer: 2023년 에너지바우처 사업 예산에서 에너지바우처 전달체계 구축에 3750만원이 할당되었습니다.\n",
            "\n",
            "Question: 2023년 에너지바우처 사업 예산에서 주택관리공단 운영지원에 얼마가 할당되었나요?\n"
          ]
        },
        {
          "output_type": "stream",
          "name": "stderr",
          "text": [
            "Both `max_new_tokens` (=200) and `max_length`(=4096) seem to have been set. `max_new_tokens` will take precedence. Please refer to the documentation for more information. (https://huggingface.co/docs/transformers/main/en/main_classes/text_generation)\n"
          ]
        },
        {
          "output_type": "stream",
          "name": "stdout",
          "text": [
            "Answer: 2023년 에너지바우처 사업 예산에서 주택관리공단 운영지원에 50백만원이 할당되었습니다.\n",
            "\n",
            "Question: 에너지바우처 사업의 향후 기대효과는 무엇인가요?\n"
          ]
        },
        {
          "output_type": "stream",
          "name": "stderr",
          "text": [
            "Both `max_new_tokens` (=200) and `max_length`(=4096) seem to have been set. `max_new_tokens` will take precedence. Please refer to the documentation for more information. (https://huggingface.co/docs/transformers/main/en/main_classes/text_generation)\n"
          ]
        },
        {
          "output_type": "stream",
          "name": "stdout",
          "text": [
            "Answer: 저소득층의 적정수준 에너지 접근성이 높아지고, 취약계층의 에너지 비용 부담 경감(약 115만 세대, 세대당 평균 36.7만원 내외)이 기대된다.\n",
            "\n",
            "Question: 에너지바우처 사업에 대한 예비타당성조사를 어떤 조사기관이 수행했나요?\n"
          ]
        },
        {
          "output_type": "stream",
          "name": "stderr",
          "text": [
            "Both `max_new_tokens` (=200) and `max_length`(=4096) seem to have been set. `max_new_tokens` will take precedence. Please refer to the documentation for more information. (https://huggingface.co/docs/transformers/main/en/main_classes/text_generation)\n"
          ]
        },
        {
          "output_type": "stream",
          "name": "stdout",
          "text": [
            "Answer: 에너지바우처 사업에 대한 예비타당성조사는 KDI(한국개발연구원 공공투자관리센터)가 수행했습니다.\n",
            "\n",
            "Question: 21년 국정감사에서 에너지 바우처 사업에 대한 주요 지적사항은 무엇이었나요?\n"
          ]
        },
        {
          "output_type": "stream",
          "name": "stderr",
          "text": [
            "Both `max_new_tokens` (=200) and `max_length`(=4096) seem to have been set. `max_new_tokens` will take precedence. Please refer to the documentation for more information. (https://huggingface.co/docs/transformers/main/en/main_classes/text_generation)\n"
          ]
        },
        {
          "output_type": "stream",
          "name": "stdout",
          "text": [
            "Answer: 21년 국정감사에서는 저소득층의 폭염 피해 최소화를 위해 동절기 에너지바우처 일부를 하절기에 사용할 수 있도록 제도 개선할 것을 지적했습니다.\n",
            "\n",
            "Question: 21년 에너지바우처 사업에 대한 결산 지적사항은 무엇이었나요?\n"
          ]
        },
        {
          "output_type": "stream",
          "name": "stderr",
          "text": [
            "Both `max_new_tokens` (=200) and `max_length`(=4096) seem to have been set. `max_new_tokens` will take precedence. Please refer to the documentation for more information. (https://huggingface.co/docs/transformers/main/en/main_classes/text_generation)\n"
          ]
        },
        {
          "output_type": "stream",
          "name": "stdout",
          "text": [
            "Answer: 21년 결산 지적사항으로는 수급자 변경 등으로 예산부족이 발생하지 않도록 급여 선정기준 등의 변경계획에 대하여 보건복지부·지자체와 면밀히 소통하여 예산을 편성하고 사업을 추진해야 한다는 것이었음.\n",
            "\n",
            "Question: 에너지 바우처 사업의 향후 추진방향 중 '취약계층의 에너지 비용 부담 완화'를 위한 계획은 무엇이었나요?\n"
          ]
        },
        {
          "output_type": "stream",
          "name": "stderr",
          "text": [
            "Both `max_new_tokens` (=200) and `max_length`(=4096) seem to have been set. `max_new_tokens` will take precedence. Please refer to the documentation for more information. (https://huggingface.co/docs/transformers/main/en/main_classes/text_generation)\n"
          ]
        },
        {
          "output_type": "stream",
          "name": "stdout",
          "text": [
            "Answer: 에너지바우처 지원 대상을 확대하고 필수전력(연간 2,500kWh 이상) 지원을 통해 취약계층의 에너지 비용 부담을 완화할 계획입니다.\n",
            "\n",
            "Question: 행복주택출자 사업은 어떤 근거로 추진되고 있는가?\n"
          ]
        },
        {
          "output_type": "stream",
          "name": "stderr",
          "text": [
            "Both `max_new_tokens` (=200) and `max_length`(=4096) seem to have been set. `max_new_tokens` will take precedence. Please refer to the documentation for more information. (https://huggingface.co/docs/transformers/main/en/main_classes/text_generation)\n"
          ]
        },
        {
          "output_type": "stream",
          "name": "stdout",
          "text": [
            "Answer: 행복주택출자 사업은 주택도시기금법 제9조제1항가목 및 공공주택특별법 제2조1호가목에 근거하여 추진되고 있다.\n",
            "\n",
            "Question: 행복주택출자 사업은 어떤 목적으로 시행되는가?\n"
          ]
        },
        {
          "output_type": "stream",
          "name": "stderr",
          "text": [
            "Both `max_new_tokens` (=200) and `max_length`(=4096) seem to have been set. `max_new_tokens` will take precedence. Please refer to the documentation for more information. (https://huggingface.co/docs/transformers/main/en/main_classes/text_generation)\n"
          ]
        },
        {
          "output_type": "stream",
          "name": "stdout",
          "text": [
            "Answer: 행복주택출자 사업은 국민의 행복주거 실현을 위한 보편적 주거복지 정책의 일환으로 도심 내 다양한 부지를 활용하여 행복주택을 공급하기 위해 시행된다.\n",
            "\n",
            "Question: 행복주택출자 사업의 주요 수혜자는 누구인가?\n"
          ]
        },
        {
          "output_type": "stream",
          "name": "stderr",
          "text": [
            "Both `max_new_tokens` (=200) and `max_length`(=4096) seem to have been set. `max_new_tokens` will take precedence. Please refer to the documentation for more information. (https://huggingface.co/docs/transformers/main/en/main_classes/text_generation)\n"
          ]
        },
        {
          "output_type": "stream",
          "name": "stdout",
          "text": [
            "Answer: 행복주택출자 사업의 주요 수혜자는 대학생, 사회초년생, 신혼부부 등 젊은층(80%), 고령자 및 주거취약계층(20%)이다.\n",
            "\n",
            "Question: 행복주택출자 사업의 사업비 추이는 어떠한가?\n"
          ]
        },
        {
          "output_type": "stream",
          "name": "stderr",
          "text": [
            "Both `max_new_tokens` (=200) and `max_length`(=4096) seem to have been set. `max_new_tokens` will take precedence. Please refer to the documentation for more information. (https://huggingface.co/docs/transformers/main/en/main_classes/text_generation)\n"
          ]
        },
        {
          "output_type": "stream",
          "name": "stdout",
          "text": [
            "Answer: 최근 5년간(2018~2023) 행복주택출자 사업에 투입된 사업비는 총 5억 28783만원이다.\n",
            "\n",
            "Question: 행복주택출자 사업의 사업시행주체는 누구인가?\n"
          ]
        },
        {
          "output_type": "stream",
          "name": "stderr",
          "text": [
            "Both `max_new_tokens` (=200) and `max_length`(=4096) seem to have been set. `max_new_tokens` will take precedence. Please refer to the documentation for more information. (https://huggingface.co/docs/transformers/main/en/main_classes/text_generation)\n"
          ]
        },
        {
          "output_type": "stream",
          "name": "stdout",
          "text": [
            "Answer: 사업시행주체는 한국토지주택공사(LH)와 지자체(지방공사)이다.\n",
            "\n",
            "Question: 국고보조사업의 보조율은 어떠한 기준에 따라 운용되는가?\n"
          ]
        },
        {
          "output_type": "stream",
          "name": "stderr",
          "text": [
            "Both `max_new_tokens` (=200) and `max_length`(=4096) seem to have been set. `max_new_tokens` will take precedence. Please refer to the documentation for more information. (https://huggingface.co/docs/transformers/main/en/main_classes/text_generation)\n"
          ]
        },
        {
          "output_type": "stream",
          "name": "stdout",
          "text": [
            "Answer: 국고보조사업의 보조율은 지방자치단체의 재정여건을 고려하여 기준보조율과 차등보조율을 적용하여 운용되고 있습니다.\n",
            "\n",
            "Question: 프랑스의 재정조정제도에서 최근 강조되는 형평교부금은 어떤 역할을 하는가?\n"
          ]
        },
        {
          "output_type": "stream",
          "name": "stderr",
          "text": [
            "Both `max_new_tokens` (=200) and `max_length`(=4096) seem to have been set. `max_new_tokens` will take precedence. Please refer to the documentation for more information. (https://huggingface.co/docs/transformers/main/en/main_classes/text_generation)\n"
          ]
        },
        {
          "output_type": "stream",
          "name": "stdout",
          "text": [
            "Answer: 프랑스의 재정조정제도에서 최근 중앙정부의 재정적 자금 부족으로 인해 수평적 형평교부금의 역할이 강조되고 있다.\n",
            "\n",
            "Question: 지방재정조정제도의 목적은 무엇인가?\n"
          ]
        },
        {
          "output_type": "stream",
          "name": "stderr",
          "text": [
            "Both `max_new_tokens` (=200) and `max_length`(=4096) seem to have been set. `max_new_tokens` will take precedence. Please refer to the documentation for more information. (https://huggingface.co/docs/transformers/main/en/main_classes/text_generation)\n"
          ]
        },
        {
          "output_type": "stream",
          "name": "stdout",
          "text": [
            "Answer: 지방자치단체 간 재정력 격차의 시정, 지역 간 외부 효과의 내부화를 통한 지방공공재 공급, 중앙정부의 위임사무에 대한 비용 부담 등을 목적으로 재정을 조정하는 일련의 조치이다.\n",
            "\n",
            "Question: 국제적으로 성과중심 재정관리 강화 움직임이 확산된 시기는 언제인가?\n"
          ]
        },
        {
          "output_type": "stream",
          "name": "stderr",
          "text": [
            "Both `max_new_tokens` (=200) and `max_length`(=4096) seem to have been set. `max_new_tokens` will take precedence. Please refer to the documentation for more information. (https://huggingface.co/docs/transformers/main/en/main_classes/text_generation)\n"
          ]
        },
        {
          "output_type": "stream",
          "name": "stdout",
          "text": [
            "Answer: 국제적으로 성과중심 재정관리 강화 움직임이 확산된 시기는 2000년대 후반 금융위기 이후이다.\n",
            "\n",
            "Question: 한국의 재정사업 성과관리제도는 어떠한 법을 통해 운영되고 있으며, 성과관리 기본계획과 추진계획은 어떻게 의무화되었는가?\n"
          ]
        },
        {
          "output_type": "stream",
          "name": "stderr",
          "text": [
            "Both `max_new_tokens` (=200) and `max_length`(=4096) seem to have been set. `max_new_tokens` will take precedence. Please refer to the documentation for more information. (https://huggingface.co/docs/transformers/main/en/main_classes/text_generation)\n"
          ]
        },
        {
          "output_type": "stream",
          "name": "stdout",
          "text": [
            "Answer: 우리나라의 재정사업 성과관리제도는 '21년 12월 국가재정법 개정을 통해 별도의 장(章) 신설로 개념 및 체계 명확화되어 성과관리 기본계획(5개년) 및 추진계획(연간) 수립이 의무화되었다.\n",
            "\n",
            "Question: 핵심재정사업 성과관리제도를 안착시키기 위해 필요한 노력과 성과 정보를 학습의 도구로 활용하는 방안은 무엇인가?\n"
          ]
        },
        {
          "output_type": "stream",
          "name": "stderr",
          "text": [
            "Both `max_new_tokens` (=200) and `max_length`(=4096) seem to have been set. `max_new_tokens` will take precedence. Please refer to the documentation for more information. (https://huggingface.co/docs/transformers/main/en/main_classes/text_generation)\n"
          ]
        },
        {
          "output_type": "stream",
          "name": "stdout",
          "text": [
            "Answer: 정부는 성과정보를 사용해 목표 진행 상황을 정기적으로 평가·공개하고, 지속적 개선에 대한 약속 공유함으로써 핵심재정사업 성과관리제도를 안착시켜 나갈 수 있기를 기대한다.\n",
            "\n",
            "Question: 사회보험 사각지대 발생의 주요 원인과 이로 인해 발생하는 문제는 무엇인가요?\n"
          ]
        },
        {
          "output_type": "stream",
          "name": "stderr",
          "text": [
            "Both `max_new_tokens` (=200) and `max_length`(=4096) seem to have been set. `max_new_tokens` will take precedence. Please refer to the documentation for more information. (https://huggingface.co/docs/transformers/main/en/main_classes/text_generation)\n"
          ]
        },
        {
          "output_type": "stream",
          "name": "stdout",
          "text": [
            "Answer: 사회보험 가입이 저조한 것은 고용 취약계층 및 소규모 사업장일수록 사업주의 비용 절감, 보험 가입에 따른 근로자의 실질 가처분 소득 감소 등 현실적 이유로 인해 발생하는 현상입니다.\n",
            "\n",
            "Question: 청년일자리도약장려금은 어떤 대상을 지원하며, 어떤 방식으로 지원되는가?\n"
          ]
        },
        {
          "output_type": "stream",
          "name": "stderr",
          "text": [
            "Both `max_new_tokens` (=200) and `max_length`(=4096) seem to have been set. `max_new_tokens` will take precedence. Please refer to the documentation for more information. (https://huggingface.co/docs/transformers/main/en/main_classes/text_generation)\n"
          ]
        },
        {
          "output_type": "stream",
          "name": "stdout",
          "text": [
            "Answer: 만 15~34세의 취업애로청년을 정규직으로 채용 후 6개월 고용유지하는 경우 최장 2년간 청년일자리도약장려금을 지원한다.\n",
            "\n",
            "Question: 수직적 재정조정제도와 수평적 재정조정제도의 차이는 무엇인가요?\n"
          ]
        },
        {
          "output_type": "stream",
          "name": "stderr",
          "text": [
            "Both `max_new_tokens` (=200) and `max_length`(=4096) seem to have been set. `max_new_tokens` will take precedence. Please refer to the documentation for more information. (https://huggingface.co/docs/transformers/main/en/main_classes/text_generation)\n"
          ]
        },
        {
          "output_type": "stream",
          "name": "stdout",
          "text": [
            "Answer: 수직적 재정조정제도는 중앙-지방 간 또는 광역-기초 간에 재정을 재배분하는 반면, 수평적 재정조정제도는 지방정부 상호 간에 재정을 재배분하는 것을 의미합니다.\n",
            "\n",
            "Question: 지방재정조정제도는 어떤 목적을 가지고 있나요?\n"
          ]
        },
        {
          "output_type": "stream",
          "name": "stderr",
          "text": [
            "Both `max_new_tokens` (=200) and `max_length`(=4096) seem to have been set. `max_new_tokens` will take precedence. Please refer to the documentation for more information. (https://huggingface.co/docs/transformers/main/en/main_classes/text_generation)\n"
          ]
        },
        {
          "output_type": "stream",
          "name": "stdout",
          "text": [
            "Answer: 지방재정조정제도는 지방자치단체 간 재정력 격차의 시정, 지역 간 외부 효과의 내부화를 통한 지방공공재 공급, 중앙정부의 위임사무에 대한 비용 부담 등을 목적으로 재정을 조정하는 일련의 조치를 의미합니다.\n",
            "\n",
            "Question: 중앙-지방 간 재정조정제도에서 어떤 재원을 이전하여 수직적 재정 불균형을 해소하는가?\n"
          ]
        },
        {
          "output_type": "stream",
          "name": "stderr",
          "text": [
            "Both `max_new_tokens` (=200) and `max_length`(=4096) seem to have been set. `max_new_tokens` will take precedence. Please refer to the documentation for more information. (https://huggingface.co/docs/transformers/main/en/main_classes/text_generation)\n"
          ]
        },
        {
          "output_type": "stream",
          "name": "stdout",
          "text": [
            "Answer: 지방교부세와 국고보조금을 중심으로 수직적 재정조정이 이루어지며, 이를 통해 수직적 재정 불균형을 해소한다.\n",
            "\n",
            "Question: 중앙정부의 예산편성은 어떤 재원 배분 문제를 결정하며, 중앙-지방 간 재정조정제도를 통해 어떤 재원을 이전하고, 이의 목적은 무엇인가?\n"
          ]
        },
        {
          "output_type": "stream",
          "name": "stderr",
          "text": [
            "Both `max_new_tokens` (=200) and `max_length`(=4096) seem to have been set. `max_new_tokens` will take precedence. Please refer to the documentation for more information. (https://huggingface.co/docs/transformers/main/en/main_classes/text_generation)\n"
          ]
        },
        {
          "output_type": "stream",
          "name": "stdout",
          "text": [
            "Answer: 중앙정부의 예산편성은 지방교부세와 국고보조금을 포함한 중앙-지방 간 재정조정제도를 통해 지방자치단체에 필요한 재원을 배분하고, 이는 지방자치단체의 기본적인 수요에 대한 지출을 촉진하고 국가 균형발전을 도모하는 것을 목적으로 한다.\n",
            "\n",
            "Question: 재정사업 성과관리제도의 필요성이 대두된 시기와 한국의 재정사업 성과관리제도가 어떤 법에 근거하여 운영되고 있는지 설명하시오.\n"
          ]
        },
        {
          "output_type": "stream",
          "name": "stderr",
          "text": [
            "Both `max_new_tokens` (=200) and `max_length`(=4096) seem to have been set. `max_new_tokens` will take precedence. Please refer to the documentation for more information. (https://huggingface.co/docs/transformers/main/en/main_classes/text_generation)\n"
          ]
        },
        {
          "output_type": "stream",
          "name": "stdout",
          "text": [
            "Answer: 1990년대 이후 체계적인 성과관리제도 도입에 대한 필요성이 대두되면서, 현재는 '07년 '국가재정법' 시행 이후 최소한의 법 조항으로 운영되어 '21년 12월 법 개정을 통한 별도의 장(章) 신설로 개념 및 체계 명확화.\n",
            "\n",
            "Question: 청년일자리도약장려금은 어떤 대상을 지원하며, 어떤 방식으로 지원되는가?\n"
          ]
        },
        {
          "output_type": "stream",
          "name": "stderr",
          "text": [
            "Both `max_new_tokens` (=200) and `max_length`(=4096) seem to have been set. `max_new_tokens` will take precedence. Please refer to the documentation for more information. (https://huggingface.co/docs/transformers/main/en/main_classes/text_generation)\n"
          ]
        },
        {
          "output_type": "stream",
          "name": "stdout",
          "text": [
            "Answer: 만 15~34세의 취업애로청년을 정규직으로 채용 후 6개월 고용유지하는 경우 최장 2년간 청년일자리도약장려금을 지원한다.\n",
            "\n",
            "Question: 재정성과관리제도는 어떤 측면에서 국정운영과 연결되는가?\n"
          ]
        },
        {
          "output_type": "stream",
          "name": "stderr",
          "text": [
            "Both `max_new_tokens` (=200) and `max_length`(=4096) seem to have been set. `max_new_tokens` will take precedence. Please refer to the documentation for more information. (https://huggingface.co/docs/transformers/main/en/main_classes/text_generation)\n"
          ]
        },
        {
          "output_type": "stream",
          "name": "stdout",
          "text": [
            "Answer: 재정성과관리제도는 전략목표와 우선순위를 중심으로 재정사업을 재구조화하고, 지출 우선순위 측면에서 재정을 중장기 시계로 확장시켜 국정운영과 연결된다.\n",
            "\n",
            "Question: 성과관리의 실효성 강화를 위해 정부가 취한 조치는 무엇인가?\n"
          ]
        },
        {
          "output_type": "stream",
          "name": "stderr",
          "text": [
            "Both `max_new_tokens` (=200) and `max_length`(=4096) seem to have been set. `max_new_tokens` will take precedence. Please refer to the documentation for more information. (https://huggingface.co/docs/transformers/main/en/main_classes/text_generation)\n"
          ]
        },
        {
          "output_type": "stream",
          "name": "stdout",
          "text": [
            "Answer: 정부는 2021년 「국가재정법」 개정으로 성과 중심 재정운용을 위해 성과관리를 위한 별도의 장을 신설하고 성과관리 규정을 정비하였다.\n",
            "\n",
            "Question: 재정성과관리 관련 주요 쟁점은 무엇인가?\n"
          ]
        },
        {
          "output_type": "stream",
          "name": "stderr",
          "text": [
            "Both `max_new_tokens` (=200) and `max_length`(=4096) seem to have been set. `max_new_tokens` will take precedence. Please refer to the documentation for more information. (https://huggingface.co/docs/transformers/main/en/main_classes/text_generation)\n"
          ]
        },
        {
          "output_type": "stream",
          "name": "stdout",
          "text": [
            "Answer: 재정사업 자율평가의 대상, 범위, 효과, 개편 등은 지속적으로 논의되어야 한다.\n",
            "\n",
            "Question: 재정성과관리가 왜 중요한가?\n"
          ]
        },
        {
          "output_type": "stream",
          "name": "stderr",
          "text": [
            "Both `max_new_tokens` (=200) and `max_length`(=4096) seem to have been set. `max_new_tokens` will take precedence. Please refer to the documentation for more information. (https://huggingface.co/docs/transformers/main/en/main_classes/text_generation)\n"
          ]
        },
        {
          "output_type": "stream",
          "name": "stdout",
          "text": [
            "Answer: 재정성과관리는 재정의 효율성과 책임성을 강화하고, 국민에게 재정이 하는 일을 보다 이해하기 쉽게 설명할 수 있기 때문에 중요합니다.\n",
            "\n",
            "Question: 재정성과관리는 무엇을 목표로 하는가?\n"
          ]
        },
        {
          "output_type": "stream",
          "name": "stderr",
          "text": [
            "Both `max_new_tokens` (=200) and `max_length`(=4096) seem to have been set. `max_new_tokens` will take precedence. Please refer to the documentation for more information. (https://huggingface.co/docs/transformers/main/en/main_classes/text_generation)\n"
          ]
        },
        {
          "output_type": "stream",
          "name": "stdout",
          "text": [
            "Answer: 재정성과관리는 정부 재정의 투명성·책임성, 효율성·효과성, 예산재분배 등을 목표로 한다.\n",
            "\n",
            "Question: 어떤 국제기구들이 사업을 기준으로 예산을 나누어 성과 정보를 생산하고 있는가?\n"
          ]
        },
        {
          "output_type": "stream",
          "name": "stderr",
          "text": [
            "Both `max_new_tokens` (=200) and `max_length`(=4096) seem to have been set. `max_new_tokens` will take precedence. Please refer to the documentation for more information. (https://huggingface.co/docs/transformers/main/en/main_classes/text_generation)\n"
          ]
        },
        {
          "output_type": "stream",
          "name": "stdout",
          "text": [
            "Answer: OECD, World Bank 등은 사업을 기준으로 예산을 나누어 성과 정보를 생산할 것을 강조하고 있습니다.\n",
            "\n",
            "Question: 재정성과관리의 목적은 무엇인가?\n"
          ]
        },
        {
          "output_type": "stream",
          "name": "stderr",
          "text": [
            "Both `max_new_tokens` (=200) and `max_length`(=4096) seem to have been set. `max_new_tokens` will take precedence. Please refer to the documentation for more information. (https://huggingface.co/docs/transformers/main/en/main_classes/text_generation)\n"
          ]
        },
        {
          "output_type": "stream",
          "name": "stdout",
          "text": [
            "Answer: 정부 재정의 투명성·책임성, 효율성·효과성, 예산재분배 등을 목적으로 한다.\n",
            "\n",
            "Question: 2021년 「국가재정법」 개정으로 어떤 규정이 신설되었는가?\n"
          ]
        },
        {
          "output_type": "stream",
          "name": "stderr",
          "text": [
            "Both `max_new_tokens` (=200) and `max_length`(=4096) seem to have been set. `max_new_tokens` will take precedence. Please refer to the documentation for more information. (https://huggingface.co/docs/transformers/main/en/main_classes/text_generation)\n"
          ]
        },
        {
          "output_type": "stream",
          "name": "stdout",
          "text": [
            "Answer: 2021년 「국가재정법」 개정으로, 동 법에 의한 재정사업 평가와 개별 법령에 따라 실시되는 평가 대상 중복을 최소화하도록 하는 규정이 신설되었습니다.\n",
            "\n",
            "Question: 성과관리제도는 지출 구조조정을 위해 어떤 방향으로 추진되고 있는가?\n"
          ]
        },
        {
          "output_type": "stream",
          "name": "stderr",
          "text": [
            "Both `max_new_tokens` (=200) and `max_length`(=4096) seem to have been set. `max_new_tokens` will take precedence. Please refer to the documentation for more information. (https://huggingface.co/docs/transformers/main/en/main_classes/text_generation)\n"
          ]
        },
        {
          "output_type": "stream",
          "name": "stdout",
          "text": [
            "Answer: 평가 결과를 바탕으로 부처에서 자율적으로 세출구조조정을 마련하고, 우수 등급 사업도 지출구조조정이 가능하도록 하여 성과관리제도가 지출 구조조정을 위해 추진되고 있다.\n",
            "\n",
            "Question: 재정사업 자율평가의 목적은 무엇이며, 어떤 방식으로 제도 개선이 이루어졌는가?\n"
          ]
        },
        {
          "output_type": "stream",
          "name": "stderr",
          "text": [
            "Both `max_new_tokens` (=200) and `max_length`(=4096) seem to have been set. `max_new_tokens` will take precedence. Please refer to the documentation for more information. (https://huggingface.co/docs/transformers/main/en/main_classes/text_generation)\n"
          ]
        },
        {
          "output_type": "stream",
          "name": "stdout",
          "text": [
            "Answer: 재정사업 자율평가의 목적은 재정의 목적 달성 여부를 효율성, 형평성 등 다양한 가치를 통해 평가하고, 이 성과 정보를 환류하여 차년도 예산을 합리적으로 편성하기 위해 노력하는 것이다.\n",
            "\n",
            "Question: 2016년 재정성과관리제도의 환류 개선사항은 무엇인가?\n"
          ]
        },
        {
          "output_type": "stream",
          "name": "stderr",
          "text": [
            "Both `max_new_tokens` (=200) and `max_length`(=4096) seem to have been set. `max_new_tokens` will take precedence. Please refer to the documentation for more information. (https://huggingface.co/docs/transformers/main/en/main_classes/text_generation)\n"
          ]
        },
        {
          "output_type": "stream",
          "name": "stdout",
          "text": [
            "Answer: 2016년도 환류 개선을 통해 평가 대상 사업 전체 예산의 1% 이내에서 부처에서 자율적으로 세출구조조정을 마련하도록 하고 우수 등급 사업도 지출구조조정이 가능하게 하는 한편, 구조조정이 어려운 사업에 대해서는 성과관리 개선대책을 제출하게 하였으며 현재도 이 틀에서 환류 수행하였다.\n",
            "\n",
            "Question: 2018년도에 재정성과관리제도 개선사항과, 이로 인해 어떤 효과가 발생했는가?\n"
          ]
        },
        {
          "output_type": "stream",
          "name": "stderr",
          "text": [
            "Both `max_new_tokens` (=200) and `max_length`(=4096) seem to have been set. `max_new_tokens` will take precedence. Please refer to the documentation for more information. (https://huggingface.co/docs/transformers/main/en/main_classes/text_generation)\n"
          ]
        },
        {
          "output_type": "stream",
          "name": "stdout",
          "text": [
            "Answer: 2018년도 제도 개선으로 각 부처에서 지표와 배점 기준을 자율적으로 하도록 하여, 부처의 자율적인 재정사업 성과관리 확대되었다.\n",
            "\n",
            "Question: 재정사업 자율평가의 전면 개편을 통해 어떤 중점 추진과제가 제시되었는가?\n"
          ]
        },
        {
          "output_type": "stream",
          "name": "stderr",
          "text": [
            "Both `max_new_tokens` (=200) and `max_length`(=4096) seem to have been set. `max_new_tokens` will take precedence. Please refer to the documentation for more information. (https://huggingface.co/docs/transformers/main/en/main_classes/text_generation)\n"
          ]
        },
        {
          "output_type": "stream",
          "name": "stdout",
          "text": [
            "Answer: 성과관리 사각지대 해소, 사업성과평가의 예산편성 활용 확대를 위한 중점 추진과제가 제시되었다.\n",
            "\n",
            "Question: 재정성과관리제도의 중요성과 국정운영과의 연결성은 무엇인가?\n"
          ]
        },
        {
          "output_type": "stream",
          "name": "stderr",
          "text": [
            "Both `max_new_tokens` (=200) and `max_length`(=4096) seem to have been set. `max_new_tokens` will take precedence. Please refer to the documentation for more information. (https://huggingface.co/docs/transformers/main/en/main_classes/text_generation)\n"
          ]
        },
        {
          "output_type": "stream",
          "name": "stdout",
          "text": [
            "Answer: 재정성과관리제도는 재정사업을 전략목표와 우선순위에 따라 재구조화하여 국정운영과 연결되고, 지출 우선순위를 중장기적으로 확장시켜 재정 운용의 효율성과 책임성을 강화한다.\n",
            "\n",
            "Question: 재정성과관리체계 강화를 위해 정부가 어떤 제도를 제시했으며, 재정성과관리는 무엇을 목표로 하는가?\n"
          ]
        },
        {
          "output_type": "stream",
          "name": "stderr",
          "text": [
            "Both `max_new_tokens` (=200) and `max_length`(=4096) seem to have been set. `max_new_tokens` will take precedence. Please refer to the documentation for more information. (https://huggingface.co/docs/transformers/main/en/main_classes/text_generation)\n"
          ]
        },
        {
          "output_type": "stream",
          "name": "stdout",
          "text": [
            "Answer: 정부는 중기재정사업 성과관리 기본방향, 추진방안, 결과활용 및 성과 정보 공개 등을 주요 내용으로 하는 중기재정사업 성과관리를 발표하고, 성과관리의 목적은 정부 재정의 투명성·책임성, 효율성·효과성, 예산재분배 등이다.\n",
            "\n",
            "Question: 재정성과관리는 어떤 과정에서 수행되며, 무엇을 증진하기 위해 활동하는가?\n"
          ]
        },
        {
          "output_type": "stream",
          "name": "stderr",
          "text": [
            "Both `max_new_tokens` (=200) and `max_length`(=4096) seem to have been set. `max_new_tokens` will take precedence. Please refer to the documentation for more information. (https://huggingface.co/docs/transformers/main/en/main_classes/text_generation)\n"
          ]
        },
        {
          "output_type": "stream",
          "name": "stdout",
          "text": [
            "Answer: 재정성과관리는 예산 편성에서 집행, 결산에 이르는 전 과정에서 수행되며, 지출 효율성을 증진하기 위해 재정지출이 달성해야 할 목표를 정확히 설정하고, 이의 달성도를 지속적으로 관리하는 활동이다.\n",
            "\n",
            "Question: 재정성과관리의 목적과 우리나라의 재정성과관리제도가 프로그램 예산제도로 전환된 시기는?\n"
          ]
        },
        {
          "output_type": "stream",
          "name": "stderr",
          "text": [
            "Both `max_new_tokens` (=200) and `max_length`(=4096) seem to have been set. `max_new_tokens` will take precedence. Please refer to the documentation for more information. (https://huggingface.co/docs/transformers/main/en/main_classes/text_generation)\n"
          ]
        },
        {
          "output_type": "stream",
          "name": "stdout",
          "text": [
            "Answer: 재정성과관리의 목적은 정부 재정의 투명성·책임성, 효율성·효과성, 예산재분배 등이며, 우리나라는 2006년 4대 재정개혁을 통해 프로그램 예산제도로 전환하였다.\n",
            "\n",
            "Question: 2007년과 2021년에 각각 「국가재정법」이 개정되면서 성과관리 제도는 어떻게 강화되고 구체화되었으며, 이 개정의 주된 목적은 무엇인가?\n"
          ]
        },
        {
          "output_type": "stream",
          "name": "stderr",
          "text": [
            "Both `max_new_tokens` (=200) and `max_length`(=4096) seem to have been set. `max_new_tokens` will take precedence. Please refer to the documentation for more information. (https://huggingface.co/docs/transformers/main/en/main_classes/text_generation)\n"
          ]
        },
        {
          "output_type": "stream",
          "name": "stdout",
          "text": [
            "Answer: 2007년 개정으로 성과관리의 기본적 체계가 마련되고, 2021년 개정으로 성과관리의 내용을 성과목표관리 및 성과평가로 구체화하고, 성과지향적이고 투명한 재정운용을 위해 노력하였다.\n",
            "\n",
            "Question: 재정사업 자율평가의 목적과 제도 개선 방식은 무엇인가?\n"
          ]
        },
        {
          "output_type": "stream",
          "name": "stderr",
          "text": [
            "Both `max_new_tokens` (=200) and `max_length`(=4096) seem to have been set. `max_new_tokens` will take precedence. Please refer to the documentation for more information. (https://huggingface.co/docs/transformers/main/en/main_classes/text_generation)\n"
          ]
        },
        {
          "output_type": "stream",
          "name": "stdout",
          "text": [
            "Answer: 재정사업 자율평가는 재정관리 합리성 제고를 위해 평가 대상 사업의 범위, 평가 주기, 상위 평가 방식 등을 지속적으로 개선하고, 평가 결과를 바탕으로 부처에서 자율적으로 세출구조조정을 수행하도록 하여 재정관리 합리성을 강화하는 것을 목적으로 한다.\n",
            "\n",
            "Question: 2015년 이전과 2016년에 재정성과 평가 결과 처리 방식과 환류 개선 방식은 어떻게 달라졌는가?\n"
          ]
        },
        {
          "output_type": "stream",
          "name": "stderr",
          "text": [
            "Both `max_new_tokens` (=200) and `max_length`(=4096) seem to have been set. `max_new_tokens` will take precedence. Please refer to the documentation for more information. (https://huggingface.co/docs/transformers/main/en/main_classes/text_generation)\n"
          ]
        },
        {
          "output_type": "stream",
          "name": "stdout",
          "text": [
            "Answer: 2015년 이전에는 평가 결과에 따라 일률적으로 사업 예산을 삭감하는 방식이었지만, 2016년부터는 부처에서 자율적으로 세출구조조정을 마련하고, 우수 등급 사업도 지출구조조정이 가능하게 하여 환류를 개선하였다.\n",
            "\n",
            "Question: 재정관리시스템 구축과 성과관리 개편을 추진하는 주된 목적은 무엇인가?\n"
          ]
        },
        {
          "output_type": "stream",
          "name": "stderr",
          "text": [
            "Both `max_new_tokens` (=200) and `max_length`(=4096) seem to have been set. `max_new_tokens` will take precedence. Please refer to the documentation for more information. (https://huggingface.co/docs/transformers/main/en/main_classes/text_generation)\n"
          ]
        },
        {
          "output_type": "stream",
          "name": "stdout",
          "text": [
            "Answer: 재정운용의 효율성과 책임성을 제고하기 위해서이다.\n",
            "\n",
            "Question: 우리나라에서는 언제부터 발생주의 기준을 적용한 국가결산보고서에서 우발부채를 보고하고 있는가?\n"
          ]
        },
        {
          "output_type": "stream",
          "name": "stderr",
          "text": [
            "Both `max_new_tokens` (=200) and `max_length`(=4096) seem to have been set. `max_new_tokens` will take precedence. Please refer to the documentation for more information. (https://huggingface.co/docs/transformers/main/en/main_classes/text_generation)\n"
          ]
        },
        {
          "output_type": "stream",
          "name": "stdout",
          "text": [
            "Answer: 우리나라는 2011년부터 발생주의 기준을 적용한 국가결산보고서에서 우발부채를 보고하고 있습니다.\n",
            "\n",
            "Question: 우발부채 관련 주요 쟁점은 무엇인가?\n"
          ]
        },
        {
          "output_type": "stream",
          "name": "stderr",
          "text": [
            "Both `max_new_tokens` (=200) and `max_length`(=4096) seem to have been set. `max_new_tokens` will take precedence. Please refer to the documentation for more information. (https://huggingface.co/docs/transformers/main/en/main_classes/text_generation)\n"
          ]
        },
        {
          "output_type": "stream",
          "name": "stdout",
          "text": [
            "Answer: 우발부채 개념 및 용어 사용의 혼란, 우발부채 분류기준 재검토, 새로운 분류기준 정립이 우발부채 관련 주요 쟁점이다.\n",
            "\n",
            "Question: 우발부채의 관리는 왜 중요한 이슈로 여겨지는가?\n"
          ]
        },
        {
          "output_type": "stream",
          "name": "stderr",
          "text": [
            "Both `max_new_tokens` (=200) and `max_length`(=4096) seem to have been set. `max_new_tokens` will take precedence. Please refer to the documentation for more information. (https://huggingface.co/docs/transformers/main/en/main_classes/text_generation)\n"
          ]
        },
        {
          "output_type": "stream",
          "name": "stdout",
          "text": [
            "Answer: 우발부채의 관리가 중요한 이유는 지속 가능한 재정 운영을 위한 기초가 되기 때문이다.\n",
            "\n",
            "Question: 우발부채와 부채의 차이점은 무엇인가?\n"
          ]
        },
        {
          "output_type": "stream",
          "name": "stderr",
          "text": [
            "Both `max_new_tokens` (=200) and `max_length`(=4096) seem to have been set. `max_new_tokens` will take precedence. Please refer to the documentation for more information. (https://huggingface.co/docs/transformers/main/en/main_classes/text_generation)\n"
          ]
        },
        {
          "output_type": "stream",
          "name": "stdout",
          "text": [
            "Answer: 우발부채는 하나 또는 그 이상의 조건이 충족되어야 금융거래로 인식된다는 점에서 부채와 차이가 있다.\n",
            "\n",
            "Question: 발생주의와 현금주의의 차이는 무엇인가?\n"
          ]
        },
        {
          "output_type": "stream",
          "name": "stderr",
          "text": [
            "Both `max_new_tokens` (=200) and `max_length`(=4096) seem to have been set. `max_new_tokens` will take precedence. Please refer to the documentation for more information. (https://huggingface.co/docs/transformers/main/en/main_classes/text_generation)\n"
          ]
        },
        {
          "output_type": "stream",
          "name": "stdout",
          "text": [
            "Answer: 발생주의는 경제적 거래가 발생하는 시점에 거래를 기록하는 방식이며, 현금주의는 현금을 수취하거나 지급하는 시점에 거래를 기록하는 방식이다.\n",
            "\n",
            "Question: 채무지속가능성분석은 어떤 목적을 가지고 도입되었는가?\n"
          ]
        },
        {
          "output_type": "stream",
          "name": "stderr",
          "text": [
            "Both `max_new_tokens` (=200) and `max_length`(=4096) seem to have been set. `max_new_tokens` will take precedence. Please refer to the documentation for more information. (https://huggingface.co/docs/transformers/main/en/main_classes/text_generation)\n"
          ]
        },
        {
          "output_type": "stream",
          "name": "stdout",
          "text": [
            "Answer: 채무지속가능성분석(DSA)는 잠재적 재정위기 감지, 예방, 해결을 위한 IMF의 노력으로 2002년에 도입되었다.\n",
            "\n",
            "Question: 의제의무란 무엇인가?\n"
          ]
        },
        {
          "output_type": "stream",
          "name": "stderr",
          "text": [
            "Both `max_new_tokens` (=200) and `max_length`(=4096) seem to have been set. `max_new_tokens` will take precedence. Please refer to the documentation for more information. (https://huggingface.co/docs/transformers/main/en/main_classes/text_generation)\n"
          ]
        },
        {
          "output_type": "stream",
          "name": "stdout",
          "text": [
            "Answer: 의제의무는 발표된 정부방침 또는 구체적이고 유효한 약속이나 과거의 실무관행 등을 통해 중앙관서 또는 기금이 특정 책임을 부담한다는 것을 표명함으로써 상대방이 그 책임을 이행할 것이라는 정당한 기대를 가지게 되는 경우 발생하는 의무를 말한다.\n",
            "\n",
            "Question: 국제통화기금이 재정통계 작성의 국제기준을 제시하기 위해 발간한 매뉴얼은 무엇인가?\n"
          ]
        },
        {
          "output_type": "stream",
          "name": "stderr",
          "text": [
            "Both `max_new_tokens` (=200) and `max_length`(=4096) seem to have been set. `max_new_tokens` will take precedence. Please refer to the documentation for more information. (https://huggingface.co/docs/transformers/main/en/main_classes/text_generation)\n"
          ]
        },
        {
          "output_type": "stream",
          "name": "stdout",
          "text": [
            "Answer: 국제통화기금(IMF)은 재정통계 작성의 국제기준을 제시하기 위해 1986년 재정통계 매뉴얼(Government Finance Statistics Manual, GFSM)을 처음 발간하였으며, 이후 2001년과 2014년 총 2차례의 개정이 있었다.\n",
            "\n",
            "Question: 계류중인 소송사건이란 무엇인가?\n"
          ]
        },
        {
          "output_type": "stream",
          "name": "stderr",
          "text": [
            "Both `max_new_tokens` (=200) and `max_length`(=4096) seem to have been set. `max_new_tokens` will take precedence. Please refer to the documentation for more information. (https://huggingface.co/docs/transformers/main/en/main_classes/text_generation)\n"
          ]
        },
        {
          "output_type": "stream",
          "name": "stdout",
          "text": [
            "Answer: 계류중인 소송사건은 정부가 원고 또는 피고인으로서 법원에 제기된 소송사건을 의미한다.\n",
            "\n",
            "Question: 최소운영수입보장(BTO 등) 제도란 무엇을 의미하는가?\n"
          ]
        },
        {
          "output_type": "stream",
          "name": "stderr",
          "text": [
            "Both `max_new_tokens` (=200) and `max_length`(=4096) seem to have been set. `max_new_tokens` will take precedence. Please refer to the documentation for more information. (https://huggingface.co/docs/transformers/main/en/main_classes/text_generation)\n"
          ]
        },
        {
          "output_type": "stream",
          "name": "stdout",
          "text": [
            "Answer: 최소운영수입보장(MRG) 제도는 민간투자사업 중 실제 수입이 추정 수입보다 적을 경우 정부가 차액을 보장해 주는 제도이다.\n",
            "\n",
            "Question: 우발부채에 대한 내용으로 대표적으로 어떤 사항이 해당되는가?\n"
          ]
        },
        {
          "output_type": "stream",
          "name": "stderr",
          "text": [
            "Both `max_new_tokens` (=200) and `max_length`(=4096) seem to have been set. `max_new_tokens` will take precedence. Please refer to the documentation for more information. (https://huggingface.co/docs/transformers/main/en/main_classes/text_generation)\n"
          ]
        },
        {
          "output_type": "stream",
          "name": "stdout",
          "text": [
            "Answer: 대표적으로 장기임차토지의 원상회복의무, 공공금융비용, 공공손실부담 등이 우발부채에 해당한다.\n",
            "\n",
            "Question: GFSM2014에서는 우발부채를 어떻게 구분하는가?\n"
          ]
        },
        {
          "output_type": "stream",
          "name": "stderr",
          "text": [
            "Both `max_new_tokens` (=200) and `max_length`(=4096) seem to have been set. `max_new_tokens` will take precedence. Please refer to the documentation for more information. (https://huggingface.co/docs/transformers/main/en/main_classes/text_generation)\n"
          ]
        },
        {
          "output_type": "stream",
          "name": "stdout",
          "text": [
            "Answer: GFSM2014는 우발부채를 명시적 우발부채와 암묵적 우발부채로 구분하고 있습니다.\n",
            "\n",
            "Question: GFSM은 몇 차례의 개정을 거쳤으며, 어떠한 목적으로 GFSM 2001이 개정되었는가?\n"
          ]
        },
        {
          "output_type": "stream",
          "name": "stderr",
          "text": [
            "Both `max_new_tokens` (=200) and `max_length`(=4096) seem to have been set. `max_new_tokens` will take precedence. Please refer to the documentation for more information. (https://huggingface.co/docs/transformers/main/en/main_classes/text_generation)\n"
          ]
        },
        {
          "output_type": "stream",
          "name": "stdout",
          "text": [
            "Answer: GFSM은 1986년에 처음 발간된 이후 2001년과 2014년에 각각 개정되었으며, GFSM 2001은 현재의 발생주의 기준을 바탕으로 한 GFS 체계를 구축하기 위해 전면 개정되었다.\n",
            "\n",
            "Question: 표준화 보증이란 무엇인가?\n"
          ]
        },
        {
          "output_type": "stream",
          "name": "stderr",
          "text": [
            "Both `max_new_tokens` (=200) and `max_length`(=4096) seem to have been set. `max_new_tokens` will take precedence. Please refer to the documentation for more information. (https://huggingface.co/docs/transformers/main/en/main_classes/text_generation)\n"
          ]
        },
        {
          "output_type": "stream",
          "name": "stdout",
          "text": [
            "Answer: 표준화 보증은 통상 아주 적은 금액에 대해 획일적 조건으로 대규모로 발행하는 보증을 말한다.\n",
            "\n",
            "Question: 표준화 보증에서 공공부문의 우발부채는 어떻게 인식되는가?\n"
          ]
        },
        {
          "output_type": "stream",
          "name": "stderr",
          "text": [
            "Both `max_new_tokens` (=200) and `max_length`(=4096) seem to have been set. `max_new_tokens` will take precedence. Please refer to the documentation for more information. (https://huggingface.co/docs/transformers/main/en/main_classes/text_generation)\n"
          ]
        },
        {
          "output_type": "stream",
          "name": "stdout",
          "text": [
            "Answer: 표준화 보증은 채무불이행률로 인해 공공부문의 우발부채가 아니라 표준화 보증 충당부채로 인식된다.\n",
            "\n",
            "Question: 재정정책에서 공적보증채무와 다른 일회성 보증은 어떻게 구분되는가?\n"
          ]
        },
        {
          "output_type": "stream",
          "name": "stderr",
          "text": [
            "Both `max_new_tokens` (=200) and `max_length`(=4096) seem to have been set. `max_new_tokens` will take precedence. Please refer to the documentation for more information. (https://huggingface.co/docs/transformers/main/en/main_classes/text_generation)\n"
          ]
        },
        {
          "output_type": "stream",
          "name": "stdout",
          "text": [
            "Answer: 공적보증채무는 보증인이 기타 공공부문과 민간부문 단위 기존 채무의 원리금 상환을 보증한다는 점에서 다른 일회성 보증과 구분된다.\n",
            "\n",
            "Question: 미래사회보장급여에 대한 순의무란 무엇을 의미하는가?\n"
          ]
        },
        {
          "output_type": "stream",
          "name": "stderr",
          "text": [
            "Both `max_new_tokens` (=200) and `max_length`(=4096) seem to have been set. `max_new_tokens` will take precedence. Please refer to the documentation for more information. (https://huggingface.co/docs/transformers/main/en/main_classes/text_generation)\n"
          ]
        },
        {
          "output_type": "stream",
          "name": "stdout",
          "text": [
            "Answer: 미래사회보장급여에 대한 순의무는 현행법과 규정에 따라 이미 가입자가 획득한 미래 급여의 현재가치에서 현행법과 규정에 따른 사회보장제도의 미래보험료의 순현재가치를 차감한 것을 인식한다.\n",
            "\n",
            "Question: 국가결산보고서와 지방자치단체 회계기준에서 우발부채에 대한 용어 및 회계처리가 어떻게 다른가요?\n"
          ]
        },
        {
          "output_type": "stream",
          "name": "stderr",
          "text": [
            "Both `max_new_tokens` (=200) and `max_length`(=4096) seem to have been set. `max_new_tokens` will take precedence. Please refer to the documentation for more information. (https://huggingface.co/docs/transformers/main/en/main_classes/text_generation)\n"
          ]
        },
        {
          "output_type": "stream",
          "name": "stdout",
          "text": [
            "Answer: 국가결산보고서는 우발부채를 '우발사항'으로 공시하는 반면, 지방자치단체 회계기준에서는 '우발손실'로 정의하고 있습니다.\n",
            "\n",
            "Question: 우발부채란 무엇이며, 그 관리가 왜 중요한가?\n"
          ]
        },
        {
          "output_type": "stream",
          "name": "stderr",
          "text": [
            "Both `max_new_tokens` (=200) and `max_length`(=4096) seem to have been set. `max_new_tokens` will take precedence. Please refer to the documentation for more information. (https://huggingface.co/docs/transformers/main/en/main_classes/text_generation)\n"
          ]
        },
        {
          "output_type": "stream",
          "name": "stdout",
          "text": [
            "Answer: 우발부채는 미래의 의제의무를 포괄하는 재정적 책임으로, 재정건전성과 재정위기 관리 등 다양한 관점에서 중요하게 관리되어야 한다.\n",
            "\n",
            "Question: 보증이란 무엇이며, 어떤 형태의 보증이 재정상태표에 부채로 기록되는가? 또한 표준화 보증이란 무엇이며, 어떤 목적으로 발행되는가?\n",
            "Answer: 보증은 명시적 우발부채의 가장 보편적 형태이며, 파생금융상품 형태의 보증과 표준화 보증은 재정상태표에 부채로 기록되며, 표준화 보증은 수출신용보증, 환보증, 보험, 농민융자, 모기지론, 학자금융자, 중소기업융자 등 유사한 특징을 지니고 위험 분산을 목적으로 발행된다.\n",
            "\n"
          ]
        }
      ],
      "source": [
        "from tqdm.auto import trange\n",
        "\n",
        "# 결과를 저장할 리스트 초기화\n",
        "results = []\n",
        "\n",
        "# DATASET 구조를 dataset[i]={'question':,'context':,...}로 바꾸면 안됨?\n",
        "\n",
        "# Dataset 각 행에 대해 처리\n",
        "for idx in trange(len(eval_dataset['question']), desc=\"Answering Questions\"):\n",
        "    #질문, 컨텍스트(문서)\n",
        "    question = eval_dataset['question'][idx]\n",
        "    context = eval_dataset['context'][idx]\n",
        "\n",
        "    # RAG 체인 구성\n",
        "    prompt = PromptTemplate.from_template(inf_template)\n",
        "\n",
        "    # RAG 체인 정의\n",
        "    if context != \"\":\n",
        "        rag_chain = (\n",
        "            RunnableParallel(context=lambda x: x[\"context\"], question = lambda x: x[\"question\"])\n",
        "            | prompt\n",
        "            | llm\n",
        "            | StrOutputParser()\n",
        "        )\n",
        "    else:\n",
        "        rag_chain = (\n",
        "            {\"question\": RunnablePassthrough()}\n",
        "            | prompt\n",
        "            | llm\n",
        "            | StrOutputParser()\n",
        "        )\n",
        "\n",
        "    # 답변 추론\n",
        "    print(f\"Question: {question}\")\n",
        "    full_response = rag_chain.invoke({\"question\": question, \"context\": context})\n",
        "\n",
        "    print(f\"Answer: {full_response}\\n\")\n",
        "\n",
        "    # 결과 저장\n",
        "\n",
        "    if context != \"\":\n",
        "        results.append({\n",
        "            \"Context\": context,\n",
        "            \"Question\": question,\n",
        "            \"Answer\": full_response,\n",
        "            \"True_Answer\": eval_dataset['answer'][idx]\n",
        "        })\n",
        "    else:\n",
        "        results.append({\n",
        "            \"Question\": question,\n",
        "            \"Answer\": full_response,\n",
        "            \"True_Answer\": eval_dataset['answer'][idx]\n",
        "        })"
      ]
    },
    {
      "cell_type": "code",
      "execution_count": 31,
      "metadata": {
        "colab": {
          "base_uri": "https://localhost:8080/"
        },
        "id": "s04GExCGZMfG",
        "outputId": "89b6c59b-fdaa-4512-9ab8-24f4397a2679"
      },
      "outputs": [
        {
          "output_type": "stream",
          "name": "stdout",
          "text": [
            "장기요양인정점수 완화가 언제 이루어졌으며, 어떤 변화가 있었나?\n",
            "--------\n",
            "-  (’12.9월) “제1차 장기요양 기본계획” 수립ㆍ발표  \n",
            "-  (’13.7월) 노인장기요양보험 대상자 확대 (장기요양인정점수 완화)  \n",
            "-  3등급 인정점수 완화: (기존) 53∼75점 → (개선) 51점∼75점  \n",
            "-  (’14.7월) 노인장기요양보험 등급체계 개편(3등급 → 3등급 및 4등급으로 세분화)  \n",
            "및 치매특별등급(5등급) 신설 관련 시행령ㆍ시행규칙ㆍ고시 개정\n",
            "3. 직장가입자가 교직원(사립학교에 근무하는 교원은 제외한다)인 경우에는 제3조제2호다목에 해당하는 사용자  \n",
            "② 추진경위  \n",
            "-  (’01.8.15.) 고령화시대 대비, 노인장기요양보장제도 도입 발표  \n",
            "-  (’07.4월)「노인장기요양보험법」제정ㆍ공포 (’08.7월부터 제도 시행)  \n",
            "-  (’12.7월) 노인장기요양보험 대상자 확대 (장기요양인정점수 완화)  \n",
            "-  3등급 인정점수 완화: (기존) 55∼75점 → (개선) 53점∼75점\n",
            "-  (’16.5월) 장기요양기관 투명성 확보 마련 등을 위한 장기요양기관 재무·회계기준  \n",
            "개정(’16.5.) 및 관련 시행규칙 시행(’18.5.)  \n",
            "-  (’18.1월) 경증치매환자 “인지지원등급” 신설  \n",
            "-  (’18.2월) “제2차 장기요양 기본계획” 수립ㆍ발표  \n",
            "-  (’18.7월) 장기요양 보장성 강화를 위한 본인부담 감경대상 및 감경율 확대\n",
            "# 5. 사업근거 및 추진경위  \n",
            "① 법령상 근거 및 조항 : 노인장기요양보험법 제4조, 제11조, 제35조의2, 제58조 및  \n",
            "같은 법 시행령제28조, 국민건강보험법 제76조  \n",
            "노인장기요양보험법 제4조(국가 및 지방자치단체의 책무 등) ④ 국가 및 지방자치단체는 장기요양  \n",
            "급여가 원활히 제공될 수 있도록 공단에 필요한 행정적 또는 재정적 지원을 할 수 있다.\n",
            "-  (기존) 기준중위소득 50% 이하 대상 본인부담 50% 감경 → (변경) 건보료 기준 하위 25% 대상  \n",
            "60% 감경, 하위 25~50% 대상 40% 감경  \n",
            "-  (’18.12월) 장기요양기관 지정갱신제 법적 근거 마련(’25. 시행)  \n",
            "-  (’19.6월) 장기요양요원의 권익 보호 등을 위해 장기요양요원지원센터 설치  \n",
            "-  (’21.12월) 요양시설 CCTV 설치 의무화 법 개정(’23.6월 시행)\n",
            "원으로서 사립학교에 근무하는 교원이면 보험료액은 그 직장가입자가 100분의 50을, 제3조제2\n",
            "호다목에 해당하는 사용자가 100분의 30을, 국가가 100분의 20을 각각 부담한다.  \n",
            "-----  \n",
            "1. 직장가입자가 근로자인 경우에는 제3조제2호가목에 해당하는 사업주\n",
            "2. 직장가입자가 공무원인 경우에는 그 공무원이 소속되어 있는 국가 또는 지방자치단체\n",
            "\n",
            "--------\n",
            "\n"
          ]
        }
      ],
      "source": [
        "i = 20\n",
        "print_dataset_ele(eval_dataset,i)"
      ]
    },
    {
      "cell_type": "code",
      "source": [
        "def post_process(ans):\n",
        "  ans = ans.strip().split('\\n')\n",
        "  sen_len = list(map(len,ans))\n",
        "  th = 1\n",
        "  for i,l in enumerate(sen_len):\n",
        "    if l < 2 :\n",
        "      th = i\n",
        "      break\n",
        "  if th < 1 : th = 1\n",
        "  return '\\n'.join(ans[:th])"
      ],
      "metadata": {
        "id": "nJeUxesoyeo8"
      },
      "execution_count": 30,
      "outputs": []
    },
    {
      "cell_type": "code",
      "source": [
        "def post_process_basic(ans):\n",
        "  ans = ans.strip()\n",
        "  return ans.split('\\n')[0]"
      ],
      "metadata": {
        "id": "MN4kVA_siKUP"
      },
      "execution_count": 31,
      "outputs": []
    },
    {
      "cell_type": "markdown",
      "metadata": {
        "id": "3DH4MwNaVMyX"
      },
      "source": [
        "# Evaluation"
      ]
    },
    {
      "cell_type": "code",
      "source": [
        "rslt_df = pd.DataFrame(results)\n",
        "rslt_df['Answer_post'] = rslt_df['Answer'].apply(post_process)\n",
        "\n",
        "if eval_mode == 'valid':\n",
        "  temp0 = rslt_df[['Answer','True_Answer']].apply(lambda x : compute_f1(*x),axis=1)\n",
        "  temp1 = rslt_df[['Answer_post','True_Answer']].apply(lambda x : compute_f1(*x),axis=1)\n",
        "  display(temp0)\n",
        "  rslt_df[['F1_0','Precision_0','Recall_0']] = pd.DataFrame(temp0.tolist(), index= temp0.index)\n",
        "  rslt_df[['F1_1','Precision_1','Recall_1']] = pd.DataFrame(temp1.tolist(), index= temp1.index)\n",
        "\n",
        "rslt_df"
      ],
      "metadata": {
        "colab": {
          "base_uri": "https://localhost:8080/",
          "height": 597
        },
        "id": "P4qQLPAQwuqg",
        "outputId": "e58fc9d5-a284-44ce-eba8-ed3df6bb02c8"
      },
      "execution_count": 32,
      "outputs": [
        {
          "output_type": "execute_result",
          "data": {
            "text/plain": [
              "                                              Context  \\\n",
              "0   -  2014. 1 지원대상 업력기준을 7년 미만으로 확대  \\n-  2015. 1...   \n",
              "1   ## 4. 사업목적  \\nㅇ (창업기반지원) 기술력과 사업성이 우수하고 미래 성장가...   \n",
              "2   ## 6. 주요내용  \\nㅇ총사업비 : 해당없음  \\nㅇ 사업기간 : ’98년~ 계...   \n",
              "3   -  2014. 1 지원대상 업력기준을 7년 미만으로 확대  \\n-  2015. 1...   \n",
              "4   -  2014. 1 지원대상 업력기준을 7년 미만으로 확대  \\n-  2015. 1...   \n",
              "..                                                ...   \n",
              "93  |---|---|  \\n**자료: IMF, (2017), 「Government Fi...   \n",
              "94  다고 여겨 정부의 계약상 부채를 초래하지 않는 것으로 간주하며, 우발부채로 인식  ...   \n",
              "95  -  「국가회계기준에 관한 규칙」은 제50조에서 ‘충당부채’, ‘우발부채’ 및 ‘우...   \n",
              "96  ## 들어가며  \\n**ISSUE Col1**  \\n**왜 우발부채에 주목하는가?*...   \n",
              "97  하지만 이들 계약이 공공부문 단위의 부채에 포함되고 상당한 손실이 발생할 수 있으므...   \n",
              "\n",
              "                                             Question  \\\n",
              "0                     2022년 혁신창업사업화자금(융자)의 예산은 얼마인가요?   \n",
              "1                 중소벤처기업부의 혁신창업사업화자금(융자) 사업목적은 무엇인가요?   \n",
              "2       중소벤처기업부의 혁신창업사업화자금(융자) 사업근거는 어떤 법률에 근거하고 있나요?   \n",
              "3                     2010년에 신규 지원된 혁신창업사업화자금은 무엇인가요?   \n",
              "4                혁신창업사업화자금 중 2020년에 신규 지원된 자금은 무엇인가요?   \n",
              "..                                                ...   \n",
              "93               재정정책에서 공적보증채무와 다른 일회성 보증은 어떻게 구분되는가?   \n",
              "94                       미래사회보장급여에 대한 순의무란 무엇을 의미하는가?   \n",
              "95  국가결산보고서와 지방자치단체 회계기준에서 우발부채에 대한 용어 및 회계처리가 어떻게...   \n",
              "96                          우발부채란 무엇이며, 그 관리가 왜 중요한가?   \n",
              "97  보증이란 무엇이며, 어떤 형태의 보증이 재정상태표에 부채로 기록되는가? 또한 표준화...   \n",
              "\n",
              "                                               Answer True_Answer  \\\n",
              "0           2022년 혁신창업사업화자금(융자)의 예산은 2,300,000백만원입니다.               \n",
              "1   중소기업이 보유한 우수 기술의 사장을 방지하고 개발기술의 제품화·사업화를 촉진하여 ...               \n",
              "2   중소기업진흥에 관한 법률 제66조, 제67조, 제74조, 중소기업창업지원법 제35조...               \n",
              "3        2010년에는 재창업자금(실패 경영인에 대한 재기지원)이 신규로 지원되었습니다.               \n",
              "4              2020년에 미래기술육성자금과 고성장촉진자금이 신규로 지원되었습니다.               \n",
              "..                                                ...         ...   \n",
              "93  공적보증채무는 보증인이 기타 공공부문과 민간부문 단위 기존 채무의 원리금 상환을 보...               \n",
              "94  미래사회보장급여에 대한 순의무는 현행법과 규정에 따라 이미 가입자가 획득한 미래 급...               \n",
              "95  국가결산보고서는 우발부채를 '우발사항'으로 공시하는 반면, 지방자치단체 회계기준에서...               \n",
              "96  우발부채는 미래의 의제의무를 포괄하는 재정적 책임으로, 재정건전성과 재정위기 관리 ...               \n",
              "97  보증은 명시적 우발부채의 가장 보편적 형태이며, 파생금융상품 형태의 보증과 표준화 ...               \n",
              "\n",
              "                                          Answer_post  \n",
              "0           2022년 혁신창업사업화자금(융자)의 예산은 2,300,000백만원입니다.  \n",
              "1   중소기업이 보유한 우수 기술의 사장을 방지하고 개발기술의 제품화·사업화를 촉진하여 ...  \n",
              "2   중소기업진흥에 관한 법률 제66조, 제67조, 제74조, 중소기업창업지원법 제35조...  \n",
              "3        2010년에는 재창업자금(실패 경영인에 대한 재기지원)이 신규로 지원되었습니다.  \n",
              "4              2020년에 미래기술육성자금과 고성장촉진자금이 신규로 지원되었습니다.  \n",
              "..                                                ...  \n",
              "93  공적보증채무는 보증인이 기타 공공부문과 민간부문 단위 기존 채무의 원리금 상환을 보...  \n",
              "94  미래사회보장급여에 대한 순의무는 현행법과 규정에 따라 이미 가입자가 획득한 미래 급...  \n",
              "95  국가결산보고서는 우발부채를 '우발사항'으로 공시하는 반면, 지방자치단체 회계기준에서...  \n",
              "96  우발부채는 미래의 의제의무를 포괄하는 재정적 책임으로, 재정건전성과 재정위기 관리 ...  \n",
              "97  보증은 명시적 우발부채의 가장 보편적 형태이며, 파생금융상품 형태의 보증과 표준화 ...  \n",
              "\n",
              "[98 rows x 5 columns]"
            ],
            "text/html": [
              "\n",
              "  <div id=\"df-b6f75715-8d14-476c-8c27-eb1cd67a284b\" class=\"colab-df-container\">\n",
              "    <div>\n",
              "<style scoped>\n",
              "    .dataframe tbody tr th:only-of-type {\n",
              "        vertical-align: middle;\n",
              "    }\n",
              "\n",
              "    .dataframe tbody tr th {\n",
              "        vertical-align: top;\n",
              "    }\n",
              "\n",
              "    .dataframe thead th {\n",
              "        text-align: right;\n",
              "    }\n",
              "</style>\n",
              "<table border=\"1\" class=\"dataframe\">\n",
              "  <thead>\n",
              "    <tr style=\"text-align: right;\">\n",
              "      <th></th>\n",
              "      <th>Context</th>\n",
              "      <th>Question</th>\n",
              "      <th>Answer</th>\n",
              "      <th>True_Answer</th>\n",
              "      <th>Answer_post</th>\n",
              "    </tr>\n",
              "  </thead>\n",
              "  <tbody>\n",
              "    <tr>\n",
              "      <th>0</th>\n",
              "      <td>-  2014. 1 지원대상 업력기준을 7년 미만으로 확대  \\n-  2015. 1...</td>\n",
              "      <td>2022년 혁신창업사업화자금(융자)의 예산은 얼마인가요?</td>\n",
              "      <td>2022년 혁신창업사업화자금(융자)의 예산은 2,300,000백만원입니다.</td>\n",
              "      <td></td>\n",
              "      <td>2022년 혁신창업사업화자금(융자)의 예산은 2,300,000백만원입니다.</td>\n",
              "    </tr>\n",
              "    <tr>\n",
              "      <th>1</th>\n",
              "      <td>## 4. 사업목적  \\nㅇ (창업기반지원) 기술력과 사업성이 우수하고 미래 성장가...</td>\n",
              "      <td>중소벤처기업부의 혁신창업사업화자금(융자) 사업목적은 무엇인가요?</td>\n",
              "      <td>중소기업이 보유한 우수 기술의 사장을 방지하고 개발기술의 제품화·사업화를 촉진하여 ...</td>\n",
              "      <td></td>\n",
              "      <td>중소기업이 보유한 우수 기술의 사장을 방지하고 개발기술의 제품화·사업화를 촉진하여 ...</td>\n",
              "    </tr>\n",
              "    <tr>\n",
              "      <th>2</th>\n",
              "      <td>## 6. 주요내용  \\nㅇ총사업비 : 해당없음  \\nㅇ 사업기간 : ’98년~ 계...</td>\n",
              "      <td>중소벤처기업부의 혁신창업사업화자금(융자) 사업근거는 어떤 법률에 근거하고 있나요?</td>\n",
              "      <td>중소기업진흥에 관한 법률 제66조, 제67조, 제74조, 중소기업창업지원법 제35조...</td>\n",
              "      <td></td>\n",
              "      <td>중소기업진흥에 관한 법률 제66조, 제67조, 제74조, 중소기업창업지원법 제35조...</td>\n",
              "    </tr>\n",
              "    <tr>\n",
              "      <th>3</th>\n",
              "      <td>-  2014. 1 지원대상 업력기준을 7년 미만으로 확대  \\n-  2015. 1...</td>\n",
              "      <td>2010년에 신규 지원된 혁신창업사업화자금은 무엇인가요?</td>\n",
              "      <td>2010년에는 재창업자금(실패 경영인에 대한 재기지원)이 신규로 지원되었습니다.</td>\n",
              "      <td></td>\n",
              "      <td>2010년에는 재창업자금(실패 경영인에 대한 재기지원)이 신규로 지원되었습니다.</td>\n",
              "    </tr>\n",
              "    <tr>\n",
              "      <th>4</th>\n",
              "      <td>-  2014. 1 지원대상 업력기준을 7년 미만으로 확대  \\n-  2015. 1...</td>\n",
              "      <td>혁신창업사업화자금 중 2020년에 신규 지원된 자금은 무엇인가요?</td>\n",
              "      <td>2020년에 미래기술육성자금과 고성장촉진자금이 신규로 지원되었습니다.</td>\n",
              "      <td></td>\n",
              "      <td>2020년에 미래기술육성자금과 고성장촉진자금이 신규로 지원되었습니다.</td>\n",
              "    </tr>\n",
              "    <tr>\n",
              "      <th>...</th>\n",
              "      <td>...</td>\n",
              "      <td>...</td>\n",
              "      <td>...</td>\n",
              "      <td>...</td>\n",
              "      <td>...</td>\n",
              "    </tr>\n",
              "    <tr>\n",
              "      <th>93</th>\n",
              "      <td>|---|---|  \\n**자료: IMF, (2017), 「Government Fi...</td>\n",
              "      <td>재정정책에서 공적보증채무와 다른 일회성 보증은 어떻게 구분되는가?</td>\n",
              "      <td>공적보증채무는 보증인이 기타 공공부문과 민간부문 단위 기존 채무의 원리금 상환을 보...</td>\n",
              "      <td></td>\n",
              "      <td>공적보증채무는 보증인이 기타 공공부문과 민간부문 단위 기존 채무의 원리금 상환을 보...</td>\n",
              "    </tr>\n",
              "    <tr>\n",
              "      <th>94</th>\n",
              "      <td>다고 여겨 정부의 계약상 부채를 초래하지 않는 것으로 간주하며, 우발부채로 인식  ...</td>\n",
              "      <td>미래사회보장급여에 대한 순의무란 무엇을 의미하는가?</td>\n",
              "      <td>미래사회보장급여에 대한 순의무는 현행법과 규정에 따라 이미 가입자가 획득한 미래 급...</td>\n",
              "      <td></td>\n",
              "      <td>미래사회보장급여에 대한 순의무는 현행법과 규정에 따라 이미 가입자가 획득한 미래 급...</td>\n",
              "    </tr>\n",
              "    <tr>\n",
              "      <th>95</th>\n",
              "      <td>-  「국가회계기준에 관한 규칙」은 제50조에서 ‘충당부채’, ‘우발부채’ 및 ‘우...</td>\n",
              "      <td>국가결산보고서와 지방자치단체 회계기준에서 우발부채에 대한 용어 및 회계처리가 어떻게...</td>\n",
              "      <td>국가결산보고서는 우발부채를 '우발사항'으로 공시하는 반면, 지방자치단체 회계기준에서...</td>\n",
              "      <td></td>\n",
              "      <td>국가결산보고서는 우발부채를 '우발사항'으로 공시하는 반면, 지방자치단체 회계기준에서...</td>\n",
              "    </tr>\n",
              "    <tr>\n",
              "      <th>96</th>\n",
              "      <td>## 들어가며  \\n**ISSUE Col1**  \\n**왜 우발부채에 주목하는가?*...</td>\n",
              "      <td>우발부채란 무엇이며, 그 관리가 왜 중요한가?</td>\n",
              "      <td>우발부채는 미래의 의제의무를 포괄하는 재정적 책임으로, 재정건전성과 재정위기 관리 ...</td>\n",
              "      <td></td>\n",
              "      <td>우발부채는 미래의 의제의무를 포괄하는 재정적 책임으로, 재정건전성과 재정위기 관리 ...</td>\n",
              "    </tr>\n",
              "    <tr>\n",
              "      <th>97</th>\n",
              "      <td>하지만 이들 계약이 공공부문 단위의 부채에 포함되고 상당한 손실이 발생할 수 있으므...</td>\n",
              "      <td>보증이란 무엇이며, 어떤 형태의 보증이 재정상태표에 부채로 기록되는가? 또한 표준화...</td>\n",
              "      <td>보증은 명시적 우발부채의 가장 보편적 형태이며, 파생금융상품 형태의 보증과 표준화 ...</td>\n",
              "      <td></td>\n",
              "      <td>보증은 명시적 우발부채의 가장 보편적 형태이며, 파생금융상품 형태의 보증과 표준화 ...</td>\n",
              "    </tr>\n",
              "  </tbody>\n",
              "</table>\n",
              "<p>98 rows × 5 columns</p>\n",
              "</div>\n",
              "    <div class=\"colab-df-buttons\">\n",
              "\n",
              "  <div class=\"colab-df-container\">\n",
              "    <button class=\"colab-df-convert\" onclick=\"convertToInteractive('df-b6f75715-8d14-476c-8c27-eb1cd67a284b')\"\n",
              "            title=\"Convert this dataframe to an interactive table.\"\n",
              "            style=\"display:none;\">\n",
              "\n",
              "  <svg xmlns=\"http://www.w3.org/2000/svg\" height=\"24px\" viewBox=\"0 -960 960 960\">\n",
              "    <path d=\"M120-120v-720h720v720H120Zm60-500h600v-160H180v160Zm220 220h160v-160H400v160Zm0 220h160v-160H400v160ZM180-400h160v-160H180v160Zm440 0h160v-160H620v160ZM180-180h160v-160H180v160Zm440 0h160v-160H620v160Z\"/>\n",
              "  </svg>\n",
              "    </button>\n",
              "\n",
              "  <style>\n",
              "    .colab-df-container {\n",
              "      display:flex;\n",
              "      gap: 12px;\n",
              "    }\n",
              "\n",
              "    .colab-df-convert {\n",
              "      background-color: #E8F0FE;\n",
              "      border: none;\n",
              "      border-radius: 50%;\n",
              "      cursor: pointer;\n",
              "      display: none;\n",
              "      fill: #1967D2;\n",
              "      height: 32px;\n",
              "      padding: 0 0 0 0;\n",
              "      width: 32px;\n",
              "    }\n",
              "\n",
              "    .colab-df-convert:hover {\n",
              "      background-color: #E2EBFA;\n",
              "      box-shadow: 0px 1px 2px rgba(60, 64, 67, 0.3), 0px 1px 3px 1px rgba(60, 64, 67, 0.15);\n",
              "      fill: #174EA6;\n",
              "    }\n",
              "\n",
              "    .colab-df-buttons div {\n",
              "      margin-bottom: 4px;\n",
              "    }\n",
              "\n",
              "    [theme=dark] .colab-df-convert {\n",
              "      background-color: #3B4455;\n",
              "      fill: #D2E3FC;\n",
              "    }\n",
              "\n",
              "    [theme=dark] .colab-df-convert:hover {\n",
              "      background-color: #434B5C;\n",
              "      box-shadow: 0px 1px 3px 1px rgba(0, 0, 0, 0.15);\n",
              "      filter: drop-shadow(0px 1px 2px rgba(0, 0, 0, 0.3));\n",
              "      fill: #FFFFFF;\n",
              "    }\n",
              "  </style>\n",
              "\n",
              "    <script>\n",
              "      const buttonEl =\n",
              "        document.querySelector('#df-b6f75715-8d14-476c-8c27-eb1cd67a284b button.colab-df-convert');\n",
              "      buttonEl.style.display =\n",
              "        google.colab.kernel.accessAllowed ? 'block' : 'none';\n",
              "\n",
              "      async function convertToInteractive(key) {\n",
              "        const element = document.querySelector('#df-b6f75715-8d14-476c-8c27-eb1cd67a284b');\n",
              "        const dataTable =\n",
              "          await google.colab.kernel.invokeFunction('convertToInteractive',\n",
              "                                                    [key], {});\n",
              "        if (!dataTable) return;\n",
              "\n",
              "        const docLinkHtml = 'Like what you see? Visit the ' +\n",
              "          '<a target=\"_blank\" href=https://colab.research.google.com/notebooks/data_table.ipynb>data table notebook</a>'\n",
              "          + ' to learn more about interactive tables.';\n",
              "        element.innerHTML = '';\n",
              "        dataTable['output_type'] = 'display_data';\n",
              "        await google.colab.output.renderOutput(dataTable, element);\n",
              "        const docLink = document.createElement('div');\n",
              "        docLink.innerHTML = docLinkHtml;\n",
              "        element.appendChild(docLink);\n",
              "      }\n",
              "    </script>\n",
              "  </div>\n",
              "\n",
              "\n",
              "<div id=\"df-4d66062e-bbcc-410c-9563-c3b846b86a78\">\n",
              "  <button class=\"colab-df-quickchart\" onclick=\"quickchart('df-4d66062e-bbcc-410c-9563-c3b846b86a78')\"\n",
              "            title=\"Suggest charts\"\n",
              "            style=\"display:none;\">\n",
              "\n",
              "<svg xmlns=\"http://www.w3.org/2000/svg\" height=\"24px\"viewBox=\"0 0 24 24\"\n",
              "     width=\"24px\">\n",
              "    <g>\n",
              "        <path d=\"M19 3H5c-1.1 0-2 .9-2 2v14c0 1.1.9 2 2 2h14c1.1 0 2-.9 2-2V5c0-1.1-.9-2-2-2zM9 17H7v-7h2v7zm4 0h-2V7h2v10zm4 0h-2v-4h2v4z\"/>\n",
              "    </g>\n",
              "</svg>\n",
              "  </button>\n",
              "\n",
              "<style>\n",
              "  .colab-df-quickchart {\n",
              "      --bg-color: #E8F0FE;\n",
              "      --fill-color: #1967D2;\n",
              "      --hover-bg-color: #E2EBFA;\n",
              "      --hover-fill-color: #174EA6;\n",
              "      --disabled-fill-color: #AAA;\n",
              "      --disabled-bg-color: #DDD;\n",
              "  }\n",
              "\n",
              "  [theme=dark] .colab-df-quickchart {\n",
              "      --bg-color: #3B4455;\n",
              "      --fill-color: #D2E3FC;\n",
              "      --hover-bg-color: #434B5C;\n",
              "      --hover-fill-color: #FFFFFF;\n",
              "      --disabled-bg-color: #3B4455;\n",
              "      --disabled-fill-color: #666;\n",
              "  }\n",
              "\n",
              "  .colab-df-quickchart {\n",
              "    background-color: var(--bg-color);\n",
              "    border: none;\n",
              "    border-radius: 50%;\n",
              "    cursor: pointer;\n",
              "    display: none;\n",
              "    fill: var(--fill-color);\n",
              "    height: 32px;\n",
              "    padding: 0;\n",
              "    width: 32px;\n",
              "  }\n",
              "\n",
              "  .colab-df-quickchart:hover {\n",
              "    background-color: var(--hover-bg-color);\n",
              "    box-shadow: 0 1px 2px rgba(60, 64, 67, 0.3), 0 1px 3px 1px rgba(60, 64, 67, 0.15);\n",
              "    fill: var(--button-hover-fill-color);\n",
              "  }\n",
              "\n",
              "  .colab-df-quickchart-complete:disabled,\n",
              "  .colab-df-quickchart-complete:disabled:hover {\n",
              "    background-color: var(--disabled-bg-color);\n",
              "    fill: var(--disabled-fill-color);\n",
              "    box-shadow: none;\n",
              "  }\n",
              "\n",
              "  .colab-df-spinner {\n",
              "    border: 2px solid var(--fill-color);\n",
              "    border-color: transparent;\n",
              "    border-bottom-color: var(--fill-color);\n",
              "    animation:\n",
              "      spin 1s steps(1) infinite;\n",
              "  }\n",
              "\n",
              "  @keyframes spin {\n",
              "    0% {\n",
              "      border-color: transparent;\n",
              "      border-bottom-color: var(--fill-color);\n",
              "      border-left-color: var(--fill-color);\n",
              "    }\n",
              "    20% {\n",
              "      border-color: transparent;\n",
              "      border-left-color: var(--fill-color);\n",
              "      border-top-color: var(--fill-color);\n",
              "    }\n",
              "    30% {\n",
              "      border-color: transparent;\n",
              "      border-left-color: var(--fill-color);\n",
              "      border-top-color: var(--fill-color);\n",
              "      border-right-color: var(--fill-color);\n",
              "    }\n",
              "    40% {\n",
              "      border-color: transparent;\n",
              "      border-right-color: var(--fill-color);\n",
              "      border-top-color: var(--fill-color);\n",
              "    }\n",
              "    60% {\n",
              "      border-color: transparent;\n",
              "      border-right-color: var(--fill-color);\n",
              "    }\n",
              "    80% {\n",
              "      border-color: transparent;\n",
              "      border-right-color: var(--fill-color);\n",
              "      border-bottom-color: var(--fill-color);\n",
              "    }\n",
              "    90% {\n",
              "      border-color: transparent;\n",
              "      border-bottom-color: var(--fill-color);\n",
              "    }\n",
              "  }\n",
              "</style>\n",
              "\n",
              "  <script>\n",
              "    async function quickchart(key) {\n",
              "      const quickchartButtonEl =\n",
              "        document.querySelector('#' + key + ' button');\n",
              "      quickchartButtonEl.disabled = true;  // To prevent multiple clicks.\n",
              "      quickchartButtonEl.classList.add('colab-df-spinner');\n",
              "      try {\n",
              "        const charts = await google.colab.kernel.invokeFunction(\n",
              "            'suggestCharts', [key], {});\n",
              "      } catch (error) {\n",
              "        console.error('Error during call to suggestCharts:', error);\n",
              "      }\n",
              "      quickchartButtonEl.classList.remove('colab-df-spinner');\n",
              "      quickchartButtonEl.classList.add('colab-df-quickchart-complete');\n",
              "    }\n",
              "    (() => {\n",
              "      let quickchartButtonEl =\n",
              "        document.querySelector('#df-4d66062e-bbcc-410c-9563-c3b846b86a78 button');\n",
              "      quickchartButtonEl.style.display =\n",
              "        google.colab.kernel.accessAllowed ? 'block' : 'none';\n",
              "    })();\n",
              "  </script>\n",
              "</div>\n",
              "\n",
              "  <div id=\"id_7be8b18c-4e66-4ece-a69c-9c084782882c\">\n",
              "    <style>\n",
              "      .colab-df-generate {\n",
              "        background-color: #E8F0FE;\n",
              "        border: none;\n",
              "        border-radius: 50%;\n",
              "        cursor: pointer;\n",
              "        display: none;\n",
              "        fill: #1967D2;\n",
              "        height: 32px;\n",
              "        padding: 0 0 0 0;\n",
              "        width: 32px;\n",
              "      }\n",
              "\n",
              "      .colab-df-generate:hover {\n",
              "        background-color: #E2EBFA;\n",
              "        box-shadow: 0px 1px 2px rgba(60, 64, 67, 0.3), 0px 1px 3px 1px rgba(60, 64, 67, 0.15);\n",
              "        fill: #174EA6;\n",
              "      }\n",
              "\n",
              "      [theme=dark] .colab-df-generate {\n",
              "        background-color: #3B4455;\n",
              "        fill: #D2E3FC;\n",
              "      }\n",
              "\n",
              "      [theme=dark] .colab-df-generate:hover {\n",
              "        background-color: #434B5C;\n",
              "        box-shadow: 0px 1px 3px 1px rgba(0, 0, 0, 0.15);\n",
              "        filter: drop-shadow(0px 1px 2px rgba(0, 0, 0, 0.3));\n",
              "        fill: #FFFFFF;\n",
              "      }\n",
              "    </style>\n",
              "    <button class=\"colab-df-generate\" onclick=\"generateWithVariable('rslt_df')\"\n",
              "            title=\"Generate code using this dataframe.\"\n",
              "            style=\"display:none;\">\n",
              "\n",
              "  <svg xmlns=\"http://www.w3.org/2000/svg\" height=\"24px\"viewBox=\"0 0 24 24\"\n",
              "       width=\"24px\">\n",
              "    <path d=\"M7,19H8.4L18.45,9,17,7.55,7,17.6ZM5,21V16.75L18.45,3.32a2,2,0,0,1,2.83,0l1.4,1.43a1.91,1.91,0,0,1,.58,1.4,1.91,1.91,0,0,1-.58,1.4L9.25,21ZM18.45,9,17,7.55Zm-12,3A5.31,5.31,0,0,0,4.9,8.1,5.31,5.31,0,0,0,1,6.5,5.31,5.31,0,0,0,4.9,4.9,5.31,5.31,0,0,0,6.5,1,5.31,5.31,0,0,0,8.1,4.9,5.31,5.31,0,0,0,12,6.5,5.46,5.46,0,0,0,6.5,12Z\"/>\n",
              "  </svg>\n",
              "    </button>\n",
              "    <script>\n",
              "      (() => {\n",
              "      const buttonEl =\n",
              "        document.querySelector('#id_7be8b18c-4e66-4ece-a69c-9c084782882c button.colab-df-generate');\n",
              "      buttonEl.style.display =\n",
              "        google.colab.kernel.accessAllowed ? 'block' : 'none';\n",
              "\n",
              "      buttonEl.onclick = () => {\n",
              "        google.colab.notebook.generateWithVariable('rslt_df');\n",
              "      }\n",
              "      })();\n",
              "    </script>\n",
              "  </div>\n",
              "\n",
              "    </div>\n",
              "  </div>\n"
            ],
            "application/vnd.google.colaboratory.intrinsic+json": {
              "type": "dataframe",
              "variable_name": "rslt_df",
              "summary": "{\n  \"name\": \"rslt_df\",\n  \"rows\": 98,\n  \"fields\": [\n    {\n      \"column\": \"Context\",\n      \"properties\": {\n        \"dtype\": \"string\",\n        \"num_unique_values\": 97,\n        \"samples\": [\n          \"\\ubaa9\\ud45c\\uce58\\ub97c \\uad00\\ub9ac\\ud558\\uc5ec \\uad6d\\ud68c\\uc5d0 \\ubcf4\\uace0\\ud558\\uace0 \\uad6d\\ubbfc\\uc5d0\\uac8c \\uacf5\\uac1c  \\n-  \\uac01 \\ubd80\\ucc98\\ub294 \\uc131\\uacfc\\uacc4\\ud68d\\uc11c\\u00b7\\ubcf4\\uace0\\uc11c \\uc678\\uc5d0 \\uc7ac\\uc815\\uc0ac\\uc5c5\\uc5d0 \\ub300\\ud55c \\uc790\\uc728\\ud3c9\\uac00\\ub97c \\uc218\\ud589\\ud558\\uba70, \\uc7ac\\uc815\\ub2f9\\uad6d\\uc778 \\uae30\\ud68d\\uc7ac\\uc815\\ubd80\\ub294 \\uc9c0\\ud45c\\uac00  \\n\\uc801\\uc815\\ud55c\\uc9c0 \\uc810\\uac80\\ud558\\uace0 \\uac1c\\ubcc4 \\uc7ac\\uc815\\uc0ac\\uc5c5\\uc5d0 \\ub300\\ud55c \\ud3c9\\uac00\\ub97c \\uc218\\ud589\\ud560 \\uc218 \\uc788\\uc74c  \\n\\u2023 \\uc131\\uacfc\\uad00\\ub9ac\\uc758 \\ubaa9\\uc801\\uc740 \\uc815\\ubd80 \\uc7ac\\uc815\\uc758 \\ud22c\\uba85\\uc131\\u00b7\\ucc45\\uc784\\uc131, \\ud6a8\\uc728\\uc131\\u00b7\\ud6a8\\uacfc\\uc131, \\uc608\\uc0b0\\uc7ac\\ubd84\\ubc30 \\ub4f1\\uc774 \\uc788\\uc74c  \\n-  \\uc0ac\\uc5c5 \\uc804\\ub7b5\\uccb4\\uacc4\\ubcc4 \\uc7ac\\uc6d0 \\ubc30\\ubd84, \\uc131\\uacfc\\ubaa9\\ud45c\\uc640 \\ub2ec\\uc131\\ub3c4, \\uc8fc\\uc694 \\uc218\\ud61c\\uc790\\uc5d0 \\ub300\\ud55c \\uc815\\ubcf4\\ub97c \\uc9d1\\uc57d\\uc801\\uc73c\\ub85c \\uc81c\\uacf5\\ud558\\uc5ec \\ud22c\\uba85\\uc131 \\ubc0f  \\n\\ucc45\\uc784\\uc131 \\ud5a5\\uc0c1  \\n-  \\uc5f0\\uac04 \\uc131\\uacfc\\uad00\\ub9ac \\uacb0\\uacfc \\ub3c4\\ucd9c\\ub41c \\ubb38\\uc81c\\uc810 \\ub4f1\\uc744 \\uc0ac\\uc5c5 \\uad00\\ub9ac\\uc5d0 \\ud658\\ub958(managerial feedback)\\ud558\\uc5ec \\uc0ac\\uc5c5 \\uc131\\uacfc\\ub97c \\uc81c\\uace0\\ud558\\uace0  \\n\\ud6a8\\uacfc\\uc131\\uc744 \\ud5a5\\uc0c1  \\n-  \\uc815\\ucc45 \\uc6b0\\uc120\\uc21c\\uc704, \\ub354 \\ud6a8\\uacfc\\uc801\\uc778 \\uc0ac\\uc5c5\\u00b7\\uc815\\ucc45\\uc73c\\ub85c \\uc7ac\\uc6d0\\uc744 \\uc7ac\\ubc30\\ubd84\\ud568\\uc73c\\ub85c\\uc368 \\ubc30\\ubd84\\uc801 \\ud6a8\\uc728\\uc131 \\ud5a5\\uc0c1  \\n**\\uc7ac\\uc815\\uc131\\uacfc\\uad00\\ub9ac\\uc81c\\ub3c4\\uc758 \\uc758\\uc758**  \\n\\u2023 \\uc7ac\\uc815\\uc131\\uacfc\\uad00\\ub9ac\\uc81c\\ub3c4\\ub294 \\ud504\\ub85c\\uadf8\\ub7a8 \\ub2e8\\uc704\\uc758 \\uc131\\uacfc\\uad00\\ub9ac, \\uc0ac\\uc5c5 \\ub610\\ub294 \\uc0ac\\uc5c5\\uad70\\ubcc4\\ub85c \\uc218\\ud589\\ub418\\ub294 \\ud3c9\\uac00\\ub97c \\ud1b5\\ud574 \\uac70\\uc2dc\\uc801  \\n\\uc7ac\\uc815\\ucd1d\\ub7c9 \\uc704\\uc8fc\\uc758 \\uad00\\ub9ac\\uc640 \\uac1c\\ubcc4 \\ubd80\\ucc98\\uc758 \\uc7ac\\uc815 \\ucd5c\\ud558\\ub2e8\\ubd80\\uc758 \\uc7ac\\uc815\\uc0ac\\uc5c5 \\uad00\\ub9ac\\uccb4\\uacc4\\ub97c \\uc5f0\\uacb0\\ud574\\uc90c\\n# \\uc7ac\\uc815\\uc131\\uacfc\\uad00\\ub9ac\\uc81c\\ub3c4  \\n\\ub2e4. \\uc7ac\\uc815\\uc131\\uacfc\\uad00\\ub9ac\\ub294 \\ub2e8\\uc21c \\uc608\\uc0b0\\u00b7\\uacb0\\uc0b0 \\uc911\\uc2ec\\uc5d0\\uc11c \\ubc97\\uc5b4\\ub098  \\n\\uc7ac\\uc815\\uc744 \\uacb0\\uacfc \\ub610\\ub294 \\uc0b0\\ucd9c \\uc9c0\\ud5a5\\uc801\\uc73c\\ub85c \\uc6b4\\uc601\\ud558\\ub294 \\uac83\\uc73c\\ub85c, \\uc0b0\\ucd9c\\uc758 \\uc6b0\\uc120\\uc21c\\uc704\\ub97c \\uba85\\ud655\\ud558\\uac8c \\ud558\\ub294 \\ud55c\\ud3b8 \\uad6d\\ubbfc\\uc5d0\\uac8c \\uc7ac\\uc815\\uc774 \\ud558\\ub294 \\uc77c\\uc744 \\ubcf4\\ub2e4 \\uc54c\\uae30  \\n\\uc27d\\uac8c \\uc124\\uba85\\ud560 \\uc218 \\uc788\\uae30\\uc5d0 \\uc911\\uc694\\ud558\\ub2e4.  \\n2021\\ub144 \\u300c\\uad6d\\uac00\\uc7ac\\uc815\\ubc95\\u300d \\uac1c\\uc815\\uc73c\\ub85c \\uc131\\uacfc \\uc911\\uc2ec\\uc758 \\uc7ac\\uc815 \\uc6b4\\uc6a9\\uc758 \\ubc95\\uc81c\\ub3c4 \\uadfc\\uac70\\uac00 \\ub9c8\\ub828\\ub418\\uc5b4, \\ud55c\\uce35 \\uc7ac\\uc815\\uc131\\uacfc\\uad00\\ub9ac\\uac00 \\uac15\\ud654\\ub420 \\uac83\\uc73c\\ub85c \\uc804\\ub9dd\\ub41c\\ub2e4. \\uc774  \\n\\uae00\\uc5d0\\uc11c\\ub294 \\uc9c0\\ub09c 5\\uc6d4 \\ubc1c\\ud45c\\ub41c \\u201c2021\\ub144\\ub3c4 \\uad6d\\uac00\\uacb0\\uc0b0\\u201d\\uc758 \\uc131\\uacfc\\ubcf4\\uace0\\uc11c\\ub97c \\uc911\\uc2ec\\uc73c\\ub85c, \\uc6b0\\ub9ac\\ub098\\ub77c\\uc758 \\uc7ac\\uc815\\uc131\\uacfc\\uad00\\ub9ac \\ud604\\ud669\\uc744 \\ud30c\\uc545\\ud574 \\ubcf4\\uace0, \\uc55e\\uc73c\\ub85c\\uc758  \\n\\uc6b4\\uc601 \\ubc29\\ud5a5\\uc740 \\ubb34\\uc5c7\\uc778\\uc9c0, \\uad6d\\uc81c\\uae30\\uad6c\\uc758 \\ub17c\\uc758\\ub294 \\uc5b4\\ub5bb\\uac8c \\uc9c4\\ud589\\ub418\\uace0 \\uc788\\ub294\\uc9c0 \\uc0b4\\ud3b4\\ubd04\\uc73c\\ub85c\\uc368 \\uc7ac\\uc815\\uc131\\uacfc\\uad00\\ub9ac\\ub97c \\uba85\\ub8cc\\ud558\\uac8c \\uc774\\ud574\\ud574 \\ubcf4\\ub3c4\\ub85d \\ud55c\\ub2e4.  \\n**Col0 Col1**\\n\\uc131\\ub3c4\\ub97c \\uc9c0\\uc18d\\uc801\\uc73c\\ub85c \\uad00\\ub9ac\\ud558\\ub294 \\ud65c\\ub3d9  \\n-  \\uc7ac\\uc815\\uc758 \\ubaa9\\uc801 \\ub2ec\\uc131 \\uc5ec\\ubd80\\ub294 \\ud6a8\\uc728\\uc131, \\ud615\\ud3c9\\uc131 \\ub4f1 \\ub2e4\\uc591\\ud55c \\uac00\\uce58\\ub97c \\ud1b5\\ud574 \\ud3c9\\uac00\\ub420 \\uc218 \\uc788\\uc73c\\uba70, \\uc774\\ub97c \\uc704\\ud574 \\uc815\\ubd80\\ub294 \\uac01\\uc885 \\uce21  \\n\\uc815 \\uc218\\ub2e8\\uc744 \\uad6c\\ube44\\ud558\\uc5ec \\uacc4\\ud68d \\ub300\\ube44 \\uc9d1\\ud589 \\uc131\\uacfc\\ub97c \\uc218\\uc9d1\\ud558\\uace0 \\uc774 \\uc131\\uacfc \\uc815\\ubcf4\\ub97c \\ud658\\ub958\\ud558\\uc5ec \\ucc28\\ub144\\ub3c4 \\uc608\\uc0b0\\uc744 \\ud569\\ub9ac\\uc801\\uc73c\\ub85c \\ud3b8  \\n\\uc131\\ud558\\uae30 \\uc704\\ud574 \\ub178\\ub825\\ud558\\uace0 \\uc788\\uc74c  \\n-  \\ud504\\ub85c\\uadf8\\ub7a8 \\uc608\\uc0b0\\uccb4\\uacc4\\ub294 \\uac01 \\ubd80\\ucc98\\uc5d0\\uc11c \\ub3d9\\uc9c8\\uc801\\uc778 \\uc0ac\\uc5c5\\uc758 \\ubb36\\uc74c\\uc778 \\ud504\\ub85c\\uadf8\\ub7a8\\uc744 \\uc608\\uc0b0 \\ud3b8\\uc131 \\ucc29\\uc218 \\uc804\\uc5d0 \\ubbf8\\ub9ac \\uacb0\\uc815\\ud558\\uace0  \\n\\uc131\\uacfc\\ubaa9\\ud45c \\uc218\\uc900\\ub3c4 \\ud568\\uaed8 \\uc815\\ud558\\ub294 \\uac83\\uc73c\\ub85c, \\ud504\\ub85c\\uadf8\\ub7a8 \\ub0b4\\uc758 \\uc0ac\\uc5c5 \\uac04 \\ube44\\uad50 \\uae30\\uc900\\uc774 \\uba85\\ud655\\ud574\\uc9c0\\uace0 \\uc131\\uacfc\\ub97c \\uc911\\uc2ec\\uc73c\\ub85c \\uc7ac\\uc815\\uc5d0  \\n\\ud658\\ub958\\ud558\\uae30\\uac00 \\uc6a9\\uc774  \\n<\\uadf8\\ub9bc 1> \\ud504\\ub85c\\uadf8\\ub7a8 \\uc608\\uc0b0\\uccb4\\uacc4 \\uac1c\\ub150  \\n**\\uc65c \\uc7ac\\uc815\\uc131\\uacfc\\uad00\\ub9ac\\uc81c\\ub3c4\\uc5d0 \\uc8fc\\ubaa9\\ud558\\ub294\\uac00?**  \\n0 ISSUE  \\n\\u2023 \\uc7ac\\uc815\\uc131\\uacfc\\uad00\\ub9ac\\uc81c\\ub3c4\\ub294 \\uc7ac\\uc815\\uc744 \\ud504\\ub85c\\uadf8\\ub7a8 \\ub2e8\\uc704\\ub85c \\uad6c\\ubd84\\ud558\\uace0, \\uc0ac\\uc804 \\ubaa9\\ud45c\\uc640 \\uc0ac\\ud6c4 \\ud3c9\\uac00 \\uacb0\\uacfc\\ub97c \\uc911\\uc2ec\\uc73c\\ub85c \\uad00\\ub9ac\\ud558\\ub294  \\n\\uac83\\uc744 \\uc758\\ubbf8  \\n-  \\uc7ac\\uc815\\uc131\\uacfc\\uad00\\ub9ac\\uc81c\\ub3c4\\ub294 \\uc7ac\\uc815\\uc218\\uc9c0, \\uad6d\\uac00\\ucc44\\ubb34 \\ub4f1 \\uc7ac\\uc815 \\uc804\\uccb4\\uc5d0 \\ub300\\ud55c \\ucd1d\\ub7c9 \\uad00\\ub9ac\\uc5d0\\uc11c\\ub294 \\ubcf4\\uc9c0 \\ubabb\\ud558\\ub294 \\ubbf8\\uc2dc\\uc801\\uc778 \\ubd80\\ubd84\\uae4c\\n## \\ub4e4\\uc5b4\\uac00\\uba70  \\n**02 Col1**  \\n**\\uc7ac\\uc815\\uc131\\uacfc\\uad00\\ub9ac\\uc81c\\ub3c4\\uc758 \\uac1c\\ub150\\uacfc \\ubaa9\\ud45c**  \\n\\u2023 \\uc7ac\\uc815\\uc0ac\\uc5c5\\uc758 \\uae30\\ud68d\\uc5d0\\uc11c \\uc9d1\\ud589, \\ud658\\ub958, \\uc885\\ub8cc\\uc5d0 \\uc774\\ub974\\ub294 \\uc804 \\uc8fc\\uae30\\ub97c \\uccb4\\uacc4\\uc801\\uc73c\\ub85c \\uad00\\ub9ac\\ud558\\uc5ec \\ud6a8\\uc728\\uc801 \\uc7ac\\uc815 \\uc6b4\\uc6a9\\uc744 \\ub4b7\\ubc1b  \\n\\uce68\\ud558\\uace0, \\uad00\\ub828 \\uc815\\ubcf4\\ub97c \\uad6d\\ubbfc\\uc5d0\\uac8c \\uacf5\\uac1c\\ud558\\uc5ec \\ucc45\\uc784\\uc131\\uc744 \\ud655\\ubcf4\\ud558\\ub294 \\uac83\\uc744 \\uc758\\ubbf8  \\n-  \\uc7ac\\uc815\\uc131\\uacfc\\uad00\\ub9ac\\uc758 \\uc2e4\\ud6a8\\uc131\\uc744 \\uc81c\\uace0\\ud558\\uae30 \\uc704\\ud55c \\uc81c\\ub3c4 \\uac1c\\uc120\\uacfc \\uc7ac\\uc815\\uc815\\ubcf4\\uc2dc\\uc2a4\\ud15c \\uc9c0\\uc6d0 \\ub178\\ub825\\uc740 \\uad6d\\uc81c\\uae30\\uad6c\\uc758 \\uad8c\\uace0\\ubd80\\ud130 \\uac01  \\n\\uad6d \\uc815\\ubd80\\uc758 \\uc5c5\\ubb34 \\uac1c\\uc120\\uc5d0 \\uc774\\ub974\\uae30\\uae4c\\uc9c0 \\ub2e4\\uac01\\ub3c4\\ub85c \\uc774\\ub8e8\\uc5b4\\uc9c0\\uace0 \\uc788\\uc74c  \\n-  \\uc131\\uacfc \\uc815\\ubcf4\\ub97c \\ubc14\\ud0d5\\uc73c\\ub85c \\ud55c \\uc7ac\\uc815 \\uc6b4\\uc601 \\ub178\\ub825\\uc740 \\ubbf8\\uad6d\\uc5d0\\uc11c \\uc2dc\\uc791\\ub418\\uc5c8\\uc73c\\uba70, OECD, World Bank \\ub4f1\\uc740 2000\\ub144\\ub300\\ubd80  \\n\\ud130 \\uc0ac\\uc5c5\\uc744 \\uae30\\uc900\\uc73c\\ub85c \\uc608\\uc0b0\\uc744 \\ub098\\ub204\\uc5b4 \\uc131\\uacfc \\uc815\\ubcf4\\ub97c \\uc0dd\\uc0b0\\ud560 \\uac83, \\ud3b8\\uc131\\uacfc \\uc9d1\\ud589, \\ud658\\ub958\\uc5d0 \\uc774\\ub974\\ub294 \\uc7ac\\uc815\\uc758 \\uc804 \\uacfc\\uc815\\uc744 \\uc131  \\n\\uacfc \\uc815\\ubcf4\\ub97c \\ubc14\\ud0d5\\uc73c\\ub85c \\uad00\\ub9ac\\ud560 \\uac83\\uc744 \\uac15\\uc870\\ud558\\uae30 \\uc2dc\\uc791  \\n\\u2023 \\uc7ac\\uc815\\uc131\\uacfc\\uad00\\ub9ac\\ub294 \\uc9c0\\ucd9c \\ud6a8\\uc728\\uc131\\uc744 \\uc99d\\uc9c4\\ud558\\uae30 \\uc704\\ud574 \\uc7ac\\uc815\\uc9c0\\ucd9c\\uc774 \\ub2ec\\uc131\\ud574\\uc57c \\ud560 \\ubaa9\\ud45c\\ub97c \\uc815\\ud655\\ud788 \\uc124\\uc815\\ud558\\uace0, \\uc774\\uc758 \\ub2ec  \\n\\uc131\\ub3c4\\ub97c \\uc9c0\\uc18d\\uc801\\uc73c\\ub85c \\uad00\\ub9ac\\ud558\\ub294 \\ud65c\\ub3d9\\n\\uc9c0 \\uc7ac\\uc815\\uc744 \\uad00\\ub9ac\\ud558\\ub294 \\uac83\\uc73c\\ub85c, \\ucd1d\\ub7c9 \\uad00\\ub9ac\\uc640 \\ubcf4\\uc644\\uc801\\uc778 \\uad00\\uacc4\\uc784  \\n-  \\uc7ac\\uc815\\uc131\\uacfc\\uad00\\ub9ac\\uc81c\\ub3c4\\ub294 \\uc804\\ub7b5\\ubaa9\\ud45c\\uc640 \\uc6b0\\uc120\\uc21c\\uc704\\ub97c \\uc911\\uc2ec\\uc73c\\ub85c \\uc7ac\\uc815\\uc0ac\\uc5c5\\uc744 \\uc7ac\\uad6c\\uc870\\ud654\\ud55c\\ub2e4\\ub294 \\uc810\\uc5d0\\uc11c \\uad6d\\uc815\\uc6b4\\uc601\\uacfc \\uc5f0\\uacb0  \\n\\ub418\\uace0, \\uc9c0\\ucd9c \\uc6b0\\uc120\\uc21c\\uc704 \\uce21\\uba74\\uc5d0\\uc11c \\uc7ac\\uc815\\uc744 \\uc911\\uc7a5\\uae30 \\uc2dc\\uacc4\\ub85c \\ud655\\uc7a5\\uc2dc\\ucf1c \\uc90c  \\n\\u2023 \\uc6b0\\ub9ac\\ub098\\ub77c\\ub294 \\uc608\\uc0b0\\uc548\\uc5d0 \\uc131\\uacfc\\uacc4\\ud68d\\uc11c\\ub97c \\uc81c\\ucd9c\\ud558\\uace0 \\uad6d\\uac00\\uacb0\\uc0b0\\ubcf4\\uace0\\uc11c \\ucca8\\ubd80\\uc11c\\ub958\\ub85c \\uc131\\uacfc\\ubcf4\\uace0\\uc11c\\ub97c \\uc81c\\ucd9c\\ud558\\ub3c4\\ub85d \\ud558\\uace0  \\n\\uc788\\uc73c\\ub098 \\uc131\\uacfc\\uad00\\ub9ac\\uc758 \\uc2e4\\ud6a8\\uc131 \\uac15\\ud654\\ub97c \\uc704\\ud55c \\ubc29\\ud5a5\\uc744 \\ub17c\\uc758\\ud560 \\uc2dc\\uc810  \\n-  \\uc815\\ubd80\\ub294 2021\\ub144 \\u300c\\uad6d\\uac00\\uc7ac\\uc815\\ubc95\\u300d \\uac1c\\uc815\\uc73c\\ub85c \\uc131\\uacfc \\uc911\\uc2ec \\uc7ac\\uc815\\uc6b4\\uc6a9 \\uac15\\ud654\\ub97c \\uc704\\ud574 \\uc131\\uacfc\\uad00\\ub9ac\\ub97c \\uc704\\ud55c \\ubcc4\\ub3c4\\uc758 \\uc7a5\\uc744 \\uc2e0\\uc124\\ud558  \\n\\uace0 \\uc131\\uacfc\\uad00\\ub9ac \\uaddc\\uc815\\uc744 \\uc815\\ube44  \\n-  \\uc131\\uacfc\\uad00\\ub9ac\\ub97c \\uac15\\ud654\\ud558\\uae30 \\uc704\\ud55c \\uc7ac\\uc815\\uc0ac\\uc5c5 \\ud3c9\\uac00 \\uac1c\\ud3b8, \\uc9c0\\uc6d0 \\uc778\\ud504\\ub77c \\uccb4\\uacc4 \\ub4f1\\uc5d0 \\ub300\\ud55c \\ub17c\\uc758\\ub97c \\ud1b5\\ud574 \\uc131\\uacfc\\uad00\\ub9ac\\uc758 \\uc2e4\\ud6a8\\uc131  \\n\\uc744 \\uc81c\\uace0\\ud560 \\uc218 \\uc788\\uc74c  \\n**\\uc7ac\\uc815\\uc131\\uacfc\\uad00\\ub9ac \\uad00\\ub828 \\uc8fc\\uc694 \\uc7c1\\uc810\\uc740?**  \\n**FOCUS Col1**  \\n-  \\u300c\\uad6d\\uac00\\uc7ac\\uc815\\ubc95\\u300d\\uc0c1\\uc758 \\uc7ac\\uc815\\uc0ac\\uc5c5 \\ud3c9\\uac00\\uc778 \\uc7ac\\uc815\\uc0ac\\uc5c5 \\uc790\\uc728\\ud3c9\\uac00\\uc758 \\ub300\\uc0c1, \\ubc94\\uc704, \\ud6a8\\uacfc, \\uac1c\\ud3b8 \\ub4f1\\uc740 \\uc9c0\\uc18d\\uc801\\uc73c\\ub85c \\ub17c\\uc758\\ub418\\uc5b4\\uc57c\\n\\ud558\\uba70, \\uac1c\\ubcc4 \\ubc95\\ub839\\uc5d0 \\ub530\\ub77c \\uc2e4\\uc2dc\\ub418\\ub294 \\ud3c9\\uac00 \\ub300\\uc0c1 \\uac04 \\uc911\\ubcf5 \\ucd5c\\uc18c\\ud654 \\ub178\\ub825 \\ud544\\uc694  \\n-  \\uc7ac\\uc815\\uc131\\uacfc\\uad00\\ub9ac \\uacb0\\uacfc\\ub97c \\uc7ac\\uc815 \\uc6b4\\uc6a9\\uc5d0 \\ubc18\\uc601\\ud558\\uace0, \\ub610 \\uad6d\\ubbfc\\uc5d0\\uac8c \\uc54c\\uae30 \\uc27d\\uac8c \\ud64d\\ubcf4\\ud560 \\uc218 \\uc788\\ub3c4\\ub85d \\uacf5\\uac1c\\ud558\\uae30 \\uc704\\ud55c \\uc9c0\\uc18d\\uc801  \\n\\uc778 \\uc870\\uce58 \\ud544\\uc694  \\n**\\uc784\\ubb34\\ube44\\uc804**  \\n\\uc804\\ub7b5\\ubaa9\\ud45c1 \\uc804\\ub7b5\\ubaa9\\ud45c2 \\uc804\\ub7b5\\ubaa9\\ud45c3  \\n\\ud504\\ub85c\\uadf8\\ub7a8\\ubaa9\\ud45c2-1 \\ud504\\ub85c\\uadf8\\ub7a8\\ubaa9\\ud45c2-2  \\n\\ub2e8\\uc704\\uc0ac\\uc5c5 \\ub2e8\\uc704\\uc0ac\\uc5c5  \\n\\uc131\\uacfc\\uc9c0\\ud45c \\uc131\\uacfc\\uc9c0\\ud45c  \\n-----  \\n**FIS** **ISSUE & FOCUS**  \\n-  \\uc0ac\\uc5c5\\uc744 \\uc784\\ubb34\\uc640 \\uc804\\ub7b5 \\uccb4\\uacc4\\uc5d0 \\ub530\\ub77c \\uad6c\\uc870\\ud654\\ud558\\uace0, \\ud504\\ub85c\\uadf8\\ub7a8, \\ub2e8\\uc704\\uc0ac\\uc5c5\\ubcc4 \\uc131\\uacfc\\uc9c0\\ud45c\\ub97c \\uad6c\\ube44\\ud558\\uc5ec \\uc7ac\\uc815 \\ud22c\\uc785 \\uc131\\uacfc\\ub97c  \\n\\uc9c1\\uad00\\uc801\\uc73c\\ub85c \\uc54c\\uae30 \\uc27d\\ub3c4\\ub85d \\uccb4\\uacc4\\ud654  \\n-  \\ub530\\ub77c\\uc11c \\uc7ac\\uc815\\uc131\\uacfc\\uad00\\ub9ac \\uccb4\\uacc4\\ub294 \\uc0ac\\uc804 \\ubaa9\\ud45c\\uc5d0 \\ub300\\ud55c \\uc0ac\\ud6c4 \\uce21\\uc815 \\ubc0f \\ud3c9\\uac00, \\uc720\\uc0ac\\ud55c \\uc0ac\\uc5c5 \\ubb36\\uc74c \\uac04\\uc758 \\ud45c\\uc900\\ud654\\ub41c \\ube44\\uad50\\ub97c  \\n\\uc704\\ud55c \\uc7ac\\uc815\\uc0ac\\uc5c5 \\ud3c9\\uac00\\uc81c\\ub3c4\\uc758 \\ubc1c\\uc804\\uc744 \\ud568\\uaed8 \\uc218\\ubc18  \\n\\u2023 \\uc7ac\\uc815\\uc131\\uacfc\\uad00\\ub9ac\\ub294 \\uc608\\uc0b0\\uc758 \\ud3b8\\uc131\\uc5d0\\uc11c \\uc9d1\\ud589, \\uacb0\\uc0b0\\uc5d0 \\uc774\\ub974\\ub294 \\uc804 \\uacfc\\uc815\\uc5d0\\uc11c \\uc218\\ud589  \\n-  \\uc7ac\\uc815\\uc131\\uacfc\\uad00\\ub9ac\\ub294 \\uc608\\uc0b0 \\ud3b8\\uc131 \\uacfc\\uc815\\uc5d0\\uc11c \\uc131\\uacfc\\uacc4\\ud68d\\uc11c\\ub97c \\uc791\\uc131\\ud558\\uba74\\uc11c \\uc2dc\\uc791\\ud558\\uba70, \\uc774\\ub97c \\ubc14\\ud0d5\\uc73c\\ub85c \\uc5f0\\uac04 \\uc131\\uacfc\\uc9c0\\ud45c\\uc640\\n\",\n          \"-  \\uac74\\uc124\\uaddc\\ubaa8 : \\u201824\\ub144 2.2\\ub9cc\\ud638 \\uc900\\uacf5 \\ub4f1 \\uacc4\\uc18d\\uc0ac\\uc5c5 \\ucd94\\uc9c4  \\n\\u2461 \\uc0ac\\uc5c5\\ucd94\\uc9c4\\uccb4\\uacc4  \\n-  \\uc0ac\\uc5c5\\uc2dc\\ud589\\ubc29\\ubc95 : \\ucd9c\\uc790, \\ubcf4\\uace0  \\n-  \\uc0ac\\uc5c5\\uc2dc\\ud589\\uc8fc\\uccb4 : \\ud55c\\uad6d\\ud1a0\\uc9c0\\uc8fc\\ud0dd\\uacf5\\uc0ac(LH), \\uc9c0\\uc790\\uccb4(\\uc9c0\\ubc29\\uacf5\\uc0ac)  \\n-  \\uc0ac\\uc5c5 \\uc218\\ud61c\\uc790 : \\ub300\\ud559\\uc0dd\\u30fb\\uc0ac\\ud68c\\ucd08\\ub144\\uc0dd\\u30fb\\uc2e0\\ud63c\\ubd80\\ubd80 \\ub4f1 \\uc80a\\uc740\\uce35(80%), \\uace0\\ub839\\uc790 \\ubc0f \\uc8fc\\uac70\\ucde8\\uc57d\\uacc4\\uce35(20%)  \\n-  \\ubcf4\\uc870, \\uc735\\uc790, \\ucd9c\\uc5f0, \\ucd9c\\uc790 \\ub4f1\\uc758 \\uacbd\\uc6b0 \\ubcf4\\uc870\\u318d\\uc735\\uc790 \\ub4f1 \\uc9c0\\uc6d0 \\ube44\\uc728 \\ubc0f \\ubc95\\uc801\\uadfc\\uac70  \\n|(nan, '\\ub0b4\\uc5ed \\uc0ac\\uc5c5\\uba85') 0|(nan, '\\uad6c\\ubd84') \\ucd9c\\uc790|(nan, '\\ud53c \\ud53c\\ucd9c\\uc5f0 \\ub4f1 LH|\\ubcf4\\uc870\\u318d \\\\n (n \\uae30\\uad00\\uba85') (2 37|an, '\\uc9c0\\uc6d0 \\uae08 024\\uacc4\\ud68d)') 3,886|\\uc561 (nan, '\\uc9c0\\uc6d0 (nan, '\\ubcf4\\uc870\\uc728 \\ubc95\\uc801\\uadfc\\uac70 \\ube44\\uc728(%)') (\\ud574\\ub2f9 \\uc870\\ud56d)')|\\n|---|---|---|---|---|---|\\n|1 \\ud589\\ubcf5\\uc8fc\\ud0dd 2 \\ucd9c\\uc790|\\ubcf4\\uc790 \\uc9c0\\uc790\\uccb4 \\ud569\\uacc4||15 52|4,897 8,783|30 \\uacf5\\uacf5\\uc8fc\\ud0dd \\ud2b9\\ubcc4\\ubc95 \\uc81c3\\uc870\\uc758 2(\\uacf5\\uacf5\\uc8fc\\ud0dd\\uc758 \\uc7ac\\uc6d0\\u318d\\uc138 \\ub4f1) \\uc7ac\\uc9c0\\uc6d0|\\n- 112,262 122,643 (140,883) 148 423,459 - 98,689 561,964 (423,459)|Col3|Col4|('2023', ('2023', ('2023', ('2023', ('2023', ('2023', (nan, '\\uacc4\\ud68d\\uc561', '\\uacc4\\ud68d\\uc561', nan, '\\uc9d1\\ud589nan, '\\uc804 '\\uc804\\ub144\\ub3c4 \\uc774 nan, '\\uc804nan, '\\uc218\\uc815') '\\uacc4\\ud68d \\ud604 \\uc561 [\\uc2e4\\uc9d1 \\ub144\\ub3c4 \\uc774 \\uc6d4\\uc561 \\uc81c \\ub144\\ub3c4 \\uc774 '\\ubd88\\uc6a9 \\uc561') \\ud589\\uc561]') \\uc6d4\\uc561 \\uc81c \\uc678', '\\uc9d1\\ud589 \\uc6d4\\uc561 \\uc81c \\uc608\\uc0c1 \\uc678 \\\\n\\uacc4 \\uc561 [\\uc2e4\\uc9d1 \\uc678 \\\\n\\uc774 \\uc561') \\ud68d \\ud604\\uc561')\\ud589\\uc561]') \\uc6d4 \\uc608\\uc0c1 \\uc561') 461,607 461,607 421,615 461,607 421,615 -|Col6|Col7|Col8|Col9|Col10|Col11|Col12|(nan, nan, '2024 \\\\n\\uacc4\\ud68d') 528,783|\\n## \\uc0ac  \\uc5c5  \\uba85  \\n(26) \\ud589\\ubcf5\\uc8fc\\ud0dd\\ucd9c\\uc790 (1440-408)\\n|0 \\uc9c1\\uc811 \\ucd9c\\uc790 \\ucd9c|\\uc5f0 \\ubcf4\\uc870 \\uc735\\uc790 \\uad6d|\\uace0\\ubcf4\\uc870\\uc728(%) \\uc735|\\uc790\\uc728 (%)|Col5|Col6|Col7|\\n|---|---|---|---|---|---|---|\\n|1 O|O 3|0|||||  \\n\\u25a1 \\uc0ac\\uc5c5 \\ub2f4\\ub2f9\\uc790  \\n|('\\uc0ac\\uc5c5\\uba85',|('\\uad6c\\ubd84', ('\\uad6c\\ubd84', '\\uc2e4\\u00b7\\uad6d\\u00b7\\uacfc(\\ud300)') ('\\uad6c\\ubd84', '\\uacfc ('\\uad6c\\ubd84', '\\uc0ac\\ubb34 ('\\uad6c\\ubd84', '\\uc8fc\\ubb34|Col3|Col4|Col5|Col6|\\n|---|---|---|---|---|---|\\n|nan) 0 \\ud589\\ubcf5\\uc8fc\\ud0dd \\ucd9c \\uc790 1|nan) \\uad6d\\ud1a0\\uad50\\ud1b5\\ubd80 \\uc8fc\\ud0dd \\ucc45\\uad00 \\uacf5\\uacf5|\\ud1a0\\uc9c0\\uc2e4 \\uc8fc\\uac70\\ubcf5\\uc9c0 \\uc8fc\\ud0dd\\uc815\\ucc45\\uacfc|\\uc7a5') \\uc815 \\uae40\\uad11\\ub9bc 044-201-4539|\\uad00') \\uacfd\\uc0c1\\ud6c8 044-201-4519|\\uad00') \\uc784\\uac74\\ud601 044-201-3362|\\n-  '17\\ub144\\ud589\\ubcf5\\uc8fc\\ud0dd\\uacf5\\uae09\\ubb3c\\ub7c9\\uc7441\\ub9cc\\ud638\\ud655\\ub300\\ud558\\uc5ec\\uc804\\uccb4\\uacf5\\uae09\\ubb3c\\ub7c9\\uc74414\\ub9cc\\ud638 \\u2192 15\\ub9cc\\ud638\\ub85c\\ud655\\ub300  \\n-  \\u201917.11 \\uc0ac\\ud68c\\ud1b5\\ud569\\ud615 \\uc8fc\\uac70\\uc0ac\\ub2e4\\ub9ac \\uad6c\\ucd95\\uc744 \\uc704\\ud55c \\uc8fc\\uac70\\ubcf5\\uc9c0\\ub85c\\ub4dc\\ub9f5 \\ubc1c\\ud45c  \\n(\\uacf5\\uacf5\\uac74\\uc124\\uc784\\ub300\\uc8fc\\ud0dd \\uc5f0\\ud3c9\\uade0 7.0\\ub9cc\\ud638 \\uacf5\\uae09)  \\n-  \\u201920.03 \\uc8fc\\uac70\\ubcf5\\uc9c0\\ub85c\\ub4dc\\ub9f5 2.0 \\ubc1c\\ud45c  \\n(\\uacf5\\uacf5\\uc784\\ub300\\uc8fc\\ud0dd \\uc5f0\\ud3c9\\uade0 14.0\\ub9cc\\ud638 \\uacf5\\uae09)  \\n-  \\u201921.02 \\uff62\\uacf5\\uacf5\\uc8fc\\ub3c4 3080+\\uff63\\ub300\\ub3c4\\uc2dc\\uad8c \\uc8fc\\ud0dd\\uacf5\\uae09 \\ud655\\ub300\\ubc29\\uc548 \\ubc1c\\ud45c(\\uacf5\\uacf5\\uc784\\ub300\\uc8fc\\ud0dd \\ud655\\ub300 \\uacf5\\uae09)  \\n\\uff63  \\n-  \\u201923.01 \\uff62\\uc11c\\ubbfc\\u2027\\ucde8\\uc57d\\uacc4\\uce35 \\uc8fc\\uac70\\ubcf5\\uc9c0 \\uac15\\ud654 \\ubc29\\uc548\\uff63 \\ubc1c\\ud45c(\\uacf5\\uacf5\\uc784\\ub300\\uc8fc\\ud0dd \\uc5f0\\ud3c9\\uade0 10\\ub9cc\\ud638)  \\n\\u2027  \\n\\uff63  \\n\\u25a1 \\uc8fc\\uc694\\ub0b4\\uc6a9  \\n\\u2460 \\uc0ac\\uc5c5\\uaddc\\ubaa8  \\n-  \\uc0ac\\uc5c5\\uae30\\uac04 : \\u201913~\\uacc4\\uc18d  \\n-  \\ucd5c\\uadfc 5\\ub144 \\uac04 \\ud22c\\uc785\\ub41c \\uc0ac\\uc5c5\\ube44(\\uc608\\uc0b0\\uc561\\uae30\\uc900, \\ucd94\\uacbd\\ud3b8\\uc131\\ud55c \\uc5f0\\ub3c4\\uc5d0\\ub294 \\ucd94\\uacbd\\ud3ec\\ud568)  \\n|\\uc5f0\\ub3c4 202|0 2021|2022 20|23 2024|Col5|Col6|\\n|---|---|---|---|---|---|\\n|0 \\uc0ac\\uc5c5\\ube44 1,26|7,123 1,105,2|91 775,293 68|4,607 528,783|||\\n## \\u25a1 \\uc0ac\\uc5c5 \\ucf54\\ub4dc \\uc815\\ubcf4  \\n|\\uad6c\\ubd84|\\uae30\\uae08|\\uc18c\\uad00 \\uc2e4|\\uad6d(\\uae30\\uad00) \\uacc4\\uc815|\\ubd84\\uc57c|\\ubd80\\ubb38|Col7|\\n|---|---|---|---|---|---|---|\\n|0 \\ucf54\\ub4dc|\\uc8fc\\ud0dd\\ub3c4\\uc2dc\\uae30\\uae08|\\uad6d\\ud1a0\\uad50\\ud1b5\\ubd80 \\uc8fc|\\ud0dd\\ud1a0\\uc9c0\\uc2e4 \\uc8fc\\ud0dd|080 \\uacc4\\uc815 \\uc0ac\\ud68c|088||\\n|1 \\uba85\\uce6d|||||\\ubcf5\\uc9c0 \\uc8fc\\ud0dd||  \\n|\\uad6c\\ubd84|\\ud504\\ub85c\\uadf8\\ub7a8 \\ub2e8\\uc704\\uc0ac|\\uc5c5 \\uc138\\ubd80\\uc0ac\\uc5c5|Col4|\\n|---|---|---|---|\\n|0 \\ucf54\\ub4dc|1400 1440|408||\\n|1 \\uba85\\uce6d|\\uc784\\ub300\\uc8fc\\ud0dd\\uc9c0\\uc6d0(\\ucd9c\\uc790) \\uc784\\ub300\\uc8fc|\\ud0dd\\uc9c0\\uc6d0 \\ud589\\ubcf5\\uc8fc\\ud0dd\\ucd9c\\uc790||  \\n|\\u25a1|\\uc0ac\\uc5c5\\uc131|\\uc131\\uaca9(\\uacf5|\\uacf5\\ud1b5\\uc694\\uad6c\\uc790\\ub8cc|\\ub8cc\\u2161-1 \\uc791\\uc131\\uc720\\uc758|\\uc758\\uc0ac\\ud56d4.|\\ucc38\\uc870, \\ud574\\ub2f9\\ud558\\ub294\\uc0ac\\ud56d\\uc5d0 \\u201c\\u25cb\\u201d \\ud45c\\uc2dc)|\\n|---|---|---|---|---|---|---|\\n|0 1 \\uc2e0\\uaddc 2|\\uacc4\\uc18d O|\\uc608 \\uc644\\ub8cc \\uc2e4|\\ube44\\ud0c0\\ub2f9\\uc131 \\uc2dc\\uc5ec\\ubd80|\\ucd1d\\uc0ac\\uc5c5 \\uad00\\ub9ac\\ub300|\\ube44 \\ucd1d\\uc561\\uacc4 \\uc0c1 \\uc608\\uc0b0\\uc0ac|\\uc0c1 \\uc0ac\\uc5c5\\uc18c\\uad00 \\ubcc0\\uacbd\\uc815\\ubcf4|\\n|||||||\\uc5c5 2023\\uc608\\uc0b0 \\uc2dc \\uc18c\\uad00 \\uad6d\\ud1a0\\uad50\\ud1b5\\ubd80|\\n||||||||  \\n\\u25a1 \\uc0ac\\uc5c5 \\uc9c0\\uc6d0 \\ud615\\ud0dc \\ubc0f \\uc9c0\\uc6d0\\uc728 (\\ucd5c\\uc18c\\ud55c \\ud55c \\uac1c\\ub294 \\ubc18\\ub4dc\\uc2dc \\uc120\\ud0dd\\ud558\\uc2dc\\uc624. \\ud574\\ub2f9\\uc0ac\\ud56d\\uc5d0 O \\ud45c\\uc2dc)\\n## 2) \\uc0ac\\uc5c5\\uac1c\\uc694  \\n\\u25a1 \\uc0ac\\uc5c5\\uadfc\\uac70 \\ubc0f \\ucd94\\uc9c4\\uacbd\\uc704  \\n\\u2460 \\ubc95\\ub839\\uc0c1 \\uadfc\\uac70  \\n-  \\uc8fc\\ud0dd\\ub3c4\\uc2dc\\uae30\\uae08\\ubc95 \\uc81c9\\uc870\\uc81c1\\ud56d\\uac00\\ubaa9 : \\uae30\\uae08\\uc758 \\uc8fc\\ud0dd\\uacc4\\uc815\\uc740 \\ub2e4\\uc74c \\uac01 \\ud638\\uc758 \\uc6a9\\ub3c4\\uc5d0 \\uc0ac\\uc6a9\\ud55c\\ub2e4.  \\n(\\uad6d\\ubbfc\\uc8fc\\ud0dd\\uc758 \\uac74\\uc124)  \\n-  \\uacf5\\uacf5\\uc8fc\\ud0dd\\ud2b9\\ubcc4\\ubc95 \\uc81c2\\uc8701\\ud638\\uac00\\ubaa9 : \\uc784\\ub300 \\ub610\\ub294 \\uc784\\ub300\\ud55c \\ud6c4 \\ubd84\\uc591\\uc804\\ud658\\uc744 \\ud560 \\ubaa9\\uc801\\uc73c\\ub85c \\uacf5\\uae09  \\n\\ud558\\ub294 \\u300c\\uc8fc\\ud0dd\\ubc95\\u300d\\uc81c2\\uc870\\uc81c1\\ud638\\uc5d0 \\ub530\\ub978 \\uc8fc\\ud0dd\\uc73c\\ub85c\\uc11c \\ub300\\ud1b5\\ub839\\ub839\\uc73c\\ub85c \\uc815\\ud558\\ub294 \\uc8fc\\ud0dd  \\n-----  \\n\\u2461 \\ucd94\\uc9c4\\uacbd\\uc704  \\n-  '13.04 \\uc11c\\ubbfc \\uc8fc\\uac70\\uc548\\uc815\\uc744 \\uc704\\ud55c \\uc8fc\\ud0dd\\uc2dc\\uc7a5 \\uc815\\uc0c1\\ud654 \\uc885\\ud569\\ub300\\ucc45 \\ubc1c\\ud45c  \\n(\\uacf5\\uacf5\\uc8fc\\ud0dd \\uc5f0 13\\ub9cc\\ud638(\\uad6d\\ubbfc\\uc784\\ub300 3.8\\ub9cc\\ud638 \\ub4f1 \\uc784\\ub30011\\ub9cc\\ud638, \\ubd84\\uc5912\\ub9cc\\ud638) \\uacf5\\uae09)  \\n-  \\ud589\\ubcf5\\uc8fc\\ud0dd\\uc740\\uc784\\ub300\\uc8fc\\ud0dd\\uacf5\\uae09\\uacc4\\ud68d\\uc5d0\\ud3ec\\ud568('13\\u223c'17\\ub144\\uae4c\\uc9c0\\uc2b9\\uc778\\uae30\\uc90020\\ub9cc\\ud638)  \\n-  '13.12 4.1, 8.28 \\ubd80\\ub3d9\\uc0b0\\ub300\\ucc45 \\ud6c4\\uc18d\\uc870\\uce58 \\ubc1c\\ud45c  \\n-  ('13\\u223c'17\\ub144\\uac04) \\ud589\\ubcf5\\uc8fc\\ud0dd20 \\u2192 14\\ub9cc\\ud638, \\uad6d\\ubbfc\\uc784\\ub300\\ub4f16 \\u2192 11\\ub9cc\\ud638, \\ubbfc\\uac04\\uc784\\ub3005\\u2192 6\\ub9cc\\ud638  \\n-  '16.04 4.28 \\ub9de\\ucda4\\ud615 \\uc8fc\\uac70\\uc9c0\\uc6d0\\uc744 \\ud1b5\\ud55c \\uc8fc\\uac70\\ube44 \\uacbd\\uac10\\ubc29\\uc548 \\ubc1c\\ud45c\\n\",\n          \"\\ub2e4\\uace0 \\uc5ec\\uaca8 \\uc815\\ubd80\\uc758 \\uacc4\\uc57d\\uc0c1 \\ubd80\\ucc44\\ub97c \\ucd08\\ub798\\ud558\\uc9c0 \\uc54a\\ub294 \\uac83\\uc73c\\ub85c \\uac04\\uc8fc\\ud558\\uba70, \\uc6b0\\ubc1c\\ubd80\\ucc44\\ub85c \\uc778\\uc2dd  \\n\\u2023 \\ubbf8\\ub798\\uc0ac\\ud68c\\ubcf4\\uc7a5\\uae09\\uc5ec\\uc5d0 \\ub300\\ud55c \\uc21c\\uc758\\ubb34\\ub294 \\uacc4\\uc57d\\uc0c1\\uc758 \\ubd80\\ucc44\\ub294 \\uc544\\ub2c8\\ub098 \\ubbf8\\ub798 \\ubc1c\\uc0dd \\ube44\\uc6a9\\uc73c\\ub85c \\uc5ec\\uaca8\\uc9c0\\ub294 \\uc0ac\\ud68c\\ubcf4\\uc7a5\\uae09\\uc5ec\\ub97c  \\n\\uc758\\ubbf8  \\n-  \\ubbf8\\ub798\\uc0ac\\ud68c\\ubcf4\\uc7a5\\uae09\\uc5ec\\uc5d0 \\ub300\\ud55c \\uc21c\\uc758\\ubb34\\ub294 \\ud604\\ud589\\ubc95\\uacfc \\uaddc\\uc815\\uc5d0 \\ub530\\ub77c \\uc774\\ubbf8 \\uac00\\uc785\\uc790\\uac00 \\ud68d\\ub4dd\\ud55c \\ubbf8\\ub798 \\uae09\\uc5ec\\uc758 \\ud604\\uc7ac\\uac00\\uce58\\uc5d0\\uc11c  \\n\\ud604\\ud589\\ubc95\\uacfc \\uaddc\\uc815\\uc5d0 \\ub530\\ub978 \\uc0ac\\ud68c\\ubcf4\\uc7a5\\uc81c\\ub3c4\\uc758 \\ubbf8\\ub798\\ubcf4\\ud5d8\\ub8cc\\uc758 \\uc21c\\ud604\\uc7ac\\uac00\\uce58\\ub97c \\ucc28\\uac10\\ud55c \\uac83\\uc744 \\uc778\\uc2dd  \\n\\u2023 \\uae30\\ud0c0 \\uc554\\ubb35\\uc801 \\uc6b0\\ubc1c\\ubd80\\ucc44\\ub294 \\uc554\\ubb35\\uc801 \\uc6b0\\ubc1c\\ubd80\\ucc44 \\uc911 \\ubbf8\\ub798\\uc0ac\\ud68c\\ubcf4\\uc7a5\\uae09\\uc5ec\\uc5d0 \\ub300\\ud55c \\uc21c\\uc758\\ubb34\\ub97c \\ucc28\\uac10\\ud558\\uc5ec \\uc778\\uc2dd  \\n-  \\uae30\\ud0c0 \\uc554\\ubb35\\uc801 \\uc6b0\\ubc1c\\ubd80\\ucc44\\ub85c\\ub294 \\ucc44\\ubb34\\ubd88\\uc774\\ud589 \\uc2dc \\uc740\\ud589\\ubd80\\ubb38\\uc758 \\uc0c1\\ud658 \\ub610\\ub294 \\uc8fc \\ubc0f \\uc9c0\\ubc29\\uc815\\ubd80\\ub098 \\uc911\\uc559\\uc740\\ud589\\uc758 \\uc758\\ubb34\\ubcf4\\uc7a5,  \\n\\ud658\\uacbd\\ubd80\\ucc44(environmental liabilities), \\uacf5\\uacf5\\ubd80\\ubb38\\uc758 \\ubb34\\ubcf4\\uc99d\\ucc44\\ubb34, \\uae30\\ud0c0 \\uacf5\\uacf5\\ubd80\\ubb38\\uc758 \\ubcf4\\uc99d\\uc81c\\uacf5 \\uc2e4\\ud328\\uc2dc \\ubcf4\\uc99d\\uc758  \\n\\ubb34, \\uc790\\uc5f0\\uc7ac\\ud574 \\uad6c\\ud638\\ube44\\uc6a9 \\ub4f1\\uc774 \\uc788\\uc74c\\n\\uc73c\\ub85c\\uc11c, \\u2018(\\uc77c\\ud68c\\uc131) \\ubcf4\\uc99d\\u2019[18)]\\uacfc \\uadf8 \\uc678\\uc5d0 \\u2018\\uae30\\ud0c0 \\uba85\\uc2dc\\uc801 \\uc6b0\\ubc1c\\ubd80\\ucc44\\u2019\\ub85c \\uad6c\\ubd84  \\n-  \\uba85\\uc2dc\\uc801 \\uc6b0\\ubc1c\\ubd80\\ucc44\\uc758 \\ubcf4\\ud3b8\\uc801\\uc778 \\ud615\\ud0dc\\ub294 \\u2018\\ubcf4\\uc99d\\u2019\\uc774\\uc9c0\\ub9cc \\ubaa8\\ub4e0 \\ubcf4\\uc99d\\uc774 \\uc6b0\\ubc1c\\ubd80\\ucc44\\ub85c \\ubd84\\ub958\\ub418\\ub294 \\uac83\\uc740 \\uc544\\ub2cc\\ub370, \\uc608\\ucee8\\ub300 \\ud30c  \\n\\uc0dd\\uae08\\uc735\\uc0c1\\ud488 \\ud615\\ud0dc\\uc758 \\ubcf4\\uc99d[19)]\\uacfc \\ud45c\\uc900\\ud654 \\ubcf4\\uc99d **[20)]\\uc740 \\u2018\\ubd80\\ucc44\\u2019\\ub85c \\uc778\\uc2dd**  \\n-  \\uc77c\\ud68c\\uc131 \\ubcf4\\uc99d(one-off guarantees)\\uc740 \\ud45c\\uc900\\ud654 \\ubcf4\\uc99d\\uacfc\\ub294 \\ub2ec\\ub9ac \\uac1c\\ubcc4\\uc801\\uc774\\uace0 \\ubcf4\\uc99d\\uc778\\uc774 \\ubcf4\\uc804\\uc694\\uad6c\\uc758 \\uc704\\ud5d8\\uc131\\uc5d0 \\ub300\\ud574  \\n\\uc2e0\\ub8b0\\uc131 \\uc788\\ub294 \\ucd94\\uc815\\uc744 \\ud560 \\uc218 \\uc5c6\\uc73c\\uba70, \\ub530\\ub77c\\uc11c \\ub300\\ubd80\\ubd84 \\uc77c\\ud68c\\uc131 \\ubcf4\\uc99d\\uc740 \\ubcf4\\uc99d\\uc778\\uc758 \\uc6b0\\ubc1c\\ubd80\\ucc44\\ub85c \\uac04\\uc8fc  \\n-  \\uae30\\ud0c0 \\uba85\\uc2dc\\uc801 \\uc6b0\\ubc1c\\ubd80\\ucc44\\ub85c\\ub294 \\uc7a0\\uc7ac\\uc801\\uc778 \\ubc95\\uc801 \\uccad\\uad6c\\uad8c, \\ubc30\\uc0c1\\uae08, \\ubbf8\\ubd88\\uc785 \\uc8fc\\uc2dd\\uc790\\ubcf8 \\ub4f1 \\uc788\\uc74c **[21)]**  \\n\\u2023 \\u2018\\uc554\\ubb35\\uc801 \\uc6b0\\ubc1c\\ubd80\\ucc44\\u2019\\ub294 \\ubc95\\uc801 \\ub610\\ub294 \\uacc4\\uc57d\\uc5d0 \\uc758\\ud574 \\ubc1c\\uc0dd\\ud558\\ub294 \\uac83\\uc774 \\uc544\\ub2c8\\ub77c \\ud2b9\\uc815 \\uc870\\uac74\\uc774\\ub098 \\uc0ac\\uac74\\uc758 \\uc2e4\\ud604\\uc73c\\ub85c \\uc778\\uc2dd\\ub418  \\n\\uba70, \\u2018\\ubbf8\\ub798\\uc0ac\\ud68c\\ubcf4\\uc7a5\\uae09\\uc5ec\\uc5d0 \\ub300\\ud55c \\uc21c\\uc758\\ubb34\\u2019, \\u2018\\uae30\\ud0c0 \\uc554\\ubb35\\uc801 \\uc6b0\\ubc1c\\ubd80\\ucc44\\u2019\\ub85c \\uad6c\\ubd84  \\n-  \\ubbf8\\ub798\\uc0ac\\ud68c\\ubcf4\\uc7a5\\uae09\\uc5ec\\uc5d0 \\ub300\\ud55c \\uc21c\\uc758\\ubb34\\ub294 \\uacc4\\uc57d\\uc0c1\\uc758 \\ubd80\\ucc44\\ub294 \\uc544\\ub2c8\\uba70 \\ubbf8\\ub798 \\ubc1c\\uc0dd \\ube44\\uc6a9\\uc73c\\ub85c \\uc5ec\\uaca8\\uc9c0\\ub294 \\uc0ac\\ud68c\\ubcf4\\uc7a5\\uae09\\uc5ec\\ub85c\\n\\ucc44  \\n9 \\uc554\\ubb35\\uc801 \\uc6b0\\ubc1c\\ubd80 \\ubbf8\\ub798\\uc0ac\\ud68c\\ubcf4\\uc7a5 \\ub300\\ud55c \\uc21c\\uc758\\ubb34 \\uc0ac\\ud68c\\ubcf4\\ud5d8\\uc0ac\\uc5c5 \\uc8fc\\uc11d 8-\\u2464\\ubc88\\uc0ac\\ud68c\\ubcf4\\uc7a5\\n\\ucc44 \\uae09\\uc5ec\\uc5d0 \\ub4f1 \\uae30\\ud0c0 (\\ube44\\uc6a9)  \\n10 \\uc554\\ubb35\\uc801 \\uc6b0\\ubc1c\\ubd80 \\ubbf8\\ub798\\uc0ac\\ud68c\\ubcf4\\uc7a5 \\ud30c\\uc0dd\\uae08\\uc735\\uc0c1\\ud488 \\ud30c\\uc0dd\\uc0c1\\ud488\\ub0b4\\uc5ed \\uc8fc\\uc11d 5-\\u2462\\ubc88\\ud30c\\uc0dd\\uc0c1\\ud488\\n\\ucc44 \\uae09\\uc5ec\\uc5d0 \\ud615\\ud0dc\\uc758 \\ubcf4\\uc99d (\\ubd80\\ucc44) \\uacc4\\uc57d  \\n11 \\ubd80\\ucc44 \\ubcf4\\uc99d \\ud45c\\uc900\\ud654\\ub41c \\ubcf4\\n\\uc99d \\uc81c\\ub3c4\\ud558\\uc5d0\\n\\uc11c  \\n|12 \\ubd80\\ucc44|Col2|\\ubcf4\\uc99d \\uc124\\uc815 \\ub2f9\\ubd80|\\ud558\\ub294 \\ucda9 \\ubcf4\\uc99d\\ucda9\\ub2f9\\ubd80 \\ucc44|\\ucc44 \\uc8fc\\uc11d 3-\\u2463|\\ubc88 \\ubcf4\\uc99d\\uacc4\\uc57d|\\n|---|---|---|---|---|---|  \\n**\\uc8fc:** \\ucd5c\\uc18c\\uc6b4\\uc601\\uc218\\uc785\\ubcf4\\uc7a5 \\ubc0f \\uc911\\uc694\\ud55c \\uacc4\\uc57d\\uc0ac\\ud56d \\uaddc\\ubaa8\\ub294 \\uad6d\\uac00\\uacb0\\uc0b0\\ubcf4\\uace0\\uc11c\\uc5d0 \\uba85\\uc2dc\\ub41c \\uac83\\ub9cc \\uc0b0\\uc815.\\n**\\uc790\\ub8cc: \\ub300\\ud55c\\ubbfc\\uad6d\\uc815\\ubd80, \\u300c2020\\ud68c\\uacc4\\uc5f0\\ub3c4 \\uad6d\\uac00\\uacb0\\uc0b0\\ubcf4\\uace0\\uc11c\\u300d\\ub97c \\ucc38\\uace0\\ud558\\uc5ec \\uc7ac\\uc791\\uc131.**  \\n\\ubcf4\\ud5d8\\ucda9\\ub2f9\\ubd80\\ucc44 \\uc8fc\\uc11d 3-\\u2462\\ubc88\\ubcf4\\ud5d8\\uacc4\\uc57d  \\n-----  \\n\\u2023 \\uc8fc\\uc11d5\\uc758 \\u2462\\ud30c\\uc0dd \\uc0c1\\ud488\\ub0b4\\uc5ed\\uacfc \\uc8fc\\uc11d3\\uc758 \\u2462\\ubcf4\\ud5d8\\ucda9\\ub2f9\\ubd80\\ucc44 \\ubc0f \\u2463\\ubcf4\\uc99d\\ucda9\\ub2f9\\ubd80\\ucc44\\ub294 \\u2018\\ubd80\\ucc44\\u2019\\ub85c \\uc778\\uc2dd  \\n-  \\ud604\\uc7ac \\u2462\\ud30c\\uc0dd\\uc0c1\\ud488 \\ub0b4\\uc5ed\\uc740 \\uc21c\\uc790\\uc0b0\\ubcc0\\ub3d9\\ud45c \\uc870\\uc815\\ud56d\\ubaa9\\uc5d0 \\ud30c\\uc0dd\\uc0c1\\ud488\\ud3c9\\uac00\\uc190\\uc775\\uc73c\\ub85c \\ucc98\\ub9ac\\ud558\\ub294 \\ub3d9\\uc2dc\\uc5d0 \\uc6b0\\ubc1c\\ubd80\\ucc44\\ub85c\\ub3c4 \\uc778\\n\\u2023 \\uae30\\ud0c0 \\uc77c\\ud68c\\uc131 \\ubcf4\\uc99d\\uc5d0\\ub294 \\uc2e0\\uc6a9\\ubcf4\\uc99d, \\uc870\\uac74\\ubd80 \\u2018\\uc2e0\\uc6a9 \\uac00\\uc6a9\\uc131\\u2019 \\ubcf4\\uc99d, \\uc870\\uac74\\ubd80 \\uc2e0\\uc6a9\\uc9c0\\uc6d0 \\ub4f1\\uc774 \\uc788\\uc74c  \\n-  \\uc2e0\\uc6a9\\ubcf4\\uc99d(\\uc735\\uc790\\ud55c\\ub3c4\\uc640 \\ucc28\\uc785\\uc57d\\uc815)\\uc740 \\uc778\\ucd9c\\ud558\\uc9c0 \\uc54a\\uc740 \\uc790\\uae08\\uc744 \\ubbf8\\ub798\\uc5d0 \\uc0ac\\uc6a9\\ud560 \\uc218 \\uc788\\ub3c4\\ub85d \\ud574\\uc8fc\\ub294 \\ubcf4\\uc99d\\uc73c\\ub85c \\uc790\\uae08\\uc774  \\n\\uc2e4\\uc81c\\ub85c \\uc81c\\uacf5\\ub418\\uae30 \\uc804\\uae4c\\uc9c0\\ub294 \\uae08\\uc735\\ubd80\\ucc44\\uac00 \\uc874\\uc7ac\\ud558\\uc9c0 \\uc54a\\uc73c\\ubbc0\\ub85c \\ubbf8\\uc778\\ucd9c \\uc2e0\\uc6a9\\ud55c\\ub3c4\\ub098 \\ubbf8\\uc81c\\uacf5\\ub41c \\ucc28\\uc785\\uc57d\\uc815\\uc740 \\uc740\\ud589(\\ubc1c  \\n\\ud589\\uae30\\uad00)\\uc758 \\uc6b0\\ubc1c\\ubd80\\ucc44\\ub85c \\uc778\\uc2dd  \\n-  \\uc778\\uc218\\ub41c \\uc99d\\uad8c\\ubc1c\\ud589\\ubcf4\\uc99d(NIFs)\\uc740 \\uc778\\uc218\\uae30\\uad00\\uc774 \\uc790\\uae08\\uc744 \\uc120\\uc9c0\\uae09\\ud55c \\uacbd\\uc6b0\\uc5d0\\ub9cc \\uc790\\uc0b0/\\ubd80\\ucc44\\ub85c \\ubd84\\ub958\\ud558\\uace0 \\uc0ac\\uc6a9\\ud558\\uc9c0 \\uc54a\\uc740  \\n\\ubd80\\ubd84\\uc740 \\uc6b0\\ubc1c\\ubd80\\ucc44\\ub85c \\uac04\\uc8fc **[22)]**  \\n**\\uc554\\ubb35\\uc801 \\uc6b0\\ubc1c\\ubd80\\ucc44\\ub294 \\u2018\\ubbf8\\ub798\\uc0ac\\ud68c\\ubcf4\\uc7a5\\uae09\\uc5ec\\uc5d0 \\ub300\\ud55c \\uc21c\\uc758\\ubb34\\u2019\\uc640 \\u2018\\uae30\\ud0c0 \\uc554\\ubb35\\uc801 \\uc6b0\\ubc1c\\ubd80\\ucc44\\u2019\\ub85c \\uad6c\\ubd84**  \\n\\u2023 \\uc554\\ubb35\\uc801 \\uc6b0\\ubc1c\\ubd80\\ucc44\\ub294 \\ubc95\\uc801 \\ub610\\ub294 \\uacc4\\uc57d \\uc0c1 \\uc6d0\\ucc9c\\uc774 \\uc544\\ub2cc \\ud2b9\\uc815 \\uc870\\uac74 \\ud639\\uc740 \\uc0ac\\uac74\\uc774 \\uc2e4\\ud604\\ub420 \\uc2dc \\uc778\\uc2dd  \\n-  \\uc554\\ubb35\\uc801 \\uc6b0\\ubc1c\\ubd80\\ucc44\\ub294 \\uace0\\uc6a9\\uad00\\ub828 \\uc5f0\\uae08\\uc81c\\ub3c4\\uc640 \\uad00\\ub828\\ub418\\ub294 \\ubd80\\ucc44\\ub294 \\uc81c\\uc678[23)]  \\n-  \\uace0\\uc6a9\\uad00\\ub828 \\uc5f0\\uae08\\uc81c\\ub3c4 \\uc774\\uc678\\uc758 \\uc0ac\\ud68c\\ubcf4\\uc7a5\\uc81c\\ub3c4\\ub294 \\ub0a9\\ubd80\\ud55c \\ubcf4\\ud5d8\\ub8cc\\uc640 \\uacb0\\uad6d \\uc9c0\\ubd88\\ud574\\uc57c \\ud560 \\uae09\\uc5ec \\uac04\\uc5d0 \\uc9c1\\uc811\\uc801\\uc778 \\uad00\\uacc4\\uac00 \\uc5c6\\ncontingent contingent lities 0 \\uba85\\uc2dc\\uc801 \\uc6b0\\ubc1c\\ubd80\\ucc44 \\uba85\\uc2dc\\uc801 0 \\uc554\\ubb35\\uc801 \\uc6b0\\ubc1c\\ubd80\\ucc44 \\uc554\\ubb35 1 Implicit liabilities 1 Explicit contingent li\\ubd80ab\\ucc44ilities contingent \\ubc1c\\ubd80 r \\uc21c\\uc758\\ubb34 \\ucc44 her explicit implicit Implicit contingent Guarante 0 \\ubbf8\\ub798\\uc0ac\\ud68c\\ubcf4\\uc7a5 liabilities 1 \\uae30\\ud0c0 \\uba85\\uc2dc\\uc801 \\uc6b0\\ubc1c\\ubd80\\ucc44 \\uae09\\uc5ec\\uc5d0 \\ub300\\ud55c \\uc21c\\uc758\\ubb34 Net Other explicit implicit obligations for contingent liabilities future social 2 security benefits \\uc77c\\ud68c\\uc131 \\ubcf4\\uc99d 0 \\uc77c\\ud68c\\uc131 \\ubcf4\\uc99d 1 One-off 2 guarantees \\uc735\\uc790 \\ubc0f \\uae30\\ud0c0 \\ucc44\\ubb34 \\uc0c1\\ud488\\ubcf4\\uc99d Loan (\\uacf5\\uc801\\ubcf4\\uc99d\\ucc44 \\uae30\\ud0c0 \\uc77c\\ud68c\\uc131 (publicly \\ubb34) and \\ubcf4\\uc99d Other other debt one-off instrument guarantees guarantees guaranteed debt)|\\n\"\n        ],\n        \"semantic_type\": \"\",\n        \"description\": \"\"\n      }\n    },\n    {\n      \"column\": \"Question\",\n      \"properties\": {\n        \"dtype\": \"string\",\n        \"num_unique_values\": 97,\n        \"samples\": [\n          \"\\uc7ac\\uc815\\uc131\\uacfc\\uad00\\ub9ac\\uc758 \\ubaa9\\uc801\\uc740 \\ubb34\\uc5c7\\uc778\\uac00?\",\n          \"\\ud589\\ubcf5\\uc8fc\\ud0dd\\ucd9c\\uc790 \\uc0ac\\uc5c5\\uc758 \\uc8fc\\uc694 \\uc218\\ud61c\\uc790\\ub294 \\ub204\\uad6c\\uc778\\uac00?\",\n          \"\\ubbf8\\ub798\\uc0ac\\ud68c\\ubcf4\\uc7a5\\uae09\\uc5ec\\uc5d0 \\ub300\\ud55c \\uc21c\\uc758\\ubb34\\ub780 \\ubb34\\uc5c7\\uc744 \\uc758\\ubbf8\\ud558\\ub294\\uac00?\"\n        ],\n        \"semantic_type\": \"\",\n        \"description\": \"\"\n      }\n    },\n    {\n      \"column\": \"Answer\",\n      \"properties\": {\n        \"dtype\": \"string\",\n        \"num_unique_values\": 97,\n        \"samples\": [\n          \"\\uc815\\ubd80 \\uc7ac\\uc815\\uc758 \\ud22c\\uba85\\uc131\\u00b7\\ucc45\\uc784\\uc131, \\ud6a8\\uc728\\uc131\\u00b7\\ud6a8\\uacfc\\uc131, \\uc608\\uc0b0\\uc7ac\\ubd84\\ubc30 \\ub4f1\\uc744 \\ubaa9\\uc801\\uc73c\\ub85c \\ud55c\\ub2e4.\",\n          \"\\ud589\\ubcf5\\uc8fc\\ud0dd\\ucd9c\\uc790 \\uc0ac\\uc5c5\\uc758 \\uc8fc\\uc694 \\uc218\\ud61c\\uc790\\ub294 \\ub300\\ud559\\uc0dd, \\uc0ac\\ud68c\\ucd08\\ub144\\uc0dd, \\uc2e0\\ud63c\\ubd80\\ubd80 \\ub4f1 \\uc80a\\uc740\\uce35(80%), \\uace0\\ub839\\uc790 \\ubc0f \\uc8fc\\uac70\\ucde8\\uc57d\\uacc4\\uce35(20%)\\uc774\\ub2e4.\",\n          \"\\ubbf8\\ub798\\uc0ac\\ud68c\\ubcf4\\uc7a5\\uae09\\uc5ec\\uc5d0 \\ub300\\ud55c \\uc21c\\uc758\\ubb34\\ub294 \\ud604\\ud589\\ubc95\\uacfc \\uaddc\\uc815\\uc5d0 \\ub530\\ub77c \\uc774\\ubbf8 \\uac00\\uc785\\uc790\\uac00 \\ud68d\\ub4dd\\ud55c \\ubbf8\\ub798 \\uae09\\uc5ec\\uc758 \\ud604\\uc7ac\\uac00\\uce58\\uc5d0\\uc11c \\ud604\\ud589\\ubc95\\uacfc \\uaddc\\uc815\\uc5d0 \\ub530\\ub978 \\uc0ac\\ud68c\\ubcf4\\uc7a5\\uc81c\\ub3c4\\uc758 \\ubbf8\\ub798\\ubcf4\\ud5d8\\ub8cc\\uc758 \\uc21c\\ud604\\uc7ac\\uac00\\uce58\\ub97c \\ucc28\\uac10\\ud55c \\uac83\\uc744 \\uc778\\uc2dd\\ud55c\\ub2e4.\"\n        ],\n        \"semantic_type\": \"\",\n        \"description\": \"\"\n      }\n    },\n    {\n      \"column\": \"True_Answer\",\n      \"properties\": {\n        \"dtype\": \"object\",\n        \"num_unique_values\": 1,\n        \"samples\": [\n          \"\"\n        ],\n        \"semantic_type\": \"\",\n        \"description\": \"\"\n      }\n    },\n    {\n      \"column\": \"Answer_post\",\n      \"properties\": {\n        \"dtype\": \"string\",\n        \"num_unique_values\": 97,\n        \"samples\": [\n          \"\\uc815\\ubd80 \\uc7ac\\uc815\\uc758 \\ud22c\\uba85\\uc131\\u00b7\\ucc45\\uc784\\uc131, \\ud6a8\\uc728\\uc131\\u00b7\\ud6a8\\uacfc\\uc131, \\uc608\\uc0b0\\uc7ac\\ubd84\\ubc30 \\ub4f1\\uc744 \\ubaa9\\uc801\\uc73c\\ub85c \\ud55c\\ub2e4.\"\n        ],\n        \"semantic_type\": \"\",\n        \"description\": \"\"\n      }\n    }\n  ]\n}"
            }
          },
          "metadata": {},
          "execution_count": 32
        }
      ]
    },
    {
      "cell_type": "code",
      "source": [
        "np.sum(rslt_df['Answer'] != rslt_df['Answer_post'])"
      ],
      "metadata": {
        "colab": {
          "base_uri": "https://localhost:8080/"
        },
        "id": "7JneZnNsOC5D",
        "outputId": "c877370f-ec73-49a3-b919-c612a9ea5700"
      },
      "execution_count": 33,
      "outputs": [
        {
          "output_type": "execute_result",
          "data": {
            "text/plain": [
              "0"
            ]
          },
          "metadata": {},
          "execution_count": 33
        }
      ]
    },
    {
      "cell_type": "code",
      "source": [
        "if eval_mode == 'valid' :\n",
        "  display(\"결과 : \",rslt_df[\"F1_0\"].mean())\n",
        "  display(\"결과 : \",rslt_df[\"F1_1\"].mean())"
      ],
      "metadata": {
        "id": "LKd4C2Vdzx4D"
      },
      "execution_count": 34,
      "outputs": []
    },
    {
      "cell_type": "code",
      "execution_count": 35,
      "metadata": {
        "id": "wMd06HWVVOYX"
      },
      "outputs": [],
      "source": [
        "if eval_mode == 'valid':\n",
        "  # 제출용 샘플 파일 로드\n",
        "  eval_df = rslt_df\n",
        "  save_dir = os.path.join(path,'eval')\n",
        "  if not os.path.exists(save_dir) : os.makedirs(save_dir)\n",
        "  save_name = f'eval_{fname}'\n",
        "  save_path = os.path.join(save_dir,save_name)\n",
        "\n",
        "  # 결과를 CSV 파일로 저장\n",
        "  eval_df.to_csv(save_path, encoding='UTF-8-sig', index=False)"
      ]
    },
    {
      "cell_type": "code",
      "execution_count": 36,
      "metadata": {
        "id": "yGJfFDMzQZQW"
      },
      "outputs": [],
      "source": [
        "#검증 데이터 쓸때만 사용 가능\n",
        "if eval_mode == 'valid':\n",
        "  for item in results:\n",
        "      y_hat = item[\"Answer\"]\n",
        "      y = item[\"True_Answer\"]\n",
        "      f1, precision, recall = compute_f1(y, y_hat)\n",
        "      item[\"F1\"] = f1\n",
        "      item[\"Precision\"] = precision\n",
        "      item[\"Recall\"] = recall"
      ]
    },
    {
      "cell_type": "markdown",
      "metadata": {
        "id": "7ma0LX64D47T"
      },
      "source": [
        "# Submission"
      ]
    },
    {
      "cell_type": "code",
      "execution_count": 37,
      "metadata": {
        "colab": {
          "base_uri": "https://localhost:8080/",
          "height": 206
        },
        "id": "ONaLHlk0gcg2",
        "outputId": "636fd430-780a-435e-b138-3670729943c4"
      },
      "outputs": [
        {
          "output_type": "execute_result",
          "data": {
            "text/plain": [
              "  SAMPLE_ID Answer\n",
              "0  TEST_000    데이콘\n",
              "1  TEST_001    데이콘\n",
              "2  TEST_002    데이콘\n",
              "3  TEST_003    데이콘\n",
              "4  TEST_004    데이콘"
            ],
            "text/html": [
              "\n",
              "  <div id=\"df-b3642a52-b124-4e48-bf06-60ae47aa4b8f\" class=\"colab-df-container\">\n",
              "    <div>\n",
              "<style scoped>\n",
              "    .dataframe tbody tr th:only-of-type {\n",
              "        vertical-align: middle;\n",
              "    }\n",
              "\n",
              "    .dataframe tbody tr th {\n",
              "        vertical-align: top;\n",
              "    }\n",
              "\n",
              "    .dataframe thead th {\n",
              "        text-align: right;\n",
              "    }\n",
              "</style>\n",
              "<table border=\"1\" class=\"dataframe\">\n",
              "  <thead>\n",
              "    <tr style=\"text-align: right;\">\n",
              "      <th></th>\n",
              "      <th>SAMPLE_ID</th>\n",
              "      <th>Answer</th>\n",
              "    </tr>\n",
              "  </thead>\n",
              "  <tbody>\n",
              "    <tr>\n",
              "      <th>0</th>\n",
              "      <td>TEST_000</td>\n",
              "      <td>데이콘</td>\n",
              "    </tr>\n",
              "    <tr>\n",
              "      <th>1</th>\n",
              "      <td>TEST_001</td>\n",
              "      <td>데이콘</td>\n",
              "    </tr>\n",
              "    <tr>\n",
              "      <th>2</th>\n",
              "      <td>TEST_002</td>\n",
              "      <td>데이콘</td>\n",
              "    </tr>\n",
              "    <tr>\n",
              "      <th>3</th>\n",
              "      <td>TEST_003</td>\n",
              "      <td>데이콘</td>\n",
              "    </tr>\n",
              "    <tr>\n",
              "      <th>4</th>\n",
              "      <td>TEST_004</td>\n",
              "      <td>데이콘</td>\n",
              "    </tr>\n",
              "  </tbody>\n",
              "</table>\n",
              "</div>\n",
              "    <div class=\"colab-df-buttons\">\n",
              "\n",
              "  <div class=\"colab-df-container\">\n",
              "    <button class=\"colab-df-convert\" onclick=\"convertToInteractive('df-b3642a52-b124-4e48-bf06-60ae47aa4b8f')\"\n",
              "            title=\"Convert this dataframe to an interactive table.\"\n",
              "            style=\"display:none;\">\n",
              "\n",
              "  <svg xmlns=\"http://www.w3.org/2000/svg\" height=\"24px\" viewBox=\"0 -960 960 960\">\n",
              "    <path d=\"M120-120v-720h720v720H120Zm60-500h600v-160H180v160Zm220 220h160v-160H400v160Zm0 220h160v-160H400v160ZM180-400h160v-160H180v160Zm440 0h160v-160H620v160ZM180-180h160v-160H180v160Zm440 0h160v-160H620v160Z\"/>\n",
              "  </svg>\n",
              "    </button>\n",
              "\n",
              "  <style>\n",
              "    .colab-df-container {\n",
              "      display:flex;\n",
              "      gap: 12px;\n",
              "    }\n",
              "\n",
              "    .colab-df-convert {\n",
              "      background-color: #E8F0FE;\n",
              "      border: none;\n",
              "      border-radius: 50%;\n",
              "      cursor: pointer;\n",
              "      display: none;\n",
              "      fill: #1967D2;\n",
              "      height: 32px;\n",
              "      padding: 0 0 0 0;\n",
              "      width: 32px;\n",
              "    }\n",
              "\n",
              "    .colab-df-convert:hover {\n",
              "      background-color: #E2EBFA;\n",
              "      box-shadow: 0px 1px 2px rgba(60, 64, 67, 0.3), 0px 1px 3px 1px rgba(60, 64, 67, 0.15);\n",
              "      fill: #174EA6;\n",
              "    }\n",
              "\n",
              "    .colab-df-buttons div {\n",
              "      margin-bottom: 4px;\n",
              "    }\n",
              "\n",
              "    [theme=dark] .colab-df-convert {\n",
              "      background-color: #3B4455;\n",
              "      fill: #D2E3FC;\n",
              "    }\n",
              "\n",
              "    [theme=dark] .colab-df-convert:hover {\n",
              "      background-color: #434B5C;\n",
              "      box-shadow: 0px 1px 3px 1px rgba(0, 0, 0, 0.15);\n",
              "      filter: drop-shadow(0px 1px 2px rgba(0, 0, 0, 0.3));\n",
              "      fill: #FFFFFF;\n",
              "    }\n",
              "  </style>\n",
              "\n",
              "    <script>\n",
              "      const buttonEl =\n",
              "        document.querySelector('#df-b3642a52-b124-4e48-bf06-60ae47aa4b8f button.colab-df-convert');\n",
              "      buttonEl.style.display =\n",
              "        google.colab.kernel.accessAllowed ? 'block' : 'none';\n",
              "\n",
              "      async function convertToInteractive(key) {\n",
              "        const element = document.querySelector('#df-b3642a52-b124-4e48-bf06-60ae47aa4b8f');\n",
              "        const dataTable =\n",
              "          await google.colab.kernel.invokeFunction('convertToInteractive',\n",
              "                                                    [key], {});\n",
              "        if (!dataTable) return;\n",
              "\n",
              "        const docLinkHtml = 'Like what you see? Visit the ' +\n",
              "          '<a target=\"_blank\" href=https://colab.research.google.com/notebooks/data_table.ipynb>data table notebook</a>'\n",
              "          + ' to learn more about interactive tables.';\n",
              "        element.innerHTML = '';\n",
              "        dataTable['output_type'] = 'display_data';\n",
              "        await google.colab.output.renderOutput(dataTable, element);\n",
              "        const docLink = document.createElement('div');\n",
              "        docLink.innerHTML = docLinkHtml;\n",
              "        element.appendChild(docLink);\n",
              "      }\n",
              "    </script>\n",
              "  </div>\n",
              "\n",
              "\n",
              "<div id=\"df-04b64999-5779-4707-9a49-ebba115598d0\">\n",
              "  <button class=\"colab-df-quickchart\" onclick=\"quickchart('df-04b64999-5779-4707-9a49-ebba115598d0')\"\n",
              "            title=\"Suggest charts\"\n",
              "            style=\"display:none;\">\n",
              "\n",
              "<svg xmlns=\"http://www.w3.org/2000/svg\" height=\"24px\"viewBox=\"0 0 24 24\"\n",
              "     width=\"24px\">\n",
              "    <g>\n",
              "        <path d=\"M19 3H5c-1.1 0-2 .9-2 2v14c0 1.1.9 2 2 2h14c1.1 0 2-.9 2-2V5c0-1.1-.9-2-2-2zM9 17H7v-7h2v7zm4 0h-2V7h2v10zm4 0h-2v-4h2v4z\"/>\n",
              "    </g>\n",
              "</svg>\n",
              "  </button>\n",
              "\n",
              "<style>\n",
              "  .colab-df-quickchart {\n",
              "      --bg-color: #E8F0FE;\n",
              "      --fill-color: #1967D2;\n",
              "      --hover-bg-color: #E2EBFA;\n",
              "      --hover-fill-color: #174EA6;\n",
              "      --disabled-fill-color: #AAA;\n",
              "      --disabled-bg-color: #DDD;\n",
              "  }\n",
              "\n",
              "  [theme=dark] .colab-df-quickchart {\n",
              "      --bg-color: #3B4455;\n",
              "      --fill-color: #D2E3FC;\n",
              "      --hover-bg-color: #434B5C;\n",
              "      --hover-fill-color: #FFFFFF;\n",
              "      --disabled-bg-color: #3B4455;\n",
              "      --disabled-fill-color: #666;\n",
              "  }\n",
              "\n",
              "  .colab-df-quickchart {\n",
              "    background-color: var(--bg-color);\n",
              "    border: none;\n",
              "    border-radius: 50%;\n",
              "    cursor: pointer;\n",
              "    display: none;\n",
              "    fill: var(--fill-color);\n",
              "    height: 32px;\n",
              "    padding: 0;\n",
              "    width: 32px;\n",
              "  }\n",
              "\n",
              "  .colab-df-quickchart:hover {\n",
              "    background-color: var(--hover-bg-color);\n",
              "    box-shadow: 0 1px 2px rgba(60, 64, 67, 0.3), 0 1px 3px 1px rgba(60, 64, 67, 0.15);\n",
              "    fill: var(--button-hover-fill-color);\n",
              "  }\n",
              "\n",
              "  .colab-df-quickchart-complete:disabled,\n",
              "  .colab-df-quickchart-complete:disabled:hover {\n",
              "    background-color: var(--disabled-bg-color);\n",
              "    fill: var(--disabled-fill-color);\n",
              "    box-shadow: none;\n",
              "  }\n",
              "\n",
              "  .colab-df-spinner {\n",
              "    border: 2px solid var(--fill-color);\n",
              "    border-color: transparent;\n",
              "    border-bottom-color: var(--fill-color);\n",
              "    animation:\n",
              "      spin 1s steps(1) infinite;\n",
              "  }\n",
              "\n",
              "  @keyframes spin {\n",
              "    0% {\n",
              "      border-color: transparent;\n",
              "      border-bottom-color: var(--fill-color);\n",
              "      border-left-color: var(--fill-color);\n",
              "    }\n",
              "    20% {\n",
              "      border-color: transparent;\n",
              "      border-left-color: var(--fill-color);\n",
              "      border-top-color: var(--fill-color);\n",
              "    }\n",
              "    30% {\n",
              "      border-color: transparent;\n",
              "      border-left-color: var(--fill-color);\n",
              "      border-top-color: var(--fill-color);\n",
              "      border-right-color: var(--fill-color);\n",
              "    }\n",
              "    40% {\n",
              "      border-color: transparent;\n",
              "      border-right-color: var(--fill-color);\n",
              "      border-top-color: var(--fill-color);\n",
              "    }\n",
              "    60% {\n",
              "      border-color: transparent;\n",
              "      border-right-color: var(--fill-color);\n",
              "    }\n",
              "    80% {\n",
              "      border-color: transparent;\n",
              "      border-right-color: var(--fill-color);\n",
              "      border-bottom-color: var(--fill-color);\n",
              "    }\n",
              "    90% {\n",
              "      border-color: transparent;\n",
              "      border-bottom-color: var(--fill-color);\n",
              "    }\n",
              "  }\n",
              "</style>\n",
              "\n",
              "  <script>\n",
              "    async function quickchart(key) {\n",
              "      const quickchartButtonEl =\n",
              "        document.querySelector('#' + key + ' button');\n",
              "      quickchartButtonEl.disabled = true;  // To prevent multiple clicks.\n",
              "      quickchartButtonEl.classList.add('colab-df-spinner');\n",
              "      try {\n",
              "        const charts = await google.colab.kernel.invokeFunction(\n",
              "            'suggestCharts', [key], {});\n",
              "      } catch (error) {\n",
              "        console.error('Error during call to suggestCharts:', error);\n",
              "      }\n",
              "      quickchartButtonEl.classList.remove('colab-df-spinner');\n",
              "      quickchartButtonEl.classList.add('colab-df-quickchart-complete');\n",
              "    }\n",
              "    (() => {\n",
              "      let quickchartButtonEl =\n",
              "        document.querySelector('#df-04b64999-5779-4707-9a49-ebba115598d0 button');\n",
              "      quickchartButtonEl.style.display =\n",
              "        google.colab.kernel.accessAllowed ? 'block' : 'none';\n",
              "    })();\n",
              "  </script>\n",
              "</div>\n",
              "\n",
              "    </div>\n",
              "  </div>\n"
            ],
            "application/vnd.google.colaboratory.intrinsic+json": {
              "type": "dataframe",
              "variable_name": "submit_df",
              "summary": "{\n  \"name\": \"submit_df\",\n  \"rows\": 98,\n  \"fields\": [\n    {\n      \"column\": \"SAMPLE_ID\",\n      \"properties\": {\n        \"dtype\": \"string\",\n        \"num_unique_values\": 98,\n        \"samples\": [\n          \"TEST_062\",\n          \"TEST_040\",\n          \"TEST_094\"\n        ],\n        \"semantic_type\": \"\",\n        \"description\": \"\"\n      }\n    },\n    {\n      \"column\": \"Answer\",\n      \"properties\": {\n        \"dtype\": \"category\",\n        \"num_unique_values\": 1,\n        \"samples\": [\n          \"\\ub370\\uc774\\ucf58\"\n        ],\n        \"semantic_type\": \"\",\n        \"description\": \"\"\n      }\n    }\n  ]\n}"
            }
          },
          "metadata": {},
          "execution_count": 37
        }
      ],
      "source": [
        "submit_df = pd.read_csv(f\"{path}sample_submission.csv\")\n",
        "submit_df.head()"
      ]
    },
    {
      "cell_type": "code",
      "source": [
        "fname"
      ],
      "metadata": {
        "colab": {
          "base_uri": "https://localhost:8080/",
          "height": 35
        },
        "id": "-wG1AV5z1cN-",
        "outputId": "da30ec87-2412-47b1-bceb-c7d9f2e3839f"
      },
      "execution_count": 38,
      "outputs": [
        {
          "output_type": "execute_result",
          "data": {
            "text/plain": [
              "'gemma2_large_ensemble_markdown_512_3epoch_refactored.csv'"
            ],
            "application/vnd.google.colaboratory.intrinsic+json": {
              "type": "string"
            }
          },
          "metadata": {},
          "execution_count": 38
        }
      ]
    },
    {
      "cell_type": "code",
      "source": [
        "fname = 'gemma2_large_ensemble_markdown_512_3epoch_newprompt.csv'"
      ],
      "metadata": {
        "id": "MqjNiYnI7j6G"
      },
      "execution_count": 40,
      "outputs": []
    },
    {
      "cell_type": "code",
      "execution_count": 41,
      "metadata": {
        "id": "CMrEj815D47T",
        "colab": {
          "base_uri": "https://localhost:8080/",
          "height": 423
        },
        "outputId": "d03ee60e-25d0-46ac-c52b-7c3f937a4c94"
      },
      "outputs": [
        {
          "output_type": "display_data",
          "data": {
            "text/plain": [
              "   SAMPLE_ID                                             Answer\n",
              "0   TEST_000          2022년 혁신창업사업화자금(융자)의 예산은 2,300,000백만원입니다.\n",
              "1   TEST_001  중소기업이 보유한 우수 기술의 사장을 방지하고 개발기술의 제품화·사업화를 촉진하여 ...\n",
              "2   TEST_002  중소기업진흥에 관한 법률 제66조, 제67조, 제74조, 중소기업창업지원법 제35조...\n",
              "3   TEST_003       2010년에는 재창업자금(실패 경영인에 대한 재기지원)이 신규로 지원되었습니다.\n",
              "4   TEST_004             2020년에 미래기술육성자금과 고성장촉진자금이 신규로 지원되었습니다.\n",
              "..       ...                                                ...\n",
              "93  TEST_093  공적보증채무는 보증인이 기타 공공부문과 민간부문 단위 기존 채무의 원리금 상환을 보...\n",
              "94  TEST_094  미래사회보장급여에 대한 순의무는 현행법과 규정에 따라 이미 가입자가 획득한 미래 급...\n",
              "95  TEST_095  국가결산보고서는 우발부채를 '우발사항'으로 공시하는 반면, 지방자치단체 회계기준에서...\n",
              "96  TEST_096  우발부채는 미래의 의제의무를 포괄하는 재정적 책임으로, 재정건전성과 재정위기 관리 ...\n",
              "97  TEST_097  보증은 명시적 우발부채의 가장 보편적 형태이며, 파생금융상품 형태의 보증과 표준화 ...\n",
              "\n",
              "[98 rows x 2 columns]"
            ],
            "text/html": [
              "\n",
              "  <div id=\"df-e1481ee8-777b-46b3-9312-5d6ac604cff0\" class=\"colab-df-container\">\n",
              "    <div>\n",
              "<style scoped>\n",
              "    .dataframe tbody tr th:only-of-type {\n",
              "        vertical-align: middle;\n",
              "    }\n",
              "\n",
              "    .dataframe tbody tr th {\n",
              "        vertical-align: top;\n",
              "    }\n",
              "\n",
              "    .dataframe thead th {\n",
              "        text-align: right;\n",
              "    }\n",
              "</style>\n",
              "<table border=\"1\" class=\"dataframe\">\n",
              "  <thead>\n",
              "    <tr style=\"text-align: right;\">\n",
              "      <th></th>\n",
              "      <th>SAMPLE_ID</th>\n",
              "      <th>Answer</th>\n",
              "    </tr>\n",
              "  </thead>\n",
              "  <tbody>\n",
              "    <tr>\n",
              "      <th>0</th>\n",
              "      <td>TEST_000</td>\n",
              "      <td>2022년 혁신창업사업화자금(융자)의 예산은 2,300,000백만원입니다.</td>\n",
              "    </tr>\n",
              "    <tr>\n",
              "      <th>1</th>\n",
              "      <td>TEST_001</td>\n",
              "      <td>중소기업이 보유한 우수 기술의 사장을 방지하고 개발기술의 제품화·사업화를 촉진하여 ...</td>\n",
              "    </tr>\n",
              "    <tr>\n",
              "      <th>2</th>\n",
              "      <td>TEST_002</td>\n",
              "      <td>중소기업진흥에 관한 법률 제66조, 제67조, 제74조, 중소기업창업지원법 제35조...</td>\n",
              "    </tr>\n",
              "    <tr>\n",
              "      <th>3</th>\n",
              "      <td>TEST_003</td>\n",
              "      <td>2010년에는 재창업자금(실패 경영인에 대한 재기지원)이 신규로 지원되었습니다.</td>\n",
              "    </tr>\n",
              "    <tr>\n",
              "      <th>4</th>\n",
              "      <td>TEST_004</td>\n",
              "      <td>2020년에 미래기술육성자금과 고성장촉진자금이 신규로 지원되었습니다.</td>\n",
              "    </tr>\n",
              "    <tr>\n",
              "      <th>...</th>\n",
              "      <td>...</td>\n",
              "      <td>...</td>\n",
              "    </tr>\n",
              "    <tr>\n",
              "      <th>93</th>\n",
              "      <td>TEST_093</td>\n",
              "      <td>공적보증채무는 보증인이 기타 공공부문과 민간부문 단위 기존 채무의 원리금 상환을 보...</td>\n",
              "    </tr>\n",
              "    <tr>\n",
              "      <th>94</th>\n",
              "      <td>TEST_094</td>\n",
              "      <td>미래사회보장급여에 대한 순의무는 현행법과 규정에 따라 이미 가입자가 획득한 미래 급...</td>\n",
              "    </tr>\n",
              "    <tr>\n",
              "      <th>95</th>\n",
              "      <td>TEST_095</td>\n",
              "      <td>국가결산보고서는 우발부채를 '우발사항'으로 공시하는 반면, 지방자치단체 회계기준에서...</td>\n",
              "    </tr>\n",
              "    <tr>\n",
              "      <th>96</th>\n",
              "      <td>TEST_096</td>\n",
              "      <td>우발부채는 미래의 의제의무를 포괄하는 재정적 책임으로, 재정건전성과 재정위기 관리 ...</td>\n",
              "    </tr>\n",
              "    <tr>\n",
              "      <th>97</th>\n",
              "      <td>TEST_097</td>\n",
              "      <td>보증은 명시적 우발부채의 가장 보편적 형태이며, 파생금융상품 형태의 보증과 표준화 ...</td>\n",
              "    </tr>\n",
              "  </tbody>\n",
              "</table>\n",
              "<p>98 rows × 2 columns</p>\n",
              "</div>\n",
              "    <div class=\"colab-df-buttons\">\n",
              "\n",
              "  <div class=\"colab-df-container\">\n",
              "    <button class=\"colab-df-convert\" onclick=\"convertToInteractive('df-e1481ee8-777b-46b3-9312-5d6ac604cff0')\"\n",
              "            title=\"Convert this dataframe to an interactive table.\"\n",
              "            style=\"display:none;\">\n",
              "\n",
              "  <svg xmlns=\"http://www.w3.org/2000/svg\" height=\"24px\" viewBox=\"0 -960 960 960\">\n",
              "    <path d=\"M120-120v-720h720v720H120Zm60-500h600v-160H180v160Zm220 220h160v-160H400v160Zm0 220h160v-160H400v160ZM180-400h160v-160H180v160Zm440 0h160v-160H620v160ZM180-180h160v-160H180v160Zm440 0h160v-160H620v160Z\"/>\n",
              "  </svg>\n",
              "    </button>\n",
              "\n",
              "  <style>\n",
              "    .colab-df-container {\n",
              "      display:flex;\n",
              "      gap: 12px;\n",
              "    }\n",
              "\n",
              "    .colab-df-convert {\n",
              "      background-color: #E8F0FE;\n",
              "      border: none;\n",
              "      border-radius: 50%;\n",
              "      cursor: pointer;\n",
              "      display: none;\n",
              "      fill: #1967D2;\n",
              "      height: 32px;\n",
              "      padding: 0 0 0 0;\n",
              "      width: 32px;\n",
              "    }\n",
              "\n",
              "    .colab-df-convert:hover {\n",
              "      background-color: #E2EBFA;\n",
              "      box-shadow: 0px 1px 2px rgba(60, 64, 67, 0.3), 0px 1px 3px 1px rgba(60, 64, 67, 0.15);\n",
              "      fill: #174EA6;\n",
              "    }\n",
              "\n",
              "    .colab-df-buttons div {\n",
              "      margin-bottom: 4px;\n",
              "    }\n",
              "\n",
              "    [theme=dark] .colab-df-convert {\n",
              "      background-color: #3B4455;\n",
              "      fill: #D2E3FC;\n",
              "    }\n",
              "\n",
              "    [theme=dark] .colab-df-convert:hover {\n",
              "      background-color: #434B5C;\n",
              "      box-shadow: 0px 1px 3px 1px rgba(0, 0, 0, 0.15);\n",
              "      filter: drop-shadow(0px 1px 2px rgba(0, 0, 0, 0.3));\n",
              "      fill: #FFFFFF;\n",
              "    }\n",
              "  </style>\n",
              "\n",
              "    <script>\n",
              "      const buttonEl =\n",
              "        document.querySelector('#df-e1481ee8-777b-46b3-9312-5d6ac604cff0 button.colab-df-convert');\n",
              "      buttonEl.style.display =\n",
              "        google.colab.kernel.accessAllowed ? 'block' : 'none';\n",
              "\n",
              "      async function convertToInteractive(key) {\n",
              "        const element = document.querySelector('#df-e1481ee8-777b-46b3-9312-5d6ac604cff0');\n",
              "        const dataTable =\n",
              "          await google.colab.kernel.invokeFunction('convertToInteractive',\n",
              "                                                    [key], {});\n",
              "        if (!dataTable) return;\n",
              "\n",
              "        const docLinkHtml = 'Like what you see? Visit the ' +\n",
              "          '<a target=\"_blank\" href=https://colab.research.google.com/notebooks/data_table.ipynb>data table notebook</a>'\n",
              "          + ' to learn more about interactive tables.';\n",
              "        element.innerHTML = '';\n",
              "        dataTable['output_type'] = 'display_data';\n",
              "        await google.colab.output.renderOutput(dataTable, element);\n",
              "        const docLink = document.createElement('div');\n",
              "        docLink.innerHTML = docLinkHtml;\n",
              "        element.appendChild(docLink);\n",
              "      }\n",
              "    </script>\n",
              "  </div>\n",
              "\n",
              "\n",
              "<div id=\"df-42165c9a-3010-4248-bd8d-3d826330e870\">\n",
              "  <button class=\"colab-df-quickchart\" onclick=\"quickchart('df-42165c9a-3010-4248-bd8d-3d826330e870')\"\n",
              "            title=\"Suggest charts\"\n",
              "            style=\"display:none;\">\n",
              "\n",
              "<svg xmlns=\"http://www.w3.org/2000/svg\" height=\"24px\"viewBox=\"0 0 24 24\"\n",
              "     width=\"24px\">\n",
              "    <g>\n",
              "        <path d=\"M19 3H5c-1.1 0-2 .9-2 2v14c0 1.1.9 2 2 2h14c1.1 0 2-.9 2-2V5c0-1.1-.9-2-2-2zM9 17H7v-7h2v7zm4 0h-2V7h2v10zm4 0h-2v-4h2v4z\"/>\n",
              "    </g>\n",
              "</svg>\n",
              "  </button>\n",
              "\n",
              "<style>\n",
              "  .colab-df-quickchart {\n",
              "      --bg-color: #E8F0FE;\n",
              "      --fill-color: #1967D2;\n",
              "      --hover-bg-color: #E2EBFA;\n",
              "      --hover-fill-color: #174EA6;\n",
              "      --disabled-fill-color: #AAA;\n",
              "      --disabled-bg-color: #DDD;\n",
              "  }\n",
              "\n",
              "  [theme=dark] .colab-df-quickchart {\n",
              "      --bg-color: #3B4455;\n",
              "      --fill-color: #D2E3FC;\n",
              "      --hover-bg-color: #434B5C;\n",
              "      --hover-fill-color: #FFFFFF;\n",
              "      --disabled-bg-color: #3B4455;\n",
              "      --disabled-fill-color: #666;\n",
              "  }\n",
              "\n",
              "  .colab-df-quickchart {\n",
              "    background-color: var(--bg-color);\n",
              "    border: none;\n",
              "    border-radius: 50%;\n",
              "    cursor: pointer;\n",
              "    display: none;\n",
              "    fill: var(--fill-color);\n",
              "    height: 32px;\n",
              "    padding: 0;\n",
              "    width: 32px;\n",
              "  }\n",
              "\n",
              "  .colab-df-quickchart:hover {\n",
              "    background-color: var(--hover-bg-color);\n",
              "    box-shadow: 0 1px 2px rgba(60, 64, 67, 0.3), 0 1px 3px 1px rgba(60, 64, 67, 0.15);\n",
              "    fill: var(--button-hover-fill-color);\n",
              "  }\n",
              "\n",
              "  .colab-df-quickchart-complete:disabled,\n",
              "  .colab-df-quickchart-complete:disabled:hover {\n",
              "    background-color: var(--disabled-bg-color);\n",
              "    fill: var(--disabled-fill-color);\n",
              "    box-shadow: none;\n",
              "  }\n",
              "\n",
              "  .colab-df-spinner {\n",
              "    border: 2px solid var(--fill-color);\n",
              "    border-color: transparent;\n",
              "    border-bottom-color: var(--fill-color);\n",
              "    animation:\n",
              "      spin 1s steps(1) infinite;\n",
              "  }\n",
              "\n",
              "  @keyframes spin {\n",
              "    0% {\n",
              "      border-color: transparent;\n",
              "      border-bottom-color: var(--fill-color);\n",
              "      border-left-color: var(--fill-color);\n",
              "    }\n",
              "    20% {\n",
              "      border-color: transparent;\n",
              "      border-left-color: var(--fill-color);\n",
              "      border-top-color: var(--fill-color);\n",
              "    }\n",
              "    30% {\n",
              "      border-color: transparent;\n",
              "      border-left-color: var(--fill-color);\n",
              "      border-top-color: var(--fill-color);\n",
              "      border-right-color: var(--fill-color);\n",
              "    }\n",
              "    40% {\n",
              "      border-color: transparent;\n",
              "      border-right-color: var(--fill-color);\n",
              "      border-top-color: var(--fill-color);\n",
              "    }\n",
              "    60% {\n",
              "      border-color: transparent;\n",
              "      border-right-color: var(--fill-color);\n",
              "    }\n",
              "    80% {\n",
              "      border-color: transparent;\n",
              "      border-right-color: var(--fill-color);\n",
              "      border-bottom-color: var(--fill-color);\n",
              "    }\n",
              "    90% {\n",
              "      border-color: transparent;\n",
              "      border-bottom-color: var(--fill-color);\n",
              "    }\n",
              "  }\n",
              "</style>\n",
              "\n",
              "  <script>\n",
              "    async function quickchart(key) {\n",
              "      const quickchartButtonEl =\n",
              "        document.querySelector('#' + key + ' button');\n",
              "      quickchartButtonEl.disabled = true;  // To prevent multiple clicks.\n",
              "      quickchartButtonEl.classList.add('colab-df-spinner');\n",
              "      try {\n",
              "        const charts = await google.colab.kernel.invokeFunction(\n",
              "            'suggestCharts', [key], {});\n",
              "      } catch (error) {\n",
              "        console.error('Error during call to suggestCharts:', error);\n",
              "      }\n",
              "      quickchartButtonEl.classList.remove('colab-df-spinner');\n",
              "      quickchartButtonEl.classList.add('colab-df-quickchart-complete');\n",
              "    }\n",
              "    (() => {\n",
              "      let quickchartButtonEl =\n",
              "        document.querySelector('#df-42165c9a-3010-4248-bd8d-3d826330e870 button');\n",
              "      quickchartButtonEl.style.display =\n",
              "        google.colab.kernel.accessAllowed ? 'block' : 'none';\n",
              "    })();\n",
              "  </script>\n",
              "</div>\n",
              "\n",
              "  <div id=\"id_66a3b42d-32c5-4676-ac64-7c1153abe184\">\n",
              "    <style>\n",
              "      .colab-df-generate {\n",
              "        background-color: #E8F0FE;\n",
              "        border: none;\n",
              "        border-radius: 50%;\n",
              "        cursor: pointer;\n",
              "        display: none;\n",
              "        fill: #1967D2;\n",
              "        height: 32px;\n",
              "        padding: 0 0 0 0;\n",
              "        width: 32px;\n",
              "      }\n",
              "\n",
              "      .colab-df-generate:hover {\n",
              "        background-color: #E2EBFA;\n",
              "        box-shadow: 0px 1px 2px rgba(60, 64, 67, 0.3), 0px 1px 3px 1px rgba(60, 64, 67, 0.15);\n",
              "        fill: #174EA6;\n",
              "      }\n",
              "\n",
              "      [theme=dark] .colab-df-generate {\n",
              "        background-color: #3B4455;\n",
              "        fill: #D2E3FC;\n",
              "      }\n",
              "\n",
              "      [theme=dark] .colab-df-generate:hover {\n",
              "        background-color: #434B5C;\n",
              "        box-shadow: 0px 1px 3px 1px rgba(0, 0, 0, 0.15);\n",
              "        filter: drop-shadow(0px 1px 2px rgba(0, 0, 0, 0.3));\n",
              "        fill: #FFFFFF;\n",
              "      }\n",
              "    </style>\n",
              "    <button class=\"colab-df-generate\" onclick=\"generateWithVariable('submit_df')\"\n",
              "            title=\"Generate code using this dataframe.\"\n",
              "            style=\"display:none;\">\n",
              "\n",
              "  <svg xmlns=\"http://www.w3.org/2000/svg\" height=\"24px\"viewBox=\"0 0 24 24\"\n",
              "       width=\"24px\">\n",
              "    <path d=\"M7,19H8.4L18.45,9,17,7.55,7,17.6ZM5,21V16.75L18.45,3.32a2,2,0,0,1,2.83,0l1.4,1.43a1.91,1.91,0,0,1,.58,1.4,1.91,1.91,0,0,1-.58,1.4L9.25,21ZM18.45,9,17,7.55Zm-12,3A5.31,5.31,0,0,0,4.9,8.1,5.31,5.31,0,0,0,1,6.5,5.31,5.31,0,0,0,4.9,4.9,5.31,5.31,0,0,0,6.5,1,5.31,5.31,0,0,0,8.1,4.9,5.31,5.31,0,0,0,12,6.5,5.46,5.46,0,0,0,6.5,12Z\"/>\n",
              "  </svg>\n",
              "    </button>\n",
              "    <script>\n",
              "      (() => {\n",
              "      const buttonEl =\n",
              "        document.querySelector('#id_66a3b42d-32c5-4676-ac64-7c1153abe184 button.colab-df-generate');\n",
              "      buttonEl.style.display =\n",
              "        google.colab.kernel.accessAllowed ? 'block' : 'none';\n",
              "\n",
              "      buttonEl.onclick = () => {\n",
              "        google.colab.notebook.generateWithVariable('submit_df');\n",
              "      }\n",
              "      })();\n",
              "    </script>\n",
              "  </div>\n",
              "\n",
              "    </div>\n",
              "  </div>\n"
            ],
            "application/vnd.google.colaboratory.intrinsic+json": {
              "type": "dataframe",
              "variable_name": "submit_df",
              "summary": "{\n  \"name\": \"submit_df\",\n  \"rows\": 98,\n  \"fields\": [\n    {\n      \"column\": \"SAMPLE_ID\",\n      \"properties\": {\n        \"dtype\": \"string\",\n        \"num_unique_values\": 98,\n        \"samples\": [\n          \"TEST_062\",\n          \"TEST_040\",\n          \"TEST_094\"\n        ],\n        \"semantic_type\": \"\",\n        \"description\": \"\"\n      }\n    },\n    {\n      \"column\": \"Answer\",\n      \"properties\": {\n        \"dtype\": \"string\",\n        \"num_unique_values\": 97,\n        \"samples\": [\n          \"\\uc815\\ubd80 \\uc7ac\\uc815\\uc758 \\ud22c\\uba85\\uc131\\u00b7\\ucc45\\uc784\\uc131, \\ud6a8\\uc728\\uc131\\u00b7\\ud6a8\\uacfc\\uc131, \\uc608\\uc0b0\\uc7ac\\ubd84\\ubc30 \\ub4f1\\uc744 \\ubaa9\\uc801\\uc73c\\ub85c \\ud55c\\ub2e4.\",\n          \"\\ud589\\ubcf5\\uc8fc\\ud0dd\\ucd9c\\uc790 \\uc0ac\\uc5c5\\uc758 \\uc8fc\\uc694 \\uc218\\ud61c\\uc790\\ub294 \\ub300\\ud559\\uc0dd, \\uc0ac\\ud68c\\ucd08\\ub144\\uc0dd, \\uc2e0\\ud63c\\ubd80\\ubd80 \\ub4f1 \\uc80a\\uc740\\uce35(80%), \\uace0\\ub839\\uc790 \\ubc0f \\uc8fc\\uac70\\ucde8\\uc57d\\uacc4\\uce35(20%)\\uc774\\ub2e4.\",\n          \"\\ubbf8\\ub798\\uc0ac\\ud68c\\ubcf4\\uc7a5\\uae09\\uc5ec\\uc5d0 \\ub300\\ud55c \\uc21c\\uc758\\ubb34\\ub294 \\ud604\\ud589\\ubc95\\uacfc \\uaddc\\uc815\\uc5d0 \\ub530\\ub77c \\uc774\\ubbf8 \\uac00\\uc785\\uc790\\uac00 \\ud68d\\ub4dd\\ud55c \\ubbf8\\ub798 \\uae09\\uc5ec\\uc758 \\ud604\\uc7ac\\uac00\\uce58\\uc5d0\\uc11c \\ud604\\ud589\\ubc95\\uacfc \\uaddc\\uc815\\uc5d0 \\ub530\\ub978 \\uc0ac\\ud68c\\ubcf4\\uc7a5\\uc81c\\ub3c4\\uc758 \\ubbf8\\ub798\\ubcf4\\ud5d8\\ub8cc\\uc758 \\uc21c\\ud604\\uc7ac\\uac00\\uce58\\ub97c \\ucc28\\uac10\\ud55c \\uac83\\uc744 \\uc778\\uc2dd\\ud55c\\ub2e4.\"\n        ],\n        \"semantic_type\": \"\",\n        \"description\": \"\"\n      }\n    }\n  ]\n}"
            }
          },
          "metadata": {}
        }
      ],
      "source": [
        "# 제출용 샘플 파일 로드\n",
        "submit_df = pd.read_csv(f\"{path}sample_submission.csv\")\n",
        "\n",
        "# 생성된 답변을 제출 DataFrame에 추가\n",
        "save_mode = 'submission'\n",
        "\n",
        "if save_mode != 'submission' :\n",
        "  submit_df['Question'] = [item['Question'] for item in results]\n",
        "  submit_df['Context'] = [item['Context'] for item in results]\n",
        "  save_dir = os.path.join(path,'eval')\n",
        "else : save_dir = os.path.join(path,'sub')\n",
        "\n",
        "if not os.path.exists(save_dir) : os.makedirs(save_dir)\n",
        "save_path1 = os.path.join(save_dir,fname[:-4]+'_1.csv')\n",
        "save_path2 = os.path.join(save_dir,fname[:-4]+'_2.csv')\n",
        "\n",
        "submit_df['Answer'] = [item['Answer'] for item in results]\n",
        "submit_df['Answer'] = submit_df['Answer'].fillna(\"데이콘\").apply(str.strip)\n",
        "\n",
        "# 결과를 CSV 파일로 저장\n",
        "submit_df.to_csv(save_path1, encoding='UTF-8-sig', index=False)\n",
        "\n",
        "# 후처리\n",
        "#submit_df['Answer'] = submit_df.Answer.str.split('\\n').str[0]\n",
        "submit_df['Answer'] = submit_df.Answer.apply(post_process)\n",
        "display(submit_df)\n",
        "submit_df.to_csv(save_path2, encoding='UTF-8-sig', index=False)"
      ]
    },
    {
      "cell_type": "code",
      "source": [
        "os.listdir(save_dir)"
      ],
      "metadata": {
        "id": "p4M9Zm5Eu96w",
        "colab": {
          "base_uri": "https://localhost:8080/"
        },
        "outputId": "db653c54-1883-4d7f-9984-7464cb6a38c9"
      },
      "execution_count": null,
      "outputs": [
        {
          "output_type": "execute_result",
          "data": {
            "text/plain": [
              "['gemma2_large_ensemble_markdown_256_3epoch_refactored.csv',\n",
              " 'gemma2_large_ensemble_markdown_256_3epoch_refactored_1.csv',\n",
              " 'gemma2_large_ensemble_markdown_256_3epoch_refactored_2.csv',\n",
              " 'gemma2_large_ensemble_markdown_256_6epoch_refactored_1.csv',\n",
              " 'gemma2_large_ensemble_markdown_256_6epoch_refactored_2.csv',\n",
              " 'gemma2_large_ensemble_markdown_256_5epoch_refactored_1.csv',\n",
              " 'gemma2_large_ensemble_markdown_256_5epoch_refactored_2.csv']"
            ]
          },
          "metadata": {},
          "execution_count": 60
        }
      ]
    },
    {
      "cell_type": "code",
      "source": [
        "old_path = os.path.join(save_dir,'gemma2_large_ensemble_markdown_256_6epoch_refactored_2.csv')\n",
        "old_submit = pd.read_csv(old_path)\n",
        "old_submit"
      ],
      "metadata": {
        "colab": {
          "base_uri": "https://localhost:8080/",
          "height": 423
        },
        "id": "Vv8Ppv_YjPOs",
        "outputId": "11d39fab-4aa2-49ba-f4ff-2b7f91b7766a"
      },
      "execution_count": null,
      "outputs": [
        {
          "output_type": "execute_result",
          "data": {
            "text/plain": [
              "   SAMPLE_ID                                             Answer\n",
              "0   TEST_000        2022년 혁신창업사업화자금(융자)의 예산은 2,330,000,000원입니다.\n",
              "1   TEST_001  중소벤처기업부의 혁신창업사업화자금(융자) 사업목적은 중소기업이 보유한 우수 기술의 ...\n",
              "2   TEST_002  중소기업진흥에 관한 법률 제66조, 제67조, 제74조, 중소기업창업지원법 제35조...\n",
              "3   TEST_003         2010년에 재창업자금(실패 경영인에 대한 재기지원)이 신규 지원되었습니다.\n",
              "4   TEST_004            2020년에는 미래기술육성자금과 고성장촉진자금이 신규로 지원되었습니다.\n",
              "..       ...                                                ...\n",
              "93  TEST_093  공적보증채무는 보증인이 기타 공공부문과 민간부문 단위 기존 채무의 원리금 상환을 보...\n",
              "94  TEST_094  미래사회보장급여에 대한 순의무는 현행법과 규정에 따라 이미 가입자가 획득한 미래 급...\n",
              "95  TEST_095  국가결산보고서는 '우발사항'으로 공시하는 반면, 지방자치단체 회계기준은 '우발손실'...\n",
              "96  TEST_096  우발부채는 미래의 다양한 의제의무를 포괄하는 재정위험을 발생시키는 구체적 원인으로,...\n",
              "97  TEST_097  보증이란 피보증처의 부채에 대해 지급을 보증하는 것을 말하며, 파생금융상품 형태의 ...\n",
              "\n",
              "[98 rows x 2 columns]"
            ],
            "text/html": [
              "\n",
              "  <div id=\"df-fe9407c4-2fb4-442b-b7d4-19f5be0ba591\" class=\"colab-df-container\">\n",
              "    <div>\n",
              "<style scoped>\n",
              "    .dataframe tbody tr th:only-of-type {\n",
              "        vertical-align: middle;\n",
              "    }\n",
              "\n",
              "    .dataframe tbody tr th {\n",
              "        vertical-align: top;\n",
              "    }\n",
              "\n",
              "    .dataframe thead th {\n",
              "        text-align: right;\n",
              "    }\n",
              "</style>\n",
              "<table border=\"1\" class=\"dataframe\">\n",
              "  <thead>\n",
              "    <tr style=\"text-align: right;\">\n",
              "      <th></th>\n",
              "      <th>SAMPLE_ID</th>\n",
              "      <th>Answer</th>\n",
              "    </tr>\n",
              "  </thead>\n",
              "  <tbody>\n",
              "    <tr>\n",
              "      <th>0</th>\n",
              "      <td>TEST_000</td>\n",
              "      <td>2022년 혁신창업사업화자금(융자)의 예산은 2,330,000,000원입니다.</td>\n",
              "    </tr>\n",
              "    <tr>\n",
              "      <th>1</th>\n",
              "      <td>TEST_001</td>\n",
              "      <td>중소벤처기업부의 혁신창업사업화자금(융자) 사업목적은 중소기업이 보유한 우수 기술의 ...</td>\n",
              "    </tr>\n",
              "    <tr>\n",
              "      <th>2</th>\n",
              "      <td>TEST_002</td>\n",
              "      <td>중소기업진흥에 관한 법률 제66조, 제67조, 제74조, 중소기업창업지원법 제35조...</td>\n",
              "    </tr>\n",
              "    <tr>\n",
              "      <th>3</th>\n",
              "      <td>TEST_003</td>\n",
              "      <td>2010년에 재창업자금(실패 경영인에 대한 재기지원)이 신규 지원되었습니다.</td>\n",
              "    </tr>\n",
              "    <tr>\n",
              "      <th>4</th>\n",
              "      <td>TEST_004</td>\n",
              "      <td>2020년에는 미래기술육성자금과 고성장촉진자금이 신규로 지원되었습니다.</td>\n",
              "    </tr>\n",
              "    <tr>\n",
              "      <th>...</th>\n",
              "      <td>...</td>\n",
              "      <td>...</td>\n",
              "    </tr>\n",
              "    <tr>\n",
              "      <th>93</th>\n",
              "      <td>TEST_093</td>\n",
              "      <td>공적보증채무는 보증인이 기타 공공부문과 민간부문 단위 기존 채무의 원리금 상환을 보...</td>\n",
              "    </tr>\n",
              "    <tr>\n",
              "      <th>94</th>\n",
              "      <td>TEST_094</td>\n",
              "      <td>미래사회보장급여에 대한 순의무는 현행법과 규정에 따라 이미 가입자가 획득한 미래 급...</td>\n",
              "    </tr>\n",
              "    <tr>\n",
              "      <th>95</th>\n",
              "      <td>TEST_095</td>\n",
              "      <td>국가결산보고서는 '우발사항'으로 공시하는 반면, 지방자치단체 회계기준은 '우발손실'...</td>\n",
              "    </tr>\n",
              "    <tr>\n",
              "      <th>96</th>\n",
              "      <td>TEST_096</td>\n",
              "      <td>우발부채는 미래의 다양한 의제의무를 포괄하는 재정위험을 발생시키는 구체적 원인으로,...</td>\n",
              "    </tr>\n",
              "    <tr>\n",
              "      <th>97</th>\n",
              "      <td>TEST_097</td>\n",
              "      <td>보증이란 피보증처의 부채에 대해 지급을 보증하는 것을 말하며, 파생금융상품 형태의 ...</td>\n",
              "    </tr>\n",
              "  </tbody>\n",
              "</table>\n",
              "<p>98 rows × 2 columns</p>\n",
              "</div>\n",
              "    <div class=\"colab-df-buttons\">\n",
              "\n",
              "  <div class=\"colab-df-container\">\n",
              "    <button class=\"colab-df-convert\" onclick=\"convertToInteractive('df-fe9407c4-2fb4-442b-b7d4-19f5be0ba591')\"\n",
              "            title=\"Convert this dataframe to an interactive table.\"\n",
              "            style=\"display:none;\">\n",
              "\n",
              "  <svg xmlns=\"http://www.w3.org/2000/svg\" height=\"24px\" viewBox=\"0 -960 960 960\">\n",
              "    <path d=\"M120-120v-720h720v720H120Zm60-500h600v-160H180v160Zm220 220h160v-160H400v160Zm0 220h160v-160H400v160ZM180-400h160v-160H180v160Zm440 0h160v-160H620v160ZM180-180h160v-160H180v160Zm440 0h160v-160H620v160Z\"/>\n",
              "  </svg>\n",
              "    </button>\n",
              "\n",
              "  <style>\n",
              "    .colab-df-container {\n",
              "      display:flex;\n",
              "      gap: 12px;\n",
              "    }\n",
              "\n",
              "    .colab-df-convert {\n",
              "      background-color: #E8F0FE;\n",
              "      border: none;\n",
              "      border-radius: 50%;\n",
              "      cursor: pointer;\n",
              "      display: none;\n",
              "      fill: #1967D2;\n",
              "      height: 32px;\n",
              "      padding: 0 0 0 0;\n",
              "      width: 32px;\n",
              "    }\n",
              "\n",
              "    .colab-df-convert:hover {\n",
              "      background-color: #E2EBFA;\n",
              "      box-shadow: 0px 1px 2px rgba(60, 64, 67, 0.3), 0px 1px 3px 1px rgba(60, 64, 67, 0.15);\n",
              "      fill: #174EA6;\n",
              "    }\n",
              "\n",
              "    .colab-df-buttons div {\n",
              "      margin-bottom: 4px;\n",
              "    }\n",
              "\n",
              "    [theme=dark] .colab-df-convert {\n",
              "      background-color: #3B4455;\n",
              "      fill: #D2E3FC;\n",
              "    }\n",
              "\n",
              "    [theme=dark] .colab-df-convert:hover {\n",
              "      background-color: #434B5C;\n",
              "      box-shadow: 0px 1px 3px 1px rgba(0, 0, 0, 0.15);\n",
              "      filter: drop-shadow(0px 1px 2px rgba(0, 0, 0, 0.3));\n",
              "      fill: #FFFFFF;\n",
              "    }\n",
              "  </style>\n",
              "\n",
              "    <script>\n",
              "      const buttonEl =\n",
              "        document.querySelector('#df-fe9407c4-2fb4-442b-b7d4-19f5be0ba591 button.colab-df-convert');\n",
              "      buttonEl.style.display =\n",
              "        google.colab.kernel.accessAllowed ? 'block' : 'none';\n",
              "\n",
              "      async function convertToInteractive(key) {\n",
              "        const element = document.querySelector('#df-fe9407c4-2fb4-442b-b7d4-19f5be0ba591');\n",
              "        const dataTable =\n",
              "          await google.colab.kernel.invokeFunction('convertToInteractive',\n",
              "                                                    [key], {});\n",
              "        if (!dataTable) return;\n",
              "\n",
              "        const docLinkHtml = 'Like what you see? Visit the ' +\n",
              "          '<a target=\"_blank\" href=https://colab.research.google.com/notebooks/data_table.ipynb>data table notebook</a>'\n",
              "          + ' to learn more about interactive tables.';\n",
              "        element.innerHTML = '';\n",
              "        dataTable['output_type'] = 'display_data';\n",
              "        await google.colab.output.renderOutput(dataTable, element);\n",
              "        const docLink = document.createElement('div');\n",
              "        docLink.innerHTML = docLinkHtml;\n",
              "        element.appendChild(docLink);\n",
              "      }\n",
              "    </script>\n",
              "  </div>\n",
              "\n",
              "\n",
              "<div id=\"df-8abfcb3b-fd2f-4561-8def-8e3af3d3c29c\">\n",
              "  <button class=\"colab-df-quickchart\" onclick=\"quickchart('df-8abfcb3b-fd2f-4561-8def-8e3af3d3c29c')\"\n",
              "            title=\"Suggest charts\"\n",
              "            style=\"display:none;\">\n",
              "\n",
              "<svg xmlns=\"http://www.w3.org/2000/svg\" height=\"24px\"viewBox=\"0 0 24 24\"\n",
              "     width=\"24px\">\n",
              "    <g>\n",
              "        <path d=\"M19 3H5c-1.1 0-2 .9-2 2v14c0 1.1.9 2 2 2h14c1.1 0 2-.9 2-2V5c0-1.1-.9-2-2-2zM9 17H7v-7h2v7zm4 0h-2V7h2v10zm4 0h-2v-4h2v4z\"/>\n",
              "    </g>\n",
              "</svg>\n",
              "  </button>\n",
              "\n",
              "<style>\n",
              "  .colab-df-quickchart {\n",
              "      --bg-color: #E8F0FE;\n",
              "      --fill-color: #1967D2;\n",
              "      --hover-bg-color: #E2EBFA;\n",
              "      --hover-fill-color: #174EA6;\n",
              "      --disabled-fill-color: #AAA;\n",
              "      --disabled-bg-color: #DDD;\n",
              "  }\n",
              "\n",
              "  [theme=dark] .colab-df-quickchart {\n",
              "      --bg-color: #3B4455;\n",
              "      --fill-color: #D2E3FC;\n",
              "      --hover-bg-color: #434B5C;\n",
              "      --hover-fill-color: #FFFFFF;\n",
              "      --disabled-bg-color: #3B4455;\n",
              "      --disabled-fill-color: #666;\n",
              "  }\n",
              "\n",
              "  .colab-df-quickchart {\n",
              "    background-color: var(--bg-color);\n",
              "    border: none;\n",
              "    border-radius: 50%;\n",
              "    cursor: pointer;\n",
              "    display: none;\n",
              "    fill: var(--fill-color);\n",
              "    height: 32px;\n",
              "    padding: 0;\n",
              "    width: 32px;\n",
              "  }\n",
              "\n",
              "  .colab-df-quickchart:hover {\n",
              "    background-color: var(--hover-bg-color);\n",
              "    box-shadow: 0 1px 2px rgba(60, 64, 67, 0.3), 0 1px 3px 1px rgba(60, 64, 67, 0.15);\n",
              "    fill: var(--button-hover-fill-color);\n",
              "  }\n",
              "\n",
              "  .colab-df-quickchart-complete:disabled,\n",
              "  .colab-df-quickchart-complete:disabled:hover {\n",
              "    background-color: var(--disabled-bg-color);\n",
              "    fill: var(--disabled-fill-color);\n",
              "    box-shadow: none;\n",
              "  }\n",
              "\n",
              "  .colab-df-spinner {\n",
              "    border: 2px solid var(--fill-color);\n",
              "    border-color: transparent;\n",
              "    border-bottom-color: var(--fill-color);\n",
              "    animation:\n",
              "      spin 1s steps(1) infinite;\n",
              "  }\n",
              "\n",
              "  @keyframes spin {\n",
              "    0% {\n",
              "      border-color: transparent;\n",
              "      border-bottom-color: var(--fill-color);\n",
              "      border-left-color: var(--fill-color);\n",
              "    }\n",
              "    20% {\n",
              "      border-color: transparent;\n",
              "      border-left-color: var(--fill-color);\n",
              "      border-top-color: var(--fill-color);\n",
              "    }\n",
              "    30% {\n",
              "      border-color: transparent;\n",
              "      border-left-color: var(--fill-color);\n",
              "      border-top-color: var(--fill-color);\n",
              "      border-right-color: var(--fill-color);\n",
              "    }\n",
              "    40% {\n",
              "      border-color: transparent;\n",
              "      border-right-color: var(--fill-color);\n",
              "      border-top-color: var(--fill-color);\n",
              "    }\n",
              "    60% {\n",
              "      border-color: transparent;\n",
              "      border-right-color: var(--fill-color);\n",
              "    }\n",
              "    80% {\n",
              "      border-color: transparent;\n",
              "      border-right-color: var(--fill-color);\n",
              "      border-bottom-color: var(--fill-color);\n",
              "    }\n",
              "    90% {\n",
              "      border-color: transparent;\n",
              "      border-bottom-color: var(--fill-color);\n",
              "    }\n",
              "  }\n",
              "</style>\n",
              "\n",
              "  <script>\n",
              "    async function quickchart(key) {\n",
              "      const quickchartButtonEl =\n",
              "        document.querySelector('#' + key + ' button');\n",
              "      quickchartButtonEl.disabled = true;  // To prevent multiple clicks.\n",
              "      quickchartButtonEl.classList.add('colab-df-spinner');\n",
              "      try {\n",
              "        const charts = await google.colab.kernel.invokeFunction(\n",
              "            'suggestCharts', [key], {});\n",
              "      } catch (error) {\n",
              "        console.error('Error during call to suggestCharts:', error);\n",
              "      }\n",
              "      quickchartButtonEl.classList.remove('colab-df-spinner');\n",
              "      quickchartButtonEl.classList.add('colab-df-quickchart-complete');\n",
              "    }\n",
              "    (() => {\n",
              "      let quickchartButtonEl =\n",
              "        document.querySelector('#df-8abfcb3b-fd2f-4561-8def-8e3af3d3c29c button');\n",
              "      quickchartButtonEl.style.display =\n",
              "        google.colab.kernel.accessAllowed ? 'block' : 'none';\n",
              "    })();\n",
              "  </script>\n",
              "</div>\n",
              "\n",
              "  <div id=\"id_3e27622f-681a-44b5-b72d-6516d607d6d0\">\n",
              "    <style>\n",
              "      .colab-df-generate {\n",
              "        background-color: #E8F0FE;\n",
              "        border: none;\n",
              "        border-radius: 50%;\n",
              "        cursor: pointer;\n",
              "        display: none;\n",
              "        fill: #1967D2;\n",
              "        height: 32px;\n",
              "        padding: 0 0 0 0;\n",
              "        width: 32px;\n",
              "      }\n",
              "\n",
              "      .colab-df-generate:hover {\n",
              "        background-color: #E2EBFA;\n",
              "        box-shadow: 0px 1px 2px rgba(60, 64, 67, 0.3), 0px 1px 3px 1px rgba(60, 64, 67, 0.15);\n",
              "        fill: #174EA6;\n",
              "      }\n",
              "\n",
              "      [theme=dark] .colab-df-generate {\n",
              "        background-color: #3B4455;\n",
              "        fill: #D2E3FC;\n",
              "      }\n",
              "\n",
              "      [theme=dark] .colab-df-generate:hover {\n",
              "        background-color: #434B5C;\n",
              "        box-shadow: 0px 1px 3px 1px rgba(0, 0, 0, 0.15);\n",
              "        filter: drop-shadow(0px 1px 2px rgba(0, 0, 0, 0.3));\n",
              "        fill: #FFFFFF;\n",
              "      }\n",
              "    </style>\n",
              "    <button class=\"colab-df-generate\" onclick=\"generateWithVariable('old_submit')\"\n",
              "            title=\"Generate code using this dataframe.\"\n",
              "            style=\"display:none;\">\n",
              "\n",
              "  <svg xmlns=\"http://www.w3.org/2000/svg\" height=\"24px\"viewBox=\"0 0 24 24\"\n",
              "       width=\"24px\">\n",
              "    <path d=\"M7,19H8.4L18.45,9,17,7.55,7,17.6ZM5,21V16.75L18.45,3.32a2,2,0,0,1,2.83,0l1.4,1.43a1.91,1.91,0,0,1,.58,1.4,1.91,1.91,0,0,1-.58,1.4L9.25,21ZM18.45,9,17,7.55Zm-12,3A5.31,5.31,0,0,0,4.9,8.1,5.31,5.31,0,0,0,1,6.5,5.31,5.31,0,0,0,4.9,4.9,5.31,5.31,0,0,0,6.5,1,5.31,5.31,0,0,0,8.1,4.9,5.31,5.31,0,0,0,12,6.5,5.46,5.46,0,0,0,6.5,12Z\"/>\n",
              "  </svg>\n",
              "    </button>\n",
              "    <script>\n",
              "      (() => {\n",
              "      const buttonEl =\n",
              "        document.querySelector('#id_3e27622f-681a-44b5-b72d-6516d607d6d0 button.colab-df-generate');\n",
              "      buttonEl.style.display =\n",
              "        google.colab.kernel.accessAllowed ? 'block' : 'none';\n",
              "\n",
              "      buttonEl.onclick = () => {\n",
              "        google.colab.notebook.generateWithVariable('old_submit');\n",
              "      }\n",
              "      })();\n",
              "    </script>\n",
              "  </div>\n",
              "\n",
              "    </div>\n",
              "  </div>\n"
            ],
            "application/vnd.google.colaboratory.intrinsic+json": {
              "type": "dataframe",
              "variable_name": "old_submit",
              "summary": "{\n  \"name\": \"old_submit\",\n  \"rows\": 98,\n  \"fields\": [\n    {\n      \"column\": \"SAMPLE_ID\",\n      \"properties\": {\n        \"dtype\": \"string\",\n        \"num_unique_values\": 98,\n        \"samples\": [\n          \"TEST_062\",\n          \"TEST_040\",\n          \"TEST_094\"\n        ],\n        \"semantic_type\": \"\",\n        \"description\": \"\"\n      }\n    },\n    {\n      \"column\": \"Answer\",\n      \"properties\": {\n        \"dtype\": \"string\",\n        \"num_unique_values\": 96,\n        \"samples\": [\n          \"\\ubc1c\\uc0dd\\uc8fc\\uc758\\ub294 \\uacbd\\uc81c\\uc801 \\uac70\\ub798\\uac00 \\ubc1c\\uc0dd\\ud558\\ub294 \\uc2dc\\uc810\\uc5d0 \\uac70\\ub798\\ub97c \\uae30\\ub85d\\ud558\\ub294 \\ubc29\\uc2dd\\uc774\\uba70, \\ud604\\uae08\\uc8fc\\uc758\\ub294 \\ud604\\uae08\\uc744 \\uc218\\ucde8\\ud558\\uac70\\ub098 \\uc9c0\\uae09\\ud558\\ub294 \\uc2dc\\uc810\\uc5d0 \\uac70\\ub798\\ub97c \\uae30\\ub85d\\ud558\\ub294 \\ubc29\\uc2dd\\uc774\\ub2e4.\",\n          \"\\uc6b0\\ubc1c\\ubd80\\ucc44 \\uac1c\\ub150 \\ubc0f \\uc6a9\\uc5b4 \\uc0ac\\uc6a9\\uc758 \\ud63c\\ub780, \\uc6b0\\ubc1c\\ubd80\\ucc44 \\ubd84\\ub958\\uae30\\uc900 \\uc7ac\\uac80\\ud1a0, \\uc0c8\\ub85c\\uc6b4 \\ubd84\\ub958\\uae30\\uc900 \\uc815\\ub9bd\\uc774 \\uc8fc\\uc694 \\uc7c1\\uc810\\uc774\\ub2e4.\",\n          \"\\uc131\\uacfc\\uad00\\ub9ac\\uc758 \\uc2e4\\ud6a8\\uc131 \\uc81c\\uace0, \\ud658\\uacbd \\ubcc0\\ud654\\uc5d0 \\ub300\\ud55c \\uc801\\uc751, \\ud3c9\\uac00 \\ubc0f \\ud53c\\ud3c9\\uac00\\uc790 \\ud53c\\ub85c\\ub3c4 \\uacbd\\uac10, \\uae30\\uacc4\\uc801\\uc778 \\uc608\\uc0b0\\uacfc \\uc131\\uacfc\\uad00\\ub9ac \\uc5f0\\ub3d9 \\ud3d0\\uc9c0\\ub97c \\ud1b5\\ud55c \\uc7ac\\uc815\\uc0ac\\uc5c5 \\uad6c\\uc870\\uc870\\uc815 \\ud569\\ub9ac\\ud654 \\ub4f1\\uc744 \\ubaa9\\uc801\\uc73c\\ub85c \\ud3c9\\uac00 \\ub300\\uc0c1 \\uc0ac\\uc5c5\\uc758 \\ubc94\\uc704, \\ud3c9\\uac00 \\uc8fc\\uae30, \\uc0c1\\uc704 \\ud3c9\\uac00 \\ubc29\\uc2dd \\ub4f1\\uc5d0\\uc11c \\uc9c0\\uc18d\\uc801\\uc778 \\uc81c\\ub3c4 \\uac1c\\uc120\\uc774 \\uc774\\ub8e8\\uc5b4\\uc9c0\\uace0 \\uc788\\ub2e4.\"\n        ],\n        \"semantic_type\": \"\",\n        \"description\": \"\"\n      }\n    }\n  ]\n}"
            }
          },
          "metadata": {},
          "execution_count": 62
        }
      ]
    },
    {
      "cell_type": "code",
      "source": [
        "cond = old_submit['Answer']!=submit_df['Answer']\n",
        "df_diff = pd.concat([old_submit[['SAMPLE_ID','Answer']],submit_df['Answer']],axis=1).loc[cond]\n",
        "for i in range(len(df_diff))[15:]:\n",
        "  idx = int(df_diff.iloc[i,0].split('_')[-1])\n",
        "  print(idx)\n",
        "  print_dataset_ele(eval_dataset,idx)\n",
        "  print(df_diff.iloc[i,1])\n",
        "  print(df_diff.iloc[i,2])\n",
        "  print('-'*30)"
      ],
      "metadata": {
        "colab": {
          "base_uri": "https://localhost:8080/"
        },
        "id": "nVNw6vihl03v",
        "outputId": "534446cd-4a20-4bc7-c4ff-b3a86527567d"
      },
      "execution_count": null,
      "outputs": [
        {
          "output_type": "stream",
          "name": "stdout",
          "text": [
            "77\n",
            "재정관리시스템 구축과 성과관리 개편을 추진하는 주된 목적은 무엇인가?\n",
            "--------\n",
            "①성과관리의 내용을 성과목표관리 및 성과평가로 구체화  \n",
            "②재정사업 성과관리 기본계획 수립, 성과보고서 작성 및 성과평가 근거 마련  \n",
            "③재정사업 성과목표 관리를 위한 추진체계 마련  \n",
            "④성과평가 결과 등을 저장, 활용할 수 있는 성과정보관리시스템 구축·운영  \n",
            "⑤성과목표 관리 결과를 국무회의에 보고하여 성과 중심 재정운용 확대 및 강화  \n",
            "‣ 재정성과관리제도 개선으로 인하여 대폭 성과관리의 효과성이 강화될 것으로 전망\n",
            "## 나가며  \n",
            "**정책적 함의**  \n",
            "‣ 재정운용의 효율성, 책임성 제고를 위한 재정성과관리제도의 개선은 계속되고 있음  \n",
            "-  현 정부는 재정비전2050 수립을 위한 추진 과제로 성과관리 개편 및 재정관리시스템 구축 등을 추진하여 지  \n",
            "속적으로 제도 개선, 인프라 개선을 해나갈 전망  \n",
            "-  재정관리는 어느 한 시점에서 체제를 완비한다고 해서 되는 것이 아니며, 지속적인 제도 개선을 통해 변화하  \n",
            "는 재정 환경에 적응해 나갈 수 있어야 함\n",
            "의 기본 단위, 성과 측정과 보고를 위한 체계 확립  \n",
            "-  전 부처 재정사업에 대해 기관 전략목표-성과지표에 의한 부처의 자율적 성과관리, 재정당국의 감독 및 심층  \n",
            "평가라는 현행 재정사업 관리체계를 구축하여 운영하고 있음  \n",
            "-  이 과정에서 생산되는 정보를 정보화하여 활용할 수 있는 기반을 마련  \n",
            "-  이로 인하여 성과 중심 운영을 위한 제도를 성문화하고, 제반 인프라를 제공할 수 있게 되어 공개를 통한 투명\n",
            "을 제고할 수 있음  \n",
            "**재정성과관리 관련 주요 쟁점은?**  \n",
            "**FOCUS Col1**  \n",
            "-  「국가재정법」상의 재정사업 평가인 재정사업 자율평가의 대상, 범위, 효과, 개편 등은 지속적으로 논의되어야  \n",
            "하며, 개별 법령에 따라 실시되는 평가 대상 간 중복 최소화 노력 필요  \n",
            "-  재정성과관리 결과를 재정 운용에 반영하고, 또 국민에게 알기 쉽게 홍보할 수 있도록 공개하기 위한 지속적  \n",
            "인 조치 필요  \n",
            "**임무비전**\n",
            "목표치를 관리하여 국회에 보고하고 국민에게 공개  \n",
            "-  각 부처는 성과계획서·보고서 외에 재정사업에 대한 자율평가를 수행하며, 재정당국인 기획재정부는 지표가  \n",
            "적정한지 점검하고 개별 재정사업에 대한 평가를 수행할 수 있음  \n",
            "‣ 성과관리의 목적은 정부 재정의 투명성·책임성, 효율성·효과성, 예산재분배 등이 있음  \n",
            "-  사업 전략체계별 재원 배분, 성과목표와 달성도, 주요 수혜자에 대한 정보를 집약적으로 제공하여 투명성 및  \n",
            "책임성 향상\n",
            "**재정사업 자율평가의 전면 개편**  \n",
            "‣ 그간의 재정성과관리제도 변화는 성과관리의 실효성 제고, 환경 변화에 대한 적응, 평가 및 피평가자 피로  \n",
            "도 경감, 기계적인 예산과 성과관리 연동 폐지를 통한 재정사업 구조조정 합리화 등을 목적으로 이루어짐  \n",
            "-  각 부처의 목표 체계와 프로그램 예산체계는 2016년부터 일치하도록 하여 업무 중복을 경감\n",
            "직관적으로 알기 쉽도록 체계화  \n",
            "-  따라서 재정성과관리 체계는 사전 목표에 대한 사후 측정 및 평가, 유사한 사업 묶음 간의 표준화된 비교를  \n",
            "위한 재정사업 평가제도의 발전을 함께 수반  \n",
            "‣ 재정성과관리는 예산의 편성에서 집행, 결산에 이르는 전 과정에서 수행  \n",
            "-  재정성과관리는 예산 편성 과정에서 성과계획서를 작성하면서 시작하며, 이를 바탕으로 연간 성과지표와  \n",
            "목표치를 관리하여 국회에 보고하고 국민에게 공개\n",
            "\n",
            "--------\n",
            "\n",
            "재정관리시스템 구축과 성과관리 개편을 통해 지속적으로 제도 개선, 인프라 개선을 해나가 재정 운용의 효율성, 책임성을 제고하고자 함\n",
            "재정관리시스템 구축과 성과관리 개편을 통해 지속적으로 제도 개선, 인프라 개선을 해나가 변화하는 재정 환경에 적응하고, 재정운용의 효율성, 책임성을 제고할 수 있도록 한다.\n",
            "------------------------------\n",
            "80\n",
            "우발부채의 관리는 왜 중요한 이슈로 여겨지는가?\n",
            "--------\n",
            "## 들어가며  \n",
            "**ISSUE Col1**  \n",
            "**왜 우발부채에 주목하는가?**  \n",
            "‣ 국제기준 재정통계 산출에 발생주의(accrual basis)[1)] 회계기준이 적용되면서 미래의 다양한 의제의무  \n",
            "(constructive obligation)[2)]를 포괄하는 우발부채 관리에 대한 중요성 인식  \n",
            "-  기업회계에서는 우발부채 규모가 그리 크지 않아 중요한 요소가 아니지만, 공공부문에서는 재정건전성, 재정\n",
            "사용에 혼란이 있고 분류상 오류가 있는 등 체계적 관리 대안에 대한 논의가 필요한 시점  \n",
            "-  국제적으로 정부의 채무지속가능성분석(DSA)[4)]을 위한 기초자료로 활용되는 등 주요하게 인식되는 추세와  \n",
            "비교해 우리나라에서는 아직까지 체계적으로 다뤄지지 않고 있음  \n",
            "0 FOCUS **우발부채 관련 주요 쟁점은?**  \n",
            "0 FOCUS  \n",
            "‣ 우발부채 개념 및 용어 사용의 혼란, 우발부채 분류기준 재검토, 새로운 분류기준 정립\n",
            "**FIS** **ISSUE & FOCUS**  \n",
            "최근 국제기준의 재정통계 적용과 관련해 우발부채에 관한 구체적 논의가 진행 중이다. 우발부  \n",
            "채의 관리는 지속가능한 재정운영 차원에서 중요한 이슈인데, 이는 미래의 다양한 의제의무를\n",
            "우발부채 관리의 중요성에 대해 새롭게 인식할 수 있게 되기를 기대한다.  \n",
            "**01 Col1**  \n",
            "0 01  \n",
            "1\n",
            "다고 여겨 정부의 계약상 부채를 초래하지 않는 것으로 간주하며, 우발부채로 인식  \n",
            "‣ 미래사회보장급여에 대한 순의무는 계약상의 부채는 아니나 미래 발생 비용으로 여겨지는 사회보장급여를  \n",
            "의미  \n",
            "-  미래사회보장급여에 대한 순의무는 현행법과 규정에 따라 이미 가입자가 획득한 미래 급여의 현재가치에서  \n",
            "현행법과 규정에 따른 사회보장제도의 미래보험료의 순현재가치를 차감한 것을 인식\n",
            "\n",
            "--------\n",
            "\n",
            "우발부채의 관리가 지속 가능한 재정 운영 차원에서 중요한 이슈로 여겨지기 때문이다.\n",
            "우발부채의 관리가 지속가능한 재정운영 차원에서 중요한 이슈로 여겨지기 때문이다.\n",
            "------------------------------\n",
            "96\n",
            "우발부채란 무엇이며, 그 관리가 왜 중요한가?\n",
            "--------\n",
            "사용에 혼란이 있고 분류상 오류가 있는 등 체계적 관리 대안에 대한 논의가 필요한 시점  \n",
            "-  국제적으로 정부의 채무지속가능성분석(DSA)[4)]을 위한 기초자료로 활용되는 등 주요하게 인식되는 추세와  \n",
            "비교해 우리나라에서는 아직까지 체계적으로 다뤄지지 않고 있음  \n",
            "0 FOCUS **우발부채 관련 주요 쟁점은?**  \n",
            "0 FOCUS  \n",
            "‣ 우발부채 개념 및 용어 사용의 혼란, 우발부채 분류기준 재검토, 새로운 분류기준 정립\n",
            "## 들어가며  \n",
            "**ISSUE Col1**  \n",
            "**왜 우발부채에 주목하는가?**  \n",
            "‣ 국제기준 재정통계 산출에 발생주의(accrual basis)[1)] 회계기준이 적용되면서 미래의 다양한 의제의무  \n",
            "(constructive obligation)[2)]를 포괄하는 우발부채 관리에 대한 중요성 인식  \n",
            "-  기업회계에서는 우발부채 규모가 그리 크지 않아 중요한 요소가 아니지만, 공공부문에서는 재정건전성, 재정\n",
            "basis)와 차이가 있다.  \n",
            "**2) 의제의무(擬制義務, constructive obligation)란 발표된 정부방침 또는 구체적이고 유효한 약속이나 과거의 실무관행 등을 통해 중앙관서 또는 기금이 특정 책임을**\n",
            "부담한다는 것을 표명함으로써 상대방이 그 책임을 이행할 것이라는 정당한 기대를 가지게 되는 경우 발생하는 의무를 말한다(「충당부채, 우발부채, 우발자산  \n",
            "회계처리지침」, 2018).\n",
            "우발부채 관리의 중요성에 대해 새롭게 인식할 수 있게 되기를 기대한다.  \n",
            "**01 Col1**  \n",
            "0 01  \n",
            "1\n",
            "**FIS** **ISSUE & FOCUS**  \n",
            "최근 국제기준의 재정통계 적용과 관련해 우발부채에 관한 구체적 논의가 진행 중이다. 우발부  \n",
            "채의 관리는 지속가능한 재정운영 차원에서 중요한 이슈인데, 이는 미래의 다양한 의제의무를\n",
            "족되어야 금융거래로 인식된다는 점에서 ‘부채’와 차이[6)]  \n",
            "-  우발부채는 재정위험(fiscal risk)을 발생시키는 구체적 원인이 되며, 의도적인 공공정책이나 재정위기와 같이  \n",
            "예기치 못한 사건으로 인해 발생할 수 있음 **[7)]**  \n",
            "-  우발부채가 부채로 인식되기 위해서는 하나 또는 그 이상의 조건이 충족되어야 하는 반면, ‘충당부채’는 현\n",
            "위기 관리 등 다양한 관점에서 중요하게 다뤄져야 할 필요  \n",
            "-  GFSM2001에서 광의적 개념으로 정의하였던 것에 비해, GFSM2014에서는 ‘명시적 우발부채’와 ‘암묵적 우  \n",
            "발부채’로 세분화하여 우발부채 범주를 하위 항목까지 구체적으로 다룸 **[3)]**  \n",
            "‣ 우리나라는 2011년부터 발생주의 기준을 적용한 국가결산보고서에서 우발부채를 보고하고 있으나, 용어\n",
            "\n",
            "--------\n",
            "\n",
            "우발부채는 미래의 다양한 의제의무를 포괄하는 재정위험을 발생시키는 구체적 원인으로, 재정위기나 예기치 못한 사건으로 인해 발생할 수 있으며, 지속가능한 재정운영을 위해 관리가 중요합니다.\n",
            "우발부채는 미래의 다양한 의제의무를 포괄하는 재정적 의무로, 재정위험을 발생시키고 지속가능한 재정운영을 위해 관리가 중요하다.\n",
            "------------------------------\n"
          ]
        }
      ]
    },
    {
      "cell_type": "code",
      "source": [
        "idx_list = [16,49,59,74,77,80]"
      ],
      "metadata": {
        "id": "wEzVOfVxtaya"
      },
      "execution_count": null,
      "outputs": []
    },
    {
      "cell_type": "code",
      "source": [
        "for idx in idx_list:\n",
        "  print(idx)\n",
        "  print_dataset_ele(eval_dataset,idx)\n",
        "  print(\"<eos> 없음 :\",df_diff.loc[idx].iloc[1])\n",
        "  print(\"<eos> 추가 :\",df_diff.loc[idx].iloc[2])\n",
        "  print('-'*30)"
      ],
      "metadata": {
        "colab": {
          "base_uri": "https://localhost:8080/"
        },
        "id": "ZXnP93gTokd6",
        "outputId": "03ac2d86-63e5-4839-e280-973a2c90d886"
      },
      "execution_count": null,
      "outputs": [
        {
          "output_type": "stream",
          "name": "stdout",
          "text": [
            "16\n",
            "노인장기요양보험 운영지원에 대한 사업 내용을 설명해줘.\n",
            "--------\n",
            "# 4. 사업목적·내용  \n",
            "-  (노인장기요양보험 사업운영) 고령이나 노인성 질병으로 일상생활을 혼자서 수행하기  \n",
            "어려운 노인등에게 신체 또는 가사 활동 등을 제공하는 노인장기요양보험에 국고지원을  \n",
            "하여, 효율적인 정책추진으로 노후의 건강증진 및 생활 안정을 도모하고 가족의 부담을  \n",
            "완화하여 국민 삶의 질을 향상  \n",
            "-  (노인장기요양보험 운영지원) 「노인장기요양보험법」제58조에 따라 국가가 국민건강보험\n",
            "\"가입자\"는 \"장기요양보험가입자\"로 본다.  \n",
            "노인장기요양보험법 제35조의2(장기요양기관 재무·회계기준) ① 장기요양기관의 장은 보건복지부령으로 정  \n",
            "하는 재무·회계에 관한 기준(이하 “장기요양기관 재무·회계기준”이라 한다)에 따라 장기요양기관을 투명  \n",
            "하게 운영하여야 한다. 다만, 장기요양기관 중 「사회복지사업법」제34조에 따라 설치한 사회복지시설은  \n",
            "같은 조 제3항에 따른 재무ㆍ회계에 관한 기준에 따른다.\n",
            "# 사  업  명  \n",
            "(74) 노인장기요양보험 사업운영 (2231-303)\n",
            "함한다) 및 관리운영비의 전액을 부담한다.  \n",
            "노인장기요양보험법 시행령 제28조(국가와 지방자치단체의 부담) ① 법 제58조제2항에 따른 의  \n",
            "료급여수급권자에 대한 국가와 지방자치단체의 비용 부담은 다음 각 호의 기준에 따른다.  \n",
            "1의 2. 「의료급여법」제3조제1항제1호에 따른 의료급여를 받는 사람에 대한 비용 : 지방자치단체가 부담한다.  \n",
            "2. 「의료급여법」제3조제1항제1호 외의 규정에 따른 의료급여를 받는 사람에 대한 비용 : 각 목의\n",
            "# 5. 사업근거 및 추진경위  \n",
            "① 법령상 근거 및 조항 : 노인장기요양보험법 제4조, 제11조, 제35조의2, 제58조 및  \n",
            "같은 법 시행령제28조, 국민건강보험법 제76조  \n",
            "노인장기요양보험법 제4조(국가 및 지방자치단체의 책무 등) ④ 국가 및 지방자치단체는 장기요양  \n",
            "급여가 원활히 제공될 수 있도록 공단에 필요한 행정적 또는 재정적 지원을 할 수 있다.\n",
            "노인장기요양보험법 제58조(국가의 부담) ① 국가는 매년 예산의 범위 안에서 해당 연도 장기요양  \n",
            "보험료 예상수입액의 100분의 20에 상당하는 금액을 공단에 지원한다.\n",
            "② 국가와 지방자치단체는 대통령령으로 정하는 바에 따라 의료급여수급권자의 장기요양급여\n",
            "비용, 의사소견서 발급비용, 방문간호지시서 발급비용 중 공단이 부담하여야 할 비용(제40조제\n",
            "1항 단서 및 제3항제1호에 따라 면제 및 감경됨으로 인하여공단이 부담하게 되는 비용을 포\n",
            "|0 코드|2200 2231|303||\n",
            "|1 명칭|노인의료보장 노인장기요양|보험 지원 노인장기요양보|험 사업운영|  \n",
            "2. 사업 지원 형태 및 지원율  \n",
            "|직접 출|자 출연 보조|융자 국고|보조율(%)|융자율 (%|)|Col7|\n",
            "|---|---|---|---|---|---|---|\n",
            "|0 ○|||||||  \n",
            "3. 예산 총괄표  \n",
            "(단위: 백만원, %)\n",
            "\n",
            "--------\n",
            "\n",
            "<eos> 없음 : 노인장기요양보험법에 따라 국가가 국민건강보험 가입자를 장기요양보험 가입자로 본다.\n",
            "<eos> 추가 : 노인장기요양보험법에 따라 국가가 국민건강보험 가입자를 장기요양보험 가입자로 간주하고, 국가는 매년 예산 범위 내에서 장기요양보험료 예상 수입액의 100분의 20에 상당하는 금액을 공단에 지원한다.\n",
            "------------------------------\n",
            "49\n",
            "사회보험 사각지대 발생의 주요 원인과 이로 인해 발생하는 문제는 무엇인가요?\n",
            "--------\n",
            "0 **서민과 사회적 약자 복지 강화**  \n",
            "-  특히 발달장애인은 일상생활에서 타인의 도움이 필요한 경우(일반장애 32.1%, 발달장애 70%)가 많아 특별한 집중  \n",
            "**두터운 사회안전망 구축: [고용부] 사회보험 사각지대 해소**  \n",
            "돌봄이 필요  \n",
            "(선정 배경·필요성) 4대 사회보험의 제도적 틀이 갖추어져 있음에도 불구하고 사각지대 발생  \n",
            "(사업 추진 내용) 보건복지부 소관으로, 장애인 활동지원 및 발달장애인 돌봄서비스 등 확대\n",
            "배경 및 주요 내용, 그리고 성과지표·목표 설정과 그 의미를 이해하는 것이 중요  \n",
            "0 FOCUS **핵심재정사업 성과관리 관련 주요 쟁점은?**  \n",
            "0 FOCUS  \n",
            "범부처 차원에서 우선순위 목표를 관리하는 ‘핵심재정사업 성과관리’는 부처의 핵심 업무와 재정운용  \n",
            "성과를 관리하기 위해 도입한 부처별 ‘대표 성과지표 관리’와 구분되어 이해되고 있는가?\n",
            "-  사회보험 가입은 법적 의무이나 사업주의 비용절감, 보험 가입에 따른 근로자의 실질 가처분 소득 감소 등  \n",
            "-  혼자서 일상생활과 사회생활을 하기 어려운 장애인[9)] 대상 활동지원급여 및 최중증장애인 활동지원사 대상  \n",
            "현실적 이유로 고용 취약계층 및 소규모 사업장일수록 사회보험 가입이 저조  \n",
            "가산급여 지급으로 자립생활 및 돌봄부담 완화 지원(계속사업, ’11년~)\n",
            "-  최근 10년간 산불 발생 원인은 입산자 실화(58%), 쓰레기 소각(22%), 주택 화재 전이 등(20%)으로 정책 노력을  \n",
            "을 유도하고, 세계시장을 선도하는 글로벌 유니콘 기업으로 성장 가능성 있는 유망 창업기업의 발굴·육성  \n",
            "통해 관리 가능한 만큼 사전예방 및 피해 최소화에 역점 둔 산불대응능력 강화 필요  \n",
            "-  TIPS 운영사[20)](액셀러레이터 등)가 고급기술 창업팀에 투자·보육하고, 정부 R&D, 창업사업화 자금 등을 매칭\n",
            "-  하지만 저임금 근로자 등 고용 취약계층은 잦은 이직, 영세사업장의 빈번한 신생·소멸 등으로 소득단절 위험이  \n",
            "-  성인 발달장애인 낮시간 보장 및 보호자 돌봄부담 경감, 청소년 발달장애인 방과후 돌봄 사각지대 해소 및  \n",
            "높아 사회보험 가입이 특히 중요  \n",
            "부모 돌봄부담 경감, 24시간 지원·긴급돌봄 시범사업 등 지원(계속사업, ’13년~)\n",
            "확대해 나가되, 단계적·효율적 투자 추진  \n",
            "-  ’23년 전년 대비 298억원(2.9%) 증가한 10,764억원 규모의 예산을 투입  \n",
            "-  장애인 개인예산제 등 대규모 재정이 투입되는 신규사업의 경우 시범사업 우선 실시 후 시범사업 결과에 대한  \n",
            "(재정투자 방향) 사회보험 사각지대에 있는 저소득 근로자 및 예술인·특수형태근로종사자(특고)의 사회  \n",
            "성과평가를 거쳐 본사업 추진 여부 결정  \n",
            "보험료 적극 지원\n",
            "**【국정과제】 53. 고용안전망 강화 및 지속가능성 제고(고용보험 적용대상 확대 등)** **【소관】 보건복지부  【분야】 사회복지  【세부(내역)사업명】 장애인 활동지원(계속사업, ’11년~; ’23년 19,919억원) / 발달장애인 지원(계속사업,**  \n",
            "**【소관】 고용노동부  【분야】 사회복지  【세부(내역)사업명】 사회보험사각지대해소(계속사업, ’12년~; ’23년 10,764억원)** ’13년~; ’23년 2,569억원)\n",
            "\n",
            "--------\n",
            "\n",
            "<eos> 없음 : 사회보험 가입이 법적 의무가 아니고 사업주의 비용 절감, 보험 가입에 따른 근로자의 실질 가처분 소득 감소 등으로 고용 취약계층 및 소규모 사업장일수록 사회보험 가입이 저조하여 사각지대가 발생하고, 이로 인해 저소득 근로자, 예술인, 특수형태 근로 종사자 등이 사회보험의 보호 대상 범위 밖에 놓이게 됩니다.\n",
            "<eos> 추가 : 사회보험 가입이 법적 의무가 아니고 사업주의 비용 절감, 보험 가입에 따른 근로자의 실질 가처분 소득 감소 등으로 고용 취약계층 및 소규모 사업장일수록 사회보험 가입이 저조하여 사각지대가 발생하고, 이로 인해 저소득 근로자 등이 사회보험의 보호 대상 범위 밖에 놓이게 됩니다.\n",
            "------------------------------\n",
            "59\n",
            "재정성과관리 관련 주요 쟁점은 무엇인가?\n",
            "--------\n",
            "을 제고할 수 있음  \n",
            "**재정성과관리 관련 주요 쟁점은?**  \n",
            "**FOCUS Col1**  \n",
            "-  「국가재정법」상의 재정사업 평가인 재정사업 자율평가의 대상, 범위, 효과, 개편 등은 지속적으로 논의되어야  \n",
            "하며, 개별 법령에 따라 실시되는 평가 대상 간 중복 최소화 노력 필요  \n",
            "-  재정성과관리 결과를 재정 운용에 반영하고, 또 국민에게 알기 쉽게 홍보할 수 있도록 공개하기 위한 지속적  \n",
            "인 조치 필요  \n",
            "**임무비전**\n",
            "글에서는 지난 5월 발표된 “2021년도 국가결산”의 성과보고서를 중심으로, 우리나라의 재정성과관리 현황을 파악해 보고, 앞으로의  \n",
            "운영 방향은 무엇인지, 국제기구의 논의는 어떻게 진행되고 있는지 살펴봄으로써 재정성과관리를 명료하게 이해해 보도록 한다.  \n",
            "**Col0 Col1**\n",
            "# 재정성과관리제도  \n",
            "다. 재정성과관리는 단순 예산·결산 중심에서 벗어나  \n",
            "재정을 결과 또는 산출 지향적으로 운영하는 것으로, 산출의 우선순위를 명확하게 하는 한편 국민에게 재정이 하는 일을 보다 알기  \n",
            "쉽게 설명할 수 있기에 중요하다.  \n",
            "2021년 「국가재정법」 개정으로 성과 중심의 재정 운용의 법제도 근거가 마련되어, 한층 재정성과관리가 강화될 것으로 전망된다. 이\n",
            "성과목표 수준도 함께 정하는 것으로, 프로그램 내의 사업 간 비교 기준이 명확해지고 성과를 중심으로 재정에  \n",
            "환류하기가 용이  \n",
            "<그림 1> 프로그램 예산체계 개념  \n",
            "**왜 재정성과관리제도에 주목하는가?**  \n",
            "0 ISSUE  \n",
            "‣ 재정성과관리제도는 재정을 프로그램 단위로 구분하고, 사전 목표와 사후 평가 결과를 중심으로 관리하는  \n",
            "것을 의미\n",
            "목표치를 관리하여 국회에 보고하고 국민에게 공개  \n",
            "-  각 부처는 성과계획서·보고서 외에 재정사업에 대한 자율평가를 수행하며, 재정당국인 기획재정부는 지표가  \n",
            "적정한지 점검하고 개별 재정사업에 대한 평가를 수행할 수 있음  \n",
            "‣ 성과관리의 목적은 정부 재정의 투명성·책임성, 효율성·효과성, 예산재분배 등이 있음  \n",
            "-  사업 전략체계별 재원 배분, 성과목표와 달성도, 주요 수혜자에 대한 정보를 집약적으로 제공하여 투명성 및  \n",
            "책임성 향상\n",
            "-  재정성과관리의 최종 목표는 국민이 정부가 하는 일의 목표에서 성과에 이르는 전과정을 투명하게 알 수 있  \n",
            "게 하는 것임  \n",
            "-  재정정보의 관리 및 공개 플랫폼을 지속적으로 유지하고 발전시켜, 재정정보의 품질을 확보하기 위한 인프라  \n",
            "측면에서의 관리도 필요  \n",
            "0 매년  \n",
            "**정성과관리 관련 OECD 동향**  \n",
            "(20개 overnment at a Glance 2021\n",
            "국,\n",
            "직관적으로 알기 쉽도록 체계화  \n",
            "-  따라서 재정성과관리 체계는 사전 목표에 대한 사후 측정 및 평가, 유사한 사업 묶음 간의 표준화된 비교를  \n",
            "위한 재정사업 평가제도의 발전을 함께 수반  \n",
            "‣ 재정성과관리는 예산의 편성에서 집행, 결산에 이르는 전 과정에서 수행  \n",
            "-  재정성과관리는 예산 편성 과정에서 성과계획서를 작성하면서 시작하며, 이를 바탕으로 연간 성과지표와  \n",
            "목표치를 관리하여 국회에 보고하고 국민에게 공개\n",
            "\n",
            "--------\n",
            "\n",
            "<eos> 없음 : 국가재정법상 재정사업 평가인 재정사업 자율평가의 대상, 범위, 효과, 개편 등은 지속적으로 논의되어야 하며, 개별 법령에 따라 실시되는 평가 대상 간 중복 최소화 노력 필요, 재정성과관리 결과를 재정 운용에 반영하고, 또 국민에게 알기 쉽게 홍보할 수 있도록 공개하기 위한 지속적 인 조치 필요\n",
            "<eos> 추가 : 국가재정법상 재정사업 평가인 재정사업 자율평가의 대상, 범위, 효과, 개편 등은 지속적으로 논의되어야 하며, 개별 법령에 따라 실시되는 평가 대상 간 중복 최소화 노력 필요하며, 재정성과관리 결과를 재정 운용에 반영하고, 또 국민에게 알기 쉽게 홍보할 수 있도록 공개하기 위한 지속적인 조치 필요\n",
            "------------------------------\n",
            "74\n",
            "2007년과 2021년에 각각 「국가재정법」이 개정되면서 성과관리 제도는 어떻게 강화되고 구체화되었으며, 이 개정의 주된 목적은 무엇인가?\n",
            "--------\n",
            "# 재정성과관리제도  \n",
            "다. 재정성과관리는 단순 예산·결산 중심에서 벗어나  \n",
            "재정을 결과 또는 산출 지향적으로 운영하는 것으로, 산출의 우선순위를 명확하게 하는 한편 국민에게 재정이 하는 일을 보다 알기  \n",
            "쉽게 설명할 수 있기에 중요하다.  \n",
            "2021년 「국가재정법」 개정으로 성과 중심의 재정 운용의 법제도 근거가 마련되어, 한층 재정성과관리가 강화될 것으로 전망된다. 이\n",
            "성 확보 및 책임성 향상에 기여  \n",
            "‣ 정부는 「국가재정법」 개정(2021)을 통해 이전까지의 재정성과관리 체계 운영 결과를 종합하고 발전시킬  \n",
            "수 있도록 개선  \n",
            "-  과거의 재정성과관리는 업무를 체계화하고 인프라를 구축하였다는 의의가 있으나, 형식화, 제도적 분산 등의  \n",
            "한계를 노출  \n",
            "-  2021년도 법률에서는 성과지향적이고 투명한 재정운용을 위해  \n",
            "①성과관리의 내용을 성과목표관리 및 성과평가로 구체화\n",
            "‣ 우리나라는 예산안에 성과계획서를 제출하고 국가결산보고서 첨부서류로 성과보고서를 제출하도록 하고  \n",
            "있으나 성과관리의 실효성 강화를 위한 방향을 논의할 시점  \n",
            "-  정부는 2021년 「국가재정법」 개정으로 성과 중심 재정운용 강화를 위해 성과관리를 위한 별도의 장을 신설하  \n",
            "고 성과관리 규정을 정비  \n",
            "-  성과관리를 강화하기 위한 재정사업 평가 개편, 지원 인프라 체계 등에 대한 논의를 통해 성과관리의 실효성  \n",
            "을 제고할 수 있음\n",
            "재정관리가 강화될 것으로 전망  \n",
            "-  2021년 「국가재정법」 개정으로, 동 법에 의한 재정사업 평가와 개별 법령에 따라 실시되는 평가 대상 중복이  \n",
            "최소화되도록 하는 규정을 신설하여, 재정성과관리를 위한 재정사업 평가와 개별 법령에 따라 실시되는 평가  \n",
            "간의 관계를 최초로 규정  \n",
            "-----  \n",
            "**FIS** **ISSUE & FOCUS**  \n",
            "**03 Col1**  \n",
            "0 03  \n",
            "1\n",
            "글에서는 지난 5월 발표된 “2021년도 국가결산”의 성과보고서를 중심으로, 우리나라의 재정성과관리 현황을 파악해 보고, 앞으로의  \n",
            "운영 방향은 무엇인지, 국제기구의 논의는 어떻게 진행되고 있는지 살펴봄으로써 재정성과관리를 명료하게 이해해 보도록 한다.  \n",
            "**Col0 Col1**\n",
            "3 2021년도 재정성과관리제도 운영 결과  \n",
            "4 재정성과관리제도의 주요 현안  \n",
            "5 나가며  \n",
            "-----  \n",
            "**FIS** **ISSUE & FOCUS**  \n",
            "정부는 110대 국정과제 중 재정 정상화 및 재정의 지속  \n",
            "가능성 확보를 위해 재정성과관리체계 강화를 제시했\n",
            "\n",
            "--------\n",
            "\n",
            "<eos> 없음 : 2007년 개정으로 성과계획서 제출이 의무화되었고, 2021년 개정으로 성과관리의 내용을 성과목표관리 및 성과평가로 구체화하고 성과관리 규정을 정비하여 성과 중심 재정운용을 강화하고자 했다.\n",
            "<eos> 추가 : 2007년 개정으로 성과계획서 제출이 의무화되었고, 2021년 개정으로 성과관리의 내용을 성과목표관리 및 성과평가로 구체화하고 성과관리 위한 별도의 장을 신설하여 성과 중심 재정운용을 강화하고자 했다.\n",
            "------------------------------\n",
            "77\n",
            "재정관리시스템 구축과 성과관리 개편을 추진하는 주된 목적은 무엇인가?\n",
            "--------\n",
            "①성과관리의 내용을 성과목표관리 및 성과평가로 구체화  \n",
            "②재정사업 성과관리 기본계획 수립, 성과보고서 작성 및 성과평가 근거 마련  \n",
            "③재정사업 성과목표 관리를 위한 추진체계 마련  \n",
            "④성과평가 결과 등을 저장, 활용할 수 있는 성과정보관리시스템 구축·운영  \n",
            "⑤성과목표 관리 결과를 국무회의에 보고하여 성과 중심 재정운용 확대 및 강화  \n",
            "‣ 재정성과관리제도 개선으로 인하여 대폭 성과관리의 효과성이 강화될 것으로 전망\n",
            "## 나가며  \n",
            "**정책적 함의**  \n",
            "‣ 재정운용의 효율성, 책임성 제고를 위한 재정성과관리제도의 개선은 계속되고 있음  \n",
            "-  현 정부는 재정비전2050 수립을 위한 추진 과제로 성과관리 개편 및 재정관리시스템 구축 등을 추진하여 지  \n",
            "속적으로 제도 개선, 인프라 개선을 해나갈 전망  \n",
            "-  재정관리는 어느 한 시점에서 체제를 완비한다고 해서 되는 것이 아니며, 지속적인 제도 개선을 통해 변화하  \n",
            "는 재정 환경에 적응해 나갈 수 있어야 함\n",
            "의 기본 단위, 성과 측정과 보고를 위한 체계 확립  \n",
            "-  전 부처 재정사업에 대해 기관 전략목표-성과지표에 의한 부처의 자율적 성과관리, 재정당국의 감독 및 심층  \n",
            "평가라는 현행 재정사업 관리체계를 구축하여 운영하고 있음  \n",
            "-  이 과정에서 생산되는 정보를 정보화하여 활용할 수 있는 기반을 마련  \n",
            "-  이로 인하여 성과 중심 운영을 위한 제도를 성문화하고, 제반 인프라를 제공할 수 있게 되어 공개를 통한 투명\n",
            "을 제고할 수 있음  \n",
            "**재정성과관리 관련 주요 쟁점은?**  \n",
            "**FOCUS Col1**  \n",
            "-  「국가재정법」상의 재정사업 평가인 재정사업 자율평가의 대상, 범위, 효과, 개편 등은 지속적으로 논의되어야  \n",
            "하며, 개별 법령에 따라 실시되는 평가 대상 간 중복 최소화 노력 필요  \n",
            "-  재정성과관리 결과를 재정 운용에 반영하고, 또 국민에게 알기 쉽게 홍보할 수 있도록 공개하기 위한 지속적  \n",
            "인 조치 필요  \n",
            "**임무비전**\n",
            "목표치를 관리하여 국회에 보고하고 국민에게 공개  \n",
            "-  각 부처는 성과계획서·보고서 외에 재정사업에 대한 자율평가를 수행하며, 재정당국인 기획재정부는 지표가  \n",
            "적정한지 점검하고 개별 재정사업에 대한 평가를 수행할 수 있음  \n",
            "‣ 성과관리의 목적은 정부 재정의 투명성·책임성, 효율성·효과성, 예산재분배 등이 있음  \n",
            "-  사업 전략체계별 재원 배분, 성과목표와 달성도, 주요 수혜자에 대한 정보를 집약적으로 제공하여 투명성 및  \n",
            "책임성 향상\n",
            "**재정사업 자율평가의 전면 개편**  \n",
            "‣ 그간의 재정성과관리제도 변화는 성과관리의 실효성 제고, 환경 변화에 대한 적응, 평가 및 피평가자 피로  \n",
            "도 경감, 기계적인 예산과 성과관리 연동 폐지를 통한 재정사업 구조조정 합리화 등을 목적으로 이루어짐  \n",
            "-  각 부처의 목표 체계와 프로그램 예산체계는 2016년부터 일치하도록 하여 업무 중복을 경감\n",
            "직관적으로 알기 쉽도록 체계화  \n",
            "-  따라서 재정성과관리 체계는 사전 목표에 대한 사후 측정 및 평가, 유사한 사업 묶음 간의 표준화된 비교를  \n",
            "위한 재정사업 평가제도의 발전을 함께 수반  \n",
            "‣ 재정성과관리는 예산의 편성에서 집행, 결산에 이르는 전 과정에서 수행  \n",
            "-  재정성과관리는 예산 편성 과정에서 성과계획서를 작성하면서 시작하며, 이를 바탕으로 연간 성과지표와  \n",
            "목표치를 관리하여 국회에 보고하고 국민에게 공개\n",
            "\n",
            "--------\n",
            "\n",
            "<eos> 없음 : 재정관리시스템 구축과 성과관리 개편을 통해 지속적으로 제도 개선, 인프라 개선을 해나가 재정 운용의 효율성, 책임성을 제고하고자 함\n",
            "<eos> 추가 : 재정관리시스템 구축과 성과관리 개편을 통해 지속적으로 제도 개선, 인프라 개선을 해나가 변화하는 재정 환경에 적응하고, 재정운용의 효율성, 책임성을 제고할 수 있도록 한다.\n",
            "------------------------------\n",
            "80\n",
            "우발부채의 관리는 왜 중요한 이슈로 여겨지는가?\n",
            "--------\n",
            "## 들어가며  \n",
            "**ISSUE Col1**  \n",
            "**왜 우발부채에 주목하는가?**  \n",
            "‣ 국제기준 재정통계 산출에 발생주의(accrual basis)[1)] 회계기준이 적용되면서 미래의 다양한 의제의무  \n",
            "(constructive obligation)[2)]를 포괄하는 우발부채 관리에 대한 중요성 인식  \n",
            "-  기업회계에서는 우발부채 규모가 그리 크지 않아 중요한 요소가 아니지만, 공공부문에서는 재정건전성, 재정\n",
            "사용에 혼란이 있고 분류상 오류가 있는 등 체계적 관리 대안에 대한 논의가 필요한 시점  \n",
            "-  국제적으로 정부의 채무지속가능성분석(DSA)[4)]을 위한 기초자료로 활용되는 등 주요하게 인식되는 추세와  \n",
            "비교해 우리나라에서는 아직까지 체계적으로 다뤄지지 않고 있음  \n",
            "0 FOCUS **우발부채 관련 주요 쟁점은?**  \n",
            "0 FOCUS  \n",
            "‣ 우발부채 개념 및 용어 사용의 혼란, 우발부채 분류기준 재검토, 새로운 분류기준 정립\n",
            "**FIS** **ISSUE & FOCUS**  \n",
            "최근 국제기준의 재정통계 적용과 관련해 우발부채에 관한 구체적 논의가 진행 중이다. 우발부  \n",
            "채의 관리는 지속가능한 재정운영 차원에서 중요한 이슈인데, 이는 미래의 다양한 의제의무를\n",
            "우발부채 관리의 중요성에 대해 새롭게 인식할 수 있게 되기를 기대한다.  \n",
            "**01 Col1**  \n",
            "0 01  \n",
            "1\n",
            "다고 여겨 정부의 계약상 부채를 초래하지 않는 것으로 간주하며, 우발부채로 인식  \n",
            "‣ 미래사회보장급여에 대한 순의무는 계약상의 부채는 아니나 미래 발생 비용으로 여겨지는 사회보장급여를  \n",
            "의미  \n",
            "-  미래사회보장급여에 대한 순의무는 현행법과 규정에 따라 이미 가입자가 획득한 미래 급여의 현재가치에서  \n",
            "현행법과 규정에 따른 사회보장제도의 미래보험료의 순현재가치를 차감한 것을 인식\n",
            "\n",
            "--------\n",
            "\n",
            "<eos> 없음 : 우발부채의 관리가 지속 가능한 재정 운영 차원에서 중요한 이슈로 여겨지기 때문이다.\n",
            "<eos> 추가 : 우발부채의 관리가 지속가능한 재정운영 차원에서 중요한 이슈로 여겨지기 때문이다.\n",
            "------------------------------\n"
          ]
        }
      ]
    },
    {
      "cell_type": "code",
      "source": [],
      "metadata": {
        "id": "YCCR3pVzxYRm"
      },
      "execution_count": null,
      "outputs": []
    }
  ],
  "metadata": {
    "accelerator": "GPU",
    "colab": {
      "collapsed_sections": [
        "AFuh6k7hD47P"
      ],
      "gpuType": "A100",
      "machine_shape": "hm",
      "provenance": []
    },
    "kernelspec": {
      "display_name": "Python 3",
      "name": "python3"
    },
    "language_info": {
      "codemirror_mode": {
        "name": "ipython",
        "version": 3
      },
      "file_extension": ".py",
      "mimetype": "text/x-python",
      "name": "python",
      "nbconvert_exporter": "python",
      "pygments_lexer": "ipython3",
      "version": "3.8.12"
    },
    "widgets": {
      "application/vnd.jupyter.widget-state+json": {
        "96f98a829a664612ba1ca9e3125aac71": {
          "model_module": "@jupyter-widgets/controls",
          "model_name": "HBoxModel",
          "model_module_version": "1.5.0",
          "state": {
            "_dom_classes": [],
            "_model_module": "@jupyter-widgets/controls",
            "_model_module_version": "1.5.0",
            "_model_name": "HBoxModel",
            "_view_count": null,
            "_view_module": "@jupyter-widgets/controls",
            "_view_module_version": "1.5.0",
            "_view_name": "HBoxView",
            "box_style": "",
            "children": [
              "IPY_MODEL_c71b4631879a4a6b85c53086ee2f1b54",
              "IPY_MODEL_5952c439c93044a0833c61f52bd3c2be",
              "IPY_MODEL_e5fd15482d144c8ea3f50641bb1dcce3"
            ],
            "layout": "IPY_MODEL_dd8d1c79ded647f3a7c4368ffaa3a087"
          }
        },
        "c71b4631879a4a6b85c53086ee2f1b54": {
          "model_module": "@jupyter-widgets/controls",
          "model_name": "HTMLModel",
          "model_module_version": "1.5.0",
          "state": {
            "_dom_classes": [],
            "_model_module": "@jupyter-widgets/controls",
            "_model_module_version": "1.5.0",
            "_model_name": "HTMLModel",
            "_view_count": null,
            "_view_module": "@jupyter-widgets/controls",
            "_view_module_version": "1.5.0",
            "_view_name": "HTMLView",
            "description": "",
            "description_tooltip": null,
            "layout": "IPY_MODEL_ba66e91cf758409c92e9c3af4d1715e6",
            "placeholder": "​",
            "style": "IPY_MODEL_f5576153815a4252899774bcc57189e8",
            "value": "Loading checkpoint shards: 100%"
          }
        },
        "5952c439c93044a0833c61f52bd3c2be": {
          "model_module": "@jupyter-widgets/controls",
          "model_name": "FloatProgressModel",
          "model_module_version": "1.5.0",
          "state": {
            "_dom_classes": [],
            "_model_module": "@jupyter-widgets/controls",
            "_model_module_version": "1.5.0",
            "_model_name": "FloatProgressModel",
            "_view_count": null,
            "_view_module": "@jupyter-widgets/controls",
            "_view_module_version": "1.5.0",
            "_view_name": "ProgressView",
            "bar_style": "success",
            "description": "",
            "description_tooltip": null,
            "layout": "IPY_MODEL_ba98ee6e671e4580a625085eee0d46ef",
            "max": 10,
            "min": 0,
            "orientation": "horizontal",
            "style": "IPY_MODEL_d62cddf0772c4adc9ecac92cf2574bb5",
            "value": 10
          }
        },
        "e5fd15482d144c8ea3f50641bb1dcce3": {
          "model_module": "@jupyter-widgets/controls",
          "model_name": "HTMLModel",
          "model_module_version": "1.5.0",
          "state": {
            "_dom_classes": [],
            "_model_module": "@jupyter-widgets/controls",
            "_model_module_version": "1.5.0",
            "_model_name": "HTMLModel",
            "_view_count": null,
            "_view_module": "@jupyter-widgets/controls",
            "_view_module_version": "1.5.0",
            "_view_name": "HTMLView",
            "description": "",
            "description_tooltip": null,
            "layout": "IPY_MODEL_151a124fbfa8449aba164554530b7d53",
            "placeholder": "​",
            "style": "IPY_MODEL_e09965f4c4fb461b90c1bb781c7d1ce1",
            "value": " 10/10 [00:15&lt;00:00,  1.36s/it]"
          }
        },
        "dd8d1c79ded647f3a7c4368ffaa3a087": {
          "model_module": "@jupyter-widgets/base",
          "model_name": "LayoutModel",
          "model_module_version": "1.2.0",
          "state": {
            "_model_module": "@jupyter-widgets/base",
            "_model_module_version": "1.2.0",
            "_model_name": "LayoutModel",
            "_view_count": null,
            "_view_module": "@jupyter-widgets/base",
            "_view_module_version": "1.2.0",
            "_view_name": "LayoutView",
            "align_content": null,
            "align_items": null,
            "align_self": null,
            "border": null,
            "bottom": null,
            "display": null,
            "flex": null,
            "flex_flow": null,
            "grid_area": null,
            "grid_auto_columns": null,
            "grid_auto_flow": null,
            "grid_auto_rows": null,
            "grid_column": null,
            "grid_gap": null,
            "grid_row": null,
            "grid_template_areas": null,
            "grid_template_columns": null,
            "grid_template_rows": null,
            "height": null,
            "justify_content": null,
            "justify_items": null,
            "left": null,
            "margin": null,
            "max_height": null,
            "max_width": null,
            "min_height": null,
            "min_width": null,
            "object_fit": null,
            "object_position": null,
            "order": null,
            "overflow": null,
            "overflow_x": null,
            "overflow_y": null,
            "padding": null,
            "right": null,
            "top": null,
            "visibility": null,
            "width": null
          }
        },
        "ba66e91cf758409c92e9c3af4d1715e6": {
          "model_module": "@jupyter-widgets/base",
          "model_name": "LayoutModel",
          "model_module_version": "1.2.0",
          "state": {
            "_model_module": "@jupyter-widgets/base",
            "_model_module_version": "1.2.0",
            "_model_name": "LayoutModel",
            "_view_count": null,
            "_view_module": "@jupyter-widgets/base",
            "_view_module_version": "1.2.0",
            "_view_name": "LayoutView",
            "align_content": null,
            "align_items": null,
            "align_self": null,
            "border": null,
            "bottom": null,
            "display": null,
            "flex": null,
            "flex_flow": null,
            "grid_area": null,
            "grid_auto_columns": null,
            "grid_auto_flow": null,
            "grid_auto_rows": null,
            "grid_column": null,
            "grid_gap": null,
            "grid_row": null,
            "grid_template_areas": null,
            "grid_template_columns": null,
            "grid_template_rows": null,
            "height": null,
            "justify_content": null,
            "justify_items": null,
            "left": null,
            "margin": null,
            "max_height": null,
            "max_width": null,
            "min_height": null,
            "min_width": null,
            "object_fit": null,
            "object_position": null,
            "order": null,
            "overflow": null,
            "overflow_x": null,
            "overflow_y": null,
            "padding": null,
            "right": null,
            "top": null,
            "visibility": null,
            "width": null
          }
        },
        "f5576153815a4252899774bcc57189e8": {
          "model_module": "@jupyter-widgets/controls",
          "model_name": "DescriptionStyleModel",
          "model_module_version": "1.5.0",
          "state": {
            "_model_module": "@jupyter-widgets/controls",
            "_model_module_version": "1.5.0",
            "_model_name": "DescriptionStyleModel",
            "_view_count": null,
            "_view_module": "@jupyter-widgets/base",
            "_view_module_version": "1.2.0",
            "_view_name": "StyleView",
            "description_width": ""
          }
        },
        "ba98ee6e671e4580a625085eee0d46ef": {
          "model_module": "@jupyter-widgets/base",
          "model_name": "LayoutModel",
          "model_module_version": "1.2.0",
          "state": {
            "_model_module": "@jupyter-widgets/base",
            "_model_module_version": "1.2.0",
            "_model_name": "LayoutModel",
            "_view_count": null,
            "_view_module": "@jupyter-widgets/base",
            "_view_module_version": "1.2.0",
            "_view_name": "LayoutView",
            "align_content": null,
            "align_items": null,
            "align_self": null,
            "border": null,
            "bottom": null,
            "display": null,
            "flex": null,
            "flex_flow": null,
            "grid_area": null,
            "grid_auto_columns": null,
            "grid_auto_flow": null,
            "grid_auto_rows": null,
            "grid_column": null,
            "grid_gap": null,
            "grid_row": null,
            "grid_template_areas": null,
            "grid_template_columns": null,
            "grid_template_rows": null,
            "height": null,
            "justify_content": null,
            "justify_items": null,
            "left": null,
            "margin": null,
            "max_height": null,
            "max_width": null,
            "min_height": null,
            "min_width": null,
            "object_fit": null,
            "object_position": null,
            "order": null,
            "overflow": null,
            "overflow_x": null,
            "overflow_y": null,
            "padding": null,
            "right": null,
            "top": null,
            "visibility": null,
            "width": null
          }
        },
        "d62cddf0772c4adc9ecac92cf2574bb5": {
          "model_module": "@jupyter-widgets/controls",
          "model_name": "ProgressStyleModel",
          "model_module_version": "1.5.0",
          "state": {
            "_model_module": "@jupyter-widgets/controls",
            "_model_module_version": "1.5.0",
            "_model_name": "ProgressStyleModel",
            "_view_count": null,
            "_view_module": "@jupyter-widgets/base",
            "_view_module_version": "1.2.0",
            "_view_name": "StyleView",
            "bar_color": null,
            "description_width": ""
          }
        },
        "151a124fbfa8449aba164554530b7d53": {
          "model_module": "@jupyter-widgets/base",
          "model_name": "LayoutModel",
          "model_module_version": "1.2.0",
          "state": {
            "_model_module": "@jupyter-widgets/base",
            "_model_module_version": "1.2.0",
            "_model_name": "LayoutModel",
            "_view_count": null,
            "_view_module": "@jupyter-widgets/base",
            "_view_module_version": "1.2.0",
            "_view_name": "LayoutView",
            "align_content": null,
            "align_items": null,
            "align_self": null,
            "border": null,
            "bottom": null,
            "display": null,
            "flex": null,
            "flex_flow": null,
            "grid_area": null,
            "grid_auto_columns": null,
            "grid_auto_flow": null,
            "grid_auto_rows": null,
            "grid_column": null,
            "grid_gap": null,
            "grid_row": null,
            "grid_template_areas": null,
            "grid_template_columns": null,
            "grid_template_rows": null,
            "height": null,
            "justify_content": null,
            "justify_items": null,
            "left": null,
            "margin": null,
            "max_height": null,
            "max_width": null,
            "min_height": null,
            "min_width": null,
            "object_fit": null,
            "object_position": null,
            "order": null,
            "overflow": null,
            "overflow_x": null,
            "overflow_y": null,
            "padding": null,
            "right": null,
            "top": null,
            "visibility": null,
            "width": null
          }
        },
        "e09965f4c4fb461b90c1bb781c7d1ce1": {
          "model_module": "@jupyter-widgets/controls",
          "model_name": "DescriptionStyleModel",
          "model_module_version": "1.5.0",
          "state": {
            "_model_module": "@jupyter-widgets/controls",
            "_model_module_version": "1.5.0",
            "_model_name": "DescriptionStyleModel",
            "_view_count": null,
            "_view_module": "@jupyter-widgets/base",
            "_view_module_version": "1.2.0",
            "_view_name": "StyleView",
            "description_width": ""
          }
        },
        "7b044cc8bc364ff2b32e08586bbe4c38": {
          "model_module": "@jupyter-widgets/controls",
          "model_name": "HBoxModel",
          "model_module_version": "1.5.0",
          "state": {
            "_dom_classes": [],
            "_model_module": "@jupyter-widgets/controls",
            "_model_module_version": "1.5.0",
            "_model_name": "HBoxModel",
            "_view_count": null,
            "_view_module": "@jupyter-widgets/controls",
            "_view_module_version": "1.5.0",
            "_view_name": "HBoxView",
            "box_style": "",
            "children": [
              "IPY_MODEL_bc7a570fc4724a1599ef4154cf710b2c",
              "IPY_MODEL_536dc6f801c944558b604f4f79a66887",
              "IPY_MODEL_5a1d35a3b66a4359858fce79341f23d8"
            ],
            "layout": "IPY_MODEL_8d085c36cc10492982a3efcdd15934fe"
          }
        },
        "bc7a570fc4724a1599ef4154cf710b2c": {
          "model_module": "@jupyter-widgets/controls",
          "model_name": "HTMLModel",
          "model_module_version": "1.5.0",
          "state": {
            "_dom_classes": [],
            "_model_module": "@jupyter-widgets/controls",
            "_model_module_version": "1.5.0",
            "_model_name": "HTMLModel",
            "_view_count": null,
            "_view_module": "@jupyter-widgets/controls",
            "_view_module_version": "1.5.0",
            "_view_name": "HTMLView",
            "description": "",
            "description_tooltip": null,
            "layout": "IPY_MODEL_1fd5e086962e40db8017efadd7233ba5",
            "placeholder": "​",
            "style": "IPY_MODEL_9fb3e3265e554947b9d5eb9e80ad3238",
            "value": "README.md: 100%"
          }
        },
        "536dc6f801c944558b604f4f79a66887": {
          "model_module": "@jupyter-widgets/controls",
          "model_name": "FloatProgressModel",
          "model_module_version": "1.5.0",
          "state": {
            "_dom_classes": [],
            "_model_module": "@jupyter-widgets/controls",
            "_model_module_version": "1.5.0",
            "_model_name": "FloatProgressModel",
            "_view_count": null,
            "_view_module": "@jupyter-widgets/controls",
            "_view_module_version": "1.5.0",
            "_view_name": "ProgressView",
            "bar_style": "success",
            "description": "",
            "description_tooltip": null,
            "layout": "IPY_MODEL_9fbda4c700544eb4ad0a40a4a84e8202",
            "max": 544,
            "min": 0,
            "orientation": "horizontal",
            "style": "IPY_MODEL_339cc73737c1420db8344fd56cb7bdbc",
            "value": 544
          }
        },
        "5a1d35a3b66a4359858fce79341f23d8": {
          "model_module": "@jupyter-widgets/controls",
          "model_name": "HTMLModel",
          "model_module_version": "1.5.0",
          "state": {
            "_dom_classes": [],
            "_model_module": "@jupyter-widgets/controls",
            "_model_module_version": "1.5.0",
            "_model_name": "HTMLModel",
            "_view_count": null,
            "_view_module": "@jupyter-widgets/controls",
            "_view_module_version": "1.5.0",
            "_view_name": "HTMLView",
            "description": "",
            "description_tooltip": null,
            "layout": "IPY_MODEL_ee7de3f423d14fd3bce2afa396411d15",
            "placeholder": "​",
            "style": "IPY_MODEL_293228d9077348a9b5309dd3da915432",
            "value": " 544/544 [00:00&lt;00:00, 45.3kB/s]"
          }
        },
        "8d085c36cc10492982a3efcdd15934fe": {
          "model_module": "@jupyter-widgets/base",
          "model_name": "LayoutModel",
          "model_module_version": "1.2.0",
          "state": {
            "_model_module": "@jupyter-widgets/base",
            "_model_module_version": "1.2.0",
            "_model_name": "LayoutModel",
            "_view_count": null,
            "_view_module": "@jupyter-widgets/base",
            "_view_module_version": "1.2.0",
            "_view_name": "LayoutView",
            "align_content": null,
            "align_items": null,
            "align_self": null,
            "border": null,
            "bottom": null,
            "display": null,
            "flex": null,
            "flex_flow": null,
            "grid_area": null,
            "grid_auto_columns": null,
            "grid_auto_flow": null,
            "grid_auto_rows": null,
            "grid_column": null,
            "grid_gap": null,
            "grid_row": null,
            "grid_template_areas": null,
            "grid_template_columns": null,
            "grid_template_rows": null,
            "height": null,
            "justify_content": null,
            "justify_items": null,
            "left": null,
            "margin": null,
            "max_height": null,
            "max_width": null,
            "min_height": null,
            "min_width": null,
            "object_fit": null,
            "object_position": null,
            "order": null,
            "overflow": null,
            "overflow_x": null,
            "overflow_y": null,
            "padding": null,
            "right": null,
            "top": null,
            "visibility": null,
            "width": null
          }
        },
        "1fd5e086962e40db8017efadd7233ba5": {
          "model_module": "@jupyter-widgets/base",
          "model_name": "LayoutModel",
          "model_module_version": "1.2.0",
          "state": {
            "_model_module": "@jupyter-widgets/base",
            "_model_module_version": "1.2.0",
            "_model_name": "LayoutModel",
            "_view_count": null,
            "_view_module": "@jupyter-widgets/base",
            "_view_module_version": "1.2.0",
            "_view_name": "LayoutView",
            "align_content": null,
            "align_items": null,
            "align_self": null,
            "border": null,
            "bottom": null,
            "display": null,
            "flex": null,
            "flex_flow": null,
            "grid_area": null,
            "grid_auto_columns": null,
            "grid_auto_flow": null,
            "grid_auto_rows": null,
            "grid_column": null,
            "grid_gap": null,
            "grid_row": null,
            "grid_template_areas": null,
            "grid_template_columns": null,
            "grid_template_rows": null,
            "height": null,
            "justify_content": null,
            "justify_items": null,
            "left": null,
            "margin": null,
            "max_height": null,
            "max_width": null,
            "min_height": null,
            "min_width": null,
            "object_fit": null,
            "object_position": null,
            "order": null,
            "overflow": null,
            "overflow_x": null,
            "overflow_y": null,
            "padding": null,
            "right": null,
            "top": null,
            "visibility": null,
            "width": null
          }
        },
        "9fb3e3265e554947b9d5eb9e80ad3238": {
          "model_module": "@jupyter-widgets/controls",
          "model_name": "DescriptionStyleModel",
          "model_module_version": "1.5.0",
          "state": {
            "_model_module": "@jupyter-widgets/controls",
            "_model_module_version": "1.5.0",
            "_model_name": "DescriptionStyleModel",
            "_view_count": null,
            "_view_module": "@jupyter-widgets/base",
            "_view_module_version": "1.2.0",
            "_view_name": "StyleView",
            "description_width": ""
          }
        },
        "9fbda4c700544eb4ad0a40a4a84e8202": {
          "model_module": "@jupyter-widgets/base",
          "model_name": "LayoutModel",
          "model_module_version": "1.2.0",
          "state": {
            "_model_module": "@jupyter-widgets/base",
            "_model_module_version": "1.2.0",
            "_model_name": "LayoutModel",
            "_view_count": null,
            "_view_module": "@jupyter-widgets/base",
            "_view_module_version": "1.2.0",
            "_view_name": "LayoutView",
            "align_content": null,
            "align_items": null,
            "align_self": null,
            "border": null,
            "bottom": null,
            "display": null,
            "flex": null,
            "flex_flow": null,
            "grid_area": null,
            "grid_auto_columns": null,
            "grid_auto_flow": null,
            "grid_auto_rows": null,
            "grid_column": null,
            "grid_gap": null,
            "grid_row": null,
            "grid_template_areas": null,
            "grid_template_columns": null,
            "grid_template_rows": null,
            "height": null,
            "justify_content": null,
            "justify_items": null,
            "left": null,
            "margin": null,
            "max_height": null,
            "max_width": null,
            "min_height": null,
            "min_width": null,
            "object_fit": null,
            "object_position": null,
            "order": null,
            "overflow": null,
            "overflow_x": null,
            "overflow_y": null,
            "padding": null,
            "right": null,
            "top": null,
            "visibility": null,
            "width": null
          }
        },
        "339cc73737c1420db8344fd56cb7bdbc": {
          "model_module": "@jupyter-widgets/controls",
          "model_name": "ProgressStyleModel",
          "model_module_version": "1.5.0",
          "state": {
            "_model_module": "@jupyter-widgets/controls",
            "_model_module_version": "1.5.0",
            "_model_name": "ProgressStyleModel",
            "_view_count": null,
            "_view_module": "@jupyter-widgets/base",
            "_view_module_version": "1.2.0",
            "_view_name": "StyleView",
            "bar_color": null,
            "description_width": ""
          }
        },
        "ee7de3f423d14fd3bce2afa396411d15": {
          "model_module": "@jupyter-widgets/base",
          "model_name": "LayoutModel",
          "model_module_version": "1.2.0",
          "state": {
            "_model_module": "@jupyter-widgets/base",
            "_model_module_version": "1.2.0",
            "_model_name": "LayoutModel",
            "_view_count": null,
            "_view_module": "@jupyter-widgets/base",
            "_view_module_version": "1.2.0",
            "_view_name": "LayoutView",
            "align_content": null,
            "align_items": null,
            "align_self": null,
            "border": null,
            "bottom": null,
            "display": null,
            "flex": null,
            "flex_flow": null,
            "grid_area": null,
            "grid_auto_columns": null,
            "grid_auto_flow": null,
            "grid_auto_rows": null,
            "grid_column": null,
            "grid_gap": null,
            "grid_row": null,
            "grid_template_areas": null,
            "grid_template_columns": null,
            "grid_template_rows": null,
            "height": null,
            "justify_content": null,
            "justify_items": null,
            "left": null,
            "margin": null,
            "max_height": null,
            "max_width": null,
            "min_height": null,
            "min_width": null,
            "object_fit": null,
            "object_position": null,
            "order": null,
            "overflow": null,
            "overflow_x": null,
            "overflow_y": null,
            "padding": null,
            "right": null,
            "top": null,
            "visibility": null,
            "width": null
          }
        },
        "293228d9077348a9b5309dd3da915432": {
          "model_module": "@jupyter-widgets/controls",
          "model_name": "DescriptionStyleModel",
          "model_module_version": "1.5.0",
          "state": {
            "_model_module": "@jupyter-widgets/controls",
            "_model_module_version": "1.5.0",
            "_model_name": "DescriptionStyleModel",
            "_view_count": null,
            "_view_module": "@jupyter-widgets/base",
            "_view_module_version": "1.2.0",
            "_view_name": "StyleView",
            "description_width": ""
          }
        },
        "c93d4a3201994a7ca8ae4d99fbb5fa39": {
          "model_module": "@jupyter-widgets/controls",
          "model_name": "HBoxModel",
          "model_module_version": "1.5.0",
          "state": {
            "_dom_classes": [],
            "_model_module": "@jupyter-widgets/controls",
            "_model_module_version": "1.5.0",
            "_model_name": "HBoxModel",
            "_view_count": null,
            "_view_module": "@jupyter-widgets/controls",
            "_view_module_version": "1.5.0",
            "_view_name": "HBoxView",
            "box_style": "",
            "children": [
              "IPY_MODEL_a51f6abb797f448eb6a687fbde98afec",
              "IPY_MODEL_db361fd04ee947e5a90f315d4e419881",
              "IPY_MODEL_368957c96e6f495fbea6f11dbac616ef"
            ],
            "layout": "IPY_MODEL_db6239d8cc2043c39b318c06a496d4a8"
          }
        },
        "a51f6abb797f448eb6a687fbde98afec": {
          "model_module": "@jupyter-widgets/controls",
          "model_name": "HTMLModel",
          "model_module_version": "1.5.0",
          "state": {
            "_dom_classes": [],
            "_model_module": "@jupyter-widgets/controls",
            "_model_module_version": "1.5.0",
            "_model_name": "HTMLModel",
            "_view_count": null,
            "_view_module": "@jupyter-widgets/controls",
            "_view_module_version": "1.5.0",
            "_view_name": "HTMLView",
            "description": "",
            "description_tooltip": null,
            "layout": "IPY_MODEL_bedd5d9c2c704df4adfe6a4c383b6919",
            "placeholder": "​",
            "style": "IPY_MODEL_32244210c5a54e4b836026877e3b7c44",
            "value": "train-00000-of-00001.parquet: 100%"
          }
        },
        "db361fd04ee947e5a90f315d4e419881": {
          "model_module": "@jupyter-widgets/controls",
          "model_name": "FloatProgressModel",
          "model_module_version": "1.5.0",
          "state": {
            "_dom_classes": [],
            "_model_module": "@jupyter-widgets/controls",
            "_model_module_version": "1.5.0",
            "_model_name": "FloatProgressModel",
            "_view_count": null,
            "_view_module": "@jupyter-widgets/controls",
            "_view_module_version": "1.5.0",
            "_view_name": "ProgressView",
            "bar_style": "success",
            "description": "",
            "description_tooltip": null,
            "layout": "IPY_MODEL_c3adac1d6cc444639db83e6c749fcb6f",
            "max": 1033698,
            "min": 0,
            "orientation": "horizontal",
            "style": "IPY_MODEL_9682e0dbd97d42098623ce6c0844f977",
            "value": 1033698
          }
        },
        "368957c96e6f495fbea6f11dbac616ef": {
          "model_module": "@jupyter-widgets/controls",
          "model_name": "HTMLModel",
          "model_module_version": "1.5.0",
          "state": {
            "_dom_classes": [],
            "_model_module": "@jupyter-widgets/controls",
            "_model_module_version": "1.5.0",
            "_model_name": "HTMLModel",
            "_view_count": null,
            "_view_module": "@jupyter-widgets/controls",
            "_view_module_version": "1.5.0",
            "_view_name": "HTMLView",
            "description": "",
            "description_tooltip": null,
            "layout": "IPY_MODEL_ee77588302684a80b8db206f16b6eded",
            "placeholder": "​",
            "style": "IPY_MODEL_cbc528346e94441aa5d5b404bc35041e",
            "value": " 1.03M/1.03M [00:00&lt;00:00, 14.0MB/s]"
          }
        },
        "db6239d8cc2043c39b318c06a496d4a8": {
          "model_module": "@jupyter-widgets/base",
          "model_name": "LayoutModel",
          "model_module_version": "1.2.0",
          "state": {
            "_model_module": "@jupyter-widgets/base",
            "_model_module_version": "1.2.0",
            "_model_name": "LayoutModel",
            "_view_count": null,
            "_view_module": "@jupyter-widgets/base",
            "_view_module_version": "1.2.0",
            "_view_name": "LayoutView",
            "align_content": null,
            "align_items": null,
            "align_self": null,
            "border": null,
            "bottom": null,
            "display": null,
            "flex": null,
            "flex_flow": null,
            "grid_area": null,
            "grid_auto_columns": null,
            "grid_auto_flow": null,
            "grid_auto_rows": null,
            "grid_column": null,
            "grid_gap": null,
            "grid_row": null,
            "grid_template_areas": null,
            "grid_template_columns": null,
            "grid_template_rows": null,
            "height": null,
            "justify_content": null,
            "justify_items": null,
            "left": null,
            "margin": null,
            "max_height": null,
            "max_width": null,
            "min_height": null,
            "min_width": null,
            "object_fit": null,
            "object_position": null,
            "order": null,
            "overflow": null,
            "overflow_x": null,
            "overflow_y": null,
            "padding": null,
            "right": null,
            "top": null,
            "visibility": null,
            "width": null
          }
        },
        "bedd5d9c2c704df4adfe6a4c383b6919": {
          "model_module": "@jupyter-widgets/base",
          "model_name": "LayoutModel",
          "model_module_version": "1.2.0",
          "state": {
            "_model_module": "@jupyter-widgets/base",
            "_model_module_version": "1.2.0",
            "_model_name": "LayoutModel",
            "_view_count": null,
            "_view_module": "@jupyter-widgets/base",
            "_view_module_version": "1.2.0",
            "_view_name": "LayoutView",
            "align_content": null,
            "align_items": null,
            "align_self": null,
            "border": null,
            "bottom": null,
            "display": null,
            "flex": null,
            "flex_flow": null,
            "grid_area": null,
            "grid_auto_columns": null,
            "grid_auto_flow": null,
            "grid_auto_rows": null,
            "grid_column": null,
            "grid_gap": null,
            "grid_row": null,
            "grid_template_areas": null,
            "grid_template_columns": null,
            "grid_template_rows": null,
            "height": null,
            "justify_content": null,
            "justify_items": null,
            "left": null,
            "margin": null,
            "max_height": null,
            "max_width": null,
            "min_height": null,
            "min_width": null,
            "object_fit": null,
            "object_position": null,
            "order": null,
            "overflow": null,
            "overflow_x": null,
            "overflow_y": null,
            "padding": null,
            "right": null,
            "top": null,
            "visibility": null,
            "width": null
          }
        },
        "32244210c5a54e4b836026877e3b7c44": {
          "model_module": "@jupyter-widgets/controls",
          "model_name": "DescriptionStyleModel",
          "model_module_version": "1.5.0",
          "state": {
            "_model_module": "@jupyter-widgets/controls",
            "_model_module_version": "1.5.0",
            "_model_name": "DescriptionStyleModel",
            "_view_count": null,
            "_view_module": "@jupyter-widgets/base",
            "_view_module_version": "1.2.0",
            "_view_name": "StyleView",
            "description_width": ""
          }
        },
        "c3adac1d6cc444639db83e6c749fcb6f": {
          "model_module": "@jupyter-widgets/base",
          "model_name": "LayoutModel",
          "model_module_version": "1.2.0",
          "state": {
            "_model_module": "@jupyter-widgets/base",
            "_model_module_version": "1.2.0",
            "_model_name": "LayoutModel",
            "_view_count": null,
            "_view_module": "@jupyter-widgets/base",
            "_view_module_version": "1.2.0",
            "_view_name": "LayoutView",
            "align_content": null,
            "align_items": null,
            "align_self": null,
            "border": null,
            "bottom": null,
            "display": null,
            "flex": null,
            "flex_flow": null,
            "grid_area": null,
            "grid_auto_columns": null,
            "grid_auto_flow": null,
            "grid_auto_rows": null,
            "grid_column": null,
            "grid_gap": null,
            "grid_row": null,
            "grid_template_areas": null,
            "grid_template_columns": null,
            "grid_template_rows": null,
            "height": null,
            "justify_content": null,
            "justify_items": null,
            "left": null,
            "margin": null,
            "max_height": null,
            "max_width": null,
            "min_height": null,
            "min_width": null,
            "object_fit": null,
            "object_position": null,
            "order": null,
            "overflow": null,
            "overflow_x": null,
            "overflow_y": null,
            "padding": null,
            "right": null,
            "top": null,
            "visibility": null,
            "width": null
          }
        },
        "9682e0dbd97d42098623ce6c0844f977": {
          "model_module": "@jupyter-widgets/controls",
          "model_name": "ProgressStyleModel",
          "model_module_version": "1.5.0",
          "state": {
            "_model_module": "@jupyter-widgets/controls",
            "_model_module_version": "1.5.0",
            "_model_name": "ProgressStyleModel",
            "_view_count": null,
            "_view_module": "@jupyter-widgets/base",
            "_view_module_version": "1.2.0",
            "_view_name": "StyleView",
            "bar_color": null,
            "description_width": ""
          }
        },
        "ee77588302684a80b8db206f16b6eded": {
          "model_module": "@jupyter-widgets/base",
          "model_name": "LayoutModel",
          "model_module_version": "1.2.0",
          "state": {
            "_model_module": "@jupyter-widgets/base",
            "_model_module_version": "1.2.0",
            "_model_name": "LayoutModel",
            "_view_count": null,
            "_view_module": "@jupyter-widgets/base",
            "_view_module_version": "1.2.0",
            "_view_name": "LayoutView",
            "align_content": null,
            "align_items": null,
            "align_self": null,
            "border": null,
            "bottom": null,
            "display": null,
            "flex": null,
            "flex_flow": null,
            "grid_area": null,
            "grid_auto_columns": null,
            "grid_auto_flow": null,
            "grid_auto_rows": null,
            "grid_column": null,
            "grid_gap": null,
            "grid_row": null,
            "grid_template_areas": null,
            "grid_template_columns": null,
            "grid_template_rows": null,
            "height": null,
            "justify_content": null,
            "justify_items": null,
            "left": null,
            "margin": null,
            "max_height": null,
            "max_width": null,
            "min_height": null,
            "min_width": null,
            "object_fit": null,
            "object_position": null,
            "order": null,
            "overflow": null,
            "overflow_x": null,
            "overflow_y": null,
            "padding": null,
            "right": null,
            "top": null,
            "visibility": null,
            "width": null
          }
        },
        "cbc528346e94441aa5d5b404bc35041e": {
          "model_module": "@jupyter-widgets/controls",
          "model_name": "DescriptionStyleModel",
          "model_module_version": "1.5.0",
          "state": {
            "_model_module": "@jupyter-widgets/controls",
            "_model_module_version": "1.5.0",
            "_model_name": "DescriptionStyleModel",
            "_view_count": null,
            "_view_module": "@jupyter-widgets/base",
            "_view_module_version": "1.2.0",
            "_view_name": "StyleView",
            "description_width": ""
          }
        },
        "b0ae677b730d448bb998e0ec9b68000c": {
          "model_module": "@jupyter-widgets/controls",
          "model_name": "HBoxModel",
          "model_module_version": "1.5.0",
          "state": {
            "_dom_classes": [],
            "_model_module": "@jupyter-widgets/controls",
            "_model_module_version": "1.5.0",
            "_model_name": "HBoxModel",
            "_view_count": null,
            "_view_module": "@jupyter-widgets/controls",
            "_view_module_version": "1.5.0",
            "_view_name": "HBoxView",
            "box_style": "",
            "children": [
              "IPY_MODEL_e75d538db314483b8838a3af3166892a",
              "IPY_MODEL_7355e2e77deb475baf950b53b3f8c938",
              "IPY_MODEL_827f1b33691f465bae451937f38e3123"
            ],
            "layout": "IPY_MODEL_a78f7078f0704454afed2456d66f01fa"
          }
        },
        "e75d538db314483b8838a3af3166892a": {
          "model_module": "@jupyter-widgets/controls",
          "model_name": "HTMLModel",
          "model_module_version": "1.5.0",
          "state": {
            "_dom_classes": [],
            "_model_module": "@jupyter-widgets/controls",
            "_model_module_version": "1.5.0",
            "_model_name": "HTMLModel",
            "_view_count": null,
            "_view_module": "@jupyter-widgets/controls",
            "_view_module_version": "1.5.0",
            "_view_name": "HTMLView",
            "description": "",
            "description_tooltip": null,
            "layout": "IPY_MODEL_10ae94246458486bb154722712bd04c1",
            "placeholder": "​",
            "style": "IPY_MODEL_d9f6d700933841478134653089051394",
            "value": "valid-00000-of-00001.parquet: 100%"
          }
        },
        "7355e2e77deb475baf950b53b3f8c938": {
          "model_module": "@jupyter-widgets/controls",
          "model_name": "FloatProgressModel",
          "model_module_version": "1.5.0",
          "state": {
            "_dom_classes": [],
            "_model_module": "@jupyter-widgets/controls",
            "_model_module_version": "1.5.0",
            "_model_name": "FloatProgressModel",
            "_view_count": null,
            "_view_module": "@jupyter-widgets/controls",
            "_view_module_version": "1.5.0",
            "_view_name": "ProgressView",
            "bar_style": "success",
            "description": "",
            "description_tooltip": null,
            "layout": "IPY_MODEL_9276b6b000244f858b1795e8ffb64d98",
            "max": 262380,
            "min": 0,
            "orientation": "horizontal",
            "style": "IPY_MODEL_998e6bda0f134fbb8f292443c58a3a9b",
            "value": 262380
          }
        },
        "827f1b33691f465bae451937f38e3123": {
          "model_module": "@jupyter-widgets/controls",
          "model_name": "HTMLModel",
          "model_module_version": "1.5.0",
          "state": {
            "_dom_classes": [],
            "_model_module": "@jupyter-widgets/controls",
            "_model_module_version": "1.5.0",
            "_model_name": "HTMLModel",
            "_view_count": null,
            "_view_module": "@jupyter-widgets/controls",
            "_view_module_version": "1.5.0",
            "_view_name": "HTMLView",
            "description": "",
            "description_tooltip": null,
            "layout": "IPY_MODEL_c9822620734f4b6392e78ae664d66473",
            "placeholder": "​",
            "style": "IPY_MODEL_4407e91b6e5d48bcb93915343c3c62e3",
            "value": " 262k/262k [00:00&lt;00:00, 20.6MB/s]"
          }
        },
        "a78f7078f0704454afed2456d66f01fa": {
          "model_module": "@jupyter-widgets/base",
          "model_name": "LayoutModel",
          "model_module_version": "1.2.0",
          "state": {
            "_model_module": "@jupyter-widgets/base",
            "_model_module_version": "1.2.0",
            "_model_name": "LayoutModel",
            "_view_count": null,
            "_view_module": "@jupyter-widgets/base",
            "_view_module_version": "1.2.0",
            "_view_name": "LayoutView",
            "align_content": null,
            "align_items": null,
            "align_self": null,
            "border": null,
            "bottom": null,
            "display": null,
            "flex": null,
            "flex_flow": null,
            "grid_area": null,
            "grid_auto_columns": null,
            "grid_auto_flow": null,
            "grid_auto_rows": null,
            "grid_column": null,
            "grid_gap": null,
            "grid_row": null,
            "grid_template_areas": null,
            "grid_template_columns": null,
            "grid_template_rows": null,
            "height": null,
            "justify_content": null,
            "justify_items": null,
            "left": null,
            "margin": null,
            "max_height": null,
            "max_width": null,
            "min_height": null,
            "min_width": null,
            "object_fit": null,
            "object_position": null,
            "order": null,
            "overflow": null,
            "overflow_x": null,
            "overflow_y": null,
            "padding": null,
            "right": null,
            "top": null,
            "visibility": null,
            "width": null
          }
        },
        "10ae94246458486bb154722712bd04c1": {
          "model_module": "@jupyter-widgets/base",
          "model_name": "LayoutModel",
          "model_module_version": "1.2.0",
          "state": {
            "_model_module": "@jupyter-widgets/base",
            "_model_module_version": "1.2.0",
            "_model_name": "LayoutModel",
            "_view_count": null,
            "_view_module": "@jupyter-widgets/base",
            "_view_module_version": "1.2.0",
            "_view_name": "LayoutView",
            "align_content": null,
            "align_items": null,
            "align_self": null,
            "border": null,
            "bottom": null,
            "display": null,
            "flex": null,
            "flex_flow": null,
            "grid_area": null,
            "grid_auto_columns": null,
            "grid_auto_flow": null,
            "grid_auto_rows": null,
            "grid_column": null,
            "grid_gap": null,
            "grid_row": null,
            "grid_template_areas": null,
            "grid_template_columns": null,
            "grid_template_rows": null,
            "height": null,
            "justify_content": null,
            "justify_items": null,
            "left": null,
            "margin": null,
            "max_height": null,
            "max_width": null,
            "min_height": null,
            "min_width": null,
            "object_fit": null,
            "object_position": null,
            "order": null,
            "overflow": null,
            "overflow_x": null,
            "overflow_y": null,
            "padding": null,
            "right": null,
            "top": null,
            "visibility": null,
            "width": null
          }
        },
        "d9f6d700933841478134653089051394": {
          "model_module": "@jupyter-widgets/controls",
          "model_name": "DescriptionStyleModel",
          "model_module_version": "1.5.0",
          "state": {
            "_model_module": "@jupyter-widgets/controls",
            "_model_module_version": "1.5.0",
            "_model_name": "DescriptionStyleModel",
            "_view_count": null,
            "_view_module": "@jupyter-widgets/base",
            "_view_module_version": "1.2.0",
            "_view_name": "StyleView",
            "description_width": ""
          }
        },
        "9276b6b000244f858b1795e8ffb64d98": {
          "model_module": "@jupyter-widgets/base",
          "model_name": "LayoutModel",
          "model_module_version": "1.2.0",
          "state": {
            "_model_module": "@jupyter-widgets/base",
            "_model_module_version": "1.2.0",
            "_model_name": "LayoutModel",
            "_view_count": null,
            "_view_module": "@jupyter-widgets/base",
            "_view_module_version": "1.2.0",
            "_view_name": "LayoutView",
            "align_content": null,
            "align_items": null,
            "align_self": null,
            "border": null,
            "bottom": null,
            "display": null,
            "flex": null,
            "flex_flow": null,
            "grid_area": null,
            "grid_auto_columns": null,
            "grid_auto_flow": null,
            "grid_auto_rows": null,
            "grid_column": null,
            "grid_gap": null,
            "grid_row": null,
            "grid_template_areas": null,
            "grid_template_columns": null,
            "grid_template_rows": null,
            "height": null,
            "justify_content": null,
            "justify_items": null,
            "left": null,
            "margin": null,
            "max_height": null,
            "max_width": null,
            "min_height": null,
            "min_width": null,
            "object_fit": null,
            "object_position": null,
            "order": null,
            "overflow": null,
            "overflow_x": null,
            "overflow_y": null,
            "padding": null,
            "right": null,
            "top": null,
            "visibility": null,
            "width": null
          }
        },
        "998e6bda0f134fbb8f292443c58a3a9b": {
          "model_module": "@jupyter-widgets/controls",
          "model_name": "ProgressStyleModel",
          "model_module_version": "1.5.0",
          "state": {
            "_model_module": "@jupyter-widgets/controls",
            "_model_module_version": "1.5.0",
            "_model_name": "ProgressStyleModel",
            "_view_count": null,
            "_view_module": "@jupyter-widgets/base",
            "_view_module_version": "1.2.0",
            "_view_name": "StyleView",
            "bar_color": null,
            "description_width": ""
          }
        },
        "c9822620734f4b6392e78ae664d66473": {
          "model_module": "@jupyter-widgets/base",
          "model_name": "LayoutModel",
          "model_module_version": "1.2.0",
          "state": {
            "_model_module": "@jupyter-widgets/base",
            "_model_module_version": "1.2.0",
            "_model_name": "LayoutModel",
            "_view_count": null,
            "_view_module": "@jupyter-widgets/base",
            "_view_module_version": "1.2.0",
            "_view_name": "LayoutView",
            "align_content": null,
            "align_items": null,
            "align_self": null,
            "border": null,
            "bottom": null,
            "display": null,
            "flex": null,
            "flex_flow": null,
            "grid_area": null,
            "grid_auto_columns": null,
            "grid_auto_flow": null,
            "grid_auto_rows": null,
            "grid_column": null,
            "grid_gap": null,
            "grid_row": null,
            "grid_template_areas": null,
            "grid_template_columns": null,
            "grid_template_rows": null,
            "height": null,
            "justify_content": null,
            "justify_items": null,
            "left": null,
            "margin": null,
            "max_height": null,
            "max_width": null,
            "min_height": null,
            "min_width": null,
            "object_fit": null,
            "object_position": null,
            "order": null,
            "overflow": null,
            "overflow_x": null,
            "overflow_y": null,
            "padding": null,
            "right": null,
            "top": null,
            "visibility": null,
            "width": null
          }
        },
        "4407e91b6e5d48bcb93915343c3c62e3": {
          "model_module": "@jupyter-widgets/controls",
          "model_name": "DescriptionStyleModel",
          "model_module_version": "1.5.0",
          "state": {
            "_model_module": "@jupyter-widgets/controls",
            "_model_module_version": "1.5.0",
            "_model_name": "DescriptionStyleModel",
            "_view_count": null,
            "_view_module": "@jupyter-widgets/base",
            "_view_module_version": "1.2.0",
            "_view_name": "StyleView",
            "description_width": ""
          }
        },
        "c57b0a9967464fd19ae894c77459f0ab": {
          "model_module": "@jupyter-widgets/controls",
          "model_name": "HBoxModel",
          "model_module_version": "1.5.0",
          "state": {
            "_dom_classes": [],
            "_model_module": "@jupyter-widgets/controls",
            "_model_module_version": "1.5.0",
            "_model_name": "HBoxModel",
            "_view_count": null,
            "_view_module": "@jupyter-widgets/controls",
            "_view_module_version": "1.5.0",
            "_view_name": "HBoxView",
            "box_style": "",
            "children": [
              "IPY_MODEL_da940bd65f11453895a6fe20d724f589",
              "IPY_MODEL_7c067af94fce437aacf280d5875a43f7",
              "IPY_MODEL_29a06e5675064a5c9e1ca2172d9d97ff"
            ],
            "layout": "IPY_MODEL_47b5a8aa50be4e0db8aa696c75a7bbcb"
          }
        },
        "da940bd65f11453895a6fe20d724f589": {
          "model_module": "@jupyter-widgets/controls",
          "model_name": "HTMLModel",
          "model_module_version": "1.5.0",
          "state": {
            "_dom_classes": [],
            "_model_module": "@jupyter-widgets/controls",
            "_model_module_version": "1.5.0",
            "_model_name": "HTMLModel",
            "_view_count": null,
            "_view_module": "@jupyter-widgets/controls",
            "_view_module_version": "1.5.0",
            "_view_name": "HTMLView",
            "description": "",
            "description_tooltip": null,
            "layout": "IPY_MODEL_b8e494a7c29f47baa0a35225ff4fb09a",
            "placeholder": "​",
            "style": "IPY_MODEL_2940548f298d4c29b3dcde497d5205c7",
            "value": "test-00000-of-00001.parquet: 100%"
          }
        },
        "7c067af94fce437aacf280d5875a43f7": {
          "model_module": "@jupyter-widgets/controls",
          "model_name": "FloatProgressModel",
          "model_module_version": "1.5.0",
          "state": {
            "_dom_classes": [],
            "_model_module": "@jupyter-widgets/controls",
            "_model_module_version": "1.5.0",
            "_model_name": "FloatProgressModel",
            "_view_count": null,
            "_view_module": "@jupyter-widgets/controls",
            "_view_module_version": "1.5.0",
            "_view_name": "ProgressView",
            "bar_style": "success",
            "description": "",
            "description_tooltip": null,
            "layout": "IPY_MODEL_7eab9c3feb1a4275aeba8e81ae82129d",
            "max": 133145,
            "min": 0,
            "orientation": "horizontal",
            "style": "IPY_MODEL_d78da033723547c3beca6f6d16e87772",
            "value": 133145
          }
        },
        "29a06e5675064a5c9e1ca2172d9d97ff": {
          "model_module": "@jupyter-widgets/controls",
          "model_name": "HTMLModel",
          "model_module_version": "1.5.0",
          "state": {
            "_dom_classes": [],
            "_model_module": "@jupyter-widgets/controls",
            "_model_module_version": "1.5.0",
            "_model_name": "HTMLModel",
            "_view_count": null,
            "_view_module": "@jupyter-widgets/controls",
            "_view_module_version": "1.5.0",
            "_view_name": "HTMLView",
            "description": "",
            "description_tooltip": null,
            "layout": "IPY_MODEL_8da4d5454e0e4d1f9f9c6b2570009359",
            "placeholder": "​",
            "style": "IPY_MODEL_59ddba39285f482995a5331e9736850a",
            "value": " 133k/133k [00:00&lt;00:00, 9.45MB/s]"
          }
        },
        "47b5a8aa50be4e0db8aa696c75a7bbcb": {
          "model_module": "@jupyter-widgets/base",
          "model_name": "LayoutModel",
          "model_module_version": "1.2.0",
          "state": {
            "_model_module": "@jupyter-widgets/base",
            "_model_module_version": "1.2.0",
            "_model_name": "LayoutModel",
            "_view_count": null,
            "_view_module": "@jupyter-widgets/base",
            "_view_module_version": "1.2.0",
            "_view_name": "LayoutView",
            "align_content": null,
            "align_items": null,
            "align_self": null,
            "border": null,
            "bottom": null,
            "display": null,
            "flex": null,
            "flex_flow": null,
            "grid_area": null,
            "grid_auto_columns": null,
            "grid_auto_flow": null,
            "grid_auto_rows": null,
            "grid_column": null,
            "grid_gap": null,
            "grid_row": null,
            "grid_template_areas": null,
            "grid_template_columns": null,
            "grid_template_rows": null,
            "height": null,
            "justify_content": null,
            "justify_items": null,
            "left": null,
            "margin": null,
            "max_height": null,
            "max_width": null,
            "min_height": null,
            "min_width": null,
            "object_fit": null,
            "object_position": null,
            "order": null,
            "overflow": null,
            "overflow_x": null,
            "overflow_y": null,
            "padding": null,
            "right": null,
            "top": null,
            "visibility": null,
            "width": null
          }
        },
        "b8e494a7c29f47baa0a35225ff4fb09a": {
          "model_module": "@jupyter-widgets/base",
          "model_name": "LayoutModel",
          "model_module_version": "1.2.0",
          "state": {
            "_model_module": "@jupyter-widgets/base",
            "_model_module_version": "1.2.0",
            "_model_name": "LayoutModel",
            "_view_count": null,
            "_view_module": "@jupyter-widgets/base",
            "_view_module_version": "1.2.0",
            "_view_name": "LayoutView",
            "align_content": null,
            "align_items": null,
            "align_self": null,
            "border": null,
            "bottom": null,
            "display": null,
            "flex": null,
            "flex_flow": null,
            "grid_area": null,
            "grid_auto_columns": null,
            "grid_auto_flow": null,
            "grid_auto_rows": null,
            "grid_column": null,
            "grid_gap": null,
            "grid_row": null,
            "grid_template_areas": null,
            "grid_template_columns": null,
            "grid_template_rows": null,
            "height": null,
            "justify_content": null,
            "justify_items": null,
            "left": null,
            "margin": null,
            "max_height": null,
            "max_width": null,
            "min_height": null,
            "min_width": null,
            "object_fit": null,
            "object_position": null,
            "order": null,
            "overflow": null,
            "overflow_x": null,
            "overflow_y": null,
            "padding": null,
            "right": null,
            "top": null,
            "visibility": null,
            "width": null
          }
        },
        "2940548f298d4c29b3dcde497d5205c7": {
          "model_module": "@jupyter-widgets/controls",
          "model_name": "DescriptionStyleModel",
          "model_module_version": "1.5.0",
          "state": {
            "_model_module": "@jupyter-widgets/controls",
            "_model_module_version": "1.5.0",
            "_model_name": "DescriptionStyleModel",
            "_view_count": null,
            "_view_module": "@jupyter-widgets/base",
            "_view_module_version": "1.2.0",
            "_view_name": "StyleView",
            "description_width": ""
          }
        },
        "7eab9c3feb1a4275aeba8e81ae82129d": {
          "model_module": "@jupyter-widgets/base",
          "model_name": "LayoutModel",
          "model_module_version": "1.2.0",
          "state": {
            "_model_module": "@jupyter-widgets/base",
            "_model_module_version": "1.2.0",
            "_model_name": "LayoutModel",
            "_view_count": null,
            "_view_module": "@jupyter-widgets/base",
            "_view_module_version": "1.2.0",
            "_view_name": "LayoutView",
            "align_content": null,
            "align_items": null,
            "align_self": null,
            "border": null,
            "bottom": null,
            "display": null,
            "flex": null,
            "flex_flow": null,
            "grid_area": null,
            "grid_auto_columns": null,
            "grid_auto_flow": null,
            "grid_auto_rows": null,
            "grid_column": null,
            "grid_gap": null,
            "grid_row": null,
            "grid_template_areas": null,
            "grid_template_columns": null,
            "grid_template_rows": null,
            "height": null,
            "justify_content": null,
            "justify_items": null,
            "left": null,
            "margin": null,
            "max_height": null,
            "max_width": null,
            "min_height": null,
            "min_width": null,
            "object_fit": null,
            "object_position": null,
            "order": null,
            "overflow": null,
            "overflow_x": null,
            "overflow_y": null,
            "padding": null,
            "right": null,
            "top": null,
            "visibility": null,
            "width": null
          }
        },
        "d78da033723547c3beca6f6d16e87772": {
          "model_module": "@jupyter-widgets/controls",
          "model_name": "ProgressStyleModel",
          "model_module_version": "1.5.0",
          "state": {
            "_model_module": "@jupyter-widgets/controls",
            "_model_module_version": "1.5.0",
            "_model_name": "ProgressStyleModel",
            "_view_count": null,
            "_view_module": "@jupyter-widgets/base",
            "_view_module_version": "1.2.0",
            "_view_name": "StyleView",
            "bar_color": null,
            "description_width": ""
          }
        },
        "8da4d5454e0e4d1f9f9c6b2570009359": {
          "model_module": "@jupyter-widgets/base",
          "model_name": "LayoutModel",
          "model_module_version": "1.2.0",
          "state": {
            "_model_module": "@jupyter-widgets/base",
            "_model_module_version": "1.2.0",
            "_model_name": "LayoutModel",
            "_view_count": null,
            "_view_module": "@jupyter-widgets/base",
            "_view_module_version": "1.2.0",
            "_view_name": "LayoutView",
            "align_content": null,
            "align_items": null,
            "align_self": null,
            "border": null,
            "bottom": null,
            "display": null,
            "flex": null,
            "flex_flow": null,
            "grid_area": null,
            "grid_auto_columns": null,
            "grid_auto_flow": null,
            "grid_auto_rows": null,
            "grid_column": null,
            "grid_gap": null,
            "grid_row": null,
            "grid_template_areas": null,
            "grid_template_columns": null,
            "grid_template_rows": null,
            "height": null,
            "justify_content": null,
            "justify_items": null,
            "left": null,
            "margin": null,
            "max_height": null,
            "max_width": null,
            "min_height": null,
            "min_width": null,
            "object_fit": null,
            "object_position": null,
            "order": null,
            "overflow": null,
            "overflow_x": null,
            "overflow_y": null,
            "padding": null,
            "right": null,
            "top": null,
            "visibility": null,
            "width": null
          }
        },
        "59ddba39285f482995a5331e9736850a": {
          "model_module": "@jupyter-widgets/controls",
          "model_name": "DescriptionStyleModel",
          "model_module_version": "1.5.0",
          "state": {
            "_model_module": "@jupyter-widgets/controls",
            "_model_module_version": "1.5.0",
            "_model_name": "DescriptionStyleModel",
            "_view_count": null,
            "_view_module": "@jupyter-widgets/base",
            "_view_module_version": "1.2.0",
            "_view_name": "StyleView",
            "description_width": ""
          }
        },
        "60b6724bfa874804990cb8056a29db30": {
          "model_module": "@jupyter-widgets/controls",
          "model_name": "HBoxModel",
          "model_module_version": "1.5.0",
          "state": {
            "_dom_classes": [],
            "_model_module": "@jupyter-widgets/controls",
            "_model_module_version": "1.5.0",
            "_model_name": "HBoxModel",
            "_view_count": null,
            "_view_module": "@jupyter-widgets/controls",
            "_view_module_version": "1.5.0",
            "_view_name": "HBoxView",
            "box_style": "",
            "children": [
              "IPY_MODEL_c2d666a3b11b4e99a3e0059c6dd2874f",
              "IPY_MODEL_b47a83bd6cda4d8cbedc7e8d46621e63",
              "IPY_MODEL_82c0b4da3ed14197810f948f778bf8a6"
            ],
            "layout": "IPY_MODEL_ecc414e1a80b47e79ccf9d43a62371dc"
          }
        },
        "c2d666a3b11b4e99a3e0059c6dd2874f": {
          "model_module": "@jupyter-widgets/controls",
          "model_name": "HTMLModel",
          "model_module_version": "1.5.0",
          "state": {
            "_dom_classes": [],
            "_model_module": "@jupyter-widgets/controls",
            "_model_module_version": "1.5.0",
            "_model_name": "HTMLModel",
            "_view_count": null,
            "_view_module": "@jupyter-widgets/controls",
            "_view_module_version": "1.5.0",
            "_view_name": "HTMLView",
            "description": "",
            "description_tooltip": null,
            "layout": "IPY_MODEL_edeef758737d40f8bdaea76da0cd564e",
            "placeholder": "​",
            "style": "IPY_MODEL_52d42020931b4afc9bbb49b31b3e2994",
            "value": "Generating train split: 100%"
          }
        },
        "b47a83bd6cda4d8cbedc7e8d46621e63": {
          "model_module": "@jupyter-widgets/controls",
          "model_name": "FloatProgressModel",
          "model_module_version": "1.5.0",
          "state": {
            "_dom_classes": [],
            "_model_module": "@jupyter-widgets/controls",
            "_model_module_version": "1.5.0",
            "_model_name": "FloatProgressModel",
            "_view_count": null,
            "_view_module": "@jupyter-widgets/controls",
            "_view_module_version": "1.5.0",
            "_view_name": "ProgressView",
            "bar_style": "success",
            "description": "",
            "description_tooltip": null,
            "layout": "IPY_MODEL_fe3dfb522e5d458abab932a114439b19",
            "max": 496,
            "min": 0,
            "orientation": "horizontal",
            "style": "IPY_MODEL_2dae4f18dc2843e9942d5e3a3f9b3ea2",
            "value": 496
          }
        },
        "82c0b4da3ed14197810f948f778bf8a6": {
          "model_module": "@jupyter-widgets/controls",
          "model_name": "HTMLModel",
          "model_module_version": "1.5.0",
          "state": {
            "_dom_classes": [],
            "_model_module": "@jupyter-widgets/controls",
            "_model_module_version": "1.5.0",
            "_model_name": "HTMLModel",
            "_view_count": null,
            "_view_module": "@jupyter-widgets/controls",
            "_view_module_version": "1.5.0",
            "_view_name": "HTMLView",
            "description": "",
            "description_tooltip": null,
            "layout": "IPY_MODEL_fb70a21211fc4f908bb8b3846fe467a9",
            "placeholder": "​",
            "style": "IPY_MODEL_25473be5b13e4b01851f91258e98080e",
            "value": " 496/496 [00:00&lt;00:00, 14951.02 examples/s]"
          }
        },
        "ecc414e1a80b47e79ccf9d43a62371dc": {
          "model_module": "@jupyter-widgets/base",
          "model_name": "LayoutModel",
          "model_module_version": "1.2.0",
          "state": {
            "_model_module": "@jupyter-widgets/base",
            "_model_module_version": "1.2.0",
            "_model_name": "LayoutModel",
            "_view_count": null,
            "_view_module": "@jupyter-widgets/base",
            "_view_module_version": "1.2.0",
            "_view_name": "LayoutView",
            "align_content": null,
            "align_items": null,
            "align_self": null,
            "border": null,
            "bottom": null,
            "display": null,
            "flex": null,
            "flex_flow": null,
            "grid_area": null,
            "grid_auto_columns": null,
            "grid_auto_flow": null,
            "grid_auto_rows": null,
            "grid_column": null,
            "grid_gap": null,
            "grid_row": null,
            "grid_template_areas": null,
            "grid_template_columns": null,
            "grid_template_rows": null,
            "height": null,
            "justify_content": null,
            "justify_items": null,
            "left": null,
            "margin": null,
            "max_height": null,
            "max_width": null,
            "min_height": null,
            "min_width": null,
            "object_fit": null,
            "object_position": null,
            "order": null,
            "overflow": null,
            "overflow_x": null,
            "overflow_y": null,
            "padding": null,
            "right": null,
            "top": null,
            "visibility": null,
            "width": null
          }
        },
        "edeef758737d40f8bdaea76da0cd564e": {
          "model_module": "@jupyter-widgets/base",
          "model_name": "LayoutModel",
          "model_module_version": "1.2.0",
          "state": {
            "_model_module": "@jupyter-widgets/base",
            "_model_module_version": "1.2.0",
            "_model_name": "LayoutModel",
            "_view_count": null,
            "_view_module": "@jupyter-widgets/base",
            "_view_module_version": "1.2.0",
            "_view_name": "LayoutView",
            "align_content": null,
            "align_items": null,
            "align_self": null,
            "border": null,
            "bottom": null,
            "display": null,
            "flex": null,
            "flex_flow": null,
            "grid_area": null,
            "grid_auto_columns": null,
            "grid_auto_flow": null,
            "grid_auto_rows": null,
            "grid_column": null,
            "grid_gap": null,
            "grid_row": null,
            "grid_template_areas": null,
            "grid_template_columns": null,
            "grid_template_rows": null,
            "height": null,
            "justify_content": null,
            "justify_items": null,
            "left": null,
            "margin": null,
            "max_height": null,
            "max_width": null,
            "min_height": null,
            "min_width": null,
            "object_fit": null,
            "object_position": null,
            "order": null,
            "overflow": null,
            "overflow_x": null,
            "overflow_y": null,
            "padding": null,
            "right": null,
            "top": null,
            "visibility": null,
            "width": null
          }
        },
        "52d42020931b4afc9bbb49b31b3e2994": {
          "model_module": "@jupyter-widgets/controls",
          "model_name": "DescriptionStyleModel",
          "model_module_version": "1.5.0",
          "state": {
            "_model_module": "@jupyter-widgets/controls",
            "_model_module_version": "1.5.0",
            "_model_name": "DescriptionStyleModel",
            "_view_count": null,
            "_view_module": "@jupyter-widgets/base",
            "_view_module_version": "1.2.0",
            "_view_name": "StyleView",
            "description_width": ""
          }
        },
        "fe3dfb522e5d458abab932a114439b19": {
          "model_module": "@jupyter-widgets/base",
          "model_name": "LayoutModel",
          "model_module_version": "1.2.0",
          "state": {
            "_model_module": "@jupyter-widgets/base",
            "_model_module_version": "1.2.0",
            "_model_name": "LayoutModel",
            "_view_count": null,
            "_view_module": "@jupyter-widgets/base",
            "_view_module_version": "1.2.0",
            "_view_name": "LayoutView",
            "align_content": null,
            "align_items": null,
            "align_self": null,
            "border": null,
            "bottom": null,
            "display": null,
            "flex": null,
            "flex_flow": null,
            "grid_area": null,
            "grid_auto_columns": null,
            "grid_auto_flow": null,
            "grid_auto_rows": null,
            "grid_column": null,
            "grid_gap": null,
            "grid_row": null,
            "grid_template_areas": null,
            "grid_template_columns": null,
            "grid_template_rows": null,
            "height": null,
            "justify_content": null,
            "justify_items": null,
            "left": null,
            "margin": null,
            "max_height": null,
            "max_width": null,
            "min_height": null,
            "min_width": null,
            "object_fit": null,
            "object_position": null,
            "order": null,
            "overflow": null,
            "overflow_x": null,
            "overflow_y": null,
            "padding": null,
            "right": null,
            "top": null,
            "visibility": null,
            "width": null
          }
        },
        "2dae4f18dc2843e9942d5e3a3f9b3ea2": {
          "model_module": "@jupyter-widgets/controls",
          "model_name": "ProgressStyleModel",
          "model_module_version": "1.5.0",
          "state": {
            "_model_module": "@jupyter-widgets/controls",
            "_model_module_version": "1.5.0",
            "_model_name": "ProgressStyleModel",
            "_view_count": null,
            "_view_module": "@jupyter-widgets/base",
            "_view_module_version": "1.2.0",
            "_view_name": "StyleView",
            "bar_color": null,
            "description_width": ""
          }
        },
        "fb70a21211fc4f908bb8b3846fe467a9": {
          "model_module": "@jupyter-widgets/base",
          "model_name": "LayoutModel",
          "model_module_version": "1.2.0",
          "state": {
            "_model_module": "@jupyter-widgets/base",
            "_model_module_version": "1.2.0",
            "_model_name": "LayoutModel",
            "_view_count": null,
            "_view_module": "@jupyter-widgets/base",
            "_view_module_version": "1.2.0",
            "_view_name": "LayoutView",
            "align_content": null,
            "align_items": null,
            "align_self": null,
            "border": null,
            "bottom": null,
            "display": null,
            "flex": null,
            "flex_flow": null,
            "grid_area": null,
            "grid_auto_columns": null,
            "grid_auto_flow": null,
            "grid_auto_rows": null,
            "grid_column": null,
            "grid_gap": null,
            "grid_row": null,
            "grid_template_areas": null,
            "grid_template_columns": null,
            "grid_template_rows": null,
            "height": null,
            "justify_content": null,
            "justify_items": null,
            "left": null,
            "margin": null,
            "max_height": null,
            "max_width": null,
            "min_height": null,
            "min_width": null,
            "object_fit": null,
            "object_position": null,
            "order": null,
            "overflow": null,
            "overflow_x": null,
            "overflow_y": null,
            "padding": null,
            "right": null,
            "top": null,
            "visibility": null,
            "width": null
          }
        },
        "25473be5b13e4b01851f91258e98080e": {
          "model_module": "@jupyter-widgets/controls",
          "model_name": "DescriptionStyleModel",
          "model_module_version": "1.5.0",
          "state": {
            "_model_module": "@jupyter-widgets/controls",
            "_model_module_version": "1.5.0",
            "_model_name": "DescriptionStyleModel",
            "_view_count": null,
            "_view_module": "@jupyter-widgets/base",
            "_view_module_version": "1.2.0",
            "_view_name": "StyleView",
            "description_width": ""
          }
        },
        "f8a78dfc2af6402997d4fa7cc9d06a3d": {
          "model_module": "@jupyter-widgets/controls",
          "model_name": "HBoxModel",
          "model_module_version": "1.5.0",
          "state": {
            "_dom_classes": [],
            "_model_module": "@jupyter-widgets/controls",
            "_model_module_version": "1.5.0",
            "_model_name": "HBoxModel",
            "_view_count": null,
            "_view_module": "@jupyter-widgets/controls",
            "_view_module_version": "1.5.0",
            "_view_name": "HBoxView",
            "box_style": "",
            "children": [
              "IPY_MODEL_b671da8cf1bf4dbea2cd1c27f62e811c",
              "IPY_MODEL_f0de6c398b0547d39245787bb5e94a76",
              "IPY_MODEL_6d1e023d03b847069aa8c9d37b0340db"
            ],
            "layout": "IPY_MODEL_16aabae5bd16493eb011c83021bcc4a7"
          }
        },
        "b671da8cf1bf4dbea2cd1c27f62e811c": {
          "model_module": "@jupyter-widgets/controls",
          "model_name": "HTMLModel",
          "model_module_version": "1.5.0",
          "state": {
            "_dom_classes": [],
            "_model_module": "@jupyter-widgets/controls",
            "_model_module_version": "1.5.0",
            "_model_name": "HTMLModel",
            "_view_count": null,
            "_view_module": "@jupyter-widgets/controls",
            "_view_module_version": "1.5.0",
            "_view_name": "HTMLView",
            "description": "",
            "description_tooltip": null,
            "layout": "IPY_MODEL_36457768de91460a82b3f8eb9f37c67a",
            "placeholder": "​",
            "style": "IPY_MODEL_848aa43804dc44c29e79d9770b63b822",
            "value": "Generating valid split: 100%"
          }
        },
        "f0de6c398b0547d39245787bb5e94a76": {
          "model_module": "@jupyter-widgets/controls",
          "model_name": "FloatProgressModel",
          "model_module_version": "1.5.0",
          "state": {
            "_dom_classes": [],
            "_model_module": "@jupyter-widgets/controls",
            "_model_module_version": "1.5.0",
            "_model_name": "FloatProgressModel",
            "_view_count": null,
            "_view_module": "@jupyter-widgets/controls",
            "_view_module_version": "1.5.0",
            "_view_name": "ProgressView",
            "bar_style": "success",
            "description": "",
            "description_tooltip": null,
            "layout": "IPY_MODEL_5197354a4f854183bc68cb654c885ff6",
            "max": 100,
            "min": 0,
            "orientation": "horizontal",
            "style": "IPY_MODEL_852476fd79db462a843e8baff19dfbfb",
            "value": 100
          }
        },
        "6d1e023d03b847069aa8c9d37b0340db": {
          "model_module": "@jupyter-widgets/controls",
          "model_name": "HTMLModel",
          "model_module_version": "1.5.0",
          "state": {
            "_dom_classes": [],
            "_model_module": "@jupyter-widgets/controls",
            "_model_module_version": "1.5.0",
            "_model_name": "HTMLModel",
            "_view_count": null,
            "_view_module": "@jupyter-widgets/controls",
            "_view_module_version": "1.5.0",
            "_view_name": "HTMLView",
            "description": "",
            "description_tooltip": null,
            "layout": "IPY_MODEL_7bca9f65ffe14872813d7c0c3c203bb1",
            "placeholder": "​",
            "style": "IPY_MODEL_417a7193bf0e41afbbd5fb8d0a5e0add",
            "value": " 100/100 [00:00&lt;00:00, 4646.50 examples/s]"
          }
        },
        "16aabae5bd16493eb011c83021bcc4a7": {
          "model_module": "@jupyter-widgets/base",
          "model_name": "LayoutModel",
          "model_module_version": "1.2.0",
          "state": {
            "_model_module": "@jupyter-widgets/base",
            "_model_module_version": "1.2.0",
            "_model_name": "LayoutModel",
            "_view_count": null,
            "_view_module": "@jupyter-widgets/base",
            "_view_module_version": "1.2.0",
            "_view_name": "LayoutView",
            "align_content": null,
            "align_items": null,
            "align_self": null,
            "border": null,
            "bottom": null,
            "display": null,
            "flex": null,
            "flex_flow": null,
            "grid_area": null,
            "grid_auto_columns": null,
            "grid_auto_flow": null,
            "grid_auto_rows": null,
            "grid_column": null,
            "grid_gap": null,
            "grid_row": null,
            "grid_template_areas": null,
            "grid_template_columns": null,
            "grid_template_rows": null,
            "height": null,
            "justify_content": null,
            "justify_items": null,
            "left": null,
            "margin": null,
            "max_height": null,
            "max_width": null,
            "min_height": null,
            "min_width": null,
            "object_fit": null,
            "object_position": null,
            "order": null,
            "overflow": null,
            "overflow_x": null,
            "overflow_y": null,
            "padding": null,
            "right": null,
            "top": null,
            "visibility": null,
            "width": null
          }
        },
        "36457768de91460a82b3f8eb9f37c67a": {
          "model_module": "@jupyter-widgets/base",
          "model_name": "LayoutModel",
          "model_module_version": "1.2.0",
          "state": {
            "_model_module": "@jupyter-widgets/base",
            "_model_module_version": "1.2.0",
            "_model_name": "LayoutModel",
            "_view_count": null,
            "_view_module": "@jupyter-widgets/base",
            "_view_module_version": "1.2.0",
            "_view_name": "LayoutView",
            "align_content": null,
            "align_items": null,
            "align_self": null,
            "border": null,
            "bottom": null,
            "display": null,
            "flex": null,
            "flex_flow": null,
            "grid_area": null,
            "grid_auto_columns": null,
            "grid_auto_flow": null,
            "grid_auto_rows": null,
            "grid_column": null,
            "grid_gap": null,
            "grid_row": null,
            "grid_template_areas": null,
            "grid_template_columns": null,
            "grid_template_rows": null,
            "height": null,
            "justify_content": null,
            "justify_items": null,
            "left": null,
            "margin": null,
            "max_height": null,
            "max_width": null,
            "min_height": null,
            "min_width": null,
            "object_fit": null,
            "object_position": null,
            "order": null,
            "overflow": null,
            "overflow_x": null,
            "overflow_y": null,
            "padding": null,
            "right": null,
            "top": null,
            "visibility": null,
            "width": null
          }
        },
        "848aa43804dc44c29e79d9770b63b822": {
          "model_module": "@jupyter-widgets/controls",
          "model_name": "DescriptionStyleModel",
          "model_module_version": "1.5.0",
          "state": {
            "_model_module": "@jupyter-widgets/controls",
            "_model_module_version": "1.5.0",
            "_model_name": "DescriptionStyleModel",
            "_view_count": null,
            "_view_module": "@jupyter-widgets/base",
            "_view_module_version": "1.2.0",
            "_view_name": "StyleView",
            "description_width": ""
          }
        },
        "5197354a4f854183bc68cb654c885ff6": {
          "model_module": "@jupyter-widgets/base",
          "model_name": "LayoutModel",
          "model_module_version": "1.2.0",
          "state": {
            "_model_module": "@jupyter-widgets/base",
            "_model_module_version": "1.2.0",
            "_model_name": "LayoutModel",
            "_view_count": null,
            "_view_module": "@jupyter-widgets/base",
            "_view_module_version": "1.2.0",
            "_view_name": "LayoutView",
            "align_content": null,
            "align_items": null,
            "align_self": null,
            "border": null,
            "bottom": null,
            "display": null,
            "flex": null,
            "flex_flow": null,
            "grid_area": null,
            "grid_auto_columns": null,
            "grid_auto_flow": null,
            "grid_auto_rows": null,
            "grid_column": null,
            "grid_gap": null,
            "grid_row": null,
            "grid_template_areas": null,
            "grid_template_columns": null,
            "grid_template_rows": null,
            "height": null,
            "justify_content": null,
            "justify_items": null,
            "left": null,
            "margin": null,
            "max_height": null,
            "max_width": null,
            "min_height": null,
            "min_width": null,
            "object_fit": null,
            "object_position": null,
            "order": null,
            "overflow": null,
            "overflow_x": null,
            "overflow_y": null,
            "padding": null,
            "right": null,
            "top": null,
            "visibility": null,
            "width": null
          }
        },
        "852476fd79db462a843e8baff19dfbfb": {
          "model_module": "@jupyter-widgets/controls",
          "model_name": "ProgressStyleModel",
          "model_module_version": "1.5.0",
          "state": {
            "_model_module": "@jupyter-widgets/controls",
            "_model_module_version": "1.5.0",
            "_model_name": "ProgressStyleModel",
            "_view_count": null,
            "_view_module": "@jupyter-widgets/base",
            "_view_module_version": "1.2.0",
            "_view_name": "StyleView",
            "bar_color": null,
            "description_width": ""
          }
        },
        "7bca9f65ffe14872813d7c0c3c203bb1": {
          "model_module": "@jupyter-widgets/base",
          "model_name": "LayoutModel",
          "model_module_version": "1.2.0",
          "state": {
            "_model_module": "@jupyter-widgets/base",
            "_model_module_version": "1.2.0",
            "_model_name": "LayoutModel",
            "_view_count": null,
            "_view_module": "@jupyter-widgets/base",
            "_view_module_version": "1.2.0",
            "_view_name": "LayoutView",
            "align_content": null,
            "align_items": null,
            "align_self": null,
            "border": null,
            "bottom": null,
            "display": null,
            "flex": null,
            "flex_flow": null,
            "grid_area": null,
            "grid_auto_columns": null,
            "grid_auto_flow": null,
            "grid_auto_rows": null,
            "grid_column": null,
            "grid_gap": null,
            "grid_row": null,
            "grid_template_areas": null,
            "grid_template_columns": null,
            "grid_template_rows": null,
            "height": null,
            "justify_content": null,
            "justify_items": null,
            "left": null,
            "margin": null,
            "max_height": null,
            "max_width": null,
            "min_height": null,
            "min_width": null,
            "object_fit": null,
            "object_position": null,
            "order": null,
            "overflow": null,
            "overflow_x": null,
            "overflow_y": null,
            "padding": null,
            "right": null,
            "top": null,
            "visibility": null,
            "width": null
          }
        },
        "417a7193bf0e41afbbd5fb8d0a5e0add": {
          "model_module": "@jupyter-widgets/controls",
          "model_name": "DescriptionStyleModel",
          "model_module_version": "1.5.0",
          "state": {
            "_model_module": "@jupyter-widgets/controls",
            "_model_module_version": "1.5.0",
            "_model_name": "DescriptionStyleModel",
            "_view_count": null,
            "_view_module": "@jupyter-widgets/base",
            "_view_module_version": "1.2.0",
            "_view_name": "StyleView",
            "description_width": ""
          }
        },
        "39e945f0cec242859e76604aa3cce1e2": {
          "model_module": "@jupyter-widgets/controls",
          "model_name": "HBoxModel",
          "model_module_version": "1.5.0",
          "state": {
            "_dom_classes": [],
            "_model_module": "@jupyter-widgets/controls",
            "_model_module_version": "1.5.0",
            "_model_name": "HBoxModel",
            "_view_count": null,
            "_view_module": "@jupyter-widgets/controls",
            "_view_module_version": "1.5.0",
            "_view_name": "HBoxView",
            "box_style": "",
            "children": [
              "IPY_MODEL_d93d82cbebe6441b852638d5afb7131d",
              "IPY_MODEL_d9179d2c938d49ffbfc069970e5c082f",
              "IPY_MODEL_194c95ceb06a4c898ff7f70b4b4a4f5c"
            ],
            "layout": "IPY_MODEL_16e79a8219284f12a6712697c8754079"
          }
        },
        "d93d82cbebe6441b852638d5afb7131d": {
          "model_module": "@jupyter-widgets/controls",
          "model_name": "HTMLModel",
          "model_module_version": "1.5.0",
          "state": {
            "_dom_classes": [],
            "_model_module": "@jupyter-widgets/controls",
            "_model_module_version": "1.5.0",
            "_model_name": "HTMLModel",
            "_view_count": null,
            "_view_module": "@jupyter-widgets/controls",
            "_view_module_version": "1.5.0",
            "_view_name": "HTMLView",
            "description": "",
            "description_tooltip": null,
            "layout": "IPY_MODEL_34e2b2aa1c774dbd900681a8f7aad433",
            "placeholder": "​",
            "style": "IPY_MODEL_92fb01fcd98d4e409d26a570fdef2986",
            "value": "Generating test split: 100%"
          }
        },
        "d9179d2c938d49ffbfc069970e5c082f": {
          "model_module": "@jupyter-widgets/controls",
          "model_name": "FloatProgressModel",
          "model_module_version": "1.5.0",
          "state": {
            "_dom_classes": [],
            "_model_module": "@jupyter-widgets/controls",
            "_model_module_version": "1.5.0",
            "_model_name": "FloatProgressModel",
            "_view_count": null,
            "_view_module": "@jupyter-widgets/controls",
            "_view_module_version": "1.5.0",
            "_view_name": "ProgressView",
            "bar_style": "success",
            "description": "",
            "description_tooltip": null,
            "layout": "IPY_MODEL_e77c9305f16f47d4a2d02096e81fe31f",
            "max": 98,
            "min": 0,
            "orientation": "horizontal",
            "style": "IPY_MODEL_23098f9276ee42d9baa677c2be532017",
            "value": 98
          }
        },
        "194c95ceb06a4c898ff7f70b4b4a4f5c": {
          "model_module": "@jupyter-widgets/controls",
          "model_name": "HTMLModel",
          "model_module_version": "1.5.0",
          "state": {
            "_dom_classes": [],
            "_model_module": "@jupyter-widgets/controls",
            "_model_module_version": "1.5.0",
            "_model_name": "HTMLModel",
            "_view_count": null,
            "_view_module": "@jupyter-widgets/controls",
            "_view_module_version": "1.5.0",
            "_view_name": "HTMLView",
            "description": "",
            "description_tooltip": null,
            "layout": "IPY_MODEL_639373ea7b1444b9897b839920bb78fe",
            "placeholder": "​",
            "style": "IPY_MODEL_1113439a5529410b811ff68e9e0b8534",
            "value": " 98/98 [00:00&lt;00:00, 4902.87 examples/s]"
          }
        },
        "16e79a8219284f12a6712697c8754079": {
          "model_module": "@jupyter-widgets/base",
          "model_name": "LayoutModel",
          "model_module_version": "1.2.0",
          "state": {
            "_model_module": "@jupyter-widgets/base",
            "_model_module_version": "1.2.0",
            "_model_name": "LayoutModel",
            "_view_count": null,
            "_view_module": "@jupyter-widgets/base",
            "_view_module_version": "1.2.0",
            "_view_name": "LayoutView",
            "align_content": null,
            "align_items": null,
            "align_self": null,
            "border": null,
            "bottom": null,
            "display": null,
            "flex": null,
            "flex_flow": null,
            "grid_area": null,
            "grid_auto_columns": null,
            "grid_auto_flow": null,
            "grid_auto_rows": null,
            "grid_column": null,
            "grid_gap": null,
            "grid_row": null,
            "grid_template_areas": null,
            "grid_template_columns": null,
            "grid_template_rows": null,
            "height": null,
            "justify_content": null,
            "justify_items": null,
            "left": null,
            "margin": null,
            "max_height": null,
            "max_width": null,
            "min_height": null,
            "min_width": null,
            "object_fit": null,
            "object_position": null,
            "order": null,
            "overflow": null,
            "overflow_x": null,
            "overflow_y": null,
            "padding": null,
            "right": null,
            "top": null,
            "visibility": null,
            "width": null
          }
        },
        "34e2b2aa1c774dbd900681a8f7aad433": {
          "model_module": "@jupyter-widgets/base",
          "model_name": "LayoutModel",
          "model_module_version": "1.2.0",
          "state": {
            "_model_module": "@jupyter-widgets/base",
            "_model_module_version": "1.2.0",
            "_model_name": "LayoutModel",
            "_view_count": null,
            "_view_module": "@jupyter-widgets/base",
            "_view_module_version": "1.2.0",
            "_view_name": "LayoutView",
            "align_content": null,
            "align_items": null,
            "align_self": null,
            "border": null,
            "bottom": null,
            "display": null,
            "flex": null,
            "flex_flow": null,
            "grid_area": null,
            "grid_auto_columns": null,
            "grid_auto_flow": null,
            "grid_auto_rows": null,
            "grid_column": null,
            "grid_gap": null,
            "grid_row": null,
            "grid_template_areas": null,
            "grid_template_columns": null,
            "grid_template_rows": null,
            "height": null,
            "justify_content": null,
            "justify_items": null,
            "left": null,
            "margin": null,
            "max_height": null,
            "max_width": null,
            "min_height": null,
            "min_width": null,
            "object_fit": null,
            "object_position": null,
            "order": null,
            "overflow": null,
            "overflow_x": null,
            "overflow_y": null,
            "padding": null,
            "right": null,
            "top": null,
            "visibility": null,
            "width": null
          }
        },
        "92fb01fcd98d4e409d26a570fdef2986": {
          "model_module": "@jupyter-widgets/controls",
          "model_name": "DescriptionStyleModel",
          "model_module_version": "1.5.0",
          "state": {
            "_model_module": "@jupyter-widgets/controls",
            "_model_module_version": "1.5.0",
            "_model_name": "DescriptionStyleModel",
            "_view_count": null,
            "_view_module": "@jupyter-widgets/base",
            "_view_module_version": "1.2.0",
            "_view_name": "StyleView",
            "description_width": ""
          }
        },
        "e77c9305f16f47d4a2d02096e81fe31f": {
          "model_module": "@jupyter-widgets/base",
          "model_name": "LayoutModel",
          "model_module_version": "1.2.0",
          "state": {
            "_model_module": "@jupyter-widgets/base",
            "_model_module_version": "1.2.0",
            "_model_name": "LayoutModel",
            "_view_count": null,
            "_view_module": "@jupyter-widgets/base",
            "_view_module_version": "1.2.0",
            "_view_name": "LayoutView",
            "align_content": null,
            "align_items": null,
            "align_self": null,
            "border": null,
            "bottom": null,
            "display": null,
            "flex": null,
            "flex_flow": null,
            "grid_area": null,
            "grid_auto_columns": null,
            "grid_auto_flow": null,
            "grid_auto_rows": null,
            "grid_column": null,
            "grid_gap": null,
            "grid_row": null,
            "grid_template_areas": null,
            "grid_template_columns": null,
            "grid_template_rows": null,
            "height": null,
            "justify_content": null,
            "justify_items": null,
            "left": null,
            "margin": null,
            "max_height": null,
            "max_width": null,
            "min_height": null,
            "min_width": null,
            "object_fit": null,
            "object_position": null,
            "order": null,
            "overflow": null,
            "overflow_x": null,
            "overflow_y": null,
            "padding": null,
            "right": null,
            "top": null,
            "visibility": null,
            "width": null
          }
        },
        "23098f9276ee42d9baa677c2be532017": {
          "model_module": "@jupyter-widgets/controls",
          "model_name": "ProgressStyleModel",
          "model_module_version": "1.5.0",
          "state": {
            "_model_module": "@jupyter-widgets/controls",
            "_model_module_version": "1.5.0",
            "_model_name": "ProgressStyleModel",
            "_view_count": null,
            "_view_module": "@jupyter-widgets/base",
            "_view_module_version": "1.2.0",
            "_view_name": "StyleView",
            "bar_color": null,
            "description_width": ""
          }
        },
        "639373ea7b1444b9897b839920bb78fe": {
          "model_module": "@jupyter-widgets/base",
          "model_name": "LayoutModel",
          "model_module_version": "1.2.0",
          "state": {
            "_model_module": "@jupyter-widgets/base",
            "_model_module_version": "1.2.0",
            "_model_name": "LayoutModel",
            "_view_count": null,
            "_view_module": "@jupyter-widgets/base",
            "_view_module_version": "1.2.0",
            "_view_name": "LayoutView",
            "align_content": null,
            "align_items": null,
            "align_self": null,
            "border": null,
            "bottom": null,
            "display": null,
            "flex": null,
            "flex_flow": null,
            "grid_area": null,
            "grid_auto_columns": null,
            "grid_auto_flow": null,
            "grid_auto_rows": null,
            "grid_column": null,
            "grid_gap": null,
            "grid_row": null,
            "grid_template_areas": null,
            "grid_template_columns": null,
            "grid_template_rows": null,
            "height": null,
            "justify_content": null,
            "justify_items": null,
            "left": null,
            "margin": null,
            "max_height": null,
            "max_width": null,
            "min_height": null,
            "min_width": null,
            "object_fit": null,
            "object_position": null,
            "order": null,
            "overflow": null,
            "overflow_x": null,
            "overflow_y": null,
            "padding": null,
            "right": null,
            "top": null,
            "visibility": null,
            "width": null
          }
        },
        "1113439a5529410b811ff68e9e0b8534": {
          "model_module": "@jupyter-widgets/controls",
          "model_name": "DescriptionStyleModel",
          "model_module_version": "1.5.0",
          "state": {
            "_model_module": "@jupyter-widgets/controls",
            "_model_module_version": "1.5.0",
            "_model_name": "DescriptionStyleModel",
            "_view_count": null,
            "_view_module": "@jupyter-widgets/base",
            "_view_module_version": "1.2.0",
            "_view_name": "StyleView",
            "description_width": ""
          }
        },
        "fb78102e28604ecdb6f564f6174ebfff": {
          "model_module": "@jupyter-widgets/controls",
          "model_name": "HBoxModel",
          "model_module_version": "1.5.0",
          "state": {
            "_dom_classes": [],
            "_model_module": "@jupyter-widgets/controls",
            "_model_module_version": "1.5.0",
            "_model_name": "HBoxModel",
            "_view_count": null,
            "_view_module": "@jupyter-widgets/controls",
            "_view_module_version": "1.5.0",
            "_view_name": "HBoxView",
            "box_style": "",
            "children": [
              "IPY_MODEL_fcd8bde1b6e5413a80980024871479b0",
              "IPY_MODEL_b052f21295864580ae098a400f82826e",
              "IPY_MODEL_d0a341025a2c4a019928bd9bbc0af3de"
            ],
            "layout": "IPY_MODEL_2e95e46f4a894cd59d469abcb4916a98"
          }
        },
        "fcd8bde1b6e5413a80980024871479b0": {
          "model_module": "@jupyter-widgets/controls",
          "model_name": "HTMLModel",
          "model_module_version": "1.5.0",
          "state": {
            "_dom_classes": [],
            "_model_module": "@jupyter-widgets/controls",
            "_model_module_version": "1.5.0",
            "_model_name": "HTMLModel",
            "_view_count": null,
            "_view_module": "@jupyter-widgets/controls",
            "_view_module_version": "1.5.0",
            "_view_name": "HTMLView",
            "description": "",
            "description_tooltip": null,
            "layout": "IPY_MODEL_a0cc1c9adf104b4f81a06a5e9e6476a5",
            "placeholder": "​",
            "style": "IPY_MODEL_e17e659a47384d0198338bc9f9126e1d",
            "value": "Map: 100%"
          }
        },
        "b052f21295864580ae098a400f82826e": {
          "model_module": "@jupyter-widgets/controls",
          "model_name": "FloatProgressModel",
          "model_module_version": "1.5.0",
          "state": {
            "_dom_classes": [],
            "_model_module": "@jupyter-widgets/controls",
            "_model_module_version": "1.5.0",
            "_model_name": "FloatProgressModel",
            "_view_count": null,
            "_view_module": "@jupyter-widgets/controls",
            "_view_module_version": "1.5.0",
            "_view_name": "ProgressView",
            "bar_style": "success",
            "description": "",
            "description_tooltip": null,
            "layout": "IPY_MODEL_512b0addf0e546d3b275e7a3a29f754f",
            "max": 496,
            "min": 0,
            "orientation": "horizontal",
            "style": "IPY_MODEL_714def0acd74417ea75f8e932ff667bc",
            "value": 496
          }
        },
        "d0a341025a2c4a019928bd9bbc0af3de": {
          "model_module": "@jupyter-widgets/controls",
          "model_name": "HTMLModel",
          "model_module_version": "1.5.0",
          "state": {
            "_dom_classes": [],
            "_model_module": "@jupyter-widgets/controls",
            "_model_module_version": "1.5.0",
            "_model_name": "HTMLModel",
            "_view_count": null,
            "_view_module": "@jupyter-widgets/controls",
            "_view_module_version": "1.5.0",
            "_view_name": "HTMLView",
            "description": "",
            "description_tooltip": null,
            "layout": "IPY_MODEL_f4a5a5daa8d04414adfd1ac7dc39244c",
            "placeholder": "​",
            "style": "IPY_MODEL_69859dedac8e4b98aafc1d2085bd33d9",
            "value": " 496/496 [00:01&lt;00:00, 306.27 examples/s]"
          }
        },
        "2e95e46f4a894cd59d469abcb4916a98": {
          "model_module": "@jupyter-widgets/base",
          "model_name": "LayoutModel",
          "model_module_version": "1.2.0",
          "state": {
            "_model_module": "@jupyter-widgets/base",
            "_model_module_version": "1.2.0",
            "_model_name": "LayoutModel",
            "_view_count": null,
            "_view_module": "@jupyter-widgets/base",
            "_view_module_version": "1.2.0",
            "_view_name": "LayoutView",
            "align_content": null,
            "align_items": null,
            "align_self": null,
            "border": null,
            "bottom": null,
            "display": null,
            "flex": null,
            "flex_flow": null,
            "grid_area": null,
            "grid_auto_columns": null,
            "grid_auto_flow": null,
            "grid_auto_rows": null,
            "grid_column": null,
            "grid_gap": null,
            "grid_row": null,
            "grid_template_areas": null,
            "grid_template_columns": null,
            "grid_template_rows": null,
            "height": null,
            "justify_content": null,
            "justify_items": null,
            "left": null,
            "margin": null,
            "max_height": null,
            "max_width": null,
            "min_height": null,
            "min_width": null,
            "object_fit": null,
            "object_position": null,
            "order": null,
            "overflow": null,
            "overflow_x": null,
            "overflow_y": null,
            "padding": null,
            "right": null,
            "top": null,
            "visibility": null,
            "width": null
          }
        },
        "a0cc1c9adf104b4f81a06a5e9e6476a5": {
          "model_module": "@jupyter-widgets/base",
          "model_name": "LayoutModel",
          "model_module_version": "1.2.0",
          "state": {
            "_model_module": "@jupyter-widgets/base",
            "_model_module_version": "1.2.0",
            "_model_name": "LayoutModel",
            "_view_count": null,
            "_view_module": "@jupyter-widgets/base",
            "_view_module_version": "1.2.0",
            "_view_name": "LayoutView",
            "align_content": null,
            "align_items": null,
            "align_self": null,
            "border": null,
            "bottom": null,
            "display": null,
            "flex": null,
            "flex_flow": null,
            "grid_area": null,
            "grid_auto_columns": null,
            "grid_auto_flow": null,
            "grid_auto_rows": null,
            "grid_column": null,
            "grid_gap": null,
            "grid_row": null,
            "grid_template_areas": null,
            "grid_template_columns": null,
            "grid_template_rows": null,
            "height": null,
            "justify_content": null,
            "justify_items": null,
            "left": null,
            "margin": null,
            "max_height": null,
            "max_width": null,
            "min_height": null,
            "min_width": null,
            "object_fit": null,
            "object_position": null,
            "order": null,
            "overflow": null,
            "overflow_x": null,
            "overflow_y": null,
            "padding": null,
            "right": null,
            "top": null,
            "visibility": null,
            "width": null
          }
        },
        "e17e659a47384d0198338bc9f9126e1d": {
          "model_module": "@jupyter-widgets/controls",
          "model_name": "DescriptionStyleModel",
          "model_module_version": "1.5.0",
          "state": {
            "_model_module": "@jupyter-widgets/controls",
            "_model_module_version": "1.5.0",
            "_model_name": "DescriptionStyleModel",
            "_view_count": null,
            "_view_module": "@jupyter-widgets/base",
            "_view_module_version": "1.2.0",
            "_view_name": "StyleView",
            "description_width": ""
          }
        },
        "512b0addf0e546d3b275e7a3a29f754f": {
          "model_module": "@jupyter-widgets/base",
          "model_name": "LayoutModel",
          "model_module_version": "1.2.0",
          "state": {
            "_model_module": "@jupyter-widgets/base",
            "_model_module_version": "1.2.0",
            "_model_name": "LayoutModel",
            "_view_count": null,
            "_view_module": "@jupyter-widgets/base",
            "_view_module_version": "1.2.0",
            "_view_name": "LayoutView",
            "align_content": null,
            "align_items": null,
            "align_self": null,
            "border": null,
            "bottom": null,
            "display": null,
            "flex": null,
            "flex_flow": null,
            "grid_area": null,
            "grid_auto_columns": null,
            "grid_auto_flow": null,
            "grid_auto_rows": null,
            "grid_column": null,
            "grid_gap": null,
            "grid_row": null,
            "grid_template_areas": null,
            "grid_template_columns": null,
            "grid_template_rows": null,
            "height": null,
            "justify_content": null,
            "justify_items": null,
            "left": null,
            "margin": null,
            "max_height": null,
            "max_width": null,
            "min_height": null,
            "min_width": null,
            "object_fit": null,
            "object_position": null,
            "order": null,
            "overflow": null,
            "overflow_x": null,
            "overflow_y": null,
            "padding": null,
            "right": null,
            "top": null,
            "visibility": null,
            "width": null
          }
        },
        "714def0acd74417ea75f8e932ff667bc": {
          "model_module": "@jupyter-widgets/controls",
          "model_name": "ProgressStyleModel",
          "model_module_version": "1.5.0",
          "state": {
            "_model_module": "@jupyter-widgets/controls",
            "_model_module_version": "1.5.0",
            "_model_name": "ProgressStyleModel",
            "_view_count": null,
            "_view_module": "@jupyter-widgets/base",
            "_view_module_version": "1.2.0",
            "_view_name": "StyleView",
            "bar_color": null,
            "description_width": ""
          }
        },
        "f4a5a5daa8d04414adfd1ac7dc39244c": {
          "model_module": "@jupyter-widgets/base",
          "model_name": "LayoutModel",
          "model_module_version": "1.2.0",
          "state": {
            "_model_module": "@jupyter-widgets/base",
            "_model_module_version": "1.2.0",
            "_model_name": "LayoutModel",
            "_view_count": null,
            "_view_module": "@jupyter-widgets/base",
            "_view_module_version": "1.2.0",
            "_view_name": "LayoutView",
            "align_content": null,
            "align_items": null,
            "align_self": null,
            "border": null,
            "bottom": null,
            "display": null,
            "flex": null,
            "flex_flow": null,
            "grid_area": null,
            "grid_auto_columns": null,
            "grid_auto_flow": null,
            "grid_auto_rows": null,
            "grid_column": null,
            "grid_gap": null,
            "grid_row": null,
            "grid_template_areas": null,
            "grid_template_columns": null,
            "grid_template_rows": null,
            "height": null,
            "justify_content": null,
            "justify_items": null,
            "left": null,
            "margin": null,
            "max_height": null,
            "max_width": null,
            "min_height": null,
            "min_width": null,
            "object_fit": null,
            "object_position": null,
            "order": null,
            "overflow": null,
            "overflow_x": null,
            "overflow_y": null,
            "padding": null,
            "right": null,
            "top": null,
            "visibility": null,
            "width": null
          }
        },
        "69859dedac8e4b98aafc1d2085bd33d9": {
          "model_module": "@jupyter-widgets/controls",
          "model_name": "DescriptionStyleModel",
          "model_module_version": "1.5.0",
          "state": {
            "_model_module": "@jupyter-widgets/controls",
            "_model_module_version": "1.5.0",
            "_model_name": "DescriptionStyleModel",
            "_view_count": null,
            "_view_module": "@jupyter-widgets/base",
            "_view_module_version": "1.2.0",
            "_view_name": "StyleView",
            "description_width": ""
          }
        },
        "9bddae35fa2c46e5b0c7141e5471462d": {
          "model_module": "@jupyter-widgets/controls",
          "model_name": "HBoxModel",
          "model_module_version": "1.5.0",
          "state": {
            "_dom_classes": [],
            "_model_module": "@jupyter-widgets/controls",
            "_model_module_version": "1.5.0",
            "_model_name": "HBoxModel",
            "_view_count": null,
            "_view_module": "@jupyter-widgets/controls",
            "_view_module_version": "1.5.0",
            "_view_name": "HBoxView",
            "box_style": "",
            "children": [
              "IPY_MODEL_a070132a582544e98d221f7bd9a337fc",
              "IPY_MODEL_b175bf96d15944098ce767ed6c43daaf",
              "IPY_MODEL_3ee8c0079f6b41f8b486caf83e513f9a"
            ],
            "layout": "IPY_MODEL_a3166243d99b44649f2fdf7629ca830a"
          }
        },
        "a070132a582544e98d221f7bd9a337fc": {
          "model_module": "@jupyter-widgets/controls",
          "model_name": "HTMLModel",
          "model_module_version": "1.5.0",
          "state": {
            "_dom_classes": [],
            "_model_module": "@jupyter-widgets/controls",
            "_model_module_version": "1.5.0",
            "_model_name": "HTMLModel",
            "_view_count": null,
            "_view_module": "@jupyter-widgets/controls",
            "_view_module_version": "1.5.0",
            "_view_name": "HTMLView",
            "description": "",
            "description_tooltip": null,
            "layout": "IPY_MODEL_222cf5b6d6a04ba5afd30f965b605247",
            "placeholder": "​",
            "style": "IPY_MODEL_986bfc59e3ca4f83bb0e728a9cefef48",
            "value": "Map: 100%"
          }
        },
        "b175bf96d15944098ce767ed6c43daaf": {
          "model_module": "@jupyter-widgets/controls",
          "model_name": "FloatProgressModel",
          "model_module_version": "1.5.0",
          "state": {
            "_dom_classes": [],
            "_model_module": "@jupyter-widgets/controls",
            "_model_module_version": "1.5.0",
            "_model_name": "FloatProgressModel",
            "_view_count": null,
            "_view_module": "@jupyter-widgets/controls",
            "_view_module_version": "1.5.0",
            "_view_name": "ProgressView",
            "bar_style": "success",
            "description": "",
            "description_tooltip": null,
            "layout": "IPY_MODEL_64291f4898f74c6fb1a9f0283c3c5f52",
            "max": 100,
            "min": 0,
            "orientation": "horizontal",
            "style": "IPY_MODEL_0abc461b2a664562a044196b4fd96ff9",
            "value": 100
          }
        },
        "3ee8c0079f6b41f8b486caf83e513f9a": {
          "model_module": "@jupyter-widgets/controls",
          "model_name": "HTMLModel",
          "model_module_version": "1.5.0",
          "state": {
            "_dom_classes": [],
            "_model_module": "@jupyter-widgets/controls",
            "_model_module_version": "1.5.0",
            "_model_name": "HTMLModel",
            "_view_count": null,
            "_view_module": "@jupyter-widgets/controls",
            "_view_module_version": "1.5.0",
            "_view_name": "HTMLView",
            "description": "",
            "description_tooltip": null,
            "layout": "IPY_MODEL_5ade441e11da4a1ab97a4aaacd252b93",
            "placeholder": "​",
            "style": "IPY_MODEL_e76784a2e65246efab65a5394db7fdf1",
            "value": " 100/100 [00:00&lt;00:00, 629.01 examples/s]"
          }
        },
        "a3166243d99b44649f2fdf7629ca830a": {
          "model_module": "@jupyter-widgets/base",
          "model_name": "LayoutModel",
          "model_module_version": "1.2.0",
          "state": {
            "_model_module": "@jupyter-widgets/base",
            "_model_module_version": "1.2.0",
            "_model_name": "LayoutModel",
            "_view_count": null,
            "_view_module": "@jupyter-widgets/base",
            "_view_module_version": "1.2.0",
            "_view_name": "LayoutView",
            "align_content": null,
            "align_items": null,
            "align_self": null,
            "border": null,
            "bottom": null,
            "display": null,
            "flex": null,
            "flex_flow": null,
            "grid_area": null,
            "grid_auto_columns": null,
            "grid_auto_flow": null,
            "grid_auto_rows": null,
            "grid_column": null,
            "grid_gap": null,
            "grid_row": null,
            "grid_template_areas": null,
            "grid_template_columns": null,
            "grid_template_rows": null,
            "height": null,
            "justify_content": null,
            "justify_items": null,
            "left": null,
            "margin": null,
            "max_height": null,
            "max_width": null,
            "min_height": null,
            "min_width": null,
            "object_fit": null,
            "object_position": null,
            "order": null,
            "overflow": null,
            "overflow_x": null,
            "overflow_y": null,
            "padding": null,
            "right": null,
            "top": null,
            "visibility": null,
            "width": null
          }
        },
        "222cf5b6d6a04ba5afd30f965b605247": {
          "model_module": "@jupyter-widgets/base",
          "model_name": "LayoutModel",
          "model_module_version": "1.2.0",
          "state": {
            "_model_module": "@jupyter-widgets/base",
            "_model_module_version": "1.2.0",
            "_model_name": "LayoutModel",
            "_view_count": null,
            "_view_module": "@jupyter-widgets/base",
            "_view_module_version": "1.2.0",
            "_view_name": "LayoutView",
            "align_content": null,
            "align_items": null,
            "align_self": null,
            "border": null,
            "bottom": null,
            "display": null,
            "flex": null,
            "flex_flow": null,
            "grid_area": null,
            "grid_auto_columns": null,
            "grid_auto_flow": null,
            "grid_auto_rows": null,
            "grid_column": null,
            "grid_gap": null,
            "grid_row": null,
            "grid_template_areas": null,
            "grid_template_columns": null,
            "grid_template_rows": null,
            "height": null,
            "justify_content": null,
            "justify_items": null,
            "left": null,
            "margin": null,
            "max_height": null,
            "max_width": null,
            "min_height": null,
            "min_width": null,
            "object_fit": null,
            "object_position": null,
            "order": null,
            "overflow": null,
            "overflow_x": null,
            "overflow_y": null,
            "padding": null,
            "right": null,
            "top": null,
            "visibility": null,
            "width": null
          }
        },
        "986bfc59e3ca4f83bb0e728a9cefef48": {
          "model_module": "@jupyter-widgets/controls",
          "model_name": "DescriptionStyleModel",
          "model_module_version": "1.5.0",
          "state": {
            "_model_module": "@jupyter-widgets/controls",
            "_model_module_version": "1.5.0",
            "_model_name": "DescriptionStyleModel",
            "_view_count": null,
            "_view_module": "@jupyter-widgets/base",
            "_view_module_version": "1.2.0",
            "_view_name": "StyleView",
            "description_width": ""
          }
        },
        "64291f4898f74c6fb1a9f0283c3c5f52": {
          "model_module": "@jupyter-widgets/base",
          "model_name": "LayoutModel",
          "model_module_version": "1.2.0",
          "state": {
            "_model_module": "@jupyter-widgets/base",
            "_model_module_version": "1.2.0",
            "_model_name": "LayoutModel",
            "_view_count": null,
            "_view_module": "@jupyter-widgets/base",
            "_view_module_version": "1.2.0",
            "_view_name": "LayoutView",
            "align_content": null,
            "align_items": null,
            "align_self": null,
            "border": null,
            "bottom": null,
            "display": null,
            "flex": null,
            "flex_flow": null,
            "grid_area": null,
            "grid_auto_columns": null,
            "grid_auto_flow": null,
            "grid_auto_rows": null,
            "grid_column": null,
            "grid_gap": null,
            "grid_row": null,
            "grid_template_areas": null,
            "grid_template_columns": null,
            "grid_template_rows": null,
            "height": null,
            "justify_content": null,
            "justify_items": null,
            "left": null,
            "margin": null,
            "max_height": null,
            "max_width": null,
            "min_height": null,
            "min_width": null,
            "object_fit": null,
            "object_position": null,
            "order": null,
            "overflow": null,
            "overflow_x": null,
            "overflow_y": null,
            "padding": null,
            "right": null,
            "top": null,
            "visibility": null,
            "width": null
          }
        },
        "0abc461b2a664562a044196b4fd96ff9": {
          "model_module": "@jupyter-widgets/controls",
          "model_name": "ProgressStyleModel",
          "model_module_version": "1.5.0",
          "state": {
            "_model_module": "@jupyter-widgets/controls",
            "_model_module_version": "1.5.0",
            "_model_name": "ProgressStyleModel",
            "_view_count": null,
            "_view_module": "@jupyter-widgets/base",
            "_view_module_version": "1.2.0",
            "_view_name": "StyleView",
            "bar_color": null,
            "description_width": ""
          }
        },
        "5ade441e11da4a1ab97a4aaacd252b93": {
          "model_module": "@jupyter-widgets/base",
          "model_name": "LayoutModel",
          "model_module_version": "1.2.0",
          "state": {
            "_model_module": "@jupyter-widgets/base",
            "_model_module_version": "1.2.0",
            "_model_name": "LayoutModel",
            "_view_count": null,
            "_view_module": "@jupyter-widgets/base",
            "_view_module_version": "1.2.0",
            "_view_name": "LayoutView",
            "align_content": null,
            "align_items": null,
            "align_self": null,
            "border": null,
            "bottom": null,
            "display": null,
            "flex": null,
            "flex_flow": null,
            "grid_area": null,
            "grid_auto_columns": null,
            "grid_auto_flow": null,
            "grid_auto_rows": null,
            "grid_column": null,
            "grid_gap": null,
            "grid_row": null,
            "grid_template_areas": null,
            "grid_template_columns": null,
            "grid_template_rows": null,
            "height": null,
            "justify_content": null,
            "justify_items": null,
            "left": null,
            "margin": null,
            "max_height": null,
            "max_width": null,
            "min_height": null,
            "min_width": null,
            "object_fit": null,
            "object_position": null,
            "order": null,
            "overflow": null,
            "overflow_x": null,
            "overflow_y": null,
            "padding": null,
            "right": null,
            "top": null,
            "visibility": null,
            "width": null
          }
        },
        "e76784a2e65246efab65a5394db7fdf1": {
          "model_module": "@jupyter-widgets/controls",
          "model_name": "DescriptionStyleModel",
          "model_module_version": "1.5.0",
          "state": {
            "_model_module": "@jupyter-widgets/controls",
            "_model_module_version": "1.5.0",
            "_model_name": "DescriptionStyleModel",
            "_view_count": null,
            "_view_module": "@jupyter-widgets/base",
            "_view_module_version": "1.2.0",
            "_view_name": "StyleView",
            "description_width": ""
          }
        },
        "e00e3396a5a34b60b379d7025404ade0": {
          "model_module": "@jupyter-widgets/controls",
          "model_name": "HBoxModel",
          "model_module_version": "1.5.0",
          "state": {
            "_dom_classes": [],
            "_model_module": "@jupyter-widgets/controls",
            "_model_module_version": "1.5.0",
            "_model_name": "HBoxModel",
            "_view_count": null,
            "_view_module": "@jupyter-widgets/controls",
            "_view_module_version": "1.5.0",
            "_view_name": "HBoxView",
            "box_style": "",
            "children": [
              "IPY_MODEL_366b262a97924ea3ad66e32289a1523b",
              "IPY_MODEL_7d5fba4220b242eea8b9ad23b531606d",
              "IPY_MODEL_1c30eb6240af48259620ab0b6faf19c6"
            ],
            "layout": "IPY_MODEL_cf334b6bf9814a88b359fcbe03cfe173"
          }
        },
        "366b262a97924ea3ad66e32289a1523b": {
          "model_module": "@jupyter-widgets/controls",
          "model_name": "HTMLModel",
          "model_module_version": "1.5.0",
          "state": {
            "_dom_classes": [],
            "_model_module": "@jupyter-widgets/controls",
            "_model_module_version": "1.5.0",
            "_model_name": "HTMLModel",
            "_view_count": null,
            "_view_module": "@jupyter-widgets/controls",
            "_view_module_version": "1.5.0",
            "_view_name": "HTMLView",
            "description": "",
            "description_tooltip": null,
            "layout": "IPY_MODEL_e1a9274947a14484a5ec002da8f98f42",
            "placeholder": "​",
            "style": "IPY_MODEL_9d923b770a26401e8fcd52602b64b8ca",
            "value": "adapter_model.safetensors: 100%"
          }
        },
        "7d5fba4220b242eea8b9ad23b531606d": {
          "model_module": "@jupyter-widgets/controls",
          "model_name": "FloatProgressModel",
          "model_module_version": "1.5.0",
          "state": {
            "_dom_classes": [],
            "_model_module": "@jupyter-widgets/controls",
            "_model_module_version": "1.5.0",
            "_model_name": "FloatProgressModel",
            "_view_count": null,
            "_view_module": "@jupyter-widgets/controls",
            "_view_module_version": "1.5.0",
            "_view_name": "ProgressView",
            "bar_style": "success",
            "description": "",
            "description_tooltip": null,
            "layout": "IPY_MODEL_431c23e5d8d74256b1f0e34712115780",
            "max": 2052622840,
            "min": 0,
            "orientation": "horizontal",
            "style": "IPY_MODEL_311ae2ea4766417faa7969981580e874",
            "value": 2052622840
          }
        },
        "1c30eb6240af48259620ab0b6faf19c6": {
          "model_module": "@jupyter-widgets/controls",
          "model_name": "HTMLModel",
          "model_module_version": "1.5.0",
          "state": {
            "_dom_classes": [],
            "_model_module": "@jupyter-widgets/controls",
            "_model_module_version": "1.5.0",
            "_model_name": "HTMLModel",
            "_view_count": null,
            "_view_module": "@jupyter-widgets/controls",
            "_view_module_version": "1.5.0",
            "_view_name": "HTMLView",
            "description": "",
            "description_tooltip": null,
            "layout": "IPY_MODEL_ac5a82449d5642ea9586f705ee0015e0",
            "placeholder": "​",
            "style": "IPY_MODEL_423b02c302de49f1974e7a97fa2df671",
            "value": " 2.05G/2.05G [00:50&lt;00:00, 52.7MB/s]"
          }
        },
        "cf334b6bf9814a88b359fcbe03cfe173": {
          "model_module": "@jupyter-widgets/base",
          "model_name": "LayoutModel",
          "model_module_version": "1.2.0",
          "state": {
            "_model_module": "@jupyter-widgets/base",
            "_model_module_version": "1.2.0",
            "_model_name": "LayoutModel",
            "_view_count": null,
            "_view_module": "@jupyter-widgets/base",
            "_view_module_version": "1.2.0",
            "_view_name": "LayoutView",
            "align_content": null,
            "align_items": null,
            "align_self": null,
            "border": null,
            "bottom": null,
            "display": null,
            "flex": null,
            "flex_flow": null,
            "grid_area": null,
            "grid_auto_columns": null,
            "grid_auto_flow": null,
            "grid_auto_rows": null,
            "grid_column": null,
            "grid_gap": null,
            "grid_row": null,
            "grid_template_areas": null,
            "grid_template_columns": null,
            "grid_template_rows": null,
            "height": null,
            "justify_content": null,
            "justify_items": null,
            "left": null,
            "margin": null,
            "max_height": null,
            "max_width": null,
            "min_height": null,
            "min_width": null,
            "object_fit": null,
            "object_position": null,
            "order": null,
            "overflow": null,
            "overflow_x": null,
            "overflow_y": null,
            "padding": null,
            "right": null,
            "top": null,
            "visibility": null,
            "width": null
          }
        },
        "e1a9274947a14484a5ec002da8f98f42": {
          "model_module": "@jupyter-widgets/base",
          "model_name": "LayoutModel",
          "model_module_version": "1.2.0",
          "state": {
            "_model_module": "@jupyter-widgets/base",
            "_model_module_version": "1.2.0",
            "_model_name": "LayoutModel",
            "_view_count": null,
            "_view_module": "@jupyter-widgets/base",
            "_view_module_version": "1.2.0",
            "_view_name": "LayoutView",
            "align_content": null,
            "align_items": null,
            "align_self": null,
            "border": null,
            "bottom": null,
            "display": null,
            "flex": null,
            "flex_flow": null,
            "grid_area": null,
            "grid_auto_columns": null,
            "grid_auto_flow": null,
            "grid_auto_rows": null,
            "grid_column": null,
            "grid_gap": null,
            "grid_row": null,
            "grid_template_areas": null,
            "grid_template_columns": null,
            "grid_template_rows": null,
            "height": null,
            "justify_content": null,
            "justify_items": null,
            "left": null,
            "margin": null,
            "max_height": null,
            "max_width": null,
            "min_height": null,
            "min_width": null,
            "object_fit": null,
            "object_position": null,
            "order": null,
            "overflow": null,
            "overflow_x": null,
            "overflow_y": null,
            "padding": null,
            "right": null,
            "top": null,
            "visibility": null,
            "width": null
          }
        },
        "9d923b770a26401e8fcd52602b64b8ca": {
          "model_module": "@jupyter-widgets/controls",
          "model_name": "DescriptionStyleModel",
          "model_module_version": "1.5.0",
          "state": {
            "_model_module": "@jupyter-widgets/controls",
            "_model_module_version": "1.5.0",
            "_model_name": "DescriptionStyleModel",
            "_view_count": null,
            "_view_module": "@jupyter-widgets/base",
            "_view_module_version": "1.2.0",
            "_view_name": "StyleView",
            "description_width": ""
          }
        },
        "431c23e5d8d74256b1f0e34712115780": {
          "model_module": "@jupyter-widgets/base",
          "model_name": "LayoutModel",
          "model_module_version": "1.2.0",
          "state": {
            "_model_module": "@jupyter-widgets/base",
            "_model_module_version": "1.2.0",
            "_model_name": "LayoutModel",
            "_view_count": null,
            "_view_module": "@jupyter-widgets/base",
            "_view_module_version": "1.2.0",
            "_view_name": "LayoutView",
            "align_content": null,
            "align_items": null,
            "align_self": null,
            "border": null,
            "bottom": null,
            "display": null,
            "flex": null,
            "flex_flow": null,
            "grid_area": null,
            "grid_auto_columns": null,
            "grid_auto_flow": null,
            "grid_auto_rows": null,
            "grid_column": null,
            "grid_gap": null,
            "grid_row": null,
            "grid_template_areas": null,
            "grid_template_columns": null,
            "grid_template_rows": null,
            "height": null,
            "justify_content": null,
            "justify_items": null,
            "left": null,
            "margin": null,
            "max_height": null,
            "max_width": null,
            "min_height": null,
            "min_width": null,
            "object_fit": null,
            "object_position": null,
            "order": null,
            "overflow": null,
            "overflow_x": null,
            "overflow_y": null,
            "padding": null,
            "right": null,
            "top": null,
            "visibility": null,
            "width": null
          }
        },
        "311ae2ea4766417faa7969981580e874": {
          "model_module": "@jupyter-widgets/controls",
          "model_name": "ProgressStyleModel",
          "model_module_version": "1.5.0",
          "state": {
            "_model_module": "@jupyter-widgets/controls",
            "_model_module_version": "1.5.0",
            "_model_name": "ProgressStyleModel",
            "_view_count": null,
            "_view_module": "@jupyter-widgets/base",
            "_view_module_version": "1.2.0",
            "_view_name": "StyleView",
            "bar_color": null,
            "description_width": ""
          }
        },
        "ac5a82449d5642ea9586f705ee0015e0": {
          "model_module": "@jupyter-widgets/base",
          "model_name": "LayoutModel",
          "model_module_version": "1.2.0",
          "state": {
            "_model_module": "@jupyter-widgets/base",
            "_model_module_version": "1.2.0",
            "_model_name": "LayoutModel",
            "_view_count": null,
            "_view_module": "@jupyter-widgets/base",
            "_view_module_version": "1.2.0",
            "_view_name": "LayoutView",
            "align_content": null,
            "align_items": null,
            "align_self": null,
            "border": null,
            "bottom": null,
            "display": null,
            "flex": null,
            "flex_flow": null,
            "grid_area": null,
            "grid_auto_columns": null,
            "grid_auto_flow": null,
            "grid_auto_rows": null,
            "grid_column": null,
            "grid_gap": null,
            "grid_row": null,
            "grid_template_areas": null,
            "grid_template_columns": null,
            "grid_template_rows": null,
            "height": null,
            "justify_content": null,
            "justify_items": null,
            "left": null,
            "margin": null,
            "max_height": null,
            "max_width": null,
            "min_height": null,
            "min_width": null,
            "object_fit": null,
            "object_position": null,
            "order": null,
            "overflow": null,
            "overflow_x": null,
            "overflow_y": null,
            "padding": null,
            "right": null,
            "top": null,
            "visibility": null,
            "width": null
          }
        },
        "423b02c302de49f1974e7a97fa2df671": {
          "model_module": "@jupyter-widgets/controls",
          "model_name": "DescriptionStyleModel",
          "model_module_version": "1.5.0",
          "state": {
            "_model_module": "@jupyter-widgets/controls",
            "_model_module_version": "1.5.0",
            "_model_name": "DescriptionStyleModel",
            "_view_count": null,
            "_view_module": "@jupyter-widgets/base",
            "_view_module_version": "1.2.0",
            "_view_name": "StyleView",
            "description_width": ""
          }
        },
        "0228746942c84400b1ee214f68f43bde": {
          "model_module": "@jupyter-widgets/controls",
          "model_name": "HBoxModel",
          "model_module_version": "1.5.0",
          "state": {
            "_dom_classes": [],
            "_model_module": "@jupyter-widgets/controls",
            "_model_module_version": "1.5.0",
            "_model_name": "HBoxModel",
            "_view_count": null,
            "_view_module": "@jupyter-widgets/controls",
            "_view_module_version": "1.5.0",
            "_view_name": "HBoxView",
            "box_style": "",
            "children": [
              "IPY_MODEL_ba0a8328916e40b5bfecc95b1b7cdaf4",
              "IPY_MODEL_dd630f1abfac449484f075c350f3d0a8",
              "IPY_MODEL_7c54652598164b02a7bfca3523c95d5e"
            ],
            "layout": "IPY_MODEL_5da49f361fd7451481b43e74378941e3"
          }
        },
        "ba0a8328916e40b5bfecc95b1b7cdaf4": {
          "model_module": "@jupyter-widgets/controls",
          "model_name": "HTMLModel",
          "model_module_version": "1.5.0",
          "state": {
            "_dom_classes": [],
            "_model_module": "@jupyter-widgets/controls",
            "_model_module_version": "1.5.0",
            "_model_name": "HTMLModel",
            "_view_count": null,
            "_view_module": "@jupyter-widgets/controls",
            "_view_module_version": "1.5.0",
            "_view_name": "HTMLView",
            "description": "",
            "description_tooltip": null,
            "layout": "IPY_MODEL_d147ff93fc364d0583a2a5331ec66cfa",
            "placeholder": "​",
            "style": "IPY_MODEL_fa68f30ac1994bd6bc251c5b11605cf2",
            "value": "Loading checkpoint shards: 100%"
          }
        },
        "dd630f1abfac449484f075c350f3d0a8": {
          "model_module": "@jupyter-widgets/controls",
          "model_name": "FloatProgressModel",
          "model_module_version": "1.5.0",
          "state": {
            "_dom_classes": [],
            "_model_module": "@jupyter-widgets/controls",
            "_model_module_version": "1.5.0",
            "_model_name": "FloatProgressModel",
            "_view_count": null,
            "_view_module": "@jupyter-widgets/controls",
            "_view_module_version": "1.5.0",
            "_view_name": "ProgressView",
            "bar_style": "success",
            "description": "",
            "description_tooltip": null,
            "layout": "IPY_MODEL_37dc1d5978d74f39a5ff4c312e7b69ed",
            "max": 10,
            "min": 0,
            "orientation": "horizontal",
            "style": "IPY_MODEL_90a3393ffc8041d4882fc44db473c14d",
            "value": 10
          }
        },
        "7c54652598164b02a7bfca3523c95d5e": {
          "model_module": "@jupyter-widgets/controls",
          "model_name": "HTMLModel",
          "model_module_version": "1.5.0",
          "state": {
            "_dom_classes": [],
            "_model_module": "@jupyter-widgets/controls",
            "_model_module_version": "1.5.0",
            "_model_name": "HTMLModel",
            "_view_count": null,
            "_view_module": "@jupyter-widgets/controls",
            "_view_module_version": "1.5.0",
            "_view_name": "HTMLView",
            "description": "",
            "description_tooltip": null,
            "layout": "IPY_MODEL_6df520f4cb934c6baa1a3ac0dc271924",
            "placeholder": "​",
            "style": "IPY_MODEL_bc3fc32af0544b6aa6b5e86cb62ecf42",
            "value": " 10/10 [00:14&lt;00:00,  1.25s/it]"
          }
        },
        "5da49f361fd7451481b43e74378941e3": {
          "model_module": "@jupyter-widgets/base",
          "model_name": "LayoutModel",
          "model_module_version": "1.2.0",
          "state": {
            "_model_module": "@jupyter-widgets/base",
            "_model_module_version": "1.2.0",
            "_model_name": "LayoutModel",
            "_view_count": null,
            "_view_module": "@jupyter-widgets/base",
            "_view_module_version": "1.2.0",
            "_view_name": "LayoutView",
            "align_content": null,
            "align_items": null,
            "align_self": null,
            "border": null,
            "bottom": null,
            "display": null,
            "flex": null,
            "flex_flow": null,
            "grid_area": null,
            "grid_auto_columns": null,
            "grid_auto_flow": null,
            "grid_auto_rows": null,
            "grid_column": null,
            "grid_gap": null,
            "grid_row": null,
            "grid_template_areas": null,
            "grid_template_columns": null,
            "grid_template_rows": null,
            "height": null,
            "justify_content": null,
            "justify_items": null,
            "left": null,
            "margin": null,
            "max_height": null,
            "max_width": null,
            "min_height": null,
            "min_width": null,
            "object_fit": null,
            "object_position": null,
            "order": null,
            "overflow": null,
            "overflow_x": null,
            "overflow_y": null,
            "padding": null,
            "right": null,
            "top": null,
            "visibility": null,
            "width": null
          }
        },
        "d147ff93fc364d0583a2a5331ec66cfa": {
          "model_module": "@jupyter-widgets/base",
          "model_name": "LayoutModel",
          "model_module_version": "1.2.0",
          "state": {
            "_model_module": "@jupyter-widgets/base",
            "_model_module_version": "1.2.0",
            "_model_name": "LayoutModel",
            "_view_count": null,
            "_view_module": "@jupyter-widgets/base",
            "_view_module_version": "1.2.0",
            "_view_name": "LayoutView",
            "align_content": null,
            "align_items": null,
            "align_self": null,
            "border": null,
            "bottom": null,
            "display": null,
            "flex": null,
            "flex_flow": null,
            "grid_area": null,
            "grid_auto_columns": null,
            "grid_auto_flow": null,
            "grid_auto_rows": null,
            "grid_column": null,
            "grid_gap": null,
            "grid_row": null,
            "grid_template_areas": null,
            "grid_template_columns": null,
            "grid_template_rows": null,
            "height": null,
            "justify_content": null,
            "justify_items": null,
            "left": null,
            "margin": null,
            "max_height": null,
            "max_width": null,
            "min_height": null,
            "min_width": null,
            "object_fit": null,
            "object_position": null,
            "order": null,
            "overflow": null,
            "overflow_x": null,
            "overflow_y": null,
            "padding": null,
            "right": null,
            "top": null,
            "visibility": null,
            "width": null
          }
        },
        "fa68f30ac1994bd6bc251c5b11605cf2": {
          "model_module": "@jupyter-widgets/controls",
          "model_name": "DescriptionStyleModel",
          "model_module_version": "1.5.0",
          "state": {
            "_model_module": "@jupyter-widgets/controls",
            "_model_module_version": "1.5.0",
            "_model_name": "DescriptionStyleModel",
            "_view_count": null,
            "_view_module": "@jupyter-widgets/base",
            "_view_module_version": "1.2.0",
            "_view_name": "StyleView",
            "description_width": ""
          }
        },
        "37dc1d5978d74f39a5ff4c312e7b69ed": {
          "model_module": "@jupyter-widgets/base",
          "model_name": "LayoutModel",
          "model_module_version": "1.2.0",
          "state": {
            "_model_module": "@jupyter-widgets/base",
            "_model_module_version": "1.2.0",
            "_model_name": "LayoutModel",
            "_view_count": null,
            "_view_module": "@jupyter-widgets/base",
            "_view_module_version": "1.2.0",
            "_view_name": "LayoutView",
            "align_content": null,
            "align_items": null,
            "align_self": null,
            "border": null,
            "bottom": null,
            "display": null,
            "flex": null,
            "flex_flow": null,
            "grid_area": null,
            "grid_auto_columns": null,
            "grid_auto_flow": null,
            "grid_auto_rows": null,
            "grid_column": null,
            "grid_gap": null,
            "grid_row": null,
            "grid_template_areas": null,
            "grid_template_columns": null,
            "grid_template_rows": null,
            "height": null,
            "justify_content": null,
            "justify_items": null,
            "left": null,
            "margin": null,
            "max_height": null,
            "max_width": null,
            "min_height": null,
            "min_width": null,
            "object_fit": null,
            "object_position": null,
            "order": null,
            "overflow": null,
            "overflow_x": null,
            "overflow_y": null,
            "padding": null,
            "right": null,
            "top": null,
            "visibility": null,
            "width": null
          }
        },
        "90a3393ffc8041d4882fc44db473c14d": {
          "model_module": "@jupyter-widgets/controls",
          "model_name": "ProgressStyleModel",
          "model_module_version": "1.5.0",
          "state": {
            "_model_module": "@jupyter-widgets/controls",
            "_model_module_version": "1.5.0",
            "_model_name": "ProgressStyleModel",
            "_view_count": null,
            "_view_module": "@jupyter-widgets/base",
            "_view_module_version": "1.2.0",
            "_view_name": "StyleView",
            "bar_color": null,
            "description_width": ""
          }
        },
        "6df520f4cb934c6baa1a3ac0dc271924": {
          "model_module": "@jupyter-widgets/base",
          "model_name": "LayoutModel",
          "model_module_version": "1.2.0",
          "state": {
            "_model_module": "@jupyter-widgets/base",
            "_model_module_version": "1.2.0",
            "_model_name": "LayoutModel",
            "_view_count": null,
            "_view_module": "@jupyter-widgets/base",
            "_view_module_version": "1.2.0",
            "_view_name": "LayoutView",
            "align_content": null,
            "align_items": null,
            "align_self": null,
            "border": null,
            "bottom": null,
            "display": null,
            "flex": null,
            "flex_flow": null,
            "grid_area": null,
            "grid_auto_columns": null,
            "grid_auto_flow": null,
            "grid_auto_rows": null,
            "grid_column": null,
            "grid_gap": null,
            "grid_row": null,
            "grid_template_areas": null,
            "grid_template_columns": null,
            "grid_template_rows": null,
            "height": null,
            "justify_content": null,
            "justify_items": null,
            "left": null,
            "margin": null,
            "max_height": null,
            "max_width": null,
            "min_height": null,
            "min_width": null,
            "object_fit": null,
            "object_position": null,
            "order": null,
            "overflow": null,
            "overflow_x": null,
            "overflow_y": null,
            "padding": null,
            "right": null,
            "top": null,
            "visibility": null,
            "width": null
          }
        },
        "bc3fc32af0544b6aa6b5e86cb62ecf42": {
          "model_module": "@jupyter-widgets/controls",
          "model_name": "DescriptionStyleModel",
          "model_module_version": "1.5.0",
          "state": {
            "_model_module": "@jupyter-widgets/controls",
            "_model_module_version": "1.5.0",
            "_model_name": "DescriptionStyleModel",
            "_view_count": null,
            "_view_module": "@jupyter-widgets/base",
            "_view_module_version": "1.2.0",
            "_view_name": "StyleView",
            "description_width": ""
          }
        },
        "7ee5333285b14f6a8bc96db72becf859": {
          "model_module": "@jupyter-widgets/controls",
          "model_name": "HBoxModel",
          "model_module_version": "1.5.0",
          "state": {
            "_dom_classes": [],
            "_model_module": "@jupyter-widgets/controls",
            "_model_module_version": "1.5.0",
            "_model_name": "HBoxModel",
            "_view_count": null,
            "_view_module": "@jupyter-widgets/controls",
            "_view_module_version": "1.5.0",
            "_view_name": "HBoxView",
            "box_style": "",
            "children": [
              "IPY_MODEL_7fcf3d9afd9e4777a80aba0751208df3",
              "IPY_MODEL_15ba35c1a662469882395dd0e2d66154",
              "IPY_MODEL_3a272e2f6ccb4972a9562345c81c430e"
            ],
            "layout": "IPY_MODEL_a63ceead2d104be587e5f8ba2d8b2892"
          }
        },
        "7fcf3d9afd9e4777a80aba0751208df3": {
          "model_module": "@jupyter-widgets/controls",
          "model_name": "HTMLModel",
          "model_module_version": "1.5.0",
          "state": {
            "_dom_classes": [],
            "_model_module": "@jupyter-widgets/controls",
            "_model_module_version": "1.5.0",
            "_model_name": "HTMLModel",
            "_view_count": null,
            "_view_module": "@jupyter-widgets/controls",
            "_view_module_version": "1.5.0",
            "_view_name": "HTMLView",
            "description": "",
            "description_tooltip": null,
            "layout": "IPY_MODEL_bb077584d06f4ed6a2223322749ce02c",
            "placeholder": "​",
            "style": "IPY_MODEL_ccbc3c36c96d4d9ca1c5e87ec3c8d507",
            "value": "adapter_config.json: 100%"
          }
        },
        "15ba35c1a662469882395dd0e2d66154": {
          "model_module": "@jupyter-widgets/controls",
          "model_name": "FloatProgressModel",
          "model_module_version": "1.5.0",
          "state": {
            "_dom_classes": [],
            "_model_module": "@jupyter-widgets/controls",
            "_model_module_version": "1.5.0",
            "_model_name": "FloatProgressModel",
            "_view_count": null,
            "_view_module": "@jupyter-widgets/controls",
            "_view_module_version": "1.5.0",
            "_view_name": "ProgressView",
            "bar_style": "success",
            "description": "",
            "description_tooltip": null,
            "layout": "IPY_MODEL_8bdf2e4f99a44362b5f38d9a1f1a49e8",
            "max": 725,
            "min": 0,
            "orientation": "horizontal",
            "style": "IPY_MODEL_48b02816134646f9b6316be62888d9eb",
            "value": 725
          }
        },
        "3a272e2f6ccb4972a9562345c81c430e": {
          "model_module": "@jupyter-widgets/controls",
          "model_name": "HTMLModel",
          "model_module_version": "1.5.0",
          "state": {
            "_dom_classes": [],
            "_model_module": "@jupyter-widgets/controls",
            "_model_module_version": "1.5.0",
            "_model_name": "HTMLModel",
            "_view_count": null,
            "_view_module": "@jupyter-widgets/controls",
            "_view_module_version": "1.5.0",
            "_view_name": "HTMLView",
            "description": "",
            "description_tooltip": null,
            "layout": "IPY_MODEL_da2918855f40492e8e75efbf97675303",
            "placeholder": "​",
            "style": "IPY_MODEL_a63ba2452b9542249ed0b28f1360059e",
            "value": " 725/725 [00:00&lt;00:00, 57.2kB/s]"
          }
        },
        "a63ceead2d104be587e5f8ba2d8b2892": {
          "model_module": "@jupyter-widgets/base",
          "model_name": "LayoutModel",
          "model_module_version": "1.2.0",
          "state": {
            "_model_module": "@jupyter-widgets/base",
            "_model_module_version": "1.2.0",
            "_model_name": "LayoutModel",
            "_view_count": null,
            "_view_module": "@jupyter-widgets/base",
            "_view_module_version": "1.2.0",
            "_view_name": "LayoutView",
            "align_content": null,
            "align_items": null,
            "align_self": null,
            "border": null,
            "bottom": null,
            "display": null,
            "flex": null,
            "flex_flow": null,
            "grid_area": null,
            "grid_auto_columns": null,
            "grid_auto_flow": null,
            "grid_auto_rows": null,
            "grid_column": null,
            "grid_gap": null,
            "grid_row": null,
            "grid_template_areas": null,
            "grid_template_columns": null,
            "grid_template_rows": null,
            "height": null,
            "justify_content": null,
            "justify_items": null,
            "left": null,
            "margin": null,
            "max_height": null,
            "max_width": null,
            "min_height": null,
            "min_width": null,
            "object_fit": null,
            "object_position": null,
            "order": null,
            "overflow": null,
            "overflow_x": null,
            "overflow_y": null,
            "padding": null,
            "right": null,
            "top": null,
            "visibility": null,
            "width": null
          }
        },
        "bb077584d06f4ed6a2223322749ce02c": {
          "model_module": "@jupyter-widgets/base",
          "model_name": "LayoutModel",
          "model_module_version": "1.2.0",
          "state": {
            "_model_module": "@jupyter-widgets/base",
            "_model_module_version": "1.2.0",
            "_model_name": "LayoutModel",
            "_view_count": null,
            "_view_module": "@jupyter-widgets/base",
            "_view_module_version": "1.2.0",
            "_view_name": "LayoutView",
            "align_content": null,
            "align_items": null,
            "align_self": null,
            "border": null,
            "bottom": null,
            "display": null,
            "flex": null,
            "flex_flow": null,
            "grid_area": null,
            "grid_auto_columns": null,
            "grid_auto_flow": null,
            "grid_auto_rows": null,
            "grid_column": null,
            "grid_gap": null,
            "grid_row": null,
            "grid_template_areas": null,
            "grid_template_columns": null,
            "grid_template_rows": null,
            "height": null,
            "justify_content": null,
            "justify_items": null,
            "left": null,
            "margin": null,
            "max_height": null,
            "max_width": null,
            "min_height": null,
            "min_width": null,
            "object_fit": null,
            "object_position": null,
            "order": null,
            "overflow": null,
            "overflow_x": null,
            "overflow_y": null,
            "padding": null,
            "right": null,
            "top": null,
            "visibility": null,
            "width": null
          }
        },
        "ccbc3c36c96d4d9ca1c5e87ec3c8d507": {
          "model_module": "@jupyter-widgets/controls",
          "model_name": "DescriptionStyleModel",
          "model_module_version": "1.5.0",
          "state": {
            "_model_module": "@jupyter-widgets/controls",
            "_model_module_version": "1.5.0",
            "_model_name": "DescriptionStyleModel",
            "_view_count": null,
            "_view_module": "@jupyter-widgets/base",
            "_view_module_version": "1.2.0",
            "_view_name": "StyleView",
            "description_width": ""
          }
        },
        "8bdf2e4f99a44362b5f38d9a1f1a49e8": {
          "model_module": "@jupyter-widgets/base",
          "model_name": "LayoutModel",
          "model_module_version": "1.2.0",
          "state": {
            "_model_module": "@jupyter-widgets/base",
            "_model_module_version": "1.2.0",
            "_model_name": "LayoutModel",
            "_view_count": null,
            "_view_module": "@jupyter-widgets/base",
            "_view_module_version": "1.2.0",
            "_view_name": "LayoutView",
            "align_content": null,
            "align_items": null,
            "align_self": null,
            "border": null,
            "bottom": null,
            "display": null,
            "flex": null,
            "flex_flow": null,
            "grid_area": null,
            "grid_auto_columns": null,
            "grid_auto_flow": null,
            "grid_auto_rows": null,
            "grid_column": null,
            "grid_gap": null,
            "grid_row": null,
            "grid_template_areas": null,
            "grid_template_columns": null,
            "grid_template_rows": null,
            "height": null,
            "justify_content": null,
            "justify_items": null,
            "left": null,
            "margin": null,
            "max_height": null,
            "max_width": null,
            "min_height": null,
            "min_width": null,
            "object_fit": null,
            "object_position": null,
            "order": null,
            "overflow": null,
            "overflow_x": null,
            "overflow_y": null,
            "padding": null,
            "right": null,
            "top": null,
            "visibility": null,
            "width": null
          }
        },
        "48b02816134646f9b6316be62888d9eb": {
          "model_module": "@jupyter-widgets/controls",
          "model_name": "ProgressStyleModel",
          "model_module_version": "1.5.0",
          "state": {
            "_model_module": "@jupyter-widgets/controls",
            "_model_module_version": "1.5.0",
            "_model_name": "ProgressStyleModel",
            "_view_count": null,
            "_view_module": "@jupyter-widgets/base",
            "_view_module_version": "1.2.0",
            "_view_name": "StyleView",
            "bar_color": null,
            "description_width": ""
          }
        },
        "da2918855f40492e8e75efbf97675303": {
          "model_module": "@jupyter-widgets/base",
          "model_name": "LayoutModel",
          "model_module_version": "1.2.0",
          "state": {
            "_model_module": "@jupyter-widgets/base",
            "_model_module_version": "1.2.0",
            "_model_name": "LayoutModel",
            "_view_count": null,
            "_view_module": "@jupyter-widgets/base",
            "_view_module_version": "1.2.0",
            "_view_name": "LayoutView",
            "align_content": null,
            "align_items": null,
            "align_self": null,
            "border": null,
            "bottom": null,
            "display": null,
            "flex": null,
            "flex_flow": null,
            "grid_area": null,
            "grid_auto_columns": null,
            "grid_auto_flow": null,
            "grid_auto_rows": null,
            "grid_column": null,
            "grid_gap": null,
            "grid_row": null,
            "grid_template_areas": null,
            "grid_template_columns": null,
            "grid_template_rows": null,
            "height": null,
            "justify_content": null,
            "justify_items": null,
            "left": null,
            "margin": null,
            "max_height": null,
            "max_width": null,
            "min_height": null,
            "min_width": null,
            "object_fit": null,
            "object_position": null,
            "order": null,
            "overflow": null,
            "overflow_x": null,
            "overflow_y": null,
            "padding": null,
            "right": null,
            "top": null,
            "visibility": null,
            "width": null
          }
        },
        "a63ba2452b9542249ed0b28f1360059e": {
          "model_module": "@jupyter-widgets/controls",
          "model_name": "DescriptionStyleModel",
          "model_module_version": "1.5.0",
          "state": {
            "_model_module": "@jupyter-widgets/controls",
            "_model_module_version": "1.5.0",
            "_model_name": "DescriptionStyleModel",
            "_view_count": null,
            "_view_module": "@jupyter-widgets/base",
            "_view_module_version": "1.2.0",
            "_view_name": "StyleView",
            "description_width": ""
          }
        },
        "2580e05229404ff789fd798425e6d783": {
          "model_module": "@jupyter-widgets/controls",
          "model_name": "HBoxModel",
          "model_module_version": "1.5.0",
          "state": {
            "_dom_classes": [],
            "_model_module": "@jupyter-widgets/controls",
            "_model_module_version": "1.5.0",
            "_model_name": "HBoxModel",
            "_view_count": null,
            "_view_module": "@jupyter-widgets/controls",
            "_view_module_version": "1.5.0",
            "_view_name": "HBoxView",
            "box_style": "",
            "children": [
              "IPY_MODEL_8746f0b76aa24cf5bdf907eb68c3d6f5",
              "IPY_MODEL_ec4703c899804ed2af29d7ea826180e2",
              "IPY_MODEL_6775ac630cc64849ab85b4f8076f3bca"
            ],
            "layout": "IPY_MODEL_1c754907784c452194df5517c5a029ce"
          }
        },
        "8746f0b76aa24cf5bdf907eb68c3d6f5": {
          "model_module": "@jupyter-widgets/controls",
          "model_name": "HTMLModel",
          "model_module_version": "1.5.0",
          "state": {
            "_dom_classes": [],
            "_model_module": "@jupyter-widgets/controls",
            "_model_module_version": "1.5.0",
            "_model_name": "HTMLModel",
            "_view_count": null,
            "_view_module": "@jupyter-widgets/controls",
            "_view_module_version": "1.5.0",
            "_view_name": "HTMLView",
            "description": "",
            "description_tooltip": null,
            "layout": "IPY_MODEL_c2b06f010f1047a5a8780ebc7f1c1b99",
            "placeholder": "​",
            "style": "IPY_MODEL_84f9c75f498041109a83e5fa6fc255f6",
            "value": "adapter_model.safetensors: 100%"
          }
        },
        "ec4703c899804ed2af29d7ea826180e2": {
          "model_module": "@jupyter-widgets/controls",
          "model_name": "FloatProgressModel",
          "model_module_version": "1.5.0",
          "state": {
            "_dom_classes": [],
            "_model_module": "@jupyter-widgets/controls",
            "_model_module_version": "1.5.0",
            "_model_name": "FloatProgressModel",
            "_view_count": null,
            "_view_module": "@jupyter-widgets/controls",
            "_view_module_version": "1.5.0",
            "_view_name": "ProgressView",
            "bar_style": "success",
            "description": "",
            "description_tooltip": null,
            "layout": "IPY_MODEL_21f90fefea6f41368add18dabea2a9b2",
            "max": 2052622840,
            "min": 0,
            "orientation": "horizontal",
            "style": "IPY_MODEL_653766be7ba94d9793b73cba17cb902f",
            "value": 2052622840
          }
        },
        "6775ac630cc64849ab85b4f8076f3bca": {
          "model_module": "@jupyter-widgets/controls",
          "model_name": "HTMLModel",
          "model_module_version": "1.5.0",
          "state": {
            "_dom_classes": [],
            "_model_module": "@jupyter-widgets/controls",
            "_model_module_version": "1.5.0",
            "_model_name": "HTMLModel",
            "_view_count": null,
            "_view_module": "@jupyter-widgets/controls",
            "_view_module_version": "1.5.0",
            "_view_name": "HTMLView",
            "description": "",
            "description_tooltip": null,
            "layout": "IPY_MODEL_8f3206eef07d46829f3838b658c5a186",
            "placeholder": "​",
            "style": "IPY_MODEL_c38497eca8564c67af5836b56a061f0d",
            "value": " 2.05G/2.05G [00:50&lt;00:00, 34.6MB/s]"
          }
        },
        "1c754907784c452194df5517c5a029ce": {
          "model_module": "@jupyter-widgets/base",
          "model_name": "LayoutModel",
          "model_module_version": "1.2.0",
          "state": {
            "_model_module": "@jupyter-widgets/base",
            "_model_module_version": "1.2.0",
            "_model_name": "LayoutModel",
            "_view_count": null,
            "_view_module": "@jupyter-widgets/base",
            "_view_module_version": "1.2.0",
            "_view_name": "LayoutView",
            "align_content": null,
            "align_items": null,
            "align_self": null,
            "border": null,
            "bottom": null,
            "display": null,
            "flex": null,
            "flex_flow": null,
            "grid_area": null,
            "grid_auto_columns": null,
            "grid_auto_flow": null,
            "grid_auto_rows": null,
            "grid_column": null,
            "grid_gap": null,
            "grid_row": null,
            "grid_template_areas": null,
            "grid_template_columns": null,
            "grid_template_rows": null,
            "height": null,
            "justify_content": null,
            "justify_items": null,
            "left": null,
            "margin": null,
            "max_height": null,
            "max_width": null,
            "min_height": null,
            "min_width": null,
            "object_fit": null,
            "object_position": null,
            "order": null,
            "overflow": null,
            "overflow_x": null,
            "overflow_y": null,
            "padding": null,
            "right": null,
            "top": null,
            "visibility": null,
            "width": null
          }
        },
        "c2b06f010f1047a5a8780ebc7f1c1b99": {
          "model_module": "@jupyter-widgets/base",
          "model_name": "LayoutModel",
          "model_module_version": "1.2.0",
          "state": {
            "_model_module": "@jupyter-widgets/base",
            "_model_module_version": "1.2.0",
            "_model_name": "LayoutModel",
            "_view_count": null,
            "_view_module": "@jupyter-widgets/base",
            "_view_module_version": "1.2.0",
            "_view_name": "LayoutView",
            "align_content": null,
            "align_items": null,
            "align_self": null,
            "border": null,
            "bottom": null,
            "display": null,
            "flex": null,
            "flex_flow": null,
            "grid_area": null,
            "grid_auto_columns": null,
            "grid_auto_flow": null,
            "grid_auto_rows": null,
            "grid_column": null,
            "grid_gap": null,
            "grid_row": null,
            "grid_template_areas": null,
            "grid_template_columns": null,
            "grid_template_rows": null,
            "height": null,
            "justify_content": null,
            "justify_items": null,
            "left": null,
            "margin": null,
            "max_height": null,
            "max_width": null,
            "min_height": null,
            "min_width": null,
            "object_fit": null,
            "object_position": null,
            "order": null,
            "overflow": null,
            "overflow_x": null,
            "overflow_y": null,
            "padding": null,
            "right": null,
            "top": null,
            "visibility": null,
            "width": null
          }
        },
        "84f9c75f498041109a83e5fa6fc255f6": {
          "model_module": "@jupyter-widgets/controls",
          "model_name": "DescriptionStyleModel",
          "model_module_version": "1.5.0",
          "state": {
            "_model_module": "@jupyter-widgets/controls",
            "_model_module_version": "1.5.0",
            "_model_name": "DescriptionStyleModel",
            "_view_count": null,
            "_view_module": "@jupyter-widgets/base",
            "_view_module_version": "1.2.0",
            "_view_name": "StyleView",
            "description_width": ""
          }
        },
        "21f90fefea6f41368add18dabea2a9b2": {
          "model_module": "@jupyter-widgets/base",
          "model_name": "LayoutModel",
          "model_module_version": "1.2.0",
          "state": {
            "_model_module": "@jupyter-widgets/base",
            "_model_module_version": "1.2.0",
            "_model_name": "LayoutModel",
            "_view_count": null,
            "_view_module": "@jupyter-widgets/base",
            "_view_module_version": "1.2.0",
            "_view_name": "LayoutView",
            "align_content": null,
            "align_items": null,
            "align_self": null,
            "border": null,
            "bottom": null,
            "display": null,
            "flex": null,
            "flex_flow": null,
            "grid_area": null,
            "grid_auto_columns": null,
            "grid_auto_flow": null,
            "grid_auto_rows": null,
            "grid_column": null,
            "grid_gap": null,
            "grid_row": null,
            "grid_template_areas": null,
            "grid_template_columns": null,
            "grid_template_rows": null,
            "height": null,
            "justify_content": null,
            "justify_items": null,
            "left": null,
            "margin": null,
            "max_height": null,
            "max_width": null,
            "min_height": null,
            "min_width": null,
            "object_fit": null,
            "object_position": null,
            "order": null,
            "overflow": null,
            "overflow_x": null,
            "overflow_y": null,
            "padding": null,
            "right": null,
            "top": null,
            "visibility": null,
            "width": null
          }
        },
        "653766be7ba94d9793b73cba17cb902f": {
          "model_module": "@jupyter-widgets/controls",
          "model_name": "ProgressStyleModel",
          "model_module_version": "1.5.0",
          "state": {
            "_model_module": "@jupyter-widgets/controls",
            "_model_module_version": "1.5.0",
            "_model_name": "ProgressStyleModel",
            "_view_count": null,
            "_view_module": "@jupyter-widgets/base",
            "_view_module_version": "1.2.0",
            "_view_name": "StyleView",
            "bar_color": null,
            "description_width": ""
          }
        },
        "8f3206eef07d46829f3838b658c5a186": {
          "model_module": "@jupyter-widgets/base",
          "model_name": "LayoutModel",
          "model_module_version": "1.2.0",
          "state": {
            "_model_module": "@jupyter-widgets/base",
            "_model_module_version": "1.2.0",
            "_model_name": "LayoutModel",
            "_view_count": null,
            "_view_module": "@jupyter-widgets/base",
            "_view_module_version": "1.2.0",
            "_view_name": "LayoutView",
            "align_content": null,
            "align_items": null,
            "align_self": null,
            "border": null,
            "bottom": null,
            "display": null,
            "flex": null,
            "flex_flow": null,
            "grid_area": null,
            "grid_auto_columns": null,
            "grid_auto_flow": null,
            "grid_auto_rows": null,
            "grid_column": null,
            "grid_gap": null,
            "grid_row": null,
            "grid_template_areas": null,
            "grid_template_columns": null,
            "grid_template_rows": null,
            "height": null,
            "justify_content": null,
            "justify_items": null,
            "left": null,
            "margin": null,
            "max_height": null,
            "max_width": null,
            "min_height": null,
            "min_width": null,
            "object_fit": null,
            "object_position": null,
            "order": null,
            "overflow": null,
            "overflow_x": null,
            "overflow_y": null,
            "padding": null,
            "right": null,
            "top": null,
            "visibility": null,
            "width": null
          }
        },
        "c38497eca8564c67af5836b56a061f0d": {
          "model_module": "@jupyter-widgets/controls",
          "model_name": "DescriptionStyleModel",
          "model_module_version": "1.5.0",
          "state": {
            "_model_module": "@jupyter-widgets/controls",
            "_model_module_version": "1.5.0",
            "_model_name": "DescriptionStyleModel",
            "_view_count": null,
            "_view_module": "@jupyter-widgets/base",
            "_view_module_version": "1.2.0",
            "_view_name": "StyleView",
            "description_width": ""
          }
        },
        "3d34136b14e44a8eb16cf5c417fac548": {
          "model_module": "@jupyter-widgets/controls",
          "model_name": "HBoxModel",
          "model_module_version": "1.5.0",
          "state": {
            "_dom_classes": [],
            "_model_module": "@jupyter-widgets/controls",
            "_model_module_version": "1.5.0",
            "_model_name": "HBoxModel",
            "_view_count": null,
            "_view_module": "@jupyter-widgets/controls",
            "_view_module_version": "1.5.0",
            "_view_name": "HBoxView",
            "box_style": "",
            "children": [
              "IPY_MODEL_483059581db14f818d6af8ee51b5a99a",
              "IPY_MODEL_7903fdacf7cf435985a1caaae411cd5c",
              "IPY_MODEL_85d8a38637594f998e8207ef7aa8ca70"
            ],
            "layout": "IPY_MODEL_777c4191779f4d638b7d316ba4b86e96"
          }
        },
        "483059581db14f818d6af8ee51b5a99a": {
          "model_module": "@jupyter-widgets/controls",
          "model_name": "HTMLModel",
          "model_module_version": "1.5.0",
          "state": {
            "_dom_classes": [],
            "_model_module": "@jupyter-widgets/controls",
            "_model_module_version": "1.5.0",
            "_model_name": "HTMLModel",
            "_view_count": null,
            "_view_module": "@jupyter-widgets/controls",
            "_view_module_version": "1.5.0",
            "_view_name": "HTMLView",
            "description": "",
            "description_tooltip": null,
            "layout": "IPY_MODEL_b4ff875f34dc43b489eb02f3dc0189f4",
            "placeholder": "​",
            "style": "IPY_MODEL_0ae96074ab0d4ef58b408f05d09128f8",
            "value": "Answering Questions: 100%"
          }
        },
        "7903fdacf7cf435985a1caaae411cd5c": {
          "model_module": "@jupyter-widgets/controls",
          "model_name": "FloatProgressModel",
          "model_module_version": "1.5.0",
          "state": {
            "_dom_classes": [],
            "_model_module": "@jupyter-widgets/controls",
            "_model_module_version": "1.5.0",
            "_model_name": "FloatProgressModel",
            "_view_count": null,
            "_view_module": "@jupyter-widgets/controls",
            "_view_module_version": "1.5.0",
            "_view_name": "ProgressView",
            "bar_style": "success",
            "description": "",
            "description_tooltip": null,
            "layout": "IPY_MODEL_b427b65ea03f4aa59a4cbcaf23fb6730",
            "max": 98,
            "min": 0,
            "orientation": "horizontal",
            "style": "IPY_MODEL_b04d38bedd5741eea2735a05c1f5929e",
            "value": 98
          }
        },
        "85d8a38637594f998e8207ef7aa8ca70": {
          "model_module": "@jupyter-widgets/controls",
          "model_name": "HTMLModel",
          "model_module_version": "1.5.0",
          "state": {
            "_dom_classes": [],
            "_model_module": "@jupyter-widgets/controls",
            "_model_module_version": "1.5.0",
            "_model_name": "HTMLModel",
            "_view_count": null,
            "_view_module": "@jupyter-widgets/controls",
            "_view_module_version": "1.5.0",
            "_view_name": "HTMLView",
            "description": "",
            "description_tooltip": null,
            "layout": "IPY_MODEL_edc6ea9839b94e0e82f236458bb7f314",
            "placeholder": "​",
            "style": "IPY_MODEL_5ac9ec3bcaf44d14b8611cb362bc990e",
            "value": " 98/98 [23:24&lt;00:00, 19.20s/it]"
          }
        },
        "777c4191779f4d638b7d316ba4b86e96": {
          "model_module": "@jupyter-widgets/base",
          "model_name": "LayoutModel",
          "model_module_version": "1.2.0",
          "state": {
            "_model_module": "@jupyter-widgets/base",
            "_model_module_version": "1.2.0",
            "_model_name": "LayoutModel",
            "_view_count": null,
            "_view_module": "@jupyter-widgets/base",
            "_view_module_version": "1.2.0",
            "_view_name": "LayoutView",
            "align_content": null,
            "align_items": null,
            "align_self": null,
            "border": null,
            "bottom": null,
            "display": null,
            "flex": null,
            "flex_flow": null,
            "grid_area": null,
            "grid_auto_columns": null,
            "grid_auto_flow": null,
            "grid_auto_rows": null,
            "grid_column": null,
            "grid_gap": null,
            "grid_row": null,
            "grid_template_areas": null,
            "grid_template_columns": null,
            "grid_template_rows": null,
            "height": null,
            "justify_content": null,
            "justify_items": null,
            "left": null,
            "margin": null,
            "max_height": null,
            "max_width": null,
            "min_height": null,
            "min_width": null,
            "object_fit": null,
            "object_position": null,
            "order": null,
            "overflow": null,
            "overflow_x": null,
            "overflow_y": null,
            "padding": null,
            "right": null,
            "top": null,
            "visibility": null,
            "width": null
          }
        },
        "b4ff875f34dc43b489eb02f3dc0189f4": {
          "model_module": "@jupyter-widgets/base",
          "model_name": "LayoutModel",
          "model_module_version": "1.2.0",
          "state": {
            "_model_module": "@jupyter-widgets/base",
            "_model_module_version": "1.2.0",
            "_model_name": "LayoutModel",
            "_view_count": null,
            "_view_module": "@jupyter-widgets/base",
            "_view_module_version": "1.2.0",
            "_view_name": "LayoutView",
            "align_content": null,
            "align_items": null,
            "align_self": null,
            "border": null,
            "bottom": null,
            "display": null,
            "flex": null,
            "flex_flow": null,
            "grid_area": null,
            "grid_auto_columns": null,
            "grid_auto_flow": null,
            "grid_auto_rows": null,
            "grid_column": null,
            "grid_gap": null,
            "grid_row": null,
            "grid_template_areas": null,
            "grid_template_columns": null,
            "grid_template_rows": null,
            "height": null,
            "justify_content": null,
            "justify_items": null,
            "left": null,
            "margin": null,
            "max_height": null,
            "max_width": null,
            "min_height": null,
            "min_width": null,
            "object_fit": null,
            "object_position": null,
            "order": null,
            "overflow": null,
            "overflow_x": null,
            "overflow_y": null,
            "padding": null,
            "right": null,
            "top": null,
            "visibility": null,
            "width": null
          }
        },
        "0ae96074ab0d4ef58b408f05d09128f8": {
          "model_module": "@jupyter-widgets/controls",
          "model_name": "DescriptionStyleModel",
          "model_module_version": "1.5.0",
          "state": {
            "_model_module": "@jupyter-widgets/controls",
            "_model_module_version": "1.5.0",
            "_model_name": "DescriptionStyleModel",
            "_view_count": null,
            "_view_module": "@jupyter-widgets/base",
            "_view_module_version": "1.2.0",
            "_view_name": "StyleView",
            "description_width": ""
          }
        },
        "b427b65ea03f4aa59a4cbcaf23fb6730": {
          "model_module": "@jupyter-widgets/base",
          "model_name": "LayoutModel",
          "model_module_version": "1.2.0",
          "state": {
            "_model_module": "@jupyter-widgets/base",
            "_model_module_version": "1.2.0",
            "_model_name": "LayoutModel",
            "_view_count": null,
            "_view_module": "@jupyter-widgets/base",
            "_view_module_version": "1.2.0",
            "_view_name": "LayoutView",
            "align_content": null,
            "align_items": null,
            "align_self": null,
            "border": null,
            "bottom": null,
            "display": null,
            "flex": null,
            "flex_flow": null,
            "grid_area": null,
            "grid_auto_columns": null,
            "grid_auto_flow": null,
            "grid_auto_rows": null,
            "grid_column": null,
            "grid_gap": null,
            "grid_row": null,
            "grid_template_areas": null,
            "grid_template_columns": null,
            "grid_template_rows": null,
            "height": null,
            "justify_content": null,
            "justify_items": null,
            "left": null,
            "margin": null,
            "max_height": null,
            "max_width": null,
            "min_height": null,
            "min_width": null,
            "object_fit": null,
            "object_position": null,
            "order": null,
            "overflow": null,
            "overflow_x": null,
            "overflow_y": null,
            "padding": null,
            "right": null,
            "top": null,
            "visibility": null,
            "width": null
          }
        },
        "b04d38bedd5741eea2735a05c1f5929e": {
          "model_module": "@jupyter-widgets/controls",
          "model_name": "ProgressStyleModel",
          "model_module_version": "1.5.0",
          "state": {
            "_model_module": "@jupyter-widgets/controls",
            "_model_module_version": "1.5.0",
            "_model_name": "ProgressStyleModel",
            "_view_count": null,
            "_view_module": "@jupyter-widgets/base",
            "_view_module_version": "1.2.0",
            "_view_name": "StyleView",
            "bar_color": null,
            "description_width": ""
          }
        },
        "edc6ea9839b94e0e82f236458bb7f314": {
          "model_module": "@jupyter-widgets/base",
          "model_name": "LayoutModel",
          "model_module_version": "1.2.0",
          "state": {
            "_model_module": "@jupyter-widgets/base",
            "_model_module_version": "1.2.0",
            "_model_name": "LayoutModel",
            "_view_count": null,
            "_view_module": "@jupyter-widgets/base",
            "_view_module_version": "1.2.0",
            "_view_name": "LayoutView",
            "align_content": null,
            "align_items": null,
            "align_self": null,
            "border": null,
            "bottom": null,
            "display": null,
            "flex": null,
            "flex_flow": null,
            "grid_area": null,
            "grid_auto_columns": null,
            "grid_auto_flow": null,
            "grid_auto_rows": null,
            "grid_column": null,
            "grid_gap": null,
            "grid_row": null,
            "grid_template_areas": null,
            "grid_template_columns": null,
            "grid_template_rows": null,
            "height": null,
            "justify_content": null,
            "justify_items": null,
            "left": null,
            "margin": null,
            "max_height": null,
            "max_width": null,
            "min_height": null,
            "min_width": null,
            "object_fit": null,
            "object_position": null,
            "order": null,
            "overflow": null,
            "overflow_x": null,
            "overflow_y": null,
            "padding": null,
            "right": null,
            "top": null,
            "visibility": null,
            "width": null
          }
        },
        "5ac9ec3bcaf44d14b8611cb362bc990e": {
          "model_module": "@jupyter-widgets/controls",
          "model_name": "DescriptionStyleModel",
          "model_module_version": "1.5.0",
          "state": {
            "_model_module": "@jupyter-widgets/controls",
            "_model_module_version": "1.5.0",
            "_model_name": "DescriptionStyleModel",
            "_view_count": null,
            "_view_module": "@jupyter-widgets/base",
            "_view_module_version": "1.2.0",
            "_view_name": "StyleView",
            "description_width": ""
          }
        }
      }
    }
  },
  "nbformat": 4,
  "nbformat_minor": 0
}